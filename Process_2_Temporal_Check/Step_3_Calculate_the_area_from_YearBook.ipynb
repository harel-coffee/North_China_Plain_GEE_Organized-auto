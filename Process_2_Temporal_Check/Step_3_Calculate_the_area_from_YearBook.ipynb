{
 "cells": [
  {
   "cell_type": "code",
   "execution_count": 1,
   "metadata": {},
   "outputs": [],
   "source": [
    "import pandas as pd\n",
    "import numpy as np\n",
    "import matplotlib.pyplot as plt\n",
    "import seaborn as sns\n",
    "\n",
    "import ee\n",
    "from functools import reduce"
   ]
  },
  {
   "cell_type": "code",
   "execution_count": null,
   "metadata": {},
   "outputs": [],
   "source": []
  },
  {
   "cell_type": "code",
   "execution_count": 2,
   "metadata": {},
   "outputs": [],
   "source": [
    "ee.Initialize()"
   ]
  },
  {
   "cell_type": "code",
   "execution_count": 3,
   "metadata": {},
   "outputs": [],
   "source": [
    "city_names = pd.read_excel('./Data_Year_book_Area/North_China_Plain_city_name.xlsx')['CityName'].values"
   ]
  },
  {
   "cell_type": "code",
   "execution_count": 4,
   "metadata": {},
   "outputs": [],
   "source": [
    "# define basic parameters, here we omitte the 1990_1992 beacaue \n",
    "# such year book is not avaliable\n",
    "year_range = [f'{i}_{i+2}' for i in range(1993,2020,3)]"
   ]
  },
  {
   "cell_type": "code",
   "execution_count": 5,
   "metadata": {},
   "outputs": [
    {
     "data": {
      "text/plain": [
       "['1993_1995',\n",
       " '1996_1998',\n",
       " '1999_2001',\n",
       " '2002_2004',\n",
       " '2005_2007',\n",
       " '2008_2010',\n",
       " '2011_2013',\n",
       " '2014_2016',\n",
       " '2017_2019']"
      ]
     },
     "execution_count": 5,
     "metadata": {},
     "output_type": "execute_result"
    }
   ],
   "source": [
    "year_range"
   ]
  },
  {
   "cell_type": "code",
   "execution_count": null,
   "metadata": {},
   "outputs": [],
   "source": []
  },
  {
   "cell_type": "markdown",
   "metadata": {},
   "source": [
    "##### Step_1: Read and format the built-up area from year_book data"
   ]
  },
  {
   "cell_type": "code",
   "execution_count": null,
   "metadata": {},
   "outputs": [],
   "source": []
  },
  {
   "cell_type": "code",
   "execution_count": 6,
   "metadata": {},
   "outputs": [],
   "source": [
    "year_data = []\n",
    "\n",
    "for i in range(1995,2020,3):\n",
    "    area_df = pd.read_excel(f'./Data_Year_book_Area/YearBook_Built_up_Area_{i}.xlsx')\n",
    "    area_filter = area_df[area_df['城市'].isin(city_names)]\n",
    "    year_data.append(area_filter)"
   ]
  },
  {
   "cell_type": "code",
   "execution_count": null,
   "metadata": {},
   "outputs": [],
   "source": []
  },
  {
   "cell_type": "code",
   "execution_count": 7,
   "metadata": {},
   "outputs": [],
   "source": [
    "# stack all df together\n",
    "Year_book_area = reduce(lambda left,right: pd.merge(left,right,on='城市'), year_data)\n",
    "\n",
    "# rename the columns, here we convert the year to year_range for later comparison\n",
    "Year_book_area.columns = ['Name_CN','Name_EN'] + [f'{i-2}_{i}' for i in list(range(1995,2020,3))]\n",
    "\n",
    "# convert the df to long format\n",
    "Year_book_area_indexed = Year_book_area.set_index(['Name_CN','Name_EN'])\n",
    "Year_book_area_long = pd.DataFrame(Year_book_area_indexed.stack()).reset_index()\n",
    "Year_book_area_long.columns = ['Name_CN','Name_EN','year_range','Area_Year_Book']"
   ]
  },
  {
   "cell_type": "code",
   "execution_count": null,
   "metadata": {},
   "outputs": [],
   "source": []
  },
  {
   "cell_type": "markdown",
   "metadata": {},
   "source": [
    "##### Step_2: calculate the area from classification results"
   ]
  },
  {
   "cell_type": "code",
   "execution_count": 8,
   "metadata": {},
   "outputs": [],
   "source": [
    "North_china_plain_city = ee.FeatureCollection(\"users/wangjinzhulala/North_China_Plain_Python/Boundary_shp/North_China_Plain_city_boundary\")"
   ]
  },
  {
   "cell_type": "code",
   "execution_count": 9,
   "metadata": {},
   "outputs": [],
   "source": [
    "# get the classification of this study\n",
    "My_img = ee.Image(\"users/wangjinzhulala/North_China_Plain_Python/classificatioin_temporal_checked/Mosaic_only_forward\")"
   ]
  },
  {
   "cell_type": "code",
   "execution_count": 10,
   "metadata": {},
   "outputs": [],
   "source": [
    "# construc year:value dict to dilineate the value from mosaiced classifications\n",
    "My_value = dict(zip(year_range,range(9,0,-1)))"
   ]
  },
  {
   "cell_type": "code",
   "execution_count": null,
   "metadata": {},
   "outputs": [],
   "source": []
  },
  {
   "cell_type": "code",
   "execution_count": 11,
   "metadata": {},
   "outputs": [
    {
     "name": "stdout",
     "output_type": "stream",
     "text": [
      "Area calculation of 1993_1995 finished!\n",
      "Area calculation of 1996_1998 finished!\n",
      "Area calculation of 1999_2001 finished!\n",
      "Area calculation of 2002_2004 finished!\n",
      "Area calculation of 2005_2007 finished!\n",
      "Area calculation of 2008_2010 finished!\n",
      "Area calculation of 2011_2013 finished!\n",
      "Area calculation of 2014_2016 finished!\n",
      "Area calculation of 2017_2019 finished!\n"
     ]
    }
   ],
   "source": [
    "# initiate an empty list to hold the result\n",
    "Stats_df_list = []\n",
    "\n",
    "for year in year_range:\n",
    "\n",
    "    \n",
    "    # get the classificaiton\n",
    "    img_my   = ee.Image(My_img.gte(My_value[year]))\n",
    "             \n",
    "    # get the pixel count of my classifications\n",
    "    Stats_my   = img_my.reduceRegions(reducer     = ee.Reducer.sum(), \n",
    "                                      collection  = North_china_plain_city, \n",
    "                                      scale       = 30,\n",
    "                                      tileScale   = 1).select(['CityNameC','sum']).getInfo()\n",
    "    \n",
    "    # get the province and pixel-count \n",
    "    area_df = pd.DataFrame([i['properties'] for i in Stats_my['features']])\n",
    "    area_df['year'] = year\n",
    "    area_df.columns = ['Name_CN','Area_pixel','year_range']\n",
    "\n",
    "    # append the area_sum to df_list\n",
    "    Stats_df_list.append(area_df)\n",
    "\n",
    "    # print out the process\n",
    "    print(f'Area calculation of {year} finished!')"
   ]
  },
  {
   "cell_type": "code",
   "execution_count": null,
   "metadata": {},
   "outputs": [],
   "source": []
  },
  {
   "cell_type": "markdown",
   "metadata": {},
   "source": [
    "##### Step_3: make the plot"
   ]
  },
  {
   "cell_type": "code",
   "execution_count": null,
   "metadata": {},
   "outputs": [],
   "source": []
  },
  {
   "cell_type": "code",
   "execution_count": 16,
   "metadata": {},
   "outputs": [],
   "source": [
    "# get the area form the df list\n",
    "Area_GEE = pd.concat(Stats_df_list)\n",
    "\n",
    "# merge the Year_book and GEE_are together\n",
    "Area_to_compare = pd.merge(left=Year_book_area_long,right=Area_GEE,on=['year_range','Name_CN'])\n",
    "\n",
    "# calculate the Area in km2\n",
    "Area_to_compare['Area_pixel_km2'] = Area_to_compare['Area_pixel'] *30*30/1000/1000"
   ]
  },
  {
   "cell_type": "code",
   "execution_count": 14,
   "metadata": {},
   "outputs": [],
   "source": [
    "# save the comparision_df to disk\n",
    "Area_to_compare.to_csv('./Result/Area_compare_Year_Book.csv',index=False)\n",
    "\n",
    "# read csv\n",
    "Area_to_compare = pd.read_csv('./Result/Area_compare_Year_Book.csv')"
   ]
  },
  {
   "cell_type": "code",
   "execution_count": null,
   "metadata": {},
   "outputs": [],
   "source": []
  },
  {
   "cell_type": "code",
   "execution_count": 15,
   "metadata": {},
   "outputs": [
    {
     "data": {
      "text/html": [
       "<div>\n",
       "<style scoped>\n",
       "    .dataframe tbody tr th:only-of-type {\n",
       "        vertical-align: middle;\n",
       "    }\n",
       "\n",
       "    .dataframe tbody tr th {\n",
       "        vertical-align: top;\n",
       "    }\n",
       "\n",
       "    .dataframe thead th {\n",
       "        text-align: right;\n",
       "    }\n",
       "</style>\n",
       "<table border=\"1\" class=\"dataframe\">\n",
       "  <thead>\n",
       "    <tr style=\"text-align: right;\">\n",
       "      <th></th>\n",
       "      <th>Name_CN</th>\n",
       "      <th>Name_EN</th>\n",
       "      <th>year_range</th>\n",
       "      <th>Area_Year_Book</th>\n",
       "      <th>Area_pixel</th>\n",
       "      <th>Area_pixel_km2</th>\n",
       "    </tr>\n",
       "  </thead>\n",
       "  <tbody>\n",
       "    <tr>\n",
       "      <th>0</th>\n",
       "      <td>北京市</td>\n",
       "      <td>Beijing</td>\n",
       "      <td>1993_1995</td>\n",
       "      <td>467.0</td>\n",
       "      <td>1.100963e+06</td>\n",
       "      <td>990.866887</td>\n",
       "    </tr>\n",
       "    <tr>\n",
       "      <th>1</th>\n",
       "      <td>北京市</td>\n",
       "      <td>Beijing</td>\n",
       "      <td>1996_1998</td>\n",
       "      <td>488.0</td>\n",
       "      <td>1.290032e+06</td>\n",
       "      <td>1161.028578</td>\n",
       "    </tr>\n",
       "    <tr>\n",
       "      <th>2</th>\n",
       "      <td>北京市</td>\n",
       "      <td>Beijing</td>\n",
       "      <td>1999_2001</td>\n",
       "      <td>488.0</td>\n",
       "      <td>1.404240e+06</td>\n",
       "      <td>1263.815936</td>\n",
       "    </tr>\n",
       "    <tr>\n",
       "      <th>3</th>\n",
       "      <td>北京市</td>\n",
       "      <td>Beijing</td>\n",
       "      <td>2002_2004</td>\n",
       "      <td>1180.0</td>\n",
       "      <td>1.890004e+06</td>\n",
       "      <td>1701.003593</td>\n",
       "    </tr>\n",
       "    <tr>\n",
       "      <th>4</th>\n",
       "      <td>北京市</td>\n",
       "      <td>Beijing</td>\n",
       "      <td>2005_2007</td>\n",
       "      <td>1226.0</td>\n",
       "      <td>2.111570e+06</td>\n",
       "      <td>1900.412986</td>\n",
       "    </tr>\n",
       "    <tr>\n",
       "      <th>...</th>\n",
       "      <td>...</td>\n",
       "      <td>...</td>\n",
       "      <td>...</td>\n",
       "      <td>...</td>\n",
       "      <td>...</td>\n",
       "      <td>...</td>\n",
       "    </tr>\n",
       "    <tr>\n",
       "      <th>602</th>\n",
       "      <td>驻马店市</td>\n",
       "      <td>Zhumadian</td>\n",
       "      <td>2005_2007</td>\n",
       "      <td>45.0</td>\n",
       "      <td>1.747957e+06</td>\n",
       "      <td>1573.161272</td>\n",
       "    </tr>\n",
       "    <tr>\n",
       "      <th>603</th>\n",
       "      <td>驻马店市</td>\n",
       "      <td>Zhumadian</td>\n",
       "      <td>2008_2010</td>\n",
       "      <td>49.0</td>\n",
       "      <td>1.829860e+06</td>\n",
       "      <td>1646.874367</td>\n",
       "    </tr>\n",
       "    <tr>\n",
       "      <th>604</th>\n",
       "      <td>驻马店市</td>\n",
       "      <td>Zhumadian</td>\n",
       "      <td>2011_2013</td>\n",
       "      <td>65.0</td>\n",
       "      <td>2.066476e+06</td>\n",
       "      <td>1859.828520</td>\n",
       "    </tr>\n",
       "    <tr>\n",
       "      <th>605</th>\n",
       "      <td>驻马店市</td>\n",
       "      <td>Zhumadian</td>\n",
       "      <td>2014_2016</td>\n",
       "      <td>75.0</td>\n",
       "      <td>2.554744e+06</td>\n",
       "      <td>2299.269307</td>\n",
       "    </tr>\n",
       "    <tr>\n",
       "      <th>606</th>\n",
       "      <td>驻马店市</td>\n",
       "      <td>Zhumadian</td>\n",
       "      <td>2017_2019</td>\n",
       "      <td>90.0</td>\n",
       "      <td>3.075933e+06</td>\n",
       "      <td>2768.339389</td>\n",
       "    </tr>\n",
       "  </tbody>\n",
       "</table>\n",
       "<p>607 rows × 6 columns</p>\n",
       "</div>"
      ],
      "text/plain": [
       "    Name_CN    Name_EN year_range  Area_Year_Book    Area_pixel  \\\n",
       "0       北京市    Beijing  1993_1995           467.0  1.100963e+06   \n",
       "1       北京市    Beijing  1996_1998           488.0  1.290032e+06   \n",
       "2       北京市    Beijing  1999_2001           488.0  1.404240e+06   \n",
       "3       北京市    Beijing  2002_2004          1180.0  1.890004e+06   \n",
       "4       北京市    Beijing  2005_2007          1226.0  2.111570e+06   \n",
       "..      ...        ...        ...             ...           ...   \n",
       "602    驻马店市  Zhumadian  2005_2007            45.0  1.747957e+06   \n",
       "603    驻马店市  Zhumadian  2008_2010            49.0  1.829860e+06   \n",
       "604    驻马店市  Zhumadian  2011_2013            65.0  2.066476e+06   \n",
       "605    驻马店市  Zhumadian  2014_2016            75.0  2.554744e+06   \n",
       "606    驻马店市  Zhumadian  2017_2019            90.0  3.075933e+06   \n",
       "\n",
       "     Area_pixel_km2  \n",
       "0        990.866887  \n",
       "1       1161.028578  \n",
       "2       1263.815936  \n",
       "3       1701.003593  \n",
       "4       1900.412986  \n",
       "..              ...  \n",
       "602     1573.161272  \n",
       "603     1646.874367  \n",
       "604     1859.828520  \n",
       "605     2299.269307  \n",
       "606     2768.339389  \n",
       "\n",
       "[607 rows x 6 columns]"
      ]
     },
     "execution_count": 15,
     "metadata": {},
     "output_type": "execute_result"
    }
   ],
   "source": [
    "Area_to_compare"
   ]
  },
  {
   "cell_type": "code",
   "execution_count": null,
   "metadata": {},
   "outputs": [],
   "source": []
  },
  {
   "cell_type": "code",
   "execution_count": 17,
   "metadata": {},
   "outputs": [
    {
     "data": {
      "image/png": "[encoded data removed]",
      "text/plain": [
       "<Figure size 864x576 with 1 Axes>"
      ]
     },
     "metadata": {
      "needs_background": "light"
     },
     "output_type": "display_data"
    }
   ],
   "source": [
    "plt.figure(figsize=(12,8))\n",
    "\n",
    "sns.lineplot(data=Area_to_compare,\n",
    "            x='year_range',\n",
    "            y = 'Area_Year_Book',\n",
    "            label = 'Year Book')\n",
    "\n",
    "sns.lineplot(data=Area_to_compare,\n",
    "            x='year_range',\n",
    "            y = 'Area_pixel_km2',\n",
    "            label = 'Classification')\n",
    "\n",
    "plt.yscale('log')"
   ]
  },
  {
   "cell_type": "code",
   "execution_count": null,
   "metadata": {},
   "outputs": [],
   "source": []
  },
  {
   "cell_type": "code",
   "execution_count": null,
   "metadata": {},
   "outputs": [],
   "source": []
  },
  {
   "cell_type": "markdown",
   "metadata": {},
   "source": [
    "##### Compute the R2 and coeficiencts of each city using linear regression"
   ]
  },
  {
   "cell_type": "code",
   "execution_count": 18,
   "metadata": {},
   "outputs": [],
   "source": [
    "from sklearn.linear_model import LinearRegression\n",
    "from sklearn.metrics import r2_score\n",
    "\n",
    "Fit_para = {}\n",
    "\n",
    "for name in Area_to_compare['Name_EN'].unique():\n",
    "    \n",
    "    # subset each city from the compare_df\n",
    "    df = Area_to_compare[Area_to_compare['Name_EN'] == name]\n",
    "    X = df['Area_pixel_km2'].values.reshape([-1,1])\n",
    "    y = df['Area_Year_Book'].values.reshape([-1,1])\n",
    "    \n",
    "    # get the linear modle and use the model to predict the X\n",
    "    linear_modle = LinearRegression().fit(X, y)\n",
    "    pred = linear_modle.predict(X)\n",
    "    \n",
    "    # get parameters\n",
    "    slope = linear_modle.coef_\n",
    "    intercept = linear_modle.intercept_\n",
    "    r2 = r2_score(y,pred)\n",
    "    \n",
    "    # store all parameters in the dict\n",
    "    Fit_para[(name,'slope')] = slope[0]\n",
    "    Fit_para[(name,'intercept')] = [intercept][0]\n",
    "    Fit_para[(name,'r2')] = [r2]\n"
   ]
  },
  {
   "cell_type": "code",
   "execution_count": null,
   "metadata": {},
   "outputs": [],
   "source": []
  },
  {
   "cell_type": "code",
   "execution_count": 19,
   "metadata": {},
   "outputs": [],
   "source": [
    "Fit_df = pd.DataFrame(Fit_para).T.reset_index()\n",
    "Fit_df.columns = ['City','para','value']"
   ]
  },
  {
   "cell_type": "code",
   "execution_count": null,
   "metadata": {},
   "outputs": [],
   "source": []
  },
  {
   "cell_type": "code",
   "execution_count": 20,
   "metadata": {},
   "outputs": [
    {
     "data": {
      "text/html": [
       "<div>\n",
       "<style scoped>\n",
       "    .dataframe tbody tr th:only-of-type {\n",
       "        vertical-align: middle;\n",
       "    }\n",
       "\n",
       "    .dataframe tbody tr th {\n",
       "        vertical-align: top;\n",
       "    }\n",
       "\n",
       "    .dataframe thead th {\n",
       "        text-align: right;\n",
       "    }\n",
       "</style>\n",
       "<table border=\"1\" class=\"dataframe\">\n",
       "  <thead>\n",
       "    <tr style=\"text-align: right;\">\n",
       "      <th></th>\n",
       "      <th>City</th>\n",
       "      <th>para</th>\n",
       "      <th>value</th>\n",
       "    </tr>\n",
       "  </thead>\n",
       "  <tbody>\n",
       "    <tr>\n",
       "      <th>2</th>\n",
       "      <td>Beijing</td>\n",
       "      <td>r2</td>\n",
       "      <td>0.822579</td>\n",
       "    </tr>\n",
       "    <tr>\n",
       "      <th>5</th>\n",
       "      <td>Tianjin</td>\n",
       "      <td>r2</td>\n",
       "      <td>0.986059</td>\n",
       "    </tr>\n",
       "    <tr>\n",
       "      <th>8</th>\n",
       "      <td>Shijiazhuang</td>\n",
       "      <td>r2</td>\n",
       "      <td>0.986232</td>\n",
       "    </tr>\n",
       "    <tr>\n",
       "      <th>11</th>\n",
       "      <td>Tangshan</td>\n",
       "      <td>r2</td>\n",
       "      <td>0.801520</td>\n",
       "    </tr>\n",
       "    <tr>\n",
       "      <th>14</th>\n",
       "      <td>Handan</td>\n",
       "      <td>r2</td>\n",
       "      <td>0.884144</td>\n",
       "    </tr>\n",
       "    <tr>\n",
       "      <th>...</th>\n",
       "      <td>...</td>\n",
       "      <td>...</td>\n",
       "      <td>...</td>\n",
       "    </tr>\n",
       "    <tr>\n",
       "      <th>191</th>\n",
       "      <td>Nanyang</td>\n",
       "      <td>r2</td>\n",
       "      <td>0.888312</td>\n",
       "    </tr>\n",
       "    <tr>\n",
       "      <th>194</th>\n",
       "      <td>Shangqiu</td>\n",
       "      <td>r2</td>\n",
       "      <td>0.758897</td>\n",
       "    </tr>\n",
       "    <tr>\n",
       "      <th>197</th>\n",
       "      <td>Xinyang</td>\n",
       "      <td>r2</td>\n",
       "      <td>0.970524</td>\n",
       "    </tr>\n",
       "    <tr>\n",
       "      <th>200</th>\n",
       "      <td>Zhoukou</td>\n",
       "      <td>r2</td>\n",
       "      <td>0.970612</td>\n",
       "    </tr>\n",
       "    <tr>\n",
       "      <th>203</th>\n",
       "      <td>Zhumadian</td>\n",
       "      <td>r2</td>\n",
       "      <td>0.913873</td>\n",
       "    </tr>\n",
       "  </tbody>\n",
       "</table>\n",
       "<p>68 rows × 3 columns</p>\n",
       "</div>"
      ],
      "text/plain": [
       "             City para     value\n",
       "2         Beijing   r2  0.822579\n",
       "5         Tianjin   r2  0.986059\n",
       "8    Shijiazhuang   r2  0.986232\n",
       "11       Tangshan   r2  0.801520\n",
       "14         Handan   r2  0.884144\n",
       "..            ...  ...       ...\n",
       "191       Nanyang   r2  0.888312\n",
       "194      Shangqiu   r2  0.758897\n",
       "197       Xinyang   r2  0.970524\n",
       "200       Zhoukou   r2  0.970612\n",
       "203     Zhumadian   r2  0.913873\n",
       "\n",
       "[68 rows x 3 columns]"
      ]
     },
     "execution_count": 20,
     "metadata": {},
     "output_type": "execute_result"
    },
    {
     "data": {
      "text/plain": [
       "<Figure size 864x576 with 0 Axes>"
      ]
     },
     "metadata": {},
     "output_type": "display_data"
    }
   ],
   "source": [
    "plt.figure(figsize=(12,8))\n",
    "df = Fit_df[Fit_df['para']=='r2']\n",
    "df"
   ]
  },
  {
   "cell_type": "code",
   "execution_count": null,
   "metadata": {},
   "outputs": [],
   "source": []
  },
  {
   "cell_type": "code",
   "execution_count": 21,
   "metadata": {},
   "outputs": [
    {
     "data": {
      "text/plain": [
       "<matplotlib.axes._subplots.AxesSubplot at 0x18ad2361ba8>"
      ]
     },
     "execution_count": 21,
     "metadata": {},
     "output_type": "execute_result"
    },
    {
     "data": {
      "image/png": "[encoded data removed]",
      "text/plain": [
       "<Figure size 864x576 with 1 Axes>"
      ]
     },
     "metadata": {
      "needs_background": "light"
     },
     "output_type": "display_data"
    }
   ],
   "source": [
    "plt.figure(figsize=(12,8))\n",
    "sns.distplot(df['value'])"
   ]
  },
  {
   "cell_type": "code",
   "execution_count": null,
   "metadata": {},
   "outputs": [],
   "source": []
  },
  {
   "cell_type": "code",
   "execution_count": null,
   "metadata": {},
   "outputs": [],
   "source": []
  },
  {
   "cell_type": "code",
   "execution_count": null,
   "metadata": {},
   "outputs": [],
   "source": []
  },
  {
   "cell_type": "code",
   "execution_count": null,
   "metadata": {},
   "outputs": [],
   "source": []
  },
  {
   "cell_type": "code",
   "execution_count": null,
   "metadata": {},
   "outputs": [],
   "source": []
  },
  {
   "cell_type": "code",
   "execution_count": null,
   "metadata": {},
   "outputs": [],
   "source": []
  }
 ],
 "metadata": {
  "kernelspec": {
   "display_name": "Python 3",
   "language": "python",
   "name": "python3"
  },
  "language_info": {
   "codemirror_mode": {
    "name": "ipython",
    "version": 3
   },
   "file_extension": ".py",
   "mimetype": "text/x-python",
   "name": "python",
   "nbconvert_exporter": "python",
   "pygments_lexer": "ipython3",
   "version": "3.7.3"
  }
 },
 "nbformat": 4,
 "nbformat_minor": 2
}
