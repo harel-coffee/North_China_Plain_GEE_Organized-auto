{
 "cells": [
  {
   "cell_type": "code",
   "execution_count": 1,
   "metadata": {},
   "outputs": [],
   "source": [
    "import ee\n",
    "import datetime\n",
    "import os\n",
    "import itertools\n",
    "import sys\n",
    "\n",
    "from pprint import pprint\n",
    "import pandas as pd\n",
    "import numpy as np\n",
    "import seaborn as sns\n",
    "import matplotlib.pyplot as plt\n",
    "\n",
    "import geemap\n",
    "\n",
    "import subprocess\n",
    "from subprocess import PIPE"
   ]
  },
  {
   "cell_type": "code",
   "execution_count": 2,
   "metadata": {},
   "outputs": [],
   "source": [
    "ee.Initialize()"
   ]
  },
  {
   "cell_type": "code",
   "execution_count": 3,
   "metadata": {},
   "outputs": [],
   "source": [
    "# define basic parameters\n",
    "year_range = [f'{i}_{i+2}' for i in range(1990,2020,3)]"
   ]
  },
  {
   "cell_type": "code",
   "execution_count": 4,
   "metadata": {},
   "outputs": [
    {
     "data": {
      "text/plain": [
       "['1990_1992',\n",
       " '1993_1995',\n",
       " '1996_1998',\n",
       " '1999_2001',\n",
       " '2002_2004',\n",
       " '2005_2007',\n",
       " '2008_2010',\n",
       " '2011_2013',\n",
       " '2014_2016',\n",
       " '2017_2019']"
      ]
     },
     "execution_count": 4,
     "metadata": {},
     "output_type": "execute_result"
    }
   ],
   "source": [
    "year_range"
   ]
  },
  {
   "cell_type": "code",
   "execution_count": 5,
   "metadata": {},
   "outputs": [],
   "source": [
    "North_China_Plain = ee.FeatureCollection(\"users/wangjinzhulala/North_China_Plain_Python/Boundary_shp/North_China_Plain_Boundary\")"
   ]
  },
  {
   "cell_type": "code",
   "execution_count": null,
   "metadata": {},
   "outputs": [],
   "source": []
  },
  {
   "cell_type": "markdown",
   "metadata": {},
   "source": [
    "### calculate the area change of the classification"
   ]
  },
  {
   "cell_type": "code",
   "execution_count": null,
   "metadata": {},
   "outputs": [],
   "source": []
  },
  {
   "cell_type": "markdown",
   "metadata": {},
   "source": [
    "##### Import my result, GAIA and GIP_2015 "
   ]
  },
  {
   "cell_type": "code",
   "execution_count": 6,
   "metadata": {},
   "outputs": [],
   "source": [
    "# get the GAIA classification product\n",
    "GAIA_img = ee.Image(\"users/wangjinzhulala/North_China_Plain_Python/Reference_classification/GAIA_NCP\")\n",
    "\n",
    "# get the Global Impervious Surface of 2015\n",
    "GIP_2015 = ee.Image(\"users/wangjinzhulala/North_China_Plain_Python/Reference_classification/Global_Impervious_Surface_2015_NCP\")\\\n",
    "             .remap([1,2],[0,1]).rename('b1')\n",
    "\n",
    "# define the modes\n",
    "modes = ['forward_backward','backward_forward','only_forward','only_backward']"
   ]
  },
  {
   "cell_type": "code",
   "execution_count": null,
   "metadata": {},
   "outputs": [],
   "source": []
  },
  {
   "cell_type": "markdown",
   "metadata": {},
   "source": [
    "##### Calculate the area change from my product"
   ]
  },
  {
   "cell_type": "code",
   "execution_count": 7,
   "metadata": {
    "scrolled": true
   },
   "outputs": [
    {
     "name": "stdout",
     "output_type": "stream",
     "text": [
      "forward_backward_1990_1992 finished!\n",
      "forward_backward_1993_1995 finished!\n",
      "forward_backward_1996_1998 finished!\n",
      "forward_backward_1999_2001 finished!\n",
      "forward_backward_2002_2004 finished!\n",
      "forward_backward_2005_2007 finished!\n",
      "forward_backward_2008_2010 finished!\n",
      "forward_backward_2011_2013 finished!\n",
      "forward_backward_2014_2016 finished!\n",
      "forward_backward_2017_2019 finished!\n",
      "backward_forward_1990_1992 finished!\n",
      "backward_forward_1993_1995 finished!\n",
      "backward_forward_1996_1998 finished!\n",
      "backward_forward_1999_2001 finished!\n",
      "backward_forward_2002_2004 finished!\n",
      "backward_forward_2005_2007 finished!\n",
      "backward_forward_2008_2010 finished!\n",
      "backward_forward_2011_2013 finished!\n",
      "backward_forward_2014_2016 finished!\n",
      "backward_forward_2017_2019 finished!\n",
      "only_forward_1990_1992 finished!\n",
      "only_forward_1993_1995 finished!\n",
      "only_forward_1996_1998 finished!\n",
      "only_forward_1999_2001 finished!\n",
      "only_forward_2002_2004 finished!\n",
      "only_forward_2005_2007 finished!\n",
      "only_forward_2008_2010 finished!\n",
      "only_forward_2011_2013 finished!\n",
      "only_forward_2014_2016 finished!\n",
      "only_forward_2017_2019 finished!\n",
      "only_backward_1990_1992 finished!\n",
      "only_backward_1993_1995 finished!\n",
      "only_backward_1996_1998 finished!\n",
      "only_backward_1999_2001 finished!\n",
      "only_backward_2002_2004 finished!\n",
      "only_backward_2005_2007 finished!\n",
      "only_backward_2008_2010 finished!\n",
      "only_backward_2011_2013 finished!\n",
      "only_backward_2014_2016 finished!\n",
      "only_backward_2017_2019 finished!\n"
     ]
    }
   ],
   "source": [
    "Stats_my = {}\n",
    "\n",
    "for mode in modes:\n",
    "    for year in year_range:\n",
    "        img = ee.Image(f\"users/wangjinzhulala/North_China_Plain_Python/classificatioin_temporal_checked/{mode}_Window_3_It_9_{year}\")\n",
    "        \n",
    "        # get the pixel count of my classifications\n",
    "        Stats = img.reduceRegion(reducer   = ee.Reducer.sum(), \n",
    "                                 geometry  = North_China_Plain.geometry().bounds(), \n",
    "                                 scale     = 30, \n",
    "                                 maxPixels = int(1e13)).getInfo()\n",
    "\n",
    "        Stats_my[(mode,year)] = [int(Stats['b1'])]\n",
    "                                 \n",
    "        # print out the process\n",
    "        print(f'{mode}_{year} finished!')"
   ]
  },
  {
   "cell_type": "code",
   "execution_count": null,
   "metadata": {},
   "outputs": [],
   "source": []
  },
  {
   "cell_type": "code",
   "execution_count": null,
   "metadata": {},
   "outputs": [],
   "source": []
  },
  {
   "cell_type": "code",
   "execution_count": null,
   "metadata": {},
   "outputs": [],
   "source": []
  },
  {
   "cell_type": "code",
   "execution_count": 17,
   "metadata": {},
   "outputs": [
    {
     "data": {
      "text/html": [
       "<div>\n",
       "<style scoped>\n",
       "    .dataframe tbody tr th:only-of-type {\n",
       "        vertical-align: middle;\n",
       "    }\n",
       "\n",
       "    .dataframe tbody tr th {\n",
       "        vertical-align: top;\n",
       "    }\n",
       "\n",
       "    .dataframe thead th {\n",
       "        text-align: right;\n",
       "    }\n",
       "</style>\n",
       "<table border=\"1\" class=\"dataframe\">\n",
       "  <thead>\n",
       "    <tr style=\"text-align: right;\">\n",
       "      <th></th>\n",
       "      <th>year_range</th>\n",
       "      <th>backward_forward</th>\n",
       "      <th>forward_backward</th>\n",
       "      <th>only_backward</th>\n",
       "      <th>only_forward</th>\n",
       "    </tr>\n",
       "  </thead>\n",
       "  <tbody>\n",
       "    <tr>\n",
       "      <th>0</th>\n",
       "      <td>1990_1992</td>\n",
       "      <td>70044188</td>\n",
       "      <td>64144522</td>\n",
       "      <td>86992789</td>\n",
       "      <td>44463287</td>\n",
       "    </tr>\n",
       "    <tr>\n",
       "      <th>1</th>\n",
       "      <td>1993_1995</td>\n",
       "      <td>87042579</td>\n",
       "      <td>78182338</td>\n",
       "      <td>99165204</td>\n",
       "      <td>54003539</td>\n",
       "    </tr>\n",
       "    <tr>\n",
       "      <th>2</th>\n",
       "      <td>1996_1998</td>\n",
       "      <td>99538659</td>\n",
       "      <td>91296920</td>\n",
       "      <td>118470999</td>\n",
       "      <td>61389290</td>\n",
       "    </tr>\n",
       "    <tr>\n",
       "      <th>3</th>\n",
       "      <td>1999_2001</td>\n",
       "      <td>103553309</td>\n",
       "      <td>95251043</td>\n",
       "      <td>129534484</td>\n",
       "      <td>66117022</td>\n",
       "    </tr>\n",
       "    <tr>\n",
       "      <th>4</th>\n",
       "      <td>2002_2004</td>\n",
       "      <td>110479558</td>\n",
       "      <td>102076019</td>\n",
       "      <td>137081066</td>\n",
       "      <td>75113410</td>\n",
       "    </tr>\n",
       "    <tr>\n",
       "      <th>5</th>\n",
       "      <td>2005_2007</td>\n",
       "      <td>118244499</td>\n",
       "      <td>110143733</td>\n",
       "      <td>153025319</td>\n",
       "      <td>86646249</td>\n",
       "    </tr>\n",
       "    <tr>\n",
       "      <th>6</th>\n",
       "      <td>2008_2010</td>\n",
       "      <td>129340522</td>\n",
       "      <td>118845175</td>\n",
       "      <td>170833752</td>\n",
       "      <td>99819361</td>\n",
       "    </tr>\n",
       "    <tr>\n",
       "      <th>7</th>\n",
       "      <td>2011_2013</td>\n",
       "      <td>136366268</td>\n",
       "      <td>128094086</td>\n",
       "      <td>187228332</td>\n",
       "      <td>115091745</td>\n",
       "    </tr>\n",
       "    <tr>\n",
       "      <th>8</th>\n",
       "      <td>2014_2016</td>\n",
       "      <td>160557810</td>\n",
       "      <td>145370707</td>\n",
       "      <td>194825848</td>\n",
       "      <td>139182086</td>\n",
       "    </tr>\n",
       "    <tr>\n",
       "      <th>9</th>\n",
       "      <td>2017_2019</td>\n",
       "      <td>172172346</td>\n",
       "      <td>157973045</td>\n",
       "      <td>205187135</td>\n",
       "      <td>145159993</td>\n",
       "    </tr>\n",
       "  </tbody>\n",
       "</table>\n",
       "</div>"
      ],
      "text/plain": [
       "  year_range  backward_forward  forward_backward  only_backward  only_forward\n",
       "0  1990_1992          70044188          64144522       86992789      44463287\n",
       "1  1993_1995          87042579          78182338       99165204      54003539\n",
       "2  1996_1998          99538659          91296920      118470999      61389290\n",
       "3  1999_2001         103553309          95251043      129534484      66117022\n",
       "4  2002_2004         110479558         102076019      137081066      75113410\n",
       "5  2005_2007         118244499         110143733      153025319      86646249\n",
       "6  2008_2010         129340522         118845175      170833752      99819361\n",
       "7  2011_2013         136366268         128094086      187228332     115091745\n",
       "8  2014_2016         160557810         145370707      194825848     139182086\n",
       "9  2017_2019         172172346         157973045      205187135     145159993"
      ]
     },
     "execution_count": 17,
     "metadata": {},
     "output_type": "execute_result"
    }
   ],
   "source": [
    "Area_df = pd.DataFrame(Stats_my).stack(1).reset_index().drop(['level_0'],1)\n",
    "Area_df.columns = ['year_range'] + list(Area_df.columns)[1:]\n",
    "Area_df"
   ]
  },
  {
   "cell_type": "code",
   "execution_count": null,
   "metadata": {},
   "outputs": [],
   "source": []
  },
  {
   "cell_type": "markdown",
   "metadata": {},
   "source": [
    "##### Calculate the area change from GAIA"
   ]
  },
  {
   "cell_type": "code",
   "execution_count": null,
   "metadata": {},
   "outputs": [],
   "source": []
  },
  {
   "cell_type": "code",
   "execution_count": 19,
   "metadata": {},
   "outputs": [],
   "source": [
    "# get the GAIA area change\n",
    "GAIA_value = dict(zip(range(1985,2019),range(34,0,-1)))\n",
    "\n",
    "# add {2019:1} to the dictionary, because GAIA does not \n",
    "# extend to 2019, we just use its latest pixel of 2018\n",
    "GAIA_value.update({2019:1})\n",
    "\n",
    "# here we get each end year (1992,1995,...,2019) from GAIA\n",
    "# set the target year's value to 1, others to 0\n",
    "GAIA_each_year = [ee.Image(GAIA_img.gte(GAIA_value[year])) \n",
    "                  for year in range(1992,2020,3)]"
   ]
  },
  {
   "cell_type": "code",
   "execution_count": null,
   "metadata": {},
   "outputs": [],
   "source": []
  },
  {
   "cell_type": "code",
   "execution_count": 20,
   "metadata": {},
   "outputs": [],
   "source": [
    "# get the area change from GAIA product\n",
    "Stats_GAIA = [img.reduceRegion( reducer   = ee.Reducer.sum(), \n",
    "                                geometry  = North_China_Plain.geometry().bounds(), \n",
    "                                scale     = 30, \n",
    "                                maxPixels = int(1e13))\n",
    "             for img in GAIA_each_year]\n",
    "\n",
    "Stats_GAIA = [int(st.getInfo()['b1']) for st in Stats_GAIA]"
   ]
  },
  {
   "cell_type": "code",
   "execution_count": null,
   "metadata": {},
   "outputs": [],
   "source": []
  },
  {
   "cell_type": "markdown",
   "metadata": {},
   "source": [
    "##### Calculate the area of GIP_2015"
   ]
  },
  {
   "cell_type": "code",
   "execution_count": null,
   "metadata": {},
   "outputs": [],
   "source": []
  },
  {
   "cell_type": "code",
   "execution_count": 21,
   "metadata": {},
   "outputs": [],
   "source": [
    "Stats_GIP_2015 = GIP_2015.reduceRegion( reducer   = ee.Reducer.sum(), \n",
    "                                geometry  = North_China_Plain.geometry().bounds(), \n",
    "                                scale     = 30, \n",
    "                                maxPixels = int(1e13))\n",
    "                                       \n",
    "Stats_GIP_2015 = int(Stats_GIP_2015.getInfo()['b1'])                                     "
   ]
  },
  {
   "cell_type": "code",
   "execution_count": null,
   "metadata": {},
   "outputs": [],
   "source": []
  },
  {
   "cell_type": "markdown",
   "metadata": {},
   "source": [
    "##### Add all area change in one df"
   ]
  },
  {
   "cell_type": "code",
   "execution_count": null,
   "metadata": {},
   "outputs": [],
   "source": []
  },
  {
   "cell_type": "code",
   "execution_count": 27,
   "metadata": {},
   "outputs": [],
   "source": [
    "# # add GAIA\n",
    "# Area_df['GAIA'] = Stats_GAIA\n",
    "\n",
    "# # add GIP 2015 and set the rest to nan\n",
    "# Area_df['GIP_2015'] = np.nan\n",
    "# Area_df.at[8,'GIP_2015'] = Stats_GIP_2015\n",
    "\n",
    "# # # convert the df to long format\n",
    "# Area_stack = pd.DataFrame(Area_df.set_index('year_range').stack()).reset_index()\n",
    "# Area_stack.columns = ['year_range', 'type', 'count']\n",
    "\n",
    "# # save to dis\n",
    "# Area_stack.to_csv('./Result/Area_change.csv',index=False)\n",
    "\n",
    "# read csv\n",
    "Area_stack = pd.read_csv('./Result/Area_change.csv')"
   ]
  },
  {
   "cell_type": "code",
   "execution_count": null,
   "metadata": {},
   "outputs": [],
   "source": []
  },
  {
   "cell_type": "markdown",
   "metadata": {},
   "source": [
    "#### Observe that there is a noticibel dirrerence in total area between my result and the GAIA"
   ]
  },
  {
   "cell_type": "code",
   "execution_count": 28,
   "metadata": {},
   "outputs": [
    {
     "data": {
      "text/plain": [
       "<matplotlib.axes._subplots.AxesSubplot at 0x1f941ca9c50>"
      ]
     },
     "execution_count": 28,
     "metadata": {},
     "output_type": "execute_result"
    },
    {
     "data": {
      "image/png": "[encoded data removed]",
      "text/plain": [
       "<Figure size 864x576 with 1 Axes>"
      ]
     },
     "metadata": {
      "needs_background": "light"
     },
     "output_type": "display_data"
    }
   ],
   "source": [
    "plt.figure(figsize=(12,8))\n",
    "\n",
    "sns.lineplot(data=Area_stack,x='year_range',y='count',hue='type')"
   ]
  },
  {
   "cell_type": "code",
   "execution_count": null,
   "metadata": {},
   "outputs": [],
   "source": []
  },
  {
   "cell_type": "code",
   "execution_count": null,
   "metadata": {},
   "outputs": [],
   "source": []
  },
  {
   "cell_type": "code",
   "execution_count": null,
   "metadata": {},
   "outputs": [],
   "source": []
  },
  {
   "cell_type": "code",
   "execution_count": null,
   "metadata": {},
   "outputs": [],
   "source": []
  },
  {
   "cell_type": "code",
   "execution_count": null,
   "metadata": {},
   "outputs": [],
   "source": []
  },
  {
   "cell_type": "code",
   "execution_count": null,
   "metadata": {},
   "outputs": [],
   "source": []
  },
  {
   "cell_type": "code",
   "execution_count": null,
   "metadata": {},
   "outputs": [],
   "source": []
  },
  {
   "cell_type": "code",
   "execution_count": null,
   "metadata": {},
   "outputs": [],
   "source": []
  },
  {
   "cell_type": "code",
   "execution_count": null,
   "metadata": {},
   "outputs": [],
   "source": []
  },
  {
   "cell_type": "code",
   "execution_count": null,
   "metadata": {},
   "outputs": [],
   "source": []
  },
  {
   "cell_type": "code",
   "execution_count": null,
   "metadata": {},
   "outputs": [],
   "source": []
  },
  {
   "cell_type": "code",
   "execution_count": null,
   "metadata": {},
   "outputs": [],
   "source": []
  },
  {
   "cell_type": "code",
   "execution_count": null,
   "metadata": {},
   "outputs": [],
   "source": []
  },
  {
   "cell_type": "code",
   "execution_count": null,
   "metadata": {},
   "outputs": [],
   "source": []
  },
  {
   "cell_type": "code",
   "execution_count": null,
   "metadata": {},
   "outputs": [],
   "source": []
  },
  {
   "cell_type": "code",
   "execution_count": null,
   "metadata": {},
   "outputs": [],
   "source": []
  },
  {
   "cell_type": "code",
   "execution_count": null,
   "metadata": {},
   "outputs": [],
   "source": []
  },
  {
   "cell_type": "code",
   "execution_count": null,
   "metadata": {},
   "outputs": [],
   "source": []
  },
  {
   "cell_type": "code",
   "execution_count": null,
   "metadata": {},
   "outputs": [],
   "source": []
  },
  {
   "cell_type": "code",
   "execution_count": null,
   "metadata": {},
   "outputs": [],
   "source": []
  },
  {
   "cell_type": "code",
   "execution_count": null,
   "metadata": {},
   "outputs": [],
   "source": []
  },
  {
   "cell_type": "code",
   "execution_count": null,
   "metadata": {},
   "outputs": [],
   "source": []
  },
  {
   "cell_type": "code",
   "execution_count": null,
   "metadata": {},
   "outputs": [],
   "source": []
  },
  {
   "cell_type": "code",
   "execution_count": null,
   "metadata": {},
   "outputs": [],
   "source": []
  },
  {
   "cell_type": "code",
   "execution_count": null,
   "metadata": {},
   "outputs": [],
   "source": []
  },
  {
   "cell_type": "code",
   "execution_count": null,
   "metadata": {},
   "outputs": [],
   "source": []
  },
  {
   "cell_type": "code",
   "execution_count": null,
   "metadata": {},
   "outputs": [],
   "source": []
  },
  {
   "cell_type": "code",
   "execution_count": null,
   "metadata": {},
   "outputs": [],
   "source": []
  },
  {
   "cell_type": "code",
   "execution_count": null,
   "metadata": {},
   "outputs": [],
   "source": []
  },
  {
   "cell_type": "code",
   "execution_count": null,
   "metadata": {},
   "outputs": [],
   "source": []
  },
  {
   "cell_type": "code",
   "execution_count": null,
   "metadata": {},
   "outputs": [],
   "source": []
  },
  {
   "cell_type": "code",
   "execution_count": null,
   "metadata": {},
   "outputs": [],
   "source": []
  },
  {
   "cell_type": "code",
   "execution_count": null,
   "metadata": {},
   "outputs": [],
   "source": []
  },
  {
   "cell_type": "code",
   "execution_count": null,
   "metadata": {},
   "outputs": [],
   "source": []
  },
  {
   "cell_type": "code",
   "execution_count": null,
   "metadata": {},
   "outputs": [],
   "source": []
  },
  {
   "cell_type": "code",
   "execution_count": null,
   "metadata": {},
   "outputs": [],
   "source": []
  },
  {
   "cell_type": "code",
   "execution_count": null,
   "metadata": {},
   "outputs": [],
   "source": []
  },
  {
   "cell_type": "code",
   "execution_count": null,
   "metadata": {},
   "outputs": [],
   "source": []
  },
  {
   "cell_type": "code",
   "execution_count": null,
   "metadata": {},
   "outputs": [],
   "source": []
  },
  {
   "cell_type": "code",
   "execution_count": null,
   "metadata": {},
   "outputs": [],
   "source": []
  },
  {
   "cell_type": "code",
   "execution_count": null,
   "metadata": {},
   "outputs": [],
   "source": []
  },
  {
   "cell_type": "code",
   "execution_count": null,
   "metadata": {},
   "outputs": [],
   "source": []
  },
  {
   "cell_type": "code",
   "execution_count": null,
   "metadata": {},
   "outputs": [],
   "source": []
  },
  {
   "cell_type": "code",
   "execution_count": null,
   "metadata": {},
   "outputs": [],
   "source": []
  },
  {
   "cell_type": "code",
   "execution_count": null,
   "metadata": {},
   "outputs": [],
   "source": []
  }
 ],
 "metadata": {
  "kernelspec": {
   "display_name": "Python 3",
   "language": "python",
   "name": "python3"
  },
  "language_info": {
   "codemirror_mode": {
    "name": "ipython",
    "version": 3
   },
   "file_extension": ".py",
   "mimetype": "text/x-python",
   "name": "python",
   "nbconvert_exporter": "python",
   "pygments_lexer": "ipython3",
   "version": "3.7.3"
  }
 },
 "nbformat": 4,
 "nbformat_minor": 2
}
