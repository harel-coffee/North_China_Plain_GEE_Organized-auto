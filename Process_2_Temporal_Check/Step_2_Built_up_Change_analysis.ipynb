{
 "cells": [
  {
   "cell_type": "code",
   "execution_count": 1,
   "metadata": {},
   "outputs": [],
   "source": [
    "import ee\n",
    "import datetime\n",
    "import os\n",
    "import itertools\n",
    "import sys\n",
    "\n",
    "from pprint import pprint\n",
    "import pandas as pd\n",
    "import numpy as np\n",
    "import seaborn as sns\n",
    "import matplotlib.pyplot as plt\n",
    "\n",
    "import geemap\n",
    "\n",
    "import subprocess\n",
    "from subprocess import PIPE"
   ]
  },
  {
   "cell_type": "code",
   "execution_count": 2,
   "metadata": {},
   "outputs": [],
   "source": [
    "ee.Initialize()"
   ]
  },
  {
   "cell_type": "code",
   "execution_count": 3,
   "metadata": {},
   "outputs": [],
   "source": [
    "# define basic parameters\n",
    "year_range = [f'{i}_{i+2}' for i in range(1990,2020,3)]"
   ]
  },
  {
   "cell_type": "code",
   "execution_count": 4,
   "metadata": {},
   "outputs": [
    {
     "data": {
      "text/plain": [
       "['1990_1992',\n",
       " '1993_1995',\n",
       " '1996_1998',\n",
       " '1999_2001',\n",
       " '2002_2004',\n",
       " '2005_2007',\n",
       " '2008_2010',\n",
       " '2011_2013',\n",
       " '2014_2016',\n",
       " '2017_2019']"
      ]
     },
     "execution_count": 4,
     "metadata": {},
     "output_type": "execute_result"
    }
   ],
   "source": [
    "year_range"
   ]
  },
  {
   "cell_type": "code",
   "execution_count": null,
   "metadata": {},
   "outputs": [],
   "source": []
  },
  {
   "cell_type": "code",
   "execution_count": 5,
   "metadata": {},
   "outputs": [],
   "source": [
    "# import boundry \n",
    "North_China_Plain = ee.FeatureCollection(\"users/wangjinzhulala/North_China_Plain_Python/Boundary_shp/North_China_Plain_Boundary\")\n",
    "North_China_Plain_city = ee.FeatureCollection(\"users/wangjinzhulala/North_China_Plain_Python/Boundary_shp/North_China_Plain_city_boundary\")\n",
    "North_China_Plain_province = ee.FeatureCollection(\"users/wangjinzhulala/North_China_Plain_Python/Boundary_shp/North_China_Plain_province_boundry\")\n",
    "North_China_Plain_County = ee.FeatureCollection(\"users/wangjinzhulala/North_China_Plain_Python/Boundary_shp/North_China_Plain_County\")\n",
    "North_China_Plain_Towm = ee.FeatureCollection(\"users/wangjinzhulala/North_China_Plain_Python/Boundary_shp/North_China_Plain_Town\")"
   ]
  },
  {
   "cell_type": "code",
   "execution_count": null,
   "metadata": {},
   "outputs": [],
   "source": []
  },
  {
   "cell_type": "code",
   "execution_count": 7,
   "metadata": {},
   "outputs": [],
   "source": [
    "# define the zoning boundy for area calculation\n",
    "Zoning_shp = North_China_Plain_County"
   ]
  },
  {
   "cell_type": "code",
   "execution_count": null,
   "metadata": {},
   "outputs": [],
   "source": []
  },
  {
   "cell_type": "code",
   "execution_count": null,
   "metadata": {},
   "outputs": [],
   "source": []
  },
  {
   "cell_type": "markdown",
   "metadata": {},
   "source": [
    "### calculate the area change of the classification"
   ]
  },
  {
   "cell_type": "code",
   "execution_count": null,
   "metadata": {},
   "outputs": [],
   "source": []
  },
  {
   "cell_type": "markdown",
   "metadata": {},
   "source": [
    "##### Import my result, GAIA and GIP_2015 "
   ]
  },
  {
   "cell_type": "code",
   "execution_count": 8,
   "metadata": {},
   "outputs": [],
   "source": [
    "# get the classification of this study\n",
    "My_img = ee.Image(\"users/wangjinzhulala/North_China_Plain_Python/classificatioin_temporal_checked/Mosaic_only_forward\")\n",
    "\n",
    "# get the GAIA classification product\n",
    "GAIA_img = ee.Image(\"users/wangjinzhulala/North_China_Plain_Python/Reference_classification/GAIA_NCP\")\n",
    "\n",
    "# get the Global Impervious Surface of 2015\n",
    "GIP_2015 = ee.Image(\"users/wangjinzhulala/North_China_Plain_Python/Reference_classification/Global_Impervious_Surface_2015_NCP\")\\\n",
    "             .remap([1,2],[0,1]).rename('b1')"
   ]
  },
  {
   "cell_type": "code",
   "execution_count": null,
   "metadata": {},
   "outputs": [],
   "source": []
  },
  {
   "cell_type": "markdown",
   "metadata": {},
   "source": [
    "##### Preprocessing for GAIA, to make it seperate imgs rather than one mosaic img "
   ]
  },
  {
   "cell_type": "code",
   "execution_count": 56,
   "metadata": {},
   "outputs": [],
   "source": [
    "# construc year:value dict to dilineate the value from mosaiced classifications\n",
    "\n",
    "# get the value dict of my result \n",
    "My_value = dict(zip(year_range,range(10,0,-1)))\n",
    "\n",
    "# get the GAIA value dict\n",
    "GAIA_value = dict(zip(range(1985,2019),range(34,0,-1)))\n",
    "\n",
    "# add {2019:1} to the dictionary, because GAIA does not \n",
    "# extend to 2019, we just use its latest pixel of 2018\n",
    "GAIA_value.update({2019:1})"
   ]
  },
  {
   "cell_type": "code",
   "execution_count": null,
   "metadata": {},
   "outputs": [],
   "source": []
  },
  {
   "cell_type": "code",
   "execution_count": null,
   "metadata": {},
   "outputs": [],
   "source": []
  },
  {
   "cell_type": "markdown",
   "metadata": {},
   "source": [
    "##### Calculate the area change from my product"
   ]
  },
  {
   "cell_type": "code",
   "execution_count": 59,
   "metadata": {
    "scrolled": true
   },
   "outputs": [
    {
     "name": "stdout",
     "output_type": "stream",
     "text": [
      "Area calculation of 1990_1992 finished!\n",
      "Area calculation of 1993_1995 finished!\n",
      "Area calculation of 1996_1998 finished!\n",
      "Area calculation of 1999_2001 finished!\n",
      "Area calculation of 2002_2004 finished!\n",
      "Area calculation of 2005_2007 finished!\n",
      "Area calculation of 2008_2010 finished!\n",
      "Area calculation of 2011_2013 finished!\n",
      "Area calculation of 2014_2016 finished!\n",
      "Area calculation of 2017_2019 finished!\n"
     ]
    }
   ],
   "source": [
    "# initiate an empty list to hold the result\n",
    "Stats_df_list = []\n",
    "\n",
    "for year in year_range:\n",
    "    \n",
    "    year_GAIA = int(year[-4:])\n",
    "    \n",
    "    # get the classificaiton\n",
    "    img_my   = ee.Image(My_img.gte(My_value[year]))\n",
    "    img_GAIA = ee.Image(GAIA_img.gte(GAIA_value[year_GAIA]))\n",
    "             \n",
    "    # get the pixel count of my classifications\n",
    "    Stats_my   = img_my.reduceRegions(reducer     = ee.Reducer.sum(), \n",
    "                                      collection  = Zoning_shp, \n",
    "                                      scale       = 30,\n",
    "                                      tileScale   = 1).select(['EN_Name','sum']).getInfo()\n",
    "                        \n",
    "    Stats_GAIA = img_GAIA.reduceRegions(reducer     = ee.Reducer.sum(), \n",
    "                                        collection  = Zoning_shp, \n",
    "                                        scale       = 30,\n",
    "                                        tileScale   = 1).select(['EN_Name','sum']).getInfo()\n",
    "    \n",
    "    # get the province and pixel-count \n",
    "    sum_my = pd.DataFrame([i['properties'] for i in Stats_my['features']])\n",
    "    sum_my['year'] = year\n",
    "    sum_my['Type'] = 'My'\n",
    "                        \n",
    "    sum_GAIA = pd.DataFrame([i['properties'] for i in Stats_GAIA['features']])\n",
    "    sum_GAIA['year'] = year\n",
    "    sum_GAIA['Type'] = 'GAIA'\n",
    "    \n",
    "    # append the area_sum to df_list\n",
    "    sum_df = pd.concat([sum_my,sum_GAIA])\n",
    "    Stats_df_list.append(sum_df)\n",
    "\n",
    "    # print out the process\n",
    "    print(f'Area calculation of {year} finished!')"
   ]
  },
  {
   "cell_type": "code",
   "execution_count": null,
   "metadata": {},
   "outputs": [],
   "source": []
  },
  {
   "cell_type": "markdown",
   "metadata": {},
   "source": [
    "##### Save area change to disk"
   ]
  },
  {
   "cell_type": "code",
   "execution_count": null,
   "metadata": {},
   "outputs": [],
   "source": []
  },
  {
   "cell_type": "code",
   "execution_count": 62,
   "metadata": {},
   "outputs": [],
   "source": [
    "# # store the area change to a df\n",
    "# Area_stack = pd.concat(Stats_df_list)\n",
    "\n",
    "# # save to dis\n",
    "# Area_stack.to_csv('./Result/Area_change.csv',index=False)\n",
    "\n",
    "# read csv\n",
    "Area_stack = pd.read_csv('./Result/Area_change.csv')"
   ]
  },
  {
   "cell_type": "code",
   "execution_count": null,
   "metadata": {},
   "outputs": [],
   "source": []
  },
  {
   "cell_type": "markdown",
   "metadata": {},
   "source": [
    "#### Observe that there is a noticibel dirrerence in total area between my result and the GAIA"
   ]
  },
  {
   "cell_type": "code",
   "execution_count": 65,
   "metadata": {},
   "outputs": [
    {
     "data": {
      "text/html": [
       "<div>\n",
       "<style scoped>\n",
       "    .dataframe tbody tr th:only-of-type {\n",
       "        vertical-align: middle;\n",
       "    }\n",
       "\n",
       "    .dataframe tbody tr th {\n",
       "        vertical-align: top;\n",
       "    }\n",
       "\n",
       "    .dataframe thead th {\n",
       "        text-align: right;\n",
       "    }\n",
       "</style>\n",
       "<table border=\"1\" class=\"dataframe\">\n",
       "  <thead>\n",
       "    <tr style=\"text-align: right;\">\n",
       "      <th></th>\n",
       "      <th>EN_Name</th>\n",
       "      <th>sum</th>\n",
       "      <th>year</th>\n",
       "      <th>Type</th>\n",
       "    </tr>\n",
       "  </thead>\n",
       "  <tbody>\n",
       "    <tr>\n",
       "      <th>0</th>\n",
       "      <td>Shandong</td>\n",
       "      <td>1.207342e+07</td>\n",
       "      <td>1990_1992</td>\n",
       "      <td>My</td>\n",
       "    </tr>\n",
       "    <tr>\n",
       "      <th>1</th>\n",
       "      <td>Henan</td>\n",
       "      <td>9.905512e+06</td>\n",
       "      <td>1990_1992</td>\n",
       "      <td>My</td>\n",
       "    </tr>\n",
       "    <tr>\n",
       "      <th>2</th>\n",
       "      <td>Beijing</td>\n",
       "      <td>9.788568e+05</td>\n",
       "      <td>1990_1992</td>\n",
       "      <td>My</td>\n",
       "    </tr>\n",
       "    <tr>\n",
       "      <th>3</th>\n",
       "      <td>Tianjin</td>\n",
       "      <td>8.791225e+05</td>\n",
       "      <td>1990_1992</td>\n",
       "      <td>My</td>\n",
       "    </tr>\n",
       "    <tr>\n",
       "      <th>4</th>\n",
       "      <td>Hebei</td>\n",
       "      <td>8.350763e+06</td>\n",
       "      <td>1990_1992</td>\n",
       "      <td>My</td>\n",
       "    </tr>\n",
       "    <tr>\n",
       "      <th>...</th>\n",
       "      <td>...</td>\n",
       "      <td>...</td>\n",
       "      <td>...</td>\n",
       "      <td>...</td>\n",
       "    </tr>\n",
       "    <tr>\n",
       "      <th>135</th>\n",
       "      <td>Beijing</td>\n",
       "      <td>5.197076e+06</td>\n",
       "      <td>2017_2019</td>\n",
       "      <td>GAIA</td>\n",
       "    </tr>\n",
       "    <tr>\n",
       "      <th>136</th>\n",
       "      <td>Tianjin</td>\n",
       "      <td>4.120395e+06</td>\n",
       "      <td>2017_2019</td>\n",
       "      <td>GAIA</td>\n",
       "    </tr>\n",
       "    <tr>\n",
       "      <th>137</th>\n",
       "      <td>Hebei</td>\n",
       "      <td>2.641546e+07</td>\n",
       "      <td>2017_2019</td>\n",
       "      <td>GAIA</td>\n",
       "    </tr>\n",
       "    <tr>\n",
       "      <th>138</th>\n",
       "      <td>Anhui</td>\n",
       "      <td>1.427950e+07</td>\n",
       "      <td>2017_2019</td>\n",
       "      <td>GAIA</td>\n",
       "    </tr>\n",
       "    <tr>\n",
       "      <th>139</th>\n",
       "      <td>Jiangsu</td>\n",
       "      <td>2.831688e+07</td>\n",
       "      <td>2017_2019</td>\n",
       "      <td>GAIA</td>\n",
       "    </tr>\n",
       "  </tbody>\n",
       "</table>\n",
       "<p>140 rows × 4 columns</p>\n",
       "</div>"
      ],
      "text/plain": [
       "      EN_Name           sum       year  Type\n",
       "0    Shandong  1.207342e+07  1990_1992    My\n",
       "1       Henan  9.905512e+06  1990_1992    My\n",
       "2     Beijing  9.788568e+05  1990_1992    My\n",
       "3     Tianjin  8.791225e+05  1990_1992    My\n",
       "4       Hebei  8.350763e+06  1990_1992    My\n",
       "..        ...           ...        ...   ...\n",
       "135   Beijing  5.197076e+06  2017_2019  GAIA\n",
       "136   Tianjin  4.120395e+06  2017_2019  GAIA\n",
       "137     Hebei  2.641546e+07  2017_2019  GAIA\n",
       "138     Anhui  1.427950e+07  2017_2019  GAIA\n",
       "139   Jiangsu  2.831688e+07  2017_2019  GAIA\n",
       "\n",
       "[140 rows x 4 columns]"
      ]
     },
     "execution_count": 65,
     "metadata": {},
     "output_type": "execute_result"
    }
   ],
   "source": [
    "Area_stack"
   ]
  },
  {
   "cell_type": "code",
   "execution_count": null,
   "metadata": {},
   "outputs": [],
   "source": []
  },
  {
   "cell_type": "code",
   "execution_count": 71,
   "metadata": {},
   "outputs": [
    {
     "data": {
      "text/html": [
       "<div>\n",
       "<style scoped>\n",
       "    .dataframe tbody tr th:only-of-type {\n",
       "        vertical-align: middle;\n",
       "    }\n",
       "\n",
       "    .dataframe tbody tr th {\n",
       "        vertical-align: top;\n",
       "    }\n",
       "\n",
       "    .dataframe thead th {\n",
       "        text-align: right;\n",
       "    }\n",
       "</style>\n",
       "<table border=\"1\" class=\"dataframe\">\n",
       "  <thead>\n",
       "    <tr style=\"text-align: right;\">\n",
       "      <th></th>\n",
       "      <th>year</th>\n",
       "      <th>Type</th>\n",
       "      <th>sum</th>\n",
       "    </tr>\n",
       "  </thead>\n",
       "  <tbody>\n",
       "    <tr>\n",
       "      <th>0</th>\n",
       "      <td>1990_1992</td>\n",
       "      <td>GAIA</td>\n",
       "      <td>4.319033e+07</td>\n",
       "    </tr>\n",
       "    <tr>\n",
       "      <th>1</th>\n",
       "      <td>1990_1992</td>\n",
       "      <td>My</td>\n",
       "      <td>4.444944e+07</td>\n",
       "    </tr>\n",
       "    <tr>\n",
       "      <th>2</th>\n",
       "      <td>1993_1995</td>\n",
       "      <td>GAIA</td>\n",
       "      <td>4.905153e+07</td>\n",
       "    </tr>\n",
       "    <tr>\n",
       "      <th>3</th>\n",
       "      <td>1993_1995</td>\n",
       "      <td>My</td>\n",
       "      <td>5.666502e+07</td>\n",
       "    </tr>\n",
       "    <tr>\n",
       "      <th>4</th>\n",
       "      <td>1996_1998</td>\n",
       "      <td>GAIA</td>\n",
       "      <td>5.497103e+07</td>\n",
       "    </tr>\n",
       "    <tr>\n",
       "      <th>5</th>\n",
       "      <td>1996_1998</td>\n",
       "      <td>My</td>\n",
       "      <td>6.440132e+07</td>\n",
       "    </tr>\n",
       "    <tr>\n",
       "      <th>6</th>\n",
       "      <td>1999_2001</td>\n",
       "      <td>GAIA</td>\n",
       "      <td>6.321019e+07</td>\n",
       "    </tr>\n",
       "    <tr>\n",
       "      <th>7</th>\n",
       "      <td>1999_2001</td>\n",
       "      <td>My</td>\n",
       "      <td>7.079117e+07</td>\n",
       "    </tr>\n",
       "    <tr>\n",
       "      <th>8</th>\n",
       "      <td>2002_2004</td>\n",
       "      <td>GAIA</td>\n",
       "      <td>7.106628e+07</td>\n",
       "    </tr>\n",
       "    <tr>\n",
       "      <th>9</th>\n",
       "      <td>2002_2004</td>\n",
       "      <td>My</td>\n",
       "      <td>7.978727e+07</td>\n",
       "    </tr>\n",
       "    <tr>\n",
       "      <th>10</th>\n",
       "      <td>2005_2007</td>\n",
       "      <td>GAIA</td>\n",
       "      <td>7.926552e+07</td>\n",
       "    </tr>\n",
       "    <tr>\n",
       "      <th>11</th>\n",
       "      <td>2005_2007</td>\n",
       "      <td>My</td>\n",
       "      <td>9.088794e+07</td>\n",
       "    </tr>\n",
       "    <tr>\n",
       "      <th>12</th>\n",
       "      <td>2008_2010</td>\n",
       "      <td>GAIA</td>\n",
       "      <td>8.900261e+07</td>\n",
       "    </tr>\n",
       "    <tr>\n",
       "      <th>13</th>\n",
       "      <td>2008_2010</td>\n",
       "      <td>My</td>\n",
       "      <td>1.058589e+08</td>\n",
       "    </tr>\n",
       "    <tr>\n",
       "      <th>14</th>\n",
       "      <td>2011_2013</td>\n",
       "      <td>GAIA</td>\n",
       "      <td>1.062842e+08</td>\n",
       "    </tr>\n",
       "    <tr>\n",
       "      <th>15</th>\n",
       "      <td>2011_2013</td>\n",
       "      <td>My</td>\n",
       "      <td>1.228843e+08</td>\n",
       "    </tr>\n",
       "    <tr>\n",
       "      <th>16</th>\n",
       "      <td>2014_2016</td>\n",
       "      <td>GAIA</td>\n",
       "      <td>1.293621e+08</td>\n",
       "    </tr>\n",
       "    <tr>\n",
       "      <th>17</th>\n",
       "      <td>2014_2016</td>\n",
       "      <td>My</td>\n",
       "      <td>1.483387e+08</td>\n",
       "    </tr>\n",
       "    <tr>\n",
       "      <th>18</th>\n",
       "      <td>2017_2019</td>\n",
       "      <td>GAIA</td>\n",
       "      <td>1.315309e+08</td>\n",
       "    </tr>\n",
       "    <tr>\n",
       "      <th>19</th>\n",
       "      <td>2017_2019</td>\n",
       "      <td>My</td>\n",
       "      <td>1.694147e+08</td>\n",
       "    </tr>\n",
       "  </tbody>\n",
       "</table>\n",
       "</div>"
      ],
      "text/plain": [
       "         year  Type           sum\n",
       "0   1990_1992  GAIA  4.319033e+07\n",
       "1   1990_1992    My  4.444944e+07\n",
       "2   1993_1995  GAIA  4.905153e+07\n",
       "3   1993_1995    My  5.666502e+07\n",
       "4   1996_1998  GAIA  5.497103e+07\n",
       "5   1996_1998    My  6.440132e+07\n",
       "6   1999_2001  GAIA  6.321019e+07\n",
       "7   1999_2001    My  7.079117e+07\n",
       "8   2002_2004  GAIA  7.106628e+07\n",
       "9   2002_2004    My  7.978727e+07\n",
       "10  2005_2007  GAIA  7.926552e+07\n",
       "11  2005_2007    My  9.088794e+07\n",
       "12  2008_2010  GAIA  8.900261e+07\n",
       "13  2008_2010    My  1.058589e+08\n",
       "14  2011_2013  GAIA  1.062842e+08\n",
       "15  2011_2013    My  1.228843e+08\n",
       "16  2014_2016  GAIA  1.293621e+08\n",
       "17  2014_2016    My  1.483387e+08\n",
       "18  2017_2019  GAIA  1.315309e+08\n",
       "19  2017_2019    My  1.694147e+08"
      ]
     },
     "execution_count": 71,
     "metadata": {},
     "output_type": "execute_result"
    }
   ],
   "source": [
    "Area_stack.groupby(['year','Type']).sum().reset_index()"
   ]
  },
  {
   "cell_type": "code",
   "execution_count": null,
   "metadata": {},
   "outputs": [],
   "source": []
  },
  {
   "cell_type": "code",
   "execution_count": null,
   "metadata": {},
   "outputs": [],
   "source": []
  },
  {
   "cell_type": "code",
   "execution_count": 73,
   "metadata": {},
   "outputs": [
    {
     "data": {
      "text/plain": [
       "<matplotlib.axes._subplots.AxesSubplot at 0x1d14a4bbe80>"
      ]
     },
     "execution_count": 73,
     "metadata": {},
     "output_type": "execute_result"
    },
    {
     "data": {
      "image/png": "[encoded data removed]",
      "text/plain": [
       "<Figure size 864x576 with 1 Axes>"
      ]
     },
     "metadata": {
      "needs_background": "light"
     },
     "output_type": "display_data"
    }
   ],
   "source": [
    "plt.figure(figsize=(12,8))\n",
    "\n",
    "sns.lineplot(data=Area_stack.groupby(['year','Type']).sum().reset_index(),\n",
    "             x='year',\n",
    "             y='sum',\n",
    "            hue = 'Type')"
   ]
  },
  {
   "cell_type": "code",
   "execution_count": null,
   "metadata": {},
   "outputs": [],
   "source": []
  },
  {
   "cell_type": "code",
   "execution_count": null,
   "metadata": {},
   "outputs": [],
   "source": []
  },
  {
   "cell_type": "code",
   "execution_count": null,
   "metadata": {},
   "outputs": [],
   "source": []
  },
  {
   "cell_type": "code",
   "execution_count": null,
   "metadata": {},
   "outputs": [],
   "source": []
  },
  {
   "cell_type": "code",
   "execution_count": null,
   "metadata": {},
   "outputs": [],
   "source": []
  },
  {
   "cell_type": "code",
   "execution_count": null,
   "metadata": {},
   "outputs": [],
   "source": []
  },
  {
   "cell_type": "code",
   "execution_count": null,
   "metadata": {},
   "outputs": [],
   "source": []
  },
  {
   "cell_type": "code",
   "execution_count": null,
   "metadata": {},
   "outputs": [],
   "source": []
  },
  {
   "cell_type": "code",
   "execution_count": null,
   "metadata": {},
   "outputs": [],
   "source": []
  },
  {
   "cell_type": "code",
   "execution_count": null,
   "metadata": {},
   "outputs": [],
   "source": []
  },
  {
   "cell_type": "code",
   "execution_count": null,
   "metadata": {},
   "outputs": [],
   "source": []
  },
  {
   "cell_type": "code",
   "execution_count": null,
   "metadata": {},
   "outputs": [],
   "source": []
  },
  {
   "cell_type": "code",
   "execution_count": null,
   "metadata": {},
   "outputs": [],
   "source": []
  },
  {
   "cell_type": "code",
   "execution_count": null,
   "metadata": {},
   "outputs": [],
   "source": []
  },
  {
   "cell_type": "code",
   "execution_count": null,
   "metadata": {},
   "outputs": [],
   "source": []
  },
  {
   "cell_type": "code",
   "execution_count": null,
   "metadata": {},
   "outputs": [],
   "source": []
  },
  {
   "cell_type": "code",
   "execution_count": null,
   "metadata": {},
   "outputs": [],
   "source": []
  },
  {
   "cell_type": "code",
   "execution_count": null,
   "metadata": {},
   "outputs": [],
   "source": []
  },
  {
   "cell_type": "code",
   "execution_count": null,
   "metadata": {},
   "outputs": [],
   "source": []
  },
  {
   "cell_type": "code",
   "execution_count": null,
   "metadata": {},
   "outputs": [],
   "source": []
  },
  {
   "cell_type": "code",
   "execution_count": null,
   "metadata": {},
   "outputs": [],
   "source": []
  },
  {
   "cell_type": "code",
   "execution_count": null,
   "metadata": {},
   "outputs": [],
   "source": []
  },
  {
   "cell_type": "code",
   "execution_count": null,
   "metadata": {},
   "outputs": [],
   "source": []
  },
  {
   "cell_type": "code",
   "execution_count": null,
   "metadata": {},
   "outputs": [],
   "source": []
  },
  {
   "cell_type": "code",
   "execution_count": null,
   "metadata": {},
   "outputs": [],
   "source": []
  },
  {
   "cell_type": "code",
   "execution_count": null,
   "metadata": {},
   "outputs": [],
   "source": []
  },
  {
   "cell_type": "code",
   "execution_count": null,
   "metadata": {},
   "outputs": [],
   "source": []
  },
  {
   "cell_type": "code",
   "execution_count": null,
   "metadata": {},
   "outputs": [],
   "source": []
  },
  {
   "cell_type": "code",
   "execution_count": null,
   "metadata": {},
   "outputs": [],
   "source": []
  },
  {
   "cell_type": "code",
   "execution_count": null,
   "metadata": {},
   "outputs": [],
   "source": []
  },
  {
   "cell_type": "code",
   "execution_count": null,
   "metadata": {},
   "outputs": [],
   "source": []
  },
  {
   "cell_type": "code",
   "execution_count": null,
   "metadata": {},
   "outputs": [],
   "source": []
  },
  {
   "cell_type": "code",
   "execution_count": null,
   "metadata": {},
   "outputs": [],
   "source": []
  },
  {
   "cell_type": "code",
   "execution_count": null,
   "metadata": {},
   "outputs": [],
   "source": []
  },
  {
   "cell_type": "code",
   "execution_count": null,
   "metadata": {},
   "outputs": [],
   "source": []
  },
  {
   "cell_type": "code",
   "execution_count": null,
   "metadata": {},
   "outputs": [],
   "source": []
  },
  {
   "cell_type": "code",
   "execution_count": null,
   "metadata": {},
   "outputs": [],
   "source": []
  },
  {
   "cell_type": "code",
   "execution_count": null,
   "metadata": {},
   "outputs": [],
   "source": []
  },
  {
   "cell_type": "code",
   "execution_count": null,
   "metadata": {},
   "outputs": [],
   "source": []
  },
  {
   "cell_type": "code",
   "execution_count": null,
   "metadata": {},
   "outputs": [],
   "source": []
  },
  {
   "cell_type": "code",
   "execution_count": null,
   "metadata": {},
   "outputs": [],
   "source": []
  },
  {
   "cell_type": "code",
   "execution_count": null,
   "metadata": {},
   "outputs": [],
   "source": []
  },
  {
   "cell_type": "code",
   "execution_count": null,
   "metadata": {},
   "outputs": [],
   "source": []
  }
 ],
 "metadata": {
  "kernelspec": {
   "display_name": "Python 3",
   "language": "python",
   "name": "python3"
  },
  "language_info": {
   "codemirror_mode": {
    "name": "ipython",
    "version": 3
   },
   "file_extension": ".py",
   "mimetype": "text/x-python",
   "name": "python",
   "nbconvert_exporter": "python",
   "pygments_lexer": "ipython3",
   "version": "3.7.3"
  }
 },
 "nbformat": 4,
 "nbformat_minor": 2
}
