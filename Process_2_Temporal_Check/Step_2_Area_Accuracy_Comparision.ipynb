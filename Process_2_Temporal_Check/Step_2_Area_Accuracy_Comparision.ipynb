{
 "cells": [
  {
   "cell_type": "code",
   "execution_count": null,
   "metadata": {},
   "outputs": [],
   "source": []
  },
  {
   "cell_type": "markdown",
   "metadata": {},
   "source": [
    "This Notebook is to compare the accuracy and area between this study and other datasets.\n",
    "\n",
    "Specifically, we:<br>\n",
    "1) import other datasets;<br>\n",
    "2) remap the bulit-up land pixel of all dataset (including this study) to year; <br>\n",
    "3) loop throuth each Dataset-year bands;<br>\n",
    "4) calculat the area and accuray;"
   ]
  },
  {
   "cell_type": "code",
   "execution_count": null,
   "metadata": {},
   "outputs": [],
   "source": []
  },
  {
   "cell_type": "code",
   "execution_count": null,
   "metadata": {},
   "outputs": [],
   "source": []
  },
  {
   "cell_type": "code",
   "execution_count": null,
   "metadata": {},
   "outputs": [],
   "source": []
  },
  {
   "cell_type": "code",
   "execution_count": null,
   "metadata": {},
   "outputs": [],
   "source": []
  },
  {
   "cell_type": "code",
   "execution_count": 1,
   "metadata": {},
   "outputs": [
    {
     "name": "stderr",
     "output_type": "stream",
     "text": [
      "In C:\\Users\\wangj\\Anaconda3\\envs\\ee_py3\\lib\\site-packages\\matplotlib\\mpl-data\\stylelib\\_classic_test.mplstyle: \n",
      "The text.latex.preview rcparam was deprecated in Matplotlib 3.3 and will be removed two minor releases later.\n",
      "In C:\\Users\\wangj\\Anaconda3\\envs\\ee_py3\\lib\\site-packages\\matplotlib\\mpl-data\\stylelib\\_classic_test.mplstyle: \n",
      "The mathtext.fallback_to_cm rcparam was deprecated in Matplotlib 3.3 and will be removed two minor releases later.\n",
      "In C:\\Users\\wangj\\Anaconda3\\envs\\ee_py3\\lib\\site-packages\\matplotlib\\mpl-data\\stylelib\\_classic_test.mplstyle: Support for setting the 'mathtext.fallback_to_cm' rcParam is deprecated since 3.3 and will be removed two minor releases later; use 'mathtext.fallback : 'cm' instead.\n",
      "In C:\\Users\\wangj\\Anaconda3\\envs\\ee_py3\\lib\\site-packages\\matplotlib\\mpl-data\\stylelib\\_classic_test.mplstyle: \n",
      "The validate_bool_maybe_none function was deprecated in Matplotlib 3.3 and will be removed two minor releases later.\n",
      "In C:\\Users\\wangj\\Anaconda3\\envs\\ee_py3\\lib\\site-packages\\matplotlib\\mpl-data\\stylelib\\_classic_test.mplstyle: \n",
      "The savefig.jpeg_quality rcparam was deprecated in Matplotlib 3.3 and will be removed two minor releases later.\n",
      "In C:\\Users\\wangj\\Anaconda3\\envs\\ee_py3\\lib\\site-packages\\matplotlib\\mpl-data\\stylelib\\_classic_test.mplstyle: \n",
      "The keymap.all_axes rcparam was deprecated in Matplotlib 3.3 and will be removed two minor releases later.\n",
      "In C:\\Users\\wangj\\Anaconda3\\envs\\ee_py3\\lib\\site-packages\\matplotlib\\mpl-data\\stylelib\\_classic_test.mplstyle: \n",
      "The animation.avconv_path rcparam was deprecated in Matplotlib 3.3 and will be removed two minor releases later.\n",
      "In C:\\Users\\wangj\\Anaconda3\\envs\\ee_py3\\lib\\site-packages\\matplotlib\\mpl-data\\stylelib\\_classic_test.mplstyle: \n",
      "The animation.avconv_args rcparam was deprecated in Matplotlib 3.3 and will be removed two minor releases later.\n"
     ]
    }
   ],
   "source": [
    "import ee\n",
    "import datetime\n",
    "import os\n",
    "import itertools\n",
    "import sys\n",
    "\n",
    "from pprint import pprint\n",
    "import pandas as pd\n",
    "import numpy as np\n",
    "import seaborn as sns\n",
    "import matplotlib.pyplot as plt\n",
    "\n",
    "import geemap\n",
    "\n",
    "import subprocess\n",
    "from subprocess import PIPE"
   ]
  },
  {
   "cell_type": "code",
   "execution_count": 2,
   "metadata": {},
   "outputs": [],
   "source": [
    "ee.Initialize()"
   ]
  },
  {
   "cell_type": "code",
   "execution_count": null,
   "metadata": {},
   "outputs": [],
   "source": []
  },
  {
   "cell_type": "code",
   "execution_count": 3,
   "metadata": {},
   "outputs": [],
   "source": [
    "# append upper folder into sys-path during run time so we can\n",
    "# import our own moduls\n",
    "sys.path.append('../Process_1_GEE_Python_Classification/')\n",
    "from BackGround_modules.Class_3_Calculate_the_accuracy import Accuracy_assesment"
   ]
  },
  {
   "cell_type": "code",
   "execution_count": null,
   "metadata": {},
   "outputs": [],
   "source": []
  },
  {
   "cell_type": "code",
   "execution_count": 4,
   "metadata": {},
   "outputs": [],
   "source": [
    "# import boundry \n",
    "North_China_Plain = ee.FeatureCollection(\"users/wangjinzhulala/North_China_Plain_Python/Boundary_shp/North_China_Plain_Boundary\")\n",
    "North_China_Plain_city = ee.FeatureCollection(\"users/wangjinzhulala/North_China_Plain_Python/Boundary_shp/North_China_Plain_city_boundary\")\n",
    "North_China_Plain_province = ee.FeatureCollection(\"users/wangjinzhulala/North_China_Plain_Python/Boundary_shp/North_China_Plain_province_boundry\")\n",
    "North_China_Plain_County = ee.FeatureCollection(\"users/wangjinzhulala/North_China_Plain_Python/Boundary_shp/North_China_Plain_County\")\n",
    "North_China_Plain_Towm = ee.FeatureCollection(\"users/wangjinzhulala/North_China_Plain_Python/Boundary_shp/North_China_Plain_Town\")\n",
    "\n",
    "# define the zoning boundy for area calculation\n",
    "Zoning_shp = North_China_Plain_province"
   ]
  },
  {
   "cell_type": "code",
   "execution_count": null,
   "metadata": {},
   "outputs": [],
   "source": []
  },
  {
   "cell_type": "code",
   "execution_count": 5,
   "metadata": {},
   "outputs": [],
   "source": [
    "# import the untouched control points, which are diveded by a random column with a 101 random state\n",
    "Sample_Landsat  = ee.FeatureCollection(\"users/wangjinzhulala/North_China_Plain_Python/Sample_Points/Control_points\")\\\n",
    "                    .randomColumn('split', 101)\\\n",
    "                    .filterMetadata('split','less_than',0.25)\n",
    "\n",
    "Sample_Sentinel = ee.FeatureCollection(\"users/wangjinzhulala/North_China_Plain_Python/Sample_Points/Sentinel_2017_2019\")\\\n",
    "                    .randomColumn('split', 101)\\\n",
    "                    .filterMetadata('split','less_than',0.25)\n",
    "\n",
    "\n",
    "# because the last two decade used different untouched sample, \n",
    "# so here we merge them together\n",
    "Untouched_sample = [Sample_Landsat] + [Sample_Sentinel] "
   ]
  },
  {
   "cell_type": "code",
   "execution_count": null,
   "metadata": {},
   "outputs": [],
   "source": []
  },
  {
   "cell_type": "markdown",
   "metadata": {},
   "source": [
    "### calculate the area change of the classification"
   ]
  },
  {
   "cell_type": "code",
   "execution_count": null,
   "metadata": {},
   "outputs": [],
   "source": []
  },
  {
   "cell_type": "code",
   "execution_count": 6,
   "metadata": {},
   "outputs": [],
   "source": [
    "# initilize the remap dictionary\n",
    "Re_dict = dict(zip(range(1985,2021),range(36,0,-1)))"
   ]
  },
  {
   "cell_type": "code",
   "execution_count": null,
   "metadata": {},
   "outputs": [],
   "source": []
  },
  {
   "cell_type": "markdown",
   "metadata": {},
   "source": [
    "##### Import my result and reference maps"
   ]
  },
  {
   "cell_type": "code",
   "execution_count": null,
   "metadata": {},
   "outputs": [],
   "source": []
  },
  {
   "cell_type": "code",
   "execution_count": 7,
   "metadata": {},
   "outputs": [],
   "source": [
    "# get the classification of this study\n",
    "My_img = ee.Image(\"users/wangjinzhulala/North_China_Plain_Python/classificatioin_temporal_checked/Mosaic_only_forward\")\n",
    "\n",
    "# get the value dict of my result \n",
    "My_value = dict(zip(range(1991,2019,3),range(10,0,-1)))\n",
    "\n",
    "# unstack the img into seperate bands and add property to it\n",
    "My_bands = []\n",
    "\n",
    "for k,v in My_value.items():\n",
    "    \n",
    "    band = My_img.gte(v)\n",
    "    band = band.setMulti(['Source','My','Year',k,'Scale',30])\n",
    "    My_bands.append(ee.Image(band))\n",
    "    \n",
    "#_________remap_the_pixel_value_for_temporal_comparasion______\n",
    "\n",
    "# 1)_get the value pairs \n",
    "left_val = []\n",
    "right_val = []\n",
    "\n",
    "for k,v in My_value.items():\n",
    "    left_val.append(v)\n",
    "    right_val.append(Re_dict[k])\n",
    "    \n",
    "# 2) remap the img\n",
    "My_img_re = My_img.remap(left_val,right_val,0).setMulti(['Scale',30])\n",
    "    "
   ]
  },
  {
   "cell_type": "code",
   "execution_count": null,
   "metadata": {},
   "outputs": [],
   "source": []
  },
  {
   "cell_type": "code",
   "execution_count": 8,
   "metadata": {},
   "outputs": [],
   "source": [
    "# get the GAIA classification product\n",
    "GAIA_img = ee.Image(\"users/wangjinzhulala/North_China_Plain_Python/Reference_classification/GAIA_Gong_1985_2018\")\n",
    "\n",
    "# get the GAIA value dict\n",
    "GAIA_value = dict(zip(range(1985,2019),range(34,0,-1)))\n",
    "\n",
    "# unstack the img into seperate bands and add property to it\n",
    "GAIA_bands = []\n",
    "\n",
    "for k,v in GAIA_value.items():\n",
    "    band = GAIA_img.gte(v)\n",
    "    band = band.setMulti(['Source','GAIA','Year',k,'Scale',30])\n",
    "    GAIA_bands.append(ee.Image(band))\n",
    "    \n",
    "#_________remap_the_pixel_value_for_temporal_comparasion______\n",
    "\n",
    "# 1)_get the value pairs \n",
    "left_val = []\n",
    "right_val = []\n",
    "\n",
    "for k,v in GAIA_value.items():\n",
    "    left_val.append(v)\n",
    "    right_val.append(Re_dict[k])\n",
    "    \n",
    "# 2) remap the img\n",
    "GAIA_re = GAIA_img.remap(left_val,right_val,0).setMulti(['Scale',30])"
   ]
  },
  {
   "cell_type": "code",
   "execution_count": null,
   "metadata": {},
   "outputs": [],
   "source": []
  },
  {
   "cell_type": "code",
   "execution_count": 9,
   "metadata": {},
   "outputs": [],
   "source": [
    "# get the Global Impervious Surface of 2015\n",
    "GIS_2015 = ee.Image(\"users/wangjinzhulala/North_China_Plain_Python/Reference_classification/Global_Impervious_Surface_2015_NCP\")\\\n",
    "             .remap([1,2],[0,1])\\\n",
    "             .rename('b1')\n",
    "\n",
    "# Add propertied to the img\n",
    "GIS_2015 = ee.Image(GIS_2015.setMulti(['Source','GIS','Year',2015,'Scale',30]))\n",
    "\n",
    "\n",
    "#_________remap_the_pixel_value_for_temporal_comparasion______\n",
    "t = Re_dict[2015]\n",
    "\n",
    "GIS_2015_re = GIS_2015.remap([0,1],[0,t]).setMulti(['Scale',30])    "
   ]
  },
  {
   "cell_type": "code",
   "execution_count": null,
   "metadata": {},
   "outputs": [],
   "source": []
  },
  {
   "cell_type": "code",
   "execution_count": 21,
   "metadata": {},
   "outputs": [],
   "source": [
    "# import the Global_urban_Liu_2018\n",
    "path_liu = 'users/wangjinzhulala/North_China_Plain_Python/Reference_classification/Global_urban_Liu_2018'\n",
    "Global_urban_Liu_1990_2015 = subprocess.run(f'earthengine ls {path_liu}', stdout=subprocess.PIPE)\n",
    "\n",
    "# get the avaliable years of this dataset\n",
    "year_avaliable = [1990,1995,2000,2005,2010,2015]\n",
    "\n",
    "# mosaic the Img_Col to single img\n",
    "Global_urban_Liu_bands = []\n",
    "\n",
    "for t in year_avaliable:  \n",
    "  \n",
    "    band = ee.ImageCollection([ee.Image(s).toInt8() for s in str(Global_urban_Liu_1990_2015.stdout).split('\\\\r\\\\n') if str(t) in s]).mosaic()    \n",
    "    band = band.setMulti(['Source','Global Urban Liu','Year',t,'Scale',30])\n",
    "    \n",
    "    Global_urban_Liu_bands.append(ee.Image(band))\n",
    "    \n",
    "    \n",
    "#_________remap_the_pixel_value_for_temporal_comparasion______\n",
    "\n",
    "# 1)_get the value pairs \n",
    "Global_urban_Liu_re_list = []\n",
    "\n",
    "for img in Global_urban_Liu_bands:\n",
    "    \n",
    "    # remap the img\n",
    "    year = int(img.get('Year').getInfo())\n",
    "    re_map_val = Re_dict[year]\n",
    "    img_re = img.remap([0,1],[0,re_map_val])\n",
    "    \n",
    "    # store the img_re to list\n",
    "    Global_urban_Liu_re_list.append(img_re)\n",
    "    \n",
    "# 2) create the mosaic from img_res\n",
    "Global_urban_Liu_re = ee.ImageCollection(Global_urban_Liu_re_list).max().setMulti(['Scale',30])"
   ]
  },
  {
   "cell_type": "code",
   "execution_count": null,
   "metadata": {},
   "outputs": [],
   "source": []
  },
  {
   "cell_type": "code",
   "execution_count": 11,
   "metadata": {},
   "outputs": [],
   "source": [
    "# import the Global_Land_Cover_30\n",
    "path_GLC = 'users/wangjinzhulala/North_China_Plain_Python/Reference_classification/Global_land_cover_30_China'\n",
    "\n",
    "# get the avaliable years of this dataset\n",
    "year_avaliable = [2000,2010,2020]\n",
    "\n",
    "# Mosaic all img to one \n",
    "Global_Land_Cover_30_bands = []\n",
    "\n",
    "\n",
    "for t in year_avaliable: \n",
    "    \n",
    "    band = ee.Image(f\"{path_GLC}/GLC_30_{t}\").eq(80)\n",
    "    band = band.setMulti(['Source','Global Landcover 30','Year',t,'Scale',30])\n",
    "    \n",
    "    Global_Land_Cover_30_bands.append(ee.Image(band))\n",
    "    \n",
    "    \n",
    "#_________remap_the_pixel_value_for_temporal_comparasion______\n",
    "\n",
    "# 1)_get the value pairs \n",
    "\n",
    "Global_Land_Cover_30_bands_re_list = []\n",
    "\n",
    "for img in Global_Land_Cover_30_bands:\n",
    "    \n",
    "    # remap the img\n",
    "    year = int(img.get('Year').getInfo())\n",
    "    re_map_val = Re_dict[year]\n",
    "    img_re = img.remap([0,1],[0,re_map_val])\n",
    "    \n",
    "    # store the img_re to list\n",
    "    Global_Land_Cover_30_bands_re_list.append(img_re)\n",
    "    \n",
    "# 2) create the mosaic from img_res\n",
    "Global_Land_Cover_30_bands_re = ee.ImageCollection(Global_Land_Cover_30_bands_re_list).max().setMulti(['Scale',30])"
   ]
  },
  {
   "cell_type": "code",
   "execution_count": null,
   "metadata": {},
   "outputs": [],
   "source": []
  },
  {
   "cell_type": "code",
   "execution_count": 12,
   "metadata": {},
   "outputs": [],
   "source": [
    "# import the ESA global-human-settlement data\n",
    "GHSL = ee.Image(\"users/wangjinzhulala/North_China_Plain_Python/Reference_classification/GHSL_NCP\")\n",
    "\n",
    "# get the GAIA value dict\n",
    "GHSL_value ={2015:3,2000:4,1990:5}\n",
    "\n",
    "# unstack the img into seperate bands and add property to it\n",
    "GHSL_bands = []\n",
    "\n",
    "for k,v in GHSL_value.items():\n",
    "    band = GHSL.gte(v)\n",
    "    band = band.setMulti(['Source','GHSL','Year',k,'Scale',38])\n",
    "    GHSL_bands.append(ee.Image(band))\n",
    "    \n",
    "#_________remap_the_pixel_value_for_temporal_comparasion______\n",
    "\n",
    "# 1)_get the value pairs \n",
    "GHSL_re_list = []\n",
    "\n",
    "for img in GHSL_bands:\n",
    "    \n",
    "    # remap the img\n",
    "    year = int(img.get('Year').getInfo())\n",
    "    re_map_val = Re_dict[year]\n",
    "    img_re = img.remap([0,1],[0,re_map_val]).toInt8()\n",
    "    \n",
    "    # store the img_re to list\n",
    "    GHSL_re_list.append(img_re)\n",
    "    \n",
    "# 2) create the mosaic from img_res\n",
    "GHSL_re = ee.ImageCollection(GHSL_re_list).max().setMulti(['Scale',38])"
   ]
  },
  {
   "cell_type": "code",
   "execution_count": null,
   "metadata": {},
   "outputs": [],
   "source": []
  },
  {
   "cell_type": "code",
   "execution_count": 13,
   "metadata": {},
   "outputs": [],
   "source": [
    "# import the MODIS-Landcover\n",
    "MODIS = [ee.Image(ee.Image(f'MODIS/006/MCD12Q1/{year}_01_01').select('LC_Type1').rename('b1')\\\n",
    "           .eq(13).setMulti(['Source','MODIS','Year',year,'Scale',500]))\n",
    "         for year in range(2001,2020)]\n",
    "\n",
    "\n",
    "#_________remap_the_pixel_value_for_temporal_comparasion______\n",
    "\n",
    "# 1)_get the value pairs \n",
    "MODIS_re_list = []\n",
    "\n",
    "for img in MODIS:\n",
    "    \n",
    "    # remap the img\n",
    "    year = int(img.get('Year').getInfo())\n",
    "    re_map_val = Re_dict[year]\n",
    "    img_re = img.remap([0,1],[0,re_map_val]).toInt8()\n",
    "    \n",
    "    # store the img_re to list\n",
    "    MODIS_re_list.append(img_re)\n",
    "    \n",
    "# 2) create the mosaic from img_res\n",
    "MODIS_re = ee.ImageCollection(MODIS_re_list).max().setMulti(['Scale',500])"
   ]
  },
  {
   "cell_type": "code",
   "execution_count": null,
   "metadata": {},
   "outputs": [],
   "source": []
  },
  {
   "cell_type": "code",
   "execution_count": 14,
   "metadata": {},
   "outputs": [],
   "source": [
    "# import the ESA Climate Change Initiative\n",
    "# Landcover values: http://maps.elie.ucl.ac.be/CCI/viewer/download/ESACCI-LC-QuickUserGuide-LC-Maps_v2-0-7.pdf\n",
    "\n",
    "ESACCI_1992_2015 = ee.Image(\"users/wangjinzhulala/North_China_Plain_Python/Reference_classification/ESACCI_1992_2015\")\n",
    "\n",
    "# get the GAIA value dict\n",
    "ESACCI_value = dict(zip(range(1992,2016),[f'b{i}' for i in range(1,25)]))\n",
    "\n",
    "# unstack the img into seperate bands and add property to it\n",
    "ESACCI_bands = []\n",
    "\n",
    "for k,v in ESACCI_value.items():\n",
    "    band = ESACCI_1992_2015.select(v).eq(190)\n",
    "    band = band.setMulti(['Source','ESACCI','Year',k,'Scale',300])\n",
    "    ESACCI_bands.append(ee.Image(band))\n",
    "    \n",
    "#_________remap_the_pixel_value_for_temporal_comparasion______\n",
    "\n",
    "# 1) get the value pairs \n",
    "ESACCI_re_list = []\n",
    "\n",
    "for img in ESACCI_bands:\n",
    "    \n",
    "    # remap the img\n",
    "    year = int(img.get('Year').getInfo())\n",
    "    re_map_val = Re_dict[year]\n",
    "    img_re = img.remap([0,1],[0,re_map_val]).toInt8()\n",
    "    \n",
    "    # store the img_re to list\n",
    "    ESACCI_re_list.append(img_re)\n",
    "    \n",
    "# 2) create the mosaic from img_res\n",
    "ESACCI_re = ee.ImageCollection(ESACCI_re_list).max().setMulti(['Scale',300])"
   ]
  },
  {
   "cell_type": "code",
   "execution_count": null,
   "metadata": {},
   "outputs": [],
   "source": []
  },
  {
   "cell_type": "code",
   "execution_count": 15,
   "metadata": {},
   "outputs": [],
   "source": [
    "# import the Global Urban area from He\n",
    "\n",
    "He_years = [1992,1996,2000,2006,2010,2016]\n",
    "\n",
    "Global_urban_He_1992_2016 = [ee.Image(ee.Image(f\"users/wangjinzhulala/North_China_Plain_Python/Reference_classification/Global_urban_He_1992_2016/Global_Urban_Land_{year}\")\\\n",
    "                                        .setMulti(['Source','Global Urban He','Year',year,'Scale',1000]))\n",
    "                             for year in He_years]\n",
    "\n",
    "\n",
    "#_________remap_the_pixel_value_for_temporal_comparasion______\n",
    "\n",
    "# 1)_get the value pairs \n",
    "Global_urban_He_re_list = []\n",
    "\n",
    "for img in Global_urban_He_1992_2016:\n",
    "    \n",
    "    # remap the img\n",
    "    year = int(img.get('Year').getInfo())\n",
    "    re_map_val = Re_dict[year]\n",
    "    img_re = img.remap([0,1],[0,re_map_val]).toInt8()\n",
    "    \n",
    "    # store the img_re to list\n",
    "    Global_urban_He_re_list.append(img_re)\n",
    "    \n",
    "# 2) create the mosaic from img_res\n",
    "Global_urban_He_re = ee.ImageCollection(Global_urban_He_re_list).max().setMulti(['Scale',1000])"
   ]
  },
  {
   "cell_type": "code",
   "execution_count": null,
   "metadata": {},
   "outputs": [],
   "source": []
  },
  {
   "cell_type": "code",
   "execution_count": null,
   "metadata": {},
   "outputs": [],
   "source": []
  },
  {
   "cell_type": "markdown",
   "metadata": {},
   "source": [
    "##### Export the re_map imgs"
   ]
  },
  {
   "cell_type": "code",
   "execution_count": null,
   "metadata": {},
   "outputs": [],
   "source": []
  },
  {
   "cell_type": "code",
   "execution_count": 16,
   "metadata": {},
   "outputs": [],
   "source": [
    "ALL_re_maps =        [My_img_re,   GAIA_re,    Global_urban_Liu_re,   GHSL_re,    MODIS_re,  ESACCI_re, \n",
    "                        Global_urban_He_re , Global_Land_Cover_30_bands_re]\n",
    "\n",
    "ALL_re_maps_names =  ['My_img_re', 'GAIA_re',  'Global_urban_Liu_re', 'GHSL_re', 'MODIS_re', 'ESACCI_re', \n",
    "                       'Global_urban_He_re', 'Global_Land_Cover_30_bands_re']"
   ]
  },
  {
   "cell_type": "code",
   "execution_count": null,
   "metadata": {},
   "outputs": [],
   "source": []
  },
  {
   "cell_type": "code",
   "execution_count": 18,
   "metadata": {},
   "outputs": [
    {
     "name": "stdout",
     "output_type": "stream",
     "text": [
      "Global_Land_Cover_30_bands_re has been exported to GS!\n"
     ]
    }
   ],
   "source": [
    "for img,name in zip(ALL_re_maps,ALL_re_maps_names):\n",
    "    \n",
    "    # cat the img to ee.Image\n",
    "    img = ee.Image(img)\n",
    "    \n",
    "    # get the scale for export\n",
    "    scale = img.get('Scale').getInfo()\n",
    "    \n",
    "    # built the export task\n",
    "    task = ee.batch.Export.image.toCloudStorage(img,\n",
    "                                                description=name,\n",
    "                                                bucket='north_china_plain',\n",
    "                                                fileNamePrefix=name,\n",
    "                                                region=North_China_Plain.geometry(),\n",
    "                                                scale=scale,\n",
    "                                                maxPixels=int(1e13))\n",
    "    task.start()\n",
    "    \n",
    "    # print out the process\n",
    "    print(f'{name} has been exported to GS!')"
   ]
  },
  {
   "cell_type": "code",
   "execution_count": null,
   "metadata": {},
   "outputs": [],
   "source": []
  },
  {
   "cell_type": "code",
   "execution_count": null,
   "metadata": {},
   "outputs": [],
   "source": []
  },
  {
   "cell_type": "markdown",
   "metadata": {},
   "source": [
    "##### Combine all bands together"
   ]
  },
  {
   "cell_type": "code",
   "execution_count": null,
   "metadata": {},
   "outputs": [],
   "source": []
  },
  {
   "cell_type": "code",
   "execution_count": 26,
   "metadata": {},
   "outputs": [],
   "source": [
    "All_bands = My_bands + GAIA_bands + [GIS_2015] + Global_urban_Liu_bands + Global_Land_Cover_30_bands +\\\n",
    "            GHSL_bands + MODIS + ESACCI_bands + Global_urban_He_1992_2016 "
   ]
  },
  {
   "cell_type": "code",
   "execution_count": null,
   "metadata": {},
   "outputs": [],
   "source": []
  },
  {
   "cell_type": "code",
   "execution_count": 30,
   "metadata": {},
   "outputs": [
    {
     "data": {
      "application/vnd.jupyter.widget-view+json": {
       "model_id": "4774378950614cc7b4f48149aa0c96f0",
       "version_major": 2,
       "version_minor": 0
      },
      "text/plain": [
       "Map(center=[34.4384, 115.6491], controls=(WidgetControl(options=['position'], widget=HBox(children=(ToggleButt…"
      ]
     },
     "metadata": {},
     "output_type": "display_data"
    }
   ],
   "source": [
    "# prepare one img and add it to map\n",
    "in_img = Global_Land_Cover_30_bands_re\n",
    "source = in_img.get('Source').getInfo()\n",
    "year = in_img.get('Year').getInfo()\n",
    "name = f'{source}_{year}'\n",
    "\n",
    "Map = geemap.Map()\n",
    "Map.add_basemap('HYBRID')\n",
    "Map.setCenter(115.6491, 34.4384,10)\n",
    "\n",
    "Map.addLayer(ee.Image(in_img),{'min':0,'max':35},name)\n",
    "Map"
   ]
  },
  {
   "cell_type": "code",
   "execution_count": null,
   "metadata": {},
   "outputs": [],
   "source": []
  },
  {
   "cell_type": "markdown",
   "metadata": {},
   "source": [
    "##### Calculate the area changes and accuracy "
   ]
  },
  {
   "cell_type": "code",
   "execution_count": null,
   "metadata": {},
   "outputs": [],
   "source": []
  },
  {
   "cell_type": "code",
   "execution_count": 33,
   "metadata": {
    "scrolled": true
   },
   "outputs": [
    {
     "name": "stdout",
     "output_type": "stream",
     "text": [
      "Area/Accuracy calculation of My_1991 of resolution 30 finished!\n",
      "Area/Accuracy calculation of My_1994 of resolution 30 finished!\n",
      "Area/Accuracy calculation of My_1997 of resolution 30 finished!\n",
      "Area/Accuracy calculation of My_2000 of resolution 30 finished!\n",
      "Area/Accuracy calculation of My_2003 of resolution 30 finished!\n",
      "Area/Accuracy calculation of My_2006 of resolution 30 finished!\n",
      "Area/Accuracy calculation of My_2009 of resolution 30 finished!\n",
      "Area/Accuracy calculation of My_2012 of resolution 30 finished!\n",
      "Area/Accuracy calculation of My_2015 of resolution 30 finished!\n",
      "Area/Accuracy calculation of My_2018 of resolution 30 finished!\n",
      "Area/Accuracy calculation of GAIA_1985 of resolution 30 finished!\n",
      "Area/Accuracy calculation of GAIA_1986 of resolution 30 finished!\n",
      "Area/Accuracy calculation of GAIA_1987 of resolution 30 finished!\n",
      "Area/Accuracy calculation of GAIA_1988 of resolution 30 finished!\n",
      "Area/Accuracy calculation of GAIA_1989 of resolution 30 finished!\n",
      "Area/Accuracy calculation of GAIA_1990 of resolution 30 finished!\n",
      "Area/Accuracy calculation of GAIA_1991 of resolution 30 finished!\n",
      "Area/Accuracy calculation of GAIA_1992 of resolution 30 finished!\n",
      "Area/Accuracy calculation of GAIA_1993 of resolution 30 finished!\n",
      "Area/Accuracy calculation of GAIA_1994 of resolution 30 finished!\n",
      "Area/Accuracy calculation of GAIA_1995 of resolution 30 finished!\n",
      "Area/Accuracy calculation of GAIA_1996 of resolution 30 finished!\n",
      "Area/Accuracy calculation of GAIA_1997 of resolution 30 finished!\n",
      "Area/Accuracy calculation of GAIA_1998 of resolution 30 finished!\n",
      "Area/Accuracy calculation of GAIA_1999 of resolution 30 finished!\n",
      "Area/Accuracy calculation of GAIA_2000 of resolution 30 finished!\n",
      "Area/Accuracy calculation of GAIA_2001 of resolution 30 finished!\n",
      "Area/Accuracy calculation of GAIA_2002 of resolution 30 finished!\n",
      "Area/Accuracy calculation of GAIA_2003 of resolution 30 finished!\n",
      "Area/Accuracy calculation of GAIA_2004 of resolution 30 finished!\n",
      "Area/Accuracy calculation of GAIA_2005 of resolution 30 finished!\n",
      "Area/Accuracy calculation of GAIA_2006 of resolution 30 finished!\n",
      "Area/Accuracy calculation of GAIA_2007 of resolution 30 finished!\n",
      "Area/Accuracy calculation of GAIA_2008 of resolution 30 finished!\n",
      "Area/Accuracy calculation of GAIA_2009 of resolution 30 finished!\n",
      "Area/Accuracy calculation of GAIA_2010 of resolution 30 finished!\n",
      "Area/Accuracy calculation of GAIA_2011 of resolution 30 finished!\n",
      "Area/Accuracy calculation of GAIA_2012 of resolution 30 finished!\n",
      "Area/Accuracy calculation of GAIA_2013 of resolution 30 finished!\n",
      "Area/Accuracy calculation of GAIA_2014 of resolution 30 finished!\n",
      "Area/Accuracy calculation of GAIA_2015 of resolution 30 finished!\n",
      "Area/Accuracy calculation of GAIA_2016 of resolution 30 finished!\n",
      "Area/Accuracy calculation of GAIA_2017 of resolution 30 finished!\n",
      "Area/Accuracy calculation of GAIA_2018 of resolution 30 finished!\n",
      "Area/Accuracy calculation of GIS_2015 of resolution 30 finished!\n",
      "Area/Accuracy calculation of Global Urban Liu_1990 of resolution 30 finished!\n",
      "Area/Accuracy calculation of Global Urban Liu_1995 of resolution 30 finished!\n",
      "Area/Accuracy calculation of Global Urban Liu_2000 of resolution 30 finished!\n",
      "Area/Accuracy calculation of Global Urban Liu_2005 of resolution 30 finished!\n",
      "Area/Accuracy calculation of Global Urban Liu_2010 of resolution 30 finished!\n",
      "Area/Accuracy calculation of Global Urban Liu_2015 of resolution 30 finished!\n",
      "Area/Accuracy calculation of Global Landcover 30_2000 of resolution 30 finished!\n",
      "Area/Accuracy calculation of Global Landcover 30_2010 of resolution 30 finished!\n",
      "Area/Accuracy calculation of Global Landcover 30_2020 of resolution 30 finished!\n",
      "Area/Accuracy calculation of GHSL_2015 of resolution 38 finished!\n",
      "Area/Accuracy calculation of GHSL_2000 of resolution 38 finished!\n",
      "Area/Accuracy calculation of GHSL_1990 of resolution 38 finished!\n",
      "Area/Accuracy calculation of MODIS_2001 of resolution 500 finished!\n",
      "Area/Accuracy calculation of MODIS_2002 of resolution 500 finished!\n",
      "Area/Accuracy calculation of MODIS_2003 of resolution 500 finished!\n",
      "Area/Accuracy calculation of MODIS_2004 of resolution 500 finished!\n",
      "Area/Accuracy calculation of MODIS_2005 of resolution 500 finished!\n",
      "Area/Accuracy calculation of MODIS_2006 of resolution 500 finished!\n",
      "Area/Accuracy calculation of MODIS_2007 of resolution 500 finished!\n",
      "Area/Accuracy calculation of MODIS_2008 of resolution 500 finished!\n",
      "Area/Accuracy calculation of MODIS_2009 of resolution 500 finished!\n",
      "Area/Accuracy calculation of MODIS_2010 of resolution 500 finished!\n",
      "Area/Accuracy calculation of MODIS_2011 of resolution 500 finished!\n",
      "Area/Accuracy calculation of MODIS_2012 of resolution 500 finished!\n",
      "Area/Accuracy calculation of MODIS_2013 of resolution 500 finished!\n",
      "Area/Accuracy calculation of MODIS_2014 of resolution 500 finished!\n",
      "Area/Accuracy calculation of MODIS_2015 of resolution 500 finished!\n",
      "Area/Accuracy calculation of MODIS_2016 of resolution 500 finished!\n",
      "Area/Accuracy calculation of MODIS_2017 of resolution 500 finished!\n",
      "Area/Accuracy calculation of MODIS_2018 of resolution 500 finished!\n",
      "Area/Accuracy calculation of MODIS_2019 of resolution 500 finished!\n",
      "Area/Accuracy calculation of ESACCI_1992 of resolution 300 finished!\n",
      "Area/Accuracy calculation of ESACCI_1993 of resolution 300 finished!\n",
      "Area/Accuracy calculation of ESACCI_1994 of resolution 300 finished!\n",
      "Area/Accuracy calculation of ESACCI_1995 of resolution 300 finished!\n",
      "Area/Accuracy calculation of ESACCI_1996 of resolution 300 finished!\n",
      "Area/Accuracy calculation of ESACCI_1997 of resolution 300 finished!\n",
      "Area/Accuracy calculation of ESACCI_1998 of resolution 300 finished!\n",
      "Area/Accuracy calculation of ESACCI_1999 of resolution 300 finished!\n",
      "Area/Accuracy calculation of ESACCI_2000 of resolution 300 finished!\n",
      "Area/Accuracy calculation of ESACCI_2001 of resolution 300 finished!\n",
      "Area/Accuracy calculation of ESACCI_2002 of resolution 300 finished!\n",
      "Area/Accuracy calculation of ESACCI_2003 of resolution 300 finished!\n",
      "Area/Accuracy calculation of ESACCI_2004 of resolution 300 finished!\n",
      "Area/Accuracy calculation of ESACCI_2005 of resolution 300 finished!\n",
      "Area/Accuracy calculation of ESACCI_2006 of resolution 300 finished!\n",
      "Area/Accuracy calculation of ESACCI_2007 of resolution 300 finished!\n",
      "Area/Accuracy calculation of ESACCI_2008 of resolution 300 finished!\n",
      "Area/Accuracy calculation of ESACCI_2009 of resolution 300 finished!\n",
      "Area/Accuracy calculation of ESACCI_2010 of resolution 300 finished!\n",
      "Area/Accuracy calculation of ESACCI_2011 of resolution 300 finished!\n",
      "Area/Accuracy calculation of ESACCI_2012 of resolution 300 finished!\n",
      "Area/Accuracy calculation of ESACCI_2013 of resolution 300 finished!\n",
      "Area/Accuracy calculation of ESACCI_2014 of resolution 300 finished!\n",
      "Area/Accuracy calculation of ESACCI_2015 of resolution 300 finished!\n"
     ]
    },
    {
     "name": "stderr",
     "output_type": "stream",
     "text": [
      "../Process_1_GEE_Python_Classification\\BackGround_modules\\Class_3_Calculate_the_accuracy.py:82: RuntimeWarning: invalid value encountered in true_divide\n",
      "  precision_acc = np.diag(self.error_matrix)/np.sum(self.error_matrix,axis=0)\n"
     ]
    },
    {
     "name": "stdout",
     "output_type": "stream",
     "text": [
      "Area/Accuracy calculation of Global Urban He_1992 of resolution 1000 finished!\n",
      "Area/Accuracy calculation of Global Urban He_1996 of resolution 1000 finished!\n",
      "Area/Accuracy calculation of Global Urban He_2000 of resolution 1000 finished!\n",
      "Area/Accuracy calculation of Global Urban He_2006 of resolution 1000 finished!\n",
      "Area/Accuracy calculation of Global Urban He_2010 of resolution 1000 finished!\n",
      "Area/Accuracy calculation of Global Urban He_2016 of resolution 1000 finished!\n"
     ]
    }
   ],
   "source": [
    "# initiate an empty list to hold the result\n",
    "Stats_df_list = []\n",
    "Accuracy_df_list = []\n",
    "\n",
    "for band in All_bands:\n",
    "    \n",
    "    band = band.rename('classification')\n",
    "    source = band.get('Source').getInfo()\n",
    "    year = band.get('Year').getInfo()\n",
    "    scale = band.get('Scale').getInfo()\n",
    "    \n",
    "    #_____________________________compute the area__________________\n",
    "    \n",
    "    # get the pixel count \n",
    "    Stats   = band.reduceRegions(reducer     = ee.Reducer.sum(), \n",
    "                                 collection  = Zoning_shp, \n",
    "                                 scale       = scale,\n",
    "                                 tileScale   = 1).select(['EN_Name','sum']).getInfo()\n",
    "    \n",
    "    # store the pixel count into a df \n",
    "    sum_df = pd.DataFrame([i['properties'] for i in Stats['features']])\n",
    "    sum_df['year'] = year\n",
    "    sum_df['Source'] = source\n",
    "    sum_df['Scale'] = scale\n",
    "    \n",
    "    # append the area_sum to df_list\n",
    "    Stats_df_list.append(sum_df)\n",
    "    \n",
    "    #_______________________________compute the accuracy _________________________\n",
    "    \n",
    "    # determine the sample sets\n",
    "    if year < 2014:\n",
    "        sample = Untouched_sample[0]\n",
    "    else:\n",
    "        sample = Untouched_sample[1]\n",
    "        \n",
    "    # extract the img pixel value to test_sample\n",
    "    sample_with_classification   = band.sampleRegions(collection = sample, \n",
    "                                                      properties = ['Built'], \n",
    "                                                      scale      = scale)\n",
    "    \n",
    "    # compute the accuracy and put them into a df\n",
    "    Acc_dict = {}\n",
    "    Acc_dict[(source,year)] = Accuracy_assesment(sample_with_classification).Stp_1_Calculate_Accuracy()\n",
    "    Acc_df = pd.DataFrame(Acc_dict).T\n",
    "    \n",
    "    Accuracy_df_list.append(Acc_df)    \n",
    "    \n",
    "    # print out the process\n",
    "    print(f'Area/Accuracy calculation of {source}_{year} of resolution {scale} finished!')"
   ]
  },
  {
   "cell_type": "code",
   "execution_count": null,
   "metadata": {},
   "outputs": [],
   "source": []
  },
  {
   "cell_type": "code",
   "execution_count": null,
   "metadata": {},
   "outputs": [],
   "source": []
  },
  {
   "cell_type": "markdown",
   "metadata": {},
   "source": [
    "##### Save result_df  to disk"
   ]
  },
  {
   "cell_type": "code",
   "execution_count": null,
   "metadata": {},
   "outputs": [],
   "source": []
  },
  {
   "cell_type": "code",
   "execution_count": 3,
   "metadata": {},
   "outputs": [],
   "source": [
    "# # store the area change to a df\n",
    "# Area_stack = pd.concat(Stats_df_list)\n",
    "\n",
    "# # compute the area_km2\n",
    "# Area_stack['area_km2'] = Area_stack['sum'] * Area_stack['Scale'] * Area_stack['Scale']/1000/1000\n",
    "\n",
    "# # save to dis\n",
    "# Area_stack.to_csv('./Result/Area_change.csv',index=False)\n",
    "\n",
    "# read csv\n",
    "Area_stack = pd.read_csv('./Result/Area_change.csv')"
   ]
  },
  {
   "cell_type": "code",
   "execution_count": null,
   "metadata": {},
   "outputs": [],
   "source": []
  },
  {
   "cell_type": "code",
   "execution_count": 4,
   "metadata": {},
   "outputs": [],
   "source": [
    "# # Formatting the GAIA_accuracy dataframe\n",
    "# Accuracy_df = pd.concat(Accuracy_df_lis).reset_index()\n",
    "# Accuracy_df.columns =['Source','year','Overall_ACC', 'Precisioin_built','Precisioin_non_built', 'Recall_built', 'Recall_non_built']\n",
    "\n",
    "# # save to disk\n",
    "# Accuracy_df.to_csv('./Result/Accuracy_comparision.csv',index=False)\n",
    "\n",
    "# load the df\n",
    "Accuracy_df = pd.read_csv('./Result/Accuracy_comparision.csv')"
   ]
  },
  {
   "cell_type": "code",
   "execution_count": null,
   "metadata": {},
   "outputs": [],
   "source": []
  },
  {
   "cell_type": "code",
   "execution_count": null,
   "metadata": {},
   "outputs": [],
   "source": []
  },
  {
   "cell_type": "markdown",
   "metadata": {},
   "source": [
    "#### Observe that there is a noticibel dirrerence between my result and other datasets"
   ]
  },
  {
   "cell_type": "code",
   "execution_count": null,
   "metadata": {},
   "outputs": [],
   "source": []
  },
  {
   "cell_type": "code",
   "execution_count": 5,
   "metadata": {},
   "outputs": [
    {
     "data": {
      "text/html": [
       "<div>\n",
       "<style scoped>\n",
       "    .dataframe tbody tr th:only-of-type {\n",
       "        vertical-align: middle;\n",
       "    }\n",
       "\n",
       "    .dataframe tbody tr th {\n",
       "        vertical-align: top;\n",
       "    }\n",
       "\n",
       "    .dataframe thead th {\n",
       "        text-align: right;\n",
       "    }\n",
       "</style>\n",
       "<table border=\"1\" class=\"dataframe\">\n",
       "  <thead>\n",
       "    <tr style=\"text-align: right;\">\n",
       "      <th></th>\n",
       "      <th>EN_Name</th>\n",
       "      <th>sum</th>\n",
       "      <th>year</th>\n",
       "      <th>Source</th>\n",
       "      <th>Scale</th>\n",
       "      <th>area_km2</th>\n",
       "    </tr>\n",
       "  </thead>\n",
       "  <tbody>\n",
       "    <tr>\n",
       "      <th>0</th>\n",
       "      <td>Shandong</td>\n",
       "      <td>1.163410e+07</td>\n",
       "      <td>1991</td>\n",
       "      <td>My</td>\n",
       "      <td>30</td>\n",
       "      <td>10470.690053</td>\n",
       "    </tr>\n",
       "    <tr>\n",
       "      <th>1</th>\n",
       "      <td>Henan</td>\n",
       "      <td>9.259521e+06</td>\n",
       "      <td>1991</td>\n",
       "      <td>My</td>\n",
       "      <td>30</td>\n",
       "      <td>8333.569256</td>\n",
       "    </tr>\n",
       "    <tr>\n",
       "      <th>2</th>\n",
       "      <td>Beijing</td>\n",
       "      <td>9.284888e+05</td>\n",
       "      <td>1991</td>\n",
       "      <td>My</td>\n",
       "      <td>30</td>\n",
       "      <td>835.639938</td>\n",
       "    </tr>\n",
       "    <tr>\n",
       "      <th>3</th>\n",
       "      <td>Tianjin</td>\n",
       "      <td>8.087451e+05</td>\n",
       "      <td>1991</td>\n",
       "      <td>My</td>\n",
       "      <td>30</td>\n",
       "      <td>727.870624</td>\n",
       "    </tr>\n",
       "    <tr>\n",
       "      <th>4</th>\n",
       "      <td>Hebei</td>\n",
       "      <td>7.989920e+06</td>\n",
       "      <td>1991</td>\n",
       "      <td>My</td>\n",
       "      <td>30</td>\n",
       "      <td>7190.927612</td>\n",
       "    </tr>\n",
       "    <tr>\n",
       "      <th>...</th>\n",
       "      <td>...</td>\n",
       "      <td>...</td>\n",
       "      <td>...</td>\n",
       "      <td>...</td>\n",
       "      <td>...</td>\n",
       "      <td>...</td>\n",
       "    </tr>\n",
       "    <tr>\n",
       "      <th>737</th>\n",
       "      <td>Beijing</td>\n",
       "      <td>2.519698e+03</td>\n",
       "      <td>2016</td>\n",
       "      <td>Global Urban He</td>\n",
       "      <td>1000</td>\n",
       "      <td>2519.698039</td>\n",
       "    </tr>\n",
       "    <tr>\n",
       "      <th>738</th>\n",
       "      <td>Tianjin</td>\n",
       "      <td>2.005165e+03</td>\n",
       "      <td>2016</td>\n",
       "      <td>Global Urban He</td>\n",
       "      <td>1000</td>\n",
       "      <td>2005.164706</td>\n",
       "    </tr>\n",
       "    <tr>\n",
       "      <th>739</th>\n",
       "      <td>Hebei</td>\n",
       "      <td>4.955259e+03</td>\n",
       "      <td>2016</td>\n",
       "      <td>Global Urban He</td>\n",
       "      <td>1000</td>\n",
       "      <td>4955.258824</td>\n",
       "    </tr>\n",
       "    <tr>\n",
       "      <th>740</th>\n",
       "      <td>Anhui</td>\n",
       "      <td>3.581431e+03</td>\n",
       "      <td>2016</td>\n",
       "      <td>Global Urban He</td>\n",
       "      <td>1000</td>\n",
       "      <td>3581.431373</td>\n",
       "    </tr>\n",
       "    <tr>\n",
       "      <th>741</th>\n",
       "      <td>Jiangsu</td>\n",
       "      <td>9.547282e+03</td>\n",
       "      <td>2016</td>\n",
       "      <td>Global Urban He</td>\n",
       "      <td>1000</td>\n",
       "      <td>9547.282353</td>\n",
       "    </tr>\n",
       "  </tbody>\n",
       "</table>\n",
       "<p>742 rows × 6 columns</p>\n",
       "</div>"
      ],
      "text/plain": [
       "      EN_Name           sum  year           Source  Scale      area_km2\n",
       "0    Shandong  1.163410e+07  1991               My     30  10470.690053\n",
       "1       Henan  9.259521e+06  1991               My     30   8333.569256\n",
       "2     Beijing  9.284888e+05  1991               My     30    835.639938\n",
       "3     Tianjin  8.087451e+05  1991               My     30    727.870624\n",
       "4       Hebei  7.989920e+06  1991               My     30   7190.927612\n",
       "..        ...           ...   ...              ...    ...           ...\n",
       "737   Beijing  2.519698e+03  2016  Global Urban He   1000   2519.698039\n",
       "738   Tianjin  2.005165e+03  2016  Global Urban He   1000   2005.164706\n",
       "739     Hebei  4.955259e+03  2016  Global Urban He   1000   4955.258824\n",
       "740     Anhui  3.581431e+03  2016  Global Urban He   1000   3581.431373\n",
       "741   Jiangsu  9.547282e+03  2016  Global Urban He   1000   9547.282353\n",
       "\n",
       "[742 rows x 6 columns]"
      ]
     },
     "execution_count": 5,
     "metadata": {},
     "output_type": "execute_result"
    }
   ],
   "source": [
    "Area_stack"
   ]
  },
  {
   "cell_type": "code",
   "execution_count": null,
   "metadata": {},
   "outputs": [],
   "source": []
  },
  {
   "cell_type": "markdown",
   "metadata": {},
   "source": [
    "##### Compute the area_propotion of each region"
   ]
  },
  {
   "cell_type": "code",
   "execution_count": 6,
   "metadata": {},
   "outputs": [
    {
     "name": "stderr",
     "output_type": "stream",
     "text": [
      "C:\\Users\\wangj\\Anaconda3\\envs\\ee_py3\\lib\\site-packages\\ipykernel_launcher.py:3: SettingWithCopyWarning: \n",
      "A value is trying to be set on a copy of a slice from a DataFrame.\n",
      "Try using .loc[row_indexer,col_indexer] = value instead\n",
      "\n",
      "See the caveats in the documentation: https://pandas.pydata.org/pandas-docs/stable/user_guide/indexing.html#returning-a-view-versus-a-copy\n",
      "  This is separate from the ipykernel package so we can avoid doing imports until\n",
      "C:\\Users\\wangj\\Anaconda3\\envs\\ee_py3\\lib\\site-packages\\ipykernel_launcher.py:22: SettingWithCopyWarning: \n",
      "A value is trying to be set on a copy of a slice from a DataFrame.\n",
      "Try using .loc[row_indexer,col_indexer] = value instead\n",
      "\n",
      "See the caveats in the documentation: https://pandas.pydata.org/pandas-docs/stable/user_guide/indexing.html#returning-a-view-versus-a-copy\n"
     ]
    }
   ],
   "source": [
    "# get the area change of this study\n",
    "Area_my = Area_stack[Area_stack['Source']=='My']\n",
    "Area_my['Proportion'] = 0\n",
    "\n",
    "# get the yealy area sum\n",
    "Area_sum_each_year = Area_my.groupby(['year']).sum()\n",
    "Area_sum_each_year = {k:v for k,v in zip(Area_sum_each_year.index,Area_sum_each_year['area_km2'])}\n",
    "\n",
    "# compute the area propotion of each region in each year\n",
    "area_propotion = []\n",
    "\n",
    "for idx,row in Area_my.iterrows():\n",
    "    year = row['year']\n",
    "    area = row['area_km2']\n",
    "    area_total = Area_sum_each_year[year]\n",
    "    \n",
    "    propotion = area/area_total *100\n",
    "    \n",
    "    area_propotion.append(propotion)\n",
    "    \n",
    "# add the percent-increment to area_df\n",
    "Area_my['Proportion'] = area_propotion"
   ]
  },
  {
   "cell_type": "code",
   "execution_count": null,
   "metadata": {},
   "outputs": [],
   "source": []
  },
  {
   "cell_type": "code",
   "execution_count": 9,
   "metadata": {
    "scrolled": false
   },
   "outputs": [
    {
     "data": {
      "text/plain": [
       "<matplotlib.legend.Legend at 0x1be652472b0>"
      ]
     },
     "execution_count": 9,
     "metadata": {},
     "output_type": "execute_result"
    },
    {
     "data": {
      "image/png": "[encoded data removed]",
      "text/plain": [
       "<Figure size 720x432 with 1 Axes>"
      ]
     },
     "metadata": {
      "needs_background": "light"
     },
     "output_type": "display_data"
    }
   ],
   "source": [
    "plt.figure(figsize=(10,6))\n",
    "plt.stackplot(Area_my['year'].unique().tolist(),\n",
    "              np.array(Area_my['Proportion']).reshape(-1,7).T.tolist(),\n",
    "              labels = Area_my['EN_Name'].unique().tolist())\n",
    "\n",
    "plt.xlabel('Year',fontsize=15)\n",
    "plt.xticks(fontsize=15)\n",
    "plt.ylabel('Percentage',fontsize=15)\n",
    "plt.yticks(fontsize=15)\n",
    "plt.legend(fontsize=15)"
   ]
  },
  {
   "cell_type": "code",
   "execution_count": null,
   "metadata": {},
   "outputs": [],
   "source": []
  },
  {
   "cell_type": "markdown",
   "metadata": {},
   "source": [
    "##### Compute the area_proportioin_to_total of each region"
   ]
  },
  {
   "cell_type": "code",
   "execution_count": 13,
   "metadata": {},
   "outputs": [
    {
     "name": "stderr",
     "output_type": "stream",
     "text": [
      "C:\\Users\\wangj\\Anaconda3\\envs\\ee_py3\\lib\\site-packages\\ipykernel_launcher.py:3: SettingWithCopyWarning: \n",
      "A value is trying to be set on a copy of a slice from a DataFrame.\n",
      "Try using .loc[row_indexer,col_indexer] = value instead\n",
      "\n",
      "See the caveats in the documentation: https://pandas.pydata.org/pandas-docs/stable/user_guide/indexing.html#returning-a-view-versus-a-copy\n",
      "  This is separate from the ipykernel package so we can avoid doing imports until\n"
     ]
    }
   ],
   "source": [
    "# get the area change of this study\n",
    "Area_my = Area_stack[Area_stack['Source']=='My']\n",
    "Area_my['Proportion_total'] = 0"
   ]
  },
  {
   "cell_type": "code",
   "execution_count": 23,
   "metadata": {},
   "outputs": [
    {
     "name": "stderr",
     "output_type": "stream",
     "text": [
      "C:\\Users\\wangj\\Anaconda3\\envs\\ee_py3\\lib\\site-packages\\ipykernel_launcher.py:18: SettingWithCopyWarning: \n",
      "A value is trying to be set on a copy of a slice from a DataFrame.\n",
      "Try using .loc[row_indexer,col_indexer] = value instead\n",
      "\n",
      "See the caveats in the documentation: https://pandas.pydata.org/pandas-docs/stable/user_guide/indexing.html#returning-a-view-versus-a-copy\n"
     ]
    }
   ],
   "source": [
    "# get the yealy area sum\n",
    "area_km2 =[ 154891,165607,16373,11642,187252,140151,102142]\n",
    "Area_each_region = {k:v for k,v in zip(Area_my['EN_Name'].unique(),area_km2)}\n",
    "\n",
    "# compute the area propotion of each region in each year\n",
    "area_propotion = []\n",
    "\n",
    "for idx,row in Area_my.iterrows():\n",
    "    name = row['EN_Name']\n",
    "    area = row['area_km2']\n",
    "    area_protion_to_total = Area_each_region[name]\n",
    "    \n",
    "    propotion = area/area_protion_to_total *100\n",
    "    \n",
    "    area_propotion.append(propotion)\n",
    "    \n",
    "# add the percent-increment to area_df\n",
    "Area_my['Proportion_total'] = area_propotion\n",
    "\n",
    "# save df to local disk\n",
    "Area_my.to_csv('./Result/Area_percet_change_each_region.csv')"
   ]
  },
  {
   "cell_type": "code",
   "execution_count": 24,
   "metadata": {},
   "outputs": [
    {
     "data": {
      "text/plain": [
       "<AxesSubplot:xlabel='year', ylabel='Proportion_total'>"
      ]
     },
     "execution_count": 24,
     "metadata": {},
     "output_type": "execute_result"
    },
    {
     "data": {
      "image/png": "[encoded data removed]",
      "text/plain": [
       "<Figure size 1152x648 with 1 Axes>"
      ]
     },
     "metadata": {
      "needs_background": "light"
     },
     "output_type": "display_data"
    }
   ],
   "source": [
    "plt.figure(figsize=(16,9))\n",
    "sns.lineplot(data=Area_my,x='year',y='Proportion_total',hue='EN_Name')"
   ]
  },
  {
   "cell_type": "code",
   "execution_count": null,
   "metadata": {},
   "outputs": [],
   "source": []
  },
  {
   "cell_type": "markdown",
   "metadata": {},
   "source": [
    "##### Get the area increasement in the percentage perspective"
   ]
  },
  {
   "cell_type": "code",
   "execution_count": 10,
   "metadata": {},
   "outputs": [
    {
     "name": "stderr",
     "output_type": "stream",
     "text": [
      "C:\\Users\\wangj\\Anaconda3\\envs\\ee_py3\\lib\\site-packages\\ipykernel_launcher.py:3: SettingWithCopyWarning: \n",
      "A value is trying to be set on a copy of a slice from a DataFrame.\n",
      "Try using .loc[row_indexer,col_indexer] = value instead\n",
      "\n",
      "See the caveats in the documentation: https://pandas.pydata.org/pandas-docs/stable/user_guide/indexing.html#returning-a-view-versus-a-copy\n",
      "  This is separate from the ipykernel package so we can avoid doing imports until\n",
      "C:\\Users\\wangj\\Anaconda3\\envs\\ee_py3\\lib\\site-packages\\ipykernel_launcher.py:22: SettingWithCopyWarning: \n",
      "A value is trying to be set on a copy of a slice from a DataFrame.\n",
      "Try using .loc[row_indexer,col_indexer] = value instead\n",
      "\n",
      "See the caveats in the documentation: https://pandas.pydata.org/pandas-docs/stable/user_guide/indexing.html#returning-a-view-versus-a-copy\n"
     ]
    }
   ],
   "source": [
    "# get only the area increase for this study\n",
    "Area_stack_my = Area_stack[Area_stack['Source']=='My']\n",
    "Area_stack_my['Percent comparasion'] = 0\n",
    "\n",
    "# get the base area of each provinces\n",
    "Area_base_1991 = {k:v for k,v in zip(Area_stack_my[Area_stack_my['year'] == 1991]['EN_Name'].values,\n",
    "                                      Area_stack_my[Area_stack_my['year'] == 1991]['area_km2'].values)}\n",
    "\n",
    "# get the arae percentage increment\n",
    "area_pct_increase = []\n",
    "\n",
    "for idx,row in Area_stack_my.iterrows():\n",
    "    name = row['EN_Name']\n",
    "    area = row['area_km2']\n",
    "    base_are = Area_base_1991[name]\n",
    "    \n",
    "    pec_compare = area/base_are *100\n",
    "    \n",
    "    area_pct_increase.append(pec_compare)\n",
    "    \n",
    "# add the percent-increment to area_df\n",
    "Area_stack_my['Percent comparasion'] = area_pct_increase\n",
    "\n",
    "# save df to local disk\n",
    "Area_stack_my.to_csv('./Result/Area_change_percent.csv')"
   ]
  },
  {
   "cell_type": "code",
   "execution_count": 11,
   "metadata": {},
   "outputs": [
    {
     "data": {
      "text/html": [
       "<div>\n",
       "<style scoped>\n",
       "    .dataframe tbody tr th:only-of-type {\n",
       "        vertical-align: middle;\n",
       "    }\n",
       "\n",
       "    .dataframe tbody tr th {\n",
       "        vertical-align: top;\n",
       "    }\n",
       "\n",
       "    .dataframe thead th {\n",
       "        text-align: right;\n",
       "    }\n",
       "</style>\n",
       "<table border=\"1\" class=\"dataframe\">\n",
       "  <thead>\n",
       "    <tr style=\"text-align: right;\">\n",
       "      <th></th>\n",
       "      <th>EN_Name</th>\n",
       "      <th>sum</th>\n",
       "      <th>year</th>\n",
       "      <th>Source</th>\n",
       "      <th>Scale</th>\n",
       "      <th>area_km2</th>\n",
       "      <th>Percent comparasion</th>\n",
       "    </tr>\n",
       "  </thead>\n",
       "  <tbody>\n",
       "    <tr>\n",
       "      <th>0</th>\n",
       "      <td>Shandong</td>\n",
       "      <td>1.163410e+07</td>\n",
       "      <td>1991</td>\n",
       "      <td>My</td>\n",
       "      <td>30</td>\n",
       "      <td>10470.690053</td>\n",
       "      <td>100.000000</td>\n",
       "    </tr>\n",
       "    <tr>\n",
       "      <th>1</th>\n",
       "      <td>Henan</td>\n",
       "      <td>9.259521e+06</td>\n",
       "      <td>1991</td>\n",
       "      <td>My</td>\n",
       "      <td>30</td>\n",
       "      <td>8333.569256</td>\n",
       "      <td>100.000000</td>\n",
       "    </tr>\n",
       "    <tr>\n",
       "      <th>2</th>\n",
       "      <td>Beijing</td>\n",
       "      <td>9.284888e+05</td>\n",
       "      <td>1991</td>\n",
       "      <td>My</td>\n",
       "      <td>30</td>\n",
       "      <td>835.639938</td>\n",
       "      <td>100.000000</td>\n",
       "    </tr>\n",
       "    <tr>\n",
       "      <th>3</th>\n",
       "      <td>Tianjin</td>\n",
       "      <td>8.087451e+05</td>\n",
       "      <td>1991</td>\n",
       "      <td>My</td>\n",
       "      <td>30</td>\n",
       "      <td>727.870624</td>\n",
       "      <td>100.000000</td>\n",
       "    </tr>\n",
       "    <tr>\n",
       "      <th>4</th>\n",
       "      <td>Hebei</td>\n",
       "      <td>7.989920e+06</td>\n",
       "      <td>1991</td>\n",
       "      <td>My</td>\n",
       "      <td>30</td>\n",
       "      <td>7190.927612</td>\n",
       "      <td>100.000000</td>\n",
       "    </tr>\n",
       "    <tr>\n",
       "      <th>...</th>\n",
       "      <td>...</td>\n",
       "      <td>...</td>\n",
       "      <td>...</td>\n",
       "      <td>...</td>\n",
       "      <td>...</td>\n",
       "      <td>...</td>\n",
       "      <td>...</td>\n",
       "    </tr>\n",
       "    <tr>\n",
       "      <th>65</th>\n",
       "      <td>Beijing</td>\n",
       "      <td>2.922325e+06</td>\n",
       "      <td>2018</td>\n",
       "      <td>My</td>\n",
       "      <td>30</td>\n",
       "      <td>2630.092486</td>\n",
       "      <td>314.739922</td>\n",
       "    </tr>\n",
       "    <tr>\n",
       "      <th>66</th>\n",
       "      <td>Tianjin</td>\n",
       "      <td>3.250756e+06</td>\n",
       "      <td>2018</td>\n",
       "      <td>My</td>\n",
       "      <td>30</td>\n",
       "      <td>2925.680241</td>\n",
       "      <td>401.950587</td>\n",
       "    </tr>\n",
       "    <tr>\n",
       "      <th>67</th>\n",
       "      <td>Hebei</td>\n",
       "      <td>2.272699e+07</td>\n",
       "      <td>2018</td>\n",
       "      <td>My</td>\n",
       "      <td>30</td>\n",
       "      <td>20454.292786</td>\n",
       "      <td>284.445817</td>\n",
       "    </tr>\n",
       "    <tr>\n",
       "      <th>68</th>\n",
       "      <td>Anhui</td>\n",
       "      <td>2.341218e+07</td>\n",
       "      <td>2018</td>\n",
       "      <td>My</td>\n",
       "      <td>30</td>\n",
       "      <td>21070.963736</td>\n",
       "      <td>374.334240</td>\n",
       "    </tr>\n",
       "    <tr>\n",
       "      <th>69</th>\n",
       "      <td>Jiangsu</td>\n",
       "      <td>2.690009e+07</td>\n",
       "      <td>2018</td>\n",
       "      <td>My</td>\n",
       "      <td>30</td>\n",
       "      <td>24210.079772</td>\n",
       "      <td>509.275402</td>\n",
       "    </tr>\n",
       "  </tbody>\n",
       "</table>\n",
       "<p>70 rows × 7 columns</p>\n",
       "</div>"
      ],
      "text/plain": [
       "     EN_Name           sum  year Source  Scale      area_km2  \\\n",
       "0   Shandong  1.163410e+07  1991     My     30  10470.690053   \n",
       "1      Henan  9.259521e+06  1991     My     30   8333.569256   \n",
       "2    Beijing  9.284888e+05  1991     My     30    835.639938   \n",
       "3    Tianjin  8.087451e+05  1991     My     30    727.870624   \n",
       "4      Hebei  7.989920e+06  1991     My     30   7190.927612   \n",
       "..       ...           ...   ...    ...    ...           ...   \n",
       "65   Beijing  2.922325e+06  2018     My     30   2630.092486   \n",
       "66   Tianjin  3.250756e+06  2018     My     30   2925.680241   \n",
       "67     Hebei  2.272699e+07  2018     My     30  20454.292786   \n",
       "68     Anhui  2.341218e+07  2018     My     30  21070.963736   \n",
       "69   Jiangsu  2.690009e+07  2018     My     30  24210.079772   \n",
       "\n",
       "    Percent comparasion  \n",
       "0            100.000000  \n",
       "1            100.000000  \n",
       "2            100.000000  \n",
       "3            100.000000  \n",
       "4            100.000000  \n",
       "..                  ...  \n",
       "65           314.739922  \n",
       "66           401.950587  \n",
       "67           284.445817  \n",
       "68           374.334240  \n",
       "69           509.275402  \n",
       "\n",
       "[70 rows x 7 columns]"
      ]
     },
     "execution_count": 11,
     "metadata": {},
     "output_type": "execute_result"
    }
   ],
   "source": [
    "Area_stack_my"
   ]
  },
  {
   "cell_type": "code",
   "execution_count": 12,
   "metadata": {},
   "outputs": [
    {
     "data": {
      "text/plain": [
       "<AxesSubplot:xlabel='year', ylabel='Percent comparasion'>"
      ]
     },
     "execution_count": 12,
     "metadata": {},
     "output_type": "execute_result"
    },
    {
     "data": {
      "image/png": "[encoded data removed]",
      "text/plain": [
       "<Figure size 1152x648 with 1 Axes>"
      ]
     },
     "metadata": {
      "needs_background": "light"
     },
     "output_type": "display_data"
    }
   ],
   "source": [
    "plt.figure(figsize=(16,9))\n",
    "sns.lineplot(data=Area_stack_my,x='year',y='Percent comparasion',hue='EN_Name')"
   ]
  },
  {
   "cell_type": "code",
   "execution_count": 42,
   "metadata": {},
   "outputs": [],
   "source": []
  },
  {
   "cell_type": "code",
   "execution_count": 41,
   "metadata": {},
   "outputs": [],
   "source": []
  },
  {
   "cell_type": "code",
   "execution_count": null,
   "metadata": {},
   "outputs": [],
   "source": []
  },
  {
   "cell_type": "code",
   "execution_count": 10,
   "metadata": {},
   "outputs": [
    {
     "data": {
      "text/html": [
       "<div>\n",
       "<style scoped>\n",
       "    .dataframe tbody tr th:only-of-type {\n",
       "        vertical-align: middle;\n",
       "    }\n",
       "\n",
       "    .dataframe tbody tr th {\n",
       "        vertical-align: top;\n",
       "    }\n",
       "\n",
       "    .dataframe thead th {\n",
       "        text-align: right;\n",
       "    }\n",
       "</style>\n",
       "<table border=\"1\" class=\"dataframe\">\n",
       "  <thead>\n",
       "    <tr style=\"text-align: right;\">\n",
       "      <th></th>\n",
       "      <th>Source</th>\n",
       "      <th>year</th>\n",
       "      <th>Overall_ACC</th>\n",
       "      <th>Precisioin_built</th>\n",
       "      <th>Precisioin_non_built</th>\n",
       "      <th>Recall_built</th>\n",
       "      <th>Recall_non_built</th>\n",
       "    </tr>\n",
       "  </thead>\n",
       "  <tbody>\n",
       "    <tr>\n",
       "      <th>0</th>\n",
       "      <td>My</td>\n",
       "      <td>1991</td>\n",
       "      <td>93.99</td>\n",
       "      <td>100.00</td>\n",
       "      <td>89.25</td>\n",
       "      <td>88.00</td>\n",
       "      <td>100.0</td>\n",
       "    </tr>\n",
       "    <tr>\n",
       "      <th>1</th>\n",
       "      <td>My</td>\n",
       "      <td>1994</td>\n",
       "      <td>94.39</td>\n",
       "      <td>100.00</td>\n",
       "      <td>89.90</td>\n",
       "      <td>88.81</td>\n",
       "      <td>100.0</td>\n",
       "    </tr>\n",
       "    <tr>\n",
       "      <th>2</th>\n",
       "      <td>My</td>\n",
       "      <td>1997</td>\n",
       "      <td>94.39</td>\n",
       "      <td>100.00</td>\n",
       "      <td>89.90</td>\n",
       "      <td>88.81</td>\n",
       "      <td>100.0</td>\n",
       "    </tr>\n",
       "    <tr>\n",
       "      <th>3</th>\n",
       "      <td>My</td>\n",
       "      <td>2000</td>\n",
       "      <td>94.55</td>\n",
       "      <td>99.89</td>\n",
       "      <td>90.22</td>\n",
       "      <td>89.21</td>\n",
       "      <td>99.9</td>\n",
       "    </tr>\n",
       "    <tr>\n",
       "      <th>4</th>\n",
       "      <td>My</td>\n",
       "      <td>2003</td>\n",
       "      <td>94.55</td>\n",
       "      <td>99.77</td>\n",
       "      <td>90.29</td>\n",
       "      <td>89.31</td>\n",
       "      <td>99.8</td>\n",
       "    </tr>\n",
       "    <tr>\n",
       "      <th>...</th>\n",
       "      <td>...</td>\n",
       "      <td>...</td>\n",
       "      <td>...</td>\n",
       "      <td>...</td>\n",
       "      <td>...</td>\n",
       "      <td>...</td>\n",
       "      <td>...</td>\n",
       "    </tr>\n",
       "    <tr>\n",
       "      <th>101</th>\n",
       "      <td>Global Urban He</td>\n",
       "      <td>1996</td>\n",
       "      <td>89.47</td>\n",
       "      <td>89.47</td>\n",
       "      <td>NaN</td>\n",
       "      <td>100.00</td>\n",
       "      <td>0.0</td>\n",
       "    </tr>\n",
       "    <tr>\n",
       "      <th>102</th>\n",
       "      <td>Global Urban He</td>\n",
       "      <td>2000</td>\n",
       "      <td>86.27</td>\n",
       "      <td>86.27</td>\n",
       "      <td>NaN</td>\n",
       "      <td>100.00</td>\n",
       "      <td>0.0</td>\n",
       "    </tr>\n",
       "    <tr>\n",
       "      <th>103</th>\n",
       "      <td>Global Urban He</td>\n",
       "      <td>2006</td>\n",
       "      <td>84.38</td>\n",
       "      <td>84.38</td>\n",
       "      <td>NaN</td>\n",
       "      <td>100.00</td>\n",
       "      <td>0.0</td>\n",
       "    </tr>\n",
       "    <tr>\n",
       "      <th>104</th>\n",
       "      <td>Global Urban He</td>\n",
       "      <td>2010</td>\n",
       "      <td>84.21</td>\n",
       "      <td>84.21</td>\n",
       "      <td>NaN</td>\n",
       "      <td>100.00</td>\n",
       "      <td>0.0</td>\n",
       "    </tr>\n",
       "    <tr>\n",
       "      <th>105</th>\n",
       "      <td>Global Urban He</td>\n",
       "      <td>2016</td>\n",
       "      <td>77.33</td>\n",
       "      <td>77.33</td>\n",
       "      <td>NaN</td>\n",
       "      <td>100.00</td>\n",
       "      <td>0.0</td>\n",
       "    </tr>\n",
       "  </tbody>\n",
       "</table>\n",
       "<p>106 rows × 7 columns</p>\n",
       "</div>"
      ],
      "text/plain": [
       "              Source  year  Overall_ACC  Precisioin_built  \\\n",
       "0                 My  1991        93.99            100.00   \n",
       "1                 My  1994        94.39            100.00   \n",
       "2                 My  1997        94.39            100.00   \n",
       "3                 My  2000        94.55             99.89   \n",
       "4                 My  2003        94.55             99.77   \n",
       "..               ...   ...          ...               ...   \n",
       "101  Global Urban He  1996        89.47             89.47   \n",
       "102  Global Urban He  2000        86.27             86.27   \n",
       "103  Global Urban He  2006        84.38             84.38   \n",
       "104  Global Urban He  2010        84.21             84.21   \n",
       "105  Global Urban He  2016        77.33             77.33   \n",
       "\n",
       "     Precisioin_non_built  Recall_built  Recall_non_built  \n",
       "0                   89.25         88.00             100.0  \n",
       "1                   89.90         88.81             100.0  \n",
       "2                   89.90         88.81             100.0  \n",
       "3                   90.22         89.21              99.9  \n",
       "4                   90.29         89.31              99.8  \n",
       "..                    ...           ...               ...  \n",
       "101                   NaN        100.00               0.0  \n",
       "102                   NaN        100.00               0.0  \n",
       "103                   NaN        100.00               0.0  \n",
       "104                   NaN        100.00               0.0  \n",
       "105                   NaN        100.00               0.0  \n",
       "\n",
       "[106 rows x 7 columns]"
      ]
     },
     "execution_count": 10,
     "metadata": {},
     "output_type": "execute_result"
    }
   ],
   "source": [
    "Accuracy_df"
   ]
  },
  {
   "cell_type": "code",
   "execution_count": null,
   "metadata": {},
   "outputs": [],
   "source": []
  },
  {
   "cell_type": "code",
   "execution_count": 11,
   "metadata": {},
   "outputs": [
    {
     "data": {
      "text/html": [
       "<div>\n",
       "<style scoped>\n",
       "    .dataframe tbody tr th:only-of-type {\n",
       "        vertical-align: middle;\n",
       "    }\n",
       "\n",
       "    .dataframe tbody tr th {\n",
       "        vertical-align: top;\n",
       "    }\n",
       "\n",
       "    .dataframe thead th {\n",
       "        text-align: right;\n",
       "    }\n",
       "</style>\n",
       "<table border=\"1\" class=\"dataframe\">\n",
       "  <thead>\n",
       "    <tr style=\"text-align: right;\">\n",
       "      <th></th>\n",
       "      <th>Source</th>\n",
       "      <th>year</th>\n",
       "      <th>sum</th>\n",
       "      <th>Scale</th>\n",
       "      <th>area_km2</th>\n",
       "    </tr>\n",
       "  </thead>\n",
       "  <tbody>\n",
       "    <tr>\n",
       "      <th>0</th>\n",
       "      <td>ESACCI</td>\n",
       "      <td>1992</td>\n",
       "      <td>1.501502e+05</td>\n",
       "      <td>2100</td>\n",
       "      <td>13513.518353</td>\n",
       "    </tr>\n",
       "    <tr>\n",
       "      <th>1</th>\n",
       "      <td>ESACCI</td>\n",
       "      <td>1993</td>\n",
       "      <td>1.554921e+05</td>\n",
       "      <td>2100</td>\n",
       "      <td>13994.286000</td>\n",
       "    </tr>\n",
       "    <tr>\n",
       "      <th>2</th>\n",
       "      <td>ESACCI</td>\n",
       "      <td>1994</td>\n",
       "      <td>1.603716e+05</td>\n",
       "      <td>2100</td>\n",
       "      <td>14433.441882</td>\n",
       "    </tr>\n",
       "    <tr>\n",
       "      <th>3</th>\n",
       "      <td>ESACCI</td>\n",
       "      <td>1995</td>\n",
       "      <td>1.652436e+05</td>\n",
       "      <td>2100</td>\n",
       "      <td>14871.921176</td>\n",
       "    </tr>\n",
       "    <tr>\n",
       "      <th>4</th>\n",
       "      <td>ESACCI</td>\n",
       "      <td>1996</td>\n",
       "      <td>1.701964e+05</td>\n",
       "      <td>2100</td>\n",
       "      <td>15317.678824</td>\n",
       "    </tr>\n",
       "    <tr>\n",
       "      <th>...</th>\n",
       "      <td>...</td>\n",
       "      <td>...</td>\n",
       "      <td>...</td>\n",
       "      <td>...</td>\n",
       "      <td>...</td>\n",
       "    </tr>\n",
       "    <tr>\n",
       "      <th>101</th>\n",
       "      <td>My</td>\n",
       "      <td>2006</td>\n",
       "      <td>8.473420e+07</td>\n",
       "      <td>210</td>\n",
       "      <td>76260.783844</td>\n",
       "    </tr>\n",
       "    <tr>\n",
       "      <th>102</th>\n",
       "      <td>My</td>\n",
       "      <td>2009</td>\n",
       "      <td>9.692123e+07</td>\n",
       "      <td>210</td>\n",
       "      <td>87229.104992</td>\n",
       "    </tr>\n",
       "    <tr>\n",
       "      <th>103</th>\n",
       "      <td>My</td>\n",
       "      <td>2012</td>\n",
       "      <td>1.108309e+08</td>\n",
       "      <td>210</td>\n",
       "      <td>99747.769631</td>\n",
       "    </tr>\n",
       "    <tr>\n",
       "      <th>104</th>\n",
       "      <td>My</td>\n",
       "      <td>2015</td>\n",
       "      <td>1.257254e+08</td>\n",
       "      <td>210</td>\n",
       "      <td>113152.874044</td>\n",
       "    </tr>\n",
       "    <tr>\n",
       "      <th>105</th>\n",
       "      <td>My</td>\n",
       "      <td>2018</td>\n",
       "      <td>1.461983e+08</td>\n",
       "      <td>210</td>\n",
       "      <td>131578.495080</td>\n",
       "    </tr>\n",
       "  </tbody>\n",
       "</table>\n",
       "<p>106 rows × 5 columns</p>\n",
       "</div>"
      ],
      "text/plain": [
       "     Source  year           sum  Scale       area_km2\n",
       "0    ESACCI  1992  1.501502e+05   2100   13513.518353\n",
       "1    ESACCI  1993  1.554921e+05   2100   13994.286000\n",
       "2    ESACCI  1994  1.603716e+05   2100   14433.441882\n",
       "3    ESACCI  1995  1.652436e+05   2100   14871.921176\n",
       "4    ESACCI  1996  1.701964e+05   2100   15317.678824\n",
       "..      ...   ...           ...    ...            ...\n",
       "101      My  2006  8.473420e+07    210   76260.783844\n",
       "102      My  2009  9.692123e+07    210   87229.104992\n",
       "103      My  2012  1.108309e+08    210   99747.769631\n",
       "104      My  2015  1.257254e+08    210  113152.874044\n",
       "105      My  2018  1.461983e+08    210  131578.495080\n",
       "\n",
       "[106 rows x 5 columns]"
      ]
     },
     "execution_count": 11,
     "metadata": {},
     "output_type": "execute_result"
    }
   ],
   "source": [
    "Area_each_source_year = Area_stack.groupby(['Source','year']).sum()\n",
    "Area_each_source_year = Area_each_source_year.reset_index()\n",
    "Area_each_source_year"
   ]
  },
  {
   "cell_type": "code",
   "execution_count": null,
   "metadata": {},
   "outputs": [],
   "source": []
  },
  {
   "cell_type": "code",
   "execution_count": 12,
   "metadata": {},
   "outputs": [
    {
     "data": {
      "text/plain": [
       "<AxesSubplot:xlabel='year', ylabel='area_km2'>"
      ]
     },
     "execution_count": 12,
     "metadata": {},
     "output_type": "execute_result"
    },
    {
     "data": {
      "image/png": "[encoded data removed]",
      "text/plain": [
       "<Figure size 864x576 with 1 Axes>"
      ]
     },
     "metadata": {
      "needs_background": "light"
     },
     "output_type": "display_data"
    }
   ],
   "source": [
    "plt.figure(figsize=(12,8))\n",
    "sns.scatterplot(data=Area_each_source_year,\n",
    "            x='year',\n",
    "            y='area_km2',\n",
    "            hue='Source')"
   ]
  },
  {
   "cell_type": "code",
   "execution_count": null,
   "metadata": {},
   "outputs": [],
   "source": []
  },
  {
   "cell_type": "code",
   "execution_count": 40,
   "metadata": {},
   "outputs": [
    {
     "data": {
      "text/plain": [
       "<matplotlib.axes._subplots.AxesSubplot at 0x28098932ac8>"
      ]
     },
     "execution_count": 40,
     "metadata": {},
     "output_type": "execute_result"
    },
    {
     "data": {
      "image/png": "[encoded data removed]",
      "text/plain": [
       "<Figure size 864x576 with 1 Axes>"
      ]
     },
     "metadata": {
      "needs_background": "light"
     },
     "output_type": "display_data"
    }
   ],
   "source": [
    "plt.figure(figsize=(12,8))\n",
    "sns.scatterplot(data=Accuracy_df,\n",
    "            x='year',\n",
    "            y='Overall_ACC',\n",
    "            hue='Source')"
   ]
  },
  {
   "cell_type": "code",
   "execution_count": null,
   "metadata": {},
   "outputs": [],
   "source": []
  },
  {
   "cell_type": "code",
   "execution_count": null,
   "metadata": {},
   "outputs": [],
   "source": []
  },
  {
   "cell_type": "code",
   "execution_count": null,
   "metadata": {},
   "outputs": [],
   "source": []
  },
  {
   "cell_type": "code",
   "execution_count": null,
   "metadata": {},
   "outputs": [],
   "source": []
  }
 ],
 "metadata": {
  "kernelspec": {
   "display_name": "Python 3",
   "language": "python",
   "name": "python3"
  },
  "language_info": {
   "codemirror_mode": {
    "name": "ipython",
    "version": 3
   },
   "file_extension": ".py",
   "mimetype": "text/x-python",
   "name": "python",
   "nbconvert_exporter": "python",
   "pygments_lexer": "ipython3",
   "version": "3.7.3"
  }
 },
 "nbformat": 4,
 "nbformat_minor": 2
}
