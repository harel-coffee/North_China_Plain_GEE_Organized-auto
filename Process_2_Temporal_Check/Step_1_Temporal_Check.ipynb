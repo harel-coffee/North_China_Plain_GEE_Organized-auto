{
 "cells": [
  {
   "cell_type": "code",
   "execution_count": 1,
   "metadata": {},
   "outputs": [],
   "source": [
    "import ee\n",
    "import datetime\n",
    "import os\n",
    "import itertools\n",
    "import sys\n",
    "\n",
    "from pprint import pprint\n",
    "import pandas as pd\n",
    "import numpy as np\n",
    "import seaborn as sns\n",
    "import matplotlib.pyplot as plt\n",
    "\n",
    "import geemap\n",
    "\n",
    "import subprocess\n",
    "from subprocess import PIPE"
   ]
  },
  {
   "cell_type": "code",
   "execution_count": null,
   "metadata": {},
   "outputs": [],
   "source": []
  },
  {
   "cell_type": "code",
   "execution_count": 2,
   "metadata": {},
   "outputs": [],
   "source": [
    "ee.Initialize()"
   ]
  },
  {
   "cell_type": "code",
   "execution_count": null,
   "metadata": {},
   "outputs": [],
   "source": []
  },
  {
   "cell_type": "code",
   "execution_count": 3,
   "metadata": {},
   "outputs": [],
   "source": [
    "# append upper folder into sys-path during run time so we can\n",
    "# import our own moduls\n",
    "sys.path.append('../Process_1_GEE_Python_Classification/')\n",
    "\n",
    "# import the temporal_consistency_check class\n",
    "from BackGround_modules.Class_5_Temporal_consistency_check import Temporal_consistency_check\n",
    "from BackGround_modules.Class_3_Calculate_the_accuracy import Accuracy_assesment"
   ]
  },
  {
   "cell_type": "code",
   "execution_count": null,
   "metadata": {},
   "outputs": [],
   "source": []
  },
  {
   "cell_type": "code",
   "execution_count": 4,
   "metadata": {},
   "outputs": [],
   "source": [
    "# define basic parameters\n",
    "year_range = [f'{i}_{i+2}' for i in range(1990,2020,3)]\n",
    "\n",
    "len_landsat_1990_2013 = 8\n",
    "len_sentinel_2014_2019 = 2"
   ]
  },
  {
   "cell_type": "code",
   "execution_count": 5,
   "metadata": {},
   "outputs": [
    {
     "data": {
      "text/plain": [
       "['1990_1992',\n",
       " '1993_1995',\n",
       " '1996_1998',\n",
       " '1999_2001',\n",
       " '2002_2004',\n",
       " '2005_2007',\n",
       " '2008_2010',\n",
       " '2011_2013',\n",
       " '2014_2016',\n",
       " '2017_2019']"
      ]
     },
     "execution_count": 5,
     "metadata": {},
     "output_type": "execute_result"
    }
   ],
   "source": [
    "year_range"
   ]
  },
  {
   "cell_type": "code",
   "execution_count": null,
   "metadata": {},
   "outputs": [],
   "source": []
  },
  {
   "cell_type": "markdown",
   "metadata": {},
   "source": [
    "### Import Classified_random_img and Check_sample"
   ]
  },
  {
   "cell_type": "code",
   "execution_count": null,
   "metadata": {},
   "outputs": [],
   "source": []
  },
  {
   "cell_type": "code",
   "execution_count": 6,
   "metadata": {},
   "outputs": [],
   "source": [
    "# Define the threshold for sum_img of 10 classifications\n",
    "Threshold_sum_classificatioin = 4\n",
    "\n",
    "# import the classified imgs\n",
    "Classified_img_1990_2013  = [ee.ImageCollection(f\"users/wangjinzhulala/North_China_Plain_Python/classification_img/Spectrum_Normalize_Fourier_Terrain_Meterology_{year}\")\n",
    "                               .sum().gt(Threshold_sum_classificatioin).set('name',year)   for year in year_range[:-2]]\n",
    "\n",
    "Classified_img_2014_2019  = [ee.ImageCollection(f\"users/wangjinzhulala/North_China_Plain_Python/classification_img/Spectrum_Normalize_Fourier_Terrain_Meterology_{year}\")\n",
    "                               .sum().gt(Threshold_sum_classificatioin).set('name',year)   for year in year_range[-2:]]"
   ]
  },
  {
   "cell_type": "code",
   "execution_count": null,
   "metadata": {},
   "outputs": [],
   "source": []
  },
  {
   "cell_type": "code",
   "execution_count": 7,
   "metadata": {},
   "outputs": [],
   "source": [
    "# because the window-size of the teomporal check is 3, which mean the last\n",
    "# 2 classifications can not be checked, so we sum up the last 2 classificaitons\n",
    "# and choose the maxmum (2) value as the built-up pixel of 2014-2016; \n",
    "\n",
    "Classified_img_2014_2016 = ee.ImageCollection(Classified_img_2014_2019).sum().eq(2).set('name','2014_2016')\n",
    "Classified_img_2017_2019 = Classified_img_2014_2019[1]\n",
    "\n",
    "\n",
    "# put all classified image together\n",
    "Classified_imgs = Classified_img_1990_2013 + [Classified_img_2014_2016,Classified_img_2017_2019]"
   ]
  },
  {
   "cell_type": "code",
   "execution_count": null,
   "metadata": {},
   "outputs": [],
   "source": []
  },
  {
   "cell_type": "code",
   "execution_count": null,
   "metadata": {},
   "outputs": [],
   "source": []
  },
  {
   "cell_type": "code",
   "execution_count": 8,
   "metadata": {},
   "outputs": [],
   "source": [
    "# import the untouched control points, which are diveded by a random column with a 101 random state\n",
    "Sample_Landsat  = ee.FeatureCollection(\"users/wangjinzhulala/North_China_Plain_Python/Sample_Points/Control_points\")\\\n",
    "                    .randomColumn('split', 101)\\\n",
    "                    .filterMetadata('split','less_than',0.25)\n",
    "\n",
    "Sample_Sentinel = ee.FeatureCollection(\"users/wangjinzhulala/North_China_Plain_Python/Sample_Points/Sentinel_2017_2019\")\\\n",
    "                    .randomColumn('split', 101)\\\n",
    "                    .filterMetadata('split','less_than',0.25)\n",
    "\n",
    "# create sample list for accuracy assesment\n",
    "Check_sample = [Sample_Landsat] * len_landsat_1990_2013 + \\\n",
    "               [Sample_Sentinel] * len_sentinel_2014_2019"
   ]
  },
  {
   "cell_type": "code",
   "execution_count": null,
   "metadata": {},
   "outputs": [],
   "source": []
  },
  {
   "cell_type": "markdown",
   "metadata": {},
   "source": [
    "### Perform temporal consistency check"
   ]
  },
  {
   "cell_type": "code",
   "execution_count": null,
   "metadata": {},
   "outputs": [],
   "source": []
  },
  {
   "cell_type": "code",
   "execution_count": 9,
   "metadata": {
    "scrolled": true
   },
   "outputs": [
    {
     "name": "stdout",
     "output_type": "stream",
     "text": [
      "================  Check Report  ================\n",
      "Check length is    ---> 2\n",
      "Check weights are  ---> [2, 1]\n",
      "Check threshold is ---> 3\n",
      "Check iteration is ---> 10\n",
      "================================================\n",
      "================  Check Report  ================\n",
      "Check length is    ---> 3\n",
      "Check weights are  ---> [3, 1, 1]\n",
      "Check threshold is ---> 4\n",
      "Check iteration is ---> 10\n",
      "================================================\n",
      "================  Check Report  ================\n",
      "Check length is    ---> 4\n",
      "Check weights are  ---> [4, 1, 1, 1]\n",
      "Check threshold is ---> 6\n",
      "Check iteration is ---> 10\n",
      "================================================\n",
      "================  Check Report  ================\n",
      "Check length is    ---> 5\n",
      "Check weights are  ---> [5, 1, 1, 1, 1]\n",
      "Check threshold is ---> 7\n",
      "Check iteration is ---> 10\n",
      "================================================\n",
      "================  Check Report  ================\n",
      "Check length is    ---> 6\n",
      "Check weights are  ---> [6, 1, 1, 1, 1, 1]\n",
      "Check threshold is ---> 9\n",
      "Check iteration is ---> 10\n",
      "================================================\n"
     ]
    }
   ],
   "source": [
    "# get the checked results\n",
    "Iteration_num = 10\n",
    "Window_size = [2,3,4,5,6]\n",
    "modes = ['only_forward'] #['backward_forward','forward_backward','only_forward','only_backward']\n",
    "\n",
    "Check_df_list = []\n",
    "\n",
    "for window in Window_size:\n",
    "    for mode in modes:\n",
    "    \n",
    "        # get the checked classification imgs, here they are stored in a dictionary\n",
    "        Iter_temporal_check_instaces = Temporal_consistency_check(Classified_imgs,window,Iteration_num)\\\n",
    "                                        .Iterate_the_check(mode = mode)\n",
    "\n",
    "        # convert the Iter_temporal_check_instaces to a Dataframe\n",
    "        Check_instances = pd.DataFrame(Iter_temporal_check_instaces).T\n",
    "        Check_instances.columns = year_range\n",
    "\n",
    "        # Add the window-size and iteration-num to the df\n",
    "        Check_instances['Mode'] = [mode] * Iteration_num\n",
    "        Check_instances['Window'] = [window] * Iteration_num\n",
    "        Check_instances['Iteration'] = range(1,Iteration_num+1)\n",
    "\n",
    "        # Reorder the columns\n",
    "        cols = Check_instances.columns\n",
    "        Check_instances = Check_instances[list(cols[-3:]) + list(cols[:-3])] \n",
    "\n",
    "        # add the checked df into list\n",
    "        Check_df_list.append(Check_instances)"
   ]
  },
  {
   "cell_type": "code",
   "execution_count": null,
   "metadata": {},
   "outputs": [],
   "source": []
  },
  {
   "cell_type": "code",
   "execution_count": 10,
   "metadata": {
    "scrolled": true
   },
   "outputs": [],
   "source": [
    "# merge all instace_df together\n",
    "Check_df = pd.concat(Check_df_list)\n",
    "Check_df.reset_index(inplace=True,drop=True)"
   ]
  },
  {
   "cell_type": "code",
   "execution_count": null,
   "metadata": {},
   "outputs": [],
   "source": []
  },
  {
   "cell_type": "markdown",
   "metadata": {},
   "source": [
    "### Assess the accuracy after the temporal check"
   ]
  },
  {
   "cell_type": "markdown",
   "metadata": {},
   "source": [
    "##### Transform the Check_sample into long format so each row is an observation with spicific window-iteration-year condition"
   ]
  },
  {
   "cell_type": "code",
   "execution_count": null,
   "metadata": {},
   "outputs": [],
   "source": []
  },
  {
   "cell_type": "code",
   "execution_count": 11,
   "metadata": {},
   "outputs": [],
   "source": [
    "# attach Check_sample to the Check_instaces_long \n",
    "Check_instaces_long = pd.DataFrame(Check_df.set_index(['Mode','Window','Iteration']).stack()).reset_index()\n",
    "Check_instaces_long.columns = ['Mode','Window','Iteration','year','Image']"
   ]
  },
  {
   "cell_type": "code",
   "execution_count": null,
   "metadata": {},
   "outputs": [],
   "source": []
  },
  {
   "cell_type": "code",
   "execution_count": 12,
   "metadata": {
    "scrolled": true
   },
   "outputs": [
    {
     "data": {
      "text/html": [
       "<div>\n",
       "<style scoped>\n",
       "    .dataframe tbody tr th:only-of-type {\n",
       "        vertical-align: middle;\n",
       "    }\n",
       "\n",
       "    .dataframe tbody tr th {\n",
       "        vertical-align: top;\n",
       "    }\n",
       "\n",
       "    .dataframe thead th {\n",
       "        text-align: right;\n",
       "    }\n",
       "</style>\n",
       "<table border=\"1\" class=\"dataframe\">\n",
       "  <thead>\n",
       "    <tr style=\"text-align: right;\">\n",
       "      <th></th>\n",
       "      <th>Mode</th>\n",
       "      <th>Window</th>\n",
       "      <th>Iteration</th>\n",
       "      <th>year</th>\n",
       "      <th>Image</th>\n",
       "    </tr>\n",
       "  </thead>\n",
       "  <tbody>\n",
       "    <tr>\n",
       "      <th>0</th>\n",
       "      <td>only_forward</td>\n",
       "      <td>2</td>\n",
       "      <td>1</td>\n",
       "      <td>1990_1992</td>\n",
       "      <td>ee.Image({\\n  \"type\": \"Invocation\",\\n  \"argume...</td>\n",
       "    </tr>\n",
       "    <tr>\n",
       "      <th>1</th>\n",
       "      <td>only_forward</td>\n",
       "      <td>2</td>\n",
       "      <td>1</td>\n",
       "      <td>1993_1995</td>\n",
       "      <td>ee.Image({\\n  \"type\": \"Invocation\",\\n  \"argume...</td>\n",
       "    </tr>\n",
       "    <tr>\n",
       "      <th>2</th>\n",
       "      <td>only_forward</td>\n",
       "      <td>2</td>\n",
       "      <td>1</td>\n",
       "      <td>1996_1998</td>\n",
       "      <td>ee.Image({\\n  \"type\": \"Invocation\",\\n  \"argume...</td>\n",
       "    </tr>\n",
       "    <tr>\n",
       "      <th>3</th>\n",
       "      <td>only_forward</td>\n",
       "      <td>2</td>\n",
       "      <td>1</td>\n",
       "      <td>1999_2001</td>\n",
       "      <td>ee.Image({\\n  \"type\": \"Invocation\",\\n  \"argume...</td>\n",
       "    </tr>\n",
       "    <tr>\n",
       "      <th>4</th>\n",
       "      <td>only_forward</td>\n",
       "      <td>2</td>\n",
       "      <td>1</td>\n",
       "      <td>2002_2004</td>\n",
       "      <td>ee.Image({\\n  \"type\": \"Invocation\",\\n  \"argume...</td>\n",
       "    </tr>\n",
       "    <tr>\n",
       "      <th>...</th>\n",
       "      <td>...</td>\n",
       "      <td>...</td>\n",
       "      <td>...</td>\n",
       "      <td>...</td>\n",
       "      <td>...</td>\n",
       "    </tr>\n",
       "    <tr>\n",
       "      <th>495</th>\n",
       "      <td>only_forward</td>\n",
       "      <td>6</td>\n",
       "      <td>10</td>\n",
       "      <td>2005_2007</td>\n",
       "      <td>ee.Image({\\n  \"type\": \"Invocation\",\\n  \"argume...</td>\n",
       "    </tr>\n",
       "    <tr>\n",
       "      <th>496</th>\n",
       "      <td>only_forward</td>\n",
       "      <td>6</td>\n",
       "      <td>10</td>\n",
       "      <td>2008_2010</td>\n",
       "      <td>ee.Image({\\n  \"type\": \"Invocation\",\\n  \"argume...</td>\n",
       "    </tr>\n",
       "    <tr>\n",
       "      <th>497</th>\n",
       "      <td>only_forward</td>\n",
       "      <td>6</td>\n",
       "      <td>10</td>\n",
       "      <td>2011_2013</td>\n",
       "      <td>ee.Image({\\n  \"type\": \"Invocation\",\\n  \"argume...</td>\n",
       "    </tr>\n",
       "    <tr>\n",
       "      <th>498</th>\n",
       "      <td>only_forward</td>\n",
       "      <td>6</td>\n",
       "      <td>10</td>\n",
       "      <td>2014_2016</td>\n",
       "      <td>ee.Image({\\n  \"type\": \"Invocation\",\\n  \"argume...</td>\n",
       "    </tr>\n",
       "    <tr>\n",
       "      <th>499</th>\n",
       "      <td>only_forward</td>\n",
       "      <td>6</td>\n",
       "      <td>10</td>\n",
       "      <td>2017_2019</td>\n",
       "      <td>ee.Image({\\n  \"type\": \"Invocation\",\\n  \"argume...</td>\n",
       "    </tr>\n",
       "  </tbody>\n",
       "</table>\n",
       "<p>500 rows × 5 columns</p>\n",
       "</div>"
      ],
      "text/plain": [
       "             Mode  Window  Iteration       year  \\\n",
       "0    only_forward       2          1  1990_1992   \n",
       "1    only_forward       2          1  1993_1995   \n",
       "2    only_forward       2          1  1996_1998   \n",
       "3    only_forward       2          1  1999_2001   \n",
       "4    only_forward       2          1  2002_2004   \n",
       "..            ...     ...        ...        ...   \n",
       "495  only_forward       6         10  2005_2007   \n",
       "496  only_forward       6         10  2008_2010   \n",
       "497  only_forward       6         10  2011_2013   \n",
       "498  only_forward       6         10  2014_2016   \n",
       "499  only_forward       6         10  2017_2019   \n",
       "\n",
       "                                                 Image  \n",
       "0    ee.Image({\\n  \"type\": \"Invocation\",\\n  \"argume...  \n",
       "1    ee.Image({\\n  \"type\": \"Invocation\",\\n  \"argume...  \n",
       "2    ee.Image({\\n  \"type\": \"Invocation\",\\n  \"argume...  \n",
       "3    ee.Image({\\n  \"type\": \"Invocation\",\\n  \"argume...  \n",
       "4    ee.Image({\\n  \"type\": \"Invocation\",\\n  \"argume...  \n",
       "..                                                 ...  \n",
       "495  ee.Image({\\n  \"type\": \"Invocation\",\\n  \"argume...  \n",
       "496  ee.Image({\\n  \"type\": \"Invocation\",\\n  \"argume...  \n",
       "497  ee.Image({\\n  \"type\": \"Invocation\",\\n  \"argume...  \n",
       "498  ee.Image({\\n  \"type\": \"Invocation\",\\n  \"argume...  \n",
       "499  ee.Image({\\n  \"type\": \"Invocation\",\\n  \"argume...  \n",
       "\n",
       "[500 rows x 5 columns]"
      ]
     },
     "execution_count": 12,
     "metadata": {},
     "output_type": "execute_result"
    }
   ],
   "source": [
    "Check_instaces_long"
   ]
  },
  {
   "cell_type": "code",
   "execution_count": null,
   "metadata": {},
   "outputs": [],
   "source": []
  },
  {
   "cell_type": "markdown",
   "metadata": {},
   "source": [
    "##### Create the Mosaic image from all temporal-checked imgs"
   ]
  },
  {
   "cell_type": "code",
   "execution_count": null,
   "metadata": {},
   "outputs": [],
   "source": []
  },
  {
   "cell_type": "code",
   "execution_count": 13,
   "metadata": {},
   "outputs": [],
   "source": [
    "Mosaic_img = {}\n",
    "\n",
    "for window in Window_size:\n",
    "    for iteration in range(1,Iteration_num+1):\n",
    "        # get the temporal_checked imgs\n",
    "        Temporal_checked_select  = Check_instaces_long[(Check_instaces_long['Iteration'] == iteration)&\\\n",
    "                                                       (Check_instaces_long['Window']    == window)     ]['Image'].values\n",
    "        # reclassify the classification img\n",
    "        Temporal_checked_select_re = [(i,img)[1].remap([0,1],[0,10-(i,img)[0]]) for i,img in enumerate(Temporal_checked_select)]\n",
    "\n",
    "        # mosaic all checked imgs together\n",
    "        Classification_Mosaic = ee.ImageCollection(Temporal_checked_select_re).max()\n",
    "        \n",
    "        # store the img to dict\n",
    "        Mosaic_img[(window,iteration)] = [Classification_Mosaic]"
   ]
  },
  {
   "cell_type": "code",
   "execution_count": null,
   "metadata": {},
   "outputs": [],
   "source": []
  },
  {
   "cell_type": "code",
   "execution_count": 18,
   "metadata": {},
   "outputs": [],
   "source": [
    "# convert the mosaic classification into a dataframe and format the column names\n",
    "Mosaic_df = pd.DataFrame(Mosaic_img).T\n",
    "\n",
    "# format the column names\n",
    "Mosaic_df_reindex = Mosaic_df.reset_index()\n",
    "Mosaic_df_reindex.columns = ['window','iteration','mosaic']"
   ]
  },
  {
   "cell_type": "code",
   "execution_count": null,
   "metadata": {},
   "outputs": [],
   "source": []
  },
  {
   "cell_type": "code",
   "execution_count": null,
   "metadata": {},
   "outputs": [],
   "source": []
  },
  {
   "cell_type": "code",
   "execution_count": 15,
   "metadata": {
    "scrolled": true
   },
   "outputs": [],
   "source": [
    "# create a dictionary where are year-value pairs\n",
    "Mosaic_value = dict(zip(year_range,range(Iteration_num,0,-1)))\n",
    "\n",
    "\n",
    "# calculate the accuracy using the untouched control samples\n",
    "Accuracy_dict = {}\n",
    "\n",
    "\n",
    "# double loop to calculate the accuracy\n",
    "for idx,row in Mosaic_df_reindex.iterrows():\n",
    "    \n",
    "    window     = row[0]\n",
    "    iteration  = row[1]\n",
    "    mosaic_img = row[2]\n",
    "\n",
    "    for i,year in enumerate(year_range):\n",
    "\n",
    "        # get the img and untouched sample\n",
    "        sample = Check_sample[i]\n",
    "\n",
    "        # get the classificaiton, rename the band so we can use Accuracy_assesment module\n",
    "        img_my   = ee.Image(mosaic_img.gte(Mosaic_value[year])).rename('classification')\n",
    "\n",
    "        # extract the img pixel value to test_sample\n",
    "        test_with_My   = img_my.sampleRegions(  collection = sample, \n",
    "                                                properties = ['Built'], \n",
    "                                                scale      = 30,\n",
    "                                                tileScale = 6)\n",
    "\n",
    "\n",
    "        # compute the accuracy and put them into a df\n",
    "        Accuracy_dict[(window,iteration,year)] = test_with_My.errorMatrix('Built','classification')"
   ]
  },
  {
   "cell_type": "code",
   "execution_count": null,
   "metadata": {},
   "outputs": [],
   "source": []
  },
  {
   "cell_type": "code",
   "execution_count": 18,
   "metadata": {
    "scrolled": true
   },
   "outputs": [
    {
     "name": "stdout",
     "output_type": "stream",
     "text": [
      "The operation of 1/50 is complete!\n",
      "The operation of 2/50 is complete!\n",
      "The operation of 3/50 is complete!\n",
      "The operation of 4/50 is complete!\n",
      "The operation of 5/50 is complete!\n",
      "The operation of 6/50 is complete!\n",
      "The operation of 7/50 is complete!\n",
      "The operation of 8/50 is complete!\n",
      "The operation of 9/50 is complete!\n",
      "The operation of 10/50 is complete!\n",
      "The operation of 11/50 is complete!\n",
      "The operation of 12/50 is complete!\n",
      "The operation of 13/50 is complete!\n",
      "The operation of 14/50 is complete!\n",
      "The operation of 15/50 is complete!\n",
      "The operation of 16/50 is complete!\n",
      "The operation of 17/50 is complete!\n",
      "The operation of 18/50 is complete!\n",
      "The operation of 19/50 is complete!\n",
      "The operation of 20/50 is complete!\n",
      "The operation of 21/50 is complete!\n",
      "The operation of 22/50 is complete!\n",
      "The operation of 23/50 is complete!\n",
      "The operation of 24/50 is complete!\n",
      "The operation of 25/50 is complete!\n",
      "The operation of 26/50 is complete!\n",
      "The operation of 27/50 is complete!\n",
      "The operation of 28/50 is complete!\n",
      "The operation of 29/50 is complete!\n",
      "The operation of 30/50 is complete!\n",
      "The operation of 31/50 is complete!\n",
      "The operation of 32/50 is complete!\n",
      "The operation of 33/50 is complete!\n",
      "The operation of 34/50 is complete!\n",
      "The operation of 35/50 is complete!\n",
      "The operation of 36/50 is complete!\n",
      "The operation of 37/50 is complete!\n",
      "The operation of 38/50 is complete!\n",
      "The operation of 39/50 is complete!\n",
      "The operation of 40/50 is complete!\n",
      "The operation of 41/50 is complete!\n",
      "The operation of 42/50 is complete!\n",
      "The operation of 43/50 is complete!\n",
      "The operation of 44/50 is complete!\n",
      "The operation of 45/50 is complete!\n",
      "The operation of 46/50 is complete!\n",
      "The operation of 47/50 is complete!\n",
      "The operation of 48/50 is complete!\n",
      "The operation of 49/50 is complete!\n",
      "The operation of 50/50 is complete!\n"
     ]
    }
   ],
   "source": [
    "# compute the accuracy from GEE server in chunck\n",
    "chunck_size = 10\n",
    "\n",
    "# get all accuracy instances\n",
    "error_matrix_instances = [v for k,v in Accuracy_dict.items()]\n",
    "\n",
    "# calculate the accuracy by chunck\n",
    "acc_value = []\n",
    "\n",
    "# set flags to report the process\n",
    "flag = 0 \n",
    "flag_total = len(error_matrix_instances)/chunck_size\n",
    "\n",
    "# loop through the chunk to get accuracy\n",
    "for i in range(0,len(error_matrix_instances),chunck_size):\n",
    "    \n",
    "    chunck = error_matrix_instances[i:i+chunck_size]\n",
    "    acc = ee.List(chunck).map(lambda mat:ee.ConfusionMatrix(mat).accuracy()).getInfo()\n",
    "    acc_value.extend(acc)\n",
    "    \n",
    "    # print out the process\n",
    "    flag = flag + 1 \n",
    "    print(f'The operation of {flag}/{int(flag_total)} is complete!')"
   ]
  },
  {
   "cell_type": "code",
   "execution_count": null,
   "metadata": {},
   "outputs": [],
   "source": []
  },
  {
   "cell_type": "code",
   "execution_count": 19,
   "metadata": {},
   "outputs": [],
   "source": [
    "# sotre the accuracy into a dataframe and formate thedf\n",
    "acc_k = [k for k,v in Accuracy_dict.items()]\n",
    "acc_df = pd.DataFrame(dict( (k,[v *100]) for k,v in zip(acc_k,acc_value))).T\n",
    "\n",
    "# format the df\n",
    "Checked_acc = acc_df.reset_index()\n",
    "Checked_acc.columns = ['window','iteration','year','accuracy']"
   ]
  },
  {
   "cell_type": "code",
   "execution_count": null,
   "metadata": {},
   "outputs": [],
   "source": []
  },
  {
   "cell_type": "markdown",
   "metadata": {},
   "source": [
    "##### Compute the accuracy after temporal-check"
   ]
  },
  {
   "cell_type": "code",
   "execution_count": 6,
   "metadata": {},
   "outputs": [],
   "source": [
    "# # Save the accuracy to disk\n",
    "# Checked_acc.to_csv('./Result/Temporal_check_acc.csv',index=False)\n",
    "\n",
    "# load the acc_df\n",
    "Checked_acc = pd.read_csv('./Result/Temporal_check_acc.csv')\n",
    "\n",
    "# concert these columns into category, so we can make figures\n",
    "Checked_acc['iteration'] = Checked_acc['iteration'].astype('category')\n",
    "Checked_acc['year'] = Checked_acc['year'].astype('category')"
   ]
  },
  {
   "cell_type": "code",
   "execution_count": 7,
   "metadata": {},
   "outputs": [
    {
     "data": {
      "text/html": [
       "<div>\n",
       "<style scoped>\n",
       "    .dataframe tbody tr th:only-of-type {\n",
       "        vertical-align: middle;\n",
       "    }\n",
       "\n",
       "    .dataframe tbody tr th {\n",
       "        vertical-align: top;\n",
       "    }\n",
       "\n",
       "    .dataframe thead th {\n",
       "        text-align: right;\n",
       "    }\n",
       "</style>\n",
       "<table border=\"1\" class=\"dataframe\">\n",
       "  <thead>\n",
       "    <tr style=\"text-align: right;\">\n",
       "      <th></th>\n",
       "      <th>window</th>\n",
       "      <th>iteration</th>\n",
       "      <th>year</th>\n",
       "      <th>accuracy</th>\n",
       "    </tr>\n",
       "  </thead>\n",
       "  <tbody>\n",
       "    <tr>\n",
       "      <th>0</th>\n",
       "      <td>2</td>\n",
       "      <td>1</td>\n",
       "      <td>1990_1992</td>\n",
       "      <td>98.076923</td>\n",
       "    </tr>\n",
       "    <tr>\n",
       "      <th>1</th>\n",
       "      <td>2</td>\n",
       "      <td>1</td>\n",
       "      <td>1993_1995</td>\n",
       "      <td>98.178138</td>\n",
       "    </tr>\n",
       "    <tr>\n",
       "      <th>2</th>\n",
       "      <td>2</td>\n",
       "      <td>1</td>\n",
       "      <td>1996_1998</td>\n",
       "      <td>98.279352</td>\n",
       "    </tr>\n",
       "    <tr>\n",
       "      <th>3</th>\n",
       "      <td>2</td>\n",
       "      <td>1</td>\n",
       "      <td>1999_2001</td>\n",
       "      <td>98.431174</td>\n",
       "    </tr>\n",
       "    <tr>\n",
       "      <th>4</th>\n",
       "      <td>2</td>\n",
       "      <td>1</td>\n",
       "      <td>2002_2004</td>\n",
       "      <td>98.532389</td>\n",
       "    </tr>\n",
       "    <tr>\n",
       "      <th>...</th>\n",
       "      <td>...</td>\n",
       "      <td>...</td>\n",
       "      <td>...</td>\n",
       "      <td>...</td>\n",
       "    </tr>\n",
       "    <tr>\n",
       "      <th>495</th>\n",
       "      <td>6</td>\n",
       "      <td>10</td>\n",
       "      <td>2005_2007</td>\n",
       "      <td>98.076923</td>\n",
       "    </tr>\n",
       "    <tr>\n",
       "      <th>496</th>\n",
       "      <td>6</td>\n",
       "      <td>10</td>\n",
       "      <td>2008_2010</td>\n",
       "      <td>97.469636</td>\n",
       "    </tr>\n",
       "    <tr>\n",
       "      <th>497</th>\n",
       "      <td>6</td>\n",
       "      <td>10</td>\n",
       "      <td>2011_2013</td>\n",
       "      <td>97.064777</td>\n",
       "    </tr>\n",
       "    <tr>\n",
       "      <th>498</th>\n",
       "      <td>6</td>\n",
       "      <td>10</td>\n",
       "      <td>2014_2016</td>\n",
       "      <td>95.526839</td>\n",
       "    </tr>\n",
       "    <tr>\n",
       "      <th>499</th>\n",
       "      <td>6</td>\n",
       "      <td>10</td>\n",
       "      <td>2017_2019</td>\n",
       "      <td>95.129225</td>\n",
       "    </tr>\n",
       "  </tbody>\n",
       "</table>\n",
       "<p>500 rows × 4 columns</p>\n",
       "</div>"
      ],
      "text/plain": [
       "     window iteration       year   accuracy\n",
       "0         2         1  1990_1992  98.076923\n",
       "1         2         1  1993_1995  98.178138\n",
       "2         2         1  1996_1998  98.279352\n",
       "3         2         1  1999_2001  98.431174\n",
       "4         2         1  2002_2004  98.532389\n",
       "..      ...       ...        ...        ...\n",
       "495       6        10  2005_2007  98.076923\n",
       "496       6        10  2008_2010  97.469636\n",
       "497       6        10  2011_2013  97.064777\n",
       "498       6        10  2014_2016  95.526839\n",
       "499       6        10  2017_2019  95.129225\n",
       "\n",
       "[500 rows x 4 columns]"
      ]
     },
     "execution_count": 7,
     "metadata": {},
     "output_type": "execute_result"
    }
   ],
   "source": [
    "Checked_acc"
   ]
  },
  {
   "cell_type": "code",
   "execution_count": null,
   "metadata": {},
   "outputs": [],
   "source": []
  },
  {
   "cell_type": "markdown",
   "metadata": {},
   "source": [
    "##### Observe that window-size of 3 is the optimun size, because the bigger the window size, the more imgs wouldn't be temporal corrected. So we choose 3 as window size even though 5 look like the best one"
   ]
  },
  {
   "cell_type": "code",
   "execution_count": null,
   "metadata": {},
   "outputs": [],
   "source": []
  },
  {
   "cell_type": "code",
   "execution_count": 8,
   "metadata": {},
   "outputs": [
    {
     "data": {
      "text/plain": [
       "<matplotlib.axes._subplots.AxesSubplot at 0x209fdcd2978>"
      ]
     },
     "execution_count": 8,
     "metadata": {},
     "output_type": "execute_result"
    },
    {
     "data": {
      "image/png": "[encoded data removed]",
      "text/plain": [
       "<Figure size 864x576 with 1 Axes>"
      ]
     },
     "metadata": {
      "needs_background": "light"
     },
     "output_type": "display_data"
    }
   ],
   "source": [
    "plt.figure(figsize=(12,8))\n",
    "sns.lineplot(data = Checked_acc,x='window',y='accuracy')"
   ]
  },
  {
   "cell_type": "code",
   "execution_count": null,
   "metadata": {},
   "outputs": [],
   "source": []
  },
  {
   "cell_type": "markdown",
   "metadata": {},
   "source": [
    "##### Observe that  9 iterations  achieved a stable accuracy. here we neglect the seemingly high accuracy at lower iterations because we care more about stable performance, which is the key of temporal correction"
   ]
  },
  {
   "cell_type": "code",
   "execution_count": null,
   "metadata": {},
   "outputs": [],
   "source": []
  },
  {
   "cell_type": "code",
   "execution_count": 9,
   "metadata": {},
   "outputs": [
    {
     "data": {
      "text/plain": [
       "<matplotlib.axes._subplots.AxesSubplot at 0x209800113c8>"
      ]
     },
     "execution_count": 9,
     "metadata": {},
     "output_type": "execute_result"
    },
    {
     "data": {
      "image/png": "[encoded data removed]",
      "text/plain": [
       "<Figure size 864x576 with 1 Axes>"
      ]
     },
     "metadata": {
      "needs_background": "light"
     },
     "output_type": "display_data"
    }
   ],
   "source": [
    "plt.figure(figsize=(12,8))\n",
    "sns.lineplot(data = Checked_acc[Checked_acc['window'] == 3],\n",
    "             x='iteration',\n",
    "             y='accuracy')"
   ]
  },
  {
   "cell_type": "code",
   "execution_count": null,
   "metadata": {},
   "outputs": [],
   "source": []
  },
  {
   "cell_type": "markdown",
   "metadata": {},
   "source": [
    "##### Export the temporal checked classifications"
   ]
  },
  {
   "cell_type": "code",
   "execution_count": null,
   "metadata": {},
   "outputs": [],
   "source": []
  },
  {
   "cell_type": "markdown",
   "metadata": {},
   "source": [
    "Export each year's classification img of temporal_checked"
   ]
  },
  {
   "cell_type": "code",
   "execution_count": 11,
   "metadata": {},
   "outputs": [],
   "source": [
    "# here we find that temporcal checked img with \n",
    "# \"Mode=forward_backward\", \"Iteration=5\", \"Window=3\"\n",
    "# are the best quality imgs\n",
    "\n",
    "Target_temporal_checked = Check_instaces_long[(Check_instaces_long['Mode']      == 'only_forward')&\\\n",
    "                                              (Check_instaces_long['Iteration'] == 9)&\\\n",
    "                                              (Check_instaces_long['Window']    == 3)]"
   ]
  },
  {
   "cell_type": "code",
   "execution_count": null,
   "metadata": {},
   "outputs": [],
   "source": []
  },
  {
   "cell_type": "code",
   "execution_count": null,
   "metadata": {},
   "outputs": [],
   "source": []
  },
  {
   "cell_type": "code",
   "execution_count": 1,
   "metadata": {},
   "outputs": [],
   "source": [
    "# export all temporal checked imgs\n",
    "for idx,row in Target_temporal_checked.iterrows():\n",
    "    \n",
    "    Mode      = row[0]\n",
    "    Window    = row[1]\n",
    "    Iteration = row[2]\n",
    "    year      = row[3]\n",
    "    img       = row[4]\n",
    "    \n",
    "    # determine the img name\n",
    "    export_name = f'{Mode}_Window_{Window}_It_{Iteration}_{year}'\n",
    "    \n",
    "    task = ee.batch.Export.image.toCloudStorage(image = img,\n",
    "                                                description=export_name,\n",
    "                                                bucket='north_china_plain',\n",
    "                                                fileNamePrefix=export_name,\n",
    "                                                region=North_China_Plain.geometry().bounds(),\n",
    "                                                scale=30,\n",
    "                                                maxPixels=int(1e13),\n",
    "                                                skipEmptyTiles=True) \n",
    "    \n",
    "    task.start()\n",
    "    \n",
    "    print(f'Exporting {export_name} successful!')"
   ]
  },
  {
   "cell_type": "code",
   "execution_count": null,
   "metadata": {},
   "outputs": [],
   "source": []
  },
  {
   "cell_type": "markdown",
   "metadata": {},
   "source": [
    "Export the mosaiced classification img "
   ]
  },
  {
   "cell_type": "code",
   "execution_count": 17,
   "metadata": {},
   "outputs": [],
   "source": [
    "# import the export region\n",
    "North_China_Plain = ee.FeatureCollection(\"users/wangjinzhulala/North_China_Plain_Python/Boundary_shp/North_China_Plain_Boundary\")\n",
    "\n",
    "# Export the result\n",
    "export_name = 'Mosaic_only_forward'\n",
    "\n",
    "task = ee.batch.Export.image.toCloudStorage(image = Classification_Mosaic,\n",
    "                                            description=export_name,\n",
    "                                            bucket='north_china_plain',\n",
    "                                            fileNamePrefix=export_name,\n",
    "                                            region=North_China_Plain.geometry().bounds(),\n",
    "                                            scale=30,\n",
    "                                            maxPixels=int(1e13),\n",
    "                                            skipEmptyTiles=True) \n",
    "\n",
    "task.start()\n",
    "    "
   ]
  },
  {
   "cell_type": "code",
   "execution_count": null,
   "metadata": {},
   "outputs": [],
   "source": []
  },
  {
   "cell_type": "markdown",
   "metadata": {},
   "source": [
    "##### Observe that the temporal correction have incresed the classification accuracy"
   ]
  },
  {
   "cell_type": "code",
   "execution_count": null,
   "metadata": {},
   "outputs": [],
   "source": []
  },
  {
   "cell_type": "markdown",
   "metadata": {},
   "source": [
    "1) import the original accuracy df"
   ]
  },
  {
   "cell_type": "code",
   "execution_count": 12,
   "metadata": {},
   "outputs": [],
   "source": [
    "# access the original acc_df\n",
    "Sentinel_Acc = pd.read_csv('../Process_1_GEE_Python_Classification/Sub_Process_7_Classification_on_img/Result/Classification_Accuracy_landsat_sentinel.csv')\n",
    "Landsat_Acc  = pd.read_csv('../Process_1_GEE_Python_Classification/Sub_Process_7_Classification_on_img/Result/Classification_Accuracy.csv')"
   ]
  },
  {
   "cell_type": "code",
   "execution_count": 13,
   "metadata": {},
   "outputs": [],
   "source": [
    "# Define the classification only use landsat as input\n",
    "landsat_col = ['Landsat_1990_1992', 'Landsat_1993_1995', 'Landsat_1996_1998','Landsat_1999_2001',\n",
    "               'Landsat_2002_2004', 'Landsat_2005_2007','Landsat_2008_2010', 'Landsat_2011_2013']\n",
    "\n",
    "# concatenate all accuracy into one df\n",
    "Original_landsat = Landsat_Acc[Landsat_Acc['year'].isin(landsat_col)]\n",
    "Original_acc = pd.concat([Original_landsat,Sentinel_Acc])"
   ]
  },
  {
   "cell_type": "code",
   "execution_count": 14,
   "metadata": {},
   "outputs": [
    {
     "data": {
      "text/html": [
       "<div>\n",
       "<style scoped>\n",
       "    .dataframe tbody tr th:only-of-type {\n",
       "        vertical-align: middle;\n",
       "    }\n",
       "\n",
       "    .dataframe tbody tr th {\n",
       "        vertical-align: top;\n",
       "    }\n",
       "\n",
       "    .dataframe thead th {\n",
       "        text-align: right;\n",
       "    }\n",
       "</style>\n",
       "<table border=\"1\" class=\"dataframe\">\n",
       "  <thead>\n",
       "    <tr style=\"text-align: right;\">\n",
       "      <th></th>\n",
       "      <th>year</th>\n",
       "      <th>seed</th>\n",
       "      <th>Overall_ACC</th>\n",
       "      <th>Precisioin_non_built</th>\n",
       "      <th>Precisioin_built</th>\n",
       "      <th>Recall_non_built</th>\n",
       "      <th>Recall_built</th>\n",
       "      <th>Year</th>\n",
       "    </tr>\n",
       "  </thead>\n",
       "  <tbody>\n",
       "    <tr>\n",
       "      <th>0</th>\n",
       "      <td>Landsat_1990_1992</td>\n",
       "      <td>0</td>\n",
       "      <td>94.10</td>\n",
       "      <td>93.90</td>\n",
       "      <td>94.30</td>\n",
       "      <td>94.51</td>\n",
       "      <td>93.67</td>\n",
       "      <td>1990_1992</td>\n",
       "    </tr>\n",
       "    <tr>\n",
       "      <th>1</th>\n",
       "      <td>Landsat_1990_1992</td>\n",
       "      <td>1</td>\n",
       "      <td>94.20</td>\n",
       "      <td>93.75</td>\n",
       "      <td>94.68</td>\n",
       "      <td>95.06</td>\n",
       "      <td>93.28</td>\n",
       "      <td>1990_1992</td>\n",
       "    </tr>\n",
       "    <tr>\n",
       "      <th>2</th>\n",
       "      <td>Landsat_1990_1992</td>\n",
       "      <td>2</td>\n",
       "      <td>95.18</td>\n",
       "      <td>94.37</td>\n",
       "      <td>96.03</td>\n",
       "      <td>96.14</td>\n",
       "      <td>94.22</td>\n",
       "      <td>1990_1992</td>\n",
       "    </tr>\n",
       "    <tr>\n",
       "      <th>3</th>\n",
       "      <td>Landsat_1990_1992</td>\n",
       "      <td>3</td>\n",
       "      <td>94.53</td>\n",
       "      <td>93.90</td>\n",
       "      <td>95.18</td>\n",
       "      <td>95.28</td>\n",
       "      <td>93.78</td>\n",
       "      <td>1990_1992</td>\n",
       "    </tr>\n",
       "    <tr>\n",
       "      <th>4</th>\n",
       "      <td>Landsat_1990_1992</td>\n",
       "      <td>4</td>\n",
       "      <td>94.89</td>\n",
       "      <td>94.31</td>\n",
       "      <td>95.50</td>\n",
       "      <td>95.70</td>\n",
       "      <td>94.06</td>\n",
       "      <td>1990_1992</td>\n",
       "    </tr>\n",
       "    <tr>\n",
       "      <th>...</th>\n",
       "      <td>...</td>\n",
       "      <td>...</td>\n",
       "      <td>...</td>\n",
       "      <td>...</td>\n",
       "      <td>...</td>\n",
       "      <td>...</td>\n",
       "      <td>...</td>\n",
       "      <td>...</td>\n",
       "    </tr>\n",
       "    <tr>\n",
       "      <th>15</th>\n",
       "      <td>Sentinel_2017_2019</td>\n",
       "      <td>5</td>\n",
       "      <td>94.83</td>\n",
       "      <td>95.91</td>\n",
       "      <td>93.72</td>\n",
       "      <td>93.99</td>\n",
       "      <td>95.72</td>\n",
       "      <td>2017_2019</td>\n",
       "    </tr>\n",
       "    <tr>\n",
       "      <th>16</th>\n",
       "      <td>Sentinel_2017_2019</td>\n",
       "      <td>6</td>\n",
       "      <td>94.03</td>\n",
       "      <td>93.19</td>\n",
       "      <td>94.88</td>\n",
       "      <td>94.83</td>\n",
       "      <td>93.25</td>\n",
       "      <td>2017_2019</td>\n",
       "    </tr>\n",
       "    <tr>\n",
       "      <th>17</th>\n",
       "      <td>Sentinel_2017_2019</td>\n",
       "      <td>7</td>\n",
       "      <td>93.61</td>\n",
       "      <td>92.87</td>\n",
       "      <td>94.34</td>\n",
       "      <td>94.13</td>\n",
       "      <td>93.12</td>\n",
       "      <td>2017_2019</td>\n",
       "    </tr>\n",
       "    <tr>\n",
       "      <th>18</th>\n",
       "      <td>Sentinel_2017_2019</td>\n",
       "      <td>8</td>\n",
       "      <td>94.26</td>\n",
       "      <td>94.67</td>\n",
       "      <td>93.85</td>\n",
       "      <td>93.96</td>\n",
       "      <td>94.57</td>\n",
       "      <td>2017_2019</td>\n",
       "    </tr>\n",
       "    <tr>\n",
       "      <th>19</th>\n",
       "      <td>Sentinel_2017_2019</td>\n",
       "      <td>9</td>\n",
       "      <td>93.93</td>\n",
       "      <td>94.08</td>\n",
       "      <td>93.79</td>\n",
       "      <td>93.65</td>\n",
       "      <td>94.21</td>\n",
       "      <td>2017_2019</td>\n",
       "    </tr>\n",
       "  </tbody>\n",
       "</table>\n",
       "<p>100 rows × 8 columns</p>\n",
       "</div>"
      ],
      "text/plain": [
       "                  year  seed  Overall_ACC  Precisioin_non_built  \\\n",
       "0    Landsat_1990_1992     0        94.10                 93.90   \n",
       "1    Landsat_1990_1992     1        94.20                 93.75   \n",
       "2    Landsat_1990_1992     2        95.18                 94.37   \n",
       "3    Landsat_1990_1992     3        94.53                 93.90   \n",
       "4    Landsat_1990_1992     4        94.89                 94.31   \n",
       "..                 ...   ...          ...                   ...   \n",
       "15  Sentinel_2017_2019     5        94.83                 95.91   \n",
       "16  Sentinel_2017_2019     6        94.03                 93.19   \n",
       "17  Sentinel_2017_2019     7        93.61                 92.87   \n",
       "18  Sentinel_2017_2019     8        94.26                 94.67   \n",
       "19  Sentinel_2017_2019     9        93.93                 94.08   \n",
       "\n",
       "    Precisioin_built  Recall_non_built  Recall_built       Year  \n",
       "0              94.30             94.51         93.67  1990_1992  \n",
       "1              94.68             95.06         93.28  1990_1992  \n",
       "2              96.03             96.14         94.22  1990_1992  \n",
       "3              95.18             95.28         93.78  1990_1992  \n",
       "4              95.50             95.70         94.06  1990_1992  \n",
       "..               ...               ...           ...        ...  \n",
       "15             93.72             93.99         95.72  2017_2019  \n",
       "16             94.88             94.83         93.25  2017_2019  \n",
       "17             94.34             94.13         93.12  2017_2019  \n",
       "18             93.85             93.96         94.57  2017_2019  \n",
       "19             93.79             93.65         94.21  2017_2019  \n",
       "\n",
       "[100 rows x 8 columns]"
      ]
     },
     "execution_count": 14,
     "metadata": {},
     "output_type": "execute_result"
    }
   ],
   "source": [
    "# formeting the original addcuracy_df\n",
    "Original_acc['Year'] = Original_acc['year'].apply(lambda x: x[-9:])\n",
    "Original_acc"
   ]
  },
  {
   "cell_type": "code",
   "execution_count": null,
   "metadata": {},
   "outputs": [],
   "source": []
  },
  {
   "cell_type": "markdown",
   "metadata": {},
   "source": [
    "2) get the 10-folds threshold correction"
   ]
  },
  {
   "cell_type": "code",
   "execution_count": null,
   "metadata": {},
   "outputs": [],
   "source": []
  },
  {
   "cell_type": "code",
   "execution_count": 15,
   "metadata": {},
   "outputs": [],
   "source": [
    "# read data\n",
    "Threshold_acc_df = pd.read_csv('../Process_1_GEE_Python_Classification/Sub_Process_8_Determine_the_threshold_for_the_sum_of_10_random_classification/Result/Threshold_acc_df.csv')\n",
    "\n",
    "# make the threshold categorical so we can make figures\n",
    "Threshold_acc_df['Threshold'] = Threshold_acc_df['Threshold'].astype('category')\n",
    "Threshold_acc_df['Year'] = Threshold_acc_df['Year'].astype('category')"
   ]
  },
  {
   "cell_type": "code",
   "execution_count": null,
   "metadata": {},
   "outputs": [],
   "source": []
  },
  {
   "cell_type": "code",
   "execution_count": null,
   "metadata": {},
   "outputs": [],
   "source": []
  },
  {
   "cell_type": "markdown",
   "metadata": {},
   "source": [
    "3) make a figure to compare all the accuracy "
   ]
  },
  {
   "cell_type": "code",
   "execution_count": 16,
   "metadata": {},
   "outputs": [
    {
     "data": {
      "text/plain": [
       "<matplotlib.axes._subplots.AxesSubplot at 0x20980000978>"
      ]
     },
     "execution_count": 16,
     "metadata": {},
     "output_type": "execute_result"
    },
    {
     "data": {
      "image/png": "[encoded data removed]",
      "text/plain": [
       "<Figure size 864x576 with 1 Axes>"
      ]
     },
     "metadata": {
      "needs_background": "light"
     },
     "output_type": "display_data"
    }
   ],
   "source": [
    "plt.figure(figsize=(12,8))\n",
    "\n",
    "# original accuracy\n",
    "sns.lineplot(data = Original_acc,x = 'Year',y='Overall_ACC',label = 'Original')\n",
    "\n",
    "\n",
    "# threshold correction\n",
    "sns.lineplot(data = Threshold_acc_df[Threshold_acc_df['Threshold']==4],\n",
    "             x='Year',\n",
    "             y='Accuracy',\n",
    "            label = 'Threshold Correction')\n",
    "\n",
    "\n",
    "# temporal correction\n",
    "sns.lineplot(data = Checked_acc[((Checked_acc['window']==3)&\n",
    "                                 (Checked_acc['iteration']==9))],\n",
    "             x='year',\n",
    "             y='accuracy',\n",
    "            label = 'Temporal Correction')"
   ]
  },
  {
   "cell_type": "code",
   "execution_count": null,
   "metadata": {},
   "outputs": [],
   "source": []
  },
  {
   "cell_type": "markdown",
   "metadata": {},
   "source": [
    "##### Add the checked img to the map"
   ]
  },
  {
   "cell_type": "code",
   "execution_count": null,
   "metadata": {},
   "outputs": [],
   "source": []
  },
  {
   "cell_type": "code",
   "execution_count": 31,
   "metadata": {},
   "outputs": [],
   "source": [
    "# Color_ramp for Mosaic img\n",
    "Mosaic_VIS = {'min':0,\n",
    "              'max':10,\n",
    "              \"palette\":[\"000000\",\"3288bd\",\"66c2a5\",\"abdda4\",\n",
    "                         \"e6f598\",\"ffffbf\",\"fee08b\",\"fdae61\",\n",
    "                         \"f46d43\",\"d53e4f\",\"9e0142\"]}"
   ]
  },
  {
   "cell_type": "code",
   "execution_count": null,
   "metadata": {},
   "outputs": [],
   "source": []
  },
  {
   "cell_type": "code",
   "execution_count": null,
   "metadata": {},
   "outputs": [],
   "source": []
  },
  {
   "cell_type": "code",
   "execution_count": 36,
   "metadata": {},
   "outputs": [],
   "source": [
    "# define filter parameters\n",
    "mode = 'only_forward' # 'backward_forward' |'forward_backward'|'only_forward'|'only_backward'\n",
    "window_len = 3\n",
    "iterantion_num = 9\n",
    "year_idx = '1999_2001'\n",
    "\n",
    "# get the original classification for later comparision\n",
    "Original = ee.ImageCollection(Classified_imgs).filterMetadata('name','equals',year_idx)\n",
    "\n",
    "# get the temporal checked imgs\n",
    "Temporal_checkd = Check_instaces_long[(Check_instaces_long['Mode']   == mode)&\n",
    "                                      (Check_instaces_long['Window'] == window_len)&\n",
    "                                      (Check_instaces_long['year']   == year_idx)]\n",
    "\n",
    "# get the checked img with different iteration\n",
    "img_year_window_filtered = [Temporal_checkd[Temporal_checkd['Iteration'] == i]['Image'].values[0] \n",
    "                            for i in range(1,Iteration_num + 1)]\n",
    "\n",
    "# get the \n",
    "Mosaic_img = Mosaic_df_reindex[(Mosaic_df_reindex['window'] == window_len) \\\n",
    "                               &(Mosaic_df_reindex['iteration'] == iterantion_num)]['mosaic'].values[0]"
   ]
  },
  {
   "cell_type": "code",
   "execution_count": null,
   "metadata": {},
   "outputs": [],
   "source": []
  },
  {
   "cell_type": "code",
   "execution_count": 35,
   "metadata": {
    "scrolled": false
   },
   "outputs": [
    {
     "data": {
      "application/vnd.jupyter.widget-view+json": {
       "model_id": "b138e344f8b549ffbef5885c6ae48ed5",
       "version_major": 2,
       "version_minor": 0
      },
      "text/plain": [
       "Map(center=[35.2492, 115.4508], controls=(WidgetControl(options=['position'], widget=HBox(children=(ToggleButt…"
      ]
     },
     "metadata": {},
     "output_type": "display_data"
    }
   ],
   "source": [
    "# add the img to map\n",
    "Map = geemap.Map()\n",
    "Map.setCenter(115.4508, 35.2492,10)\n",
    "Map.add_basemap('HYBRID')\n",
    "\n",
    "Map.addLayer(Original,                    {'min':0,'max':1},'Original')\n",
    "\n",
    "Map.addLayer(img_year_window_filtered[0], {'min':0,'max':1},'Iter_1')\n",
    "Map.addLayer(img_year_window_filtered[2], {'min':0,'max':1},'Iter_3')\n",
    "Map.addLayer(img_year_window_filtered[4], {'min':0,'max':1},'Iter_5')\n",
    "Map.addLayer(img_year_window_filtered[6], {'min':0,'max':1},'Iter_7')\n",
    "Map.addLayer(img_year_window_filtered[8], {'min':0,'max':1},'Iter_9')\n",
    "Map.addLayer(img_year_window_filtered[9], {'min':0,'max':1},'Iter_10')\n",
    "\n",
    "Map.addLayer(Mosaic_img,                  Mosaic_VIS,       'Mosaic')\n",
    "\n",
    "Map"
   ]
  },
  {
   "cell_type": "code",
   "execution_count": null,
   "metadata": {},
   "outputs": [],
   "source": []
  },
  {
   "cell_type": "code",
   "execution_count": null,
   "metadata": {},
   "outputs": [],
   "source": []
  },
  {
   "cell_type": "code",
   "execution_count": null,
   "metadata": {},
   "outputs": [],
   "source": []
  },
  {
   "cell_type": "code",
   "execution_count": null,
   "metadata": {},
   "outputs": [],
   "source": []
  }
 ],
 "metadata": {
  "kernelspec": {
   "display_name": "Python 3",
   "language": "python",
   "name": "python3"
  },
  "language_info": {
   "codemirror_mode": {
    "name": "ipython",
    "version": 3
   },
   "file_extension": ".py",
   "mimetype": "text/x-python",
   "name": "python",
   "nbconvert_exporter": "python",
   "pygments_lexer": "ipython3",
   "version": "3.7.3"
  }
 },
 "nbformat": 4,
 "nbformat_minor": 2
}
