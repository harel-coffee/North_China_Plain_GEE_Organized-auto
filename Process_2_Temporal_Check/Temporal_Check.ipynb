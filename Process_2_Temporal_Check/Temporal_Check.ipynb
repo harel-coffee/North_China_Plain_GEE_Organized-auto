{
 "cells": [
  {
   "cell_type": "code",
   "execution_count": 1,
   "metadata": {},
   "outputs": [],
   "source": [
    "import ee\n",
    "import datetime\n",
    "import os\n",
    "import itertools\n",
    "import sys\n",
    "\n",
    "from pprint import pprint\n",
    "import pandas as pd\n",
    "import numpy as np\n",
    "import seaborn as sns\n",
    "import matplotlib.pyplot as plt\n",
    "\n",
    "import geemap\n",
    "\n",
    "import subprocess\n",
    "from subprocess import PIPE"
   ]
  },
  {
   "cell_type": "code",
   "execution_count": null,
   "metadata": {},
   "outputs": [],
   "source": []
  },
  {
   "cell_type": "code",
   "execution_count": 2,
   "metadata": {},
   "outputs": [],
   "source": [
    "ee.Initialize()"
   ]
  },
  {
   "cell_type": "code",
   "execution_count": null,
   "metadata": {},
   "outputs": [],
   "source": []
  },
  {
   "cell_type": "code",
   "execution_count": 3,
   "metadata": {},
   "outputs": [],
   "source": [
    "# append upper folder into sys-path during run time so we can\n",
    "# import our own moduls\n",
    "sys.path.append('../Process_1_GEE_Python_Classification/')\n",
    "\n",
    "# import the temporal_consistency_check class\n",
    "from BackGround_modules.Class_5_Temporal_consistency_check import Temporal_consistency_check"
   ]
  },
  {
   "cell_type": "code",
   "execution_count": null,
   "metadata": {},
   "outputs": [],
   "source": []
  },
  {
   "cell_type": "code",
   "execution_count": 4,
   "metadata": {},
   "outputs": [],
   "source": [
    "# define basic parameters\n",
    "year_range = [f'{i}_{i+2}' for i in range(1990,2020,3)]"
   ]
  },
  {
   "cell_type": "code",
   "execution_count": 5,
   "metadata": {},
   "outputs": [
    {
     "data": {
      "text/plain": [
       "['1990_1992',\n",
       " '1993_1995',\n",
       " '1996_1998',\n",
       " '1999_2001',\n",
       " '2002_2004',\n",
       " '2005_2007',\n",
       " '2008_2010',\n",
       " '2011_2013',\n",
       " '2014_2016',\n",
       " '2017_2019']"
      ]
     },
     "execution_count": 5,
     "metadata": {},
     "output_type": "execute_result"
    }
   ],
   "source": [
    "year_range"
   ]
  },
  {
   "cell_type": "code",
   "execution_count": null,
   "metadata": {},
   "outputs": [],
   "source": []
  },
  {
   "cell_type": "markdown",
   "metadata": {},
   "source": [
    "### Import Classified_random_img and Check_sample"
   ]
  },
  {
   "cell_type": "code",
   "execution_count": null,
   "metadata": {},
   "outputs": [],
   "source": []
  },
  {
   "cell_type": "code",
   "execution_count": 6,
   "metadata": {},
   "outputs": [],
   "source": [
    "# Define the threshold for sum_img of 10 classifications\n",
    "Threshold_sum_classificatioin = 5\n",
    "\n",
    "# import the classified imgs,note here we left the last 2 classification of Classified_Landsat_1990_2019 \n",
    "# beacuse their accuracy are too low\n",
    "Classified_Landsat_1990_2019  = [ee.ImageCollection(f\"users/wangjinzhulala/North_China_Plain_Python/classification_img/Control_{year}\")\n",
    "                                  .sum().gt(Threshold_sum_classificatioin).set('name',year)   for year in year_range[:-2]]\n",
    "\n",
    "Classified_Sentinel_2014_2019 = [ee.ImageCollection(f\"users/wangjinzhulala/North_China_Plain_Python/classification_img/Sentinel_Landsat_{year}\")\n",
    "                                  .sum().gt(Threshold_sum_classificatioin).set('name',year)   for year in year_range[-2:]]\n",
    "\n",
    "# merge the classified img together\n",
    "Classified_imgs = Classified_Landsat_1990_2019 + Classified_Sentinel_2014_2019"
   ]
  },
  {
   "cell_type": "code",
   "execution_count": null,
   "metadata": {},
   "outputs": [],
   "source": []
  },
  {
   "cell_type": "code",
   "execution_count": null,
   "metadata": {},
   "outputs": [],
   "source": []
  },
  {
   "cell_type": "code",
   "execution_count": 7,
   "metadata": {},
   "outputs": [],
   "source": [
    "# import the untouched control points, which are diveded by a random column with a 101 random state\n",
    "Sample_Landsat  = ee.FeatureCollection(\"users/wangjinzhulala/North_China_Plain_Python/Sample_Points/Control_points\")\\\n",
    "                    .randomColumn('split', 101)\\\n",
    "                    .filterMetadata('split','less_than',0.25)\n",
    "\n",
    "Sample_Sentinel = ee.FeatureCollection(\"users/wangjinzhulala/North_China_Plain_Python/Sample_Points/Sentinel_2017_2019\")\\\n",
    "                    .randomColumn('split', 101)\\\n",
    "                    .filterMetadata('split','less_than',0.25)"
   ]
  },
  {
   "cell_type": "code",
   "execution_count": null,
   "metadata": {},
   "outputs": [],
   "source": []
  },
  {
   "cell_type": "code",
   "execution_count": null,
   "metadata": {},
   "outputs": [],
   "source": []
  },
  {
   "cell_type": "markdown",
   "metadata": {},
   "source": [
    "### Perform temporal consistency check"
   ]
  },
  {
   "cell_type": "code",
   "execution_count": 8,
   "metadata": {
    "scrolled": true
   },
   "outputs": [
    {
     "name": "stdout",
     "output_type": "stream",
     "text": [
      "================  Check Report  ================\n",
      "Check length is    ---> 2\n",
      "Check weights are  ---> [2, 1]\n",
      "Check threshold is ---> 3\n",
      "Check iteration is ---> 10\n",
      "================================================\n",
      "================  Check Report  ================\n",
      "Check length is    ---> 2\n",
      "Check weights are  ---> [2, 1]\n",
      "Check threshold is ---> 3\n",
      "Check iteration is ---> 10\n",
      "================================================\n",
      "================  Check Report  ================\n",
      "Check length is    ---> 2\n",
      "Check weights are  ---> [2, 1]\n",
      "Check threshold is ---> 3\n",
      "Check iteration is ---> 10\n",
      "================================================\n",
      "================  Check Report  ================\n",
      "Check length is    ---> 2\n",
      "Check weights are  ---> [2, 1]\n",
      "Check threshold is ---> 3\n",
      "Check iteration is ---> 10\n",
      "================================================\n",
      "================  Check Report  ================\n",
      "Check length is    ---> 3\n",
      "Check weights are  ---> [3, 1, 1]\n",
      "Check threshold is ---> 4\n",
      "Check iteration is ---> 10\n",
      "================================================\n",
      "================  Check Report  ================\n",
      "Check length is    ---> 3\n",
      "Check weights are  ---> [3, 1, 1]\n",
      "Check threshold is ---> 4\n",
      "Check iteration is ---> 10\n",
      "================================================\n",
      "================  Check Report  ================\n",
      "Check length is    ---> 3\n",
      "Check weights are  ---> [3, 1, 1]\n",
      "Check threshold is ---> 4\n",
      "Check iteration is ---> 10\n",
      "================================================\n",
      "================  Check Report  ================\n",
      "Check length is    ---> 3\n",
      "Check weights are  ---> [3, 1, 1]\n",
      "Check threshold is ---> 4\n",
      "Check iteration is ---> 10\n",
      "================================================\n",
      "================  Check Report  ================\n",
      "Check length is    ---> 4\n",
      "Check weights are  ---> [4, 1, 1, 1]\n",
      "Check threshold is ---> 6\n",
      "Check iteration is ---> 10\n",
      "================================================\n",
      "================  Check Report  ================\n",
      "Check length is    ---> 4\n",
      "Check weights are  ---> [4, 1, 1, 1]\n",
      "Check threshold is ---> 6\n",
      "Check iteration is ---> 10\n",
      "================================================\n",
      "================  Check Report  ================\n",
      "Check length is    ---> 4\n",
      "Check weights are  ---> [4, 1, 1, 1]\n",
      "Check threshold is ---> 6\n",
      "Check iteration is ---> 10\n",
      "================================================\n",
      "================  Check Report  ================\n",
      "Check length is    ---> 4\n",
      "Check weights are  ---> [4, 1, 1, 1]\n",
      "Check threshold is ---> 6\n",
      "Check iteration is ---> 10\n",
      "================================================\n",
      "================  Check Report  ================\n",
      "Check length is    ---> 5\n",
      "Check weights are  ---> [5, 1, 1, 1, 1]\n",
      "Check threshold is ---> 7\n",
      "Check iteration is ---> 10\n",
      "================================================\n",
      "================  Check Report  ================\n",
      "Check length is    ---> 5\n",
      "Check weights are  ---> [5, 1, 1, 1, 1]\n",
      "Check threshold is ---> 7\n",
      "Check iteration is ---> 10\n",
      "================================================\n",
      "================  Check Report  ================\n",
      "Check length is    ---> 5\n",
      "Check weights are  ---> [5, 1, 1, 1, 1]\n",
      "Check threshold is ---> 7\n",
      "Check iteration is ---> 10\n",
      "================================================\n",
      "================  Check Report  ================\n",
      "Check length is    ---> 5\n",
      "Check weights are  ---> [5, 1, 1, 1, 1]\n",
      "Check threshold is ---> 7\n",
      "Check iteration is ---> 10\n",
      "================================================\n",
      "================  Check Report  ================\n",
      "Check length is    ---> 6\n",
      "Check weights are  ---> [6, 1, 1, 1, 1, 1]\n",
      "Check threshold is ---> 9\n",
      "Check iteration is ---> 10\n",
      "================================================\n",
      "================  Check Report  ================\n",
      "Check length is    ---> 6\n",
      "Check weights are  ---> [6, 1, 1, 1, 1, 1]\n",
      "Check threshold is ---> 9\n",
      "Check iteration is ---> 10\n",
      "================================================\n",
      "================  Check Report  ================\n",
      "Check length is    ---> 6\n",
      "Check weights are  ---> [6, 1, 1, 1, 1, 1]\n",
      "Check threshold is ---> 9\n",
      "Check iteration is ---> 10\n",
      "================================================\n",
      "================  Check Report  ================\n",
      "Check length is    ---> 6\n",
      "Check weights are  ---> [6, 1, 1, 1, 1, 1]\n",
      "Check threshold is ---> 9\n",
      "Check iteration is ---> 10\n",
      "================================================\n"
     ]
    }
   ],
   "source": [
    "# get the checked results\n",
    "Iteration_num = 10\n",
    "Window_size = [2,3,4,5,6]\n",
    "modes = ['backward_forward','forward_backward','only_forward','only_backward']\n",
    "\n",
    "Check_df_list = []\n",
    "\n",
    "for window in Window_size:\n",
    "    for mode in modes:\n",
    "    \n",
    "        # get the checked classification imgs, here they are stored in a dictionary\n",
    "        Iter_temporal_check_instaces = Temporal_consistency_check(Classified_imgs,window,Iteration_num)\\\n",
    "                                        .Iterate_the_check(mode = mode)\n",
    "\n",
    "        # convert the Iter_temporal_check_instaces to a Dataframe\n",
    "        Check_instances = pd.DataFrame(Iter_temporal_check_instaces).T\n",
    "        Check_instances.columns = year_range\n",
    "\n",
    "        # Add the window-size and iteration-num to the df\n",
    "        Check_instances['Mode'] = [mode] * Iteration_num\n",
    "        Check_instances['Window'] = [window] * Iteration_num\n",
    "        Check_instances['Iteration'] = range(1,Iteration_num+1)\n",
    "\n",
    "        # Reorder the columns\n",
    "        cols = Check_instances.columns\n",
    "        Check_instances = Check_instances[list(cols[-3:]) + list(cols[:-3])] \n",
    "\n",
    "        # add the checked df into list\n",
    "        Check_df_list.append(Check_instances)"
   ]
  },
  {
   "cell_type": "code",
   "execution_count": null,
   "metadata": {},
   "outputs": [],
   "source": []
  },
  {
   "cell_type": "code",
   "execution_count": 9,
   "metadata": {
    "scrolled": true
   },
   "outputs": [],
   "source": [
    "# merge all instace_df together\n",
    "Check_df = pd.concat(Check_df_list)\n",
    "Check_df.reset_index(inplace=True,drop=True)\n",
    "\n",
    "# add the original classification_img to the df\n",
    "Check_df.loc[-1] = [0,0,0] + Classified_imgs\n",
    "Check_df.index = Check_df.index + 1  # shifting index\n",
    "Check_df.sort_index(inplace=True) "
   ]
  },
  {
   "cell_type": "code",
   "execution_count": null,
   "metadata": {},
   "outputs": [],
   "source": []
  },
  {
   "cell_type": "markdown",
   "metadata": {},
   "source": [
    "### Assess the accuracy after the temporal check"
   ]
  },
  {
   "cell_type": "markdown",
   "metadata": {},
   "source": [
    "##### Transform the Check_sample into long format so each row is an observation with spicific window-iteration-year condition"
   ]
  },
  {
   "cell_type": "code",
   "execution_count": null,
   "metadata": {},
   "outputs": [],
   "source": []
  },
  {
   "cell_type": "code",
   "execution_count": 10,
   "metadata": {},
   "outputs": [],
   "source": [
    "# create sample list for accuracy assesment\n",
    "Check_sample = [Sample_Landsat] * len(Classified_Landsat_1990_2019) + \\\n",
    "               [Sample_Sentinel] * len(Classified_Sentinel_2014_2019)\n",
    "\n",
    "Sample_size = [Sample_Landsat.size().getInfo()]  * len(Classified_Landsat_1990_2019) + \\\n",
    "              [Sample_Sentinel.size().getInfo()] * len(Classified_Sentinel_2014_2019)"
   ]
  },
  {
   "cell_type": "code",
   "execution_count": null,
   "metadata": {},
   "outputs": [],
   "source": []
  },
  {
   "cell_type": "code",
   "execution_count": 11,
   "metadata": {},
   "outputs": [],
   "source": [
    "# attach Check_sample to the Check_instaces_long \n",
    "Check_instaces_long = pd.DataFrame(Check_df.set_index(['Mode','Window','Iteration']).stack()).reset_index()\n",
    "Check_instaces_long.columns = ['Mode','Window','Iteration','year','Image']"
   ]
  },
  {
   "cell_type": "code",
   "execution_count": null,
   "metadata": {},
   "outputs": [],
   "source": []
  },
  {
   "cell_type": "code",
   "execution_count": 12,
   "metadata": {
    "scrolled": true
   },
   "outputs": [],
   "source": [
    "# add check_sample and sample_size for later accuracy assessment\n",
    "Check_instaces_long['Check_sample'] = Check_sample * ( len(modes) * len(Window_size) * (Iteration_num) + 1)\n",
    "Check_instaces_long['Sample_size']  = Sample_size *  ( len(modes) * len(Window_size) * (Iteration_num) + 1)\n",
    "\n",
    "# extract checked_img pixel value to sample\n",
    "Check_instaces_long['Sample_extract_img_value'] = Check_instaces_long.apply(lambda x: ee.Image(x['Image'])\\\n",
    "                                                                                         .sampleRegions(collection = x['Check_sample'], \n",
    "                                                                                                        properties = ['Built'], \n",
    "                                                                                                        scale      = 30,\n",
    "                                                                                                        tileScale  = 4),1)\n",
    "\n",
    "Check_instaces_long['Correct_num'] = Check_instaces_long.apply(lambda x: ee.FeatureCollection(x['Sample_extract_img_value'])\\\n",
    "                                                                        .filter(ee.Filter.equals('Built',None,'classification'))\\\n",
    "                                                                        .size(),1)\n"
   ]
  },
  {
   "cell_type": "code",
   "execution_count": null,
   "metadata": {},
   "outputs": [],
   "source": []
  },
  {
   "cell_type": "code",
   "execution_count": 13,
   "metadata": {},
   "outputs": [],
   "source": [
    "# create a pseudo fe_col that contains an random point with the data we need as attributes\n",
    "Feature_correct_num = [ee.Feature(ee.Geometry.Point([0,0]),{'Mode': fe['Mode'],\n",
    "                                                            'Window':fe['Window'],\n",
    "                                                            'Iteration':fe['Iteration'],\n",
    "                                                            'Correct_num':fe['Correct_num'],})\n",
    "                      for _,fe in Check_instaces_long.iterrows()]\n",
    "\n",
    "\n",
    "# export the fe_col, so we dont need to waite for the computation in Python, \n",
    "# which also avoid 'GEE capcacity exceed' problem\n",
    "asset_path = 'users/wangjinzhulala/North_China_Plain_Python/classificatioin_temporal_checked'\n",
    "\n",
    "# task = ee.batch.Export.table.toAsset(   collection  = ee.FeatureCollection(Feature_correct_num),\n",
    "#                                         description = 'Temporal_check_accuracy',\n",
    "#                                         assetId     = f'{asset_path}/Temporal_check_accuracy') \n",
    "\n",
    "# task.start()"
   ]
  },
  {
   "cell_type": "code",
   "execution_count": null,
   "metadata": {},
   "outputs": [],
   "source": []
  },
  {
   "cell_type": "markdown",
   "metadata": {},
   "source": [
    "##### Calculate the accuracy in Python, which will take a loooog time"
   ]
  },
  {
   "cell_type": "code",
   "execution_count": null,
   "metadata": {},
   "outputs": [],
   "source": []
  },
  {
   "cell_type": "code",
   "execution_count": 38,
   "metadata": {
    "scrolled": true
   },
   "outputs": [
    {
     "name": "stdout",
     "output_type": "stream",
     "text": [
      "10/2010 finished!\n",
      "20/2010 finished!\n",
      "30/2010 finished!\n",
      "40/2010 finished!\n",
      "50/2010 finished!\n",
      "60/2010 finished!\n",
      "70/2010 finished!\n",
      "80/2010 finished!\n",
      "90/2010 finished!\n",
      "100/2010 finished!\n",
      "110/2010 finished!\n",
      "120/2010 finished!\n",
      "130/2010 finished!\n",
      "140/2010 finished!\n",
      "150/2010 finished!\n",
      "160/2010 finished!\n",
      "170/2010 finished!\n",
      "180/2010 finished!\n",
      "190/2010 finished!\n",
      "200/2010 finished!\n",
      "210/2010 finished!\n",
      "220/2010 finished!\n",
      "230/2010 finished!\n",
      "240/2010 finished!\n",
      "250/2010 finished!\n",
      "260/2010 finished!\n",
      "270/2010 finished!\n",
      "280/2010 finished!\n",
      "290/2010 finished!\n",
      "300/2010 finished!\n",
      "310/2010 finished!\n",
      "320/2010 finished!\n",
      "330/2010 finished!\n",
      "340/2010 finished!\n",
      "350/2010 finished!\n",
      "360/2010 finished!\n",
      "370/2010 finished!\n",
      "380/2010 finished!\n",
      "390/2010 finished!\n",
      "400/2010 finished!\n",
      "410/2010 finished!\n",
      "420/2010 finished!\n",
      "430/2010 finished!\n",
      "440/2010 finished!\n",
      "450/2010 finished!\n",
      "460/2010 finished!\n",
      "470/2010 finished!\n",
      "480/2010 finished!\n",
      "490/2010 finished!\n",
      "500/2010 finished!\n",
      "510/2010 finished!\n",
      "520/2010 finished!\n",
      "530/2010 finished!\n",
      "540/2010 finished!\n",
      "550/2010 finished!\n",
      "560/2010 finished!\n",
      "570/2010 finished!\n",
      "580/2010 finished!\n",
      "590/2010 finished!\n",
      "600/2010 finished!\n",
      "610/2010 finished!\n",
      "620/2010 finished!\n",
      "630/2010 finished!\n",
      "640/2010 finished!\n",
      "650/2010 finished!\n",
      "660/2010 finished!\n",
      "670/2010 finished!\n",
      "680/2010 finished!\n",
      "690/2010 finished!\n",
      "700/2010 finished!\n",
      "710/2010 finished!\n",
      "720/2010 finished!\n",
      "730/2010 finished!\n",
      "740/2010 finished!\n",
      "750/2010 finished!\n",
      "760/2010 finished!\n",
      "770/2010 finished!\n",
      "780/2010 finished!\n",
      "790/2010 finished!\n",
      "800/2010 finished!\n",
      "810/2010 finished!\n",
      "820/2010 finished!\n",
      "830/2010 finished!\n",
      "840/2010 finished!\n",
      "850/2010 finished!\n",
      "860/2010 finished!\n",
      "870/2010 finished!\n",
      "880/2010 finished!\n",
      "890/2010 finished!\n",
      "900/2010 finished!\n",
      "910/2010 finished!\n",
      "920/2010 finished!\n",
      "930/2010 finished!\n",
      "940/2010 finished!\n",
      "950/2010 finished!\n",
      "960/2010 finished!\n",
      "970/2010 finished!\n",
      "980/2010 finished!\n",
      "990/2010 finished!\n",
      "1000/2010 finished!\n",
      "1010/2010 finished!\n",
      "1020/2010 finished!\n",
      "1030/2010 finished!\n",
      "1040/2010 finished!\n",
      "1050/2010 finished!\n",
      "1060/2010 finished!\n",
      "1070/2010 finished!\n",
      "1080/2010 finished!\n",
      "1090/2010 finished!\n",
      "1100/2010 finished!\n",
      "1110/2010 finished!\n",
      "1120/2010 finished!\n",
      "1130/2010 finished!\n",
      "1140/2010 finished!\n",
      "1150/2010 finished!\n",
      "1160/2010 finished!\n",
      "1170/2010 finished!\n",
      "1180/2010 finished!\n",
      "1190/2010 finished!\n",
      "1200/2010 finished!\n",
      "1210/2010 finished!\n",
      "1220/2010 finished!\n",
      "1230/2010 finished!\n",
      "1240/2010 finished!\n",
      "1250/2010 finished!\n",
      "1260/2010 finished!\n",
      "1270/2010 finished!\n",
      "1280/2010 finished!\n",
      "1290/2010 finished!\n",
      "1300/2010 finished!\n",
      "1310/2010 finished!\n",
      "1320/2010 finished!\n",
      "1330/2010 finished!\n",
      "1340/2010 finished!\n",
      "1350/2010 finished!\n",
      "1360/2010 finished!\n",
      "1370/2010 finished!\n",
      "1380/2010 finished!\n",
      "1390/2010 finished!\n",
      "1400/2010 finished!\n",
      "1410/2010 finished!\n",
      "1420/2010 finished!\n",
      "1430/2010 finished!\n",
      "1440/2010 finished!\n",
      "1450/2010 finished!\n",
      "1460/2010 finished!\n",
      "1470/2010 finished!\n",
      "1480/2010 finished!\n",
      "1490/2010 finished!\n",
      "1500/2010 finished!\n",
      "1510/2010 finished!\n",
      "1520/2010 finished!\n",
      "1530/2010 finished!\n",
      "1540/2010 finished!\n",
      "1550/2010 finished!\n",
      "1560/2010 finished!\n",
      "1570/2010 finished!\n",
      "1580/2010 finished!\n",
      "1590/2010 finished!\n",
      "1600/2010 finished!\n",
      "1610/2010 finished!\n",
      "1620/2010 finished!\n",
      "1630/2010 finished!\n",
      "1640/2010 finished!\n",
      "1650/2010 finished!\n",
      "1660/2010 finished!\n",
      "1670/2010 finished!\n",
      "1680/2010 finished!\n",
      "1690/2010 finished!\n",
      "1700/2010 finished!\n",
      "1710/2010 finished!\n",
      "1720/2010 finished!\n",
      "1730/2010 finished!\n",
      "1740/2010 finished!\n",
      "1750/2010 finished!\n",
      "1760/2010 finished!\n",
      "1770/2010 finished!\n",
      "1780/2010 finished!\n",
      "1790/2010 finished!\n",
      "1800/2010 finished!\n",
      "1810/2010 finished!\n",
      "1820/2010 finished!\n",
      "1830/2010 finished!\n",
      "1840/2010 finished!\n",
      "1850/2010 finished!\n",
      "1860/2010 finished!\n",
      "1870/2010 finished!\n",
      "1880/2010 finished!\n",
      "1890/2010 finished!\n",
      "1900/2010 finished!\n",
      "1910/2010 finished!\n",
      "1920/2010 finished!\n",
      "1930/2010 finished!\n",
      "1940/2010 finished!\n",
      "1950/2010 finished!\n",
      "1960/2010 finished!\n",
      "1970/2010 finished!\n",
      "1980/2010 finished!\n",
      "1990/2010 finished!\n",
      "2000/2010 finished!\n",
      "2010/2010 finished!\n"
     ]
    }
   ],
   "source": [
    "# chunk_size = 10\n",
    "# correct_num_list = []\n",
    "\n",
    "# unsuccess_idx = []\n",
    "\n",
    "# # chop the featurecollection into several sub-list, so we can apply map function\n",
    "# # to decrease the computation time\n",
    "# for i in range(0,len(Check_instaces_long),chunk_size):\n",
    "    \n",
    "#     # subset from the Check_instaces_long df\n",
    "#     sub_df = Check_instaces_long.iloc[i:i+chunk_size]\n",
    "    \n",
    "#     # using try-except to avoid interupt during the process\n",
    "#     try:\n",
    "    \n",
    "#         # get attributes\n",
    "#         md = sub_df['Mode'].values\n",
    "#         wd = sub_df['Window'].values\n",
    "#         it = sub_df['Iteration'].values\n",
    "#         yr = sub_df['year'].values\n",
    "#         sz = sub_df['Sample_size'].values\n",
    "\n",
    "#         # covert the fe_col into a ee.List\n",
    "#         sample_ext_img = list(sub_df['Sample_extract_img_value'].values)\n",
    "#         sample_ext_img_list = ee.List(sample_ext_img)\n",
    "\n",
    "#         # get the value\n",
    "#         correct_num =  sample_ext_img_list.map(lambda x: ee.FeatureCollection(x)\\\n",
    "#                                                             .filter(ee.Filter.equals('Built',None,'classification')).size())\\\n",
    "#                                                             .getInfo()\n",
    "\n",
    "#         # storge the attribute into a df\n",
    "#         tmp_df = pd.DataFrame([md,wd,it,yr,sz,correct_num],index=['Mode','Window','Iteration',\n",
    "#                                                                    'year','Size','Correct_num']).T\n",
    "\n",
    "#         # add the correct_num to list\n",
    "#         correct_num_list.append(tmp_df)\n",
    "\n",
    "#         # print out the process\n",
    "#         print(f'{i+chunk_size}/{len(Check_instaces_long)} finished!')\n",
    "        \n",
    "#     except:\n",
    "        \n",
    "#         # record the unsuccessful index \n",
    "#         unsuccess_idx.append(range(i,i+chunk_size))\n",
    "        \n",
    "#         # print out the process\n",
    "#         print(f'{i}_{i+chunk_size} was not successful!')"
   ]
  },
  {
   "cell_type": "code",
   "execution_count": 40,
   "metadata": {},
   "outputs": [],
   "source": []
  },
  {
   "cell_type": "markdown",
   "metadata": {},
   "source": [
    "##### Compute the accuracy after temporal-check"
   ]
  },
  {
   "cell_type": "code",
   "execution_count": 16,
   "metadata": {},
   "outputs": [],
   "source": [
    "# # Calculate the checked accuracy\n",
    "# Checked_acc = pd.concat(correct_num_list)\n",
    "# Checked_acc['Accuracy'] = Checked_acc['Correct_num']/Checked_acc['Size']*100\n",
    "\n",
    "# # Save the accuracy to disk\n",
    "# Checked_acc.to_csv('./Result/Temporal_check_acc.csv',index=False)\n",
    "\n",
    "# load the acc_df\n",
    "Checked_acc = pd.read_csv('./Result/Temporal_check_acc.csv')\n",
    "\n",
    "# concert these columns into category, so we can make figures\n",
    "Checked_acc['Iteration'] = Checked_acc['Iteration'].astype('category')\n",
    "Checked_acc['year'] = Checked_acc['year'].astype('category')"
   ]
  },
  {
   "cell_type": "code",
   "execution_count": 17,
   "metadata": {},
   "outputs": [
    {
     "data": {
      "text/html": [
       "<div>\n",
       "<style scoped>\n",
       "    .dataframe tbody tr th:only-of-type {\n",
       "        vertical-align: middle;\n",
       "    }\n",
       "\n",
       "    .dataframe tbody tr th {\n",
       "        vertical-align: top;\n",
       "    }\n",
       "\n",
       "    .dataframe thead th {\n",
       "        text-align: right;\n",
       "    }\n",
       "</style>\n",
       "<table border=\"1\" class=\"dataframe\">\n",
       "  <thead>\n",
       "    <tr style=\"text-align: right;\">\n",
       "      <th></th>\n",
       "      <th>Mode</th>\n",
       "      <th>Window</th>\n",
       "      <th>Iteration</th>\n",
       "      <th>year</th>\n",
       "      <th>Size</th>\n",
       "      <th>Correct_num</th>\n",
       "      <th>Accuracy</th>\n",
       "    </tr>\n",
       "  </thead>\n",
       "  <tbody>\n",
       "    <tr>\n",
       "      <th>0</th>\n",
       "      <td>0</td>\n",
       "      <td>0</td>\n",
       "      <td>0</td>\n",
       "      <td>1990_1992</td>\n",
       "      <td>1980</td>\n",
       "      <td>1962</td>\n",
       "      <td>99.090909</td>\n",
       "    </tr>\n",
       "    <tr>\n",
       "      <th>1</th>\n",
       "      <td>0</td>\n",
       "      <td>0</td>\n",
       "      <td>0</td>\n",
       "      <td>1993_1995</td>\n",
       "      <td>1980</td>\n",
       "      <td>1963</td>\n",
       "      <td>99.141414</td>\n",
       "    </tr>\n",
       "    <tr>\n",
       "      <th>2</th>\n",
       "      <td>0</td>\n",
       "      <td>0</td>\n",
       "      <td>0</td>\n",
       "      <td>1996_1998</td>\n",
       "      <td>1980</td>\n",
       "      <td>1964</td>\n",
       "      <td>99.191919</td>\n",
       "    </tr>\n",
       "    <tr>\n",
       "      <th>3</th>\n",
       "      <td>0</td>\n",
       "      <td>0</td>\n",
       "      <td>0</td>\n",
       "      <td>1999_2001</td>\n",
       "      <td>1980</td>\n",
       "      <td>1958</td>\n",
       "      <td>98.888889</td>\n",
       "    </tr>\n",
       "    <tr>\n",
       "      <th>4</th>\n",
       "      <td>0</td>\n",
       "      <td>0</td>\n",
       "      <td>0</td>\n",
       "      <td>2002_2004</td>\n",
       "      <td>1980</td>\n",
       "      <td>1956</td>\n",
       "      <td>98.787879</td>\n",
       "    </tr>\n",
       "    <tr>\n",
       "      <th>...</th>\n",
       "      <td>...</td>\n",
       "      <td>...</td>\n",
       "      <td>...</td>\n",
       "      <td>...</td>\n",
       "      <td>...</td>\n",
       "      <td>...</td>\n",
       "      <td>...</td>\n",
       "    </tr>\n",
       "    <tr>\n",
       "      <th>2005</th>\n",
       "      <td>only_backward</td>\n",
       "      <td>6</td>\n",
       "      <td>10</td>\n",
       "      <td>2005_2007</td>\n",
       "      <td>1980</td>\n",
       "      <td>1968</td>\n",
       "      <td>99.393939</td>\n",
       "    </tr>\n",
       "    <tr>\n",
       "      <th>2006</th>\n",
       "      <td>only_backward</td>\n",
       "      <td>6</td>\n",
       "      <td>10</td>\n",
       "      <td>2008_2010</td>\n",
       "      <td>1980</td>\n",
       "      <td>1971</td>\n",
       "      <td>99.545455</td>\n",
       "    </tr>\n",
       "    <tr>\n",
       "      <th>2007</th>\n",
       "      <td>only_backward</td>\n",
       "      <td>6</td>\n",
       "      <td>10</td>\n",
       "      <td>2011_2013</td>\n",
       "      <td>1980</td>\n",
       "      <td>1962</td>\n",
       "      <td>99.090909</td>\n",
       "    </tr>\n",
       "    <tr>\n",
       "      <th>2008</th>\n",
       "      <td>only_backward</td>\n",
       "      <td>6</td>\n",
       "      <td>10</td>\n",
       "      <td>2014_2016</td>\n",
       "      <td>2017</td>\n",
       "      <td>1989</td>\n",
       "      <td>98.611800</td>\n",
       "    </tr>\n",
       "    <tr>\n",
       "      <th>2009</th>\n",
       "      <td>only_backward</td>\n",
       "      <td>6</td>\n",
       "      <td>10</td>\n",
       "      <td>2017_2019</td>\n",
       "      <td>2017</td>\n",
       "      <td>1988</td>\n",
       "      <td>98.562221</td>\n",
       "    </tr>\n",
       "  </tbody>\n",
       "</table>\n",
       "<p>2010 rows × 7 columns</p>\n",
       "</div>"
      ],
      "text/plain": [
       "               Mode  Window Iteration       year  Size  Correct_num   Accuracy\n",
       "0                 0       0         0  1990_1992  1980         1962  99.090909\n",
       "1                 0       0         0  1993_1995  1980         1963  99.141414\n",
       "2                 0       0         0  1996_1998  1980         1964  99.191919\n",
       "3                 0       0         0  1999_2001  1980         1958  98.888889\n",
       "4                 0       0         0  2002_2004  1980         1956  98.787879\n",
       "...             ...     ...       ...        ...   ...          ...        ...\n",
       "2005  only_backward       6        10  2005_2007  1980         1968  99.393939\n",
       "2006  only_backward       6        10  2008_2010  1980         1971  99.545455\n",
       "2007  only_backward       6        10  2011_2013  1980         1962  99.090909\n",
       "2008  only_backward       6        10  2014_2016  2017         1989  98.611800\n",
       "2009  only_backward       6        10  2017_2019  2017         1988  98.562221\n",
       "\n",
       "[2010 rows x 7 columns]"
      ]
     },
     "execution_count": 17,
     "metadata": {},
     "output_type": "execute_result"
    }
   ],
   "source": [
    "Checked_acc"
   ]
  },
  {
   "cell_type": "code",
   "execution_count": null,
   "metadata": {},
   "outputs": [],
   "source": []
  },
  {
   "cell_type": "markdown",
   "metadata": {},
   "source": [
    "##### Observe that a window-size of 3 is the optimun size"
   ]
  },
  {
   "cell_type": "code",
   "execution_count": null,
   "metadata": {},
   "outputs": [],
   "source": []
  },
  {
   "cell_type": "code",
   "execution_count": 56,
   "metadata": {},
   "outputs": [
    {
     "data": {
      "text/plain": [
       "<matplotlib.axes._subplots.AxesSubplot at 0x1e207446198>"
      ]
     },
     "execution_count": 56,
     "metadata": {},
     "output_type": "execute_result"
    },
    {
     "data": {
      "image/png": "[encoded data removed]",
      "text/plain": [
       "<Figure size 864x576 with 1 Axes>"
      ]
     },
     "metadata": {
      "needs_background": "light"
     },
     "output_type": "display_data"
    }
   ],
   "source": [
    "plt.figure(figsize=(12,8))\n",
    "sns.boxplot(data = Checked_acc[Checked_acc['Mode']!='0'],x='Mode',y='Accuracy')"
   ]
  },
  {
   "cell_type": "code",
   "execution_count": 57,
   "metadata": {},
   "outputs": [
    {
     "data": {
      "text/plain": [
       "<matplotlib.axes._subplots.AxesSubplot at 0x1e2e2166278>"
      ]
     },
     "execution_count": 57,
     "metadata": {},
     "output_type": "execute_result"
    },
    {
     "data": {
      "image/png": "[encoded data removed]",
      "text/plain": [
       "<Figure size 864x576 with 1 Axes>"
      ]
     },
     "metadata": {
      "needs_background": "light"
     },
     "output_type": "display_data"
    }
   ],
   "source": [
    "plt.figure(figsize=(12,8))\n",
    "sns.lineplot(data = Checked_acc[Checked_acc['Mode']!='0'],x='Iteration',y='Accuracy')"
   ]
  },
  {
   "cell_type": "code",
   "execution_count": 58,
   "metadata": {},
   "outputs": [
    {
     "data": {
      "text/plain": [
       "<matplotlib.axes._subplots.AxesSubplot at 0x1e2e2166828>"
      ]
     },
     "execution_count": 58,
     "metadata": {},
     "output_type": "execute_result"
    },
    {
     "data": {
      "image/png": "[encoded data removed]",
      "text/plain": [
       "<Figure size 864x576 with 1 Axes>"
      ]
     },
     "metadata": {
      "needs_background": "light"
     },
     "output_type": "display_data"
    }
   ],
   "source": [
    "plt.figure(figsize=(12,8))\n",
    "sns.lineplot(data = Checked_acc[Checked_acc['Mode']!='0'],x='Window',y='Accuracy')"
   ]
  },
  {
   "cell_type": "code",
   "execution_count": null,
   "metadata": {},
   "outputs": [],
   "source": []
  },
  {
   "cell_type": "markdown",
   "metadata": {},
   "source": [
    "##### Export the imgs that being temporal-checked with a window size of 3"
   ]
  },
  {
   "cell_type": "code",
   "execution_count": null,
   "metadata": {},
   "outputs": [],
   "source": []
  },
  {
   "cell_type": "code",
   "execution_count": 18,
   "metadata": {},
   "outputs": [],
   "source": [
    "# import the export region\n",
    "North_China_Plain = ee.FeatureCollection(\"users/wangjinzhulala/North_China_Plain_Python/Boundary_shp/North_China_Plain_Boundary\")"
   ]
  },
  {
   "cell_type": "code",
   "execution_count": 64,
   "metadata": {},
   "outputs": [],
   "source": [
    "# here we find that temporcal checked img with \n",
    "# \"Mode=forward_backward\", \"Iteration=5\", \"Window=3\"\n",
    "# are the best quality imgs\n",
    "\n",
    "Target_temporal_checked = Check_instaces_long[(Check_instaces_long['Mode']      == 'forward_backward')&\\\n",
    "                                              (Check_instaces_long['Iteration'] == 9)&\\\n",
    "                                              (Check_instaces_long['Window']    == 3)]"
   ]
  },
  {
   "cell_type": "code",
   "execution_count": null,
   "metadata": {},
   "outputs": [],
   "source": []
  },
  {
   "cell_type": "code",
   "execution_count": 59,
   "metadata": {},
   "outputs": [
    {
     "name": "stdout",
     "output_type": "stream",
     "text": [
      "Exporting forward_backward_Window_3_It_9_1990_1992 successful!\n",
      "Exporting forward_backward_Window_3_It_9_1993_1995 successful!\n",
      "Exporting forward_backward_Window_3_It_9_1996_1998 successful!\n",
      "Exporting forward_backward_Window_3_It_9_1999_2001 successful!\n",
      "Exporting forward_backward_Window_3_It_9_2002_2004 successful!\n",
      "Exporting forward_backward_Window_3_It_9_2005_2007 successful!\n",
      "Exporting forward_backward_Window_3_It_9_2008_2010 successful!\n",
      "Exporting forward_backward_Window_3_It_9_2011_2013 successful!\n",
      "Exporting forward_backward_Window_3_It_9_2014_2016 successful!\n",
      "Exporting forward_backward_Window_3_It_9_2017_2019 successful!\n"
     ]
    }
   ],
   "source": [
    "# export all temporal checked imgs\n",
    "for idx,row in Target_temporal_checked.iterrows():\n",
    "    \n",
    "    Mode      = row[0]\n",
    "    Window    = row[1]\n",
    "    Iteration = row[2]\n",
    "    year      = row[3]\n",
    "    img       = row[4]\n",
    "    \n",
    "    # determine the img name\n",
    "    export_name = f'{Mode}_Window_{Window}_It_{Iteration}_{year}'\n",
    "    \n",
    "#     task = ee.batch.Export.image.toCloudStorage(image = img,\n",
    "#                                                 description=export_name,\n",
    "#                                                 bucket='north_china_plain',\n",
    "#                                                 fileNamePrefix=export_name,\n",
    "#                                                 region=North_China_Plain.geometry().bounds(),\n",
    "#                                                 scale=30,\n",
    "#                                                 maxPixels=int(1e13),\n",
    "#                                                 skipEmptyTiles=True) \n",
    "    \n",
    "#     task.start()\n",
    "    \n",
    "    print(f'Exporting {export_name} successful!')"
   ]
  },
  {
   "cell_type": "code",
   "execution_count": null,
   "metadata": {},
   "outputs": [],
   "source": []
  },
  {
   "cell_type": "code",
   "execution_count": null,
   "metadata": {},
   "outputs": [],
   "source": []
  },
  {
   "cell_type": "markdown",
   "metadata": {},
   "source": [
    "##### Add the checked img to the map"
   ]
  },
  {
   "cell_type": "code",
   "execution_count": null,
   "metadata": {},
   "outputs": [],
   "source": []
  },
  {
   "cell_type": "code",
   "execution_count": null,
   "metadata": {},
   "outputs": [],
   "source": []
  },
  {
   "cell_type": "code",
   "execution_count": 63,
   "metadata": {
    "scrolled": false
   },
   "outputs": [
    {
     "data": {
      "application/vnd.jupyter.widget-view+json": {
       "model_id": "e872c38fc1334d8dbf90fb08766591a7",
       "version_major": 2,
       "version_minor": 0
      },
      "text/plain": [
       "Map(center=[35.2492, 115.4508], controls=(WidgetControl(options=['position'], widget=HBox(children=(ToggleButt…"
      ]
     },
     "metadata": {},
     "output_type": "display_data"
    }
   ],
   "source": [
    "Map = geemap.Map()\n",
    "Map.setCenter(115.4508, 35.2492,10)\n",
    "\n",
    "# define filter parameters\n",
    "mode = 'forward_backward' # 'backward_forward' |'forward_backward'|'only_forward'|'only_backward'\n",
    "window_len = 3\n",
    "year_idx = '2017_2019'\n",
    "\n",
    "\n",
    "# get the temporal checked imgs\n",
    "Temporal_checkd = Check_instaces_long[(Check_instaces_long['Mode']   == mode)&\n",
    "                                      (Check_instaces_long['Window'] == window_len)&\n",
    "                                      (Check_instaces_long['year']   == year_idx)]\n",
    "\n",
    "# get the checked img with different iteration\n",
    "img_year_window_filtered = [Temporal_checkd[Temporal_checkd['Iteration'] == i]['Image'].values[0] \n",
    "                            for i in range(1,Iteration_num + 1)]\n",
    "\n",
    "\n",
    "# get the original img\n",
    "Original_img = Check_instaces_long[(Check_instaces_long['Mode']   == 0)&\n",
    "                                   (Check_instaces_long['Window'] == 0)&\n",
    "                                   (Check_instaces_long['year']   == year_idx)]['Image'].values[0]\n",
    "\n",
    "# add the img to map\n",
    "Map.add_basemap('HYBRID')\n",
    "Map.addLayer(Original_img,                {'min':0,'max':1},'original')\n",
    "\n",
    "Map.addLayer(img_year_window_filtered[0], {'min':0,'max':1},'Iter_1')\n",
    "Map.addLayer(img_year_window_filtered[2], {'min':0,'max':1},'Iter_3')\n",
    "Map.addLayer(img_year_window_filtered[4], {'min':0,'max':1},'Iter_5')\n",
    "Map.addLayer(img_year_window_filtered[6], {'min':0,'max':1},'Iter_7')\n",
    "Map.addLayer(img_year_window_filtered[8], {'min':0,'max':1},'Iter_9')\n",
    "Map.addLayer(img_year_window_filtered[9], {'min':0,'max':1},'Iter_10')\n",
    "\n",
    "Map"
   ]
  },
  {
   "cell_type": "code",
   "execution_count": null,
   "metadata": {},
   "outputs": [],
   "source": []
  },
  {
   "cell_type": "code",
   "execution_count": null,
   "metadata": {},
   "outputs": [],
   "source": []
  },
  {
   "cell_type": "code",
   "execution_count": null,
   "metadata": {},
   "outputs": [],
   "source": []
  },
  {
   "cell_type": "code",
   "execution_count": null,
   "metadata": {},
   "outputs": [],
   "source": []
  },
  {
   "cell_type": "code",
   "execution_count": null,
   "metadata": {},
   "outputs": [],
   "source": []
  }
 ],
 "metadata": {
  "kernelspec": {
   "display_name": "Python 3",
   "language": "python",
   "name": "python3"
  },
  "language_info": {
   "codemirror_mode": {
    "name": "ipython",
    "version": 3
   },
   "file_extension": ".py",
   "mimetype": "text/x-python",
   "name": "python",
   "nbconvert_exporter": "python",
   "pygments_lexer": "ipython3",
   "version": "3.7.3"
  }
 },
 "nbformat": 4,
 "nbformat_minor": 2
}
