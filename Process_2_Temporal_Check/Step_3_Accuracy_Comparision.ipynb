{
 "cells": [
  {
   "cell_type": "code",
   "execution_count": 1,
   "metadata": {},
   "outputs": [],
   "source": [
    "import ee\n",
    "import datetime\n",
    "import os\n",
    "import itertools\n",
    "import sys\n",
    "import re\n",
    "\n",
    "import pandas as pd\n",
    "import numpy as np\n",
    "\n",
    "import seaborn as sns\n",
    "import matplotlib.pyplot as plt\n",
    "\n",
    "import geemap\n",
    "\n",
    "import subprocess\n",
    "from subprocess import PIPE"
   ]
  },
  {
   "cell_type": "code",
   "execution_count": 2,
   "metadata": {},
   "outputs": [],
   "source": [
    "ee.Initialize()"
   ]
  },
  {
   "cell_type": "code",
   "execution_count": 3,
   "metadata": {},
   "outputs": [],
   "source": [
    "# append upper folder into sys-path during run time so we can\n",
    "# import our own moduls\n",
    "sys.path.append('../Process_1_GEE_Python_Classification/')"
   ]
  },
  {
   "cell_type": "code",
   "execution_count": 4,
   "metadata": {},
   "outputs": [],
   "source": [
    "from BackGround_modules.Class_2_Classify_Fourier_Img   import Classification\n",
    "from BackGround_modules.Class_3_Calculate_the_accuracy import Accuracy_assesment"
   ]
  },
  {
   "cell_type": "code",
   "execution_count": null,
   "metadata": {},
   "outputs": [],
   "source": []
  },
  {
   "cell_type": "markdown",
   "metadata": {},
   "source": [
    "##### Define basic data"
   ]
  },
  {
   "cell_type": "code",
   "execution_count": 5,
   "metadata": {},
   "outputs": [],
   "source": [
    "# define basic parameters\n",
    "year_range = [f'{i}_{i+2}' for i in range(1990,2020,3)]\n",
    "\n",
    "# import north_china_plain boundary\n",
    "North_China_Plain = ee.FeatureCollection(\"users/wangjinzhulala/North_China_Plain_Python/Boundary_shp/North_China_Plain_Boundary\")"
   ]
  },
  {
   "cell_type": "code",
   "execution_count": null,
   "metadata": {},
   "outputs": [],
   "source": []
  },
  {
   "cell_type": "code",
   "execution_count": 6,
   "metadata": {},
   "outputs": [],
   "source": [
    "# import the untouched control points, which are diveded by a random column with a 101 random state\n",
    "Sample_Landsat  = ee.FeatureCollection(\"users/wangjinzhulala/North_China_Plain_Python/Sample_Points/Control_points\")\\\n",
    "                    .randomColumn('split', 101)\\\n",
    "                    .filterMetadata('split','less_than',0.25)\n",
    "\n",
    "Sample_Sentinel = ee.FeatureCollection(\"users/wangjinzhulala/North_China_Plain_Python/Sample_Points/Sentinel_2017_2019\")\\\n",
    "                    .randomColumn('split', 101)\\\n",
    "                    .filterMetadata('split','less_than',0.25)\n",
    "\n",
    "\n",
    "# because the last two decade used different untouched sample, \n",
    "# so here we merge them together\n",
    "Untouched_sample = [Sample_Landsat] * 8 + [Sample_Sentinel] * 2"
   ]
  },
  {
   "cell_type": "code",
   "execution_count": null,
   "metadata": {},
   "outputs": [],
   "source": []
  },
  {
   "cell_type": "code",
   "execution_count": 9,
   "metadata": {},
   "outputs": [],
   "source": [
    "# get the classification of this study\n",
    "My_img = ee.Image(\"users/wangjinzhulala/North_China_Plain_Python/classificatioin_temporal_checked/Mosaic_only_forward\")\n",
    "\n",
    "# get the GAIA classification product\n",
    "GAIA_img = ee.Image(\"users/wangjinzhulala/North_China_Plain_Python/Reference_classification/GAIA_NCP\")"
   ]
  },
  {
   "cell_type": "code",
   "execution_count": null,
   "metadata": {},
   "outputs": [],
   "source": []
  },
  {
   "cell_type": "markdown",
   "metadata": {},
   "source": [
    "#### Calculate the accuracy"
   ]
  },
  {
   "cell_type": "code",
   "execution_count": null,
   "metadata": {},
   "outputs": [],
   "source": []
  },
  {
   "cell_type": "code",
   "execution_count": 7,
   "metadata": {},
   "outputs": [],
   "source": [
    "# get the GAIA classification product\n",
    "GAIA_img = ee.Image(\"users/wangjinzhulala/North_China_Plain_Python/Reference_classification/GAIA_NCP\")"
   ]
  },
  {
   "cell_type": "code",
   "execution_count": null,
   "metadata": {},
   "outputs": [],
   "source": []
  },
  {
   "cell_type": "code",
   "execution_count": 10,
   "metadata": {},
   "outputs": [],
   "source": [
    "# construc year:value dict to dilineate the value from mosaiced classifications\n",
    "\n",
    "# get the value dict of my result \n",
    "My_value = dict(zip(year_range,range(10,0,-1)))\n",
    "\n",
    "# get the GAIA value dict\n",
    "GAIA_value = dict(zip(range(1985,2019),range(34,0,-1)))\n",
    "\n",
    "# add {2019:1} to the dictionary, because GAIA does not \n",
    "# extend to 2019, we just use its latest pixel of 2018\n",
    "GAIA_value.update({2019:1})"
   ]
  },
  {
   "cell_type": "code",
   "execution_count": null,
   "metadata": {},
   "outputs": [],
   "source": []
  },
  {
   "cell_type": "code",
   "execution_count": 35,
   "metadata": {
    "scrolled": true
   },
   "outputs": [
    {
     "name": "stdout",
     "output_type": "stream",
     "text": [
      "Accuracy computation of GAIA_1990_1992 complete!\n",
      "Accuracy computation of GAIA_1993_1995 complete!\n",
      "Accuracy computation of GAIA_1996_1998 complete!\n",
      "Accuracy computation of GAIA_1999_2001 complete!\n",
      "Accuracy computation of GAIA_2002_2004 complete!\n",
      "Accuracy computation of GAIA_2005_2007 complete!\n",
      "Accuracy computation of GAIA_2008_2010 complete!\n",
      "Accuracy computation of GAIA_2011_2013 complete!\n",
      "Accuracy computation of GAIA_2014_2016 complete!\n",
      "Accuracy computation of GAIA_2017_2019 complete!\n"
     ]
    }
   ],
   "source": [
    "# calculate the GAIA accuracy using the untouched control samples\n",
    "\n",
    "Accuracy_df_lis = []\n",
    "\n",
    "for i,year in enumerate(year_range):\n",
    "    \n",
    "    # get the img and untouched sample\n",
    "    sample = Untouched_sample[i]\n",
    "    \n",
    "    # get the value that correspoding the year\n",
    "    year_GAIA = int(year[-4:])\n",
    "    \n",
    "    # get the classificaiton, rename the band so we can use Accuracy_assesment module\n",
    "    img_my   = ee.Image(My_img.gte(My_value[year])).rename('classification')\n",
    "    img_GAIA = ee.Image(GAIA_img.gte(GAIA_value[year_GAIA])).rename('classification')\n",
    "   \n",
    "    # extract the img pixel value to test_sample\n",
    "    test_with_My   = img_my.sampleRegions(  collection = sample, \n",
    "                                            properties = ['Built'], \n",
    "                                            scale      = 30)\n",
    "    \n",
    "    test_with_GAIA = img_GAIA.sampleRegions( collection = sample, \n",
    "                                             properties = ['Built'], \n",
    "                                             scale      = 30)\n",
    "    \n",
    "\n",
    "    # compute the accuracy and put them into a df\n",
    "    Acc_GAIA_dict = {}\n",
    "    Acc_GAIA_dict[('GAIA',year)] = Accuracy_assesment(test_with_GAIA).Stp_1_Calculate_Accuracy()\n",
    "    Acc_GAIA_df = pd.DataFrame(Acc_GAIA_dict).T\n",
    "    \n",
    "    Acc_My_dict = {}\n",
    "    Acc_My_dict[('My',year)] = Accuracy_assesment(test_with_My).Stp_1_Calculate_Accuracy()\n",
    "    Acc_My_df = pd.DataFrame(Acc_My_dict).T\n",
    "    \n",
    "    # append the acc_df to df_list\n",
    "    Acc_df = pd.concat([Acc_My_df,Acc_GAIA_df])\n",
    "    Accuracy_df_lis.append(Acc_df)\n",
    "    \n",
    "    # print out the process\n",
    "    print(f'Accuracy computation of GAIA_{year} complete!')\n",
    "    "
   ]
  },
  {
   "cell_type": "code",
   "execution_count": null,
   "metadata": {},
   "outputs": [],
   "source": []
  },
  {
   "cell_type": "code",
   "execution_count": 42,
   "metadata": {},
   "outputs": [],
   "source": [
    "# # Formatting the GAIA_accuracy dataframe\n",
    "# Accuracy_df = pd.concat(Accuracy_df_lis).reset_index()\n",
    "# Accuracy_df.columns =['Type','year','Overall_ACC', 'Precisioin_built','Precisioin_non_built', 'Recall_built', 'Recall_non_built']\n",
    "\n",
    "# # save to disk\n",
    "# Accuracy_df.to_csv('./Result/Accuracy_comparision.csv',index=False)\n",
    "\n",
    "# load the df\n",
    "Accuracy_df = pd.read_csv('./Result/Accuracy_comparision.csv')"
   ]
  },
  {
   "cell_type": "code",
   "execution_count": null,
   "metadata": {},
   "outputs": [],
   "source": []
  },
  {
   "cell_type": "code",
   "execution_count": 49,
   "metadata": {},
   "outputs": [],
   "source": []
  },
  {
   "cell_type": "code",
   "execution_count": null,
   "metadata": {},
   "outputs": [],
   "source": []
  },
  {
   "cell_type": "markdown",
   "metadata": {},
   "source": [
    "##### Make a figure for comparison"
   ]
  },
  {
   "cell_type": "code",
   "execution_count": null,
   "metadata": {},
   "outputs": [],
   "source": []
  },
  {
   "cell_type": "code",
   "execution_count": 50,
   "metadata": {},
   "outputs": [],
   "source": [
    "Accuracy_df['year'] = Accuracy_df['year'].astype('category')"
   ]
  },
  {
   "cell_type": "code",
   "execution_count": null,
   "metadata": {},
   "outputs": [],
   "source": []
  },
  {
   "cell_type": "code",
   "execution_count": 54,
   "metadata": {},
   "outputs": [
    {
     "data": {
      "text/plain": [
       "<matplotlib.axes._subplots.AxesSubplot at 0x21d86e0ba90>"
      ]
     },
     "execution_count": 54,
     "metadata": {},
     "output_type": "execute_result"
    },
    {
     "data": {
      "image/png": "[encoded data removed]",
      "text/plain": [
       "<Figure size 864x576 with 1 Axes>"
      ]
     },
     "metadata": {
      "needs_background": "light"
     },
     "output_type": "display_data"
    }
   ],
   "source": [
    "plt.figure(figsize=(12,8))\n",
    "\n",
    "sns.lineplot(data=Accuracy_df[Accuracy_df['Type']=='My'][['year','Overall_ACC']], x = 'year', y ='Overall_ACC', label='My')\n",
    "sns.lineplot(data=Accuracy_df[Accuracy_df['Type']=='GAIA'][['year','Overall_ACC']], x = 'year', y ='Overall_ACC', label='GAIA')"
   ]
  },
  {
   "cell_type": "code",
   "execution_count": null,
   "metadata": {},
   "outputs": [],
   "source": []
  },
  {
   "cell_type": "code",
   "execution_count": null,
   "metadata": {},
   "outputs": [],
   "source": []
  },
  {
   "cell_type": "code",
   "execution_count": null,
   "metadata": {},
   "outputs": [],
   "source": []
  }
 ],
 "metadata": {
  "kernelspec": {
   "display_name": "Python 3",
   "language": "python",
   "name": "python3"
  },
  "language_info": {
   "codemirror_mode": {
    "name": "ipython",
    "version": 3
   },
   "file_extension": ".py",
   "mimetype": "text/x-python",
   "name": "python",
   "nbconvert_exporter": "python",
   "pygments_lexer": "ipython3",
   "version": "3.7.3"
  }
 },
 "nbformat": 4,
 "nbformat_minor": 2
}
