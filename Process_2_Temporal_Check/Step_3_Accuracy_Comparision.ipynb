{
 "cells": [
  {
   "cell_type": "code",
   "execution_count": 1,
   "metadata": {},
   "outputs": [],
   "source": [
    "import ee\n",
    "import datetime\n",
    "import os\n",
    "import itertools\n",
    "import sys\n",
    "import re\n",
    "\n",
    "import pandas as pd\n",
    "import numpy as np\n",
    "\n",
    "import seaborn as sns\n",
    "import matplotlib.pyplot as plt\n",
    "\n",
    "import geemap\n",
    "\n",
    "import subprocess\n",
    "from subprocess import PIPE"
   ]
  },
  {
   "cell_type": "code",
   "execution_count": 2,
   "metadata": {},
   "outputs": [],
   "source": [
    "ee.Initialize()"
   ]
  },
  {
   "cell_type": "code",
   "execution_count": 3,
   "metadata": {},
   "outputs": [],
   "source": [
    "# append upper folder into sys-path during run time so we can\n",
    "# import our own moduls\n",
    "sys.path.append('../Process_1_GEE_Python_Classification/')"
   ]
  },
  {
   "cell_type": "code",
   "execution_count": 4,
   "metadata": {},
   "outputs": [],
   "source": [
    "from BackGround_modules.Class_2_Classify_Fourier_Img   import Classification\n",
    "from BackGround_modules.Class_3_Calculate_the_accuracy import Accuracy_assesment"
   ]
  },
  {
   "cell_type": "code",
   "execution_count": null,
   "metadata": {},
   "outputs": [],
   "source": []
  },
  {
   "cell_type": "markdown",
   "metadata": {},
   "source": [
    "##### Define basic data"
   ]
  },
  {
   "cell_type": "code",
   "execution_count": 6,
   "metadata": {},
   "outputs": [],
   "source": [
    "# define basic parameters\n",
    "year_range = [f'{i}_{i+2}' for i in range(1990,2020,3)]\n",
    "\n",
    "# import north_china_plain boundary\n",
    "North_China_Plain = ee.FeatureCollection(\"users/wangjinzhulala/North_China_Plain_Python/Boundary_shp/North_China_Plain_Boundary\")"
   ]
  },
  {
   "cell_type": "code",
   "execution_count": null,
   "metadata": {},
   "outputs": [],
   "source": []
  },
  {
   "cell_type": "code",
   "execution_count": 55,
   "metadata": {},
   "outputs": [],
   "source": [
    "# import the untouched control points, which are diveded by a random column with a 101 random state\n",
    "Sample_Landsat  = ee.FeatureCollection(\"users/wangjinzhulala/North_China_Plain_Python/Sample_Points/Control_points\")\\\n",
    "                    .randomColumn('split', 101)\\\n",
    "                    .filterMetadata('split','less_than',0.25)\n",
    "\n",
    "Sample_Sentinel = ee.FeatureCollection(\"users/wangjinzhulala/North_China_Plain_Python/Sample_Points/Sentinel_2017_2019\")\\\n",
    "                    .randomColumn('split', 101)\\\n",
    "                    .filterMetadata('split','less_than',0.25)\n",
    "\n",
    "\n",
    "# because the last two decade used different untouched sample, \n",
    "# so here we merge them together\n",
    "Untouched_sample = [Sample_Landsat] * 8 + [Sample_Sentinel] * 2"
   ]
  },
  {
   "cell_type": "code",
   "execution_count": null,
   "metadata": {},
   "outputs": [],
   "source": []
  },
  {
   "cell_type": "code",
   "execution_count": null,
   "metadata": {},
   "outputs": [],
   "source": []
  },
  {
   "cell_type": "code",
   "execution_count": null,
   "metadata": {},
   "outputs": [],
   "source": []
  },
  {
   "cell_type": "markdown",
   "metadata": {},
   "source": [
    "#### Calculate the accuracy of GAIA datasets"
   ]
  },
  {
   "cell_type": "code",
   "execution_count": 29,
   "metadata": {},
   "outputs": [],
   "source": [
    "# get the GAIA classification product\n",
    "GAIA_img = ee.Image(\"users/wangjinzhulala/North_China_Plain_Python/Reference_classification/GAIA_NCP\")"
   ]
  },
  {
   "cell_type": "code",
   "execution_count": null,
   "metadata": {},
   "outputs": [],
   "source": []
  },
  {
   "cell_type": "code",
   "execution_count": 30,
   "metadata": {},
   "outputs": [],
   "source": [
    "# get the GAIA area change\n",
    "GAIA_value = dict(zip(range(1985,2019),range(34,0,-1)))\n",
    "\n",
    "# add {2019:1} to the dictionary, because GAIA does not \n",
    "# extend to 2019, we just use its latest pixel of 2018\n",
    "GAIA_value.update({2019:1})\n",
    "\n",
    "# here we get each end year (1992,1995,...,2019) from GAIA\n",
    "# set the target year's value to 1, others to 0\n",
    "GAIA_each_year = [ee.Image(GAIA_img.gte(GAIA_value[year])) \n",
    "                  for year in range(1992,2020,3)]"
   ]
  },
  {
   "cell_type": "code",
   "execution_count": null,
   "metadata": {},
   "outputs": [],
   "source": []
  },
  {
   "cell_type": "code",
   "execution_count": 56,
   "metadata": {},
   "outputs": [
    {
     "name": "stdout",
     "output_type": "stream",
     "text": [
      "Accuracy computation of GAIA_1992 complete!\n",
      "Accuracy computation of GAIA_1995 complete!\n",
      "Accuracy computation of GAIA_1998 complete!\n",
      "Accuracy computation of GAIA_2001 complete!\n",
      "Accuracy computation of GAIA_2004 complete!\n",
      "Accuracy computation of GAIA_2007 complete!\n",
      "Accuracy computation of GAIA_2010 complete!\n",
      "Accuracy computation of GAIA_2013 complete!\n",
      "Accuracy computation of GAIA_2016 complete!\n",
      "Accuracy computation of GAIA_2019 complete!\n"
     ]
    }
   ],
   "source": [
    "# calculate the GAIA accuracy using the untouched control samples\n",
    "\n",
    "GAIA_acc = []\n",
    "\n",
    "for i,year in enumerate(range(1992,2020,3)):\n",
    "    \n",
    "    # get the img and untouched sample\n",
    "    sample = Untouched_sample[i]\n",
    "    img    = GAIA_each_year[i]\n",
    "    \n",
    "    # rename the band so we can use Accuracy_assesment module\n",
    "    img = img.rename('classification')\n",
    "    \n",
    "    # extract reclassified GAIA pixel value to test_sample\n",
    "    test_with_GAIA = img.sampleRegions( collection = sample, \n",
    "                                        properties = ['Built'], \n",
    "                                        scale      = 30)\n",
    "\n",
    "    # compute the accuracy \n",
    "    GAIA_acc.append(Accuracy_assesment(test_with_GAIA).Stp_1_Calculate_Accuracy())\n",
    "    \n",
    "    # print out the process\n",
    "    print(f'Accuracy computation of GAIA_{year} complete!')\n",
    "    "
   ]
  },
  {
   "cell_type": "code",
   "execution_count": null,
   "metadata": {},
   "outputs": [],
   "source": []
  },
  {
   "cell_type": "code",
   "execution_count": 14,
   "metadata": {},
   "outputs": [],
   "source": [
    "# # Formatting the GAIA_accuracy dataframe\n",
    "# GAIA_acc_df = pd.DataFrame(GAIA_acc)\n",
    "\n",
    "# # save to disk\n",
    "# GAIA_acc_df.to_csv('./Result/GAIA_acc.csv',index=False)\n",
    "\n",
    "# load the df\n",
    "GAIA_acc_df = pd.read_csv('./Result/GAIA_acc.csv')\n",
    "GAIA_acc_df['Year'] = year_range"
   ]
  },
  {
   "cell_type": "code",
   "execution_count": null,
   "metadata": {},
   "outputs": [],
   "source": []
  },
  {
   "cell_type": "markdown",
   "metadata": {},
   "source": [
    "#####  Calculate the accuracy of my result using untouched control samples"
   ]
  },
  {
   "cell_type": "code",
   "execution_count": null,
   "metadata": {},
   "outputs": [],
   "source": []
  },
  {
   "cell_type": "code",
   "execution_count": 49,
   "metadata": {},
   "outputs": [],
   "source": [
    "# get the temporal_check classification images\n",
    "Checked_my = [ee.Image(f\"users/wangjinzhulala/North_China_Plain_Python/classificatioin_temporal_checked/forward_backward_Window_3_It_9_{year}\")\n",
    "               for year in year_range]\n"
   ]
  },
  {
   "cell_type": "code",
   "execution_count": 60,
   "metadata": {},
   "outputs": [
    {
     "name": "stdout",
     "output_type": "stream",
     "text": [
      "Accuracy computation of My_1990_1992 complete!\n",
      "Accuracy computation of My_1993_1995 complete!\n",
      "Accuracy computation of My_1996_1998 complete!\n",
      "Accuracy computation of My_1999_2001 complete!\n",
      "Accuracy computation of My_2002_2004 complete!\n",
      "Accuracy computation of My_2005_2007 complete!\n",
      "Accuracy computation of My_2008_2010 complete!\n",
      "Accuracy computation of My_2011_2013 complete!\n",
      "Accuracy computation of My_2014_2016 complete!\n",
      "Accuracy computation of My_2017_2019 complete!\n"
     ]
    }
   ],
   "source": [
    "My_acc = []\n",
    "\n",
    "for year,img,sample in zip(year_range,Checked_my,Untouched_sample):\n",
    "    \n",
    "    # rename the band so we can use Accuracy_assesment module\n",
    "    img = img.rename('classification')\n",
    "    \n",
    "    # extract reclassified GAIA pixel value to test_sample\n",
    "    test_with_mine = img.sampleRegions( collection = sample, \n",
    "                                        properties = ['Built'], \n",
    "                                        scale      = 30)\n",
    "\n",
    "    # compute the accuracy \n",
    "    My_acc.append(Accuracy_assesment(test_with_mine).Stp_1_Calculate_Accuracy())\n",
    "    \n",
    "    # print out the process\n",
    "    print(f'Accuracy computation of My_{year} complete!')\n",
    "    "
   ]
  },
  {
   "cell_type": "code",
   "execution_count": null,
   "metadata": {},
   "outputs": [],
   "source": []
  },
  {
   "cell_type": "code",
   "execution_count": 9,
   "metadata": {},
   "outputs": [],
   "source": [
    "# # Formatting the GAIA_accuracy dataframe\n",
    "# My_acc_df = pd.DataFrame(My_acc)\n",
    "\n",
    "# # save to disk\n",
    "# My_acc_df.to_csv('./Result/My_acc.csv',index=False)\n",
    "\n",
    "# load the df\n",
    "My_acc_df = pd.read_csv('./Result/My_acc.csv')"
   ]
  },
  {
   "cell_type": "code",
   "execution_count": null,
   "metadata": {},
   "outputs": [],
   "source": []
  },
  {
   "cell_type": "code",
   "execution_count": 10,
   "metadata": {},
   "outputs": [
    {
     "data": {
      "text/html": [
       "<div>\n",
       "<style scoped>\n",
       "    .dataframe tbody tr th:only-of-type {\n",
       "        vertical-align: middle;\n",
       "    }\n",
       "\n",
       "    .dataframe tbody tr th {\n",
       "        vertical-align: top;\n",
       "    }\n",
       "\n",
       "    .dataframe thead th {\n",
       "        text-align: right;\n",
       "    }\n",
       "</style>\n",
       "<table border=\"1\" class=\"dataframe\">\n",
       "  <thead>\n",
       "    <tr style=\"text-align: right;\">\n",
       "      <th></th>\n",
       "      <th>Overall_ACC</th>\n",
       "      <th>Precisioin_non_built</th>\n",
       "      <th>Precisioin_built</th>\n",
       "      <th>Recall_non_built</th>\n",
       "      <th>Recall_built</th>\n",
       "      <th>Year</th>\n",
       "    </tr>\n",
       "  </thead>\n",
       "  <tbody>\n",
       "    <tr>\n",
       "      <th>0</th>\n",
       "      <td>99.55</td>\n",
       "      <td>99.10</td>\n",
       "      <td>100.00</td>\n",
       "      <td>100.00</td>\n",
       "      <td>99.09</td>\n",
       "      <td>1990_1992</td>\n",
       "    </tr>\n",
       "    <tr>\n",
       "      <th>1</th>\n",
       "      <td>99.60</td>\n",
       "      <td>99.20</td>\n",
       "      <td>100.00</td>\n",
       "      <td>100.00</td>\n",
       "      <td>99.19</td>\n",
       "      <td>1993_1995</td>\n",
       "    </tr>\n",
       "    <tr>\n",
       "      <th>2</th>\n",
       "      <td>99.75</td>\n",
       "      <td>99.50</td>\n",
       "      <td>100.00</td>\n",
       "      <td>100.00</td>\n",
       "      <td>99.50</td>\n",
       "      <td>1996_1998</td>\n",
       "    </tr>\n",
       "    <tr>\n",
       "      <th>3</th>\n",
       "      <td>99.65</td>\n",
       "      <td>99.40</td>\n",
       "      <td>99.90</td>\n",
       "      <td>99.90</td>\n",
       "      <td>99.40</td>\n",
       "      <td>1999_2001</td>\n",
       "    </tr>\n",
       "    <tr>\n",
       "      <th>4</th>\n",
       "      <td>99.60</td>\n",
       "      <td>99.20</td>\n",
       "      <td>100.00</td>\n",
       "      <td>100.00</td>\n",
       "      <td>99.19</td>\n",
       "      <td>2002_2004</td>\n",
       "    </tr>\n",
       "    <tr>\n",
       "      <th>5</th>\n",
       "      <td>99.44</td>\n",
       "      <td>99.10</td>\n",
       "      <td>99.80</td>\n",
       "      <td>99.80</td>\n",
       "      <td>99.09</td>\n",
       "      <td>2005_2007</td>\n",
       "    </tr>\n",
       "    <tr>\n",
       "      <th>6</th>\n",
       "      <td>99.39</td>\n",
       "      <td>98.90</td>\n",
       "      <td>99.90</td>\n",
       "      <td>99.90</td>\n",
       "      <td>98.89</td>\n",
       "      <td>2008_2010</td>\n",
       "    </tr>\n",
       "    <tr>\n",
       "      <th>7</th>\n",
       "      <td>98.99</td>\n",
       "      <td>98.30</td>\n",
       "      <td>99.69</td>\n",
       "      <td>99.70</td>\n",
       "      <td>98.29</td>\n",
       "      <td>2011_2013</td>\n",
       "    </tr>\n",
       "    <tr>\n",
       "      <th>8</th>\n",
       "      <td>98.81</td>\n",
       "      <td>99.41</td>\n",
       "      <td>98.20</td>\n",
       "      <td>98.25</td>\n",
       "      <td>99.39</td>\n",
       "      <td>2014_2016</td>\n",
       "    </tr>\n",
       "    <tr>\n",
       "      <th>9</th>\n",
       "      <td>98.66</td>\n",
       "      <td>99.12</td>\n",
       "      <td>98.20</td>\n",
       "      <td>98.25</td>\n",
       "      <td>99.09</td>\n",
       "      <td>2017_2019</td>\n",
       "    </tr>\n",
       "  </tbody>\n",
       "</table>\n",
       "</div>"
      ],
      "text/plain": [
       "   Overall_ACC  Precisioin_non_built  Precisioin_built  Recall_non_built  \\\n",
       "0        99.55                 99.10            100.00            100.00   \n",
       "1        99.60                 99.20            100.00            100.00   \n",
       "2        99.75                 99.50            100.00            100.00   \n",
       "3        99.65                 99.40             99.90             99.90   \n",
       "4        99.60                 99.20            100.00            100.00   \n",
       "5        99.44                 99.10             99.80             99.80   \n",
       "6        99.39                 98.90             99.90             99.90   \n",
       "7        98.99                 98.30             99.69             99.70   \n",
       "8        98.81                 99.41             98.20             98.25   \n",
       "9        98.66                 99.12             98.20             98.25   \n",
       "\n",
       "   Recall_built       Year  \n",
       "0         99.09  1990_1992  \n",
       "1         99.19  1993_1995  \n",
       "2         99.50  1996_1998  \n",
       "3         99.40  1999_2001  \n",
       "4         99.19  2002_2004  \n",
       "5         99.09  2005_2007  \n",
       "6         98.89  2008_2010  \n",
       "7         98.29  2011_2013  \n",
       "8         99.39  2014_2016  \n",
       "9         99.09  2017_2019  "
      ]
     },
     "execution_count": 10,
     "metadata": {},
     "output_type": "execute_result"
    }
   ],
   "source": [
    "My_acc_df['Year'] = year_range\n",
    "My_acc_df"
   ]
  },
  {
   "cell_type": "code",
   "execution_count": null,
   "metadata": {},
   "outputs": [],
   "source": []
  },
  {
   "cell_type": "markdown",
   "metadata": {},
   "source": [
    "##### Make a figure for comparison"
   ]
  },
  {
   "cell_type": "code",
   "execution_count": null,
   "metadata": {},
   "outputs": [],
   "source": []
  },
  {
   "cell_type": "code",
   "execution_count": 16,
   "metadata": {},
   "outputs": [
    {
     "data": {
      "text/plain": [
       "<matplotlib.axes._subplots.AxesSubplot at 0x1b4c1a13160>"
      ]
     },
     "execution_count": 16,
     "metadata": {},
     "output_type": "execute_result"
    },
    {
     "data": {
      "image/png": "[encoded data removed]",
      "text/plain": [
       "<Figure size 864x576 with 1 Axes>"
      ]
     },
     "metadata": {
      "needs_background": "light"
     },
     "output_type": "display_data"
    }
   ],
   "source": [
    "plt.figure(figsize=(12,8))\n",
    "\n",
    "sns.lineplot(data=GAIA_acc_df,x = 'Year', y ='Overall_ACC', label='GAIA')\n",
    "sns.lineplot(data=My_acc_df  ,x = 'Year', y ='Overall_ACC', label='My')"
   ]
  },
  {
   "cell_type": "code",
   "execution_count": null,
   "metadata": {},
   "outputs": [],
   "source": []
  },
  {
   "cell_type": "code",
   "execution_count": null,
   "metadata": {},
   "outputs": [],
   "source": []
  }
 ],
 "metadata": {
  "kernelspec": {
   "display_name": "Python 3",
   "language": "python",
   "name": "python3"
  },
  "language_info": {
   "codemirror_mode": {
    "name": "ipython",
    "version": 3
   },
   "file_extension": ".py",
   "mimetype": "text/x-python",
   "name": "python",
   "nbconvert_exporter": "python",
   "pygments_lexer": "ipython3",
   "version": "3.7.3"
  }
 },
 "nbformat": 4,
 "nbformat_minor": 2
}
