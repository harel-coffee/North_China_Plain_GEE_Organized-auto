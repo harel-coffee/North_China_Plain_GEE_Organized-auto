{
 "cells": [
  {
   "cell_type": "code",
   "execution_count": 1,
   "metadata": {},
   "outputs": [],
   "source": [
    "import ee\n",
    "import datetime\n",
    "import os\n",
    "import itertools\n",
    "import sys\n",
    "import collections\n",
    "\n",
    "from pprint import pprint\n",
    "import pandas as pd\n",
    "import numpy as np\n",
    "import seaborn as sns\n",
    "import matplotlib.pyplot as plt\n",
    "\n",
    "import math\n",
    "\n",
    "import geemap\n",
    "\n",
    "import subprocess\n",
    "from subprocess import PIPE"
   ]
  },
  {
   "cell_type": "code",
   "execution_count": 2,
   "metadata": {},
   "outputs": [],
   "source": [
    "ee.Initialize()\n",
    "\n",
    "# append module folter path into sys-path so wen can import necessary modules\n",
    "sys.path.append('../Process_2_GEE_Python_Classification/')"
   ]
  },
  {
   "cell_type": "code",
   "execution_count": 3,
   "metadata": {},
   "outputs": [],
   "source": [
    "from BackGround_modules.Class_1_Make_fourier_imgs import Make_Fourier\n",
    "from BackGround_modules.Class_2_Classify_Fourier_Img import Classification\n",
    "from BackGround_modules.Class_3_Calculate_the_accuracy import Accuracy_assesment"
   ]
  },
  {
   "cell_type": "code",
   "execution_count": null,
   "metadata": {},
   "outputs": [],
   "source": []
  },
  {
   "cell_type": "markdown",
   "metadata": {},
   "source": [
    "##### Fig_Fourier_Making"
   ]
  },
  {
   "cell_type": "code",
   "execution_count": 4,
   "metadata": {},
   "outputs": [
    {
     "name": "stdout",
     "output_type": "stream",
     "text": [
      "Analyzing the images of 2018_2019\n"
     ]
    }
   ],
   "source": [
    "# Instantiate the Fourier_class\n",
    "Fourier_2018_2019 = Make_Fourier('2018-01-01','2019-01-01')\n",
    "\n",
    "# Making the Fourier map\n",
    "Fourier_2018_2019.Stp_1_Create_hamonic_names()\n",
    "Fourier_2018_2019.Stp_2_Add_harmonics()\n",
    "Fourier_2018_2019.Stp_3_Harmonic_fit()"
   ]
  },
  {
   "cell_type": "code",
   "execution_count": null,
   "metadata": {},
   "outputs": [],
   "source": []
  },
  {
   "cell_type": "code",
   "execution_count": 5,
   "metadata": {
    "scrolled": false
   },
   "outputs": [],
   "source": [
    "Fig_pt = ee.Geometry.Point(115.52126, 33.64591)"
   ]
  },
  {
   "cell_type": "code",
   "execution_count": null,
   "metadata": {},
   "outputs": [],
   "source": []
  },
  {
   "cell_type": "markdown",
   "metadata": {},
   "source": [
    "##### Get the Fourier img value"
   ]
  },
  {
   "cell_type": "code",
   "execution_count": 6,
   "metadata": {},
   "outputs": [],
   "source": [
    "# get the Fourier_img\n",
    "Fourier_img = Fourier_2018_2019.harmonicTrendCoefficients\n",
    "\n",
    "# get the value of Foutire img at Fig_pt, \n",
    "#recall that the img was multipied by 1000 and converted into an integer\n",
    "Fig_pt_img_value = ee.ImageCollection(Fourier_img).getRegion(Fig_pt, 30).getInfo()"
   ]
  },
  {
   "cell_type": "code",
   "execution_count": null,
   "metadata": {},
   "outputs": [],
   "source": []
  },
  {
   "cell_type": "markdown",
   "metadata": {},
   "source": [
    "##### Get the original_NDVI_NDBI_EVI"
   ]
  },
  {
   "cell_type": "code",
   "execution_count": 55,
   "metadata": {},
   "outputs": [],
   "source": [
    "# get the original_value series\n",
    "original_series = Fourier_2018_2019.harmonicLandsat.select(['NDVI','NDBI','EVI']).getRegion(Fig_pt, 30).getInfo()\n",
    "\n",
    "# conver the original_series to a df and the original time to Y-m-d\n",
    "original_series_df = pd.DataFrame(original_series[1:],columns=original_series[0])\n",
    "original_series_df['time'] = pd.to_datetime(original_series_df['time'],unit='ms').dt.strftime('%Y-%m-%d')\n",
    "\n",
    "original_series_df.sort_values('time',inplace=True)\n",
    "original_series_df.index = range(len(original_series_df))"
   ]
  },
  {
   "cell_type": "code",
   "execution_count": null,
   "metadata": {},
   "outputs": [],
   "source": []
  },
  {
   "cell_type": "markdown",
   "metadata": {},
   "source": [
    "##### Get the fitted_NDVI_NDBI_EVI"
   ]
  },
  {
   "cell_type": "code",
   "execution_count": 8,
   "metadata": {},
   "outputs": [],
   "source": [
    "# get the fitted_value series\n",
    "fitted_series = Fourier_2018_2019.fittedHarmonic"
   ]
  },
  {
   "cell_type": "code",
   "execution_count": 58,
   "metadata": {},
   "outputs": [],
   "source": [
    "# innitiate an empty df to hold both Fitted values\n",
    "Fitted_value = pd.DataFrame()\n",
    "\n",
    "for name in ['NDVI','NDBI','EVI']:\n",
    "    \n",
    "    # get the fitted_value series\n",
    "    fitted_value = fitted_series[name].select([f'fitted_{name}']).getRegion(Fig_pt, 30).getInfo()\n",
    "\n",
    "    # conver the original_series to a df and the original time to Y-m-d\n",
    "    fitted_value_df = pd.DataFrame(fitted_value[1:],columns=fitted_value[0])\n",
    "    fitted_value_df.sort_values('time',inplace=True)\n",
    "    fitted_value_df.index = range(len(fitted_value_df))\n",
    "    \n",
    "    # concat original value with fitted value\n",
    "    Fitted_value = pd.concat([Fitted_value,fitted_value_df[[f'fitted_{name}']]],axis=1,ignore_index=True)"
   ]
  },
  {
   "cell_type": "code",
   "execution_count": null,
   "metadata": {},
   "outputs": [],
   "source": []
  },
  {
   "cell_type": "markdown",
   "metadata": {},
   "source": [
    "##### Combine Original_value and Fitted_Value"
   ]
  },
  {
   "cell_type": "code",
   "execution_count": null,
   "metadata": {},
   "outputs": [],
   "source": []
  },
  {
   "cell_type": "code",
   "execution_count": 62,
   "metadata": {},
   "outputs": [],
   "source": [
    "# add column names to fitter values\n",
    "Fitted_value.columns = ['Fit_NDVI','Fit_NDBI','Fit_EVI']\n",
    "\n",
    "# concate Original and Fitted value into one df\n",
    "Original_Fitted = pd.concat([original_series_df,Fitted_value],axis=1)"
   ]
  },
  {
   "cell_type": "code",
   "execution_count": null,
   "metadata": {},
   "outputs": [],
   "source": []
  },
  {
   "cell_type": "code",
   "execution_count": 64,
   "metadata": {},
   "outputs": [],
   "source": [
    "# create a fucntion that conver YMD to Year-fraction\n",
    "from datetime import datetime as dt\n",
    "import time\n",
    "\n",
    "def toYearFraction(date):\n",
    "    def sinceEpoch(date): # returns seconds since epoch\n",
    "        return time.mktime(date.timetuple())\n",
    "    s = sinceEpoch\n",
    "\n",
    "    year = date.year\n",
    "    startOfThisYear = dt(year=year, month=1, day=1)\n",
    "    startOfNextYear = dt(year=year+1, month=1, day=1)\n",
    "\n",
    "    yearElapsed = s(date) - s(startOfThisYear)\n",
    "    yearDuration = s(startOfNextYear) - s(startOfThisYear)\n",
    "    fraction = yearElapsed/yearDuration\n",
    "\n",
    "    return date.year + fraction"
   ]
  },
  {
   "cell_type": "code",
   "execution_count": null,
   "metadata": {},
   "outputs": [],
   "source": []
  },
  {
   "cell_type": "code",
   "execution_count": 65,
   "metadata": {},
   "outputs": [],
   "source": [
    "# Add 'Y_fraction' to Original_Fitted\n",
    "Original_Fitted['Y_fraction'] = pd.to_datetime(Original_Fitted['time']).apply(lambda x: toYearFraction(x))\n",
    "\n",
    "# get the coefficient\n",
    "Harmonic_coeficient = dict(zip(Fig_pt_img_value[0],Fig_pt_img_value[1]))"
   ]
  },
  {
   "cell_type": "code",
   "execution_count": null,
   "metadata": {},
   "outputs": [],
   "source": []
  },
  {
   "cell_type": "code",
   "execution_count": 66,
   "metadata": {},
   "outputs": [
    {
     "data": {
      "text/plain": [
       "<matplotlib.axes._subplots.AxesSubplot at 0x23ea55cc8d0>"
      ]
     },
     "execution_count": 66,
     "metadata": {},
     "output_type": "execute_result"
    },
    {
     "data": {
      "image/png": "[encoded data removed]",
      "text/plain": [
       "<Figure size 432x288 with 1 Axes>"
      ]
     },
     "metadata": {
      "needs_background": "light"
     },
     "output_type": "display_data"
    }
   ],
   "source": [
    "sns.lineplot(x='time',y='Fit_NDVI',data=Original_Fitted)\n",
    "sns.lineplot(x='time',y='NDVI',data=Original_Fitted)"
   ]
  },
  {
   "cell_type": "code",
   "execution_count": null,
   "metadata": {},
   "outputs": [],
   "source": []
  },
  {
   "cell_type": "markdown",
   "metadata": {},
   "source": [
    "### Restore fitted_sin_cos"
   ]
  },
  {
   "cell_type": "markdown",
   "metadata": {},
   "source": [
    "##### Create independents using time"
   ]
  },
  {
   "cell_type": "code",
   "execution_count": 145,
   "metadata": {},
   "outputs": [],
   "source": [
    "# Using time as dependendts\n",
    "sin_cos_t = {}\n",
    "\n",
    "\n",
    "interval = np.arange(2018,2019,0.02)\n",
    "\n",
    "\n",
    "# using a 4-level loop to create time variables  \n",
    "for idx in ['EVI','NDBI','NDVI']:    \n",
    "    for s_c in ['cos','sin']:        \n",
    "        for harmonic in [1,2,3]:\n",
    "            for t in interval:\n",
    "                \n",
    "                sin_cos_t[(t,idx,'t','t')]       = (t-1970)*2*3.1415926\n",
    "                sin_cos_t[(t,idx,'constant','constant')] = 1\n",
    "                \n",
    "                if   s_c == 'sin':\n",
    "                    sin_cos_t[(t,idx,s_c,harmonic)]  = [math.sin(harmonic*t*2*3.1415926)]\n",
    "                elif s_c == 'cos':\n",
    "                    sin_cos_t[(t,idx,s_c,harmonic)]  = [math.cos(harmonic*t*2*3.1415926)]\n",
    "                "
   ]
  },
  {
   "cell_type": "code",
   "execution_count": null,
   "metadata": {},
   "outputs": [],
   "source": []
  },
  {
   "cell_type": "code",
   "execution_count": null,
   "metadata": {},
   "outputs": [],
   "source": []
  },
  {
   "cell_type": "code",
   "execution_count": 146,
   "metadata": {},
   "outputs": [],
   "source": [
    "# put sin_cos_t into a df\n",
    "sin_cos_df = pd.DataFrame(sin_cos_t).T\n",
    "sin_cos_df = sin_cos_df.unstack([2,3])\n",
    "\n",
    "column_drop = sin_cos_df.columns.droplevel(0)\n",
    "sin_cos_df.columns = column_drop\n",
    "\n",
    "# re-order the df so shat it have the same order with coefficient\n",
    "sin_cos_df = sin_cos_df[[('cos', 1),('cos', 2),('cos', 3),\n",
    "                         ('sin', 1),('sin', 2),('sin', 3),\n",
    "                         ('constant', 'constant'),\n",
    "                         ('t', 't')]]"
   ]
  },
  {
   "cell_type": "code",
   "execution_count": null,
   "metadata": {},
   "outputs": [],
   "source": []
  },
  {
   "cell_type": "code",
   "execution_count": 147,
   "metadata": {},
   "outputs": [
    {
     "data": {
      "text/html": [
       "<div>\n",
       "<style scoped>\n",
       "    .dataframe tbody tr th:only-of-type {\n",
       "        vertical-align: middle;\n",
       "    }\n",
       "\n",
       "    .dataframe tbody tr th {\n",
       "        vertical-align: top;\n",
       "    }\n",
       "\n",
       "    .dataframe thead tr th {\n",
       "        text-align: left;\n",
       "    }\n",
       "</style>\n",
       "<table border=\"1\" class=\"dataframe\">\n",
       "  <thead>\n",
       "    <tr>\n",
       "      <th></th>\n",
       "      <th></th>\n",
       "      <th colspan=\"3\" halign=\"left\">cos</th>\n",
       "      <th colspan=\"3\" halign=\"left\">sin</th>\n",
       "      <th>constant</th>\n",
       "      <th>t</th>\n",
       "    </tr>\n",
       "    <tr>\n",
       "      <th></th>\n",
       "      <th></th>\n",
       "      <th>1</th>\n",
       "      <th>2</th>\n",
       "      <th>3</th>\n",
       "      <th>1</th>\n",
       "      <th>2</th>\n",
       "      <th>3</th>\n",
       "      <th>constant</th>\n",
       "      <th>t</th>\n",
       "    </tr>\n",
       "  </thead>\n",
       "  <tbody>\n",
       "    <tr>\n",
       "      <th rowspan=\"3\" valign=\"top\">2018.00</th>\n",
       "      <th>EVI</th>\n",
       "      <td>1.000000</td>\n",
       "      <td>1.000000</td>\n",
       "      <td>1.000000</td>\n",
       "      <td>-0.000216</td>\n",
       "      <td>-0.000433</td>\n",
       "      <td>-0.000649</td>\n",
       "      <td>1.0</td>\n",
       "      <td>301.592890</td>\n",
       "    </tr>\n",
       "    <tr>\n",
       "      <th>NDBI</th>\n",
       "      <td>1.000000</td>\n",
       "      <td>1.000000</td>\n",
       "      <td>1.000000</td>\n",
       "      <td>-0.000216</td>\n",
       "      <td>-0.000433</td>\n",
       "      <td>-0.000649</td>\n",
       "      <td>1.0</td>\n",
       "      <td>301.592890</td>\n",
       "    </tr>\n",
       "    <tr>\n",
       "      <th>NDVI</th>\n",
       "      <td>1.000000</td>\n",
       "      <td>1.000000</td>\n",
       "      <td>1.000000</td>\n",
       "      <td>-0.000216</td>\n",
       "      <td>-0.000433</td>\n",
       "      <td>-0.000649</td>\n",
       "      <td>1.0</td>\n",
       "      <td>301.592890</td>\n",
       "    </tr>\n",
       "    <tr>\n",
       "      <th rowspan=\"2\" valign=\"top\">2018.02</th>\n",
       "      <th>EVI</th>\n",
       "      <td>0.992142</td>\n",
       "      <td>0.968691</td>\n",
       "      <td>0.930015</td>\n",
       "      <td>0.125119</td>\n",
       "      <td>0.248271</td>\n",
       "      <td>0.367521</td>\n",
       "      <td>1.0</td>\n",
       "      <td>301.718553</td>\n",
       "    </tr>\n",
       "    <tr>\n",
       "      <th>NDBI</th>\n",
       "      <td>0.992142</td>\n",
       "      <td>0.968691</td>\n",
       "      <td>0.930015</td>\n",
       "      <td>0.125119</td>\n",
       "      <td>0.248271</td>\n",
       "      <td>0.367521</td>\n",
       "      <td>1.0</td>\n",
       "      <td>301.718553</td>\n",
       "    </tr>\n",
       "    <tr>\n",
       "      <th>...</th>\n",
       "      <th>...</th>\n",
       "      <td>...</td>\n",
       "      <td>...</td>\n",
       "      <td>...</td>\n",
       "      <td>...</td>\n",
       "      <td>...</td>\n",
       "      <td>...</td>\n",
       "      <td>...</td>\n",
       "      <td>...</td>\n",
       "    </tr>\n",
       "    <tr>\n",
       "      <th rowspan=\"2\" valign=\"top\">2018.96</th>\n",
       "      <th>NDBI</th>\n",
       "      <td>0.968529</td>\n",
       "      <td>0.876098</td>\n",
       "      <td>0.728524</td>\n",
       "      <td>-0.248899</td>\n",
       "      <td>-0.482133</td>\n",
       "      <td>-0.685020</td>\n",
       "      <td>1.0</td>\n",
       "      <td>307.624747</td>\n",
       "    </tr>\n",
       "    <tr>\n",
       "      <th>NDVI</th>\n",
       "      <td>0.968529</td>\n",
       "      <td>0.876098</td>\n",
       "      <td>0.728524</td>\n",
       "      <td>-0.248899</td>\n",
       "      <td>-0.482133</td>\n",
       "      <td>-0.685020</td>\n",
       "      <td>1.0</td>\n",
       "      <td>307.624747</td>\n",
       "    </tr>\n",
       "    <tr>\n",
       "      <th rowspan=\"3\" valign=\"top\">2018.98</th>\n",
       "      <th>EVI</th>\n",
       "      <td>0.992088</td>\n",
       "      <td>0.968475</td>\n",
       "      <td>0.929537</td>\n",
       "      <td>-0.125548</td>\n",
       "      <td>-0.249109</td>\n",
       "      <td>-0.368728</td>\n",
       "      <td>1.0</td>\n",
       "      <td>307.750411</td>\n",
       "    </tr>\n",
       "    <tr>\n",
       "      <th>NDBI</th>\n",
       "      <td>0.992088</td>\n",
       "      <td>0.968475</td>\n",
       "      <td>0.929537</td>\n",
       "      <td>-0.125548</td>\n",
       "      <td>-0.249109</td>\n",
       "      <td>-0.368728</td>\n",
       "      <td>1.0</td>\n",
       "      <td>307.750411</td>\n",
       "    </tr>\n",
       "    <tr>\n",
       "      <th>NDVI</th>\n",
       "      <td>0.992088</td>\n",
       "      <td>0.968475</td>\n",
       "      <td>0.929537</td>\n",
       "      <td>-0.125548</td>\n",
       "      <td>-0.249109</td>\n",
       "      <td>-0.368728</td>\n",
       "      <td>1.0</td>\n",
       "      <td>307.750411</td>\n",
       "    </tr>\n",
       "  </tbody>\n",
       "</table>\n",
       "<p>150 rows × 8 columns</p>\n",
       "</div>"
      ],
      "text/plain": [
       "                   cos                           sin                      \\\n",
       "                     1         2         3         1         2         3   \n",
       "2018.00 EVI   1.000000  1.000000  1.000000 -0.000216 -0.000433 -0.000649   \n",
       "        NDBI  1.000000  1.000000  1.000000 -0.000216 -0.000433 -0.000649   \n",
       "        NDVI  1.000000  1.000000  1.000000 -0.000216 -0.000433 -0.000649   \n",
       "2018.02 EVI   0.992142  0.968691  0.930015  0.125119  0.248271  0.367521   \n",
       "        NDBI  0.992142  0.968691  0.930015  0.125119  0.248271  0.367521   \n",
       "...                ...       ...       ...       ...       ...       ...   \n",
       "2018.96 NDBI  0.968529  0.876098  0.728524 -0.248899 -0.482133 -0.685020   \n",
       "        NDVI  0.968529  0.876098  0.728524 -0.248899 -0.482133 -0.685020   \n",
       "2018.98 EVI   0.992088  0.968475  0.929537 -0.125548 -0.249109 -0.368728   \n",
       "        NDBI  0.992088  0.968475  0.929537 -0.125548 -0.249109 -0.368728   \n",
       "        NDVI  0.992088  0.968475  0.929537 -0.125548 -0.249109 -0.368728   \n",
       "\n",
       "             constant           t  \n",
       "             constant           t  \n",
       "2018.00 EVI       1.0  301.592890  \n",
       "        NDBI      1.0  301.592890  \n",
       "        NDVI      1.0  301.592890  \n",
       "2018.02 EVI       1.0  301.718553  \n",
       "        NDBI      1.0  301.718553  \n",
       "...               ...         ...  \n",
       "2018.96 NDBI      1.0  307.624747  \n",
       "        NDVI      1.0  307.624747  \n",
       "2018.98 EVI       1.0  307.750411  \n",
       "        NDBI      1.0  307.750411  \n",
       "        NDVI      1.0  307.750411  \n",
       "\n",
       "[150 rows x 8 columns]"
      ]
     },
     "execution_count": 147,
     "metadata": {},
     "output_type": "execute_result"
    }
   ],
   "source": [
    "sin_cos_df"
   ]
  },
  {
   "cell_type": "code",
   "execution_count": null,
   "metadata": {},
   "outputs": [],
   "source": []
  },
  {
   "cell_type": "code",
   "execution_count": null,
   "metadata": {},
   "outputs": [],
   "source": []
  },
  {
   "cell_type": "markdown",
   "metadata": {},
   "source": [
    "##### Create coefficients using Fourier_map values"
   ]
  },
  {
   "cell_type": "code",
   "execution_count": null,
   "metadata": {},
   "outputs": [],
   "source": []
  },
  {
   "cell_type": "code",
   "execution_count": 139,
   "metadata": {
    "scrolled": true
   },
   "outputs": [],
   "source": [
    "Dict_coff = {}\n",
    "\n",
    "for idx in ['EVI','NDBI','NDVI']:\n",
    "    Dict_coff[idx] = [Harmonic_coeficient[key] for key in Harmonic_coeficient.keys() if idx in key]\n",
    "    \n",
    "Coff_df = pd.DataFrame(Dict_coff).T\n",
    "\n",
    "# make the coefficient_df and sin_cos_df the same shape\n",
    "Coff_df_repeat = pd.concat([Coff_df]*len(interval))"
   ]
  },
  {
   "cell_type": "code",
   "execution_count": null,
   "metadata": {},
   "outputs": [],
   "source": []
  },
  {
   "cell_type": "markdown",
   "metadata": {},
   "source": [
    "##### Restore the fitted values by [sin_cos_df] * [Coff_df_repeat]"
   ]
  },
  {
   "cell_type": "code",
   "execution_count": 104,
   "metadata": {},
   "outputs": [],
   "source": [
    "# get the result by multiply sin_cos value with coefficient value\n",
    "Fitted_sin_cos    = np.array(sin_cos_df) * np.array(Coff_df_repeat)\n",
    "Fitted_sin_cos_df = pd.DataFrame(Fitted_sin_cos,index   =  sin_cos_df.index,\n",
    "                                                columns =  [f'cos_{i}' for i in range(1,4)] \n",
    "                                                         + [f'sin_{i}' for i in range(1,4)] \n",
    "                                                         + ['constant','t'])\n",
    "# sum the value of [sin_cos_df] * [Coff_df_repeat]\n",
    "# which will be the fitted value\n",
    "Fitted_sin_cos_df['sum'] = Fitted_sin_cos_df.sum(axis=1)"
   ]
  },
  {
   "cell_type": "code",
   "execution_count": null,
   "metadata": {},
   "outputs": [],
   "source": []
  },
  {
   "cell_type": "code",
   "execution_count": 172,
   "metadata": {},
   "outputs": [
    {
     "data": {
      "text/plain": [
       "<matplotlib.axes._subplots.AxesSubplot at 0x23ea90fcb38>"
      ]
     },
     "execution_count": 172,
     "metadata": {},
     "output_type": "execute_result"
    },
    {
     "data": {
      "image/png": "[encoded data removed]",
      "text/plain": [
       "<Figure size 432x288 with 1 Axes>"
      ]
     },
     "metadata": {
      "needs_background": "light"
     },
     "output_type": "display_data"
    }
   ],
   "source": [
    "Fitted_sin_cos_df.unstack()[('sum','EVI')].plot()"
   ]
  },
  {
   "cell_type": "code",
   "execution_count": null,
   "metadata": {},
   "outputs": [],
   "source": []
  },
  {
   "cell_type": "code",
   "execution_count": null,
   "metadata": {},
   "outputs": [],
   "source": []
  },
  {
   "cell_type": "code",
   "execution_count": 143,
   "metadata": {},
   "outputs": [
    {
     "data": {
      "text/plain": [
       "<matplotlib.axes._subplots.AxesSubplot at 0x23ea7953be0>"
      ]
     },
     "execution_count": 143,
     "metadata": {},
     "output_type": "execute_result"
    },
    {
     "data": {
      "image/png": "[encoded data removed]",
      "text/plain": [
       "<Figure size 432x288 with 1 Axes>"
      ]
     },
     "metadata": {
      "needs_background": "light"
     },
     "output_type": "display_data"
    }
   ],
   "source": [
    "Fitted_sin_cos_df.unstack()[('sum','EVI')].plot()\n",
    "Fitted_sin_cos_df.unstack()[('sum','NDBI')].plot()\n",
    "Fitted_sin_cos_df.unstack()[('sum','NDVI')].plot()"
   ]
  },
  {
   "cell_type": "code",
   "execution_count": 144,
   "metadata": {},
   "outputs": [
    {
     "data": {
      "text/plain": [
       "<matplotlib.axes._subplots.AxesSubplot at 0x23ea795ca58>"
      ]
     },
     "execution_count": 144,
     "metadata": {},
     "output_type": "execute_result"
    },
    {
     "data": {
      "image/png": "[encoded data removed]",
      "text/plain": [
       "<Figure size 432x288 with 1 Axes>"
      ]
     },
     "metadata": {
      "needs_background": "light"
     },
     "output_type": "display_data"
    }
   ],
   "source": [
    "sns.lineplot(x='Y_fraction',y='Fit_EVI',data=Original_Fitted)\n",
    "sns.lineplot(x='Y_fraction',y='Fit_NDBI',data=Original_Fitted)\n",
    "sns.lineplot(x='Y_fraction',y='Fit_NDVI',data=Original_Fitted)"
   ]
  },
  {
   "cell_type": "code",
   "execution_count": null,
   "metadata": {},
   "outputs": [],
   "source": []
  },
  {
   "cell_type": "code",
   "execution_count": null,
   "metadata": {},
   "outputs": [],
   "source": []
  },
  {
   "cell_type": "code",
   "execution_count": null,
   "metadata": {},
   "outputs": [],
   "source": []
  },
  {
   "cell_type": "code",
   "execution_count": null,
   "metadata": {},
   "outputs": [],
   "source": []
  }
 ],
 "metadata": {
  "kernelspec": {
   "display_name": "Python 3",
   "language": "python",
   "name": "python3"
  },
  "language_info": {
   "codemirror_mode": {
    "name": "ipython",
    "version": 3
   },
   "file_extension": ".py",
   "mimetype": "text/x-python",
   "name": "python",
   "nbconvert_exporter": "python",
   "pygments_lexer": "ipython3",
   "version": "3.7.3"
  }
 },
 "nbformat": 4,
 "nbformat_minor": 2
}
