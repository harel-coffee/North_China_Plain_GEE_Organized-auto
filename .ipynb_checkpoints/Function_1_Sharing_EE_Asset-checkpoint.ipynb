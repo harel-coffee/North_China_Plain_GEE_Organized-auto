{
 "cells": [
  {
   "cell_type": "code",
   "execution_count": 1,
   "metadata": {},
   "outputs": [],
   "source": [
    "import ee\n",
    "import subprocess\n",
    "\n",
    "import pandas as pd\n",
    "import numpy as np"
   ]
  },
  {
   "cell_type": "code",
   "execution_count": 2,
   "metadata": {},
   "outputs": [],
   "source": [
    "ee.Initialize()"
   ]
  },
  {
   "cell_type": "code",
   "execution_count": null,
   "metadata": {},
   "outputs": [],
   "source": []
  },
  {
   "cell_type": "markdown",
   "metadata": {},
   "source": [
    "List all items of a root_path"
   ]
  },
  {
   "cell_type": "code",
   "execution_count": 3,
   "metadata": {},
   "outputs": [],
   "source": [
    "p = subprocess.run('earthengine ls users/wangjinzhulala/North_China_Plain',shell = True,capture_output = True, text = True )\\\n",
    "              .stdout"
   ]
  },
  {
   "cell_type": "code",
   "execution_count": 4,
   "metadata": {},
   "outputs": [],
   "source": [
    "items = p.split('\\n')[2:-1]"
   ]
  },
  {
   "cell_type": "code",
   "execution_count": 5,
   "metadata": {},
   "outputs": [
    {
     "data": {
      "text/plain": [
       "['projects/earthengine-legacy/assets/users/wangjinzhulala/North_China_Plain/0_1_North_China_Plain_Boundary_Climate_Zone',\n",
       " 'projects/earthengine-legacy/assets/users/wangjinzhulala/North_China_Plain/0_1_North_China_Plain_Boundary_Climate_Zone_Rectangel',\n",
       " 'projects/earthengine-legacy/assets/users/wangjinzhulala/North_China_Plain/0_1_North_China_Plain_Climate_segmented_zoning',\n",
       " 'projects/earthengine-legacy/assets/users/wangjinzhulala/North_China_Plain/0_1_North_China_Plain_Fishnet_Select',\n",
       " 'projects/earthengine-legacy/assets/users/wangjinzhulala/North_China_Plain/0_1_North_China_Plain_Full',\n",
       " 'projects/earthengine-legacy/assets/users/wangjinzhulala/North_China_Plain/0_1_North_China_Plain_Full_Cut_4_3',\n",
       " 'projects/earthengine-legacy/assets/users/wangjinzhulala/North_China_Plain/0_1_North_China_Plain_Remain',\n",
       " 'projects/earthengine-legacy/assets/users/wangjinzhulala/North_China_Plain/0_1_North_China_Plain_Remain_6_6',\n",
       " 'projects/earthengine-legacy/assets/users/wangjinzhulala/North_China_Plain/0_2_North_China_Plain_Full_3',\n",
       " 'projects/earthengine-legacy/assets/users/wangjinzhulala/North_China_Plain/0_2_North_China_Plain_Full_Down',\n",
       " 'projects/earthengine-legacy/assets/users/wangjinzhulala/North_China_Plain/0_2_North_China_Plain_Full_Up',\n",
       " 'projects/earthengine-legacy/assets/users/wangjinzhulala/North_China_Plain/0_3_K_Mean_Grid_Points_2017_2019',\n",
       " 'projects/earthengine-legacy/assets/users/wangjinzhulala/North_China_Plain/0_3_K_Mean_NDVI_stratified_Points_2017_2019',\n",
       " 'projects/earthengine-legacy/assets/users/wangjinzhulala/North_China_Plain/0_3_K_Mean_Radom_Points_2017_2019',\n",
       " 'projects/earthengine-legacy/assets/users/wangjinzhulala/North_China_Plain/0_4_Checked_2017_2019_10K',\n",
       " 'projects/earthengine-legacy/assets/users/wangjinzhulala/North_China_Plain/0_4_North_China_Landsat_Path_Point',\n",
       " 'projects/earthengine-legacy/assets/users/wangjinzhulala/North_China_Plain/0_5_North_China_Landsat_Path',\n",
       " 'projects/earthengine-legacy/assets/users/wangjinzhulala/North_China_Plain/0_5_North_China_Landsat_Path_buffer',\n",
       " 'projects/earthengine-legacy/assets/users/wangjinzhulala/North_China_Plain/0_5_cluster_Year_2017_2019_Grid_1000',\n",
       " 'projects/earthengine-legacy/assets/users/wangjinzhulala/North_China_Plain/0_China_East_Middel',\n",
       " 'projects/earthengine-legacy/assets/users/wangjinzhulala/North_China_Plain/0_FishNet_North_China_Plain_400km_Cut',\n",
       " 'projects/earthengine-legacy/assets/users/wangjinzhulala/North_China_Plain/0_FishNet_North_China_Plain_Select',\n",
       " 'projects/earthengine-legacy/assets/users/wangjinzhulala/North_China_Plain/0_North_China_Plain_Cut_Grid',\n",
       " 'projects/earthengine-legacy/assets/users/wangjinzhulala/North_China_Plain/0_North_China_Plain_UTM_50N']"
      ]
     },
     "execution_count": 5,
     "metadata": {},
     "output_type": "execute_result"
    }
   ],
   "source": [
    "items"
   ]
  },
  {
   "cell_type": "code",
   "execution_count": null,
   "metadata": {},
   "outputs": [],
   "source": []
  },
  {
   "cell_type": "markdown",
   "metadata": {},
   "source": [
    "Grant access to another email for all objects in all_data"
   ]
  },
  {
   "cell_type": "code",
   "execution_count": null,
   "metadata": {},
   "outputs": [],
   "source": []
  },
  {
   "cell_type": "code",
   "execution_count": 6,
   "metadata": {},
   "outputs": [],
   "source": [
    "# capture all the data from the GEE_asset\n",
    "all_data = [subprocess.run(f'earthengine ls {path}',\n",
    "                           shell = True,\n",
    "                           capture_output = True, \n",
    "                           text = True ).stdout.split('\\n')[2:-1] for path in items]"
   ]
  },
  {
   "cell_type": "code",
   "execution_count": null,
   "metadata": {},
   "outputs": [],
   "source": []
  },
  {
   "cell_type": "code",
   "execution_count": 7,
   "metadata": {},
   "outputs": [],
   "source": [
    "# flatten the all_data list\n",
    "all_objects = [i for l in all_data for i in l]"
   ]
  },
  {
   "cell_type": "code",
   "execution_count": null,
   "metadata": {},
   "outputs": [],
   "source": []
  },
  {
   "cell_type": "code",
   "execution_count": null,
   "metadata": {},
   "outputs": [],
   "source": []
  },
  {
   "cell_type": "code",
   "execution_count": null,
   "metadata": {},
   "outputs": [],
   "source": []
  },
  {
   "cell_type": "code",
   "execution_count": 15,
   "metadata": {},
   "outputs": [
    {
     "name": "stdout",
     "output_type": "stream",
     "text": [
      "Granting access projects/earthengine-legacy/assets/users/wangjinzhulala/North_China_Plain/0_1_North_China_Plain_Boundary_Climate_Zone to wang608583\n",
      "Granting access projects/earthengine-legacy/assets/users/wangjinzhulala/North_China_Plain/0_1_North_China_Plain_Boundary_Climate_Zone_Rectangel to wang608583\n",
      "Granting access projects/earthengine-legacy/assets/users/wangjinzhulala/North_China_Plain/0_1_North_China_Plain_Climate_segmented_zoning to wang608583\n",
      "Granting access projects/earthengine-legacy/assets/users/wangjinzhulala/North_China_Plain/0_1_North_China_Plain_Fishnet_Select to wang608583\n",
      "Granting access projects/earthengine-legacy/assets/users/wangjinzhulala/North_China_Plain/0_1_North_China_Plain_Full to wang608583\n",
      "Granting access projects/earthengine-legacy/assets/users/wangjinzhulala/North_China_Plain/0_1_North_China_Plain_Full_Cut_4_3 to wang608583\n",
      "Granting access projects/earthengine-legacy/assets/users/wangjinzhulala/North_China_Plain/0_1_North_China_Plain_Remain to wang608583\n",
      "Granting access projects/earthengine-legacy/assets/users/wangjinzhulala/North_China_Plain/0_1_North_China_Plain_Remain_6_6 to wang608583\n",
      "Granting access projects/earthengine-legacy/assets/users/wangjinzhulala/North_China_Plain/0_2_North_China_Plain_Full_3 to wang608583\n",
      "Granting access projects/earthengine-legacy/assets/users/wangjinzhulala/North_China_Plain/0_2_North_China_Plain_Full_Down to wang608583\n",
      "Granting access projects/earthengine-legacy/assets/users/wangjinzhulala/North_China_Plain/0_2_North_China_Plain_Full_Up to wang608583\n",
      "Granting access projects/earthengine-legacy/assets/users/wangjinzhulala/North_China_Plain/0_3_K_Mean_Grid_Points_2017_2019 to wang608583\n",
      "Granting access projects/earthengine-legacy/assets/users/wangjinzhulala/North_China_Plain/0_3_K_Mean_NDVI_stratified_Points_2017_2019 to wang608583\n",
      "Granting access projects/earthengine-legacy/assets/users/wangjinzhulala/North_China_Plain/0_3_K_Mean_Radom_Points_2017_2019 to wang608583\n",
      "Granting access projects/earthengine-legacy/assets/users/wangjinzhulala/North_China_Plain/0_4_Checked_2017_2019_10K to wang608583\n",
      "Granting access projects/earthengine-legacy/assets/users/wangjinzhulala/North_China_Plain/0_4_North_China_Landsat_Path_Point to wang608583\n",
      "Granting access projects/earthengine-legacy/assets/users/wangjinzhulala/North_China_Plain/0_5_North_China_Landsat_Path to wang608583\n",
      "Granting access projects/earthengine-legacy/assets/users/wangjinzhulala/North_China_Plain/0_5_North_China_Landsat_Path_buffer to wang608583\n",
      "Granting access projects/earthengine-legacy/assets/users/wangjinzhulala/North_China_Plain/0_5_cluster_Year_2017_2019_Grid_1000 to wang608583\n",
      "Granting access projects/earthengine-legacy/assets/users/wangjinzhulala/North_China_Plain/0_China_East_Middel to wang608583\n",
      "Granting access projects/earthengine-legacy/assets/users/wangjinzhulala/North_China_Plain/0_FishNet_North_China_Plain_400km_Cut to wang608583\n",
      "Granting access projects/earthengine-legacy/assets/users/wangjinzhulala/North_China_Plain/0_FishNet_North_China_Plain_Select to wang608583\n",
      "Granting access projects/earthengine-legacy/assets/users/wangjinzhulala/North_China_Plain/0_North_China_Plain_Cut_Grid to wang608583\n",
      "Granting access projects/earthengine-legacy/assets/users/wangjinzhulala/North_China_Plain/0_North_China_Plain_UTM_50N to wang608583\n"
     ]
    }
   ],
   "source": [
    "# grant data access to another email\n",
    "user = 'wang608583'\n",
    "\n",
    "for obj in items:\n",
    "    \n",
    "    spl = 'legacy/'\n",
    "    \n",
    "    subprocess.run(f'earthengine acl ch -u {user}@gmail.com:W {obj}',\n",
    "                               shell = True,\n",
    "                               capture_output = True, \n",
    "                               text = True )\n",
    "    # print out the process\n",
    "    print(f'Granting access {obj} to {user}')"
   ]
  },
  {
   "cell_type": "code",
   "execution_count": null,
   "metadata": {},
   "outputs": [],
   "source": []
  },
  {
   "cell_type": "code",
   "execution_count": null,
   "metadata": {},
   "outputs": [],
   "source": []
  },
  {
   "cell_type": "code",
   "execution_count": null,
   "metadata": {},
   "outputs": [],
   "source": []
  },
  {
   "cell_type": "code",
   "execution_count": null,
   "metadata": {},
   "outputs": [],
   "source": []
  },
  {
   "cell_type": "code",
   "execution_count": null,
   "metadata": {},
   "outputs": [],
   "source": []
  }
 ],
 "metadata": {
  "kernelspec": {
   "display_name": "Python 3",
   "language": "python",
   "name": "python3"
  },
  "language_info": {
   "codemirror_mode": {
    "name": "ipython",
    "version": 3
   },
   "file_extension": ".py",
   "mimetype": "text/x-python",
   "name": "python",
   "nbconvert_exporter": "python",
   "pygments_lexer": "ipython3",
   "version": "3.7.3"
  }
 },
 "nbformat": 4,
 "nbformat_minor": 2
}
