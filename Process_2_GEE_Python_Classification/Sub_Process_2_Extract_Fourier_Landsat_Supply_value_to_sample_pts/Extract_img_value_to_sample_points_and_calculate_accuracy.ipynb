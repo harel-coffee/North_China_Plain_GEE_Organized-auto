{
 "cells": [
  {
   "cell_type": "code",
   "execution_count": 19,
   "metadata": {},
   "outputs": [],
   "source": [
    "import ee\n",
    "import datetime\n",
    "import os\n",
    "import itertools\n",
    "import sys\n",
    "\n",
    "from pprint import pprint\n",
    "import pandas as pd\n",
    "import numpy as np\n",
    "import seaborn as sns\n",
    "import matplotlib.pyplot as plt\n",
    "\n",
    "import geemap\n",
    "\n",
    "import subprocess\n",
    "from subprocess import PIPE"
   ]
  },
  {
   "cell_type": "code",
   "execution_count": 2,
   "metadata": {},
   "outputs": [],
   "source": [
    "ee.Initialize()"
   ]
  },
  {
   "cell_type": "code",
   "execution_count": 20,
   "metadata": {},
   "outputs": [],
   "source": [
    "# append upper folder into sys-path during run time so we can\n",
    "# import our own moduls\n",
    "sys.path.append('..')"
   ]
  },
  {
   "cell_type": "code",
   "execution_count": null,
   "metadata": {},
   "outputs": [],
   "source": []
  },
  {
   "cell_type": "code",
   "execution_count": 21,
   "metadata": {},
   "outputs": [
    {
     "name": "stdout",
     "output_type": "stream",
     "text": [
      "The default supplementary data a Zero img, change accordingly when classify other years imgs\n",
      "\n"
     ]
    }
   ],
   "source": [
    "from BackGround_modules.Class_1_Make_fourier_imgs import Make_Fourier\n",
    "from BackGround_modules.Class_2_Classify_Fourier_Img import Classification\n",
    "from BackGround_modules.Class_3_Calculate_the_accuracy import Accuracy_assesment"
   ]
  },
  {
   "cell_type": "code",
   "execution_count": 22,
   "metadata": {},
   "outputs": [],
   "source": [
    "# Some more magic so that the notebook will reload external python modules\n",
    "# see http://stackoverflow.com/questions/1907993/autoreload-of-modules-in-ipython\n",
    "%load_ext autoreload\n",
    "%autoreload 2"
   ]
  },
  {
   "cell_type": "code",
   "execution_count": null,
   "metadata": {},
   "outputs": [],
   "source": []
  },
  {
   "cell_type": "markdown",
   "metadata": {},
   "source": [
    "##### Define_Basic_Parameters"
   ]
  },
  {
   "cell_type": "code",
   "execution_count": 5,
   "metadata": {},
   "outputs": [],
   "source": [
    "# Define the time-range\n",
    "start_time = '2017-01-01'\n",
    "end_time   = '2019-12-31'\n",
    "\n",
    "# Create the year_name for naming variables\n",
    "year_name = f'{start_time[:4]}_{end_time[:4]}'\n",
    "\n",
    "# Define the interval for looping\n",
    "Interval_index = [1] + list(range(0,121,10))[1:] "
   ]
  },
  {
   "cell_type": "code",
   "execution_count": 6,
   "metadata": {},
   "outputs": [],
   "source": [
    "# import some spatial constrains\n",
    "North_china_plain_boundary = ee.FeatureCollection(\"users/wangjinzhulala/North_China_Plain/0_1_North_China_Plain_Full\")\n",
    "\n",
    "# import verified points\n",
    "Verified_Point_2017_2019   = ee.FeatureCollection(\"users/wangjinzhulala/North_China_Plain_Python/Sample_Points/Verified_pt_2017_2019\")"
   ]
  },
  {
   "cell_type": "code",
   "execution_count": null,
   "metadata": {},
   "outputs": [],
   "source": []
  },
  {
   "cell_type": "markdown",
   "metadata": {},
   "source": [
    "##### Prepare needed images"
   ]
  },
  {
   "cell_type": "code",
   "execution_count": 25,
   "metadata": {},
   "outputs": [],
   "source": [
    "# import Landsat img\n",
    "Landsat_img = ee.Image(\"users/wangjinzhulala/North_China_Plain_Python/Cloud_Free_Img/Cloud_Free_2017_2019\").clip(North_china_plain_boundary)\n",
    "Landsat_img_band = Landsat_img.bandNames().getInfo()\n",
    "\n",
    "# import Fourier img   \n",
    "Fourier_img = ee.Image(\"users/wangjinzhulala/North_China_Plain_Python/Fourier_pixels/Fourier_Range_3_Year_2017_2019\").clip(North_china_plain_boundary)\n",
    "\n",
    "# Import the Sentinel img\n",
    "# Sentinel_img =  ee.Image(\"users/wangjinzhulala/North_China_Plain_Python/Supply_img/Sentinel_2019_mean\")\n",
    "# Sentinel_V_H =  ee.Image(\"users/wangjinzhulala/North_China_Plain_Python/Supply_img/Year_2017_2018_Sentinel_V_H\")\n",
    "# Sentinel_img =  Sentinel_img.select(['VV','VH']).addBands(Sentinel_V_H)\n",
    "\n",
    "# Import the Index-mean Img\n",
    "NDVI_img = ee.Image(\"users/wangjinzhulala/North_China_Plain_Python/Supply_img/Year_2017_2019_Spectrum_NDVI\").rename('Nomalized_NDVI')\n",
    "NDBI_img = ee.Image(\"users/wangjinzhulala/North_China_Plain_Python/Supply_img/Year_2017_2019_Spectrum_NDBI\").rename('Nomalized_NDBI')\n",
    "EVI_img  = ee.Image(\"users/wangjinzhulala/North_China_Plain_Python/Supply_img/Year_2017_2019_Spectrum_EVI\").rename('Nomalized_EVI')\n",
    "\n",
    "# put all band names together\n",
    "Overlay_img      = ee.Image([Fourier_img,NDVI_img,NDBI_img,EVI_img])\n",
    "Overlay_img_band = Overlay_img.bandNames().getInfo()"
   ]
  },
  {
   "cell_type": "code",
   "execution_count": null,
   "metadata": {},
   "outputs": [],
   "source": []
  },
  {
   "cell_type": "markdown",
   "metadata": {},
   "source": [
    "##### Img value extraction and export"
   ]
  },
  {
   "cell_type": "code",
   "execution_count": 27,
   "metadata": {},
   "outputs": [],
   "source": [
    "Sample_extract_img = ee.Image([Landsat_img,Fourier_img]).sampleRegions(collection = Verified_Point_2017_2019,\n",
    "                                                                       \n",
    "                                                                       # [Built] is the colum that holds visualy \n",
    "                                                                       # interpreted information on sample points\n",
    "                                                                       properties = ['Built'], \n",
    "                                                                       \n",
    "                                                                       scale      = 30, \n",
    "                                                                       geometries = True)\n"
   ]
  },
  {
   "cell_type": "code",
   "execution_count": null,
   "metadata": {},
   "outputs": [],
   "source": []
  },
  {
   "cell_type": "code",
   "execution_count": 31,
   "metadata": {},
   "outputs": [],
   "source": [
    "# define the gee-asset path for exporting\n",
    "path = 'users/wangjinzhulala/North_China_Plain_Python/Sample_with_Landsat_Fourier_Nomalized_img_value'\n",
    "\n",
    "# exporting\n",
    "task = ee.batch.Export.table.toAsset(   collection  = Sample_extract_img,\n",
    "                                        description = f'Exporting sample {year_name} with img values',\n",
    "                                        assetId     = f'{path}/Sample_{year_name}_extract_Landsat_Fourier_Normalized_img')\n",
    "\n",
    "task.start()"
   ]
  },
  {
   "cell_type": "code",
   "execution_count": null,
   "metadata": {},
   "outputs": [],
   "source": []
  },
  {
   "cell_type": "code",
   "execution_count": null,
   "metadata": {},
   "outputs": [],
   "source": []
  },
  {
   "cell_type": "code",
   "execution_count": null,
   "metadata": {},
   "outputs": [],
   "source": []
  },
  {
   "cell_type": "code",
   "execution_count": null,
   "metadata": {},
   "outputs": [],
   "source": []
  },
  {
   "cell_type": "code",
   "execution_count": null,
   "metadata": {},
   "outputs": [],
   "source": []
  },
  {
   "cell_type": "code",
   "execution_count": null,
   "metadata": {},
   "outputs": [],
   "source": []
  }
 ],
 "metadata": {
  "kernelspec": {
   "display_name": "Python 3",
   "language": "python",
   "name": "python3"
  },
  "language_info": {
   "codemirror_mode": {
    "name": "ipython",
    "version": 3
   },
   "file_extension": ".py",
   "mimetype": "text/x-python",
   "name": "python",
   "nbconvert_exporter": "python",
   "pygments_lexer": "ipython3",
   "version": "3.7.3"
  }
 },
 "nbformat": 4,
 "nbformat_minor": 2
}
