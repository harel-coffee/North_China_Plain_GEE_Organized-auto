{
 "cells": [
  {
   "cell_type": "code",
   "execution_count": 1,
   "metadata": {},
   "outputs": [],
   "source": [
    "import ee\n",
    "import datetime\n",
    "import os\n",
    "import itertools\n",
    "import sys\n",
    "import re\n",
    "\n",
    "import pandas as pd\n",
    "import numpy as np\n",
    "import seaborn as sns\n",
    "import matplotlib.pyplot as plt\n",
    "\n",
    "import geemap\n",
    "\n",
    "import subprocess\n",
    "from subprocess import PIPE"
   ]
  },
  {
   "cell_type": "code",
   "execution_count": 2,
   "metadata": {},
   "outputs": [],
   "source": [
    "ee.Initialize()"
   ]
  },
  {
   "cell_type": "code",
   "execution_count": 3,
   "metadata": {},
   "outputs": [],
   "source": [
    "# append upper folder into sys-path during run time so we can\n",
    "# import our own moduls\n",
    "sys.path.append('..')"
   ]
  },
  {
   "cell_type": "code",
   "execution_count": 4,
   "metadata": {},
   "outputs": [],
   "source": [
    "from BackGround_modules.Class_2_Classify_Fourier_Img   import Classification\n",
    "from BackGround_modules.Class_3_Calculate_the_accuracy import Accuracy_assesment"
   ]
  },
  {
   "cell_type": "code",
   "execution_count": null,
   "metadata": {},
   "outputs": [],
   "source": []
  },
  {
   "cell_type": "markdown",
   "metadata": {},
   "source": [
    "##### Prepare basic parameters"
   ]
  },
  {
   "cell_type": "code",
   "execution_count": 5,
   "metadata": {},
   "outputs": [],
   "source": [
    "# define the years to be classified\n",
    "year_name  = list([f'{span[0]}_{span[1]}' for span in zip(range(1990,2020,3),range(1992,2020,3)) ])[::-1]\n",
    "\n",
    "# import north_china_plain boundary\n",
    "North_China_Plain = ee.FeatureCollection(\"users/wangjinzhulala/North_China_Plain_Python/Boundary_shp/North_China_Plain_Boundary\")"
   ]
  },
  {
   "cell_type": "code",
   "execution_count": 8,
   "metadata": {},
   "outputs": [
    {
     "data": {
      "text/plain": [
       "['2017_2019',\n",
       " '2014_2016',\n",
       " '2011_2013',\n",
       " '2008_2010',\n",
       " '2005_2007',\n",
       " '2002_2004',\n",
       " '1999_2001',\n",
       " '1996_1998',\n",
       " '1993_1995',\n",
       " '1990_1992']"
      ]
     },
     "execution_count": 8,
     "metadata": {},
     "output_type": "execute_result"
    }
   ],
   "source": [
    "year_name"
   ]
  },
  {
   "cell_type": "code",
   "execution_count": null,
   "metadata": {},
   "outputs": [],
   "source": []
  },
  {
   "cell_type": "markdown",
   "metadata": {},
   "source": [
    "##### Prepare input_image for classification"
   ]
  },
  {
   "cell_type": "code",
   "execution_count": 9,
   "metadata": {},
   "outputs": [],
   "source": [
    "# import Landsat img\n",
    "Landsat_img = [ee.Image(f\"users/wang8052664/Cloud_Free_Img/Landsat_cloud_free_{year}\")\\\n",
    "                 .clip(North_China_Plain)  for year in year_name]\n",
    "\n",
    "# import Fourier img   \n",
    "Fourier_img = [ee.Image(f\"users/Jinzhu_Deakin/North_China_Plain/Fourier_img_harmonic_3/Fourier_img_{year}_harmonic_3\")\\\n",
    "                 .clip(North_China_Plain)  for year in year_name[5:]] + \\\n",
    "              [ee.Image(f\"users/wang8052664/North_China_Plain/Fourier_imgs/Fourier_img_{year}_harmonic_3\")\\\n",
    "                 .clip(North_China_Plain)  for year in year_name[:5]] \n",
    "\n",
    "# Import the Index-mean Img\n",
    "NDVI_img = [ee.Image(f\"users/wensomone666/Jinzhu/Mean_NDVI/Year_{year}_Mean_NDVI\").rename('Mean_NDVI')  \n",
    "            for year in year_name ]\n",
    "NDBI_img = [ee.Image(f\"users/wensomone666/Jinzhu/Mean_NDVI/Year_{year}_Mean_NDBI\").rename('Mean_NDBI')  \n",
    "            for year in year_name ]\n",
    "EVI_img  = [ee.Image(f\"users/wensomone666/Jinzhu/Mean_NDVI/Year_{year}_Mean_EVI\").rename('Mean_EVI')  \n",
    "            for year in year_name ]\n",
    "\n",
    "# stack Landsat_Fourier_Nomalized together\n",
    "Stack_img = [ee.Image(img) for img in zip(Landsat_img,Fourier_img,NDVI_img,NDBI_img,EVI_img)]"
   ]
  },
  {
   "cell_type": "code",
   "execution_count": null,
   "metadata": {},
   "outputs": [],
   "source": []
  },
  {
   "cell_type": "markdown",
   "metadata": {},
   "source": [
    "##### Prepare input sample points"
   ]
  },
  {
   "cell_type": "code",
   "execution_count": 31,
   "metadata": {},
   "outputs": [],
   "source": [
    "path = 'users/Jinzhu_Deakin/North_China_Plain/Sample_with_Landsat_Fourier_Normalized'\n",
    "\n",
    "# Option_1: Use the Invarient points\n",
    "Invarient_non_built_sample = [ee.FeatureCollection(f'{path}/Invarient_non_built_{year}')\\\n",
    "                                .filterMetadata('Built','equals',0) for year in year_name]\n",
    "Invarient_built_sample     = [ee.FeatureCollection(f'{path}/Invarient_built_{year}')\n",
    "                                for year in year_name]\n",
    "Invarient_sample_merge     = [i[0].merge(i[1]) for i in zip(Invarient_non_built_sample,Invarient_built_sample)]\n",
    "\n",
    "\n",
    "\n",
    "# Option_2: Use the Each_year points\n",
    "Each_year_non_built_sample = [ee.FeatureCollection(f'{path}/Each_year_visual_check_{year}')\n",
    "                                for year in year_name[:5]]\n",
    "Each_year_built_sample     = [ee.FeatureCollection(f'{path}/Each_year_built_{year}')\n",
    "                                for year in year_name[:5]]\n",
    "Each_year_sample_merge     = [i[0].merge(i[1]) for i in zip(Each_year_non_built_sample,Each_year_built_sample)]\n",
    "\n",
    "\n",
    "\n",
    "\n",
    "# Option_3: Use the Invarient-non-buil and Invarient-Zoning sample together as built point\n",
    "Zone_invarient_built = [i[0].merge(i[1]) for i in zip([ee.FeatureCollection(f'{path}/Each_year_built_{year}')\n",
    "                                                                       for year in year_name],\n",
    "                                                      Invarient_built_sample)]\n",
    "# limit the Zone_invarient_built point to 8000\n",
    "Zone_invarient_built_limit = [i.randomColumn('x').limit(8000,'x') for i in Zone_invarient_built]\n",
    "Zone_Invarient_merge = [i[0].merge(i[1]) for i in zip(Invarient_non_built_sample,Zone_invarient_built_limit)]"
   ]
  },
  {
   "cell_type": "code",
   "execution_count": null,
   "metadata": {},
   "outputs": [],
   "source": []
  },
  {
   "cell_type": "markdown",
   "metadata": {},
   "source": [
    "##### Stack input_img and input_sample together"
   ]
  },
  {
   "cell_type": "code",
   "execution_count": 33,
   "metadata": {},
   "outputs": [],
   "source": [
    "# first put all inputs together\n",
    "stack_name   = ['Invarient'] * len(Invarient_sample_merge) + \\\n",
    "               ['Each_year'] * len(Each_year_sample_merge) + \\\n",
    "               ['Zone_invarient'] * len(Zone_Invarient_merge)\n",
    "stack_year   = year_name + year_name[:5] + year_name\n",
    "stack_img    = Stack_img + Stack_img[:5] + Stack_img\n",
    "stack_sample = Invarient_sample_merge + Each_year_sample_merge + Zone_Invarient_merge\n",
    "\n",
    "# stack all ingredients together\n",
    "Stack_img_sample = [(stack_name[i],stack_year[i],stack_img[i],stack_sample[i]) for i in range(len(stack_name))]"
   ]
  },
  {
   "cell_type": "code",
   "execution_count": null,
   "metadata": {},
   "outputs": [],
   "source": []
  },
  {
   "cell_type": "code",
   "execution_count": null,
   "metadata": {},
   "outputs": [],
   "source": []
  },
  {
   "cell_type": "code",
   "execution_count": 36,
   "metadata": {},
   "outputs": [],
   "source": [
    "Classificatioin_result = []\n",
    "\n",
    "for input_variable in Stack_img_sample:\n",
    "    \n",
    "    classificaiton_tpye = input_variable[0]\n",
    "    year = input_variable[1]\n",
    "    sample_pt = input_variable[3]\n",
    "    input_img = input_variable[2]\n",
    "    input_band = input_img.bandNames().getInfo()\n",
    "\n",
    "    # Instatiate the class with a name.\n",
    "    classification = Classification(year_name      = year,\n",
    "                                    Verified_point = sample_pt,\n",
    "                                    Input_img      = input_img,\n",
    "                                    Input_band     = input_band,\n",
    "                                    Tree_num       = 100,\n",
    "                                    Zone_sample    = None,\n",
    "                                    classProperty  = 'Built')\n",
    "\n",
    "\n",
    "    # perform the classification on Input_img and Samples\n",
    "    classification.Stp_1_Classification_on_img()\n",
    "    classification.Stp_2_Classification_on_Samples()\n",
    "\n",
    "    # Get the classified img\n",
    "    classified_img = classification.classification_img\n",
    "\n",
    "    # Get the classified samples\n",
    "    train_sample_classified        = classification.Train_sample_classification\n",
    "    test_sample_classified         = classification.Test_sample_classification\n",
    "    \n",
    "    # add classfication into the list\n",
    "    Classificatioin_result.append((classificaiton_tpye,year,classified_img,test_sample_classified))"
   ]
  },
  {
   "cell_type": "code",
   "execution_count": null,
   "metadata": {},
   "outputs": [],
   "source": []
  },
  {
   "cell_type": "markdown",
   "metadata": {},
   "source": [
    "##### Export the result"
   ]
  },
  {
   "cell_type": "code",
   "execution_count": null,
   "metadata": {},
   "outputs": [],
   "source": []
  },
  {
   "cell_type": "code",
   "execution_count": 24,
   "metadata": {},
   "outputs": [
    {
     "data": {
      "text/plain": [
       "[('Invarient',\n",
       "  '2005_2007',\n",
       "  <ee.image.Image at 0x7fed1bbaea20>,\n",
       "  <ee.featurecollection.FeatureCollection at 0x7fed1bbae860>),\n",
       " ('Invarient',\n",
       "  '2002_2004',\n",
       "  <ee.image.Image at 0x7fed1bba7668>,\n",
       "  <ee.featurecollection.FeatureCollection at 0x7fed1ba420f0>),\n",
       " ('Invarient',\n",
       "  '1999_2001',\n",
       "  <ee.image.Image at 0x7fed1ba4e208>,\n",
       "  <ee.featurecollection.FeatureCollection at 0x7fed1ba4e630>)]"
      ]
     },
     "execution_count": 24,
     "metadata": {},
     "output_type": "execute_result"
    }
   ],
   "source": [
    "Classificatioin_result[4:7]"
   ]
  },
  {
   "cell_type": "code",
   "execution_count": 12,
   "metadata": {},
   "outputs": [
    {
     "name": "stdout",
     "output_type": "stream",
     "text": [
      "Exporting Invarient_2005_2007 successful!\n",
      "Exporting Invarient_2002_2004 successful!\n",
      "Exporting Invarient_1999_2001 successful!\n"
     ]
    }
   ],
   "source": [
    "for item in Classificatioin_result[4:7]:\n",
    "    \n",
    "    asset_path = 'users/Jinzhu_Deakin/North_China_Plain/Classified_img'\n",
    "    \n",
    "    Classification_type = item[0]\n",
    "    year = item[1]\n",
    "    img = item[2]\n",
    "    \n",
    "    export_name = f'{Classification_type}_{year}'\n",
    "    \n",
    "    task = ee.batch.Export.image.toAsset(   image        = img,\n",
    "                                            description  = export_name,\n",
    "                                            assetId      = f'{asset_path}/{export_name}',\n",
    "                                            region       = North_China_Plain.geometry().bounds(),\n",
    "                                            scale        = 30,\n",
    "                                            maxPixels    = int(1e13))\n",
    "    task.start()\n",
    "    \n",
    "    print(f'Exporting {export_name} successful!')"
   ]
  },
  {
   "cell_type": "code",
   "execution_count": null,
   "metadata": {},
   "outputs": [],
   "source": []
  },
  {
   "cell_type": "code",
   "execution_count": 37,
   "metadata": {
    "scrolled": true
   },
   "outputs": [
    {
     "data": {
      "text/html": [
       "<div>\n",
       "<style scoped>\n",
       "    .dataframe tbody tr th:only-of-type {\n",
       "        vertical-align: middle;\n",
       "    }\n",
       "\n",
       "    .dataframe tbody tr th {\n",
       "        vertical-align: top;\n",
       "    }\n",
       "\n",
       "    .dataframe thead th {\n",
       "        text-align: right;\n",
       "    }\n",
       "</style>\n",
       "<table border=\"1\" class=\"dataframe\">\n",
       "  <thead>\n",
       "    <tr style=\"text-align: right;\">\n",
       "      <th></th>\n",
       "      <th>0</th>\n",
       "      <th>1</th>\n",
       "      <th>2</th>\n",
       "      <th>3</th>\n",
       "    </tr>\n",
       "  </thead>\n",
       "  <tbody>\n",
       "    <tr>\n",
       "      <th>0</th>\n",
       "      <td>Invarient</td>\n",
       "      <td>2017_2019</td>\n",
       "      <td>ee.Image({\\n  \"type\": \"Invocation\",\\n  \"argume...</td>\n",
       "      <td>ee.FeatureCollection({\\n  \"type\": \"Invocation\"...</td>\n",
       "    </tr>\n",
       "    <tr>\n",
       "      <th>1</th>\n",
       "      <td>Invarient</td>\n",
       "      <td>2014_2016</td>\n",
       "      <td>ee.Image({\\n  \"type\": \"Invocation\",\\n  \"argume...</td>\n",
       "      <td>ee.FeatureCollection({\\n  \"type\": \"Invocation\"...</td>\n",
       "    </tr>\n",
       "    <tr>\n",
       "      <th>2</th>\n",
       "      <td>Invarient</td>\n",
       "      <td>2011_2013</td>\n",
       "      <td>ee.Image({\\n  \"type\": \"Invocation\",\\n  \"argume...</td>\n",
       "      <td>ee.FeatureCollection({\\n  \"type\": \"Invocation\"...</td>\n",
       "    </tr>\n",
       "    <tr>\n",
       "      <th>3</th>\n",
       "      <td>Invarient</td>\n",
       "      <td>2008_2010</td>\n",
       "      <td>ee.Image({\\n  \"type\": \"Invocation\",\\n  \"argume...</td>\n",
       "      <td>ee.FeatureCollection({\\n  \"type\": \"Invocation\"...</td>\n",
       "    </tr>\n",
       "    <tr>\n",
       "      <th>4</th>\n",
       "      <td>Invarient</td>\n",
       "      <td>2005_2007</td>\n",
       "      <td>ee.Image({\\n  \"type\": \"Invocation\",\\n  \"argume...</td>\n",
       "      <td>ee.FeatureCollection({\\n  \"type\": \"Invocation\"...</td>\n",
       "    </tr>\n",
       "    <tr>\n",
       "      <th>5</th>\n",
       "      <td>Invarient</td>\n",
       "      <td>2002_2004</td>\n",
       "      <td>ee.Image({\\n  \"type\": \"Invocation\",\\n  \"argume...</td>\n",
       "      <td>ee.FeatureCollection({\\n  \"type\": \"Invocation\"...</td>\n",
       "    </tr>\n",
       "    <tr>\n",
       "      <th>6</th>\n",
       "      <td>Invarient</td>\n",
       "      <td>1999_2001</td>\n",
       "      <td>ee.Image({\\n  \"type\": \"Invocation\",\\n  \"argume...</td>\n",
       "      <td>ee.FeatureCollection({\\n  \"type\": \"Invocation\"...</td>\n",
       "    </tr>\n",
       "    <tr>\n",
       "      <th>7</th>\n",
       "      <td>Invarient</td>\n",
       "      <td>1996_1998</td>\n",
       "      <td>ee.Image({\\n  \"type\": \"Invocation\",\\n  \"argume...</td>\n",
       "      <td>ee.FeatureCollection({\\n  \"type\": \"Invocation\"...</td>\n",
       "    </tr>\n",
       "    <tr>\n",
       "      <th>8</th>\n",
       "      <td>Invarient</td>\n",
       "      <td>1993_1995</td>\n",
       "      <td>ee.Image({\\n  \"type\": \"Invocation\",\\n  \"argume...</td>\n",
       "      <td>ee.FeatureCollection({\\n  \"type\": \"Invocation\"...</td>\n",
       "    </tr>\n",
       "    <tr>\n",
       "      <th>9</th>\n",
       "      <td>Invarient</td>\n",
       "      <td>1990_1992</td>\n",
       "      <td>ee.Image({\\n  \"type\": \"Invocation\",\\n  \"argume...</td>\n",
       "      <td>ee.FeatureCollection({\\n  \"type\": \"Invocation\"...</td>\n",
       "    </tr>\n",
       "    <tr>\n",
       "      <th>10</th>\n",
       "      <td>Each_year</td>\n",
       "      <td>2017_2019</td>\n",
       "      <td>ee.Image({\\n  \"type\": \"Invocation\",\\n  \"argume...</td>\n",
       "      <td>ee.FeatureCollection({\\n  \"type\": \"Invocation\"...</td>\n",
       "    </tr>\n",
       "    <tr>\n",
       "      <th>11</th>\n",
       "      <td>Each_year</td>\n",
       "      <td>2014_2016</td>\n",
       "      <td>ee.Image({\\n  \"type\": \"Invocation\",\\n  \"argume...</td>\n",
       "      <td>ee.FeatureCollection({\\n  \"type\": \"Invocation\"...</td>\n",
       "    </tr>\n",
       "    <tr>\n",
       "      <th>12</th>\n",
       "      <td>Each_year</td>\n",
       "      <td>2011_2013</td>\n",
       "      <td>ee.Image({\\n  \"type\": \"Invocation\",\\n  \"argume...</td>\n",
       "      <td>ee.FeatureCollection({\\n  \"type\": \"Invocation\"...</td>\n",
       "    </tr>\n",
       "    <tr>\n",
       "      <th>13</th>\n",
       "      <td>Each_year</td>\n",
       "      <td>2008_2010</td>\n",
       "      <td>ee.Image({\\n  \"type\": \"Invocation\",\\n  \"argume...</td>\n",
       "      <td>ee.FeatureCollection({\\n  \"type\": \"Invocation\"...</td>\n",
       "    </tr>\n",
       "    <tr>\n",
       "      <th>14</th>\n",
       "      <td>Each_year</td>\n",
       "      <td>2005_2007</td>\n",
       "      <td>ee.Image({\\n  \"type\": \"Invocation\",\\n  \"argume...</td>\n",
       "      <td>ee.FeatureCollection({\\n  \"type\": \"Invocation\"...</td>\n",
       "    </tr>\n",
       "    <tr>\n",
       "      <th>15</th>\n",
       "      <td>Zone_invarient</td>\n",
       "      <td>2017_2019</td>\n",
       "      <td>ee.Image({\\n  \"type\": \"Invocation\",\\n  \"argume...</td>\n",
       "      <td>ee.FeatureCollection({\\n  \"type\": \"Invocation\"...</td>\n",
       "    </tr>\n",
       "    <tr>\n",
       "      <th>16</th>\n",
       "      <td>Zone_invarient</td>\n",
       "      <td>2014_2016</td>\n",
       "      <td>ee.Image({\\n  \"type\": \"Invocation\",\\n  \"argume...</td>\n",
       "      <td>ee.FeatureCollection({\\n  \"type\": \"Invocation\"...</td>\n",
       "    </tr>\n",
       "    <tr>\n",
       "      <th>17</th>\n",
       "      <td>Zone_invarient</td>\n",
       "      <td>2011_2013</td>\n",
       "      <td>ee.Image({\\n  \"type\": \"Invocation\",\\n  \"argume...</td>\n",
       "      <td>ee.FeatureCollection({\\n  \"type\": \"Invocation\"...</td>\n",
       "    </tr>\n",
       "    <tr>\n",
       "      <th>18</th>\n",
       "      <td>Zone_invarient</td>\n",
       "      <td>2008_2010</td>\n",
       "      <td>ee.Image({\\n  \"type\": \"Invocation\",\\n  \"argume...</td>\n",
       "      <td>ee.FeatureCollection({\\n  \"type\": \"Invocation\"...</td>\n",
       "    </tr>\n",
       "    <tr>\n",
       "      <th>19</th>\n",
       "      <td>Zone_invarient</td>\n",
       "      <td>2005_2007</td>\n",
       "      <td>ee.Image({\\n  \"type\": \"Invocation\",\\n  \"argume...</td>\n",
       "      <td>ee.FeatureCollection({\\n  \"type\": \"Invocation\"...</td>\n",
       "    </tr>\n",
       "    <tr>\n",
       "      <th>20</th>\n",
       "      <td>Zone_invarient</td>\n",
       "      <td>2002_2004</td>\n",
       "      <td>ee.Image({\\n  \"type\": \"Invocation\",\\n  \"argume...</td>\n",
       "      <td>ee.FeatureCollection({\\n  \"type\": \"Invocation\"...</td>\n",
       "    </tr>\n",
       "    <tr>\n",
       "      <th>21</th>\n",
       "      <td>Zone_invarient</td>\n",
       "      <td>1999_2001</td>\n",
       "      <td>ee.Image({\\n  \"type\": \"Invocation\",\\n  \"argume...</td>\n",
       "      <td>ee.FeatureCollection({\\n  \"type\": \"Invocation\"...</td>\n",
       "    </tr>\n",
       "    <tr>\n",
       "      <th>22</th>\n",
       "      <td>Zone_invarient</td>\n",
       "      <td>1996_1998</td>\n",
       "      <td>ee.Image({\\n  \"type\": \"Invocation\",\\n  \"argume...</td>\n",
       "      <td>ee.FeatureCollection({\\n  \"type\": \"Invocation\"...</td>\n",
       "    </tr>\n",
       "    <tr>\n",
       "      <th>23</th>\n",
       "      <td>Zone_invarient</td>\n",
       "      <td>1993_1995</td>\n",
       "      <td>ee.Image({\\n  \"type\": \"Invocation\",\\n  \"argume...</td>\n",
       "      <td>ee.FeatureCollection({\\n  \"type\": \"Invocation\"...</td>\n",
       "    </tr>\n",
       "    <tr>\n",
       "      <th>24</th>\n",
       "      <td>Zone_invarient</td>\n",
       "      <td>1990_1992</td>\n",
       "      <td>ee.Image({\\n  \"type\": \"Invocation\",\\n  \"argume...</td>\n",
       "      <td>ee.FeatureCollection({\\n  \"type\": \"Invocation\"...</td>\n",
       "    </tr>\n",
       "  </tbody>\n",
       "</table>\n",
       "</div>"
      ],
      "text/plain": [
       "                 0          1  \\\n",
       "0        Invarient  2017_2019   \n",
       "1        Invarient  2014_2016   \n",
       "2        Invarient  2011_2013   \n",
       "3        Invarient  2008_2010   \n",
       "4        Invarient  2005_2007   \n",
       "5        Invarient  2002_2004   \n",
       "6        Invarient  1999_2001   \n",
       "7        Invarient  1996_1998   \n",
       "8        Invarient  1993_1995   \n",
       "9        Invarient  1990_1992   \n",
       "10       Each_year  2017_2019   \n",
       "11       Each_year  2014_2016   \n",
       "12       Each_year  2011_2013   \n",
       "13       Each_year  2008_2010   \n",
       "14       Each_year  2005_2007   \n",
       "15  Zone_invarient  2017_2019   \n",
       "16  Zone_invarient  2014_2016   \n",
       "17  Zone_invarient  2011_2013   \n",
       "18  Zone_invarient  2008_2010   \n",
       "19  Zone_invarient  2005_2007   \n",
       "20  Zone_invarient  2002_2004   \n",
       "21  Zone_invarient  1999_2001   \n",
       "22  Zone_invarient  1996_1998   \n",
       "23  Zone_invarient  1993_1995   \n",
       "24  Zone_invarient  1990_1992   \n",
       "\n",
       "                                                    2  \\\n",
       "0   ee.Image({\\n  \"type\": \"Invocation\",\\n  \"argume...   \n",
       "1   ee.Image({\\n  \"type\": \"Invocation\",\\n  \"argume...   \n",
       "2   ee.Image({\\n  \"type\": \"Invocation\",\\n  \"argume...   \n",
       "3   ee.Image({\\n  \"type\": \"Invocation\",\\n  \"argume...   \n",
       "4   ee.Image({\\n  \"type\": \"Invocation\",\\n  \"argume...   \n",
       "5   ee.Image({\\n  \"type\": \"Invocation\",\\n  \"argume...   \n",
       "6   ee.Image({\\n  \"type\": \"Invocation\",\\n  \"argume...   \n",
       "7   ee.Image({\\n  \"type\": \"Invocation\",\\n  \"argume...   \n",
       "8   ee.Image({\\n  \"type\": \"Invocation\",\\n  \"argume...   \n",
       "9   ee.Image({\\n  \"type\": \"Invocation\",\\n  \"argume...   \n",
       "10  ee.Image({\\n  \"type\": \"Invocation\",\\n  \"argume...   \n",
       "11  ee.Image({\\n  \"type\": \"Invocation\",\\n  \"argume...   \n",
       "12  ee.Image({\\n  \"type\": \"Invocation\",\\n  \"argume...   \n",
       "13  ee.Image({\\n  \"type\": \"Invocation\",\\n  \"argume...   \n",
       "14  ee.Image({\\n  \"type\": \"Invocation\",\\n  \"argume...   \n",
       "15  ee.Image({\\n  \"type\": \"Invocation\",\\n  \"argume...   \n",
       "16  ee.Image({\\n  \"type\": \"Invocation\",\\n  \"argume...   \n",
       "17  ee.Image({\\n  \"type\": \"Invocation\",\\n  \"argume...   \n",
       "18  ee.Image({\\n  \"type\": \"Invocation\",\\n  \"argume...   \n",
       "19  ee.Image({\\n  \"type\": \"Invocation\",\\n  \"argume...   \n",
       "20  ee.Image({\\n  \"type\": \"Invocation\",\\n  \"argume...   \n",
       "21  ee.Image({\\n  \"type\": \"Invocation\",\\n  \"argume...   \n",
       "22  ee.Image({\\n  \"type\": \"Invocation\",\\n  \"argume...   \n",
       "23  ee.Image({\\n  \"type\": \"Invocation\",\\n  \"argume...   \n",
       "24  ee.Image({\\n  \"type\": \"Invocation\",\\n  \"argume...   \n",
       "\n",
       "                                                    3  \n",
       "0   ee.FeatureCollection({\\n  \"type\": \"Invocation\"...  \n",
       "1   ee.FeatureCollection({\\n  \"type\": \"Invocation\"...  \n",
       "2   ee.FeatureCollection({\\n  \"type\": \"Invocation\"...  \n",
       "3   ee.FeatureCollection({\\n  \"type\": \"Invocation\"...  \n",
       "4   ee.FeatureCollection({\\n  \"type\": \"Invocation\"...  \n",
       "5   ee.FeatureCollection({\\n  \"type\": \"Invocation\"...  \n",
       "6   ee.FeatureCollection({\\n  \"type\": \"Invocation\"...  \n",
       "7   ee.FeatureCollection({\\n  \"type\": \"Invocation\"...  \n",
       "8   ee.FeatureCollection({\\n  \"type\": \"Invocation\"...  \n",
       "9   ee.FeatureCollection({\\n  \"type\": \"Invocation\"...  \n",
       "10  ee.FeatureCollection({\\n  \"type\": \"Invocation\"...  \n",
       "11  ee.FeatureCollection({\\n  \"type\": \"Invocation\"...  \n",
       "12  ee.FeatureCollection({\\n  \"type\": \"Invocation\"...  \n",
       "13  ee.FeatureCollection({\\n  \"type\": \"Invocation\"...  \n",
       "14  ee.FeatureCollection({\\n  \"type\": \"Invocation\"...  \n",
       "15  ee.FeatureCollection({\\n  \"type\": \"Invocation\"...  \n",
       "16  ee.FeatureCollection({\\n  \"type\": \"Invocation\"...  \n",
       "17  ee.FeatureCollection({\\n  \"type\": \"Invocation\"...  \n",
       "18  ee.FeatureCollection({\\n  \"type\": \"Invocation\"...  \n",
       "19  ee.FeatureCollection({\\n  \"type\": \"Invocation\"...  \n",
       "20  ee.FeatureCollection({\\n  \"type\": \"Invocation\"...  \n",
       "21  ee.FeatureCollection({\\n  \"type\": \"Invocation\"...  \n",
       "22  ee.FeatureCollection({\\n  \"type\": \"Invocation\"...  \n",
       "23  ee.FeatureCollection({\\n  \"type\": \"Invocation\"...  \n",
       "24  ee.FeatureCollection({\\n  \"type\": \"Invocation\"...  "
      ]
     },
     "execution_count": 37,
     "metadata": {},
     "output_type": "execute_result"
    }
   ],
   "source": [
    "df = pd.DataFrame(Classificatioin_result)\n",
    "df"
   ]
  },
  {
   "cell_type": "code",
   "execution_count": 38,
   "metadata": {},
   "outputs": [
    {
     "data": {
      "application/vnd.jupyter.widget-view+json": {
       "model_id": "b3b10bca686d4250ae71091048b50e0a",
       "version_major": 2,
       "version_minor": 0
      },
      "text/plain": [
       "Map(center=[40, -100], controls=(ZoomControl(options=['position', 'zoom_in_text', 'zoom_in_title', 'zoom_out_t…"
      ]
     },
     "metadata": {},
     "output_type": "display_data"
    }
   ],
   "source": [
    "Map = geemap.Map()\n",
    "Map.addLayer(Classificatioin_result[0][2],{'min':0,'max':1}, 'Invarient 2017-2019')\n",
    "Map.addLayer(Classificatioin_result[10][2],{'min':0,'max':1},'Each_year 2017-2019')\n",
    "Map.addLayer(Classificatioin_result[15][2],{'min':0,'max':1},'Zone_invarient 2017-2019')\n",
    "Map"
   ]
  },
  {
   "cell_type": "code",
   "execution_count": null,
   "metadata": {},
   "outputs": [],
   "source": []
  },
  {
   "cell_type": "code",
   "execution_count": null,
   "metadata": {},
   "outputs": [],
   "source": []
  },
  {
   "cell_type": "code",
   "execution_count": null,
   "metadata": {},
   "outputs": [],
   "source": []
  },
  {
   "cell_type": "code",
   "execution_count": null,
   "metadata": {},
   "outputs": [],
   "source": []
  },
  {
   "cell_type": "code",
   "execution_count": null,
   "metadata": {},
   "outputs": [],
   "source": []
  },
  {
   "cell_type": "code",
   "execution_count": null,
   "metadata": {},
   "outputs": [],
   "source": []
  },
  {
   "cell_type": "code",
   "execution_count": null,
   "metadata": {},
   "outputs": [],
   "source": []
  },
  {
   "cell_type": "code",
   "execution_count": null,
   "metadata": {},
   "outputs": [],
   "source": []
  },
  {
   "cell_type": "code",
   "execution_count": null,
   "metadata": {},
   "outputs": [],
   "source": []
  },
  {
   "cell_type": "code",
   "execution_count": null,
   "metadata": {},
   "outputs": [],
   "source": []
  },
  {
   "cell_type": "code",
   "execution_count": null,
   "metadata": {},
   "outputs": [],
   "source": []
  }
 ],
 "metadata": {
  "kernelspec": {
   "display_name": "Python 3",
   "language": "python",
   "name": "python3"
  },
  "language_info": {
   "codemirror_mode": {
    "name": "ipython",
    "version": 3
   },
   "file_extension": ".py",
   "mimetype": "text/x-python",
   "name": "python",
   "nbconvert_exporter": "python",
   "pygments_lexer": "ipython3",
   "version": "3.6.10"
  }
 },
 "nbformat": 4,
 "nbformat_minor": 2
}
