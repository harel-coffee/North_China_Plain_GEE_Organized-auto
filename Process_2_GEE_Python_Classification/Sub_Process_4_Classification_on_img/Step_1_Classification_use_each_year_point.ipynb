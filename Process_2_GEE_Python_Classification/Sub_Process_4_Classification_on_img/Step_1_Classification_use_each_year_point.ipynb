{
 "cells": [
  {
   "cell_type": "code",
   "execution_count": 1,
   "metadata": {},
   "outputs": [],
   "source": [
    "import ee\n",
    "import datetime\n",
    "import os\n",
    "import itertools\n",
    "import sys\n",
    "import re\n",
    "\n",
    "import pandas as pd\n",
    "import numpy as np\n",
    "import seaborn as sns\n",
    "import matplotlib.pyplot as plt\n",
    "\n",
    "import geemap\n",
    "\n",
    "import subprocess\n",
    "from subprocess import PIPE"
   ]
  },
  {
   "cell_type": "code",
   "execution_count": 2,
   "metadata": {},
   "outputs": [],
   "source": [
    "ee.Initialize()"
   ]
  },
  {
   "cell_type": "code",
   "execution_count": 3,
   "metadata": {},
   "outputs": [],
   "source": [
    "# append upper folder into sys-path during run time so we can\n",
    "# import our own moduls\n",
    "sys.path.append('..')"
   ]
  },
  {
   "cell_type": "code",
   "execution_count": 4,
   "metadata": {},
   "outputs": [],
   "source": [
    "from BackGround_modules.Class_2_Classify_Fourier_Img   import Classification\n",
    "from BackGround_modules.Class_3_Calculate_the_accuracy import Accuracy_assesment"
   ]
  },
  {
   "cell_type": "code",
   "execution_count": null,
   "metadata": {},
   "outputs": [],
   "source": []
  },
  {
   "cell_type": "markdown",
   "metadata": {},
   "source": [
    "##### Prepare basic parameters"
   ]
  },
  {
   "cell_type": "code",
   "execution_count": 5,
   "metadata": {},
   "outputs": [],
   "source": [
    "# define the years to be classified\n",
    "year_name  = list([f'{span[0]}_{span[1]}' for span in zip(range(1990,2020,3),range(1992,2020,3)) ])[::-1]\n",
    "\n",
    "# import north_china_plain boundary\n",
    "North_China_Plain = ee.FeatureCollection(\"users/wangjinzhulala/North_China_Plain_Python/Boundary_shp/North_China_Plain_Boundary\")"
   ]
  },
  {
   "cell_type": "code",
   "execution_count": 6,
   "metadata": {},
   "outputs": [
    {
     "data": {
      "text/plain": [
       "['2017_2019',\n",
       " '2014_2016',\n",
       " '2011_2013',\n",
       " '2008_2010',\n",
       " '2005_2007',\n",
       " '2002_2004',\n",
       " '1999_2001',\n",
       " '1996_1998',\n",
       " '1993_1995',\n",
       " '1990_1992']"
      ]
     },
     "execution_count": 6,
     "metadata": {},
     "output_type": "execute_result"
    }
   ],
   "source": [
    "year_name"
   ]
  },
  {
   "cell_type": "code",
   "execution_count": null,
   "metadata": {},
   "outputs": [],
   "source": []
  },
  {
   "cell_type": "markdown",
   "metadata": {},
   "source": [
    "##### Prepare input_image for classification"
   ]
  },
  {
   "cell_type": "code",
   "execution_count": 19,
   "metadata": {},
   "outputs": [],
   "source": [
    "# import Landsat img\n",
    "Landsat_img = [ee.Image(f\"users/wang8052664/Cloud_Free_Img/Landsat_cloud_free_{year}\")\\\n",
    "                 .clip(North_China_Plain)  for year in year_name]\n",
    "\n",
    "# import Fourier img   \n",
    "Fourier_img = [ee.Image(f\"users/Jinzhu_Deakin/North_China_Plain/Fourier_img_harmonic_3/Fourier_img_{year}_harmonic_3\")\\\n",
    "                 .clip(North_China_Plain)  for year in year_name[5:]] + \\\n",
    "              [ee.Image(f\"users/wang8052664/North_China_Plain/Fourier_imgs/Fourier_img_{year}_harmonic_3\")\\\n",
    "                 .clip(North_China_Plain)  for year in year_name[:5]] \n",
    "\n",
    "# Import the Index-mean Img\n",
    "NDVI_img = [ee.Image(f\"users/wensomone666/Jinzhu/Mean_NDVI/Year_{year}_Mean_NDVI\").rename('Mean_NDVI')  \n",
    "            for year in year_name ]\n",
    "NDBI_img = [ee.Image(f\"users/wensomone666/Jinzhu/Mean_NDVI/Year_{year}_Mean_NDBI\").rename('Mean_NDBI')  \n",
    "            for year in year_name ]\n",
    "EVI_img  = [ee.Image(f\"users/wensomone666/Jinzhu/Mean_NDVI/Year_{year}_Mean_EVI\").rename('Mean_EVI')  \n",
    "            for year in year_name ]\n",
    "\n",
    "# stack Landsat_Fourier_Nomalized together\n",
    "Stack_img = [ee.Image(img) for img in zip(Landsat_img,Fourier_img,NDVI_img,NDBI_img,EVI_img)]"
   ]
  },
  {
   "cell_type": "code",
   "execution_count": null,
   "metadata": {},
   "outputs": [],
   "source": []
  },
  {
   "cell_type": "markdown",
   "metadata": {},
   "source": [
    "##### Prepare input sample points"
   ]
  },
  {
   "cell_type": "code",
   "execution_count": 8,
   "metadata": {},
   "outputs": [],
   "source": [
    "path = 'users/Jinzhu_Deakin/North_China_Plain/Sample_with_Landsat_Fourier_Normalized'\n",
    "\n",
    "# import the Invarient points\n",
    "Invarient_non_built_sample = [ee.FeatureCollection(f'{path}/Invariant_non_built_{year}_extract_Landsat_Fourier_Normalized_img_2017_2019')\\\n",
    "                                .filterMetadata('Built','equals',0) for year in year_name]\n",
    "\n",
    "Invarient_built_sample     = [ee.FeatureCollection(f'{path}/Village_point_{year}_extract_Landsat_Fourier_Normalized_img')\n",
    "                                for year in year_name]\n",
    "Invarient_sample_merge     = [i[0].merge(i[1]) for i in zip(Invarient_non_built_sample,Invarient_built_sample)]\n",
    "\n",
    "# import the Each_year points\n",
    "\n",
    "Each_year_non_built_sample = [ee.FeatureCollection(f'{path}/Verified_point_{year}_extract_Landsat_Fourier_Normalized_img')\n",
    "                                for year in year_name[:5]]\n",
    "\n",
    "Each_year_built_sample     = [ee.FeatureCollection(f'{path}/Zone_point_{year}_extract_Landsat_Fourier_Normalized_img')\n",
    "                                for year in year_name[:5]]\n",
    "\n",
    "Each_year_sample_merge     = [i[0].merge(i[1]) for i in zip(Each_year_non_built_sample,Each_year_built_sample)]"
   ]
  },
  {
   "cell_type": "code",
   "execution_count": null,
   "metadata": {},
   "outputs": [],
   "source": []
  },
  {
   "cell_type": "markdown",
   "metadata": {},
   "source": [
    "##### Stack input_img and input_sample together"
   ]
  },
  {
   "cell_type": "code",
   "execution_count": 21,
   "metadata": {},
   "outputs": [],
   "source": [
    "# first put all inputs together\n",
    "stack_name   = ['Invarient'] * len(Invarient_sample_merge) + ['Each_year'] * len(Each_year_sample_merge)\n",
    "stack_year   = year_name + year_name[:5]\n",
    "stack_img    = Stack_img + Stack_img[:5]\n",
    "stack_sample = Invarient_sample_merge + Each_year_sample_merge\n",
    "\n",
    "# stack all ingredients together\n",
    "Stack_img_sample = [(stack_name[i],stack_year[i],stack_img[i],stack_sample[i]) for i in range(len(stack_name))]"
   ]
  },
  {
   "cell_type": "code",
   "execution_count": null,
   "metadata": {},
   "outputs": [],
   "source": []
  },
  {
   "cell_type": "code",
   "execution_count": 22,
   "metadata": {},
   "outputs": [],
   "source": [
    "Classificatioin_result = []\n",
    "\n",
    "for input_variable in Stack_img_sample:\n",
    "    \n",
    "    classificaiton_tpye = input_variable[0]\n",
    "    year = input_variable[1]\n",
    "    sample_pt = input_variable[3]\n",
    "    input_img = input_variable[2]\n",
    "    input_band = input_img.bandNames().getInfo()\n",
    "\n",
    "    # Instatiate the class with a name.\n",
    "    classification = Classification(year_name      = year,\n",
    "                                    Verified_point = sample_pt,\n",
    "                                    Input_img      = input_img,\n",
    "                                    Input_band     = input_band,\n",
    "                                    Tree_num       = 100,\n",
    "                                    Zone_sample    = None,\n",
    "                                    classProperty  = 'Built')\n",
    "\n",
    "\n",
    "    # perform the classification on Input_img and Samples\n",
    "    classification.Stp_1_Classification_on_img()\n",
    "    classification.Stp_2_Classification_on_Samples()\n",
    "\n",
    "    # Get the classified img\n",
    "    classified_img = classification.classification_img\n",
    "\n",
    "    # Get the classified samples\n",
    "    train_sample_classified        = classification.Train_sample_classification\n",
    "    test_sample_classified         = classification.Test_sample_classification\n",
    "    \n",
    "    # add classfication into the list\n",
    "    Classificatioin_result.append((classificaiton_tpye,year,classified_img,test_sample_classified))"
   ]
  },
  {
   "cell_type": "code",
   "execution_count": null,
   "metadata": {},
   "outputs": [],
   "source": []
  },
  {
   "cell_type": "markdown",
   "metadata": {},
   "source": [
    "##### Export the result"
   ]
  },
  {
   "cell_type": "code",
   "execution_count": 35,
   "metadata": {},
   "outputs": [
    {
     "data": {
      "text/plain": [
       "[('Invarient',\n",
       "  '2017_2019',\n",
       "  <ee.image.Image at 0x25bd5defa20>,\n",
       "  <ee.featurecollection.FeatureCollection at 0x25bd5dd1160>),\n",
       " ('Invarient',\n",
       "  '2014_2016',\n",
       "  <ee.image.Image at 0x25bd48344a8>,\n",
       "  <ee.featurecollection.FeatureCollection at 0x25bd5da05c0>),\n",
       " ('Invarient',\n",
       "  '2011_2013',\n",
       "  <ee.image.Image at 0x25bd47b1240>,\n",
       "  <ee.featurecollection.FeatureCollection at 0x25bd5dcd1d0>),\n",
       " ('Invarient',\n",
       "  '2008_2010',\n",
       "  <ee.image.Image at 0x25bd5da0160>,\n",
       "  <ee.featurecollection.FeatureCollection at 0x25bd5da0d30>)]"
      ]
     },
     "execution_count": 35,
     "metadata": {},
     "output_type": "execute_result"
    }
   ],
   "source": [
    "Classificatioin_result[:4]"
   ]
  },
  {
   "cell_type": "code",
   "execution_count": 37,
   "metadata": {},
   "outputs": [
    {
     "name": "stdout",
     "output_type": "stream",
     "text": [
      "Exporting Invarient_2017_2019 successful!\n",
      "Exporting Invarient_2014_2016 successful!\n",
      "Exporting Invarient_2011_2013 successful!\n",
      "Exporting Invarient_2008_2010 successful!\n"
     ]
    }
   ],
   "source": [
    "for item in Classificatioin_result[:4]:\n",
    "    \n",
    "    asset_path = 'users/wangjinzhulala/North_China_Plain_Python/classification_img'\n",
    "    \n",
    "    Classification_type = item[0]\n",
    "    year = item[1]\n",
    "    img = item[2]\n",
    "    \n",
    "    export_name = f'{Classification_type}_{year}'\n",
    "    \n",
    "    task = ee.batch.Export.image.toAsset(   image        = img,\n",
    "                                            description  = export_name,\n",
    "                                            assetId      = f'{asset_path}/export_name',\n",
    "                                            region       = North_China_Plain.geometry().bounds(),\n",
    "                                            scale        = 30,\n",
    "                                            maxPixels    = int(1e13))\n",
    "    task.start()\n",
    "    \n",
    "    print(f'Exporting {export_name} successful!')"
   ]
  },
  {
   "cell_type": "code",
   "execution_count": null,
   "metadata": {},
   "outputs": [],
   "source": []
  },
  {
   "cell_type": "code",
   "execution_count": null,
   "metadata": {},
   "outputs": [],
   "source": []
  },
  {
   "cell_type": "code",
   "execution_count": null,
   "metadata": {},
   "outputs": [],
   "source": []
  },
  {
   "cell_type": "code",
   "execution_count": null,
   "metadata": {},
   "outputs": [],
   "source": []
  },
  {
   "cell_type": "code",
   "execution_count": null,
   "metadata": {},
   "outputs": [],
   "source": []
  },
  {
   "cell_type": "code",
   "execution_count": null,
   "metadata": {},
   "outputs": [],
   "source": []
  },
  {
   "cell_type": "code",
   "execution_count": null,
   "metadata": {},
   "outputs": [],
   "source": []
  },
  {
   "cell_type": "code",
   "execution_count": null,
   "metadata": {},
   "outputs": [],
   "source": []
  },
  {
   "cell_type": "code",
   "execution_count": null,
   "metadata": {},
   "outputs": [],
   "source": []
  },
  {
   "cell_type": "code",
   "execution_count": null,
   "metadata": {},
   "outputs": [],
   "source": []
  },
  {
   "cell_type": "code",
   "execution_count": null,
   "metadata": {},
   "outputs": [],
   "source": []
  },
  {
   "cell_type": "code",
   "execution_count": null,
   "metadata": {},
   "outputs": [],
   "source": []
  },
  {
   "cell_type": "code",
   "execution_count": null,
   "metadata": {},
   "outputs": [],
   "source": []
  },
  {
   "cell_type": "code",
   "execution_count": null,
   "metadata": {},
   "outputs": [],
   "source": []
  }
 ],
 "metadata": {
  "kernelspec": {
   "display_name": "Python 3",
   "language": "python",
   "name": "python3"
  },
  "language_info": {
   "codemirror_mode": {
    "name": "ipython",
    "version": 3
   },
   "file_extension": ".py",
   "mimetype": "text/x-python",
   "name": "python",
   "nbconvert_exporter": "python",
   "pygments_lexer": "ipython3",
   "version": "3.7.3"
  }
 },
 "nbformat": 4,
 "nbformat_minor": 2
}
