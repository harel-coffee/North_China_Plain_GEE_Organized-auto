{
 "cells": [
  {
   "cell_type": "code",
   "execution_count": 1,
   "metadata": {},
   "outputs": [],
   "source": [
    "import ee\n",
    "import datetime\n",
    "import os\n",
    "import itertools\n",
    "import sys\n",
    "import re\n",
    "\n",
    "import pandas as pd\n",
    "import numpy as np\n",
    "import seaborn as sns\n",
    "import matplotlib.pyplot as plt\n",
    "\n",
    "import geemap\n",
    "\n",
    "import subprocess\n",
    "from subprocess import PIPE"
   ]
  },
  {
   "cell_type": "code",
   "execution_count": 2,
   "metadata": {},
   "outputs": [],
   "source": [
    "ee.Initialize()"
   ]
  },
  {
   "cell_type": "code",
   "execution_count": 3,
   "metadata": {},
   "outputs": [],
   "source": [
    "# append upper folder into sys-path during run time so we can\n",
    "# import our own moduls\n",
    "sys.path.append('..')"
   ]
  },
  {
   "cell_type": "code",
   "execution_count": 4,
   "metadata": {},
   "outputs": [],
   "source": [
    "from BackGround_modules.Class_2_Classify_Fourier_Img   import Classification\n",
    "from BackGround_modules.Class_3_Calculate_the_accuracy import Accuracy_assesment"
   ]
  },
  {
   "cell_type": "code",
   "execution_count": null,
   "metadata": {},
   "outputs": [],
   "source": []
  },
  {
   "cell_type": "markdown",
   "metadata": {},
   "source": [
    "##### Prepare basic parameters"
   ]
  },
  {
   "cell_type": "code",
   "execution_count": 5,
   "metadata": {},
   "outputs": [],
   "source": [
    "# define the years to be classified\n",
    "year_name  = '2017_2019'\n",
    "year_start = '2019-01-01'\n",
    "year_end   = '2019-12-31'\n",
    "\n",
    "# import north_china_plain boundary\n",
    "North_China_Plain = ee.FeatureCollection(\"users/wangjinzhulala/North_China_Plain_Python/Boundary_shp/North_China_Plain_Boundary\")"
   ]
  },
  {
   "cell_type": "code",
   "execution_count": 6,
   "metadata": {},
   "outputs": [
    {
     "data": {
      "text/plain": [
       "'2017_2019'"
      ]
     },
     "execution_count": 6,
     "metadata": {},
     "output_type": "execute_result"
    }
   ],
   "source": [
    "year_name"
   ]
  },
  {
   "cell_type": "code",
   "execution_count": null,
   "metadata": {},
   "outputs": [],
   "source": []
  },
  {
   "cell_type": "markdown",
   "metadata": {},
   "source": [
    "##### Prepare input_image for classification"
   ]
  },
  {
   "cell_type": "code",
   "execution_count": null,
   "metadata": {},
   "outputs": [],
   "source": []
  },
  {
   "cell_type": "code",
   "execution_count": 7,
   "metadata": {},
   "outputs": [],
   "source": [
    "# prepare the climate data\n",
    "Climate_type = ['lrad','prec','pres','shum','srad','temp','wind']\n",
    "Climate_img = [ee.Image(f\"users/wangjinzhulala/North_China_Plain_Python/Climate_data/{i}/{i}_2018\").rename(i) for i in Climate_type]"
   ]
  },
  {
   "cell_type": "code",
   "execution_count": null,
   "metadata": {},
   "outputs": [],
   "source": []
  },
  {
   "cell_type": "code",
   "execution_count": 8,
   "metadata": {},
   "outputs": [],
   "source": [
    "# Function to mask clouds using the Sentinel-2 QA band.\n",
    "def maskS2clouds(image):\n",
    "    qa = image.select('QA60')\n",
    "\n",
    "    # Bits 10 and 11 are clouds and cirrus, respectively.\n",
    "    cloudBitMask  = 1 << 10;\n",
    "    cirrusBitMask = 1 << 11;\n",
    "\n",
    "    # Both flags should be set to zero, indicating clear conditions.\n",
    "    mask = qa.bitwiseAnd(cloudBitMask).eq(0).And(qa.bitwiseAnd(cirrusBitMask).eq(0))\n",
    "\n",
    "    # Return the masked and scaled data, without the QA bands.\n",
    "    return image.updateMask(mask)\\\n",
    "                 .select(\"B.*\")\\\n",
    "                 .copyProperties(image, [\"system:time_start\"])\n"
   ]
  },
  {
   "cell_type": "code",
   "execution_count": null,
   "metadata": {},
   "outputs": [],
   "source": []
  },
  {
   "cell_type": "code",
   "execution_count": 9,
   "metadata": {},
   "outputs": [],
   "source": [
    "# import Sentinel img\n",
    "Sentinel_img =  ee.ImageCollection(\"COPERNICUS/S2_SR\")\\\n",
    "                  .filterBounds(North_China_Plain)\\\n",
    "                  .filterDate(year_start, year_end)\\\n",
    "                  .filter(ee.Filter.lt('CLOUDY_PIXEL_PERCENTAGE', 20))\\\n",
    "                  .map(lambda x: maskS2clouds(x))\\\n",
    "                  .median()\n",
    "\n",
    "\n",
    "# import Fourier img   \n",
    "Fourier_img = ee.Image(f\"users/wang8052664/North_China_Plain/Fourier_imgs/Fourier_img_{year_name}_harmonic_3\")\n",
    "\n",
    "# Import the Index-mean Img\n",
    "NDVI_img = ee.Image(f\"users/wensomone666/Jinzhu/Mean_NDVI/Year_{year_name}_Mean_NDVI\").rename('Mean_NDVI')\n",
    "NDBI_img = ee.Image(f\"users/wensomone666/Jinzhu/Mean_NDVI/Year_{year_name}_Mean_NDBI\").rename('Mean_NDBI')\n",
    "EVI_img  = ee.Image(f\"users/wensomone666/Jinzhu/Mean_NDVI/Year_{year_name}_Mean_EVI\").rename('Mean_EVI') \n",
    "\n",
    "# Import DEM/SLOPE Img\n",
    "DEM   = ee.Image(\"USGS/SRTMGL1_003\").rename('DEM')\n",
    "SLOPE = ee.Terrain.slope(DEM).rename('SLOPE')"
   ]
  },
  {
   "cell_type": "code",
   "execution_count": null,
   "metadata": {},
   "outputs": [],
   "source": []
  },
  {
   "cell_type": "code",
   "execution_count": 10,
   "metadata": {},
   "outputs": [],
   "source": [
    "# stack all Imput_Img together\n",
    "Stack_img = ee.Image([Sentinel_img, Fourier_img, NDVI_img, NDBI_img, EVI_img, DEM, SLOPE, Climate_img])"
   ]
  },
  {
   "cell_type": "code",
   "execution_count": null,
   "metadata": {},
   "outputs": [],
   "source": []
  },
  {
   "cell_type": "markdown",
   "metadata": {},
   "source": [
    "##### Prepare input sample points"
   ]
  },
  {
   "cell_type": "code",
   "execution_count": 16,
   "metadata": {},
   "outputs": [],
   "source": [
    "# Get the training sample\n",
    "Control_points = ee.FeatureCollection('users/wangjinzhulala/North_China_Plain_Python/Sample_Points/Control_points')"
   ]
  },
  {
   "cell_type": "code",
   "execution_count": null,
   "metadata": {},
   "outputs": [],
   "source": []
  },
  {
   "cell_type": "code",
   "execution_count": 66,
   "metadata": {},
   "outputs": [],
   "source": [
    "rg = re.compile('^B')\n",
    "mt = filter(rg.match,input_band)"
   ]
  },
  {
   "cell_type": "code",
   "execution_count": 67,
   "metadata": {},
   "outputs": [],
   "source": [
    "sent_bands = list(mt)\n"
   ]
  },
  {
   "cell_type": "code",
   "execution_count": 68,
   "metadata": {},
   "outputs": [
    {
     "data": {
      "text/plain": [
       "['B1', 'B2', 'B3', 'B4', 'B5', 'B6', 'B7', 'B8', 'B8A', 'B9', 'B11', 'B12']"
      ]
     },
     "execution_count": 68,
     "metadata": {},
     "output_type": "execute_result"
    }
   ],
   "source": [
    "sent_bands"
   ]
  },
  {
   "cell_type": "code",
   "execution_count": null,
   "metadata": {},
   "outputs": [],
   "source": []
  },
  {
   "cell_type": "code",
   "execution_count": null,
   "metadata": {},
   "outputs": [],
   "source": []
  },
  {
   "cell_type": "code",
   "execution_count": 17,
   "metadata": {},
   "outputs": [
    {
     "name": "stdout",
     "output_type": "stream",
     "text": [
      "Sentinel_sample_ext_img_2019\n"
     ]
    }
   ],
   "source": [
    "# define the gee-asset path for exporting\n",
    "path   = 'users/wangjinzhulala/North_China_Plain_Python/Sample_extract_img'\n",
    "name   = 'Sentinel_sample_ext_img'\n",
    "sample = Control_points\n",
    "\n",
    "Ext_sample = Stack_img.sampleRegions(  collection  = sample, \n",
    "                                        properties = ['Built'], \n",
    "                                        # here need to change scale to 10. If set as 30, the GEE will have to \n",
    "                                        # resample Sentinel img, which will leed to a 'Memory exceed problem' \n",
    "                                        scale      = 10, \n",
    "                                        geometries = True)\n",
    "\n",
    "# exporting\n",
    "task = ee.batch.Export.table.toAsset(   collection  = Ext_sample,\n",
    "                                        description = f'{name}_2019',\n",
    "                                        assetId     = f'{path}/{name}_2019')\n",
    "task.start()\n",
    "\n",
    "\n",
    "# print out the process\n",
    "print(f'{name}_2019')"
   ]
  },
  {
   "cell_type": "code",
   "execution_count": null,
   "metadata": {},
   "outputs": [],
   "source": []
  },
  {
   "cell_type": "code",
   "execution_count": 20,
   "metadata": {},
   "outputs": [],
   "source": [
    "# Define the path to Sample_pt\n",
    "path = 'users/wangjinzhulala/North_China_Plain_Python/Sample_extract_img'\n",
    "\n",
    "# Get the training sample\n",
    "Training_sample = ee.FeatureCollection(f\"{path}/Sentinel_sample_ext_img_2019\")"
   ]
  },
  {
   "cell_type": "code",
   "execution_count": null,
   "metadata": {},
   "outputs": [],
   "source": []
  },
  {
   "cell_type": "markdown",
   "metadata": {},
   "source": [
    "#### Create the classification instances"
   ]
  },
  {
   "cell_type": "code",
   "execution_count": null,
   "metadata": {},
   "outputs": [],
   "source": []
  },
  {
   "cell_type": "code",
   "execution_count": 69,
   "metadata": {},
   "outputs": [],
   "source": [
    "# A two-layer loop to generate 10-randome-split layers for each year-period\n",
    "\n",
    "Classificatioin_result = []\n",
    "\n",
    "\n",
    "\n",
    "classificaiton_tpye = 'Sentinel'\n",
    "year                = year_name\n",
    "input_img           = Stack_img\n",
    "sample_pt           = Training_sample\n",
    "input_band          = input_img.bandNames().getInfo()\n",
    "\n",
    "# The second-layer to go through each-randomnes\n",
    "for seed in range(10):\n",
    "\n",
    "    # Instatiate the class with a name.\n",
    "    classification = Classification(year_name      = year,\n",
    "                                    Verified_point = sample_pt,\n",
    "                                    Input_img      = input_img,\n",
    "                                    Input_band     = sent_bands,\n",
    "                                    Tree_num       = 100,\n",
    "                                    seed           = seed,\n",
    "                                    Zone_sample    = None,\n",
    "                                    classProperty  = 'Built')\n",
    "\n",
    "\n",
    "    # perform the classification on Input_img and Samples\n",
    "    classification.Stp_1_Classification_on_img()\n",
    "    classification.Stp_2_Classification_on_Samples()\n",
    "\n",
    "    # Get the classified img\n",
    "    classified_img = classification.classification_img\n",
    "\n",
    "    # Get the classified samples\n",
    "    train_sample_classified = classification.Train_sample_classification\n",
    "    test_sample_classified  = classification.Test_sample_classification\n",
    "\n",
    "    # add classfication into the list\n",
    "    Classificatioin_result.append((classificaiton_tpye,year,seed,classified_img,test_sample_classified))"
   ]
  },
  {
   "cell_type": "code",
   "execution_count": null,
   "metadata": {},
   "outputs": [],
   "source": []
  },
  {
   "cell_type": "code",
   "execution_count": 70,
   "metadata": {
    "scrolled": true
   },
   "outputs": [
    {
     "data": {
      "text/html": [
       "<div>\n",
       "<style scoped>\n",
       "    .dataframe tbody tr th:only-of-type {\n",
       "        vertical-align: middle;\n",
       "    }\n",
       "\n",
       "    .dataframe tbody tr th {\n",
       "        vertical-align: top;\n",
       "    }\n",
       "\n",
       "    .dataframe thead th {\n",
       "        text-align: right;\n",
       "    }\n",
       "</style>\n",
       "<table border=\"1\" class=\"dataframe\">\n",
       "  <thead>\n",
       "    <tr style=\"text-align: right;\">\n",
       "      <th></th>\n",
       "      <th>classificaiton_tpye</th>\n",
       "      <th>year</th>\n",
       "      <th>seed</th>\n",
       "      <th>classified_img</th>\n",
       "      <th>test_sample_classified</th>\n",
       "    </tr>\n",
       "  </thead>\n",
       "  <tbody>\n",
       "    <tr>\n",
       "      <th>0</th>\n",
       "      <td>Sentinel</td>\n",
       "      <td>2017_2019</td>\n",
       "      <td>0</td>\n",
       "      <td>ee.Image({\\n  \"type\": \"Invocation\",\\n  \"argume...</td>\n",
       "      <td>ee.FeatureCollection({\\n  \"type\": \"Invocation\"...</td>\n",
       "    </tr>\n",
       "    <tr>\n",
       "      <th>1</th>\n",
       "      <td>Sentinel</td>\n",
       "      <td>2017_2019</td>\n",
       "      <td>1</td>\n",
       "      <td>ee.Image({\\n  \"type\": \"Invocation\",\\n  \"argume...</td>\n",
       "      <td>ee.FeatureCollection({\\n  \"type\": \"Invocation\"...</td>\n",
       "    </tr>\n",
       "    <tr>\n",
       "      <th>2</th>\n",
       "      <td>Sentinel</td>\n",
       "      <td>2017_2019</td>\n",
       "      <td>2</td>\n",
       "      <td>ee.Image({\\n  \"type\": \"Invocation\",\\n  \"argume...</td>\n",
       "      <td>ee.FeatureCollection({\\n  \"type\": \"Invocation\"...</td>\n",
       "    </tr>\n",
       "    <tr>\n",
       "      <th>3</th>\n",
       "      <td>Sentinel</td>\n",
       "      <td>2017_2019</td>\n",
       "      <td>3</td>\n",
       "      <td>ee.Image({\\n  \"type\": \"Invocation\",\\n  \"argume...</td>\n",
       "      <td>ee.FeatureCollection({\\n  \"type\": \"Invocation\"...</td>\n",
       "    </tr>\n",
       "    <tr>\n",
       "      <th>4</th>\n",
       "      <td>Sentinel</td>\n",
       "      <td>2017_2019</td>\n",
       "      <td>4</td>\n",
       "      <td>ee.Image({\\n  \"type\": \"Invocation\",\\n  \"argume...</td>\n",
       "      <td>ee.FeatureCollection({\\n  \"type\": \"Invocation\"...</td>\n",
       "    </tr>\n",
       "    <tr>\n",
       "      <th>5</th>\n",
       "      <td>Sentinel</td>\n",
       "      <td>2017_2019</td>\n",
       "      <td>5</td>\n",
       "      <td>ee.Image({\\n  \"type\": \"Invocation\",\\n  \"argume...</td>\n",
       "      <td>ee.FeatureCollection({\\n  \"type\": \"Invocation\"...</td>\n",
       "    </tr>\n",
       "    <tr>\n",
       "      <th>6</th>\n",
       "      <td>Sentinel</td>\n",
       "      <td>2017_2019</td>\n",
       "      <td>6</td>\n",
       "      <td>ee.Image({\\n  \"type\": \"Invocation\",\\n  \"argume...</td>\n",
       "      <td>ee.FeatureCollection({\\n  \"type\": \"Invocation\"...</td>\n",
       "    </tr>\n",
       "    <tr>\n",
       "      <th>7</th>\n",
       "      <td>Sentinel</td>\n",
       "      <td>2017_2019</td>\n",
       "      <td>7</td>\n",
       "      <td>ee.Image({\\n  \"type\": \"Invocation\",\\n  \"argume...</td>\n",
       "      <td>ee.FeatureCollection({\\n  \"type\": \"Invocation\"...</td>\n",
       "    </tr>\n",
       "    <tr>\n",
       "      <th>8</th>\n",
       "      <td>Sentinel</td>\n",
       "      <td>2017_2019</td>\n",
       "      <td>8</td>\n",
       "      <td>ee.Image({\\n  \"type\": \"Invocation\",\\n  \"argume...</td>\n",
       "      <td>ee.FeatureCollection({\\n  \"type\": \"Invocation\"...</td>\n",
       "    </tr>\n",
       "    <tr>\n",
       "      <th>9</th>\n",
       "      <td>Sentinel</td>\n",
       "      <td>2017_2019</td>\n",
       "      <td>9</td>\n",
       "      <td>ee.Image({\\n  \"type\": \"Invocation\",\\n  \"argume...</td>\n",
       "      <td>ee.FeatureCollection({\\n  \"type\": \"Invocation\"...</td>\n",
       "    </tr>\n",
       "  </tbody>\n",
       "</table>\n",
       "</div>"
      ],
      "text/plain": [
       "  classificaiton_tpye       year  seed  \\\n",
       "0            Sentinel  2017_2019     0   \n",
       "1            Sentinel  2017_2019     1   \n",
       "2            Sentinel  2017_2019     2   \n",
       "3            Sentinel  2017_2019     3   \n",
       "4            Sentinel  2017_2019     4   \n",
       "5            Sentinel  2017_2019     5   \n",
       "6            Sentinel  2017_2019     6   \n",
       "7            Sentinel  2017_2019     7   \n",
       "8            Sentinel  2017_2019     8   \n",
       "9            Sentinel  2017_2019     9   \n",
       "\n",
       "                                      classified_img  \\\n",
       "0  ee.Image({\\n  \"type\": \"Invocation\",\\n  \"argume...   \n",
       "1  ee.Image({\\n  \"type\": \"Invocation\",\\n  \"argume...   \n",
       "2  ee.Image({\\n  \"type\": \"Invocation\",\\n  \"argume...   \n",
       "3  ee.Image({\\n  \"type\": \"Invocation\",\\n  \"argume...   \n",
       "4  ee.Image({\\n  \"type\": \"Invocation\",\\n  \"argume...   \n",
       "5  ee.Image({\\n  \"type\": \"Invocation\",\\n  \"argume...   \n",
       "6  ee.Image({\\n  \"type\": \"Invocation\",\\n  \"argume...   \n",
       "7  ee.Image({\\n  \"type\": \"Invocation\",\\n  \"argume...   \n",
       "8  ee.Image({\\n  \"type\": \"Invocation\",\\n  \"argume...   \n",
       "9  ee.Image({\\n  \"type\": \"Invocation\",\\n  \"argume...   \n",
       "\n",
       "                              test_sample_classified  \n",
       "0  ee.FeatureCollection({\\n  \"type\": \"Invocation\"...  \n",
       "1  ee.FeatureCollection({\\n  \"type\": \"Invocation\"...  \n",
       "2  ee.FeatureCollection({\\n  \"type\": \"Invocation\"...  \n",
       "3  ee.FeatureCollection({\\n  \"type\": \"Invocation\"...  \n",
       "4  ee.FeatureCollection({\\n  \"type\": \"Invocation\"...  \n",
       "5  ee.FeatureCollection({\\n  \"type\": \"Invocation\"...  \n",
       "6  ee.FeatureCollection({\\n  \"type\": \"Invocation\"...  \n",
       "7  ee.FeatureCollection({\\n  \"type\": \"Invocation\"...  \n",
       "8  ee.FeatureCollection({\\n  \"type\": \"Invocation\"...  \n",
       "9  ee.FeatureCollection({\\n  \"type\": \"Invocation\"...  "
      ]
     },
     "execution_count": 70,
     "metadata": {},
     "output_type": "execute_result"
    }
   ],
   "source": [
    "# convert classificaiton instances into a dataframe\n",
    "Classification_instances_df =  pd.DataFrame(Classificatioin_result,\n",
    "                                            columns=['classificaiton_tpye','year','seed','classified_img','test_sample_classified'])\n",
    "Classification_instances_df"
   ]
  },
  {
   "cell_type": "markdown",
   "metadata": {},
   "source": [
    "#### Add one of the classified img to map"
   ]
  },
  {
   "cell_type": "code",
   "execution_count": 71,
   "metadata": {},
   "outputs": [
    {
     "data": {
      "text/plain": [
       "<ee.image.Image at 0x2c215c23ba8>"
      ]
     },
     "execution_count": 71,
     "metadata": {},
     "output_type": "execute_result"
    }
   ],
   "source": [
    "one = Classification_instances_df.iloc[0][3]\n",
    "one"
   ]
  },
  {
   "cell_type": "code",
   "execution_count": 72,
   "metadata": {},
   "outputs": [],
   "source": [
    "Full_sample_classified_img = ee.ImageCollection(\"users/wangjinzhulala/North_China_Plain_Python/classification_img/Random_2017_2019\")\\\n",
    "                               .sum()"
   ]
  },
  {
   "cell_type": "code",
   "execution_count": 73,
   "metadata": {
    "scrolled": false
   },
   "outputs": [
    {
     "data": {
      "application/vnd.jupyter.widget-view+json": {
       "model_id": "53f9ca0f98e24c72a382fc2e69ae905e",
       "version_major": 2,
       "version_minor": 0
      },
      "text/plain": [
       "Map(center=[40, -100], controls=(WidgetControl(options=['position'], widget=HBox(children=(ToggleButton(value=…"
      ]
     },
     "metadata": {},
     "output_type": "display_data"
    }
   ],
   "source": [
    "Map = geemap.Map()\n",
    "Map.add_basemap('HYBRID')\n",
    "Map.addLayer(one,{'min':0,'max':1},'One')\n",
    "Map.addLayer(Full_sample_classified_img,{'min':0,'max':1},'Full_sample_classified_img')\n",
    "Map"
   ]
  },
  {
   "cell_type": "code",
   "execution_count": null,
   "metadata": {},
   "outputs": [],
   "source": []
  },
  {
   "cell_type": "code",
   "execution_count": null,
   "metadata": {},
   "outputs": [],
   "source": []
  },
  {
   "cell_type": "markdown",
   "metadata": {},
   "source": [
    "#### calculate the accuracy of each radomness"
   ]
  },
  {
   "cell_type": "code",
   "execution_count": null,
   "metadata": {},
   "outputs": [],
   "source": []
  },
  {
   "cell_type": "code",
   "execution_count": 74,
   "metadata": {
    "scrolled": true
   },
   "outputs": [
    {
     "name": "stdout",
     "output_type": "stream",
     "text": [
      "2017_2019_0-->Recall_built:89.0\n",
      "2017_2019_1-->Recall_built:88.46\n",
      "2017_2019_2-->Recall_built:89.73\n",
      "2017_2019_3-->Recall_built:87.63\n",
      "2017_2019_4-->Recall_built:87.29\n",
      "2017_2019_5-->Recall_built:88.35\n",
      "2017_2019_6-->Recall_built:88.83\n",
      "2017_2019_7-->Recall_built:86.99\n",
      "2017_2019_8-->Recall_built:87.17\n",
      "2017_2019_9-->Recall_built:88.82\n"
     ]
    }
   ],
   "source": [
    "acc = []\n",
    "\n",
    "# calculate the accuracy of differnet randomness\n",
    "for i in Classificatioin_result:\n",
    "    \n",
    "    accuracy = Accuracy_assesment(i[4]).Stp_1_Calculate_Accuracy()\n",
    "    acc.append(accuracy)\n",
    "    \n",
    "    key = 'Recall_built'\n",
    "    print(f'{i[1]}_{i[2]}-->Recall_built:{accuracy[key]}')"
   ]
  },
  {
   "cell_type": "code",
   "execution_count": null,
   "metadata": {},
   "outputs": [],
   "source": []
  },
  {
   "cell_type": "markdown",
   "metadata": {},
   "source": [
    "##### Export the classified_img"
   ]
  },
  {
   "cell_type": "code",
   "execution_count": null,
   "metadata": {},
   "outputs": [],
   "source": []
  },
  {
   "cell_type": "code",
   "execution_count": 75,
   "metadata": {},
   "outputs": [
    {
     "data": {
      "text/html": [
       "<div>\n",
       "<style scoped>\n",
       "    .dataframe tbody tr th:only-of-type {\n",
       "        vertical-align: middle;\n",
       "    }\n",
       "\n",
       "    .dataframe tbody tr th {\n",
       "        vertical-align: top;\n",
       "    }\n",
       "\n",
       "    .dataframe thead th {\n",
       "        text-align: right;\n",
       "    }\n",
       "</style>\n",
       "<table border=\"1\" class=\"dataframe\">\n",
       "  <thead>\n",
       "    <tr style=\"text-align: right;\">\n",
       "      <th></th>\n",
       "      <th>classificaiton_tpye</th>\n",
       "      <th>year</th>\n",
       "      <th>seed</th>\n",
       "      <th>classified_img</th>\n",
       "      <th>test_sample_classified</th>\n",
       "    </tr>\n",
       "  </thead>\n",
       "  <tbody>\n",
       "    <tr>\n",
       "      <th>0</th>\n",
       "      <td>Sentinel</td>\n",
       "      <td>2017_2019</td>\n",
       "      <td>0</td>\n",
       "      <td>ee.Image({\\n  \"type\": \"Invocation\",\\n  \"argume...</td>\n",
       "      <td>ee.FeatureCollection({\\n  \"type\": \"Invocation\"...</td>\n",
       "    </tr>\n",
       "    <tr>\n",
       "      <th>1</th>\n",
       "      <td>Sentinel</td>\n",
       "      <td>2017_2019</td>\n",
       "      <td>1</td>\n",
       "      <td>ee.Image({\\n  \"type\": \"Invocation\",\\n  \"argume...</td>\n",
       "      <td>ee.FeatureCollection({\\n  \"type\": \"Invocation\"...</td>\n",
       "    </tr>\n",
       "    <tr>\n",
       "      <th>2</th>\n",
       "      <td>Sentinel</td>\n",
       "      <td>2017_2019</td>\n",
       "      <td>2</td>\n",
       "      <td>ee.Image({\\n  \"type\": \"Invocation\",\\n  \"argume...</td>\n",
       "      <td>ee.FeatureCollection({\\n  \"type\": \"Invocation\"...</td>\n",
       "    </tr>\n",
       "    <tr>\n",
       "      <th>3</th>\n",
       "      <td>Sentinel</td>\n",
       "      <td>2017_2019</td>\n",
       "      <td>3</td>\n",
       "      <td>ee.Image({\\n  \"type\": \"Invocation\",\\n  \"argume...</td>\n",
       "      <td>ee.FeatureCollection({\\n  \"type\": \"Invocation\"...</td>\n",
       "    </tr>\n",
       "    <tr>\n",
       "      <th>4</th>\n",
       "      <td>Sentinel</td>\n",
       "      <td>2017_2019</td>\n",
       "      <td>4</td>\n",
       "      <td>ee.Image({\\n  \"type\": \"Invocation\",\\n  \"argume...</td>\n",
       "      <td>ee.FeatureCollection({\\n  \"type\": \"Invocation\"...</td>\n",
       "    </tr>\n",
       "    <tr>\n",
       "      <th>5</th>\n",
       "      <td>Sentinel</td>\n",
       "      <td>2017_2019</td>\n",
       "      <td>5</td>\n",
       "      <td>ee.Image({\\n  \"type\": \"Invocation\",\\n  \"argume...</td>\n",
       "      <td>ee.FeatureCollection({\\n  \"type\": \"Invocation\"...</td>\n",
       "    </tr>\n",
       "    <tr>\n",
       "      <th>6</th>\n",
       "      <td>Sentinel</td>\n",
       "      <td>2017_2019</td>\n",
       "      <td>6</td>\n",
       "      <td>ee.Image({\\n  \"type\": \"Invocation\",\\n  \"argume...</td>\n",
       "      <td>ee.FeatureCollection({\\n  \"type\": \"Invocation\"...</td>\n",
       "    </tr>\n",
       "    <tr>\n",
       "      <th>7</th>\n",
       "      <td>Sentinel</td>\n",
       "      <td>2017_2019</td>\n",
       "      <td>7</td>\n",
       "      <td>ee.Image({\\n  \"type\": \"Invocation\",\\n  \"argume...</td>\n",
       "      <td>ee.FeatureCollection({\\n  \"type\": \"Invocation\"...</td>\n",
       "    </tr>\n",
       "    <tr>\n",
       "      <th>8</th>\n",
       "      <td>Sentinel</td>\n",
       "      <td>2017_2019</td>\n",
       "      <td>8</td>\n",
       "      <td>ee.Image({\\n  \"type\": \"Invocation\",\\n  \"argume...</td>\n",
       "      <td>ee.FeatureCollection({\\n  \"type\": \"Invocation\"...</td>\n",
       "    </tr>\n",
       "    <tr>\n",
       "      <th>9</th>\n",
       "      <td>Sentinel</td>\n",
       "      <td>2017_2019</td>\n",
       "      <td>9</td>\n",
       "      <td>ee.Image({\\n  \"type\": \"Invocation\",\\n  \"argume...</td>\n",
       "      <td>ee.FeatureCollection({\\n  \"type\": \"Invocation\"...</td>\n",
       "    </tr>\n",
       "  </tbody>\n",
       "</table>\n",
       "</div>"
      ],
      "text/plain": [
       "  classificaiton_tpye       year  seed  \\\n",
       "0            Sentinel  2017_2019     0   \n",
       "1            Sentinel  2017_2019     1   \n",
       "2            Sentinel  2017_2019     2   \n",
       "3            Sentinel  2017_2019     3   \n",
       "4            Sentinel  2017_2019     4   \n",
       "5            Sentinel  2017_2019     5   \n",
       "6            Sentinel  2017_2019     6   \n",
       "7            Sentinel  2017_2019     7   \n",
       "8            Sentinel  2017_2019     8   \n",
       "9            Sentinel  2017_2019     9   \n",
       "\n",
       "                                      classified_img  \\\n",
       "0  ee.Image({\\n  \"type\": \"Invocation\",\\n  \"argume...   \n",
       "1  ee.Image({\\n  \"type\": \"Invocation\",\\n  \"argume...   \n",
       "2  ee.Image({\\n  \"type\": \"Invocation\",\\n  \"argume...   \n",
       "3  ee.Image({\\n  \"type\": \"Invocation\",\\n  \"argume...   \n",
       "4  ee.Image({\\n  \"type\": \"Invocation\",\\n  \"argume...   \n",
       "5  ee.Image({\\n  \"type\": \"Invocation\",\\n  \"argume...   \n",
       "6  ee.Image({\\n  \"type\": \"Invocation\",\\n  \"argume...   \n",
       "7  ee.Image({\\n  \"type\": \"Invocation\",\\n  \"argume...   \n",
       "8  ee.Image({\\n  \"type\": \"Invocation\",\\n  \"argume...   \n",
       "9  ee.Image({\\n  \"type\": \"Invocation\",\\n  \"argume...   \n",
       "\n",
       "                              test_sample_classified  \n",
       "0  ee.FeatureCollection({\\n  \"type\": \"Invocation\"...  \n",
       "1  ee.FeatureCollection({\\n  \"type\": \"Invocation\"...  \n",
       "2  ee.FeatureCollection({\\n  \"type\": \"Invocation\"...  \n",
       "3  ee.FeatureCollection({\\n  \"type\": \"Invocation\"...  \n",
       "4  ee.FeatureCollection({\\n  \"type\": \"Invocation\"...  \n",
       "5  ee.FeatureCollection({\\n  \"type\": \"Invocation\"...  \n",
       "6  ee.FeatureCollection({\\n  \"type\": \"Invocation\"...  \n",
       "7  ee.FeatureCollection({\\n  \"type\": \"Invocation\"...  \n",
       "8  ee.FeatureCollection({\\n  \"type\": \"Invocation\"...  \n",
       "9  ee.FeatureCollection({\\n  \"type\": \"Invocation\"...  "
      ]
     },
     "execution_count": 75,
     "metadata": {},
     "output_type": "execute_result"
    }
   ],
   "source": [
    "Classification_instances_df"
   ]
  },
  {
   "cell_type": "code",
   "execution_count": 77,
   "metadata": {
    "scrolled": true
   },
   "outputs": [
    {
     "name": "stdout",
     "output_type": "stream",
     "text": [
      "Exporting Sentinel_2017_2019_0 successful!\n",
      "Exporting Sentinel_2017_2019_1 successful!\n",
      "Exporting Sentinel_2017_2019_2 successful!\n",
      "Exporting Sentinel_2017_2019_3 successful!\n",
      "Exporting Sentinel_2017_2019_4 successful!\n",
      "Exporting Sentinel_2017_2019_5 successful!\n",
      "Exporting Sentinel_2017_2019_6 successful!\n",
      "Exporting Sentinel_2017_2019_7 successful!\n",
      "Exporting Sentinel_2017_2019_8 successful!\n",
      "Exporting Sentinel_2017_2019_9 successful!\n"
     ]
    }
   ],
   "source": [
    "for item in Classificatioin_result:\n",
    "     \n",
    "    Classification_type = item[0]\n",
    "    year = item[1]\n",
    "    seed = item[2]\n",
    "    img  = item[3]\n",
    "    \n",
    "    \n",
    "    export_name = f'{Classification_type}_{year}_{seed}'\n",
    "    \n",
    "#     # export to Google Storage\n",
    "#     task = ee.batch.Export.image.toCloudStorage(image          = img,\n",
    "#                                                 description    = export_name,\n",
    "#                                                 bucket         = 'north_china_plain',\n",
    "#                                                 fileNamePrefix = export_name,\n",
    "#                                                 region         = North_China_Plain.geometry().bounds(),\n",
    "#                                                 scale          = 30,\n",
    "#                                                 maxPixels      = int(1e13),\n",
    "#                                                 skipEmptyTiles = True)\n",
    "    \n",
    "    #export to GEE asset\n",
    "    asset_path = f'users/wangjinzhulala/North_China_Plain_Python/classification_img/Sentinel_2019'\n",
    "    \n",
    "    task = ee.batch.Export.image.toAsset(   image          = img,\n",
    "                                            description    = export_name,\n",
    "                                            assetId        = f'{asset_path}/{export_name}',\n",
    "                                            region         = North_China_Plain.geometry().bounds(),\n",
    "                                            scale          = 30,\n",
    "                                            maxPixels      = int(1e13)) \n",
    "    \n",
    "    task.start()\n",
    "    \n",
    "    print(f'Exporting {export_name} successful!')"
   ]
  },
  {
   "cell_type": "code",
   "execution_count": null,
   "metadata": {},
   "outputs": [],
   "source": []
  },
  {
   "cell_type": "code",
   "execution_count": null,
   "metadata": {},
   "outputs": [],
   "source": []
  },
  {
   "cell_type": "code",
   "execution_count": null,
   "metadata": {},
   "outputs": [],
   "source": []
  },
  {
   "cell_type": "code",
   "execution_count": null,
   "metadata": {},
   "outputs": [],
   "source": []
  },
  {
   "cell_type": "code",
   "execution_count": null,
   "metadata": {},
   "outputs": [],
   "source": []
  },
  {
   "cell_type": "code",
   "execution_count": null,
   "metadata": {},
   "outputs": [],
   "source": []
  },
  {
   "cell_type": "code",
   "execution_count": null,
   "metadata": {},
   "outputs": [],
   "source": []
  },
  {
   "cell_type": "code",
   "execution_count": null,
   "metadata": {},
   "outputs": [],
   "source": []
  },
  {
   "cell_type": "code",
   "execution_count": null,
   "metadata": {},
   "outputs": [],
   "source": []
  },
  {
   "cell_type": "code",
   "execution_count": null,
   "metadata": {},
   "outputs": [],
   "source": []
  },
  {
   "cell_type": "code",
   "execution_count": null,
   "metadata": {},
   "outputs": [],
   "source": []
  },
  {
   "cell_type": "code",
   "execution_count": null,
   "metadata": {},
   "outputs": [],
   "source": []
  },
  {
   "cell_type": "code",
   "execution_count": null,
   "metadata": {},
   "outputs": [],
   "source": []
  },
  {
   "cell_type": "code",
   "execution_count": null,
   "metadata": {},
   "outputs": [],
   "source": []
  },
  {
   "cell_type": "code",
   "execution_count": null,
   "metadata": {},
   "outputs": [],
   "source": []
  },
  {
   "cell_type": "code",
   "execution_count": null,
   "metadata": {},
   "outputs": [],
   "source": []
  },
  {
   "cell_type": "code",
   "execution_count": null,
   "metadata": {},
   "outputs": [],
   "source": []
  },
  {
   "cell_type": "code",
   "execution_count": null,
   "metadata": {},
   "outputs": [],
   "source": []
  },
  {
   "cell_type": "code",
   "execution_count": null,
   "metadata": {},
   "outputs": [],
   "source": []
  },
  {
   "cell_type": "code",
   "execution_count": null,
   "metadata": {},
   "outputs": [],
   "source": []
  },
  {
   "cell_type": "code",
   "execution_count": null,
   "metadata": {},
   "outputs": [],
   "source": []
  }
 ],
 "metadata": {
  "kernelspec": {
   "display_name": "Python 3",
   "language": "python",
   "name": "python3"
  },
  "language_info": {
   "codemirror_mode": {
    "name": "ipython",
    "version": 3
   },
   "file_extension": ".py",
   "mimetype": "text/x-python",
   "name": "python",
   "nbconvert_exporter": "python",
   "pygments_lexer": "ipython3",
   "version": "3.7.3"
  }
 },
 "nbformat": 4,
 "nbformat_minor": 2
}
