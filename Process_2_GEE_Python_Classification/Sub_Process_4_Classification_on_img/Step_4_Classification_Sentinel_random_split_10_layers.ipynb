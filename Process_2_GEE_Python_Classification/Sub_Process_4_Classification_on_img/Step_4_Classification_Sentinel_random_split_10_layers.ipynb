{
 "cells": [
  {
   "cell_type": "code",
   "execution_count": 1,
   "metadata": {},
   "outputs": [],
   "source": [
    "import ee\n",
    "import datetime\n",
    "import os\n",
    "import itertools\n",
    "import sys\n",
    "import re\n",
    "\n",
    "import pandas as pd\n",
    "import numpy as np\n",
    "import seaborn as sns\n",
    "import matplotlib.pyplot as plt\n",
    "\n",
    "import geemap\n",
    "\n",
    "import subprocess\n",
    "from subprocess import PIPE"
   ]
  },
  {
   "cell_type": "code",
   "execution_count": 2,
   "metadata": {},
   "outputs": [],
   "source": [
    "ee.Initialize()"
   ]
  },
  {
   "cell_type": "code",
   "execution_count": 3,
   "metadata": {},
   "outputs": [],
   "source": [
    "# append upper folder into sys-path during run time so we can\n",
    "# import our own moduls\n",
    "sys.path.append('..')"
   ]
  },
  {
   "cell_type": "code",
   "execution_count": 4,
   "metadata": {},
   "outputs": [],
   "source": [
    "from BackGround_modules.Class_2_Classify_Fourier_Img   import Classification\n",
    "from BackGround_modules.Class_3_Calculate_the_accuracy import Accuracy_assesment"
   ]
  },
  {
   "cell_type": "code",
   "execution_count": null,
   "metadata": {},
   "outputs": [],
   "source": []
  },
  {
   "cell_type": "markdown",
   "metadata": {},
   "source": [
    "##### Prepare basic parameters"
   ]
  },
  {
   "cell_type": "code",
   "execution_count": 22,
   "metadata": {},
   "outputs": [],
   "source": [
    "# define the years to be classified\n",
    "year_name  = list([f'{span[0]}_{span[1]}' for span in zip(range(1990,2020,3),range(1992,2020,3)) ])[::-1]\n",
    "\n",
    "# import north_china_plain boundary\n",
    "North_China_Plain = ee.FeatureCollection(\"users/wangjinzhulala/North_China_Plain_Python/Boundary_shp/North_China_Plain_Boundary\")"
   ]
  },
  {
   "cell_type": "code",
   "execution_count": 23,
   "metadata": {},
   "outputs": [
    {
     "data": {
      "text/plain": [
       "['2017_2019',\n",
       " '2014_2016',\n",
       " '2011_2013',\n",
       " '2008_2010',\n",
       " '2005_2007',\n",
       " '2002_2004',\n",
       " '1999_2001',\n",
       " '1996_1998',\n",
       " '1993_1995',\n",
       " '1990_1992']"
      ]
     },
     "execution_count": 23,
     "metadata": {},
     "output_type": "execute_result"
    }
   ],
   "source": [
    "year_name"
   ]
  },
  {
   "cell_type": "code",
   "execution_count": null,
   "metadata": {},
   "outputs": [],
   "source": []
  },
  {
   "cell_type": "markdown",
   "metadata": {},
   "source": [
    "##### Prepare input_image for classification"
   ]
  },
  {
   "cell_type": "markdown",
   "metadata": {},
   "source": [
    "1) Climate date"
   ]
  },
  {
   "cell_type": "code",
   "execution_count": 24,
   "metadata": {},
   "outputs": [],
   "source": [
    "# prepare the climate data\n",
    "Climate_type = ['lrad','prec','pres','shum','srad','temp','wind']\n",
    "Climate_mean = []\n",
    "\n",
    "for year in year_name:   \n",
    "    \n",
    "    # define the three years according to year-variable\n",
    "    year_start = int(year.split('_')[0])\n",
    "    year_mid   = year_start + 1\n",
    "    year_end   = year_start + 2\n",
    "    \n",
    "    # Initiate an empty list to hold the climate-tifs-mean from year_start to year_end\n",
    "    climate_tifs_mean = []\n",
    "    \n",
    "    # compute the mean-tif of each climate-type\n",
    "    for i in Climate_type:\n",
    "\n",
    "        # Because cliate_data doesn't include data of 2019, so \n",
    "        # use if to exclede the data of year 2019\n",
    "        if year_start < 2017:\n",
    "            climate_tifs = [ee.Image(f\"users/wangjinzhulala/North_China_Plain_Python/Climate_data/{i}/{i}_{t}\")                        \n",
    "                            for t in [year_start,year_mid,year_end]]\n",
    "            tifs_mean    = ee.ImageCollection(climate_tifs).mean().toFloat().rename(i)\n",
    "\n",
    "        else:\n",
    "            climate_tifs = [ee.Image(f\"users/wangjinzhulala/North_China_Plain_Python/Climate_data/{i}/{i}_{t}\")                        \n",
    "                            for t in [year_start,year_mid]]\n",
    "\n",
    "            tifs_mean    = ee.ImageCollection(climate_tifs).mean().toFloat().rename(i)\n",
    "\n",
    "        # add all climate_tifs_mean of year_start to year_end to list\n",
    "        climate_tifs_mean.append(tifs_mean)\n",
    "        \n",
    "        climate_tifs_mean_img = ee.Image(climate_tifs_mean)\n",
    "        \n",
    "\n",
    "    # add the mean-cliamte-img into the Climate_mean\n",
    "    Climate_mean.append(climate_tifs_mean_img)"
   ]
  },
  {
   "cell_type": "code",
   "execution_count": null,
   "metadata": {},
   "outputs": [],
   "source": []
  },
  {
   "cell_type": "markdown",
   "metadata": {},
   "source": [
    "2) Sentinel date"
   ]
  },
  {
   "cell_type": "code",
   "execution_count": 25,
   "metadata": {},
   "outputs": [],
   "source": [
    "# Function to mask clouds using the Sentinel-2 QA band.\n",
    "def maskS2clouds(image):\n",
    "    qa = image.select('QA60')\n",
    "\n",
    "    # Bits 10 and 11 are clouds and cirrus, respectively.\n",
    "    cloudBitMask  = 1 << 10;\n",
    "    cirrusBitMask = 1 << 11;\n",
    "\n",
    "    # Both flags should be set to zero, indicating clear conditions.\n",
    "    mask = qa.bitwiseAnd(cloudBitMask).eq(0).And(qa.bitwiseAnd(cirrusBitMask).eq(0))\n",
    "\n",
    "    # Return the masked and scaled data, without the QA bands.\n",
    "    return image.updateMask(mask)\\\n",
    "                 .select(\"B.*\")\\\n",
    "                 .copyProperties(image, [\"system:time_start\"])\n",
    "\n",
    "\n",
    "\n",
    "# here composite Sentinel-2 multispectrum image of year [2015-2017] for classification of [2014-2016]\n",
    "#            and Sentinel-2 multispectrum image of year [2015-2017] for classification of [2014-2016]\n",
    "# because composition of S2 image at year [2014-2016] are not fully cloud-free\n",
    "Sentinel_year_range = [(\"2018-01-01\",\"2019-12-31\"),(\"2015-01-01\",\"2017-12-31\")]\n",
    "\n",
    "Sentinel_img =  [ee.ImageCollection(\"COPERNICUS/S2\")\\\n",
    "                      .filterBounds(North_China_Plain)\\\n",
    "                      .filterDate(*S_t)\\\n",
    "                      .filter(ee.Filter.lt('CLOUDY_PIXEL_PERCENTAGE', 5))\\\n",
    "                      .map(lambda x: maskS2clouds(x))\\\n",
    "                      .median() for S_t in Sentinel_year_range] \n",
    "\n",
    "# add 'Sentinel' to each band name of Sentinel img\n",
    "Sentinel_img = [img.rename([f'Sentinel_{band}' for band in  img.bandNames().getInfo()]) for img in Sentinel_img]"
   ]
  },
  {
   "cell_type": "code",
   "execution_count": null,
   "metadata": {},
   "outputs": [],
   "source": []
  },
  {
   "cell_type": "markdown",
   "metadata": {},
   "source": [
    "3) Landsat date"
   ]
  },
  {
   "cell_type": "code",
   "execution_count": 26,
   "metadata": {},
   "outputs": [],
   "source": [
    "# import Landsat img\n",
    "Landsat_img = [ee.Image(f\"users/wang8052664/Cloud_Free_Img/Landsat_cloud_free_{t}\") for t in year_name]\n",
    "# here add a 'Landsat' befor the name of each landsat band so to avoid duplicated names to Sentinel bands\n",
    "Landsat_img = [img.rename([f'Landsat_{band}' for band in  img.bandNames().getInfo()]) for img in Landsat_img]"
   ]
  },
  {
   "cell_type": "code",
   "execution_count": null,
   "metadata": {},
   "outputs": [],
   "source": []
  },
  {
   "cell_type": "markdown",
   "metadata": {},
   "source": [
    "4) Fourier and Normalized-indexs date"
   ]
  },
  {
   "cell_type": "code",
   "execution_count": 33,
   "metadata": {},
   "outputs": [],
   "source": [
    "# import Fourier img  \n",
    "Fourier_img = [ee.Image(f\"users/Jinzhu_Deakin/North_China_Plain/Fourier_img_harmonic_3/Fourier_img_{year}_harmonic_3\")\\\n",
    "                 .clip(North_China_Plain)  for year in year_name[5:]] + \\\n",
    "              [ee.Image(f\"users/wang8052664/North_China_Plain/Fourier_imgs/Fourier_img_{year}_harmonic_3\")\\\n",
    "                 .clip(North_China_Plain)  for year in year_name[:5]] \n",
    "\n",
    "#Import the Index-mean Img\n",
    "NDVI_img = [ee.Image(f\"users/wensomone666/Jinzhu/Mean_NDVI/Year_{t}_Mean_NDVI\").rename('Mean_NDVI') for t in year_name]\n",
    "NDBI_img = [ee.Image(f\"users/wensomone666/Jinzhu/Mean_NDVI/Year_{t}_Mean_NDBI\").rename('Mean_NDBI') for t in year_name]\n",
    "EVI_img  = [ee.Image(f\"users/wensomone666/Jinzhu/Mean_NDVI/Year_{t}_Mean_EVI\").rename('Mean_EVI')   for t in year_name]"
   ]
  },
  {
   "cell_type": "code",
   "execution_count": null,
   "metadata": {},
   "outputs": [],
   "source": []
  },
  {
   "cell_type": "markdown",
   "metadata": {},
   "source": [
    "5) DEM/Slope date"
   ]
  },
  {
   "cell_type": "code",
   "execution_count": 34,
   "metadata": {},
   "outputs": [],
   "source": [
    "# Import DEM/SLOPE Img\n",
    "DEM   = [ee.Image(\"USGS/SRTMGL1_003\").rename('DEM')] * len(year_name)\n",
    "SLOPE = [ee.Terrain.slope(DEM).rename('SLOPE')] * len(year_name)"
   ]
  },
  {
   "cell_type": "code",
   "execution_count": null,
   "metadata": {},
   "outputs": [],
   "source": []
  },
  {
   "cell_type": "code",
   "execution_count": 35,
   "metadata": {},
   "outputs": [],
   "source": [
    "# stack all Imput_Img together\n",
    "Stack_img     = [ee.Image(img) \n",
    "                    for img in zip(Landsat_img,Fourier_img,NDVI_img,NDBI_img,EVI_img,Climate_mean,DEM,SLOPE)]\n",
    "\n",
    "Stack_img_with_Sentinel = [ee.Image(img) \n",
    "                    for img in zip(Landsat_img,Sentinel_img,Fourier_img,NDVI_img,NDBI_img,EVI_img,Climate_mean,DEM,SLOPE)]"
   ]
  },
  {
   "cell_type": "code",
   "execution_count": null,
   "metadata": {},
   "outputs": [],
   "source": []
  },
  {
   "cell_type": "markdown",
   "metadata": {},
   "source": [
    "##### Prepare input sample points"
   ]
  },
  {
   "cell_type": "markdown",
   "metadata": {},
   "source": [
    "1) Extract image value to control plints"
   ]
  },
  {
   "cell_type": "code",
   "execution_count": 14,
   "metadata": {},
   "outputs": [],
   "source": [
    "# Get the training sample\n",
    "Control_points = ee.FeatureCollection('users/wangjinzhulala/North_China_Plain_Python/Sample_Points/Sentinel_2017_2019')"
   ]
  },
  {
   "cell_type": "code",
   "execution_count": null,
   "metadata": {},
   "outputs": [],
   "source": []
  },
  {
   "cell_type": "code",
   "execution_count": null,
   "metadata": {},
   "outputs": [],
   "source": []
  },
  {
   "cell_type": "code",
   "execution_count": 16,
   "metadata": {},
   "outputs": [
    {
     "name": "stdout",
     "output_type": "stream",
     "text": [
      "Re_inspect_sample_Landsat_ext_img_1990_1992\n",
      "Re_inspect_sample_Landsat_ext_img_1993_1995\n",
      "Re_inspect_sample_Landsat_ext_img_1996_1998\n",
      "Re_inspect_sample_Landsat_ext_img_1999_2001\n",
      "Re_inspect_sample_Landsat_ext_img_2002_2004\n",
      "Re_inspect_sample_Landsat_ext_img_2005_2007\n",
      "Re_inspect_sample_Landsat_ext_img_2008_2010\n",
      "Re_inspect_sample_Landsat_ext_img_2011_2013\n",
      "Re_inspect_sample_Landsat_ext_img_2014_2016\n",
      "Re_inspect_sample_Landsat_ext_img_2017_2019\n"
     ]
    }
   ],
   "source": [
    "for t,img in zip(year_name,Stack_img):\n",
    "\n",
    "    # define the gee-asset path for exporting\n",
    "    path   = 'users/Jinzhu_Deakin/North_China_Plain/Sample_with_Landsat_Fourier_Normalized_Climate'\n",
    "    name   = 'Re_inspect_sample_Landsat_ext_img'\n",
    "    sample = Control_points\n",
    "\n",
    "    Ext_sample = img.sampleRegions( collection = sample, \n",
    "                                    properties = ['Built'], \n",
    "                                    # here need to change scale to 10. If set as 30, the GEE will have to \n",
    "                                    # resample Sentinel img, which will leed to a 'Memory exceed problem' \n",
    "                                    scale      = 10, \n",
    "                                    geometries = True,\n",
    "                                    tileScale  = 2)\n",
    "\n",
    "    # exporting\n",
    "    task = ee.batch.Export.table.toAsset(   collection  = Ext_sample,\n",
    "                                            description = f'{name}_{t}',\n",
    "                                            assetId     = f'{path}/{name}_{t}')\n",
    "    task.start()\n",
    "\n",
    "\n",
    "    # print out the process\n",
    "    print(f'{name}_{t}')"
   ]
  },
  {
   "cell_type": "code",
   "execution_count": null,
   "metadata": {},
   "outputs": [],
   "source": []
  },
  {
   "cell_type": "markdown",
   "metadata": {},
   "source": [
    "2) fetch the control points with extracted img values"
   ]
  },
  {
   "cell_type": "code",
   "execution_count": 38,
   "metadata": {},
   "outputs": [],
   "source": [
    "# Get the training sample\n",
    "Training_sample =[ee.FeatureCollection(f\"{path}/Re_inspect_sample_Landsat_ext_img_{t}\") for t in year_name]"
   ]
  },
  {
   "cell_type": "code",
   "execution_count": null,
   "metadata": {},
   "outputs": [],
   "source": []
  },
  {
   "cell_type": "markdown",
   "metadata": {},
   "source": [
    "#### Create the classification instances"
   ]
  },
  {
   "cell_type": "code",
   "execution_count": null,
   "metadata": {},
   "outputs": [],
   "source": []
  },
  {
   "cell_type": "code",
   "execution_count": 49,
   "metadata": {},
   "outputs": [],
   "source": [
    "# A two-layer loop to generate 10-randome-split layers for each year-period\n",
    "Classificatioin_result = []\n",
    "\n",
    "# The first-layer loop to go througth each year-periods\n",
    "for t,in_img,pt in zip(year_name,Stack_img,Training_sample):\n",
    "    \n",
    "    classificaiton_tpye = 'Re_Inspect_Sample_2019_Landsat'\n",
    "    year                = t\n",
    "    input_img           = in_img\n",
    "    sample_pt           = pt\n",
    "    input_band          = input_img.bandNames().getInfo()\n",
    "\n",
    "    # The second-layer to go through each-randomnes\n",
    "    for seed in range(10):\n",
    "\n",
    "        # Instatiate the class with a name.\n",
    "        classification = Classification(year_name      = year,\n",
    "                                        Verified_point = sample_pt,\n",
    "                                        Input_img      = input_img,\n",
    "                                        Input_band     = input_band,\n",
    "                                        Tree_num       = 100,\n",
    "                                        seed           = seed,\n",
    "                                        Zone_sample    = None,\n",
    "                                        classProperty  = 'Built')\n",
    "\n",
    "\n",
    "        # perform the classification on Input_img and Samples\n",
    "        classification.Stp_1_Classification_on_img()\n",
    "        classification.Stp_2_Classification_on_Samples()\n",
    "\n",
    "        # Get the classified img\n",
    "        classified_img = classification.classification_img\n",
    "\n",
    "        # Get the classified samples\n",
    "        train_sample_classified = classification.Train_sample_classification\n",
    "        test_sample_classified  = classification.Test_sample_classification\n",
    "\n",
    "        # add classfication into the list\n",
    "        Classificatioin_result.append((classificaiton_tpye,year,seed,classified_img,test_sample_classified))"
   ]
  },
  {
   "cell_type": "code",
   "execution_count": null,
   "metadata": {},
   "outputs": [],
   "source": []
  },
  {
   "cell_type": "code",
   "execution_count": 50,
   "metadata": {
    "scrolled": false
   },
   "outputs": [
    {
     "data": {
      "text/html": [
       "<div>\n",
       "<style scoped>\n",
       "    .dataframe tbody tr th:only-of-type {\n",
       "        vertical-align: middle;\n",
       "    }\n",
       "\n",
       "    .dataframe tbody tr th {\n",
       "        vertical-align: top;\n",
       "    }\n",
       "\n",
       "    .dataframe thead th {\n",
       "        text-align: right;\n",
       "    }\n",
       "</style>\n",
       "<table border=\"1\" class=\"dataframe\">\n",
       "  <thead>\n",
       "    <tr style=\"text-align: right;\">\n",
       "      <th></th>\n",
       "      <th>classificaiton_tpye</th>\n",
       "      <th>year</th>\n",
       "      <th>seed</th>\n",
       "      <th>classified_img</th>\n",
       "      <th>test_sample_classified</th>\n",
       "    </tr>\n",
       "  </thead>\n",
       "  <tbody>\n",
       "    <tr>\n",
       "      <th>0</th>\n",
       "      <td>Re_Inspect_Sample_2019_Landsat</td>\n",
       "      <td>2017_2019</td>\n",
       "      <td>0</td>\n",
       "      <td>ee.Image({\\n  \"type\": \"Invocation\",\\n  \"argume...</td>\n",
       "      <td>ee.FeatureCollection({\\n  \"type\": \"Invocation\"...</td>\n",
       "    </tr>\n",
       "    <tr>\n",
       "      <th>1</th>\n",
       "      <td>Re_Inspect_Sample_2019_Landsat</td>\n",
       "      <td>2017_2019</td>\n",
       "      <td>1</td>\n",
       "      <td>ee.Image({\\n  \"type\": \"Invocation\",\\n  \"argume...</td>\n",
       "      <td>ee.FeatureCollection({\\n  \"type\": \"Invocation\"...</td>\n",
       "    </tr>\n",
       "    <tr>\n",
       "      <th>2</th>\n",
       "      <td>Re_Inspect_Sample_2019_Landsat</td>\n",
       "      <td>2017_2019</td>\n",
       "      <td>2</td>\n",
       "      <td>ee.Image({\\n  \"type\": \"Invocation\",\\n  \"argume...</td>\n",
       "      <td>ee.FeatureCollection({\\n  \"type\": \"Invocation\"...</td>\n",
       "    </tr>\n",
       "    <tr>\n",
       "      <th>3</th>\n",
       "      <td>Re_Inspect_Sample_2019_Landsat</td>\n",
       "      <td>2017_2019</td>\n",
       "      <td>3</td>\n",
       "      <td>ee.Image({\\n  \"type\": \"Invocation\",\\n  \"argume...</td>\n",
       "      <td>ee.FeatureCollection({\\n  \"type\": \"Invocation\"...</td>\n",
       "    </tr>\n",
       "    <tr>\n",
       "      <th>4</th>\n",
       "      <td>Re_Inspect_Sample_2019_Landsat</td>\n",
       "      <td>2017_2019</td>\n",
       "      <td>4</td>\n",
       "      <td>ee.Image({\\n  \"type\": \"Invocation\",\\n  \"argume...</td>\n",
       "      <td>ee.FeatureCollection({\\n  \"type\": \"Invocation\"...</td>\n",
       "    </tr>\n",
       "    <tr>\n",
       "      <th>...</th>\n",
       "      <td>...</td>\n",
       "      <td>...</td>\n",
       "      <td>...</td>\n",
       "      <td>...</td>\n",
       "      <td>...</td>\n",
       "    </tr>\n",
       "    <tr>\n",
       "      <th>95</th>\n",
       "      <td>Re_Inspect_Sample_2019_Landsat</td>\n",
       "      <td>1990_1992</td>\n",
       "      <td>5</td>\n",
       "      <td>ee.Image({\\n  \"type\": \"Invocation\",\\n  \"argume...</td>\n",
       "      <td>ee.FeatureCollection({\\n  \"type\": \"Invocation\"...</td>\n",
       "    </tr>\n",
       "    <tr>\n",
       "      <th>96</th>\n",
       "      <td>Re_Inspect_Sample_2019_Landsat</td>\n",
       "      <td>1990_1992</td>\n",
       "      <td>6</td>\n",
       "      <td>ee.Image({\\n  \"type\": \"Invocation\",\\n  \"argume...</td>\n",
       "      <td>ee.FeatureCollection({\\n  \"type\": \"Invocation\"...</td>\n",
       "    </tr>\n",
       "    <tr>\n",
       "      <th>97</th>\n",
       "      <td>Re_Inspect_Sample_2019_Landsat</td>\n",
       "      <td>1990_1992</td>\n",
       "      <td>7</td>\n",
       "      <td>ee.Image({\\n  \"type\": \"Invocation\",\\n  \"argume...</td>\n",
       "      <td>ee.FeatureCollection({\\n  \"type\": \"Invocation\"...</td>\n",
       "    </tr>\n",
       "    <tr>\n",
       "      <th>98</th>\n",
       "      <td>Re_Inspect_Sample_2019_Landsat</td>\n",
       "      <td>1990_1992</td>\n",
       "      <td>8</td>\n",
       "      <td>ee.Image({\\n  \"type\": \"Invocation\",\\n  \"argume...</td>\n",
       "      <td>ee.FeatureCollection({\\n  \"type\": \"Invocation\"...</td>\n",
       "    </tr>\n",
       "    <tr>\n",
       "      <th>99</th>\n",
       "      <td>Re_Inspect_Sample_2019_Landsat</td>\n",
       "      <td>1990_1992</td>\n",
       "      <td>9</td>\n",
       "      <td>ee.Image({\\n  \"type\": \"Invocation\",\\n  \"argume...</td>\n",
       "      <td>ee.FeatureCollection({\\n  \"type\": \"Invocation\"...</td>\n",
       "    </tr>\n",
       "  </tbody>\n",
       "</table>\n",
       "<p>100 rows × 5 columns</p>\n",
       "</div>"
      ],
      "text/plain": [
       "               classificaiton_tpye       year  seed  \\\n",
       "0   Re_Inspect_Sample_2019_Landsat  2017_2019     0   \n",
       "1   Re_Inspect_Sample_2019_Landsat  2017_2019     1   \n",
       "2   Re_Inspect_Sample_2019_Landsat  2017_2019     2   \n",
       "3   Re_Inspect_Sample_2019_Landsat  2017_2019     3   \n",
       "4   Re_Inspect_Sample_2019_Landsat  2017_2019     4   \n",
       "..                             ...        ...   ...   \n",
       "95  Re_Inspect_Sample_2019_Landsat  1990_1992     5   \n",
       "96  Re_Inspect_Sample_2019_Landsat  1990_1992     6   \n",
       "97  Re_Inspect_Sample_2019_Landsat  1990_1992     7   \n",
       "98  Re_Inspect_Sample_2019_Landsat  1990_1992     8   \n",
       "99  Re_Inspect_Sample_2019_Landsat  1990_1992     9   \n",
       "\n",
       "                                       classified_img  \\\n",
       "0   ee.Image({\\n  \"type\": \"Invocation\",\\n  \"argume...   \n",
       "1   ee.Image({\\n  \"type\": \"Invocation\",\\n  \"argume...   \n",
       "2   ee.Image({\\n  \"type\": \"Invocation\",\\n  \"argume...   \n",
       "3   ee.Image({\\n  \"type\": \"Invocation\",\\n  \"argume...   \n",
       "4   ee.Image({\\n  \"type\": \"Invocation\",\\n  \"argume...   \n",
       "..                                                ...   \n",
       "95  ee.Image({\\n  \"type\": \"Invocation\",\\n  \"argume...   \n",
       "96  ee.Image({\\n  \"type\": \"Invocation\",\\n  \"argume...   \n",
       "97  ee.Image({\\n  \"type\": \"Invocation\",\\n  \"argume...   \n",
       "98  ee.Image({\\n  \"type\": \"Invocation\",\\n  \"argume...   \n",
       "99  ee.Image({\\n  \"type\": \"Invocation\",\\n  \"argume...   \n",
       "\n",
       "                               test_sample_classified  \n",
       "0   ee.FeatureCollection({\\n  \"type\": \"Invocation\"...  \n",
       "1   ee.FeatureCollection({\\n  \"type\": \"Invocation\"...  \n",
       "2   ee.FeatureCollection({\\n  \"type\": \"Invocation\"...  \n",
       "3   ee.FeatureCollection({\\n  \"type\": \"Invocation\"...  \n",
       "4   ee.FeatureCollection({\\n  \"type\": \"Invocation\"...  \n",
       "..                                                ...  \n",
       "95  ee.FeatureCollection({\\n  \"type\": \"Invocation\"...  \n",
       "96  ee.FeatureCollection({\\n  \"type\": \"Invocation\"...  \n",
       "97  ee.FeatureCollection({\\n  \"type\": \"Invocation\"...  \n",
       "98  ee.FeatureCollection({\\n  \"type\": \"Invocation\"...  \n",
       "99  ee.FeatureCollection({\\n  \"type\": \"Invocation\"...  \n",
       "\n",
       "[100 rows x 5 columns]"
      ]
     },
     "execution_count": 50,
     "metadata": {},
     "output_type": "execute_result"
    }
   ],
   "source": [
    "# convert classificaiton instances into a dataframe\n",
    "Classification_instances_df =  pd.DataFrame(Classificatioin_result,\n",
    "                                            columns=['classificaiton_tpye','year','seed','classified_img','test_sample_classified'])\n",
    "Classification_instances_df"
   ]
  },
  {
   "cell_type": "code",
   "execution_count": null,
   "metadata": {},
   "outputs": [],
   "source": []
  },
  {
   "cell_type": "markdown",
   "metadata": {},
   "source": [
    "#### Add one of the classified img to map"
   ]
  },
  {
   "cell_type": "code",
   "execution_count": 33,
   "metadata": {},
   "outputs": [
    {
     "data": {
      "text/plain": [
       "<ee.image.Image at 0x2340a9f26a0>"
      ]
     },
     "execution_count": 33,
     "metadata": {},
     "output_type": "execute_result"
    }
   ],
   "source": [
    "one = Classification_instances_df.iloc[0][3]\n",
    "one"
   ]
  },
  {
   "cell_type": "code",
   "execution_count": 34,
   "metadata": {},
   "outputs": [],
   "source": [
    "Full_sample_classified_img = ee.ImageCollection(\"users/wangjinzhulala/North_China_Plain_Python/classification_img/Random_2017_2019\")\\\n",
    "                               .sum()"
   ]
  },
  {
   "cell_type": "code",
   "execution_count": 35,
   "metadata": {
    "scrolled": false
   },
   "outputs": [
    {
     "data": {
      "application/vnd.jupyter.widget-view+json": {
       "model_id": "ec70688506164f0bbdc31ca9b5018f0b",
       "version_major": 2,
       "version_minor": 0
      },
      "text/plain": [
       "Map(center=[40, -100], controls=(WidgetControl(options=['position'], widget=HBox(children=(ToggleButton(value=…"
      ]
     },
     "metadata": {},
     "output_type": "display_data"
    }
   ],
   "source": [
    "Map = geemap.Map()\n",
    "Map.add_basemap('HYBRID')\n",
    "Map.addLayer(one,{'min':0,'max':1},'One')\n",
    "Map.addLayer(Full_sample_classified_img,{'min':0,'max':1},'Full_sample_classified_img')\n",
    "Map"
   ]
  },
  {
   "cell_type": "code",
   "execution_count": null,
   "metadata": {},
   "outputs": [],
   "source": []
  },
  {
   "cell_type": "code",
   "execution_count": null,
   "metadata": {},
   "outputs": [],
   "source": []
  },
  {
   "cell_type": "markdown",
   "metadata": {},
   "source": [
    "#### calculate the accuracy of each radomness"
   ]
  },
  {
   "cell_type": "code",
   "execution_count": null,
   "metadata": {},
   "outputs": [],
   "source": []
  },
  {
   "cell_type": "code",
   "execution_count": 44,
   "metadata": {
    "scrolled": true
   },
   "outputs": [
    {
     "name": "stdout",
     "output_type": "stream",
     "text": [
      "2017_2019_0-->Recall_built:92.38\n",
      "2017_2019_1-->Recall_built:92.95\n",
      "2017_2019_2-->Recall_built:93.02\n",
      "2017_2019_3-->Recall_built:94.46\n",
      "2017_2019_4-->Recall_built:94.48\n",
      "2017_2019_5-->Recall_built:94.51\n",
      "2017_2019_6-->Recall_built:93.67\n",
      "2017_2019_7-->Recall_built:94.29\n",
      "2017_2019_8-->Recall_built:92.63\n",
      "2017_2019_9-->Recall_built:94.14\n",
      "2014_2016_0-->Recall_built:93.6\n",
      "2014_2016_1-->Recall_built:94.13\n",
      "2014_2016_2-->Recall_built:94.39\n",
      "2014_2016_3-->Recall_built:94.42\n",
      "2014_2016_4-->Recall_built:93.67\n",
      "2014_2016_5-->Recall_built:93.84\n",
      "2014_2016_6-->Recall_built:94.11\n",
      "2014_2016_7-->Recall_built:93.15\n",
      "2014_2016_8-->Recall_built:93.82\n",
      "2014_2016_9-->Recall_built:94.4\n",
      "2011_2013_0-->Recall_built:92.92\n",
      "2011_2013_1-->Recall_built:93.79\n",
      "2011_2013_2-->Recall_built:94.05\n",
      "2011_2013_3-->Recall_built:92.85\n",
      "2011_2013_4-->Recall_built:93.62\n",
      "2011_2013_5-->Recall_built:93.96\n",
      "2011_2013_6-->Recall_built:95.28\n",
      "2011_2013_7-->Recall_built:94.54\n",
      "2011_2013_8-->Recall_built:93.15\n",
      "2011_2013_9-->Recall_built:92.83\n",
      "2008_2010_0-->Recall_built:93.3\n",
      "2008_2010_1-->Recall_built:93.59\n",
      "2008_2010_2-->Recall_built:93.92\n",
      "2008_2010_3-->Recall_built:93.55\n",
      "2008_2010_4-->Recall_built:90.72\n",
      "2008_2010_5-->Recall_built:93.04\n",
      "2008_2010_6-->Recall_built:93.18\n",
      "2008_2010_7-->Recall_built:92.29\n",
      "2008_2010_8-->Recall_built:92.89\n",
      "2008_2010_9-->Recall_built:91.86\n",
      "2005_2007_0-->Recall_built:93.93\n",
      "2005_2007_1-->Recall_built:92.46\n",
      "2005_2007_2-->Recall_built:93.53\n",
      "2005_2007_3-->Recall_built:93.3\n",
      "2005_2007_4-->Recall_built:92.7\n",
      "2005_2007_5-->Recall_built:93.37\n",
      "2005_2007_6-->Recall_built:94.05\n",
      "2005_2007_7-->Recall_built:92.34\n",
      "2005_2007_8-->Recall_built:93.83\n",
      "2005_2007_9-->Recall_built:94.65\n",
      "2002_2004_0-->Recall_built:92.65\n",
      "2002_2004_1-->Recall_built:92.69\n",
      "2002_2004_2-->Recall_built:92.05\n",
      "2002_2004_3-->Recall_built:93.99\n",
      "2002_2004_4-->Recall_built:92.78\n",
      "2002_2004_5-->Recall_built:92.7\n",
      "2002_2004_6-->Recall_built:93.19\n",
      "2002_2004_7-->Recall_built:92.06\n",
      "2002_2004_8-->Recall_built:92.04\n",
      "2002_2004_9-->Recall_built:92.57\n",
      "1999_2001_0-->Recall_built:92.22\n",
      "1999_2001_1-->Recall_built:93.56\n",
      "1999_2001_2-->Recall_built:92.58\n",
      "1999_2001_3-->Recall_built:92.23\n",
      "1999_2001_4-->Recall_built:93.4\n",
      "1999_2001_5-->Recall_built:93.5\n",
      "1999_2001_6-->Recall_built:92.61\n",
      "1999_2001_7-->Recall_built:91.99\n",
      "1999_2001_8-->Recall_built:92.88\n",
      "1999_2001_9-->Recall_built:91.46\n",
      "1996_1998_0-->Recall_built:92.04\n",
      "1996_1998_1-->Recall_built:92.0\n",
      "1996_1998_2-->Recall_built:93.48\n",
      "1996_1998_3-->Recall_built:93.66\n",
      "1996_1998_4-->Recall_built:92.35\n",
      "1996_1998_5-->Recall_built:92.42\n",
      "1996_1998_6-->Recall_built:92.61\n",
      "1996_1998_7-->Recall_built:92.98\n",
      "1996_1998_8-->Recall_built:93.16\n",
      "1996_1998_9-->Recall_built:92.82\n",
      "1993_1995_0-->Recall_built:92.29\n",
      "1993_1995_1-->Recall_built:92.67\n",
      "1993_1995_2-->Recall_built:92.41\n",
      "1993_1995_3-->Recall_built:91.52\n",
      "1993_1995_4-->Recall_built:91.97\n",
      "1993_1995_5-->Recall_built:93.36\n",
      "1993_1995_6-->Recall_built:93.07\n",
      "1993_1995_7-->Recall_built:93.23\n",
      "1993_1995_8-->Recall_built:92.95\n",
      "1993_1995_9-->Recall_built:92.07\n",
      "1990_1992_0-->Recall_built:93.12\n",
      "1990_1992_1-->Recall_built:91.83\n",
      "1990_1992_2-->Recall_built:93.5\n",
      "1990_1992_3-->Recall_built:92.0\n",
      "1990_1992_4-->Recall_built:92.24\n",
      "1990_1992_5-->Recall_built:92.2\n",
      "1990_1992_6-->Recall_built:92.26\n",
      "1990_1992_7-->Recall_built:93.16\n",
      "1990_1992_8-->Recall_built:89.59\n",
      "1990_1992_9-->Recall_built:91.35\n"
     ]
    }
   ],
   "source": [
    "acc = []\n",
    "\n",
    "# calculate the accuracy of differnet randomness\n",
    "for i in Classificatioin_result:\n",
    "    \n",
    "    accuracy = Accuracy_assesment(i[4]).Stp_1_Calculate_Accuracy()\n",
    "    acc.append(accuracy)\n",
    "    \n",
    "    key = 'Recall_built'\n",
    "    print(f'{i[1]}_{i[2]}-->Recall_built:{accuracy[key]}')"
   ]
  },
  {
   "cell_type": "code",
   "execution_count": null,
   "metadata": {},
   "outputs": [],
   "source": []
  },
  {
   "cell_type": "code",
   "execution_count": 48,
   "metadata": {},
   "outputs": [
    {
     "data": {
      "text/html": [
       "<div>\n",
       "<style scoped>\n",
       "    .dataframe tbody tr th:only-of-type {\n",
       "        vertical-align: middle;\n",
       "    }\n",
       "\n",
       "    .dataframe tbody tr th {\n",
       "        vertical-align: top;\n",
       "    }\n",
       "\n",
       "    .dataframe thead th {\n",
       "        text-align: right;\n",
       "    }\n",
       "</style>\n",
       "<table border=\"1\" class=\"dataframe\">\n",
       "  <thead>\n",
       "    <tr style=\"text-align: right;\">\n",
       "      <th></th>\n",
       "      <th>year</th>\n",
       "      <th>seed</th>\n",
       "      <th>Overall_ACC</th>\n",
       "      <th>Precisioin_non_built</th>\n",
       "      <th>Precisioin_built</th>\n",
       "      <th>Recall_non_built</th>\n",
       "      <th>Recall_built</th>\n",
       "    </tr>\n",
       "  </thead>\n",
       "  <tbody>\n",
       "    <tr>\n",
       "      <th>0</th>\n",
       "      <td>2017_2019</td>\n",
       "      <td>0</td>\n",
       "      <td>92.66</td>\n",
       "      <td>92.09</td>\n",
       "      <td>93.21</td>\n",
       "      <td>92.95</td>\n",
       "      <td>92.38</td>\n",
       "    </tr>\n",
       "    <tr>\n",
       "      <th>1</th>\n",
       "      <td>2017_2019</td>\n",
       "      <td>1</td>\n",
       "      <td>93.76</td>\n",
       "      <td>93.22</td>\n",
       "      <td>94.32</td>\n",
       "      <td>94.54</td>\n",
       "      <td>92.95</td>\n",
       "    </tr>\n",
       "    <tr>\n",
       "      <th>2</th>\n",
       "      <td>2017_2019</td>\n",
       "      <td>2</td>\n",
       "      <td>93.72</td>\n",
       "      <td>93.38</td>\n",
       "      <td>94.07</td>\n",
       "      <td>94.38</td>\n",
       "      <td>93.02</td>\n",
       "    </tr>\n",
       "    <tr>\n",
       "      <th>3</th>\n",
       "      <td>2017_2019</td>\n",
       "      <td>3</td>\n",
       "      <td>94.63</td>\n",
       "      <td>94.56</td>\n",
       "      <td>94.70</td>\n",
       "      <td>94.80</td>\n",
       "      <td>94.46</td>\n",
       "    </tr>\n",
       "    <tr>\n",
       "      <th>4</th>\n",
       "      <td>2017_2019</td>\n",
       "      <td>4</td>\n",
       "      <td>93.84</td>\n",
       "      <td>94.21</td>\n",
       "      <td>93.50</td>\n",
       "      <td>93.18</td>\n",
       "      <td>94.48</td>\n",
       "    </tr>\n",
       "    <tr>\n",
       "      <th>...</th>\n",
       "      <td>...</td>\n",
       "      <td>...</td>\n",
       "      <td>...</td>\n",
       "      <td>...</td>\n",
       "      <td>...</td>\n",
       "      <td>...</td>\n",
       "      <td>...</td>\n",
       "    </tr>\n",
       "    <tr>\n",
       "      <th>95</th>\n",
       "      <td>1990_1992</td>\n",
       "      <td>5</td>\n",
       "      <td>92.76</td>\n",
       "      <td>92.40</td>\n",
       "      <td>93.14</td>\n",
       "      <td>93.32</td>\n",
       "      <td>92.20</td>\n",
       "    </tr>\n",
       "    <tr>\n",
       "      <th>96</th>\n",
       "      <td>1990_1992</td>\n",
       "      <td>6</td>\n",
       "      <td>93.17</td>\n",
       "      <td>92.37</td>\n",
       "      <td>94.00</td>\n",
       "      <td>94.08</td>\n",
       "      <td>92.26</td>\n",
       "    </tr>\n",
       "    <tr>\n",
       "      <th>97</th>\n",
       "      <td>1990_1992</td>\n",
       "      <td>7</td>\n",
       "      <td>93.25</td>\n",
       "      <td>93.34</td>\n",
       "      <td>93.16</td>\n",
       "      <td>93.34</td>\n",
       "      <td>93.16</td>\n",
       "    </tr>\n",
       "    <tr>\n",
       "      <th>98</th>\n",
       "      <td>1990_1992</td>\n",
       "      <td>8</td>\n",
       "      <td>91.30</td>\n",
       "      <td>89.69</td>\n",
       "      <td>93.00</td>\n",
       "      <td>93.07</td>\n",
       "      <td>89.59</td>\n",
       "    </tr>\n",
       "    <tr>\n",
       "      <th>99</th>\n",
       "      <td>1990_1992</td>\n",
       "      <td>9</td>\n",
       "      <td>92.85</td>\n",
       "      <td>91.22</td>\n",
       "      <td>94.52</td>\n",
       "      <td>94.43</td>\n",
       "      <td>91.35</td>\n",
       "    </tr>\n",
       "  </tbody>\n",
       "</table>\n",
       "<p>100 rows × 7 columns</p>\n",
       "</div>"
      ],
      "text/plain": [
       "         year  seed  Overall_ACC  Precisioin_non_built  Precisioin_built  \\\n",
       "0   2017_2019     0        92.66                 92.09             93.21   \n",
       "1   2017_2019     1        93.76                 93.22             94.32   \n",
       "2   2017_2019     2        93.72                 93.38             94.07   \n",
       "3   2017_2019     3        94.63                 94.56             94.70   \n",
       "4   2017_2019     4        93.84                 94.21             93.50   \n",
       "..        ...   ...          ...                   ...               ...   \n",
       "95  1990_1992     5        92.76                 92.40             93.14   \n",
       "96  1990_1992     6        93.17                 92.37             94.00   \n",
       "97  1990_1992     7        93.25                 93.34             93.16   \n",
       "98  1990_1992     8        91.30                 89.69             93.00   \n",
       "99  1990_1992     9        92.85                 91.22             94.52   \n",
       "\n",
       "    Recall_non_built  Recall_built  \n",
       "0              92.95         92.38  \n",
       "1              94.54         92.95  \n",
       "2              94.38         93.02  \n",
       "3              94.80         94.46  \n",
       "4              93.18         94.48  \n",
       "..               ...           ...  \n",
       "95             93.32         92.20  \n",
       "96             94.08         92.26  \n",
       "97             93.34         93.16  \n",
       "98             93.07         89.59  \n",
       "99             94.43         91.35  \n",
       "\n",
       "[100 rows x 7 columns]"
      ]
     },
     "execution_count": 48,
     "metadata": {},
     "output_type": "execute_result"
    }
   ],
   "source": [
    "# # store the acc_df to local drive\n",
    "# acc_df = pd.concat([Classification_instances_df[['year','seed']],pd.DataFrame(acc)],axis=1)\n",
    "# acc_df.to_csv('./Step_2_Result/Randome_Sentinel_Re_Inspect_Accuracy.csv',index=False)\n",
    "\n",
    "# access the acc_df\n",
    "acc_df = pd.read_csv('./Step_2_Result/Randome_Sentinel_Re_Inspect_Accuracy.csv',)\n",
    "acc_df"
   ]
  },
  {
   "cell_type": "code",
   "execution_count": null,
   "metadata": {},
   "outputs": [],
   "source": []
  },
  {
   "cell_type": "code",
   "execution_count": 46,
   "metadata": {},
   "outputs": [
    {
     "data": {
      "text/plain": [
       "<matplotlib.axes._subplots.AxesSubplot at 0x7f24eb5cecc0>"
      ]
     },
     "execution_count": 46,
     "metadata": {},
     "output_type": "execute_result"
    },
    {
     "data": {
      "image/png": "[encoded data removed]",
      "text/plain": [
       "<Figure size 864x576 with 1 Axes>"
      ]
     },
     "metadata": {
      "needs_background": "light"
     },
     "output_type": "display_data"
    }
   ],
   "source": [
    "plt.figure(figsize=(12,8))\n",
    "sns.lineplot(x='year',y='Overall_ACC',data=acc_df)"
   ]
  },
  {
   "cell_type": "code",
   "execution_count": null,
   "metadata": {},
   "outputs": [],
   "source": []
  },
  {
   "cell_type": "markdown",
   "metadata": {},
   "source": [
    "##### Export the classified_img"
   ]
  },
  {
   "cell_type": "code",
   "execution_count": null,
   "metadata": {},
   "outputs": [],
   "source": []
  },
  {
   "cell_type": "code",
   "execution_count": 51,
   "metadata": {},
   "outputs": [
    {
     "data": {
      "text/html": [
       "<div>\n",
       "<style scoped>\n",
       "    .dataframe tbody tr th:only-of-type {\n",
       "        vertical-align: middle;\n",
       "    }\n",
       "\n",
       "    .dataframe tbody tr th {\n",
       "        vertical-align: top;\n",
       "    }\n",
       "\n",
       "    .dataframe thead th {\n",
       "        text-align: right;\n",
       "    }\n",
       "</style>\n",
       "<table border=\"1\" class=\"dataframe\">\n",
       "  <thead>\n",
       "    <tr style=\"text-align: right;\">\n",
       "      <th></th>\n",
       "      <th>classificaiton_tpye</th>\n",
       "      <th>year</th>\n",
       "      <th>seed</th>\n",
       "      <th>classified_img</th>\n",
       "      <th>test_sample_classified</th>\n",
       "    </tr>\n",
       "  </thead>\n",
       "  <tbody>\n",
       "    <tr>\n",
       "      <th>0</th>\n",
       "      <td>Re_Inspect_Sample_2019_Landsat</td>\n",
       "      <td>2017_2019</td>\n",
       "      <td>0</td>\n",
       "      <td>ee.Image({\\n  \"type\": \"Invocation\",\\n  \"argume...</td>\n",
       "      <td>ee.FeatureCollection({\\n  \"type\": \"Invocation\"...</td>\n",
       "    </tr>\n",
       "    <tr>\n",
       "      <th>1</th>\n",
       "      <td>Re_Inspect_Sample_2019_Landsat</td>\n",
       "      <td>2017_2019</td>\n",
       "      <td>1</td>\n",
       "      <td>ee.Image({\\n  \"type\": \"Invocation\",\\n  \"argume...</td>\n",
       "      <td>ee.FeatureCollection({\\n  \"type\": \"Invocation\"...</td>\n",
       "    </tr>\n",
       "    <tr>\n",
       "      <th>2</th>\n",
       "      <td>Re_Inspect_Sample_2019_Landsat</td>\n",
       "      <td>2017_2019</td>\n",
       "      <td>2</td>\n",
       "      <td>ee.Image({\\n  \"type\": \"Invocation\",\\n  \"argume...</td>\n",
       "      <td>ee.FeatureCollection({\\n  \"type\": \"Invocation\"...</td>\n",
       "    </tr>\n",
       "    <tr>\n",
       "      <th>3</th>\n",
       "      <td>Re_Inspect_Sample_2019_Landsat</td>\n",
       "      <td>2017_2019</td>\n",
       "      <td>3</td>\n",
       "      <td>ee.Image({\\n  \"type\": \"Invocation\",\\n  \"argume...</td>\n",
       "      <td>ee.FeatureCollection({\\n  \"type\": \"Invocation\"...</td>\n",
       "    </tr>\n",
       "    <tr>\n",
       "      <th>4</th>\n",
       "      <td>Re_Inspect_Sample_2019_Landsat</td>\n",
       "      <td>2017_2019</td>\n",
       "      <td>4</td>\n",
       "      <td>ee.Image({\\n  \"type\": \"Invocation\",\\n  \"argume...</td>\n",
       "      <td>ee.FeatureCollection({\\n  \"type\": \"Invocation\"...</td>\n",
       "    </tr>\n",
       "    <tr>\n",
       "      <th>...</th>\n",
       "      <td>...</td>\n",
       "      <td>...</td>\n",
       "      <td>...</td>\n",
       "      <td>...</td>\n",
       "      <td>...</td>\n",
       "    </tr>\n",
       "    <tr>\n",
       "      <th>95</th>\n",
       "      <td>Re_Inspect_Sample_2019_Landsat</td>\n",
       "      <td>1990_1992</td>\n",
       "      <td>5</td>\n",
       "      <td>ee.Image({\\n  \"type\": \"Invocation\",\\n  \"argume...</td>\n",
       "      <td>ee.FeatureCollection({\\n  \"type\": \"Invocation\"...</td>\n",
       "    </tr>\n",
       "    <tr>\n",
       "      <th>96</th>\n",
       "      <td>Re_Inspect_Sample_2019_Landsat</td>\n",
       "      <td>1990_1992</td>\n",
       "      <td>6</td>\n",
       "      <td>ee.Image({\\n  \"type\": \"Invocation\",\\n  \"argume...</td>\n",
       "      <td>ee.FeatureCollection({\\n  \"type\": \"Invocation\"...</td>\n",
       "    </tr>\n",
       "    <tr>\n",
       "      <th>97</th>\n",
       "      <td>Re_Inspect_Sample_2019_Landsat</td>\n",
       "      <td>1990_1992</td>\n",
       "      <td>7</td>\n",
       "      <td>ee.Image({\\n  \"type\": \"Invocation\",\\n  \"argume...</td>\n",
       "      <td>ee.FeatureCollection({\\n  \"type\": \"Invocation\"...</td>\n",
       "    </tr>\n",
       "    <tr>\n",
       "      <th>98</th>\n",
       "      <td>Re_Inspect_Sample_2019_Landsat</td>\n",
       "      <td>1990_1992</td>\n",
       "      <td>8</td>\n",
       "      <td>ee.Image({\\n  \"type\": \"Invocation\",\\n  \"argume...</td>\n",
       "      <td>ee.FeatureCollection({\\n  \"type\": \"Invocation\"...</td>\n",
       "    </tr>\n",
       "    <tr>\n",
       "      <th>99</th>\n",
       "      <td>Re_Inspect_Sample_2019_Landsat</td>\n",
       "      <td>1990_1992</td>\n",
       "      <td>9</td>\n",
       "      <td>ee.Image({\\n  \"type\": \"Invocation\",\\n  \"argume...</td>\n",
       "      <td>ee.FeatureCollection({\\n  \"type\": \"Invocation\"...</td>\n",
       "    </tr>\n",
       "  </tbody>\n",
       "</table>\n",
       "<p>100 rows × 5 columns</p>\n",
       "</div>"
      ],
      "text/plain": [
       "               classificaiton_tpye       year  seed  \\\n",
       "0   Re_Inspect_Sample_2019_Landsat  2017_2019     0   \n",
       "1   Re_Inspect_Sample_2019_Landsat  2017_2019     1   \n",
       "2   Re_Inspect_Sample_2019_Landsat  2017_2019     2   \n",
       "3   Re_Inspect_Sample_2019_Landsat  2017_2019     3   \n",
       "4   Re_Inspect_Sample_2019_Landsat  2017_2019     4   \n",
       "..                             ...        ...   ...   \n",
       "95  Re_Inspect_Sample_2019_Landsat  1990_1992     5   \n",
       "96  Re_Inspect_Sample_2019_Landsat  1990_1992     6   \n",
       "97  Re_Inspect_Sample_2019_Landsat  1990_1992     7   \n",
       "98  Re_Inspect_Sample_2019_Landsat  1990_1992     8   \n",
       "99  Re_Inspect_Sample_2019_Landsat  1990_1992     9   \n",
       "\n",
       "                                       classified_img  \\\n",
       "0   ee.Image({\\n  \"type\": \"Invocation\",\\n  \"argume...   \n",
       "1   ee.Image({\\n  \"type\": \"Invocation\",\\n  \"argume...   \n",
       "2   ee.Image({\\n  \"type\": \"Invocation\",\\n  \"argume...   \n",
       "3   ee.Image({\\n  \"type\": \"Invocation\",\\n  \"argume...   \n",
       "4   ee.Image({\\n  \"type\": \"Invocation\",\\n  \"argume...   \n",
       "..                                                ...   \n",
       "95  ee.Image({\\n  \"type\": \"Invocation\",\\n  \"argume...   \n",
       "96  ee.Image({\\n  \"type\": \"Invocation\",\\n  \"argume...   \n",
       "97  ee.Image({\\n  \"type\": \"Invocation\",\\n  \"argume...   \n",
       "98  ee.Image({\\n  \"type\": \"Invocation\",\\n  \"argume...   \n",
       "99  ee.Image({\\n  \"type\": \"Invocation\",\\n  \"argume...   \n",
       "\n",
       "                               test_sample_classified  \n",
       "0   ee.FeatureCollection({\\n  \"type\": \"Invocation\"...  \n",
       "1   ee.FeatureCollection({\\n  \"type\": \"Invocation\"...  \n",
       "2   ee.FeatureCollection({\\n  \"type\": \"Invocation\"...  \n",
       "3   ee.FeatureCollection({\\n  \"type\": \"Invocation\"...  \n",
       "4   ee.FeatureCollection({\\n  \"type\": \"Invocation\"...  \n",
       "..                                                ...  \n",
       "95  ee.FeatureCollection({\\n  \"type\": \"Invocation\"...  \n",
       "96  ee.FeatureCollection({\\n  \"type\": \"Invocation\"...  \n",
       "97  ee.FeatureCollection({\\n  \"type\": \"Invocation\"...  \n",
       "98  ee.FeatureCollection({\\n  \"type\": \"Invocation\"...  \n",
       "99  ee.FeatureCollection({\\n  \"type\": \"Invocation\"...  \n",
       "\n",
       "[100 rows x 5 columns]"
      ]
     },
     "execution_count": 51,
     "metadata": {},
     "output_type": "execute_result"
    }
   ],
   "source": [
    "Classification_instances_df"
   ]
  },
  {
   "cell_type": "code",
   "execution_count": 53,
   "metadata": {
    "scrolled": true
   },
   "outputs": [
    {
     "name": "stdout",
     "output_type": "stream",
     "text": [
      "Exporting Re_Inspect_Sample_2019_Landsat_2017_2019_0 successful!\n",
      "Exporting Re_Inspect_Sample_2019_Landsat_2017_2019_1 successful!\n",
      "Exporting Re_Inspect_Sample_2019_Landsat_2017_2019_2 successful!\n",
      "Exporting Re_Inspect_Sample_2019_Landsat_2017_2019_3 successful!\n",
      "Exporting Re_Inspect_Sample_2019_Landsat_2017_2019_4 successful!\n",
      "Exporting Re_Inspect_Sample_2019_Landsat_2017_2019_5 successful!\n",
      "Exporting Re_Inspect_Sample_2019_Landsat_2017_2019_6 successful!\n",
      "Exporting Re_Inspect_Sample_2019_Landsat_2017_2019_7 successful!\n",
      "Exporting Re_Inspect_Sample_2019_Landsat_2017_2019_8 successful!\n",
      "Exporting Re_Inspect_Sample_2019_Landsat_2017_2019_9 successful!\n",
      "Exporting Re_Inspect_Sample_2019_Landsat_2014_2016_0 successful!\n",
      "Exporting Re_Inspect_Sample_2019_Landsat_2014_2016_1 successful!\n",
      "Exporting Re_Inspect_Sample_2019_Landsat_2014_2016_2 successful!\n",
      "Exporting Re_Inspect_Sample_2019_Landsat_2014_2016_3 successful!\n",
      "Exporting Re_Inspect_Sample_2019_Landsat_2014_2016_4 successful!\n",
      "Exporting Re_Inspect_Sample_2019_Landsat_2014_2016_5 successful!\n",
      "Exporting Re_Inspect_Sample_2019_Landsat_2014_2016_6 successful!\n",
      "Exporting Re_Inspect_Sample_2019_Landsat_2014_2016_7 successful!\n",
      "Exporting Re_Inspect_Sample_2019_Landsat_2014_2016_8 successful!\n",
      "Exporting Re_Inspect_Sample_2019_Landsat_2014_2016_9 successful!\n",
      "Exporting Re_Inspect_Sample_2019_Landsat_2011_2013_0 successful!\n",
      "Exporting Re_Inspect_Sample_2019_Landsat_2011_2013_1 successful!\n",
      "Exporting Re_Inspect_Sample_2019_Landsat_2011_2013_2 successful!\n",
      "Exporting Re_Inspect_Sample_2019_Landsat_2011_2013_3 successful!\n",
      "Exporting Re_Inspect_Sample_2019_Landsat_2011_2013_4 successful!\n",
      "Exporting Re_Inspect_Sample_2019_Landsat_2011_2013_5 successful!\n",
      "Exporting Re_Inspect_Sample_2019_Landsat_2011_2013_6 successful!\n",
      "Exporting Re_Inspect_Sample_2019_Landsat_2011_2013_7 successful!\n",
      "Exporting Re_Inspect_Sample_2019_Landsat_2011_2013_8 successful!\n",
      "Exporting Re_Inspect_Sample_2019_Landsat_2011_2013_9 successful!\n",
      "Exporting Re_Inspect_Sample_2019_Landsat_2008_2010_0 successful!\n",
      "Exporting Re_Inspect_Sample_2019_Landsat_2008_2010_1 successful!\n",
      "Exporting Re_Inspect_Sample_2019_Landsat_2008_2010_2 successful!\n",
      "Exporting Re_Inspect_Sample_2019_Landsat_2008_2010_3 successful!\n",
      "Exporting Re_Inspect_Sample_2019_Landsat_2008_2010_4 successful!\n",
      "Exporting Re_Inspect_Sample_2019_Landsat_2008_2010_5 successful!\n",
      "Exporting Re_Inspect_Sample_2019_Landsat_2008_2010_6 successful!\n",
      "Exporting Re_Inspect_Sample_2019_Landsat_2008_2010_7 successful!\n",
      "Exporting Re_Inspect_Sample_2019_Landsat_2008_2010_8 successful!\n",
      "Exporting Re_Inspect_Sample_2019_Landsat_2008_2010_9 successful!\n",
      "Exporting Re_Inspect_Sample_2019_Landsat_2005_2007_0 successful!\n",
      "Exporting Re_Inspect_Sample_2019_Landsat_2005_2007_1 successful!\n",
      "Exporting Re_Inspect_Sample_2019_Landsat_2005_2007_2 successful!\n",
      "Exporting Re_Inspect_Sample_2019_Landsat_2005_2007_3 successful!\n",
      "Exporting Re_Inspect_Sample_2019_Landsat_2005_2007_4 successful!\n",
      "Exporting Re_Inspect_Sample_2019_Landsat_2005_2007_5 successful!\n",
      "Exporting Re_Inspect_Sample_2019_Landsat_2005_2007_6 successful!\n",
      "Exporting Re_Inspect_Sample_2019_Landsat_2005_2007_7 successful!\n",
      "Exporting Re_Inspect_Sample_2019_Landsat_2005_2007_8 successful!\n",
      "Exporting Re_Inspect_Sample_2019_Landsat_2005_2007_9 successful!\n",
      "Exporting Re_Inspect_Sample_2019_Landsat_2002_2004_0 successful!\n",
      "Exporting Re_Inspect_Sample_2019_Landsat_2002_2004_1 successful!\n",
      "Exporting Re_Inspect_Sample_2019_Landsat_2002_2004_2 successful!\n",
      "Exporting Re_Inspect_Sample_2019_Landsat_2002_2004_3 successful!\n",
      "Exporting Re_Inspect_Sample_2019_Landsat_2002_2004_4 successful!\n",
      "Exporting Re_Inspect_Sample_2019_Landsat_2002_2004_5 successful!\n",
      "Exporting Re_Inspect_Sample_2019_Landsat_2002_2004_6 successful!\n",
      "Exporting Re_Inspect_Sample_2019_Landsat_2002_2004_7 successful!\n",
      "Exporting Re_Inspect_Sample_2019_Landsat_2002_2004_8 successful!\n",
      "Exporting Re_Inspect_Sample_2019_Landsat_2002_2004_9 successful!\n",
      "Exporting Re_Inspect_Sample_2019_Landsat_1999_2001_0 successful!\n",
      "Exporting Re_Inspect_Sample_2019_Landsat_1999_2001_1 successful!\n",
      "Exporting Re_Inspect_Sample_2019_Landsat_1999_2001_2 successful!\n",
      "Exporting Re_Inspect_Sample_2019_Landsat_1999_2001_3 successful!\n",
      "Exporting Re_Inspect_Sample_2019_Landsat_1999_2001_4 successful!\n",
      "Exporting Re_Inspect_Sample_2019_Landsat_1999_2001_5 successful!\n",
      "Exporting Re_Inspect_Sample_2019_Landsat_1999_2001_6 successful!\n",
      "Exporting Re_Inspect_Sample_2019_Landsat_1999_2001_7 successful!\n",
      "Exporting Re_Inspect_Sample_2019_Landsat_1999_2001_8 successful!\n",
      "Exporting Re_Inspect_Sample_2019_Landsat_1999_2001_9 successful!\n",
      "Exporting Re_Inspect_Sample_2019_Landsat_1996_1998_0 successful!\n",
      "Exporting Re_Inspect_Sample_2019_Landsat_1996_1998_1 successful!\n",
      "Exporting Re_Inspect_Sample_2019_Landsat_1996_1998_2 successful!\n",
      "Exporting Re_Inspect_Sample_2019_Landsat_1996_1998_3 successful!\n",
      "Exporting Re_Inspect_Sample_2019_Landsat_1996_1998_4 successful!\n",
      "Exporting Re_Inspect_Sample_2019_Landsat_1996_1998_5 successful!\n",
      "Exporting Re_Inspect_Sample_2019_Landsat_1996_1998_6 successful!\n",
      "Exporting Re_Inspect_Sample_2019_Landsat_1996_1998_7 successful!\n",
      "Exporting Re_Inspect_Sample_2019_Landsat_1996_1998_8 successful!\n",
      "Exporting Re_Inspect_Sample_2019_Landsat_1996_1998_9 successful!\n",
      "Exporting Re_Inspect_Sample_2019_Landsat_1993_1995_0 successful!\n",
      "Exporting Re_Inspect_Sample_2019_Landsat_1993_1995_1 successful!\n",
      "Exporting Re_Inspect_Sample_2019_Landsat_1993_1995_2 successful!\n",
      "Exporting Re_Inspect_Sample_2019_Landsat_1993_1995_3 successful!\n",
      "Exporting Re_Inspect_Sample_2019_Landsat_1993_1995_4 successful!\n",
      "Exporting Re_Inspect_Sample_2019_Landsat_1993_1995_5 successful!\n",
      "Exporting Re_Inspect_Sample_2019_Landsat_1993_1995_6 successful!\n",
      "Exporting Re_Inspect_Sample_2019_Landsat_1993_1995_7 successful!\n",
      "Exporting Re_Inspect_Sample_2019_Landsat_1993_1995_8 successful!\n",
      "Exporting Re_Inspect_Sample_2019_Landsat_1993_1995_9 successful!\n",
      "Exporting Re_Inspect_Sample_2019_Landsat_1990_1992_0 successful!\n",
      "Exporting Re_Inspect_Sample_2019_Landsat_1990_1992_1 successful!\n",
      "Exporting Re_Inspect_Sample_2019_Landsat_1990_1992_2 successful!\n",
      "Exporting Re_Inspect_Sample_2019_Landsat_1990_1992_3 successful!\n",
      "Exporting Re_Inspect_Sample_2019_Landsat_1990_1992_4 successful!\n",
      "Exporting Re_Inspect_Sample_2019_Landsat_1990_1992_5 successful!\n",
      "Exporting Re_Inspect_Sample_2019_Landsat_1990_1992_6 successful!\n",
      "Exporting Re_Inspect_Sample_2019_Landsat_1990_1992_7 successful!\n",
      "Exporting Re_Inspect_Sample_2019_Landsat_1990_1992_8 successful!\n",
      "Exporting Re_Inspect_Sample_2019_Landsat_1990_1992_9 successful!\n"
     ]
    }
   ],
   "source": [
    "for item in Classificatioin_result:\n",
    "     \n",
    "    Classification_type = item[0]\n",
    "    year = item[1]\n",
    "    seed = item[2]\n",
    "    img  = item[3]\n",
    "    \n",
    "    \n",
    "    export_name = f'{Classification_type}_{year}_{seed}'\n",
    "    \n",
    "#     # export to Google Storage\n",
    "#     task = ee.batch.Export.image.toCloudStorage(image          = img,\n",
    "#                                                 description    = export_name,\n",
    "#                                                 bucket         = 'north_china_plain',\n",
    "#                                                 fileNamePrefix = export_name,\n",
    "#                                                 region         = North_China_Plain.geometry().bounds(),\n",
    "#                                                 scale          = 30,\n",
    "#                                                 maxPixels      = int(1e13),\n",
    "#                                                 skipEmptyTiles = True)\n",
    "    \n",
    "    #export to GEE asset\n",
    "    asset_path = f'users/Jinzhu_Deakin/North_China_Plain/Classified_img/{Classification_type}_{year}'\n",
    "    \n",
    "    task = ee.batch.Export.image.toAsset(   image          = img,\n",
    "                                            description    = export_name,\n",
    "                                            assetId        = f'{asset_path}/{export_name}',\n",
    "                                            region         = North_China_Plain.geometry().bounds(),\n",
    "                                            scale          = 30,\n",
    "                                            maxPixels      = int(1e13)) \n",
    "    \n",
    "    task.start()\n",
    "    \n",
    "    print(f'Exporting {export_name} successful!')"
   ]
  },
  {
   "cell_type": "code",
   "execution_count": null,
   "metadata": {},
   "outputs": [],
   "source": []
  },
  {
   "cell_type": "code",
   "execution_count": null,
   "metadata": {},
   "outputs": [],
   "source": []
  },
  {
   "cell_type": "code",
   "execution_count": null,
   "metadata": {},
   "outputs": [],
   "source": []
  },
  {
   "cell_type": "code",
   "execution_count": null,
   "metadata": {},
   "outputs": [],
   "source": []
  },
  {
   "cell_type": "code",
   "execution_count": null,
   "metadata": {},
   "outputs": [],
   "source": []
  },
  {
   "cell_type": "code",
   "execution_count": null,
   "metadata": {},
   "outputs": [],
   "source": []
  },
  {
   "cell_type": "code",
   "execution_count": null,
   "metadata": {},
   "outputs": [],
   "source": []
  },
  {
   "cell_type": "code",
   "execution_count": null,
   "metadata": {},
   "outputs": [],
   "source": []
  },
  {
   "cell_type": "code",
   "execution_count": null,
   "metadata": {},
   "outputs": [],
   "source": []
  },
  {
   "cell_type": "code",
   "execution_count": null,
   "metadata": {},
   "outputs": [],
   "source": []
  },
  {
   "cell_type": "code",
   "execution_count": null,
   "metadata": {},
   "outputs": [],
   "source": []
  },
  {
   "cell_type": "code",
   "execution_count": null,
   "metadata": {},
   "outputs": [],
   "source": []
  },
  {
   "cell_type": "code",
   "execution_count": null,
   "metadata": {},
   "outputs": [],
   "source": []
  },
  {
   "cell_type": "code",
   "execution_count": null,
   "metadata": {},
   "outputs": [],
   "source": []
  },
  {
   "cell_type": "code",
   "execution_count": null,
   "metadata": {},
   "outputs": [],
   "source": []
  },
  {
   "cell_type": "code",
   "execution_count": null,
   "metadata": {},
   "outputs": [],
   "source": []
  },
  {
   "cell_type": "code",
   "execution_count": null,
   "metadata": {},
   "outputs": [],
   "source": []
  },
  {
   "cell_type": "code",
   "execution_count": null,
   "metadata": {},
   "outputs": [],
   "source": []
  },
  {
   "cell_type": "code",
   "execution_count": null,
   "metadata": {},
   "outputs": [],
   "source": []
  },
  {
   "cell_type": "code",
   "execution_count": null,
   "metadata": {},
   "outputs": [],
   "source": []
  },
  {
   "cell_type": "code",
   "execution_count": null,
   "metadata": {},
   "outputs": [],
   "source": []
  }
 ],
 "metadata": {
  "kernelspec": {
   "display_name": "Python 3",
   "language": "python",
   "name": "python3"
  },
  "language_info": {
   "codemirror_mode": {
    "name": "ipython",
    "version": 3
   },
   "file_extension": ".py",
   "mimetype": "text/x-python",
   "name": "python",
   "nbconvert_exporter": "python",
   "pygments_lexer": "ipython3",
   "version": "3.6.10"
  }
 },
 "nbformat": 4,
 "nbformat_minor": 2
}
