{
 "cells": [
  {
   "cell_type": "code",
   "execution_count": 1,
   "metadata": {},
   "outputs": [],
   "source": [
    "import ee\n",
    "import datetime\n",
    "import os\n",
    "import itertools\n",
    "import sys\n",
    "import re\n",
    "\n",
    "import pandas as pd\n",
    "import numpy as np\n",
    "import seaborn as sns\n",
    "import matplotlib.pyplot as plt\n",
    "\n",
    "import geemap\n",
    "\n",
    "import subprocess\n",
    "from subprocess import PIPE"
   ]
  },
  {
   "cell_type": "code",
   "execution_count": 2,
   "metadata": {},
   "outputs": [],
   "source": [
    "ee.Initialize()"
   ]
  },
  {
   "cell_type": "code",
   "execution_count": 3,
   "metadata": {},
   "outputs": [],
   "source": [
    "# append upper folder into sys-path during run time so we can\n",
    "# import our own moduls\n",
    "sys.path.append('..')"
   ]
  },
  {
   "cell_type": "code",
   "execution_count": 4,
   "metadata": {},
   "outputs": [],
   "source": [
    "from BackGround_modules.Class_2_Classify_Fourier_Img   import Classification\n",
    "from BackGround_modules.Class_3_Calculate_the_accuracy import Accuracy_assesment"
   ]
  },
  {
   "cell_type": "code",
   "execution_count": null,
   "metadata": {},
   "outputs": [],
   "source": []
  },
  {
   "cell_type": "markdown",
   "metadata": {},
   "source": [
    "##### Prepare basic parameters"
   ]
  },
  {
   "cell_type": "code",
   "execution_count": 5,
   "metadata": {},
   "outputs": [],
   "source": [
    "# define the years to be classified\n",
    "year_name  = list([f'{span[0]}_{span[1]}' for span in zip(range(1990,2020,3),range(1992,2020,3)) ])\n",
    "\n",
    "# define the number of total periods\n",
    "num_invarient = 10\n",
    "\n",
    "# import north_china_plain boundary\n",
    "North_China_Plain = ee.FeatureCollection(\"users/wangjinzhulala/North_China_Plain_Python/Boundary_shp/North_China_Plain_Boundary\")"
   ]
  },
  {
   "cell_type": "code",
   "execution_count": 6,
   "metadata": {},
   "outputs": [
    {
     "data": {
      "text/plain": [
       "['1990_1992',\n",
       " '1993_1995',\n",
       " '1996_1998',\n",
       " '1999_2001',\n",
       " '2002_2004',\n",
       " '2005_2007',\n",
       " '2008_2010',\n",
       " '2011_2013',\n",
       " '2014_2016',\n",
       " '2017_2019']"
      ]
     },
     "execution_count": 6,
     "metadata": {},
     "output_type": "execute_result"
    }
   ],
   "source": [
    "year_name"
   ]
  },
  {
   "cell_type": "code",
   "execution_count": null,
   "metadata": {},
   "outputs": [],
   "source": []
  },
  {
   "cell_type": "markdown",
   "metadata": {},
   "source": [
    "##### Prepare input_image for classification"
   ]
  },
  {
   "cell_type": "code",
   "execution_count": null,
   "metadata": {},
   "outputs": [],
   "source": []
  },
  {
   "cell_type": "code",
   "execution_count": 7,
   "metadata": {},
   "outputs": [],
   "source": [
    "# prepare the climate data\n",
    "Climate_type = ['lrad','prec','pres','shum','srad','temp','wind']\n",
    "Climate_mean = []\n",
    "\n",
    "for year in range(1990,2019,3):   \n",
    "    \n",
    "    # define the three years according to year-variable\n",
    "    year_start = year\n",
    "    year_mid   = year + 1\n",
    "    year_end   = year + 2\n",
    "    \n",
    "    # Initiate an empty list to hold the climate-tifs-mean from year_start to year_end\n",
    "    climate_tifs_mean = []\n",
    "    \n",
    "    # compute the mean-tif of each climate-type\n",
    "    for i in Climate_type:\n",
    "\n",
    "        # Because cliate_data doesn't include data of 2019, so \n",
    "        # use if to exclede the data of year 2019\n",
    "        if year < 2017:\n",
    "            climate_tifs = [ee.Image(f\"users/wangjinzhulala/North_China_Plain_Python/Climate_data/{i}/{i}_{t}\")                        \n",
    "                            for t in [year_start,year_mid,year_end]]\n",
    "            tifs_mean    = ee.ImageCollection(climate_tifs).mean().toFloat().rename(i)\n",
    "\n",
    "        else:\n",
    "            climate_tifs = [ee.Image(f\"users/wangjinzhulala/North_China_Plain_Python/Climate_data/{i}/{i}_{t}\")                        \n",
    "                            for t in [year_start,year_mid]]\n",
    "\n",
    "            tifs_mean    = ee.ImageCollection(climate_tifs).mean().toFloat().rename(i)\n",
    "\n",
    "        # add all climate_tifs_mean of year_start to year_end to list\n",
    "        climate_tifs_mean.append(tifs_mean)\n",
    "        climate_tifs_mean_img = ee.Image(climate_tifs_mean)\n",
    "        \n",
    "\n",
    "    # add the mean-cliamte-img into the Climate_mean\n",
    "    Climate_mean.append(climate_tifs_mean_img)"
   ]
  },
  {
   "cell_type": "code",
   "execution_count": null,
   "metadata": {},
   "outputs": [],
   "source": []
  },
  {
   "cell_type": "code",
   "execution_count": 8,
   "metadata": {},
   "outputs": [],
   "source": [
    "# import Landsat img\n",
    "Landsat_img = [ee.Image(f\"users/wang8052664/Cloud_Free_Img/Landsat_cloud_free_{year}\")\\\n",
    "                 .clip(North_China_Plain)  for year in year_name]\n",
    "\n",
    "# import Fourier img   \n",
    "Fourier_img = [ee.Image(f\"users/Jinzhu_Deakin/North_China_Plain/Fourier_img_harmonic_3/Fourier_img_{year}_harmonic_3\")\\\n",
    "                 .clip(North_China_Plain)  for year in year_name[:5]] + \\\n",
    "              [ee.Image(f\"users/wang8052664/North_China_Plain/Fourier_imgs/Fourier_img_{year}_harmonic_3\")\\\n",
    "                 .clip(North_China_Plain)  for year in year_name[5:]] \n",
    "\n",
    "# Import the Index-mean Img\n",
    "NDVI_img = [ee.Image(f\"users/wensomone666/Jinzhu/Mean_NDVI/Year_{year}_Mean_NDVI\").rename('Mean_NDVI')  \n",
    "            for year in year_name ]\n",
    "NDBI_img = [ee.Image(f\"users/wensomone666/Jinzhu/Mean_NDVI/Year_{year}_Mean_NDBI\").rename('Mean_NDBI')  \n",
    "            for year in year_name ]\n",
    "EVI_img  = [ee.Image(f\"users/wensomone666/Jinzhu/Mean_NDVI/Year_{year}_Mean_EVI\").rename('Mean_EVI')  \n",
    "            for year in year_name ]\n",
    "\n",
    "# Import DEM/SLOPE Img\n",
    "DEM   = [ee.Image(\"USGS/SRTMGL1_003\").rename('DEM')] * num_invarient\n",
    "SLOPE = [ee.Terrain.slope(DEM).rename('SLOPE')] * num_invarient"
   ]
  },
  {
   "cell_type": "code",
   "execution_count": null,
   "metadata": {},
   "outputs": [],
   "source": []
  },
  {
   "cell_type": "code",
   "execution_count": 9,
   "metadata": {},
   "outputs": [],
   "source": [
    "# stack all Imput_Img together\n",
    "Stack_img = [ee.Image(img) for img in zip(Landsat_img,Fourier_img,NDVI_img,NDBI_img,EVI_img,Climate_mean,DEM,SLOPE)]"
   ]
  },
  {
   "cell_type": "code",
   "execution_count": null,
   "metadata": {},
   "outputs": [],
   "source": []
  },
  {
   "cell_type": "markdown",
   "metadata": {},
   "source": [
    "##### Prepare input sample points"
   ]
  },
  {
   "cell_type": "code",
   "execution_count": null,
   "metadata": {},
   "outputs": [],
   "source": []
  },
  {
   "cell_type": "code",
   "execution_count": 10,
   "metadata": {},
   "outputs": [],
   "source": [
    "# Define the path to Sample_pt\n",
    "path = 'users/wangjinzhulala/North_China_Plain_Python/Sample_extract_img'\n",
    "\n",
    "# Get the training sample\n",
    "Training_sample = [ee.FeatureCollection(f\"{path}/Control_sample_ext_img_{year}\")\n",
    "                     for year in year_name]"
   ]
  },
  {
   "cell_type": "code",
   "execution_count": null,
   "metadata": {},
   "outputs": [],
   "source": []
  },
  {
   "cell_type": "markdown",
   "metadata": {},
   "source": [
    "##### Stack input_img and input_sample together"
   ]
  },
  {
   "cell_type": "code",
   "execution_count": 14,
   "metadata": {},
   "outputs": [],
   "source": [
    "# first put all inputs together\n",
    "stack_name   = ['Control'] * num_invarient\n",
    "\n",
    "stack_year   = year_name \n",
    "stack_img    = Stack_img \n",
    "stack_sample = Training_sample \n",
    "\n",
    "# stack all ingredients together\n",
    "Stack_img_sample = list(zip(stack_name,stack_year,stack_img,stack_sample))"
   ]
  },
  {
   "cell_type": "code",
   "execution_count": null,
   "metadata": {},
   "outputs": [],
   "source": []
  },
  {
   "cell_type": "markdown",
   "metadata": {},
   "source": [
    "#### Create the classification instances"
   ]
  },
  {
   "cell_type": "code",
   "execution_count": null,
   "metadata": {},
   "outputs": [],
   "source": []
  },
  {
   "cell_type": "code",
   "execution_count": 15,
   "metadata": {},
   "outputs": [],
   "source": [
    "# A two-layer loop to generate 10-randome-split layers for each year-period\n",
    "\n",
    "Classificatioin_result = []\n",
    "\n",
    "# The first-layer loop to go througth each year-periods\n",
    "for input_variable in Stack_img_sample:\n",
    "    \n",
    "    classificaiton_tpye = input_variable[0]\n",
    "    year                = input_variable[1]\n",
    "    input_img           = input_variable[2]\n",
    "    sample_pt           = input_variable[3]    \n",
    "    input_band          = input_img.bandNames().getInfo()\n",
    "\n",
    "    # The second-layer to go through each-randomnes\n",
    "    for seed in range(10):\n",
    "        \n",
    "        # Instatiate the class with a name.\n",
    "        classification = Classification(year_name      = year,\n",
    "                                        Verified_point = sample_pt,\n",
    "                                        Input_img      = input_img,\n",
    "                                        Input_band     = input_band,\n",
    "                                        Tree_num       = 100,\n",
    "                                        seed           = seed,\n",
    "                                        Zone_sample    = None,\n",
    "                                        classProperty  = 'Built')\n",
    "\n",
    "\n",
    "        # perform the classification on Input_img and Samples\n",
    "        classification.Stp_1_Classification_on_img()\n",
    "        classification.Stp_2_Classification_on_Samples()\n",
    "\n",
    "        # Get the classified img\n",
    "        classified_img = classification.classification_img\n",
    "\n",
    "        # Get the classified samples\n",
    "        train_sample_classified = classification.Train_sample_classification\n",
    "        test_sample_classified  = classification.Test_sample_classification\n",
    "\n",
    "        # add classfication into the list\n",
    "        Classificatioin_result.append((classificaiton_tpye,year,seed,classified_img,test_sample_classified))"
   ]
  },
  {
   "cell_type": "code",
   "execution_count": null,
   "metadata": {},
   "outputs": [],
   "source": []
  },
  {
   "cell_type": "code",
   "execution_count": 16,
   "metadata": {
    "scrolled": true
   },
   "outputs": [
    {
     "data": {
      "text/html": [
       "<div>\n",
       "<style scoped>\n",
       "    .dataframe tbody tr th:only-of-type {\n",
       "        vertical-align: middle;\n",
       "    }\n",
       "\n",
       "    .dataframe tbody tr th {\n",
       "        vertical-align: top;\n",
       "    }\n",
       "\n",
       "    .dataframe thead th {\n",
       "        text-align: right;\n",
       "    }\n",
       "</style>\n",
       "<table border=\"1\" class=\"dataframe\">\n",
       "  <thead>\n",
       "    <tr style=\"text-align: right;\">\n",
       "      <th></th>\n",
       "      <th>classificaiton_tpye</th>\n",
       "      <th>year</th>\n",
       "      <th>seed</th>\n",
       "      <th>classified_img</th>\n",
       "      <th>test_sample_classified</th>\n",
       "    </tr>\n",
       "  </thead>\n",
       "  <tbody>\n",
       "    <tr>\n",
       "      <th>0</th>\n",
       "      <td>Control</td>\n",
       "      <td>1990_1992</td>\n",
       "      <td>0</td>\n",
       "      <td>ee.Image({\\n  \"type\": \"Invocation\",\\n  \"argume...</td>\n",
       "      <td>ee.FeatureCollection({\\n  \"type\": \"Invocation\"...</td>\n",
       "    </tr>\n",
       "    <tr>\n",
       "      <th>1</th>\n",
       "      <td>Control</td>\n",
       "      <td>1990_1992</td>\n",
       "      <td>1</td>\n",
       "      <td>ee.Image({\\n  \"type\": \"Invocation\",\\n  \"argume...</td>\n",
       "      <td>ee.FeatureCollection({\\n  \"type\": \"Invocation\"...</td>\n",
       "    </tr>\n",
       "    <tr>\n",
       "      <th>2</th>\n",
       "      <td>Control</td>\n",
       "      <td>1990_1992</td>\n",
       "      <td>2</td>\n",
       "      <td>ee.Image({\\n  \"type\": \"Invocation\",\\n  \"argume...</td>\n",
       "      <td>ee.FeatureCollection({\\n  \"type\": \"Invocation\"...</td>\n",
       "    </tr>\n",
       "    <tr>\n",
       "      <th>3</th>\n",
       "      <td>Control</td>\n",
       "      <td>1990_1992</td>\n",
       "      <td>3</td>\n",
       "      <td>ee.Image({\\n  \"type\": \"Invocation\",\\n  \"argume...</td>\n",
       "      <td>ee.FeatureCollection({\\n  \"type\": \"Invocation\"...</td>\n",
       "    </tr>\n",
       "    <tr>\n",
       "      <th>4</th>\n",
       "      <td>Control</td>\n",
       "      <td>1990_1992</td>\n",
       "      <td>4</td>\n",
       "      <td>ee.Image({\\n  \"type\": \"Invocation\",\\n  \"argume...</td>\n",
       "      <td>ee.FeatureCollection({\\n  \"type\": \"Invocation\"...</td>\n",
       "    </tr>\n",
       "    <tr>\n",
       "      <th>...</th>\n",
       "      <td>...</td>\n",
       "      <td>...</td>\n",
       "      <td>...</td>\n",
       "      <td>...</td>\n",
       "      <td>...</td>\n",
       "    </tr>\n",
       "    <tr>\n",
       "      <th>95</th>\n",
       "      <td>Control</td>\n",
       "      <td>2017_2019</td>\n",
       "      <td>5</td>\n",
       "      <td>ee.Image({\\n  \"type\": \"Invocation\",\\n  \"argume...</td>\n",
       "      <td>ee.FeatureCollection({\\n  \"type\": \"Invocation\"...</td>\n",
       "    </tr>\n",
       "    <tr>\n",
       "      <th>96</th>\n",
       "      <td>Control</td>\n",
       "      <td>2017_2019</td>\n",
       "      <td>6</td>\n",
       "      <td>ee.Image({\\n  \"type\": \"Invocation\",\\n  \"argume...</td>\n",
       "      <td>ee.FeatureCollection({\\n  \"type\": \"Invocation\"...</td>\n",
       "    </tr>\n",
       "    <tr>\n",
       "      <th>97</th>\n",
       "      <td>Control</td>\n",
       "      <td>2017_2019</td>\n",
       "      <td>7</td>\n",
       "      <td>ee.Image({\\n  \"type\": \"Invocation\",\\n  \"argume...</td>\n",
       "      <td>ee.FeatureCollection({\\n  \"type\": \"Invocation\"...</td>\n",
       "    </tr>\n",
       "    <tr>\n",
       "      <th>98</th>\n",
       "      <td>Control</td>\n",
       "      <td>2017_2019</td>\n",
       "      <td>8</td>\n",
       "      <td>ee.Image({\\n  \"type\": \"Invocation\",\\n  \"argume...</td>\n",
       "      <td>ee.FeatureCollection({\\n  \"type\": \"Invocation\"...</td>\n",
       "    </tr>\n",
       "    <tr>\n",
       "      <th>99</th>\n",
       "      <td>Control</td>\n",
       "      <td>2017_2019</td>\n",
       "      <td>9</td>\n",
       "      <td>ee.Image({\\n  \"type\": \"Invocation\",\\n  \"argume...</td>\n",
       "      <td>ee.FeatureCollection({\\n  \"type\": \"Invocation\"...</td>\n",
       "    </tr>\n",
       "  </tbody>\n",
       "</table>\n",
       "<p>100 rows × 5 columns</p>\n",
       "</div>"
      ],
      "text/plain": [
       "   classificaiton_tpye       year  seed  \\\n",
       "0              Control  1990_1992     0   \n",
       "1              Control  1990_1992     1   \n",
       "2              Control  1990_1992     2   \n",
       "3              Control  1990_1992     3   \n",
       "4              Control  1990_1992     4   \n",
       "..                 ...        ...   ...   \n",
       "95             Control  2017_2019     5   \n",
       "96             Control  2017_2019     6   \n",
       "97             Control  2017_2019     7   \n",
       "98             Control  2017_2019     8   \n",
       "99             Control  2017_2019     9   \n",
       "\n",
       "                                       classified_img  \\\n",
       "0   ee.Image({\\n  \"type\": \"Invocation\",\\n  \"argume...   \n",
       "1   ee.Image({\\n  \"type\": \"Invocation\",\\n  \"argume...   \n",
       "2   ee.Image({\\n  \"type\": \"Invocation\",\\n  \"argume...   \n",
       "3   ee.Image({\\n  \"type\": \"Invocation\",\\n  \"argume...   \n",
       "4   ee.Image({\\n  \"type\": \"Invocation\",\\n  \"argume...   \n",
       "..                                                ...   \n",
       "95  ee.Image({\\n  \"type\": \"Invocation\",\\n  \"argume...   \n",
       "96  ee.Image({\\n  \"type\": \"Invocation\",\\n  \"argume...   \n",
       "97  ee.Image({\\n  \"type\": \"Invocation\",\\n  \"argume...   \n",
       "98  ee.Image({\\n  \"type\": \"Invocation\",\\n  \"argume...   \n",
       "99  ee.Image({\\n  \"type\": \"Invocation\",\\n  \"argume...   \n",
       "\n",
       "                               test_sample_classified  \n",
       "0   ee.FeatureCollection({\\n  \"type\": \"Invocation\"...  \n",
       "1   ee.FeatureCollection({\\n  \"type\": \"Invocation\"...  \n",
       "2   ee.FeatureCollection({\\n  \"type\": \"Invocation\"...  \n",
       "3   ee.FeatureCollection({\\n  \"type\": \"Invocation\"...  \n",
       "4   ee.FeatureCollection({\\n  \"type\": \"Invocation\"...  \n",
       "..                                                ...  \n",
       "95  ee.FeatureCollection({\\n  \"type\": \"Invocation\"...  \n",
       "96  ee.FeatureCollection({\\n  \"type\": \"Invocation\"...  \n",
       "97  ee.FeatureCollection({\\n  \"type\": \"Invocation\"...  \n",
       "98  ee.FeatureCollection({\\n  \"type\": \"Invocation\"...  \n",
       "99  ee.FeatureCollection({\\n  \"type\": \"Invocation\"...  \n",
       "\n",
       "[100 rows x 5 columns]"
      ]
     },
     "execution_count": 16,
     "metadata": {},
     "output_type": "execute_result"
    }
   ],
   "source": [
    "# convert classificaiton instances into a dataframe\n",
    "Classification_instances_df =  pd.DataFrame(Classificatioin_result,\n",
    "                                            columns=['classificaiton_tpye','year','seed','classified_img','test_sample_classified'])\n",
    "Classification_instances_df"
   ]
  },
  {
   "cell_type": "code",
   "execution_count": null,
   "metadata": {},
   "outputs": [],
   "source": []
  },
  {
   "cell_type": "markdown",
   "metadata": {},
   "source": [
    "#### Add one of the classified img to map"
   ]
  },
  {
   "cell_type": "code",
   "execution_count": 17,
   "metadata": {},
   "outputs": [
    {
     "data": {
      "text/plain": [
       "<ee.image.Image at 0x20fc6daafd0>"
      ]
     },
     "execution_count": 17,
     "metadata": {},
     "output_type": "execute_result"
    }
   ],
   "source": [
    "one = Classification_instances_df.iloc[0][3]\n",
    "one"
   ]
  },
  {
   "cell_type": "code",
   "execution_count": 18,
   "metadata": {},
   "outputs": [],
   "source": [
    "Full_sample_classified_img = ee.ImageCollection(\"users/wangjinzhulala/North_China_Plain_Python/classification_img/Random_1990_1992\")\\\n",
    "                               .sum()"
   ]
  },
  {
   "cell_type": "code",
   "execution_count": 19,
   "metadata": {
    "scrolled": false
   },
   "outputs": [
    {
     "data": {
      "application/vnd.jupyter.widget-view+json": {
       "model_id": "ff1682fc6e7c49aaa70aa2750d8a3cfd",
       "version_major": 2,
       "version_minor": 0
      },
      "text/plain": [
       "Map(center=[40, -100], controls=(WidgetControl(options=['position'], widget=HBox(children=(ToggleButton(value=…"
      ]
     },
     "metadata": {},
     "output_type": "display_data"
    }
   ],
   "source": [
    "Map = geemap.Map()\n",
    "Map.add_basemap('HYBRID')\n",
    "Map.addLayer(one,{'min':0,'max':1},'One')\n",
    "Map.addLayer(Full_sample_classified_img,{'min':0,'max':1},'Full_sample_classified_img')\n",
    "Map"
   ]
  },
  {
   "cell_type": "code",
   "execution_count": null,
   "metadata": {},
   "outputs": [],
   "source": []
  },
  {
   "cell_type": "code",
   "execution_count": null,
   "metadata": {},
   "outputs": [],
   "source": []
  },
  {
   "cell_type": "markdown",
   "metadata": {},
   "source": [
    "#### calculate the accuracy of each radomness"
   ]
  },
  {
   "cell_type": "code",
   "execution_count": null,
   "metadata": {},
   "outputs": [],
   "source": []
  },
  {
   "cell_type": "code",
   "execution_count": 22,
   "metadata": {
    "scrolled": true
   },
   "outputs": [
    {
     "name": "stdout",
     "output_type": "stream",
     "text": [
      "1990_1992_0-->Recall_built:94.05\n",
      "1990_1992_1-->Recall_built:95.58\n",
      "1990_1992_2-->Recall_built:95.08\n",
      "1990_1992_3-->Recall_built:94.11\n",
      "1990_1992_4-->Recall_built:95.24\n",
      "1990_1992_5-->Recall_built:94.99\n",
      "1990_1992_6-->Recall_built:95.51\n",
      "1990_1992_7-->Recall_built:95.19\n",
      "1990_1992_8-->Recall_built:95.24\n",
      "1990_1992_9-->Recall_built:95.78\n",
      "1993_1995_0-->Recall_built:93.9\n",
      "1993_1995_1-->Recall_built:93.94\n",
      "1993_1995_2-->Recall_built:94.97\n",
      "1993_1995_3-->Recall_built:93.67\n",
      "1993_1995_4-->Recall_built:93.41\n",
      "1993_1995_5-->Recall_built:93.73\n",
      "1993_1995_6-->Recall_built:94.23\n",
      "1993_1995_7-->Recall_built:94.48\n",
      "1993_1995_8-->Recall_built:93.89\n",
      "1993_1995_9-->Recall_built:93.86\n",
      "1996_1998_0-->Recall_built:94.61\n",
      "1996_1998_1-->Recall_built:94.48\n",
      "1996_1998_2-->Recall_built:94.55\n",
      "1996_1998_3-->Recall_built:93.97\n",
      "1996_1998_4-->Recall_built:92.82\n",
      "1996_1998_5-->Recall_built:95.32\n",
      "1996_1998_6-->Recall_built:94.41\n",
      "1996_1998_7-->Recall_built:95.09\n",
      "1996_1998_8-->Recall_built:91.37\n",
      "1996_1998_9-->Recall_built:93.65\n",
      "1999_2001_0-->Recall_built:93.3\n",
      "1999_2001_1-->Recall_built:93.08\n",
      "1999_2001_2-->Recall_built:93.12\n",
      "1999_2001_3-->Recall_built:92.76\n",
      "1999_2001_4-->Recall_built:92.9\n",
      "1999_2001_5-->Recall_built:93.6\n",
      "1999_2001_6-->Recall_built:94.45\n",
      "1999_2001_7-->Recall_built:94.1\n",
      "1999_2001_8-->Recall_built:92.86\n",
      "1999_2001_9-->Recall_built:92.83\n",
      "2002_2004_0-->Recall_built:92.47\n",
      "2002_2004_1-->Recall_built:92.24\n",
      "2002_2004_2-->Recall_built:93.41\n",
      "2002_2004_3-->Recall_built:93.96\n",
      "2002_2004_4-->Recall_built:93.21\n",
      "2002_2004_5-->Recall_built:93.66\n",
      "2002_2004_6-->Recall_built:92.53\n",
      "2002_2004_7-->Recall_built:91.94\n",
      "2002_2004_8-->Recall_built:92.31\n",
      "2002_2004_9-->Recall_built:92.25\n",
      "2005_2007_0-->Recall_built:93.69\n",
      "2005_2007_1-->Recall_built:93.33\n",
      "2005_2007_2-->Recall_built:94.45\n",
      "2005_2007_3-->Recall_built:94.14\n",
      "2005_2007_4-->Recall_built:95.21\n",
      "2005_2007_5-->Recall_built:93.0\n",
      "2005_2007_6-->Recall_built:94.89\n",
      "2005_2007_7-->Recall_built:92.32\n",
      "2005_2007_8-->Recall_built:93.7\n",
      "2005_2007_9-->Recall_built:91.97\n",
      "2008_2010_0-->Recall_built:91.69\n",
      "2008_2010_1-->Recall_built:93.91\n",
      "2008_2010_2-->Recall_built:92.61\n",
      "2008_2010_3-->Recall_built:91.81\n",
      "2008_2010_4-->Recall_built:92.01\n",
      "2008_2010_5-->Recall_built:92.99\n",
      "2008_2010_6-->Recall_built:92.49\n",
      "2008_2010_7-->Recall_built:93.37\n",
      "2008_2010_8-->Recall_built:92.82\n",
      "2008_2010_9-->Recall_built:92.14\n",
      "2011_2013_0-->Recall_built:93.07\n",
      "2011_2013_1-->Recall_built:93.44\n",
      "2011_2013_2-->Recall_built:93.64\n",
      "2011_2013_3-->Recall_built:92.05\n",
      "2011_2013_4-->Recall_built:92.45\n",
      "2011_2013_5-->Recall_built:92.35\n",
      "2011_2013_6-->Recall_built:91.35\n",
      "2011_2013_7-->Recall_built:92.33\n",
      "2011_2013_8-->Recall_built:93.09\n",
      "2011_2013_9-->Recall_built:93.5\n",
      "2014_2016_0-->Recall_built:92.75\n",
      "2014_2016_1-->Recall_built:92.73\n",
      "2014_2016_2-->Recall_built:91.54\n",
      "2014_2016_3-->Recall_built:91.94\n",
      "2014_2016_4-->Recall_built:92.73\n",
      "2014_2016_5-->Recall_built:92.53\n",
      "2014_2016_6-->Recall_built:91.32\n",
      "2014_2016_7-->Recall_built:92.5\n",
      "2014_2016_8-->Recall_built:91.61\n",
      "2014_2016_9-->Recall_built:93.89\n",
      "2017_2019_0-->Recall_built:92.26\n",
      "2017_2019_1-->Recall_built:91.17\n",
      "2017_2019_2-->Recall_built:91.72\n",
      "2017_2019_3-->Recall_built:92.71\n",
      "2017_2019_4-->Recall_built:92.25\n",
      "2017_2019_5-->Recall_built:92.22\n",
      "2017_2019_6-->Recall_built:92.47\n",
      "2017_2019_7-->Recall_built:91.85\n",
      "2017_2019_8-->Recall_built:92.31\n",
      "2017_2019_9-->Recall_built:91.96\n"
     ]
    }
   ],
   "source": [
    "acc = []\n",
    "\n",
    "# calculate the accuracy of differnet randomness\n",
    "for i in Classificatioin_result:\n",
    "    \n",
    "    accuracy = Accuracy_assesment(i[4]).Stp_1_Calculate_Accuracy()\n",
    "    acc.append(accuracy)\n",
    "    \n",
    "    key = 'Recall_built'\n",
    "    print(f'{i[1]}_{i[2]}-->Recall_built:{accuracy[key]}')"
   ]
  },
  {
   "cell_type": "code",
   "execution_count": null,
   "metadata": {},
   "outputs": [],
   "source": []
  },
  {
   "cell_type": "code",
   "execution_count": 23,
   "metadata": {
    "scrolled": true
   },
   "outputs": [
    {
     "data": {
      "text/html": [
       "<div>\n",
       "<style scoped>\n",
       "    .dataframe tbody tr th:only-of-type {\n",
       "        vertical-align: middle;\n",
       "    }\n",
       "\n",
       "    .dataframe tbody tr th {\n",
       "        vertical-align: top;\n",
       "    }\n",
       "\n",
       "    .dataframe thead th {\n",
       "        text-align: right;\n",
       "    }\n",
       "</style>\n",
       "<table border=\"1\" class=\"dataframe\">\n",
       "  <thead>\n",
       "    <tr style=\"text-align: right;\">\n",
       "      <th></th>\n",
       "      <th>year</th>\n",
       "      <th>seed</th>\n",
       "      <th>Overall_ACC</th>\n",
       "      <th>Precisioin_non_built</th>\n",
       "      <th>Precisioin_built</th>\n",
       "      <th>Recall_non_built</th>\n",
       "      <th>Recall_built</th>\n",
       "    </tr>\n",
       "  </thead>\n",
       "  <tbody>\n",
       "    <tr>\n",
       "      <th>0</th>\n",
       "      <td>1990_1992</td>\n",
       "      <td>0</td>\n",
       "      <td>94.51</td>\n",
       "      <td>94.09</td>\n",
       "      <td>94.93</td>\n",
       "      <td>94.96</td>\n",
       "      <td>94.05</td>\n",
       "    </tr>\n",
       "    <tr>\n",
       "      <th>1</th>\n",
       "      <td>1990_1992</td>\n",
       "      <td>1</td>\n",
       "      <td>95.21</td>\n",
       "      <td>95.31</td>\n",
       "      <td>95.12</td>\n",
       "      <td>94.82</td>\n",
       "      <td>95.58</td>\n",
       "    </tr>\n",
       "    <tr>\n",
       "      <th>2</th>\n",
       "      <td>1990_1992</td>\n",
       "      <td>2</td>\n",
       "      <td>94.85</td>\n",
       "      <td>94.70</td>\n",
       "      <td>95.00</td>\n",
       "      <td>94.61</td>\n",
       "      <td>95.08</td>\n",
       "    </tr>\n",
       "    <tr>\n",
       "      <th>3</th>\n",
       "      <td>1990_1992</td>\n",
       "      <td>3</td>\n",
       "      <td>94.62</td>\n",
       "      <td>94.26</td>\n",
       "      <td>94.99</td>\n",
       "      <td>95.12</td>\n",
       "      <td>94.11</td>\n",
       "    </tr>\n",
       "    <tr>\n",
       "      <th>4</th>\n",
       "      <td>1990_1992</td>\n",
       "      <td>4</td>\n",
       "      <td>94.86</td>\n",
       "      <td>95.06</td>\n",
       "      <td>94.67</td>\n",
       "      <td>94.48</td>\n",
       "      <td>95.24</td>\n",
       "    </tr>\n",
       "    <tr>\n",
       "      <th>...</th>\n",
       "      <td>...</td>\n",
       "      <td>...</td>\n",
       "      <td>...</td>\n",
       "      <td>...</td>\n",
       "      <td>...</td>\n",
       "      <td>...</td>\n",
       "      <td>...</td>\n",
       "    </tr>\n",
       "    <tr>\n",
       "      <th>95</th>\n",
       "      <td>2017_2019</td>\n",
       "      <td>5</td>\n",
       "      <td>92.31</td>\n",
       "      <td>92.48</td>\n",
       "      <td>92.14</td>\n",
       "      <td>92.40</td>\n",
       "      <td>92.22</td>\n",
       "    </tr>\n",
       "    <tr>\n",
       "      <th>96</th>\n",
       "      <td>2017_2019</td>\n",
       "      <td>6</td>\n",
       "      <td>92.93</td>\n",
       "      <td>92.75</td>\n",
       "      <td>93.11</td>\n",
       "      <td>93.37</td>\n",
       "      <td>92.47</td>\n",
       "    </tr>\n",
       "    <tr>\n",
       "      <th>97</th>\n",
       "      <td>2017_2019</td>\n",
       "      <td>7</td>\n",
       "      <td>92.38</td>\n",
       "      <td>92.14</td>\n",
       "      <td>92.64</td>\n",
       "      <td>92.90</td>\n",
       "      <td>91.85</td>\n",
       "    </tr>\n",
       "    <tr>\n",
       "      <th>98</th>\n",
       "      <td>2017_2019</td>\n",
       "      <td>8</td>\n",
       "      <td>93.17</td>\n",
       "      <td>92.52</td>\n",
       "      <td>93.86</td>\n",
       "      <td>94.03</td>\n",
       "      <td>92.31</td>\n",
       "    </tr>\n",
       "    <tr>\n",
       "      <th>99</th>\n",
       "      <td>2017_2019</td>\n",
       "      <td>9</td>\n",
       "      <td>92.63</td>\n",
       "      <td>92.26</td>\n",
       "      <td>93.01</td>\n",
       "      <td>93.27</td>\n",
       "      <td>91.96</td>\n",
       "    </tr>\n",
       "  </tbody>\n",
       "</table>\n",
       "<p>100 rows × 7 columns</p>\n",
       "</div>"
      ],
      "text/plain": [
       "         year  seed  Overall_ACC  Precisioin_non_built  Precisioin_built  \\\n",
       "0   1990_1992     0        94.51                 94.09             94.93   \n",
       "1   1990_1992     1        95.21                 95.31             95.12   \n",
       "2   1990_1992     2        94.85                 94.70             95.00   \n",
       "3   1990_1992     3        94.62                 94.26             94.99   \n",
       "4   1990_1992     4        94.86                 95.06             94.67   \n",
       "..        ...   ...          ...                   ...               ...   \n",
       "95  2017_2019     5        92.31                 92.48             92.14   \n",
       "96  2017_2019     6        92.93                 92.75             93.11   \n",
       "97  2017_2019     7        92.38                 92.14             92.64   \n",
       "98  2017_2019     8        93.17                 92.52             93.86   \n",
       "99  2017_2019     9        92.63                 92.26             93.01   \n",
       "\n",
       "    Recall_non_built  Recall_built  \n",
       "0              94.96         94.05  \n",
       "1              94.82         95.58  \n",
       "2              94.61         95.08  \n",
       "3              95.12         94.11  \n",
       "4              94.48         95.24  \n",
       "..               ...           ...  \n",
       "95             92.40         92.22  \n",
       "96             93.37         92.47  \n",
       "97             92.90         91.85  \n",
       "98             94.03         92.31  \n",
       "99             93.27         91.96  \n",
       "\n",
       "[100 rows x 7 columns]"
      ]
     },
     "execution_count": 23,
     "metadata": {},
     "output_type": "execute_result"
    }
   ],
   "source": [
    "# # store the acc_df to local drive\n",
    "# acc_df = pd.concat([Classification_instances_df[['year','seed']],pd.DataFrame(acc)],axis=1)\n",
    "# acc_df.to_csv('./Step_2_Result/Randome_Control_Accuracy.csv',index=False)\n",
    "\n",
    "# access the acc_df\n",
    "acc_df = pd.read_csv('./Step_2_Result/Randome_Control_Accuracy.csv',)\n",
    "acc_df"
   ]
  },
  {
   "cell_type": "code",
   "execution_count": null,
   "metadata": {},
   "outputs": [],
   "source": []
  },
  {
   "cell_type": "code",
   "execution_count": 28,
   "metadata": {},
   "outputs": [
    {
     "data": {
      "text/plain": [
       "<matplotlib.axes._subplots.AxesSubplot at 0x20fc6c88048>"
      ]
     },
     "execution_count": 28,
     "metadata": {},
     "output_type": "execute_result"
    },
    {
     "data": {
      "image/png": "[encoded data removed]",
      "text/plain": [
       "<Figure size 864x576 with 1 Axes>"
      ]
     },
     "metadata": {
      "needs_background": "light"
     },
     "output_type": "display_data"
    }
   ],
   "source": [
    "plt.figure(figsize=(12,8))\n",
    "sns.lineplot(x='year',y='Overall_ACC',data=acc_df)"
   ]
  },
  {
   "cell_type": "code",
   "execution_count": null,
   "metadata": {},
   "outputs": [],
   "source": []
  },
  {
   "cell_type": "markdown",
   "metadata": {},
   "source": [
    "##### Export the classified_img"
   ]
  },
  {
   "cell_type": "code",
   "execution_count": null,
   "metadata": {},
   "outputs": [],
   "source": []
  },
  {
   "cell_type": "code",
   "execution_count": 21,
   "metadata": {
    "scrolled": true
   },
   "outputs": [
    {
     "name": "stdout",
     "output_type": "stream",
     "text": [
      "Exporting Control_1990_1992_0 successful!\n",
      "Exporting Control_1990_1992_1 successful!\n",
      "Exporting Control_1990_1992_2 successful!\n",
      "Exporting Control_1990_1992_3 successful!\n",
      "Exporting Control_1990_1992_4 successful!\n",
      "Exporting Control_1990_1992_5 successful!\n",
      "Exporting Control_1990_1992_6 successful!\n",
      "Exporting Control_1990_1992_7 successful!\n",
      "Exporting Control_1990_1992_8 successful!\n",
      "Exporting Control_1990_1992_9 successful!\n",
      "Exporting Control_1993_1995_0 successful!\n",
      "Exporting Control_1993_1995_1 successful!\n",
      "Exporting Control_1993_1995_2 successful!\n",
      "Exporting Control_1993_1995_3 successful!\n",
      "Exporting Control_1993_1995_4 successful!\n",
      "Exporting Control_1993_1995_5 successful!\n",
      "Exporting Control_1993_1995_6 successful!\n",
      "Exporting Control_1993_1995_7 successful!\n",
      "Exporting Control_1993_1995_8 successful!\n",
      "Exporting Control_1993_1995_9 successful!\n",
      "Exporting Control_1996_1998_0 successful!\n",
      "Exporting Control_1996_1998_1 successful!\n",
      "Exporting Control_1996_1998_2 successful!\n",
      "Exporting Control_1996_1998_3 successful!\n",
      "Exporting Control_1996_1998_4 successful!\n",
      "Exporting Control_1996_1998_5 successful!\n",
      "Exporting Control_1996_1998_6 successful!\n",
      "Exporting Control_1996_1998_7 successful!\n",
      "Exporting Control_1996_1998_8 successful!\n",
      "Exporting Control_1996_1998_9 successful!\n",
      "Exporting Control_1999_2001_0 successful!\n",
      "Exporting Control_1999_2001_1 successful!\n",
      "Exporting Control_1999_2001_2 successful!\n",
      "Exporting Control_1999_2001_3 successful!\n",
      "Exporting Control_1999_2001_4 successful!\n",
      "Exporting Control_1999_2001_5 successful!\n",
      "Exporting Control_1999_2001_6 successful!\n",
      "Exporting Control_1999_2001_7 successful!\n",
      "Exporting Control_1999_2001_8 successful!\n",
      "Exporting Control_1999_2001_9 successful!\n",
      "Exporting Control_2002_2004_0 successful!\n",
      "Exporting Control_2002_2004_1 successful!\n",
      "Exporting Control_2002_2004_2 successful!\n",
      "Exporting Control_2002_2004_3 successful!\n",
      "Exporting Control_2002_2004_4 successful!\n",
      "Exporting Control_2002_2004_5 successful!\n",
      "Exporting Control_2002_2004_6 successful!\n",
      "Exporting Control_2002_2004_7 successful!\n",
      "Exporting Control_2002_2004_8 successful!\n",
      "Exporting Control_2002_2004_9 successful!\n",
      "Exporting Control_2005_2007_0 successful!\n",
      "Exporting Control_2005_2007_1 successful!\n",
      "Exporting Control_2005_2007_2 successful!\n",
      "Exporting Control_2005_2007_3 successful!\n",
      "Exporting Control_2005_2007_4 successful!\n",
      "Exporting Control_2005_2007_5 successful!\n",
      "Exporting Control_2005_2007_6 successful!\n",
      "Exporting Control_2005_2007_7 successful!\n",
      "Exporting Control_2005_2007_8 successful!\n",
      "Exporting Control_2005_2007_9 successful!\n",
      "Exporting Control_2008_2010_0 successful!\n",
      "Exporting Control_2008_2010_1 successful!\n",
      "Exporting Control_2008_2010_2 successful!\n",
      "Exporting Control_2008_2010_3 successful!\n",
      "Exporting Control_2008_2010_4 successful!\n",
      "Exporting Control_2008_2010_5 successful!\n",
      "Exporting Control_2008_2010_6 successful!\n",
      "Exporting Control_2008_2010_7 successful!\n",
      "Exporting Control_2008_2010_8 successful!\n",
      "Exporting Control_2008_2010_9 successful!\n",
      "Exporting Control_2011_2013_0 successful!\n",
      "Exporting Control_2011_2013_1 successful!\n",
      "Exporting Control_2011_2013_2 successful!\n",
      "Exporting Control_2011_2013_3 successful!\n",
      "Exporting Control_2011_2013_4 successful!\n",
      "Exporting Control_2011_2013_5 successful!\n",
      "Exporting Control_2011_2013_6 successful!\n",
      "Exporting Control_2011_2013_7 successful!\n",
      "Exporting Control_2011_2013_8 successful!\n",
      "Exporting Control_2011_2013_9 successful!\n",
      "Exporting Control_2014_2016_0 successful!\n",
      "Exporting Control_2014_2016_1 successful!\n",
      "Exporting Control_2014_2016_2 successful!\n",
      "Exporting Control_2014_2016_3 successful!\n",
      "Exporting Control_2014_2016_4 successful!\n",
      "Exporting Control_2014_2016_5 successful!\n",
      "Exporting Control_2014_2016_6 successful!\n",
      "Exporting Control_2014_2016_7 successful!\n",
      "Exporting Control_2014_2016_8 successful!\n",
      "Exporting Control_2014_2016_9 successful!\n",
      "Exporting Control_2017_2019_0 successful!\n",
      "Exporting Control_2017_2019_1 successful!\n",
      "Exporting Control_2017_2019_2 successful!\n",
      "Exporting Control_2017_2019_3 successful!\n",
      "Exporting Control_2017_2019_4 successful!\n",
      "Exporting Control_2017_2019_5 successful!\n",
      "Exporting Control_2017_2019_6 successful!\n",
      "Exporting Control_2017_2019_7 successful!\n",
      "Exporting Control_2017_2019_8 successful!\n",
      "Exporting Control_2017_2019_9 successful!\n"
     ]
    }
   ],
   "source": [
    "for item in Classificatioin_result:\n",
    "     \n",
    "    Classification_type = item[0]\n",
    "    year = item[1]\n",
    "    seed = item[2]\n",
    "    img  = item[3]\n",
    "    \n",
    "    \n",
    "    export_name = f'{Classification_type}_{year}_{seed}'\n",
    "    \n",
    "#     # export to Google Storage\n",
    "#     task = ee.batch.Export.image.toCloudStorage(image          = img,\n",
    "#                                                 description    = export_name,\n",
    "#                                                 bucket         = 'north_china_plain',\n",
    "#                                                 fileNamePrefix = export_name,\n",
    "#                                                 region         = North_China_Plain.geometry().bounds(),\n",
    "#                                                 scale          = 30,\n",
    "#                                                 maxPixels      = int(1e13),\n",
    "#                                                 skipEmptyTiles = True)\n",
    "    \n",
    "    #export to GEE asset\n",
    "    asset_path = f'users/wangjinzhulala/North_China_Plain_Python/classification_img/Control_{year}'\n",
    "    \n",
    "    task = ee.batch.Export.image.toAsset(   image          = img,\n",
    "                                            description    = export_name,\n",
    "                                            assetId        = f'{asset_path}/{export_name}',\n",
    "                                            region         = North_China_Plain.geometry().bounds(),\n",
    "                                            scale          = 30,\n",
    "                                            maxPixels      = int(1e13)) \n",
    "    \n",
    "    task.start()\n",
    "    \n",
    "    print(f'Exporting {export_name} successful!')"
   ]
  },
  {
   "cell_type": "code",
   "execution_count": null,
   "metadata": {},
   "outputs": [],
   "source": []
  },
  {
   "cell_type": "code",
   "execution_count": null,
   "metadata": {},
   "outputs": [],
   "source": []
  },
  {
   "cell_type": "code",
   "execution_count": null,
   "metadata": {},
   "outputs": [],
   "source": []
  },
  {
   "cell_type": "code",
   "execution_count": null,
   "metadata": {},
   "outputs": [],
   "source": []
  },
  {
   "cell_type": "code",
   "execution_count": null,
   "metadata": {},
   "outputs": [],
   "source": []
  },
  {
   "cell_type": "code",
   "execution_count": null,
   "metadata": {},
   "outputs": [],
   "source": []
  },
  {
   "cell_type": "code",
   "execution_count": null,
   "metadata": {},
   "outputs": [],
   "source": []
  },
  {
   "cell_type": "code",
   "execution_count": null,
   "metadata": {},
   "outputs": [],
   "source": []
  },
  {
   "cell_type": "code",
   "execution_count": null,
   "metadata": {},
   "outputs": [],
   "source": []
  },
  {
   "cell_type": "markdown",
   "metadata": {},
   "source": [
    "#### [Juse for test] Get the incorrect classified points"
   ]
  },
  {
   "cell_type": "code",
   "execution_count": null,
   "metadata": {},
   "outputs": [],
   "source": []
  },
  {
   "cell_type": "code",
   "execution_count": 26,
   "metadata": {},
   "outputs": [],
   "source": [
    "# Diff = Built_val - Classification_val,\n",
    "# the classification would be incorrect if Diff != 0\n",
    "\n",
    "def Diff_Built_Classificatioin (fe):\n",
    "    \n",
    "    Built_val = ee.Number(fe.get('Built'))\n",
    "    Classification_val = ee.Number(fe.get('classification'))\n",
    "    Diff = ee.Number(Built_val).subtract(Classification_val)\n",
    "                          \n",
    "    return fe.set('diff',Diff.abs() ) "
   ]
  },
  {
   "cell_type": "code",
   "execution_count": null,
   "metadata": {},
   "outputs": [],
   "source": []
  },
  {
   "cell_type": "code",
   "execution_count": 16,
   "metadata": {
    "scrolled": true
   },
   "outputs": [
    {
     "name": "stdout",
     "output_type": "stream",
     "text": [
      "Incorrect test points of year 1990_1992_0 with size 478 finished!\n",
      "Incorrect test points of year 1990_1992_1 with size 522 finished!\n",
      "Incorrect test points of year 1990_1992_2 with size 510 finished!\n",
      "Incorrect test points of year 1990_1992_3 with size 477 finished!\n",
      "Incorrect test points of year 1990_1992_4 with size 520 finished!\n",
      "Incorrect test points of year 1990_1992_5 with size 469 finished!\n",
      "Incorrect test points of year 1990_1992_6 with size 550 finished!\n",
      "Incorrect test points of year 1990_1992_7 with size 510 finished!\n",
      "Incorrect test points of year 1990_1992_8 with size 485 finished!\n",
      "Incorrect test points of year 1990_1992_9 with size 525 finished!\n",
      "Incorrect test points of year 1993_1995_0 with size 478 finished!\n",
      "Incorrect test points of year 1993_1995_1 with size 512 finished!\n",
      "Incorrect test points of year 1993_1995_2 with size 468 finished!\n",
      "Incorrect test points of year 1993_1995_3 with size 513 finished!\n",
      "Incorrect test points of year 1993_1995_4 with size 500 finished!\n",
      "Incorrect test points of year 1993_1995_5 with size 479 finished!\n",
      "Incorrect test points of year 1993_1995_6 with size 505 finished!\n",
      "Incorrect test points of year 1993_1995_7 with size 476 finished!\n",
      "Incorrect test points of year 1993_1995_8 with size 480 finished!\n",
      "Incorrect test points of year 1993_1995_9 with size 503 finished!\n",
      "Incorrect test points of year 1996_1998_0 with size 511 finished!\n",
      "Incorrect test points of year 1996_1998_1 with size 500 finished!\n",
      "Incorrect test points of year 1996_1998_2 with size 519 finished!\n",
      "Incorrect test points of year 1996_1998_3 with size 481 finished!\n",
      "Incorrect test points of year 1996_1998_4 with size 515 finished!\n",
      "Incorrect test points of year 1996_1998_5 with size 515 finished!\n",
      "Incorrect test points of year 1996_1998_6 with size 494 finished!\n",
      "Incorrect test points of year 1996_1998_7 with size 507 finished!\n",
      "Incorrect test points of year 1996_1998_8 with size 509 finished!\n",
      "Incorrect test points of year 1996_1998_9 with size 539 finished!\n",
      "Incorrect test points of year 1999_2001_0 with size 547 finished!\n",
      "Incorrect test points of year 1999_2001_1 with size 600 finished!\n",
      "Incorrect test points of year 1999_2001_2 with size 615 finished!\n",
      "Incorrect test points of year 1999_2001_3 with size 565 finished!\n",
      "Incorrect test points of year 1999_2001_4 with size 522 finished!\n",
      "Incorrect test points of year 1999_2001_5 with size 576 finished!\n",
      "Incorrect test points of year 1999_2001_6 with size 547 finished!\n",
      "Incorrect test points of year 1999_2001_7 with size 559 finished!\n",
      "Incorrect test points of year 1999_2001_8 with size 631 finished!\n",
      "Incorrect test points of year 1999_2001_9 with size 583 finished!\n",
      "Incorrect test points of year 2002_2004_0 with size 548 finished!\n",
      "Incorrect test points of year 2002_2004_1 with size 541 finished!\n",
      "Incorrect test points of year 2002_2004_2 with size 571 finished!\n",
      "Incorrect test points of year 2002_2004_3 with size 546 finished!\n",
      "Incorrect test points of year 2002_2004_4 with size 558 finished!\n",
      "Incorrect test points of year 2002_2004_5 with size 576 finished!\n",
      "Incorrect test points of year 2002_2004_6 with size 510 finished!\n",
      "Incorrect test points of year 2002_2004_7 with size 535 finished!\n",
      "Incorrect test points of year 2002_2004_8 with size 584 finished!\n",
      "Incorrect test points of year 2002_2004_9 with size 540 finished!\n",
      "Incorrect test points of year 2005_2007_0 with size 548 finished!\n",
      "Incorrect test points of year 2005_2007_1 with size 545 finished!\n",
      "Incorrect test points of year 2005_2007_2 with size 599 finished!\n",
      "Incorrect test points of year 2005_2007_3 with size 574 finished!\n",
      "Incorrect test points of year 2005_2007_4 with size 574 finished!\n",
      "Incorrect test points of year 2005_2007_5 with size 569 finished!\n",
      "Incorrect test points of year 2005_2007_6 with size 565 finished!\n",
      "Incorrect test points of year 2005_2007_7 with size 602 finished!\n",
      "Incorrect test points of year 2005_2007_8 with size 606 finished!\n",
      "Incorrect test points of year 2005_2007_9 with size 588 finished!\n",
      "Incorrect test points of year 2008_2010_0 with size 596 finished!\n",
      "Incorrect test points of year 2008_2010_1 with size 592 finished!\n",
      "Incorrect test points of year 2008_2010_2 with size 596 finished!\n",
      "Incorrect test points of year 2008_2010_3 with size 612 finished!\n",
      "Incorrect test points of year 2008_2010_4 with size 597 finished!\n",
      "Incorrect test points of year 2008_2010_5 with size 578 finished!\n",
      "Incorrect test points of year 2008_2010_6 with size 607 finished!\n",
      "Incorrect test points of year 2008_2010_7 with size 639 finished!\n",
      "Incorrect test points of year 2008_2010_8 with size 613 finished!\n",
      "Incorrect test points of year 2008_2010_9 with size 589 finished!\n",
      "Incorrect test points of year 2011_2013_0 with size 646 finished!\n",
      "Incorrect test points of year 2011_2013_1 with size 633 finished!\n",
      "Incorrect test points of year 2011_2013_2 with size 618 finished!\n",
      "Incorrect test points of year 2011_2013_3 with size 625 finished!\n",
      "Incorrect test points of year 2011_2013_4 with size 601 finished!\n",
      "Incorrect test points of year 2011_2013_5 with size 620 finished!\n",
      "Incorrect test points of year 2011_2013_6 with size 615 finished!\n",
      "Incorrect test points of year 2011_2013_7 with size 647 finished!\n",
      "Incorrect test points of year 2011_2013_8 with size 629 finished!\n",
      "Incorrect test points of year 2011_2013_9 with size 599 finished!\n",
      "Incorrect test points of year 2014_2016_0 with size 689 finished!\n",
      "Incorrect test points of year 2014_2016_1 with size 662 finished!\n",
      "Incorrect test points of year 2014_2016_2 with size 706 finished!\n",
      "Incorrect test points of year 2014_2016_3 with size 678 finished!\n",
      "Incorrect test points of year 2014_2016_4 with size 694 finished!\n",
      "Incorrect test points of year 2014_2016_5 with size 671 finished!\n",
      "Incorrect test points of year 2014_2016_6 with size 697 finished!\n",
      "Incorrect test points of year 2014_2016_7 with size 641 finished!\n",
      "Incorrect test points of year 2014_2016_8 with size 657 finished!\n",
      "Incorrect test points of year 2014_2016_9 with size 681 finished!\n",
      "Incorrect test points of year 2017_2019_0 with size 671 finished!\n",
      "Incorrect test points of year 2017_2019_1 with size 681 finished!\n",
      "Incorrect test points of year 2017_2019_2 with size 717 finished!\n",
      "Incorrect test points of year 2017_2019_3 with size 692 finished!\n",
      "Incorrect test points of year 2017_2019_4 with size 699 finished!\n",
      "Incorrect test points of year 2017_2019_5 with size 706 finished!\n",
      "Incorrect test points of year 2017_2019_6 with size 692 finished!\n",
      "Incorrect test points of year 2017_2019_7 with size 634 finished!\n",
      "Incorrect test points of year 2017_2019_8 with size 722 finished!\n",
      "Incorrect test points of year 2017_2019_9 with size 694 finished!\n"
     ]
    }
   ],
   "source": [
    "# save each year and each random state incorrect pts to csv.\n",
    "for t,test_pt,random in Classification_instances_df[['year','test_sample_classified','seed']].values:\n",
    "\n",
    "    # get the incorrect classified points\n",
    "    Incorrect_point = test_pt.select('Built','classification')\\\n",
    "                             .map(Diff_Built_Classificatioin)\\\n",
    "                             .filterMetadata('diff','not_equals',0)\n",
    "\n",
    "    # get the values\n",
    "    Incorrect_pt_val =  Incorrect_point.getInfo()['features']\n",
    "\n",
    "    # get the coordinates of incorrect points\n",
    "    Incorrect_pt_val = [fe['geometry']['coordinates'] for fe in Incorrect_pt_val]\n",
    "\n",
    "    # save the points to CSV\n",
    "    pd.DataFrame(Incorrect_pt_val,columns=['lon','lat'])\\\n",
    "      .to_csv(f'./Incorrect_pt_csv/Incorrect_random_pt_{t}_{random}.csv',index=False)\n",
    "        \n",
    "    # print out the process\n",
    "    print(f'Incorrect test points of year {t}_{random} with size {len(Incorrect_pt_val)} finished!')"
   ]
  },
  {
   "cell_type": "code",
   "execution_count": null,
   "metadata": {},
   "outputs": [],
   "source": []
  },
  {
   "cell_type": "code",
   "execution_count": null,
   "metadata": {},
   "outputs": [],
   "source": []
  },
  {
   "cell_type": "code",
   "execution_count": null,
   "metadata": {},
   "outputs": [],
   "source": []
  },
  {
   "cell_type": "code",
   "execution_count": null,
   "metadata": {},
   "outputs": [],
   "source": []
  },
  {
   "cell_type": "code",
   "execution_count": null,
   "metadata": {},
   "outputs": [],
   "source": []
  },
  {
   "cell_type": "code",
   "execution_count": null,
   "metadata": {},
   "outputs": [],
   "source": []
  },
  {
   "cell_type": "code",
   "execution_count": null,
   "metadata": {},
   "outputs": [],
   "source": []
  },
  {
   "cell_type": "code",
   "execution_count": null,
   "metadata": {},
   "outputs": [],
   "source": []
  },
  {
   "cell_type": "code",
   "execution_count": null,
   "metadata": {},
   "outputs": [],
   "source": []
  },
  {
   "cell_type": "code",
   "execution_count": null,
   "metadata": {},
   "outputs": [],
   "source": []
  },
  {
   "cell_type": "code",
   "execution_count": null,
   "metadata": {},
   "outputs": [],
   "source": []
  },
  {
   "cell_type": "code",
   "execution_count": null,
   "metadata": {},
   "outputs": [],
   "source": []
  },
  {
   "cell_type": "code",
   "execution_count": null,
   "metadata": {},
   "outputs": [],
   "source": []
  },
  {
   "cell_type": "code",
   "execution_count": null,
   "metadata": {},
   "outputs": [],
   "source": []
  },
  {
   "cell_type": "code",
   "execution_count": null,
   "metadata": {},
   "outputs": [],
   "source": []
  },
  {
   "cell_type": "code",
   "execution_count": null,
   "metadata": {},
   "outputs": [],
   "source": []
  }
 ],
 "metadata": {
  "kernelspec": {
   "display_name": "Python 3",
   "language": "python",
   "name": "python3"
  },
  "language_info": {
   "codemirror_mode": {
    "name": "ipython",
    "version": 3
   },
   "file_extension": ".py",
   "mimetype": "text/x-python",
   "name": "python",
   "nbconvert_exporter": "python",
   "pygments_lexer": "ipython3",
   "version": "3.7.3"
  }
 },
 "nbformat": 4,
 "nbformat_minor": 2
}
