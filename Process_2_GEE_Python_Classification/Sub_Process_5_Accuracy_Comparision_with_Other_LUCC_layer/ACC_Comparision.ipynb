{
 "cells": [
  {
   "cell_type": "code",
   "execution_count": 1,
   "metadata": {},
   "outputs": [],
   "source": [
    "import ee\n",
    "import datetime\n",
    "import os\n",
    "import itertools\n",
    "import sys\n",
    "import re\n",
    "\n",
    "import pandas as pd\n",
    "import numpy as np\n",
    "\n",
    "import seaborn as sns\n",
    "import matplotlib.pyplot as plt\n",
    "\n",
    "import geemap\n",
    "\n",
    "import subprocess\n",
    "from subprocess import PIPE"
   ]
  },
  {
   "cell_type": "code",
   "execution_count": 2,
   "metadata": {},
   "outputs": [],
   "source": [
    "ee.Initialize()"
   ]
  },
  {
   "cell_type": "code",
   "execution_count": 3,
   "metadata": {},
   "outputs": [],
   "source": [
    "# append upper folder into sys-path during run time so we can\n",
    "# import our own moduls\n",
    "sys.path.append('..')"
   ]
  },
  {
   "cell_type": "code",
   "execution_count": 4,
   "metadata": {},
   "outputs": [],
   "source": [
    "from BackGround_modules.Class_2_Classify_Fourier_Img   import Classification\n",
    "from BackGround_modules.Class_3_Calculate_the_accuracy import Accuracy_assesment"
   ]
  },
  {
   "cell_type": "code",
   "execution_count": null,
   "metadata": {},
   "outputs": [],
   "source": []
  },
  {
   "cell_type": "code",
   "execution_count": null,
   "metadata": {},
   "outputs": [],
   "source": []
  },
  {
   "cell_type": "markdown",
   "metadata": {},
   "source": [
    "##### Define basic data"
   ]
  },
  {
   "cell_type": "code",
   "execution_count": 5,
   "metadata": {},
   "outputs": [],
   "source": [
    "# define the years to be classified\n",
    "year_name  = list([f'{span[0]}_{span[1]}' for span in zip(range(1990,2020,3),range(1992,2020,3)) ])\n",
    "\n",
    "# import north_china_plain boundary\n",
    "North_China_Plain = ee.FeatureCollection(\"users/wangjinzhulala/North_China_Plain_Python/Boundary_shp/North_China_Plain_Boundary\")"
   ]
  },
  {
   "cell_type": "code",
   "execution_count": null,
   "metadata": {},
   "outputs": [],
   "source": []
  },
  {
   "cell_type": "code",
   "execution_count": 6,
   "metadata": {},
   "outputs": [],
   "source": [
    "# define the path to point_with_value GEE-Path\n",
    "path = 'users/Jinzhu_Deakin/North_China_Plain/Sample_with_Landsat_Fourier_Normalized'\n",
    "\n",
    "# Use the Invarient points to compute the classification accuracy\n",
    "Invarient_non_built_sample = [ee.FeatureCollection(f'{path}/Invarient_non_built_{year}')\\\n",
    "                                .filterMetadata('Built','equals',0) for year in year_name]\n",
    "Invarient_built_sample     = [ee.FeatureCollection(f'{path}/Invarient_built_{year}')\n",
    "                                for year in year_name]\n",
    "Invarient_sample_merge     = [i[0].merge(i[1]) for i in zip(Invarient_non_built_sample,\n",
    "                                                            Invarient_built_sample)]"
   ]
  },
  {
   "cell_type": "code",
   "execution_count": null,
   "metadata": {},
   "outputs": [],
   "source": []
  },
  {
   "cell_type": "markdown",
   "metadata": {},
   "source": [
    "##### Calculate the accuracy of my result at each year"
   ]
  },
  {
   "cell_type": "code",
   "execution_count": null,
   "metadata": {},
   "outputs": [],
   "source": []
  },
  {
   "cell_type": "code",
   "execution_count": 7,
   "metadata": {},
   "outputs": [
    {
     "name": "stdout",
     "output_type": "stream",
     "text": [
      "Accuracy computation of 1990_1992 complete!\n",
      "Accuracy computation of 1993_1995 complete!\n",
      "Accuracy computation of 1996_1998 complete!\n",
      "Accuracy computation of 1999_2001 complete!\n",
      "Accuracy computation of 2002_2004 complete!\n",
      "Accuracy computation of 2005_2007 complete!\n",
      "Accuracy computation of 2008_2010 complete!\n",
      "Accuracy computation of 2011_2013 complete!\n",
      "Accuracy computation of 2014_2016 complete!\n",
      "Accuracy computation of 2017_2019 complete!\n"
     ]
    }
   ],
   "source": [
    "Classificatioin_ACC = {}\n",
    "\n",
    "for year,sample in zip(year_name,Invarient_sample_merge):\n",
    "    \n",
    "    all_bands = list(sample.first().getInfo()['properties'].keys())\n",
    "    all_bands.remove('Built')\n",
    "    \n",
    "    # Instatiate the class with a name.\n",
    "    classification = Classification(year_name      = year,\n",
    "                                    Verified_point = sample,\n",
    "                                    Input_img      = None,\n",
    "                                    Input_band     = all_bands,\n",
    "                                    Tree_num       = 100,\n",
    "                                    Zone_sample    = None,\n",
    "                                    classProperty  = 'Built')\n",
    "\n",
    "\n",
    "    # perform the classification on Samples\n",
    "    classification.Stp_2_Classification_on_Samples()\n",
    "\n",
    "    # Get the classified samples\n",
    "    train_sample_classified        = classification.Train_sample_classification\n",
    "    test_sample_classified         = classification.Test_sample_classification\n",
    "    \n",
    "    # Compute the accuracy\n",
    "    test_acc = Accuracy_assesment(test_sample_classified).Stp_1_Calculate_Accuracy()\n",
    "    \n",
    "    # add classfication into the list\n",
    "    Classificatioin_ACC[year] = test_acc\n",
    "    \n",
    "    # print out the process\n",
    "    print(f'Accuracy computation of {year} complete!')"
   ]
  },
  {
   "cell_type": "code",
   "execution_count": null,
   "metadata": {},
   "outputs": [],
   "source": []
  },
  {
   "cell_type": "code",
   "execution_count": 8,
   "metadata": {},
   "outputs": [],
   "source": [
    "My_acc_df = pd.DataFrame(Classificatioin_ACC).T\n",
    "My_acc_df.index.name = 'Year'"
   ]
  },
  {
   "cell_type": "code",
   "execution_count": null,
   "metadata": {},
   "outputs": [],
   "source": []
  },
  {
   "cell_type": "markdown",
   "metadata": {},
   "source": [
    "#### Calculate the accuracy of GAIA datasets"
   ]
  },
  {
   "cell_type": "code",
   "execution_count": 9,
   "metadata": {},
   "outputs": [],
   "source": [
    "GAIA = ee.Image(\"users/wangjinzhulala/Gloable_Imprevious_area\").clip(North_China_Plain)"
   ]
  },
  {
   "cell_type": "code",
   "execution_count": null,
   "metadata": {},
   "outputs": [],
   "source": []
  },
  {
   "cell_type": "code",
   "execution_count": 10,
   "metadata": {},
   "outputs": [],
   "source": [
    "# link the year with its pixel value\n",
    "GAIA_year = range(1985,2019)\n",
    "GAIA_id   = range(34,0,-1)\n",
    "GAIA_corr = {i[0]:i[1] for i in zip(GAIA_year,GAIA_id)}\n",
    "\n",
    "Fourier_end_years = list(range(1992,2018,3)) + [2018]"
   ]
  },
  {
   "cell_type": "code",
   "execution_count": null,
   "metadata": {},
   "outputs": [],
   "source": []
  },
  {
   "cell_type": "code",
   "execution_count": 11,
   "metadata": {},
   "outputs": [],
   "source": [
    "# Here use the Classification class to perform the train/test split\n",
    "# and get the test samples.\n",
    "\n",
    "Sample_classificaiton = Classification( # input year_name does not affect train/test split\n",
    "                                        year_name      = 'any',\n",
    "    \n",
    "                                        # Use the first Invariant sample is OK\n",
    "                                        Verified_point = Invarient_sample_merge[0],\n",
    "                                        Input_img      = None,\n",
    "                                        # Just need ['Built'] information\n",
    "                                        Input_band     = ['Built'],\n",
    "                                        Tree_num       = 100,\n",
    "                                        Zone_sample    = None,\n",
    "                                        classProperty  = 'Built')\n",
    "\n",
    "test_sample = classification.Verified_pts_test"
   ]
  },
  {
   "cell_type": "code",
   "execution_count": null,
   "metadata": {},
   "outputs": [],
   "source": []
  },
  {
   "cell_type": "code",
   "execution_count": 12,
   "metadata": {},
   "outputs": [
    {
     "name": "stdout",
     "output_type": "stream",
     "text": [
      "Accuracy computation of 1992 complete!\n",
      "Accuracy computation of 1995 complete!\n",
      "Accuracy computation of 1998 complete!\n",
      "Accuracy computation of 2001 complete!\n",
      "Accuracy computation of 2004 complete!\n",
      "Accuracy computation of 2007 complete!\n",
      "Accuracy computation of 2010 complete!\n",
      "Accuracy computation of 2013 complete!\n",
      "Accuracy computation of 2016 complete!\n",
      "Accuracy computation of 2018 complete!\n"
     ]
    }
   ],
   "source": [
    "GAIA_acc = {}\n",
    "\n",
    "for i,end_year in enumerate(Fourier_end_years):\n",
    "    \n",
    "    # get the sample point\n",
    "    Invariant_sample = Invarient_sample_merge[i]\n",
    "    \n",
    "    # get the pixel value of coresponded end_year\n",
    "    # rename the GAIA to 'classificaiton' so that the name\n",
    "    # is consistent with the Accuracy_assessment module\n",
    "    GAIA_pixel_value = GAIA_corr[end_year]\n",
    "    \n",
    "    # conver pixel value greater than GAIA_pixel_value to 0,other pixel to 1\n",
    "    # so we get all target-year pixel with value 1\n",
    "    GAIA_within_year = GAIA.gt(GAIA_pixel_value).rename('classification')\n",
    "    \n",
    "    # extract reclassified GAIA pixel value to test_sample\n",
    "    test_with_GAIA = GAIA_within_year.sampleRegions(collection = test_sample, \n",
    "                                                    properties = ['Built'], \n",
    "                                                    scale      = 30)\n",
    "    # compute the accuracy \n",
    "    GAIA_acc[end_year] = Accuracy_assesment(test_with_GAIA).Stp_1_Calculate_Accuracy()\n",
    "    \n",
    "    # print out the process\n",
    "    print(f'Accuracy computation of {end_year} complete!')\n",
    "    "
   ]
  },
  {
   "cell_type": "code",
   "execution_count": 13,
   "metadata": {},
   "outputs": [],
   "source": [
    "GAIA_acc_df = pd.DataFrame(GAIA_acc).T\n",
    "GAIA_acc_df.index.name = 'End_year'"
   ]
  },
  {
   "cell_type": "code",
   "execution_count": null,
   "metadata": {},
   "outputs": [],
   "source": []
  },
  {
   "cell_type": "markdown",
   "metadata": {},
   "source": [
    "##### Save the acc_df to local disk"
   ]
  },
  {
   "cell_type": "code",
   "execution_count": null,
   "metadata": {},
   "outputs": [],
   "source": []
  },
  {
   "cell_type": "code",
   "execution_count": 14,
   "metadata": {},
   "outputs": [],
   "source": [
    "# reset index so can drwo them togeter\n",
    "# My_acc_df.reset_index(inplace=True)\n",
    "# GAIA_acc_df.reset_index(inplace=True)\n",
    "\n",
    "# My_acc_df.to_csv('ACC_Result/My_accuracy.csv',index=False)\n",
    "# GAIA_acc_df.to_csv('ACC_Result/GAIA_accuracy.csv',index=False)"
   ]
  },
  {
   "cell_type": "code",
   "execution_count": null,
   "metadata": {},
   "outputs": [],
   "source": []
  },
  {
   "cell_type": "code",
   "execution_count": 2,
   "metadata": {},
   "outputs": [],
   "source": [
    "My_acc_df = pd.read_csv('ACC_Result/My_accuracy.csv')\n",
    "GAIA_acc_df = pd.read_csv('ACC_Result/GAIA_accuracy.csv')"
   ]
  },
  {
   "cell_type": "code",
   "execution_count": 3,
   "metadata": {},
   "outputs": [
    {
     "data": {
      "image/png": "[encoded data removed]",
      "text/plain": [
       "<Figure size 1080x432 with 1 Axes>"
      ]
     },
     "metadata": {
      "needs_background": "light"
     },
     "output_type": "display_data"
    }
   ],
   "source": [
    "plt.figure(figsize=(15, 6))\n",
    "\n",
    "plt.ylabel = 'Recall accuracy of built-up'\n",
    "sns.set_style(\"darkgrid\")\n",
    "b = sns.lineplot(x='Year',y='Recall_built',data=My_acc_df)\n",
    "\n",
    "b.axes.set_title(\"Classification accuracy\",fontsize=20)\n",
    "b.set_xlabel(\"Year\",fontsize=20)\n",
    "b.set_ylabel(\"Accuracy of Built-up\",fontsize=20)\n",
    "b.tick_params(labelsize=15)"
   ]
  },
  {
   "cell_type": "code",
   "execution_count": 4,
   "metadata": {},
   "outputs": [
    {
     "data": {
      "text/html": [
       "<div>\n",
       "<style scoped>\n",
       "    .dataframe tbody tr th:only-of-type {\n",
       "        vertical-align: middle;\n",
       "    }\n",
       "\n",
       "    .dataframe tbody tr th {\n",
       "        vertical-align: top;\n",
       "    }\n",
       "\n",
       "    .dataframe thead th {\n",
       "        text-align: right;\n",
       "    }\n",
       "</style>\n",
       "<table border=\"1\" class=\"dataframe\">\n",
       "  <thead>\n",
       "    <tr style=\"text-align: right;\">\n",
       "      <th></th>\n",
       "      <th>Year</th>\n",
       "      <th>Overall_ACC</th>\n",
       "      <th>Precisioin_built</th>\n",
       "      <th>Precisioin_non_built</th>\n",
       "      <th>Recall_built</th>\n",
       "      <th>Recall_non_built</th>\n",
       "    </tr>\n",
       "  </thead>\n",
       "  <tbody>\n",
       "    <tr>\n",
       "      <th>0</th>\n",
       "      <td>1990_1992</td>\n",
       "      <td>92.52</td>\n",
       "      <td>92.08</td>\n",
       "      <td>92.96</td>\n",
       "      <td>92.92</td>\n",
       "      <td>92.13</td>\n",
       "    </tr>\n",
       "    <tr>\n",
       "      <th>1</th>\n",
       "      <td>1993_1995</td>\n",
       "      <td>93.21</td>\n",
       "      <td>93.73</td>\n",
       "      <td>92.69</td>\n",
       "      <td>92.76</td>\n",
       "      <td>93.67</td>\n",
       "    </tr>\n",
       "    <tr>\n",
       "      <th>2</th>\n",
       "      <td>1996_1998</td>\n",
       "      <td>93.02</td>\n",
       "      <td>93.38</td>\n",
       "      <td>92.66</td>\n",
       "      <td>92.64</td>\n",
       "      <td>93.40</td>\n",
       "    </tr>\n",
       "    <tr>\n",
       "      <th>3</th>\n",
       "      <td>1999_2001</td>\n",
       "      <td>92.63</td>\n",
       "      <td>93.52</td>\n",
       "      <td>91.75</td>\n",
       "      <td>91.82</td>\n",
       "      <td>93.47</td>\n",
       "    </tr>\n",
       "    <tr>\n",
       "      <th>4</th>\n",
       "      <td>2002_2004</td>\n",
       "      <td>92.13</td>\n",
       "      <td>93.06</td>\n",
       "      <td>91.23</td>\n",
       "      <td>91.10</td>\n",
       "      <td>93.16</td>\n",
       "    </tr>\n",
       "    <tr>\n",
       "      <th>5</th>\n",
       "      <td>2005_2007</td>\n",
       "      <td>93.22</td>\n",
       "      <td>94.29</td>\n",
       "      <td>92.17</td>\n",
       "      <td>92.13</td>\n",
       "      <td>94.32</td>\n",
       "    </tr>\n",
       "    <tr>\n",
       "      <th>6</th>\n",
       "      <td>2008_2010</td>\n",
       "      <td>90.82</td>\n",
       "      <td>90.71</td>\n",
       "      <td>90.94</td>\n",
       "      <td>90.98</td>\n",
       "      <td>90.67</td>\n",
       "    </tr>\n",
       "    <tr>\n",
       "      <th>7</th>\n",
       "      <td>2011_2013</td>\n",
       "      <td>90.57</td>\n",
       "      <td>92.15</td>\n",
       "      <td>89.08</td>\n",
       "      <td>88.83</td>\n",
       "      <td>92.33</td>\n",
       "    </tr>\n",
       "    <tr>\n",
       "      <th>8</th>\n",
       "      <td>2014_2016</td>\n",
       "      <td>90.96</td>\n",
       "      <td>92.31</td>\n",
       "      <td>89.68</td>\n",
       "      <td>89.46</td>\n",
       "      <td>92.48</td>\n",
       "    </tr>\n",
       "    <tr>\n",
       "      <th>9</th>\n",
       "      <td>2017_2019</td>\n",
       "      <td>91.42</td>\n",
       "      <td>93.71</td>\n",
       "      <td>89.28</td>\n",
       "      <td>89.13</td>\n",
       "      <td>93.79</td>\n",
       "    </tr>\n",
       "  </tbody>\n",
       "</table>\n",
       "</div>"
      ],
      "text/plain": [
       "        Year  Overall_ACC  Precisioin_built  Precisioin_non_built  \\\n",
       "0  1990_1992        92.52             92.08                 92.96   \n",
       "1  1993_1995        93.21             93.73                 92.69   \n",
       "2  1996_1998        93.02             93.38                 92.66   \n",
       "3  1999_2001        92.63             93.52                 91.75   \n",
       "4  2002_2004        92.13             93.06                 91.23   \n",
       "5  2005_2007        93.22             94.29                 92.17   \n",
       "6  2008_2010        90.82             90.71                 90.94   \n",
       "7  2011_2013        90.57             92.15                 89.08   \n",
       "8  2014_2016        90.96             92.31                 89.68   \n",
       "9  2017_2019        91.42             93.71                 89.28   \n",
       "\n",
       "   Recall_built  Recall_non_built  \n",
       "0         92.92             92.13  \n",
       "1         92.76             93.67  \n",
       "2         92.64             93.40  \n",
       "3         91.82             93.47  \n",
       "4         91.10             93.16  \n",
       "5         92.13             94.32  \n",
       "6         90.98             90.67  \n",
       "7         88.83             92.33  \n",
       "8         89.46             92.48  \n",
       "9         89.13             93.79  "
      ]
     },
     "execution_count": 4,
     "metadata": {},
     "output_type": "execute_result"
    }
   ],
   "source": [
    "My_acc_df"
   ]
  },
  {
   "cell_type": "code",
   "execution_count": 17,
   "metadata": {},
   "outputs": [
    {
     "data": {
      "image/png": "[encoded data removed]",
      "text/plain": [
       "<Figure size 1080x432 with 1 Axes>"
      ]
     },
     "metadata": {},
     "output_type": "display_data"
    }
   ],
   "source": [
    "fig = plt.figure(figsize=(15, 6))\n",
    "\n",
    "\n",
    "plt.plot(My_acc_df['Year'],My_acc_df['Overall_ACC'])\n",
    "plt.xlabel('xlabel')\n",
    "plt.ylabel = 'Recall accuracy of built-up'"
   ]
  },
  {
   "cell_type": "code",
   "execution_count": 27,
   "metadata": {},
   "outputs": [],
   "source": [
    "GAIA_acc_df['Type'] = ['GAIA'] * 10\n",
    "My_acc_df['Type'] = ['My_result'] * 10\n",
    "GAIA_acc_df['Year'] = My_acc_df['Year']\n",
    "pd_figure = My_acc_df.append(GAIA_acc_df)\n"
   ]
  },
  {
   "cell_type": "code",
   "execution_count": 42,
   "metadata": {},
   "outputs": [
    {
     "data": {
      "text/plain": [
       "[None, None]"
      ]
     },
     "execution_count": 42,
     "metadata": {},
     "output_type": "execute_result"
    },
    {
     "data": {
      "image/png": "[encoded data removed]",
      "text/plain": [
       "<Figure size 1224x432 with 1 Axes>"
      ]
     },
     "metadata": {},
     "output_type": "display_data"
    }
   ],
   "source": [
    "plt.figure(figsize=(17,6))\n",
    "b = sns.lineplot(x='Year',y='Overall_ACC',data=pd_figure,hue = 'Type')\n",
    "\n",
    "b.set_xlabel(\"Year\",fontsize=12)\n",
    "b.set_ylabel(\"Overall accuracy of Built-up\",fontsize=12)\n",
    "b.tick_params(labelsize=12)\n",
    "\n",
    "plt.setp(b.get_legend().get_texts(), fontsize='12') # for legend text\n",
    "plt.setp(b.get_legend().get_title(), fontsize='12') # for legend title"
   ]
  },
  {
   "cell_type": "code",
   "execution_count": null,
   "metadata": {},
   "outputs": [],
   "source": []
  },
  {
   "cell_type": "code",
   "execution_count": null,
   "metadata": {},
   "outputs": [],
   "source": []
  },
  {
   "cell_type": "code",
   "execution_count": null,
   "metadata": {},
   "outputs": [],
   "source": []
  },
  {
   "cell_type": "code",
   "execution_count": null,
   "metadata": {},
   "outputs": [],
   "source": []
  },
  {
   "cell_type": "code",
   "execution_count": null,
   "metadata": {},
   "outputs": [],
   "source": []
  },
  {
   "cell_type": "code",
   "execution_count": null,
   "metadata": {},
   "outputs": [],
   "source": []
  },
  {
   "cell_type": "code",
   "execution_count": null,
   "metadata": {},
   "outputs": [],
   "source": []
  },
  {
   "cell_type": "code",
   "execution_count": null,
   "metadata": {},
   "outputs": [],
   "source": []
  },
  {
   "cell_type": "code",
   "execution_count": null,
   "metadata": {},
   "outputs": [],
   "source": []
  }
 ],
 "metadata": {
  "kernelspec": {
   "display_name": "Python 3",
   "language": "python",
   "name": "python3"
  },
  "language_info": {
   "codemirror_mode": {
    "name": "ipython",
    "version": 3
   },
   "file_extension": ".py",
   "mimetype": "text/x-python",
   "name": "python",
   "nbconvert_exporter": "python",
   "pygments_lexer": "ipython3",
   "version": "3.7.3"
  }
 },
 "nbformat": 4,
 "nbformat_minor": 2
}
