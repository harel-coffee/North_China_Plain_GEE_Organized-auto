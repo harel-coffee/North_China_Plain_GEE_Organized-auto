{
 "cells": [
  {
   "cell_type": "code",
   "execution_count": 1,
   "metadata": {},
   "outputs": [],
   "source": [
    "import ee\n",
    "import datetime\n",
    "import os\n",
    "import itertools\n",
    "import sys\n",
    "\n",
    "from pprint import pprint\n",
    "import pandas as pd\n",
    "import numpy as np\n",
    "import seaborn as sns\n",
    "import matplotlib.pyplot as plt\n",
    "\n",
    "import geemap\n",
    "\n",
    "import subprocess\n",
    "from subprocess import PIPE"
   ]
  },
  {
   "cell_type": "code",
   "execution_count": 2,
   "metadata": {},
   "outputs": [],
   "source": [
    "ee.Initialize()"
   ]
  },
  {
   "cell_type": "code",
   "execution_count": 3,
   "metadata": {},
   "outputs": [],
   "source": [
    "# append the parent path into sys-path so wen can import necessary modules\n",
    "sys.path.append('../')"
   ]
  },
  {
   "cell_type": "code",
   "execution_count": null,
   "metadata": {},
   "outputs": [],
   "source": []
  },
  {
   "cell_type": "code",
   "execution_count": 4,
   "metadata": {},
   "outputs": [
    {
     "name": "stdout",
     "output_type": "stream",
     "text": [
      "The default supplementary data a Zero img, change accordingly when classify other years imgs\n",
      "\n"
     ]
    }
   ],
   "source": [
    "from BackGround_modules.Class_1_Make_fourier_imgs import Make_Fourier\n",
    "from BackGround_modules.Class_2_Classify_Fourier_Img import Classification\n",
    "from BackGround_modules.Class_3_Calculate_the_accuracy import Accuracy_assesment"
   ]
  },
  {
   "cell_type": "code",
   "execution_count": null,
   "metadata": {},
   "outputs": [],
   "source": []
  },
  {
   "cell_type": "markdown",
   "metadata": {},
   "source": [
    "### Step_0_Define_Basic_Parameters"
   ]
  },
  {
   "cell_type": "code",
   "execution_count": 5,
   "metadata": {},
   "outputs": [],
   "source": [
    "# define the year range\n",
    "year_start = [f'{i}-01-01' for i in range(1987,2020,3)]\n",
    "year_end   = [f'{i}-12-31' for i in range(1989,2020,3)]\n",
    "\n",
    "year_range = list(zip(year_start,year_end))\n",
    "\n",
    "# import some spatial constrains\n",
    "North_china_plain_boundary = ee.FeatureCollection(\"users/wangjinzhulala/North_China_Plain_Python/Boundary_shp/North_China_Plain_Boundary\")"
   ]
  },
  {
   "cell_type": "code",
   "execution_count": null,
   "metadata": {},
   "outputs": [],
   "source": []
  },
  {
   "cell_type": "code",
   "execution_count": 6,
   "metadata": {},
   "outputs": [
    {
     "data": {
      "text/plain": [
       "[('1987-01-01', '1989-12-31'),\n",
       " ('1990-01-01', '1992-12-31'),\n",
       " ('1993-01-01', '1995-12-31'),\n",
       " ('1996-01-01', '1998-12-31'),\n",
       " ('1999-01-01', '2001-12-31'),\n",
       " ('2002-01-01', '2004-12-31'),\n",
       " ('2005-01-01', '2007-12-31'),\n",
       " ('2008-01-01', '2010-12-31'),\n",
       " ('2011-01-01', '2013-12-31'),\n",
       " ('2014-01-01', '2016-12-31'),\n",
       " ('2017-01-01', '2019-12-31')]"
      ]
     },
     "execution_count": 6,
     "metadata": {},
     "output_type": "execute_result"
    }
   ],
   "source": [
    "year_range"
   ]
  },
  {
   "cell_type": "code",
   "execution_count": null,
   "metadata": {},
   "outputs": [],
   "source": []
  },
  {
   "cell_type": "markdown",
   "metadata": {},
   "source": [
    "### Step_1_Create_the_Fourier_Img"
   ]
  },
  {
   "cell_type": "code",
   "execution_count": null,
   "metadata": {},
   "outputs": [],
   "source": []
  },
  {
   "cell_type": "code",
   "execution_count": null,
   "metadata": {},
   "outputs": [],
   "source": []
  },
  {
   "cell_type": "code",
   "execution_count": 7,
   "metadata": {},
   "outputs": [
    {
     "name": "stdout",
     "output_type": "stream",
     "text": [
      "Analyzing the images of 2002_2004\n",
      "Exporting users/Jinzhu_Deakin/North_China_Plain/Fourier_img_harmonic_3/Fourier_img_2002_2004_harmonic_3\n",
      "Analyzing the images of 1999_2001\n",
      "Exporting users/Jinzhu_Deakin/North_China_Plain/Fourier_img_harmonic_3/Fourier_img_1999_2001_harmonic_3\n",
      "Analyzing the images of 1996_1998\n",
      "Exporting users/Jinzhu_Deakin/North_China_Plain/Fourier_img_harmonic_3/Fourier_img_1996_1998_harmonic_3\n",
      "Analyzing the images of 1993_1995\n",
      "Exporting users/Jinzhu_Deakin/North_China_Plain/Fourier_img_harmonic_3/Fourier_img_1993_1995_harmonic_3\n",
      "Analyzing the images of 1990_1992\n",
      "Exporting users/Jinzhu_Deakin/North_China_Plain/Fourier_img_harmonic_3/Fourier_img_1990_1992_harmonic_3\n",
      "Analyzing the images of 1987_1989\n",
      "Exporting users/Jinzhu_Deakin/North_China_Plain/Fourier_img_harmonic_3/Fourier_img_1987_1989_harmonic_3\n"
     ]
    }
   ],
   "source": [
    "# reverse the year_range order so that the most recent will be exported first    \n",
    "for span in year_range[::-1]:\n",
    "    \n",
    "    start = span[0]\n",
    "    end   = span[1]\n",
    "    \n",
    "    split = '-'\n",
    "    span_name = f'{start.split(split)[0]}_{end.split(split)[0]}'\n",
    "\n",
    "    # define the asset path for exporting\n",
    "    asset_path = 'users/Jinzhu_Deakin/North_China_Plain/Fourier_img_harmonic_3'\n",
    "    # define the name for exporting\n",
    "    export_name = f'Fourier_img_{span_name}_harmonic_3'\n",
    "\n",
    "\n",
    "    # make the Fourier img, the default is to make time series\n",
    "    # of ['NDVI', 'NDBI', 'EVI']\n",
    "    Fourier_making = Make_Fourier( start_date = start,\n",
    "                                   end_date   = end,\n",
    "                                   harmonics  = 3 )\n",
    "    Fourier_making.Stp_1_Create_hamonic_names()\n",
    "    Fourier_making.Stp_2_Add_harmonics()\n",
    "    Fourier_making.Stp_3_Harmonic_fit()\n",
    "\n",
    "    # Get the Fourier img\n",
    "    Fourier_img = Fourier_making.harmonicTrendCoefficients\n",
    "\n",
    "    # export the Fourier img\n",
    "#     task = ee.batch.Export.image.toAsset( \n",
    "#                                                 image          = Fourier_img,\n",
    "#                                                 description    = f'Exporting {export_name}',\n",
    "#                                                 assetId        = f'{asset_path}/{export_name}',\n",
    "#                                                 region         = North_china_plain_boundary.geometry().bounds(),\n",
    "#                                                 scale          = 30,\n",
    "#                                                 maxPixels      = int(1e13))\n",
    "#     task.start()\n",
    "\n",
    "    # print out the process\n",
    "    print(f'Exporting {asset_path}/{export_name}')"
   ]
  },
  {
   "cell_type": "code",
   "execution_count": null,
   "metadata": {},
   "outputs": [],
   "source": []
  },
  {
   "cell_type": "code",
   "execution_count": null,
   "metadata": {},
   "outputs": [],
   "source": []
  },
  {
   "cell_type": "markdown",
   "metadata": {},
   "source": [
    "### Step_2_Create_Cloud_Free_Img"
   ]
  },
  {
   "cell_type": "code",
   "execution_count": null,
   "metadata": {},
   "outputs": [],
   "source": []
  },
  {
   "cell_type": "code",
   "execution_count": 15,
   "metadata": {},
   "outputs": [
    {
     "name": "stdout",
     "output_type": "stream",
     "text": [
      "Exporting Landsat_cloud_free_2017_2019\n",
      "Exporting Landsat_cloud_free_2014_2016\n",
      "Exporting Landsat_cloud_free_2011_2013\n",
      "Exporting Landsat_cloud_free_2008_2010\n",
      "Exporting Landsat_cloud_free_2005_2007\n",
      "Exporting Landsat_cloud_free_2002_2004\n",
      "Exporting Landsat_cloud_free_1999_2001\n",
      "Exporting Landsat_cloud_free_1996_1998\n",
      "Exporting Landsat_cloud_free_1993_1995\n",
      "Exporting Landsat_cloud_free_1990_1992\n",
      "Exporting Landsat_cloud_free_1987_1989\n"
     ]
    }
   ],
   "source": [
    "for span in year_range[::-1]:\n",
    "    \n",
    "    # find the end year to determine the \n",
    "    start = span[0]\n",
    "    end   = span[1]\n",
    "    \n",
    "    split = '-'\n",
    "    span_name = f'{start.split(split)[0]}_{end.split(split)[0]}'\n",
    "\n",
    "    # define the asset path for exporting\n",
    "    asset_path = 'users/wang8052664/Cloud_Free_Img'\n",
    "    # define the name for exporting\n",
    "    export_name = f'Landsat_cloud_free_{span_name}'\n",
    "    \n",
    "    \n",
    "    # find the right Landsat RAW data set\n",
    "    if int(end.split(split)[0]) <= 2010:\n",
    "        Landsat_img = ee.ImageCollection(\"LANDSAT/LT05/C01/T1\")\n",
    "        \n",
    "    elif int(end.split(split)[0]) <= 2013:\n",
    "        Landsat_img = ee.ImageCollection(\"LANDSAT/LE07/C01/T1\")\n",
    "        \n",
    "    else:\n",
    "        Landsat_img = ee.ImageCollection(\"LANDSAT/LC08/C01/T1\")\n",
    "        \n",
    "    \n",
    "    # create the cloud-free img using SimpleComposite\n",
    "    Filtered_img = Landsat_img.filterBounds(North_china_plain_boundary)\\\n",
    "                              .filterDate(start,end)\n",
    "    \n",
    "    cloud_free = ee.Algorithms.Landsat.simpleComposite(Filtered_img)\\\n",
    "                              .clip(North_china_plain_boundary)\n",
    "        \n",
    "    # export\n",
    "    task = ee.batch.Export.image.toAsset(   image       = cloud_free,\n",
    "                                            description = f'Exporting {export_name}',\n",
    "                                            assetId     = f'{asset_path}/{export_name}',\n",
    "                                            region      = North_china_plain_boundary.geometry(),\n",
    "                                            scale       = 30,\n",
    "                                            maxPixels   = int(1e13))\n",
    "    task.start()\n",
    "    \n",
    "    # print out the process\n",
    "    print(f'Exporting {export_name}')"
   ]
  },
  {
   "cell_type": "code",
   "execution_count": null,
   "metadata": {},
   "outputs": [],
   "source": []
  },
  {
   "cell_type": "code",
   "execution_count": null,
   "metadata": {},
   "outputs": [],
   "source": []
  },
  {
   "cell_type": "code",
   "execution_count": null,
   "metadata": {},
   "outputs": [],
   "source": []
  },
  {
   "cell_type": "code",
   "execution_count": null,
   "metadata": {},
   "outputs": [],
   "source": []
  },
  {
   "cell_type": "code",
   "execution_count": null,
   "metadata": {},
   "outputs": [],
   "source": []
  },
  {
   "cell_type": "code",
   "execution_count": null,
   "metadata": {},
   "outputs": [],
   "source": []
  },
  {
   "cell_type": "code",
   "execution_count": null,
   "metadata": {},
   "outputs": [],
   "source": []
  }
 ],
 "metadata": {
  "kernelspec": {
   "display_name": "Python 3",
   "language": "python",
   "name": "python3"
  },
  "language_info": {
   "codemirror_mode": {
    "name": "ipython",
    "version": 3
   },
   "file_extension": ".py",
   "mimetype": "text/x-python",
   "name": "python",
   "nbconvert_exporter": "python",
   "pygments_lexer": "ipython3",
   "version": "3.7.3"
  }
 },
 "nbformat": 4,
 "nbformat_minor": 2
}
