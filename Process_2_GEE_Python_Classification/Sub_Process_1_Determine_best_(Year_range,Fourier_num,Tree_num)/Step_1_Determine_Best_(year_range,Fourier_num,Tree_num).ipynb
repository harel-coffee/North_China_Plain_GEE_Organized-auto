{
 "cells": [
  {
   "cell_type": "code",
   "execution_count": 3,
   "metadata": {},
   "outputs": [],
   "source": [
    "import ee\n",
    "import datetime\n",
    "import os\n",
    "import itertools\n",
    "import sys\n",
    "\n",
    "from pprint import pprint\n",
    "import pandas as pd\n",
    "import numpy as np\n",
    "import seaborn as sns\n",
    "import matplotlib.pyplot as plt\n",
    "\n",
    "import geemap\n",
    "\n",
    "import subprocess\n",
    "from subprocess import PIPE"
   ]
  },
  {
   "cell_type": "code",
   "execution_count": 4,
   "metadata": {},
   "outputs": [],
   "source": [
    "ee.Initialize()"
   ]
  },
  {
   "cell_type": "code",
   "execution_count": 5,
   "metadata": {},
   "outputs": [],
   "source": [
    "# append the parent path into sys-path so wen can import necessary modules\n",
    "sys.path.append('../')"
   ]
  },
  {
   "cell_type": "code",
   "execution_count": null,
   "metadata": {},
   "outputs": [],
   "source": []
  },
  {
   "cell_type": "code",
   "execution_count": 6,
   "metadata": {},
   "outputs": [],
   "source": [
    "# Some more magic so that the notebook will reload external python modules;\n",
    "# see http://stackoverflow.com/questions/1907993/autoreload-of-modules-in-ipython\n",
    "%load_ext autoreload\n",
    "%autoreload 2"
   ]
  },
  {
   "cell_type": "code",
   "execution_count": null,
   "metadata": {},
   "outputs": [],
   "source": []
  },
  {
   "cell_type": "code",
   "execution_count": 7,
   "metadata": {},
   "outputs": [
    {
     "name": "stdout",
     "output_type": "stream",
     "text": [
      "The default supplementary data a Zero img, change accordingly when classify other years imgs\n",
      "\n"
     ]
    }
   ],
   "source": [
    "from BackGround_modules.Class_1_Make_fourier_imgs import Make_Fourier\n",
    "from BackGround_modules.Class_2_Classify_Fourier_Img import Classification\n",
    "from BackGround_modules.Class_3_Calculate_the_accuracy import Accuracy_assesment"
   ]
  },
  {
   "cell_type": "code",
   "execution_count": null,
   "metadata": {},
   "outputs": [],
   "source": []
  },
  {
   "cell_type": "markdown",
   "metadata": {},
   "source": [
    "### Step_0_Define_Basic_Parameters"
   ]
  },
  {
   "cell_type": "code",
   "execution_count": 8,
   "metadata": {},
   "outputs": [],
   "source": [
    "# Define the time-range\n",
    "start_time = '2017-01-01'\n",
    "end_time   = '2019-12-31'\n",
    "\n",
    "# Create the year_name for naming variables\n",
    "year_name = f'{start_time[:4]}_{end_time[:4]}'\n",
    "\n",
    "# Define the interval for random classifier tree_num test\n",
    "Interval_index = [1] + list(range(0,121,10))[1:]"
   ]
  },
  {
   "cell_type": "code",
   "execution_count": null,
   "metadata": {},
   "outputs": [],
   "source": []
  },
  {
   "cell_type": "code",
   "execution_count": 10,
   "metadata": {},
   "outputs": [],
   "source": [
    "# import some spatial constrains\n",
    "North_china_plain_boundary = ee.FeatureCollection(\"users/wangjinzhulala/North_China_Plain_Python/Boundary_shp/North_China_Plain_Boundary\")\n",
    "\n",
    "# import verified points\n",
    "Verified_Point   = ee.FeatureCollection(f\"users/wangjinzhulala/North_China_Plain_Python/Sample_Points/Verified_pt_{year_name}\")\n",
    "Verified_Point_with_city_rural = ee.FeatureCollection(f\"users/wangjinzhulala/North_China_Plain_Python/Sample_Points/Verified_pt_{year_name}_with_20K_city_rural_pts\");"
   ]
  },
  {
   "cell_type": "code",
   "execution_count": null,
   "metadata": {},
   "outputs": [],
   "source": []
  },
  {
   "cell_type": "code",
   "execution_count": null,
   "metadata": {},
   "outputs": [],
   "source": []
  },
  {
   "cell_type": "markdown",
   "metadata": {},
   "source": [
    "### Step_1_Determine the best Harmonic number"
   ]
  },
  {
   "cell_type": "code",
   "execution_count": 12,
   "metadata": {},
   "outputs": [],
   "source": [
    "# use if condition to find out the right Landsat img formulation\n",
    "# here use Landsat Raw data because the simplecloudComposite \n",
    "# algorithm can be easily applied to it.\n",
    "\n",
    "# use the end_year as threshold\n",
    "end_year = int(year_name.split('_')[1])\n",
    "\n",
    "if  end_year  <= 2010:\n",
    "    Landsat_img = ee.ImageCollection(\"LANDSAT/LT05/C01/T1\")\n",
    "\n",
    "elif end_year <= 2013:\n",
    "    Landsat_img = ee.ImageCollection(\"LANDSAT/LE07/C01/T1\")\n",
    "\n",
    "else:\n",
    "    Landsat_img = ee.ImageCollection(\"LANDSAT/LC08/C01/T1\")"
   ]
  },
  {
   "cell_type": "code",
   "execution_count": null,
   "metadata": {},
   "outputs": [],
   "source": []
  },
  {
   "cell_type": "code",
   "execution_count": null,
   "metadata": {},
   "outputs": [],
   "source": []
  },
  {
   "cell_type": "code",
   "execution_count": 16,
   "metadata": {},
   "outputs": [
    {
     "name": "stdout",
     "output_type": "stream",
     "text": [
      "Analyzing the images of 2017_2019\n",
      "Exporting users/wang8052664/North_China_Plain/Fourier_imgs/Fourier_img_2017_2019_harmonic_1\n",
      "Analyzing the images of 2017_2019\n",
      "Exporting users/wang8052664/North_China_Plain/Fourier_imgs/Fourier_img_2017_2019_harmonic_2\n",
      "Analyzing the images of 2017_2019\n",
      "Exporting users/wang8052664/North_China_Plain/Fourier_imgs/Fourier_img_2017_2019_harmonic_3\n",
      "Analyzing the images of 2017_2019\n",
      "Exporting users/wang8052664/North_China_Plain/Fourier_imgs/Fourier_img_2017_2019_harmonic_4\n",
      "Analyzing the images of 2017_2019\n",
      "Exporting users/wang8052664/North_China_Plain/Fourier_imgs/Fourier_img_2017_2019_harmonic_5\n"
     ]
    }
   ],
   "source": [
    "# Extract the Fourier_pixel_value to sample points\n",
    "# 1) using year_range to make Fourier_img\n",
    "# 2) for each Forier_img, try harmonic number of [1-5]\n",
    "\n",
    "\n",
    "    \n",
    "for harmonic in range(1,6):\n",
    "\n",
    "    # define the asset path for exporting\n",
    "    asset_path = 'users/wang8052664/North_China_Plain/Fourier_imgs'\n",
    "    # define the name for exporting\n",
    "    extract_name = f'Fourier_img_{year_name}_harmonic_{harmonic}'\n",
    "\n",
    "\n",
    "    # make the Fourier img, the default is to make time series\n",
    "    # of ['NDVI', 'NDBI', 'EVI']\n",
    "    Fourier_making = Make_Fourier( start_date = start_time,\n",
    "                                   end_date   = end_time,\n",
    "                                   harmonics  = harmonic )\n",
    "\n",
    "    # Go through the Fourier img making process\n",
    "    Fourier_making.Stp_1_Create_hamonic_names()\n",
    "    Fourier_making.Stp_2_Add_harmonics()\n",
    "    Fourier_making.Stp_3_Harmonic_fit()\n",
    "\n",
    "    # Get the Fourier img\n",
    "    Fourier_img = Fourier_making.harmonicTrendCoefficients\n",
    "\n",
    "    # export the Fourier img\n",
    "    task = ee.batch.Export.image.toAsset( \n",
    "                                                image          = Fourier_img,\n",
    "                                                description    = f'Exporting {extract_name}',\n",
    "                                                assetId        = f'{asset_path}/{extract_name}',\n",
    "                                                region         = North_china_plain_boundary.geometry().bounds(),\n",
    "                                                scale          = 30,\n",
    "                                                maxPixels      = int(1e13))\n",
    "    task.start()\n",
    "\n",
    "    # print out the process\n",
    "    print(f'Exporting {asset_path}/{extract_name}')"
   ]
  },
  {
   "cell_type": "code",
   "execution_count": null,
   "metadata": {},
   "outputs": [],
   "source": []
  },
  {
   "cell_type": "markdown",
   "metadata": {},
   "source": [
    "### Step_2_Determine the best Year_range"
   ]
  },
  {
   "cell_type": "code",
   "execution_count": 37,
   "metadata": {},
   "outputs": [],
   "source": [
    "# first define the year range\n",
    "start = ['2015-01-01'] * 5\n",
    "end   = [f'{date}-12-31' for date in range(2015,2020)]\n",
    "\n",
    "year_range = list(zip(start,end))"
   ]
  },
  {
   "cell_type": "code",
   "execution_count": null,
   "metadata": {},
   "outputs": [],
   "source": []
  },
  {
   "cell_type": "code",
   "execution_count": null,
   "metadata": {},
   "outputs": [],
   "source": []
  },
  {
   "cell_type": "code",
   "execution_count": null,
   "metadata": {},
   "outputs": [],
   "source": []
  },
  {
   "cell_type": "code",
   "execution_count": 43,
   "metadata": {},
   "outputs": [
    {
     "name": "stdout",
     "output_type": "stream",
     "text": [
      "Analyzing the images of 2015_2015\n",
      "Fourier_img_2015_2015_harmonic_3\n",
      "Analyzing the images of 2015_2016\n",
      "Fourier_img_2015_2016_harmonic_3\n",
      "Analyzing the images of 2015_2017\n",
      "Fourier_img_2015_2017_harmonic_3\n",
      "Analyzing the images of 2015_2018\n",
      "Fourier_img_2015_2018_harmonic_3\n",
      "Analyzing the images of 2015_2019\n",
      "Fourier_img_2015_2019_harmonic_3\n"
     ]
    }
   ],
   "source": [
    "# Export different year_range fourier img to GEE_asset\n",
    "\n",
    "for span in year_range:\n",
    "    \n",
    "    # define the time span as name for later exporting \n",
    "    start = span[0].split('-')[0]\n",
    "    end   = span[1].split('-')[0]\n",
    "\n",
    "    span_name =  f'{start}_{end}'\n",
    "    \n",
    "    # define the asset path for exporting\n",
    "    asset_bucket = 'users/Jinzhu_Deakin/North_China_Plain/Fourier_img_diff_year_range'\n",
    "    # define the name for exporting\n",
    "    extract_name = f'Fourier_img_{span_name}_harmonic_3'\n",
    "    \n",
    "    # make the Fourier img, the default is to make time series\n",
    "    # of ['NDVI', 'NDBI', 'EVI']\n",
    "    Fourier_making = Make_Fourier( start_date = span[0],\n",
    "                                   end_date   = span[1],\n",
    "                                   harmonics  = 3 )\n",
    "\n",
    "    # Go through the Fourier img making process\n",
    "    Fourier_making.Stp_1_Create_hamonic_names()\n",
    "    Fourier_making.Stp_2_Add_harmonics()\n",
    "    Fourier_making.Stp_3_Harmonic_fit()\n",
    "\n",
    "    # Get the Fourier img\n",
    "    Fourier_img = Fourier_making.harmonicTrendCoefficients\n",
    "    \n",
    "    # Export the fourier_img to GEE_asset\n",
    "    task = ee.batch.Export.image.toAsset(   image       = Fourier_img,\n",
    "                                            description = f'Exporting {extract_name} ',\n",
    "                                            assetId     = f'{asset_bucket}/{extract_name}',\n",
    "                                            \n",
    "                                            \n",
    "                                            region      = North_china_plain_boundary.geometry(),\n",
    "                                            scale       = 30,\n",
    "                                            \n",
    "                                            maxPixels   = int(1e13))\n",
    "    task.start()\n",
    "    \n",
    "    # print out the process\n",
    "    print(extract_name)"
   ]
  },
  {
   "cell_type": "code",
   "execution_count": null,
   "metadata": {},
   "outputs": [],
   "source": []
  },
  {
   "cell_type": "code",
   "execution_count": null,
   "metadata": {},
   "outputs": [],
   "source": []
  },
  {
   "cell_type": "code",
   "execution_count": null,
   "metadata": {},
   "outputs": [],
   "source": []
  },
  {
   "cell_type": "code",
   "execution_count": null,
   "metadata": {},
   "outputs": [],
   "source": []
  },
  {
   "cell_type": "code",
   "execution_count": null,
   "metadata": {},
   "outputs": [],
   "source": []
  },
  {
   "cell_type": "code",
   "execution_count": null,
   "metadata": {},
   "outputs": [],
   "source": []
  }
 ],
 "metadata": {
  "kernelspec": {
   "display_name": "Python 3",
   "language": "python",
   "name": "python3"
  },
  "language_info": {
   "codemirror_mode": {
    "name": "ipython",
    "version": 3
   },
   "file_extension": ".py",
   "mimetype": "text/x-python",
   "name": "python",
   "nbconvert_exporter": "python",
   "pygments_lexer": "ipython3",
   "version": "3.8.2"
  }
 },
 "nbformat": 4,
 "nbformat_minor": 2
}
