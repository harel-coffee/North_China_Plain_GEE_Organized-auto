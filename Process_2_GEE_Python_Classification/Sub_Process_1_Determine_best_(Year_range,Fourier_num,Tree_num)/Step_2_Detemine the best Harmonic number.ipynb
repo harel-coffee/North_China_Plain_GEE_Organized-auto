{
 "cells": [
  {
   "cell_type": "code",
   "execution_count": 1,
   "metadata": {},
   "outputs": [],
   "source": [
    "import ee\n",
    "import datetime\n",
    "import os\n",
    "import itertools\n",
    "import sys\n",
    "\n",
    "from pprint import pprint\n",
    "import pandas as pd\n",
    "import numpy as np\n",
    "import seaborn as sns\n",
    "import matplotlib.pyplot as plt\n",
    "\n",
    "import geemap\n",
    "\n",
    "import subprocess\n",
    "from subprocess import PIPE"
   ]
  },
  {
   "cell_type": "code",
   "execution_count": 2,
   "metadata": {},
   "outputs": [],
   "source": [
    "ee.Initialize()\n",
    "\n",
    "# append the parent path into sys-path so wen can import necessary modules\n",
    "sys.path.append('../')"
   ]
  },
  {
   "cell_type": "code",
   "execution_count": null,
   "metadata": {},
   "outputs": [],
   "source": []
  },
  {
   "cell_type": "code",
   "execution_count": 3,
   "metadata": {},
   "outputs": [
    {
     "name": "stdout",
     "output_type": "stream",
     "text": [
      "The default supplementary data a Zero img, change accordingly when classify other years imgs\n",
      "\n"
     ]
    }
   ],
   "source": [
    "from BackGround_modules.Class_1_Make_fourier_imgs import Make_Fourier\n",
    "from BackGround_modules.Class_2_Classify_Fourier_Img import Classification\n",
    "from BackGround_modules.Class_3_Calculate_the_accuracy import Accuracy_assesment"
   ]
  },
  {
   "cell_type": "code",
   "execution_count": null,
   "metadata": {},
   "outputs": [],
   "source": []
  },
  {
   "cell_type": "markdown",
   "metadata": {},
   "source": [
    "### Step_0_Define_Basic_Parameters"
   ]
  },
  {
   "cell_type": "code",
   "execution_count": 4,
   "metadata": {},
   "outputs": [],
   "source": [
    "# imprt North_China_Plain boundary\n",
    "North_China_Plain = ee.FeatureCollection(\"users/wangjinzhulala/North_China_Plain_Python/Boundary_shp/North_China_Plain_Boundary\")"
   ]
  },
  {
   "cell_type": "code",
   "execution_count": null,
   "metadata": {},
   "outputs": [],
   "source": []
  },
  {
   "cell_type": "code",
   "execution_count": 5,
   "metadata": {},
   "outputs": [],
   "source": [
    "# Define the time-range\n",
    "# just get one_range from every different sensors\n",
    "year_range = [(f'{i}-01-01',f'2019-12-31') for i in range(2015,2020)] + \\\n",
    "             [(f'{i}-01-01',f'2013-12-31') for i in range(2009,2014)] + \\\n",
    "             [(f'{i}-01-01',f'2010-12-31') for i in range(2006,2011)]\n"
   ]
  },
  {
   "cell_type": "code",
   "execution_count": 6,
   "metadata": {},
   "outputs": [
    {
     "data": {
      "text/plain": [
       "[('2015-01-01', '2019-12-31'),\n",
       " ('2016-01-01', '2019-12-31'),\n",
       " ('2017-01-01', '2019-12-31'),\n",
       " ('2018-01-01', '2019-12-31'),\n",
       " ('2019-01-01', '2019-12-31'),\n",
       " ('2009-01-01', '2013-12-31'),\n",
       " ('2010-01-01', '2013-12-31'),\n",
       " ('2011-01-01', '2013-12-31'),\n",
       " ('2012-01-01', '2013-12-31'),\n",
       " ('2013-01-01', '2013-12-31'),\n",
       " ('2006-01-01', '2010-12-31'),\n",
       " ('2007-01-01', '2010-12-31'),\n",
       " ('2008-01-01', '2010-12-31'),\n",
       " ('2009-01-01', '2010-12-31'),\n",
       " ('2010-01-01', '2010-12-31')]"
      ]
     },
     "execution_count": 6,
     "metadata": {},
     "output_type": "execute_result"
    }
   ],
   "source": [
    "year_range"
   ]
  },
  {
   "cell_type": "code",
   "execution_count": null,
   "metadata": {},
   "outputs": [],
   "source": []
  },
  {
   "cell_type": "code",
   "execution_count": 12,
   "metadata": {},
   "outputs": [],
   "source": [
    "random_point = ee.FeatureCollection.randomPoints(North_China_Plain, 100, 101).toList(100).getInfo()"
   ]
  },
  {
   "cell_type": "code",
   "execution_count": null,
   "metadata": {},
   "outputs": [],
   "source": []
  },
  {
   "cell_type": "code",
   "execution_count": 48,
   "metadata": {},
   "outputs": [
    {
     "name": "stdout",
     "output_type": "stream",
     "text": [
      "Analyzing the images of 2015_2019\n"
     ]
    },
    {
     "ename": "EEException",
     "evalue": "Collection.map: A mapped algorithm must return a Feature or Image.",
     "output_type": "error",
     "traceback": [
      "\u001b[0;31m---------------------------------------------------------------------------\u001b[0m",
      "\u001b[0;31mHttpError\u001b[0m                                 Traceback (most recent call last)",
      "\u001b[0;32m~/anaconda3/envs/ee_py3/lib/python3.6/site-packages/ee/data.py\u001b[0m in \u001b[0;36m_execute_cloud_call\u001b[0;34m(call, num_retries)\u001b[0m\n\u001b[1;32m    337\u001b[0m   \u001b[0;32mtry\u001b[0m\u001b[0;34m:\u001b[0m\u001b[0;34m\u001b[0m\u001b[0;34m\u001b[0m\u001b[0m\n\u001b[0;32m--> 338\u001b[0;31m     \u001b[0;32mreturn\u001b[0m \u001b[0mcall\u001b[0m\u001b[0;34m.\u001b[0m\u001b[0mexecute\u001b[0m\u001b[0;34m(\u001b[0m\u001b[0mnum_retries\u001b[0m\u001b[0;34m=\u001b[0m\u001b[0mnum_retries\u001b[0m\u001b[0;34m)\u001b[0m\u001b[0;34m\u001b[0m\u001b[0;34m\u001b[0m\u001b[0m\n\u001b[0m\u001b[1;32m    339\u001b[0m   \u001b[0;32mexcept\u001b[0m \u001b[0mapiclient\u001b[0m\u001b[0;34m.\u001b[0m\u001b[0merrors\u001b[0m\u001b[0;34m.\u001b[0m\u001b[0mHttpError\u001b[0m \u001b[0;32mas\u001b[0m \u001b[0me\u001b[0m\u001b[0;34m:\u001b[0m\u001b[0;34m\u001b[0m\u001b[0;34m\u001b[0m\u001b[0m\n",
      "\u001b[0;32m~/anaconda3/envs/ee_py3/lib/python3.6/site-packages/googleapiclient/_helpers.py\u001b[0m in \u001b[0;36mpositional_wrapper\u001b[0;34m(*args, **kwargs)\u001b[0m\n\u001b[1;32m    133\u001b[0m                     \u001b[0mlogger\u001b[0m\u001b[0;34m.\u001b[0m\u001b[0mwarning\u001b[0m\u001b[0;34m(\u001b[0m\u001b[0mmessage\u001b[0m\u001b[0;34m)\u001b[0m\u001b[0;34m\u001b[0m\u001b[0;34m\u001b[0m\u001b[0m\n\u001b[0;32m--> 134\u001b[0;31m             \u001b[0;32mreturn\u001b[0m \u001b[0mwrapped\u001b[0m\u001b[0;34m(\u001b[0m\u001b[0;34m*\u001b[0m\u001b[0margs\u001b[0m\u001b[0;34m,\u001b[0m \u001b[0;34m**\u001b[0m\u001b[0mkwargs\u001b[0m\u001b[0;34m)\u001b[0m\u001b[0;34m\u001b[0m\u001b[0;34m\u001b[0m\u001b[0m\n\u001b[0m\u001b[1;32m    135\u001b[0m \u001b[0;34m\u001b[0m\u001b[0m\n",
      "\u001b[0;32m~/anaconda3/envs/ee_py3/lib/python3.6/site-packages/googleapiclient/http.py\u001b[0m in \u001b[0;36mexecute\u001b[0;34m(self, http, num_retries)\u001b[0m\n\u001b[1;32m    897\u001b[0m         \u001b[0;32mif\u001b[0m \u001b[0mresp\u001b[0m\u001b[0;34m.\u001b[0m\u001b[0mstatus\u001b[0m \u001b[0;34m>=\u001b[0m \u001b[0;36m300\u001b[0m\u001b[0;34m:\u001b[0m\u001b[0;34m\u001b[0m\u001b[0;34m\u001b[0m\u001b[0m\n\u001b[0;32m--> 898\u001b[0;31m             \u001b[0;32mraise\u001b[0m \u001b[0mHttpError\u001b[0m\u001b[0;34m(\u001b[0m\u001b[0mresp\u001b[0m\u001b[0;34m,\u001b[0m \u001b[0mcontent\u001b[0m\u001b[0;34m,\u001b[0m \u001b[0muri\u001b[0m\u001b[0;34m=\u001b[0m\u001b[0mself\u001b[0m\u001b[0;34m.\u001b[0m\u001b[0muri\u001b[0m\u001b[0;34m)\u001b[0m\u001b[0;34m\u001b[0m\u001b[0;34m\u001b[0m\u001b[0m\n\u001b[0m\u001b[1;32m    899\u001b[0m         \u001b[0;32mreturn\u001b[0m \u001b[0mself\u001b[0m\u001b[0;34m.\u001b[0m\u001b[0mpostproc\u001b[0m\u001b[0;34m(\u001b[0m\u001b[0mresp\u001b[0m\u001b[0;34m,\u001b[0m \u001b[0mcontent\u001b[0m\u001b[0;34m)\u001b[0m\u001b[0;34m\u001b[0m\u001b[0;34m\u001b[0m\u001b[0m\n",
      "\u001b[0;31mHttpError\u001b[0m: <HttpError 400 when requesting https://earthengine.googleapis.com/v1alpha/projects/earthengine-legacy/value:compute?prettyPrint=false&alt=json returned \"Collection.map: A mapped algorithm must return a Feature or Image.\">",
      "\nDuring handling of the above exception, another exception occurred:\n",
      "\u001b[0;31mEEException\u001b[0m                               Traceback (most recent call last)",
      "\u001b[0;32m<ipython-input-48-c7583c626622>\u001b[0m in \u001b[0;36m<module>\u001b[0;34m\u001b[0m\n\u001b[1;32m     55\u001b[0m             point_with_residule.append(\n\u001b[1;32m     56\u001b[0m                                       \u001b[0mee\u001b[0m\u001b[0;34m.\u001b[0m\u001b[0mFeatureCollection\u001b[0m\u001b[0;34m(\u001b[0m\u001b[0mpt\u001b[0m\u001b[0;34m)\u001b[0m\u001b[0;31m\\\u001b[0m\u001b[0;34m\u001b[0m\u001b[0;34m\u001b[0m\u001b[0m\n\u001b[0;32m---> 57\u001b[0;31m                                         .map(lambda p: Residule_img.getRegion(ee.FeatureCollection(p)\n\u001b[0m\u001b[1;32m     58\u001b[0m                                                                                 .geometry(),30))\n\u001b[1;32m     59\u001b[0m                                                                                 .getInfo())\n",
      "\u001b[0;32m~/anaconda3/envs/ee_py3/lib/python3.6/site-packages/ee/collection.py\u001b[0m in \u001b[0;36mgetInfo\u001b[0;34m(self)\u001b[0m\n\u001b[1;32m    125\u001b[0m            \u001b[0mproperties\u001b[0m\u001b[0;34m.\u001b[0m\u001b[0;34m\u001b[0m\u001b[0;34m\u001b[0m\u001b[0m\n\u001b[1;32m    126\u001b[0m     \"\"\"\n\u001b[0;32m--> 127\u001b[0;31m     \u001b[0;32mreturn\u001b[0m \u001b[0msuper\u001b[0m\u001b[0;34m(\u001b[0m\u001b[0mCollection\u001b[0m\u001b[0;34m,\u001b[0m \u001b[0mself\u001b[0m\u001b[0;34m)\u001b[0m\u001b[0;34m.\u001b[0m\u001b[0mgetInfo\u001b[0m\u001b[0;34m(\u001b[0m\u001b[0;34m)\u001b[0m\u001b[0;34m\u001b[0m\u001b[0;34m\u001b[0m\u001b[0m\n\u001b[0m\u001b[1;32m    128\u001b[0m \u001b[0;34m\u001b[0m\u001b[0m\n\u001b[1;32m    129\u001b[0m   \u001b[0;32mdef\u001b[0m \u001b[0mlimit\u001b[0m\u001b[0;34m(\u001b[0m\u001b[0mself\u001b[0m\u001b[0;34m,\u001b[0m \u001b[0mmaximum\u001b[0m\u001b[0;34m,\u001b[0m \u001b[0mopt_property\u001b[0m\u001b[0;34m=\u001b[0m\u001b[0;32mNone\u001b[0m\u001b[0;34m,\u001b[0m \u001b[0mopt_ascending\u001b[0m\u001b[0;34m=\u001b[0m\u001b[0;32mNone\u001b[0m\u001b[0;34m)\u001b[0m\u001b[0;34m:\u001b[0m\u001b[0;34m\u001b[0m\u001b[0;34m\u001b[0m\u001b[0m\n",
      "\u001b[0;32m~/anaconda3/envs/ee_py3/lib/python3.6/site-packages/ee/computedobject.py\u001b[0m in \u001b[0;36mgetInfo\u001b[0;34m(self)\u001b[0m\n\u001b[1;32m     93\u001b[0m       \u001b[0mThe\u001b[0m \u001b[0mobject\u001b[0m \u001b[0mcan\u001b[0m \u001b[0mevaluate\u001b[0m \u001b[0mto\u001b[0m \u001b[0manything\u001b[0m\u001b[0;34m.\u001b[0m\u001b[0;34m\u001b[0m\u001b[0;34m\u001b[0m\u001b[0m\n\u001b[1;32m     94\u001b[0m     \"\"\"\n\u001b[0;32m---> 95\u001b[0;31m     \u001b[0;32mreturn\u001b[0m \u001b[0mdata\u001b[0m\u001b[0;34m.\u001b[0m\u001b[0mcomputeValue\u001b[0m\u001b[0;34m(\u001b[0m\u001b[0mself\u001b[0m\u001b[0;34m)\u001b[0m\u001b[0;34m\u001b[0m\u001b[0;34m\u001b[0m\u001b[0m\n\u001b[0m\u001b[1;32m     96\u001b[0m \u001b[0;34m\u001b[0m\u001b[0m\n\u001b[1;32m     97\u001b[0m   \u001b[0;32mdef\u001b[0m \u001b[0mencode\u001b[0m\u001b[0;34m(\u001b[0m\u001b[0mself\u001b[0m\u001b[0;34m,\u001b[0m \u001b[0mencoder\u001b[0m\u001b[0;34m)\u001b[0m\u001b[0;34m:\u001b[0m\u001b[0;34m\u001b[0m\u001b[0;34m\u001b[0m\u001b[0m\n",
      "\u001b[0;32m~/anaconda3/envs/ee_py3/lib/python3.6/site-packages/ee/data.py\u001b[0m in \u001b[0;36mcomputeValue\u001b[0;34m(obj)\u001b[0m\n\u001b[1;32m    701\u001b[0m         \u001b[0mbody\u001b[0m\u001b[0;34m=\u001b[0m\u001b[0;34m{\u001b[0m\u001b[0;34m'expression'\u001b[0m\u001b[0;34m:\u001b[0m \u001b[0mserializer\u001b[0m\u001b[0;34m.\u001b[0m\u001b[0mencode\u001b[0m\u001b[0;34m(\u001b[0m\u001b[0mobj\u001b[0m\u001b[0;34m,\u001b[0m \u001b[0mfor_cloud_api\u001b[0m\u001b[0;34m=\u001b[0m\u001b[0;32mTrue\u001b[0m\u001b[0;34m)\u001b[0m\u001b[0;34m}\u001b[0m\u001b[0;34m,\u001b[0m\u001b[0;34m\u001b[0m\u001b[0;34m\u001b[0m\u001b[0m\n\u001b[1;32m    702\u001b[0m         \u001b[0mproject\u001b[0m\u001b[0;34m=\u001b[0m\u001b[0m_get_projects_path\u001b[0m\u001b[0;34m(\u001b[0m\u001b[0;34m)\u001b[0m\u001b[0;34m,\u001b[0m\u001b[0;34m\u001b[0m\u001b[0;34m\u001b[0m\u001b[0m\n\u001b[0;32m--> 703\u001b[0;31m         prettyPrint=False))['result']\n\u001b[0m\u001b[1;32m    704\u001b[0m   \u001b[0;32mreturn\u001b[0m \u001b[0msend_\u001b[0m\u001b[0;34m(\u001b[0m\u001b[0;34m'/value'\u001b[0m\u001b[0;34m,\u001b[0m \u001b[0;34m(\u001b[0m\u001b[0;34m{\u001b[0m\u001b[0;34m'json'\u001b[0m\u001b[0;34m:\u001b[0m \u001b[0mobj\u001b[0m\u001b[0;34m.\u001b[0m\u001b[0mserialize\u001b[0m\u001b[0;34m(\u001b[0m\u001b[0;34m)\u001b[0m\u001b[0;34m,\u001b[0m \u001b[0;34m'json_format'\u001b[0m\u001b[0;34m:\u001b[0m \u001b[0;34m'v2'\u001b[0m\u001b[0;34m}\u001b[0m\u001b[0;34m)\u001b[0m\u001b[0;34m)\u001b[0m\u001b[0;34m\u001b[0m\u001b[0;34m\u001b[0m\u001b[0m\n\u001b[1;32m    705\u001b[0m \u001b[0;34m\u001b[0m\u001b[0m\n",
      "\u001b[0;32m~/anaconda3/envs/ee_py3/lib/python3.6/site-packages/ee/data.py\u001b[0m in \u001b[0;36m_execute_cloud_call\u001b[0;34m(call, num_retries)\u001b[0m\n\u001b[1;32m    338\u001b[0m     \u001b[0;32mreturn\u001b[0m \u001b[0mcall\u001b[0m\u001b[0;34m.\u001b[0m\u001b[0mexecute\u001b[0m\u001b[0;34m(\u001b[0m\u001b[0mnum_retries\u001b[0m\u001b[0;34m=\u001b[0m\u001b[0mnum_retries\u001b[0m\u001b[0;34m)\u001b[0m\u001b[0;34m\u001b[0m\u001b[0;34m\u001b[0m\u001b[0m\n\u001b[1;32m    339\u001b[0m   \u001b[0;32mexcept\u001b[0m \u001b[0mapiclient\u001b[0m\u001b[0;34m.\u001b[0m\u001b[0merrors\u001b[0m\u001b[0;34m.\u001b[0m\u001b[0mHttpError\u001b[0m \u001b[0;32mas\u001b[0m \u001b[0me\u001b[0m\u001b[0;34m:\u001b[0m\u001b[0;34m\u001b[0m\u001b[0;34m\u001b[0m\u001b[0m\n\u001b[0;32m--> 340\u001b[0;31m     \u001b[0;32mraise\u001b[0m \u001b[0m_translate_cloud_exception\u001b[0m\u001b[0;34m(\u001b[0m\u001b[0me\u001b[0m\u001b[0;34m)\u001b[0m\u001b[0;34m\u001b[0m\u001b[0;34m\u001b[0m\u001b[0m\n\u001b[0m\u001b[1;32m    341\u001b[0m \u001b[0;34m\u001b[0m\u001b[0m\n\u001b[1;32m    342\u001b[0m \u001b[0;34m\u001b[0m\u001b[0m\n",
      "\u001b[0;31mEEException\u001b[0m: Collection.map: A mapped algorithm must return a Feature or Image."
     ]
    }
   ],
   "source": [
    "# randomly generated 1000 point within the boundary of North China Plain\n",
    "# which will be used to record the residul between original and fitted\n",
    "# normalized value\n",
    "                                                                 \n",
    "\n",
    "point_with_residule = []\n",
    "\n",
    "\n",
    "# loop through all year_range\n",
    "for span in year_range:\n",
    "    \n",
    "    # define the start and end of time\n",
    "    start = span[0]\n",
    "    end   = span[1]\n",
    "    spane_len = str(int(end[:4]) - int(start[:4]))\n",
    "    \n",
    "    # get span_name for export\n",
    "    split = '-'\n",
    "    span_name = f'{start.split(split)[0]}_{end.split(split)[0]}'\n",
    "    \n",
    "    # get the folder to store computation result\n",
    "    folder = 'Step_2_result'\n",
    "    \n",
    "\n",
    "    # using while-True to avoid internet-unstable caused break\n",
    "           \n",
    "    # loop through harmonic of 1-10\n",
    "    for harmonic in range(1,11):\n",
    "\n",
    "        # make a residule img \n",
    "        Fourier_making = Make_Fourier(start_date=start,end_date=end,harmonics=harmonic)\n",
    "        Fourier_making.Stp_1_Create_hamonic_names()\n",
    "        Fourier_making.Stp_2_Add_harmonics()\n",
    "        Fourier_making.Stp_3_Harmonic_fit()\n",
    "\n",
    "        # get the Residule img.\n",
    "        Residule_img = ee.ImageCollection(Fourier_making.harmonicTrendResidule)\n",
    "\n",
    "        # loop through all random point to extract residule value to ramdom point\n",
    "        # here not use sample point is because 'memory exceed' problem\n",
    "\n",
    "        pt_flag = None\n",
    "        \n",
    "        \n",
    "        for subset_pt in [range(i,i+5) for i in range(0,100,5) ]:\n",
    "            \n",
    "            # get the first and last value of subset\n",
    "            start = subset_pt[0]\n",
    "            end   = subset_pt[-1]\n",
    "            \n",
    "            # get the subset points\n",
    "            pt = random_point[start:end+1]\n",
    "            \n",
    "            # calculate the \n",
    "            point_with_residule.append(\n",
    "                                      ee.FeatureCollection(pt)\\\n",
    "                                        .map(lambda p: Residule_img.getRegion(ee.FeatureCollection(p)\n",
    "                                                                                .geometry(),30))\n",
    "                                                                                .getInfo())\n",
    "\n",
    "            #print out the process out point calculation\n",
    "            print(f'{span_name}_harmonic_{harmonic}_pt_{str(start).zfill(2)}_{str(end).zfill(2)}')\n",
    "\n",
    "        # print out the process of Harmonic\n",
    "        print(f'_____Harmonic_{harmonic}____')\n",
    "\n",
    "        \n",
    "    # print out the process of year_span\n",
    "    print(f'===============|{span_name}|==================')"
   ]
  },
  {
   "cell_type": "code",
   "execution_count": null,
   "metadata": {},
   "outputs": [],
   "source": []
  },
  {
   "cell_type": "code",
   "execution_count": 35,
   "metadata": {},
   "outputs": [
    {
     "data": {
      "text/plain": [
       "[0, 1, 2, 3, 4]"
      ]
     },
     "execution_count": 35,
     "metadata": {},
     "output_type": "execute_result"
    }
   ],
   "source": [
    "list(subset_pt)"
   ]
  },
  {
   "cell_type": "code",
   "execution_count": 44,
   "metadata": {},
   "outputs": [
    {
     "data": {
      "text/plain": [
       "[{'type': 'Feature',\n",
       "  'geometry': {'type': 'Point',\n",
       "   'coordinates': [118.0645505058396, 36.33837078836222]},\n",
       "  'id': '0',\n",
       "  'properties': {}},\n",
       " {'type': 'Feature',\n",
       "  'geometry': {'type': 'Point',\n",
       "   'coordinates': [117.45136726995973, 34.74709523190146]},\n",
       "  'id': '1',\n",
       "  'properties': {}},\n",
       " {'type': 'Feature',\n",
       "  'geometry': {'type': 'Point',\n",
       "   'coordinates': [116.37995553940033, 40.93179452566714]},\n",
       "  'id': '2',\n",
       "  'properties': {}},\n",
       " {'type': 'Feature',\n",
       "  'geometry': {'type': 'Point',\n",
       "   'coordinates': [112.39193093143045, 34.22311157858832]},\n",
       "  'id': '3',\n",
       "  'properties': {}}]"
      ]
     },
     "execution_count": 44,
     "metadata": {},
     "output_type": "execute_result"
    }
   ],
   "source": [
    "random_point[start:end]"
   ]
  },
  {
   "cell_type": "markdown",
   "metadata": {},
   "source": [
    "### Step_1_Generate Fourier img with different harmonic from 1997-2019"
   ]
  },
  {
   "cell_type": "code",
   "execution_count": null,
   "metadata": {},
   "outputs": [
    {
     "name": "stdout",
     "output_type": "stream",
     "text": [
      "Analyzing the images of 2015_2019\n",
      "Residule computation on 2015_2019_harmonic_1_pt_0 not successful!\n",
      "Analyzing the images of 2015_2019\n",
      "Residule computation on 2015_2019_harmonic_1_pt_0 not successful!\n",
      "Analyzing the images of 2015_2019\n",
      "Residule computation on 2015_2019_harmonic_1_pt_0 not successful!\n",
      "Analyzing the images of 2015_2019\n",
      "Residule computation on 2015_2019_harmonic_1_pt_0 not successful!\n",
      "Analyzing the images of 2015_2019\n",
      "Residule computation on 2015_2019_harmonic_1_pt_0 not successful!\n",
      "Analyzing the images of 2015_2019\n",
      "Residule computation on 2015_2019_harmonic_1_pt_0 not successful!\n",
      "Analyzing the images of 2015_2019\n",
      "Residule computation on 2015_2019_harmonic_1_pt_0 not successful!\n",
      "Analyzing the images of 2015_2019\n",
      "Residule computation on 2015_2019_harmonic_1_pt_0 not successful!\n",
      "Analyzing the images of 2015_2019\n",
      "Residule computation on 2015_2019_harmonic_1_pt_0 not successful!\n",
      "Analyzing the images of 2015_2019\n",
      "Residule computation on 2015_2019_harmonic_1_pt_0 not successful!\n",
      "Analyzing the images of 2015_2019\n",
      "Residule computation on 2015_2019_harmonic_1_pt_0 not successful!\n",
      "Analyzing the images of 2015_2019\n",
      "Residule computation on 2015_2019_harmonic_1_pt_0 not successful!\n",
      "Analyzing the images of 2015_2019\n",
      "Residule computation on 2015_2019_harmonic_1_pt_0 not successful!\n",
      "Analyzing the images of 2015_2019\n",
      "Residule computation on 2015_2019_harmonic_1_pt_0 not successful!\n",
      "Analyzing the images of 2015_2019\n",
      "Residule computation on 2015_2019_harmonic_1_pt_0 not successful!\n",
      "Analyzing the images of 2015_2019\n",
      "Residule computation on 2015_2019_harmonic_1_pt_0 not successful!\n",
      "Residule computation on 2015_2019_harmonic_1_pt_0 not successful!\n",
      "Analyzing the images of 2015_2019\n",
      "Residule computation on 2015_2019_harmonic_1_pt_0 not successful!\n",
      "Analyzing the images of 2015_2019\n",
      "Residule computation on 2015_2019_harmonic_1_pt_0 not successful!\n",
      "Analyzing the images of 2015_2019\n",
      "Residule computation on 2015_2019_harmonic_1_pt_0 not successful!\n",
      "Analyzing the images of 2015_2019\n",
      "Residule computation on 2015_2019_harmonic_1_pt_0 not successful!\n",
      "Analyzing the images of 2015_2019\n",
      "Residule computation on 2015_2019_harmonic_1_pt_0 not successful!\n",
      "Residule computation on 2015_2019_harmonic_1_pt_0 not successful!\n",
      "Residule computation on 2015_2019_harmonic_1_pt_0 not successful!\n",
      "Analyzing the images of 2015_2019\n",
      "Residule computation on 2015_2019_harmonic_1_pt_0 not successful!\n"
     ]
    }
   ],
   "source": [
    "# randomly generated 1000 point within the boundary of North China Plain\n",
    "# which will be used to record the residul between original and fitted\n",
    "# normalized value\n",
    "                                                                 \n",
    "random_point = ee.FeatureCollection.randomPoints(North_China_Plain, 100, 101).toList(100).getInfo()\n",
    "    \n",
    "# loop through all year_range\n",
    "for span in year_range:\n",
    "    \n",
    "    # define the start and end of time\n",
    "    start = span[0]\n",
    "    end   = span[1]\n",
    "    spane_len = str(int(end[:4]) - int(start[:4]))\n",
    "    \n",
    "    # get span_name for export\n",
    "    split = '-'\n",
    "    span_name = f'{start.split(split)[0]}_{end.split(split)[0]}'\n",
    "    \n",
    "    # get the folder to store computation result\n",
    "    folder = 'Step_2_result'\n",
    "    \n",
    "    while True:\n",
    "        \n",
    "        # using while-True to avoid internet-unstable caused break\n",
    "        try:            \n",
    "            # loop through harmonic of 1-10\n",
    "            for harmonic in range(1,11):\n",
    "\n",
    "                # make a residule img \n",
    "                Fourier_making = Make_Fourier(start_date=start,end_date=end,harmonics=harmonic)\n",
    "                Fourier_making.Stp_1_Create_hamonic_names()\n",
    "                Fourier_making.Stp_2_Add_harmonics()\n",
    "                Fourier_making.Stp_3_Harmonic_fit()\n",
    "\n",
    "                # get the Residule img.\n",
    "                Residule_img = ee.ImageCollection(Fourier_making.harmonicTrendResidule)\n",
    "\n",
    "                # loop through all random point to extract residule value to ramdom point\n",
    "                # here not use sample point is because 'memory exceed' problem\n",
    "        \n",
    "                pt_flag = None\n",
    "                for pt in random_point:\n",
    "            \n",
    "                    pt_flag = pt['id']\n",
    "                    point_with_residule = Residule_img.getRegion(pt['geometry'],30).getInfo()\n",
    "                    \n",
    "                    #print out the process out point calculation\n",
    "                    print(f'{span_name}_harmonic_{harmonic}_pt_{str(pt_flag).zfill(2)}')\n",
    "                \n",
    "                # print out the process of Harmonic\n",
    "                print(f'_____Harmonic_{harmonic}____')\n",
    "            \n",
    "        \n",
    "        except:\n",
    "            \n",
    "            print(f'Residule computation on {span_name}_harmonic_{harmonic}_pt_{pt_flag} not successful!')\n",
    "            \n",
    "            # if something wrong, do it again!\n",
    "            continue\n",
    "        \n",
    "        break\n",
    "        \n",
    "    # print out the process of year_span\n",
    "    print(f'===============|{span_name}|==================')"
   ]
  },
  {
   "cell_type": "code",
   "execution_count": null,
   "metadata": {},
   "outputs": [],
   "source": []
  },
  {
   "cell_type": "code",
   "execution_count": null,
   "metadata": {},
   "outputs": [],
   "source": []
  },
  {
   "cell_type": "code",
   "execution_count": null,
   "metadata": {},
   "outputs": [],
   "source": []
  },
  {
   "cell_type": "code",
   "execution_count": null,
   "metadata": {},
   "outputs": [],
   "source": []
  },
  {
   "cell_type": "code",
   "execution_count": null,
   "metadata": {},
   "outputs": [],
   "source": []
  },
  {
   "cell_type": "code",
   "execution_count": null,
   "metadata": {},
   "outputs": [],
   "source": []
  },
  {
   "cell_type": "code",
   "execution_count": null,
   "metadata": {},
   "outputs": [],
   "source": []
  },
  {
   "cell_type": "code",
   "execution_count": null,
   "metadata": {},
   "outputs": [],
   "source": []
  },
  {
   "cell_type": "code",
   "execution_count": null,
   "metadata": {},
   "outputs": [],
   "source": []
  },
  {
   "cell_type": "code",
   "execution_count": null,
   "metadata": {},
   "outputs": [],
   "source": []
  },
  {
   "cell_type": "code",
   "execution_count": null,
   "metadata": {},
   "outputs": [],
   "source": []
  },
  {
   "cell_type": "code",
   "execution_count": null,
   "metadata": {},
   "outputs": [],
   "source": []
  },
  {
   "cell_type": "code",
   "execution_count": null,
   "metadata": {},
   "outputs": [],
   "source": []
  },
  {
   "cell_type": "code",
   "execution_count": null,
   "metadata": {},
   "outputs": [],
   "source": []
  },
  {
   "cell_type": "code",
   "execution_count": null,
   "metadata": {},
   "outputs": [],
   "source": []
  },
  {
   "cell_type": "code",
   "execution_count": null,
   "metadata": {},
   "outputs": [],
   "source": []
  },
  {
   "cell_type": "code",
   "execution_count": null,
   "metadata": {},
   "outputs": [],
   "source": []
  },
  {
   "cell_type": "code",
   "execution_count": null,
   "metadata": {},
   "outputs": [],
   "source": []
  },
  {
   "cell_type": "code",
   "execution_count": null,
   "metadata": {},
   "outputs": [],
   "source": []
  },
  {
   "cell_type": "code",
   "execution_count": null,
   "metadata": {},
   "outputs": [],
   "source": []
  },
  {
   "cell_type": "code",
   "execution_count": null,
   "metadata": {},
   "outputs": [],
   "source": []
  },
  {
   "cell_type": "code",
   "execution_count": null,
   "metadata": {},
   "outputs": [],
   "source": []
  },
  {
   "cell_type": "code",
   "execution_count": null,
   "metadata": {},
   "outputs": [],
   "source": []
  },
  {
   "cell_type": "code",
   "execution_count": null,
   "metadata": {},
   "outputs": [],
   "source": []
  },
  {
   "cell_type": "code",
   "execution_count": null,
   "metadata": {},
   "outputs": [],
   "source": []
  },
  {
   "cell_type": "code",
   "execution_count": null,
   "metadata": {},
   "outputs": [],
   "source": []
  },
  {
   "cell_type": "code",
   "execution_count": null,
   "metadata": {},
   "outputs": [],
   "source": []
  },
  {
   "cell_type": "code",
   "execution_count": null,
   "metadata": {},
   "outputs": [],
   "source": []
  },
  {
   "cell_type": "code",
   "execution_count": null,
   "metadata": {},
   "outputs": [],
   "source": []
  },
  {
   "cell_type": "code",
   "execution_count": null,
   "metadata": {},
   "outputs": [],
   "source": []
  },
  {
   "cell_type": "code",
   "execution_count": null,
   "metadata": {},
   "outputs": [],
   "source": []
  },
  {
   "cell_type": "code",
   "execution_count": null,
   "metadata": {},
   "outputs": [],
   "source": []
  },
  {
   "cell_type": "code",
   "execution_count": null,
   "metadata": {},
   "outputs": [],
   "source": []
  },
  {
   "cell_type": "code",
   "execution_count": null,
   "metadata": {},
   "outputs": [],
   "source": []
  }
 ],
 "metadata": {
  "kernelspec": {
   "display_name": "Python 3",
   "language": "python",
   "name": "python3"
  },
  "language_info": {
   "codemirror_mode": {
    "name": "ipython",
    "version": 3
   },
   "file_extension": ".py",
   "mimetype": "text/x-python",
   "name": "python",
   "nbconvert_exporter": "python",
   "pygments_lexer": "ipython3",
   "version": "3.6.10"
  }
 },
 "nbformat": 4,
 "nbformat_minor": 2
}
