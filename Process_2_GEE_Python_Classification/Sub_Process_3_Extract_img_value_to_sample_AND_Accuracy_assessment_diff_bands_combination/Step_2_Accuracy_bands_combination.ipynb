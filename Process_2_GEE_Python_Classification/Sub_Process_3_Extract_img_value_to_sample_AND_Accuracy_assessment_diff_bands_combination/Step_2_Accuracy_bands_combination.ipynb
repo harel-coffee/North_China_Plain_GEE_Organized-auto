{
 "cells": [
  {
   "cell_type": "code",
   "execution_count": 1,
   "metadata": {},
   "outputs": [],
   "source": [
    "import ee\n",
    "import datetime\n",
    "import os\n",
    "import itertools\n",
    "import sys\n",
    "import re\n",
    "\n",
    "import pandas as pd\n",
    "import numpy as np\n",
    "import seaborn as sns\n",
    "import matplotlib.pyplot as plt\n",
    "\n",
    "import geemap\n",
    "\n",
    "import subprocess\n",
    "from subprocess import PIPE"
   ]
  },
  {
   "cell_type": "code",
   "execution_count": 2,
   "metadata": {},
   "outputs": [],
   "source": [
    "ee.Initialize()"
   ]
  },
  {
   "cell_type": "code",
   "execution_count": 3,
   "metadata": {},
   "outputs": [],
   "source": [
    "# append upper folder into sys-path during run time so we can\n",
    "# import our own moduls\n",
    "sys.path.append('..')"
   ]
  },
  {
   "cell_type": "code",
   "execution_count": 4,
   "metadata": {},
   "outputs": [],
   "source": [
    "from BackGround_modules.Class_2_Classify_Fourier_Img   import Classification\n",
    "from BackGround_modules.Class_3_Calculate_the_accuracy import Accuracy_assesment\n",
    "from BackGround_modules.Class_4_Create_Sample_Classification_instancs import Make_Sample_Classification"
   ]
  },
  {
   "cell_type": "code",
   "execution_count": null,
   "metadata": {},
   "outputs": [],
   "source": []
  },
  {
   "cell_type": "markdown",
   "metadata": {},
   "source": [
    "##### Define_Basic_Parameters"
   ]
  },
  {
   "cell_type": "code",
   "execution_count": 9,
   "metadata": {},
   "outputs": [],
   "source": [
    "# define the year_name for test, here choose these years because they represent\n",
    "# Landsat8/7/5 respectively\n",
    "year_name = ['2017_2019','2011_2013', '2008_2010']\n",
    "percent_value = [1,2,3,5,7,10,20,30,50,70,100]\n",
    "tree_num = [1] + list(range(10,121,10))\n",
    "\n",
    "combination_name = ['Landsat',\n",
    "                    'Fourier',\n",
    "                    'Landsat_Fourier',\n",
    "                    'Landsat_Mean',\n",
    "                    'Fourier_Mean',\n",
    "                    'Landsat_Fourier_Mean',\n",
    "                    'Landsat_Fourier_Climate',\n",
    "                    'Landsat_Fourier_Terrain',\n",
    "                    'Landsat_Fourier_Terrain_Climate']"
   ]
  },
  {
   "cell_type": "code",
   "execution_count": null,
   "metadata": {},
   "outputs": [],
   "source": []
  },
  {
   "cell_type": "markdown",
   "metadata": {},
   "source": [
    "#### Calculate the band_combination accuracy using [Invariant_traning_sample] with different percentage reduction"
   ]
  },
  {
   "cell_type": "markdown",
   "metadata": {},
   "source": [
    "Produce classification_instances"
   ]
  },
  {
   "cell_type": "code",
   "execution_count": null,
   "metadata": {},
   "outputs": [],
   "source": []
  },
  {
   "cell_type": "code",
   "execution_count": null,
   "metadata": {},
   "outputs": [
    {
     "name": "stdout",
     "output_type": "stream",
     "text": [
      "Percetage coresponded size is 141\n",
      "Percetage coresponded size is 87\n",
      "Classification of 2017_2019_Landsat_pct_001_tree_0001 completed!\n",
      "Classification of 2017_2019_Landsat_pct_001_tree_0010 completed!\n",
      "Classification of 2017_2019_Landsat_pct_001_tree_0020 completed!\n",
      "Classification of 2017_2019_Landsat_pct_001_tree_0030 completed!\n",
      "Classification of 2017_2019_Landsat_pct_001_tree_0040 completed!\n",
      "Classification of 2017_2019_Landsat_pct_001_tree_0050 completed!\n",
      "Classification of 2017_2019_Landsat_pct_001_tree_0060 completed!\n",
      "Classification of 2017_2019_Landsat_pct_001_tree_0070 completed!\n",
      "Classification of 2017_2019_Landsat_pct_001_tree_0080 completed!\n",
      "Classification of 2017_2019_Landsat_pct_001_tree_0090 completed!\n",
      "Classification of 2017_2019_Landsat_pct_001_tree_0100 completed!\n",
      "Classification of 2017_2019_Landsat_pct_001_tree_0110 completed!\n",
      "Classification of 2017_2019_Landsat_pct_001_tree_0120 completed!\n",
      "Classification of 2017_2019_Fourier_pct_001_tree_0001 completed!\n",
      "Classification of 2017_2019_Fourier_pct_001_tree_0010 completed!\n",
      "Classification of 2017_2019_Fourier_pct_001_tree_0020 completed!\n",
      "Classification of 2017_2019_Fourier_pct_001_tree_0030 completed!\n",
      "Classification of 2017_2019_Fourier_pct_001_tree_0040 completed!\n",
      "Classification of 2017_2019_Fourier_pct_001_tree_0050 completed!\n",
      "Classification of 2017_2019_Fourier_pct_001_tree_0060 completed!\n",
      "Classification of 2017_2019_Fourier_pct_001_tree_0070 completed!\n",
      "Classification of 2017_2019_Fourier_pct_001_tree_0080 completed!\n",
      "Classification of 2017_2019_Fourier_pct_001_tree_0090 completed!\n",
      "Classification of 2017_2019_Fourier_pct_001_tree_0100 completed!\n",
      "Classification of 2017_2019_Fourier_pct_001_tree_0110 completed!\n",
      "Classification of 2017_2019_Fourier_pct_001_tree_0120 completed!\n",
      "Classification of 2017_2019_Landsat_Fourier_pct_001_tree_0001 completed!\n",
      "Classification of 2017_2019_Landsat_Fourier_pct_001_tree_0010 completed!\n",
      "Classification of 2017_2019_Landsat_Fourier_pct_001_tree_0020 completed!\n",
      "Classification of 2017_2019_Landsat_Fourier_pct_001_tree_0030 completed!\n",
      "Classification of 2017_2019_Landsat_Fourier_pct_001_tree_0040 completed!\n",
      "Classification of 2017_2019_Landsat_Fourier_pct_001_tree_0050 completed!\n",
      "Classification of 2017_2019_Landsat_Fourier_pct_001_tree_0060 completed!\n",
      "Classification of 2017_2019_Landsat_Fourier_pct_001_tree_0070 completed!\n",
      "Classification of 2017_2019_Landsat_Fourier_pct_001_tree_0080 completed!\n",
      "Classification of 2017_2019_Landsat_Fourier_pct_001_tree_0090 completed!\n",
      "Classification of 2017_2019_Landsat_Fourier_pct_001_tree_0100 completed!\n",
      "Classification of 2017_2019_Landsat_Fourier_pct_001_tree_0110 completed!\n",
      "Classification of 2017_2019_Landsat_Fourier_pct_001_tree_0120 completed!\n",
      "Classification of 2017_2019_Landsat_Mean_pct_001_tree_0001 completed!\n",
      "Classification of 2017_2019_Landsat_Mean_pct_001_tree_0010 completed!\n",
      "Classification of 2017_2019_Landsat_Mean_pct_001_tree_0020 completed!\n",
      "Classification of 2017_2019_Landsat_Mean_pct_001_tree_0030 completed!\n",
      "Classification of 2017_2019_Landsat_Mean_pct_001_tree_0040 completed!\n",
      "Classification of 2017_2019_Landsat_Mean_pct_001_tree_0050 completed!\n",
      "Classification of 2017_2019_Landsat_Mean_pct_001_tree_0060 completed!\n",
      "Classification of 2017_2019_Landsat_Mean_pct_001_tree_0070 completed!\n",
      "Classification of 2017_2019_Landsat_Mean_pct_001_tree_0080 completed!\n",
      "Classification of 2017_2019_Landsat_Mean_pct_001_tree_0090 completed!\n",
      "Classification of 2017_2019_Landsat_Mean_pct_001_tree_0100 completed!\n",
      "Classification of 2017_2019_Landsat_Mean_pct_001_tree_0110 completed!\n",
      "Classification of 2017_2019_Landsat_Mean_pct_001_tree_0120 completed!\n",
      "Classification of 2017_2019_Fourier_Mean_pct_001_tree_0001 completed!\n",
      "Classification of 2017_2019_Fourier_Mean_pct_001_tree_0010 completed!\n",
      "Classification of 2017_2019_Fourier_Mean_pct_001_tree_0020 completed!\n",
      "Classification of 2017_2019_Fourier_Mean_pct_001_tree_0030 completed!\n",
      "Classification of 2017_2019_Fourier_Mean_pct_001_tree_0040 completed!\n",
      "Classification of 2017_2019_Fourier_Mean_pct_001_tree_0050 completed!\n",
      "Classification of 2017_2019_Fourier_Mean_pct_001_tree_0060 completed!\n",
      "Classification of 2017_2019_Fourier_Mean_pct_001_tree_0070 completed!\n",
      "Classification of 2017_2019_Fourier_Mean_pct_001_tree_0080 completed!\n",
      "Classification of 2017_2019_Fourier_Mean_pct_001_tree_0090 completed!\n",
      "Classification of 2017_2019_Fourier_Mean_pct_001_tree_0100 completed!\n",
      "Classification of 2017_2019_Fourier_Mean_pct_001_tree_0110 completed!\n",
      "Classification of 2017_2019_Fourier_Mean_pct_001_tree_0120 completed!\n",
      "Classification of 2017_2019_Landsat_Fourier_Mean_pct_001_tree_0001 completed!\n",
      "Classification of 2017_2019_Landsat_Fourier_Mean_pct_001_tree_0010 completed!\n",
      "Classification of 2017_2019_Landsat_Fourier_Mean_pct_001_tree_0020 completed!\n",
      "Classification of 2017_2019_Landsat_Fourier_Mean_pct_001_tree_0030 completed!\n",
      "Classification of 2017_2019_Landsat_Fourier_Mean_pct_001_tree_0040 completed!\n",
      "Classification of 2017_2019_Landsat_Fourier_Mean_pct_001_tree_0050 completed!\n",
      "Classification of 2017_2019_Landsat_Fourier_Mean_pct_001_tree_0060 completed!\n",
      "Classification of 2017_2019_Landsat_Fourier_Mean_pct_001_tree_0070 completed!\n",
      "Classification of 2017_2019_Landsat_Fourier_Mean_pct_001_tree_0080 completed!\n",
      "Classification of 2017_2019_Landsat_Fourier_Mean_pct_001_tree_0090 completed!\n",
      "Classification of 2017_2019_Landsat_Fourier_Mean_pct_001_tree_0100 completed!\n",
      "Classification of 2017_2019_Landsat_Fourier_Mean_pct_001_tree_0110 completed!\n",
      "Classification of 2017_2019_Landsat_Fourier_Mean_pct_001_tree_0120 completed!\n",
      "Classification of 2017_2019_Landsat_Fourier_Climate_pct_001_tree_0001 completed!\n",
      "Classification of 2017_2019_Landsat_Fourier_Climate_pct_001_tree_0010 completed!\n",
      "Classification of 2017_2019_Landsat_Fourier_Climate_pct_001_tree_0020 completed!\n",
      "Classification of 2017_2019_Landsat_Fourier_Climate_pct_001_tree_0030 completed!\n",
      "Classification of 2017_2019_Landsat_Fourier_Climate_pct_001_tree_0040 completed!\n",
      "Classification of 2017_2019_Landsat_Fourier_Climate_pct_001_tree_0050 completed!\n",
      "Classification of 2017_2019_Landsat_Fourier_Climate_pct_001_tree_0060 completed!\n",
      "Classification of 2017_2019_Landsat_Fourier_Climate_pct_001_tree_0070 completed!\n",
      "Classification of 2017_2019_Landsat_Fourier_Climate_pct_001_tree_0080 completed!\n",
      "Classification of 2017_2019_Landsat_Fourier_Climate_pct_001_tree_0090 completed!\n",
      "Classification of 2017_2019_Landsat_Fourier_Climate_pct_001_tree_0100 completed!\n",
      "Classification of 2017_2019_Landsat_Fourier_Climate_pct_001_tree_0110 completed!\n",
      "Classification of 2017_2019_Landsat_Fourier_Climate_pct_001_tree_0120 completed!\n",
      "Classification of 2017_2019_Landsat_Fourier_Terrain_pct_001_tree_0001 completed!\n",
      "Classification of 2017_2019_Landsat_Fourier_Terrain_pct_001_tree_0010 completed!\n",
      "Classification of 2017_2019_Landsat_Fourier_Terrain_pct_001_tree_0020 completed!\n",
      "Classification of 2017_2019_Landsat_Fourier_Terrain_pct_001_tree_0030 completed!\n",
      "Classification of 2017_2019_Landsat_Fourier_Terrain_pct_001_tree_0040 completed!\n",
      "Classification of 2017_2019_Landsat_Fourier_Terrain_pct_001_tree_0050 completed!\n",
      "Classification of 2017_2019_Landsat_Fourier_Terrain_pct_001_tree_0060 completed!\n",
      "Classification of 2017_2019_Landsat_Fourier_Terrain_pct_001_tree_0070 completed!\n",
      "Classification of 2017_2019_Landsat_Fourier_Terrain_pct_001_tree_0080 completed!\n",
      "Classification of 2017_2019_Landsat_Fourier_Terrain_pct_001_tree_0090 completed!\n",
      "Classification of 2017_2019_Landsat_Fourier_Terrain_pct_001_tree_0100 completed!\n",
      "Classification of 2017_2019_Landsat_Fourier_Terrain_pct_001_tree_0110 completed!\n",
      "Classification of 2017_2019_Landsat_Fourier_Terrain_pct_001_tree_0120 completed!\n",
      "Classification of 2017_2019_Landsat_Fourier_Terrain_Climate_pct_001_tree_0001 completed!\n",
      "Classification of 2017_2019_Landsat_Fourier_Terrain_Climate_pct_001_tree_0010 completed!\n",
      "Classification of 2017_2019_Landsat_Fourier_Terrain_Climate_pct_001_tree_0020 completed!\n",
      "Classification of 2017_2019_Landsat_Fourier_Terrain_Climate_pct_001_tree_0030 completed!\n",
      "Classification of 2017_2019_Landsat_Fourier_Terrain_Climate_pct_001_tree_0040 completed!\n",
      "Classification of 2017_2019_Landsat_Fourier_Terrain_Climate_pct_001_tree_0050 completed!\n",
      "Classification of 2017_2019_Landsat_Fourier_Terrain_Climate_pct_001_tree_0060 completed!\n",
      "Classification of 2017_2019_Landsat_Fourier_Terrain_Climate_pct_001_tree_0070 completed!\n",
      "Classification of 2017_2019_Landsat_Fourier_Terrain_Climate_pct_001_tree_0080 completed!\n",
      "Classification of 2017_2019_Landsat_Fourier_Terrain_Climate_pct_001_tree_0090 completed!\n",
      "Classification of 2017_2019_Landsat_Fourier_Terrain_Climate_pct_001_tree_0100 completed!\n",
      "Classification of 2017_2019_Landsat_Fourier_Terrain_Climate_pct_001_tree_0110 completed!\n",
      "Classification of 2017_2019_Landsat_Fourier_Terrain_Climate_pct_001_tree_0120 completed!\n"
     ]
    },
    {
     "name": "stdout",
     "output_type": "stream",
     "text": [
      "Percetage coresponded size is 283\n"
     ]
    }
   ],
   "source": [
    "# define the path to point_with_value GEE-Path\n",
    "path = 'users/Jinzhu_Deakin/North_China_Plain/Sample_with_Landsat_Fourier_Normalized_Climate'\n",
    "\n",
    "# instantiate the combo_instance dictionary\n",
    "Combo_instance_with_village = {}\n",
    "\n",
    "# Create sample_classification instances through [year] --> [Percent] --> [band_combination] --> [Tree]\n",
    "for year in year_name:\n",
    "    \n",
    "    Invarient_sample = ee.FeatureCollection(f'{path}/Invarient_ext_Img_{year}')\n",
    "    \n",
    "    # import samples\n",
    "    Invarient_built      = Invarient_sample.filterMetadata('Built','equals',1)\n",
    "    Invarient_non_Built  = Invarient_sample.filterMetadata('Built','equals',0)\n",
    "       \n",
    "    for pct in percent_value:\n",
    "        \n",
    "        # Create percentage_reduced samples, only use non-built points from verified points\n",
    "        Subset_Invarient_built     = Make_Sample_Classification.Step_1_Subset_sample(Invarient_built,pct)\n",
    "        Subset_Invarient_non_Built = Make_Sample_Classification.Step_1_Subset_sample(Invarient_non_Built,pct)\n",
    "        \n",
    "        # Merge Verified_points with Zone_points\n",
    "        Sample_merge = Subset_Invarient_built.merge(Subset_Invarient_non_Built)\n",
    "        \n",
    "        # Get the band_combo names\n",
    "        Band_combo   = Make_Sample_Classification.Step_2_Create_Band_Combo(Sample_merge)\n",
    "        \n",
    "        for combo in Band_combo:\n",
    "            Accuracy_instance = Make_Sample_Classification.\\\n",
    "                                Step_3_Create_Classification_Instance(year,Sample_merge,\n",
    "                                                                      combo,tree_num,\n",
    "                                                                      pct,classificaiton_func = Classification ) \n",
    "            Combo_instance_with_village.update(Accuracy_instance)\n",
    "        "
   ]
  },
  {
   "cell_type": "code",
   "execution_count": null,
   "metadata": {},
   "outputs": [],
   "source": []
  },
  {
   "cell_type": "code",
   "execution_count": null,
   "metadata": {},
   "outputs": [],
   "source": []
  },
  {
   "cell_type": "markdown",
   "metadata": {},
   "source": [
    "#### Produce classification_instances <br>"
   ]
  },
  {
   "cell_type": "code",
   "execution_count": null,
   "metadata": {},
   "outputs": [],
   "source": [
    "# innitialize the accuracy dict\n",
    "Combo_acc_with_village = {}\n",
    "\n",
    "# innitilize operation flag to report the process\n",
    "Opts_flag  = 0\n",
    "Opts_tatal = len(year_name) * len(combination_name) * len(percent_value) * len(tree_num)\n",
    "\n",
    "# unpack the combo_instance through [year] --> [band_combination] --> [Percent] --> [Tree]\n",
    "for year in year_name:\n",
    "    for name in combination_name:\n",
    "        for pct in percent_value:\n",
    "            for tree in tree_num:\n",
    "\n",
    "                Opts_flag+=1\n",
    "\n",
    "                Combo_acc_with_village[(year,name,pct,tree)] = Accuracy_assesment(Combo_instance_with_village[(year,name,pct,tree)])\\\n",
    "                                              .Stp_1_Calculate_Accuracy()\n",
    "                # print out the process\n",
    "                print(f'{year}_{name}_pct_{pct:03}_tree_{tree:03} accuracy computation finished! ==>{Opts_flag:04}/{Opts_tatal}')\n",
    "            print('_________________')"
   ]
  },
  {
   "cell_type": "code",
   "execution_count": null,
   "metadata": {},
   "outputs": [],
   "source": []
  },
  {
   "cell_type": "code",
   "execution_count": null,
   "metadata": {},
   "outputs": [],
   "source": [
    "# convert the accuracy dicionary into a dataframe\n",
    "Combo_acc_Invarient_df = pd.DataFrame(Combo_acc_with_village).T\n",
    "Combo_acc_Invarient_df.index.names = ['Year','Combo','Percent','Tree']\n",
    "\n",
    "# save the dataframe\n",
    "Combo_acc_Invarient_df.to_csv('./Step_2_result/Classification_ACC_Invarieant_point.csv')"
   ]
  },
  {
   "cell_type": "code",
   "execution_count": null,
   "metadata": {},
   "outputs": [],
   "source": [
    "Combo_acc_Invarient_df"
   ]
  },
  {
   "cell_type": "code",
   "execution_count": null,
   "metadata": {},
   "outputs": [],
   "source": []
  },
  {
   "cell_type": "markdown",
   "metadata": {},
   "source": [
    "##### Make figures"
   ]
  },
  {
   "cell_type": "code",
   "execution_count": null,
   "metadata": {},
   "outputs": [],
   "source": []
  },
  {
   "cell_type": "code",
   "execution_count": null,
   "metadata": {},
   "outputs": [],
   "source": [
    "# read the combo_acc\n",
    "Combo_acc_df = pd.read_csv('./Step_2_result/Classification_ACC_with_zone_point.csv')\n",
    "Combo_acc_df.set_index('Tree')\n",
    "\n",
    "Combo_acc_Invarient_df = pd.read_csv('./Step_2_result/Classification_ACC_Invarieant_point.csv')\n",
    "Combo_acc_Invarient_df.set_index('Tree')"
   ]
  },
  {
   "cell_type": "code",
   "execution_count": null,
   "metadata": {},
   "outputs": [],
   "source": []
  },
  {
   "cell_type": "code",
   "execution_count": null,
   "metadata": {},
   "outputs": [],
   "source": [
    "Full_Percent = Combo_acc_Invarient_df[Combo_acc_Invarient_df['Percent'] == 100]\n",
    "Full_Percent"
   ]
  },
  {
   "cell_type": "code",
   "execution_count": null,
   "metadata": {},
   "outputs": [],
   "source": []
  },
  {
   "cell_type": "code",
   "execution_count": null,
   "metadata": {},
   "outputs": [],
   "source": [
    "Landsat_5 = Full_Percent[Full_Percent['Year'] == '2008_2010']\n",
    "Landsat_7 = Full_Percent[Full_Percent['Year'] == '2001_2013']\n",
    "Landsat_8 = Full_Percent[Full_Percent['Year'] == '2017_2019']"
   ]
  },
  {
   "cell_type": "code",
   "execution_count": null,
   "metadata": {},
   "outputs": [],
   "source": [
    "plt.figure(figsize=(15,8))\n",
    "sns.lineplot(data = Landsat_5,x = 'Tree',y='Overall_ACC',hue='Combo')"
   ]
  },
  {
   "cell_type": "code",
   "execution_count": null,
   "metadata": {},
   "outputs": [],
   "source": []
  },
  {
   "cell_type": "code",
   "execution_count": null,
   "metadata": {},
   "outputs": [],
   "source": [
    "plt.figure(figsize=(10,6))\n",
    "fig = sns.FacetGrid(data = Full_Percent,col = 'Year',hue='Combo')\n",
    "fig.map(sns.lineplot,'Tree','Overall_ACC')"
   ]
  },
  {
   "cell_type": "code",
   "execution_count": null,
   "metadata": {},
   "outputs": [],
   "source": []
  },
  {
   "cell_type": "code",
   "execution_count": null,
   "metadata": {},
   "outputs": [],
   "source": [
    "Combo_acc_df"
   ]
  },
  {
   "cell_type": "code",
   "execution_count": null,
   "metadata": {
    "scrolled": false
   },
   "outputs": [],
   "source": [
    "g = sns.FacetGrid(data = Combo_acc_df,row = 'Combo',col='Year')\n",
    "g.map(sns.lineplot,'Percent','Recall_built')"
   ]
  },
  {
   "cell_type": "code",
   "execution_count": null,
   "metadata": {},
   "outputs": [],
   "source": []
  },
  {
   "cell_type": "code",
   "execution_count": null,
   "metadata": {},
   "outputs": [],
   "source": []
  },
  {
   "cell_type": "code",
   "execution_count": null,
   "metadata": {},
   "outputs": [],
   "source": []
  },
  {
   "cell_type": "code",
   "execution_count": null,
   "metadata": {},
   "outputs": [],
   "source": []
  },
  {
   "cell_type": "code",
   "execution_count": null,
   "metadata": {},
   "outputs": [],
   "source": []
  }
 ],
 "metadata": {
  "kernelspec": {
   "display_name": "Python 3",
   "language": "python",
   "name": "python3"
  },
  "language_info": {
   "codemirror_mode": {
    "name": "ipython",
    "version": 3
   },
   "file_extension": ".py",
   "mimetype": "text/x-python",
   "name": "python",
   "nbconvert_exporter": "python",
   "pygments_lexer": "ipython3",
   "version": "3.6.10"
  }
 },
 "nbformat": 4,
 "nbformat_minor": 2
}
