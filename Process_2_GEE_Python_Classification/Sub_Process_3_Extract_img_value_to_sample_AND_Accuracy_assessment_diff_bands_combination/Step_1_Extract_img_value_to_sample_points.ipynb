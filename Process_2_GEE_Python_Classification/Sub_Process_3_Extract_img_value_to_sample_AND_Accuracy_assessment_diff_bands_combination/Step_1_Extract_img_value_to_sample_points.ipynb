{
 "cells": [
  {
   "cell_type": "code",
   "execution_count": 1,
   "metadata": {},
   "outputs": [],
   "source": [
    "import ee\n",
    "import datetime\n",
    "import os\n",
    "import itertools\n",
    "import sys\n",
    "\n",
    "import pandas as pd\n",
    "import numpy as np\n",
    "import seaborn as sns\n",
    "import matplotlib.pyplot as plt\n",
    "\n",
    "import geemap\n",
    "\n",
    "import subprocess\n",
    "from subprocess import PIPE"
   ]
  },
  {
   "cell_type": "code",
   "execution_count": 2,
   "metadata": {},
   "outputs": [],
   "source": [
    "ee.Initialize()"
   ]
  },
  {
   "cell_type": "code",
   "execution_count": 3,
   "metadata": {},
   "outputs": [],
   "source": [
    "# append upper folder into sys-path during run time so we can\n",
    "# import our own moduls\n",
    "sys.path.append('..')"
   ]
  },
  {
   "cell_type": "code",
   "execution_count": null,
   "metadata": {},
   "outputs": [],
   "source": []
  },
  {
   "cell_type": "markdown",
   "metadata": {},
   "source": [
    "##### Define_Basic_Parameters"
   ]
  },
  {
   "cell_type": "code",
   "execution_count": 4,
   "metadata": {},
   "outputs": [],
   "source": [
    "# define the num which represent the true number of verified sample-point sets\n",
    "num = 10\n",
    "\n",
    "\n",
    "# define the year range\n",
    "year_start = [f'{i}-01-01' for i in range(1987,2020,3)]\n",
    "year_end   = [f'{i}-12-31' for i in range(1989,2020,3)]\n",
    "\n",
    "year_range = list(zip(year_start,year_end))[-num:]\n",
    "\n",
    "year_name_all  = list([f'{span[0]}_{span[1]}' for span in zip(range(1987,2020,3),range(1989,2020,3)) ])\n",
    "year_name = year_name_all[-num:]"
   ]
  },
  {
   "cell_type": "code",
   "execution_count": 5,
   "metadata": {},
   "outputs": [
    {
     "data": {
      "text/plain": [
       "['1990_1992',\n",
       " '1993_1995',\n",
       " '1996_1998',\n",
       " '1999_2001',\n",
       " '2002_2004',\n",
       " '2005_2007',\n",
       " '2008_2010',\n",
       " '2011_2013',\n",
       " '2014_2016',\n",
       " '2017_2019']"
      ]
     },
     "execution_count": 5,
     "metadata": {},
     "output_type": "execute_result"
    }
   ],
   "source": [
    "year_name"
   ]
  },
  {
   "cell_type": "code",
   "execution_count": null,
   "metadata": {},
   "outputs": [],
   "source": []
  },
  {
   "cell_type": "markdown",
   "metadata": {},
   "source": [
    "##### Prepare needed images"
   ]
  },
  {
   "cell_type": "code",
   "execution_count": 7,
   "metadata": {},
   "outputs": [],
   "source": [
    "# import Landsat img\n",
    "Landsat_img = [ee.Image(f\"users/wang8052664/Cloud_Free_Img/Landsat_cloud_free_{year}\")\\\n",
    "                 .clip(North_China_Plain)  for year in year_name]\n",
    "\n",
    "# import Fourier img   \n",
    "Fourier_img_all = [ee.Image(f\"users/Jinzhu_Deakin/North_China_Plain/Fourier_img_harmonic_3/Fourier_img_{year}_harmonic_3\")\\\n",
    "                     .clip(North_China_Plain)  for year in year_name_all[:6]] + \\\n",
    "                  [ee.Image(f\"users/wang8052664/North_China_Plain/Fourier_imgs/Fourier_img_{year}_harmonic_3\")\\\n",
    "                     .clip(North_China_Plain)  for year in year_name_all[6:]] \n",
    "\n",
    "Fourier_img = Fourier_img_all[-num:]\n",
    "\n",
    "# Import the Index-mean Img\n",
    "NDVI_img = [ee.Image(f\"users/wensomone666/Jinzhu/Mean_NDVI/Year_{year}_Mean_NDVI\").rename('Mean_NDVI')  \n",
    "            for year in year_name ]\n",
    "NDBI_img = [ee.Image(f\"users/wensomone666/Jinzhu/Mean_NDVI/Year_{year}_Mean_NDBI\").rename('Mean_NDBI')  \n",
    "            for year in year_name ]\n",
    "EVI_img  = [ee.Image(f\"users/wensomone666/Jinzhu/Mean_NDVI/Year_{year}_Mean_EVI\").rename('Mean_EVI')  \n",
    "            for year in year_name ]\n",
    "\n",
    "# stack Landsat_Fourier_Nomalized together\n",
    "Stack_img = [ee.Image(img) for img in zip(Landsat_img,Fourier_img_all,NDVI_img,NDBI_img,EVI_img)]"
   ]
  },
  {
   "cell_type": "code",
   "execution_count": null,
   "metadata": {},
   "outputs": [],
   "source": []
  },
  {
   "cell_type": "markdown",
   "metadata": {},
   "source": [
    "##### Img value extraction and export"
   ]
  },
  {
   "cell_type": "code",
   "execution_count": null,
   "metadata": {},
   "outputs": [],
   "source": []
  },
  {
   "cell_type": "code",
   "execution_count": 8,
   "metadata": {},
   "outputs": [],
   "source": [
    "# import verified points\n",
    "# Verified_Point = [ee.FeatureCollection(f\"users/wangjinzhulala/North_China_Plain_Python/Sample_Points/Verified_pt_{year}\")\n",
    "#                               for year in year_name ]\n",
    "\n",
    "# Zone_sample    = ee.FeatureCollection(\"users/Jinzhu_Deakin/North_China_Plain/Zone_sample_point_1987_1989/Zone_Sample\")\n",
    "\n",
    "Verified_village = [ee.FeatureCollection(\"users/wangjinzhulala/North_China_Plain_Python/Sample_Points/Village_Point_visual_checked_1990_1992\")]\\\n",
    "                    * num\n",
    "\n",
    "# import north_china_plain boundary\n",
    "North_China_Plain = ee.FeatureCollection(\"users/wangjinzhulala/North_China_Plain_Python/Boundary_shp/North_China_Plain_Boundary\")"
   ]
  },
  {
   "cell_type": "code",
   "execution_count": null,
   "metadata": {},
   "outputs": [],
   "source": []
  },
  {
   "cell_type": "code",
   "execution_count": 12,
   "metadata": {},
   "outputs": [
    {
     "name": "stdout",
     "output_type": "stream",
     "text": [
      "Village_point_2017_2019_extract_Landsat_Fourier_Normalized_img\n",
      "Village_point_2014_2016_extract_Landsat_Fourier_Normalized_img\n",
      "Village_point_2011_2013_extract_Landsat_Fourier_Normalized_img\n",
      "Village_point_2008_2010_extract_Landsat_Fourier_Normalized_img\n",
      "Village_point_2005_2007_extract_Landsat_Fourier_Normalized_img\n",
      "Village_point_2002_2004_extract_Landsat_Fourier_Normalized_img\n",
      "Village_point_1999_2001_extract_Landsat_Fourier_Normalized_img\n",
      "Village_point_1996_1998_extract_Landsat_Fourier_Normalized_img\n",
      "Village_point_1993_1995_extract_Landsat_Fourier_Normalized_img\n",
      "Village_point_1990_1992_extract_Landsat_Fourier_Normalized_img\n"
     ]
    }
   ],
   "source": [
    "# define the gee-asset path for exporting\n",
    "path = 'users/Jinzhu_Deakin/North_China_Plain/Sample_with_Landsat_Fourier_Normalized'\n",
    "\n",
    "\n",
    "for year,img,sample in list(zip(year_name,Stack_img,Verified_village))[::-1]:\n",
    "    \n",
    "    \n",
    "    Ext_village = img.sampleRegions(collection=sample, \n",
    "                                    properties=['Built'], \n",
    "                                    scale=30, \n",
    "                                    geometries=True)\n",
    "    \n",
    "    # exporting\n",
    "    task_village = ee.batch.Export.table.toAsset(   collection  = Ext_village,\n",
    "                                            description = f'Village_point_{year}_extract_Landsat_Fourier_Normalized_img',\n",
    "                                            assetId     = f'{path}/Village_point_{year}_extract_Landsat_Fourier_Normalized_img')\n",
    "    task_village.start()\n",
    "\n",
    "    \n",
    "    # print out the process\n",
    "    print(f'Village_point_{year}_extract_Landsat_Fourier_Normalized_img')"
   ]
  },
  {
   "cell_type": "code",
   "execution_count": null,
   "metadata": {},
   "outputs": [],
   "source": []
  }
 ],
 "metadata": {
  "kernelspec": {
   "display_name": "Python 3",
   "language": "python",
   "name": "python3"
  },
  "language_info": {
   "codemirror_mode": {
    "name": "ipython",
    "version": 3
   },
   "file_extension": ".py",
   "mimetype": "text/x-python",
   "name": "python",
   "nbconvert_exporter": "python",
   "pygments_lexer": "ipython3",
   "version": "3.6.10"
  }
 },
 "nbformat": 4,
 "nbformat_minor": 2
}
