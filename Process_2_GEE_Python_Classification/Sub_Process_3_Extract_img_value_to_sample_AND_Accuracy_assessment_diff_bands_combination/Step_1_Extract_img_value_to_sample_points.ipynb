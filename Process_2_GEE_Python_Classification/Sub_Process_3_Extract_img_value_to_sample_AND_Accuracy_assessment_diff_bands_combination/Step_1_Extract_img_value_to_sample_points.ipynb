{
 "cells": [
  {
   "cell_type": "code",
   "execution_count": 1,
   "metadata": {},
   "outputs": [],
   "source": [
    "import ee\n",
    "import datetime\n",
    "import os\n",
    "import itertools\n",
    "import sys\n",
    "\n",
    "import pandas as pd\n",
    "import numpy as np\n",
    "import seaborn as sns\n",
    "import matplotlib.pyplot as plt\n",
    "\n",
    "import geemap\n",
    "\n",
    "import subprocess\n",
    "from subprocess import PIPE"
   ]
  },
  {
   "cell_type": "code",
   "execution_count": 2,
   "metadata": {},
   "outputs": [],
   "source": [
    "ee.Initialize()"
   ]
  },
  {
   "cell_type": "code",
   "execution_count": 3,
   "metadata": {},
   "outputs": [],
   "source": [
    "# append upper folder into sys-path during run time so we can\n",
    "# import our own moduls\n",
    "sys.path.append('..')"
   ]
  },
  {
   "cell_type": "code",
   "execution_count": null,
   "metadata": {},
   "outputs": [],
   "source": []
  },
  {
   "cell_type": "markdown",
   "metadata": {},
   "source": [
    "##### Define_Basic_Parameters"
   ]
  },
  {
   "cell_type": "code",
   "execution_count": 4,
   "metadata": {},
   "outputs": [],
   "source": [
    "# set the num of different sample points\n",
    "num_invarient = 10\n",
    "\n",
    "# define the year range\n",
    "year_start = [i for i in range(1990,2018,3)]\n",
    "year_end   = [i for i in range(1992,2020,3)]\n",
    "\n",
    "year_name = [f'{i[0]}_{i[1]}' for i in zip(year_start,year_end)]"
   ]
  },
  {
   "cell_type": "code",
   "execution_count": 5,
   "metadata": {},
   "outputs": [],
   "source": [
    "North_China_Plain = ee.FeatureCollection(\"users/wangjinzhulala/North_China_Plain_Python/Boundary_shp/North_China_Plain_Boundary\")"
   ]
  },
  {
   "cell_type": "code",
   "execution_count": 6,
   "metadata": {},
   "outputs": [
    {
     "data": {
      "text/plain": [
       "['1990_1992',\n",
       " '1993_1995',\n",
       " '1996_1998',\n",
       " '1999_2001',\n",
       " '2002_2004',\n",
       " '2005_2007',\n",
       " '2008_2010',\n",
       " '2011_2013',\n",
       " '2014_2016',\n",
       " '2017_2019']"
      ]
     },
     "execution_count": 6,
     "metadata": {},
     "output_type": "execute_result"
    }
   ],
   "source": [
    "year_name"
   ]
  },
  {
   "cell_type": "code",
   "execution_count": null,
   "metadata": {},
   "outputs": [],
   "source": []
  },
  {
   "cell_type": "markdown",
   "metadata": {},
   "source": [
    "##### Prepare needed images"
   ]
  },
  {
   "cell_type": "code",
   "execution_count": null,
   "metadata": {},
   "outputs": [],
   "source": []
  },
  {
   "cell_type": "code",
   "execution_count": 7,
   "metadata": {},
   "outputs": [],
   "source": [
    "# prepare the climate data\n",
    "Climate_type = ['lrad','prec','pres','shum','srad','temp','wind']\n",
    "Climate_mean = []\n",
    "\n",
    "for year in range(1990,2019,3):   \n",
    "    \n",
    "    # define the three years according to year-variable\n",
    "    year_start = year\n",
    "    year_mid   = year + 1\n",
    "    year_end   = year + 2\n",
    "    \n",
    "    # Initiate an empty list to hold the climate-tifs-mean from year_start to year_end\n",
    "    climate_tifs_mean = []\n",
    "    \n",
    "    # compute the mean-tif of each climate-type\n",
    "    for i in Climate_type:\n",
    "\n",
    "        # Because cliate_data doesn't include data of 2019, so \n",
    "        # use if to exclede the data of year 2019\n",
    "        if year < 2017:\n",
    "            climate_tifs = [ee.Image(f\"users/wangjinzhulala/North_China_Plain_Python/Climate_data/{i}/{i}_{t}\")                        \n",
    "                            for t in [year_start,year_mid,year_end]]\n",
    "            tifs_mean    = ee.ImageCollection(climate_tifs).mean().toFloat().rename(i)\n",
    "\n",
    "        else:\n",
    "            climate_tifs = [ee.Image(f\"users/wangjinzhulala/North_China_Plain_Python/Climate_data/{i}/{i}_{t}\")                        \n",
    "                            for t in [year_start,year_mid]]\n",
    "\n",
    "            tifs_mean    = ee.ImageCollection(climate_tifs).mean().toFloat().rename(i)\n",
    "\n",
    "        # add all climate_tifs_mean of year_start to year_end to list\n",
    "        climate_tifs_mean.append(tifs_mean)\n",
    "        climate_tifs_mean_img = ee.Image(climate_tifs_mean)\n",
    "        \n",
    "\n",
    "    # add the mean-cliamte-img into the Climate_mean\n",
    "    Climate_mean.append(climate_tifs_mean_img)"
   ]
  },
  {
   "cell_type": "code",
   "execution_count": null,
   "metadata": {},
   "outputs": [],
   "source": []
  },
  {
   "cell_type": "code",
   "execution_count": 8,
   "metadata": {},
   "outputs": [],
   "source": [
    "# import Landsat img\n",
    "Landsat_img = [ee.Image(f\"users/wang8052664/Cloud_Free_Img/Landsat_cloud_free_{year}\")\\\n",
    "                 .clip(North_China_Plain)  for year in year_name]\n",
    "\n",
    "# import Fourier img   \n",
    "Fourier_img = [ee.Image(f\"users/Jinzhu_Deakin/North_China_Plain/Fourier_img_harmonic_3/Fourier_img_{year}_harmonic_3\")\\\n",
    "                     .clip(North_China_Plain)  for year in year_name[:5]] + \\\n",
    "                  [ee.Image(f\"users/wang8052664/North_China_Plain/Fourier_imgs/Fourier_img_{year}_harmonic_3\")\\\n",
    "                     .clip(North_China_Plain)  for year in year_name[5:]] \n",
    "\n",
    "# Import the Index-mean Img\n",
    "NDVI_img = [ee.Image(f\"users/wensomone666/Jinzhu/Mean_NDVI/Year_{year}_Mean_NDVI\").rename('Mean_NDVI')  \n",
    "            for year in year_name ]\n",
    "NDBI_img = [ee.Image(f\"users/wensomone666/Jinzhu/Mean_NDVI/Year_{year}_Mean_NDBI\").rename('Mean_NDBI')  \n",
    "            for year in year_name ]\n",
    "EVI_img  = [ee.Image(f\"users/wensomone666/Jinzhu/Mean_NDVI/Year_{year}_Mean_EVI\").rename('Mean_EVI')  \n",
    "            for year in year_name ]\n",
    "\n",
    "# Import DEM/SLOPE Img\n",
    "DEM   = [ee.Image(\"USGS/SRTMGL1_003\").rename('DEM')] * num_invarient\n",
    "SLOPE = [ee.Terrain.slope(DEM).rename('SLOPE')] * num_invarient"
   ]
  },
  {
   "cell_type": "code",
   "execution_count": null,
   "metadata": {},
   "outputs": [],
   "source": []
  },
  {
   "cell_type": "code",
   "execution_count": 9,
   "metadata": {},
   "outputs": [],
   "source": [
    "# stack all Imput_Img together\n",
    "Stack_img = [ee.Image(img) for img in zip(Landsat_img,Fourier_img,NDVI_img,NDBI_img,EVI_img,Climate_mean,DEM,SLOPE)]"
   ]
  },
  {
   "cell_type": "code",
   "execution_count": null,
   "metadata": {},
   "outputs": [],
   "source": []
  },
  {
   "cell_type": "markdown",
   "metadata": {},
   "source": [
    "##### Img value extraction and export"
   ]
  },
  {
   "cell_type": "code",
   "execution_count": null,
   "metadata": {},
   "outputs": [],
   "source": []
  },
  {
   "cell_type": "code",
   "execution_count": 12,
   "metadata": {},
   "outputs": [],
   "source": [
    "# Get the training sample\n",
    "Invarient_training_sample = ee.FeatureCollection(\"users/wangjinzhulala/North_China_Plain_Python/Sample_Points/Traning_Sample\")"
   ]
  },
  {
   "cell_type": "code",
   "execution_count": null,
   "metadata": {},
   "outputs": [],
   "source": []
  },
  {
   "cell_type": "code",
   "execution_count": 13,
   "metadata": {},
   "outputs": [
    {
     "name": "stdout",
     "output_type": "stream",
     "text": [
      "Invarient_ext_Img_1990_1992\n",
      "Invarient_ext_Img_1993_1995\n",
      "Invarient_ext_Img_1996_1998\n",
      "Invarient_ext_Img_1999_2001\n",
      "Invarient_ext_Img_2002_2004\n",
      "Invarient_ext_Img_2005_2007\n",
      "Invarient_ext_Img_2008_2010\n",
      "Invarient_ext_Img_2011_2013\n",
      "Invarient_ext_Img_2014_2016\n",
      "Invarient_ext_Img_2017_2019\n"
     ]
    }
   ],
   "source": [
    "# define the gee-asset path for exporting\n",
    "path = 'users/Jinzhu_Deakin/North_China_Plain/Sample_with_Landsat_Fourier_Normalized_Climate'\n",
    "\n",
    "\n",
    "for year,img in list(zip(year_name,Stack_img)):\n",
    "    \n",
    "    name = 'Invarient_ext_Img'\n",
    "    \n",
    "    Ext_sample = img.sampleRegions(collection  = Invarient_training_sample, \n",
    "                                    properties = ['Built'], \n",
    "                                    scale      = 30, \n",
    "                                    geometries = True)\n",
    "    \n",
    "    # exporting\n",
    "    task = ee.batch.Export.table.toAsset(   collection  = Ext_sample,\n",
    "                                            description = f'{name}_{year}',\n",
    "                                            assetId     = f'{path}/{name}_{year}')\n",
    "    task.start()\n",
    "\n",
    "    \n",
    "    # print out the process\n",
    "    print(f'{name}_{year}')"
   ]
  },
  {
   "cell_type": "code",
   "execution_count": null,
   "metadata": {},
   "outputs": [],
   "source": []
  },
  {
   "cell_type": "code",
   "execution_count": null,
   "metadata": {},
   "outputs": [],
   "source": []
  },
  {
   "cell_type": "code",
   "execution_count": null,
   "metadata": {},
   "outputs": [],
   "source": []
  }
 ],
 "metadata": {
  "kernelspec": {
   "display_name": "Python 3",
   "language": "python",
   "name": "python3"
  },
  "language_info": {
   "codemirror_mode": {
    "name": "ipython",
    "version": 3
   },
   "file_extension": ".py",
   "mimetype": "text/x-python",
   "name": "python",
   "nbconvert_exporter": "python",
   "pygments_lexer": "ipython3",
   "version": "3.7.3"
  }
 },
 "nbformat": 4,
 "nbformat_minor": 2
}
