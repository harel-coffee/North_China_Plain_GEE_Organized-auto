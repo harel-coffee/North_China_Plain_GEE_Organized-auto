{
 "cells": [
  {
   "cell_type": "code",
   "execution_count": 1,
   "metadata": {},
   "outputs": [],
   "source": [
    "import ee\n",
    "import datetime\n",
    "import os\n",
    "import itertools\n",
    "import sys\n",
    "\n",
    "import pandas as pd\n",
    "import numpy as np\n",
    "import seaborn as sns\n",
    "import matplotlib.pyplot as plt\n",
    "\n",
    "import geemap\n",
    "\n",
    "import subprocess\n",
    "from subprocess import PIPE"
   ]
  },
  {
   "cell_type": "code",
   "execution_count": 2,
   "metadata": {},
   "outputs": [],
   "source": [
    "ee.Initialize()"
   ]
  },
  {
   "cell_type": "code",
   "execution_count": 3,
   "metadata": {},
   "outputs": [],
   "source": [
    "# append upper folder into sys-path during run time so we can\n",
    "# import our own moduls\n",
    "sys.path.append('..')"
   ]
  },
  {
   "cell_type": "code",
   "execution_count": null,
   "metadata": {},
   "outputs": [],
   "source": []
  },
  {
   "cell_type": "markdown",
   "metadata": {},
   "source": [
    "##### Define_Basic_Parameters"
   ]
  },
  {
   "cell_type": "code",
   "execution_count": 17,
   "metadata": {},
   "outputs": [],
   "source": [
    "# set the num of different sample points\n",
    "num_invarient = 10\n",
    "num_each_year = 5\n",
    "\n",
    "\n",
    "\n",
    "# define the year range\n",
    "year_start = [i for i in range(1990,2018,3)]\n",
    "year_end   = [i for i in range(1992,2020,3)]\n",
    "\n",
    "year_name = [f'{i[0]}_{i[1]}' for i in zip(year_start,year_end)]"
   ]
  },
  {
   "cell_type": "code",
   "execution_count": 5,
   "metadata": {},
   "outputs": [],
   "source": [
    "North_China_Plain = ee.FeatureCollection(\"users/wangjinzhulala/North_China_Plain_Python/Boundary_shp/North_China_Plain_Boundary\")"
   ]
  },
  {
   "cell_type": "code",
   "execution_count": 7,
   "metadata": {},
   "outputs": [
    {
     "data": {
      "text/plain": [
       "['1990_1992',\n",
       " '1993_1995',\n",
       " '1996_1998',\n",
       " '1999_2001',\n",
       " '2002_2004',\n",
       " '2005_2007',\n",
       " '2008_2010',\n",
       " '2011_2013',\n",
       " '2014_2016',\n",
       " '2017_2019']"
      ]
     },
     "execution_count": 7,
     "metadata": {},
     "output_type": "execute_result"
    }
   ],
   "source": [
    "year_name"
   ]
  },
  {
   "cell_type": "code",
   "execution_count": null,
   "metadata": {},
   "outputs": [],
   "source": []
  },
  {
   "cell_type": "markdown",
   "metadata": {},
   "source": [
    "##### Prepare needed images"
   ]
  },
  {
   "cell_type": "code",
   "execution_count": 9,
   "metadata": {},
   "outputs": [],
   "source": [
    "# import Landsat img\n",
    "Landsat_img = [ee.Image(f\"users/wang8052664/Cloud_Free_Img/Landsat_cloud_free_{year}\")\\\n",
    "                 .clip(North_China_Plain)  for year in year_name]\n",
    "\n",
    "# import Fourier img   \n",
    "Fourier_img = [ee.Image(f\"users/Jinzhu_Deakin/North_China_Plain/Fourier_img_harmonic_3/Fourier_img_{year}_harmonic_3\")\\\n",
    "                     .clip(North_China_Plain)  for year in year_name[:5]] + \\\n",
    "                  [ee.Image(f\"users/wang8052664/North_China_Plain/Fourier_imgs/Fourier_img_{year}_harmonic_3\")\\\n",
    "                     .clip(North_China_Plain)  for year in year_name[5:]] \n",
    "\n",
    "# Import the Index-mean Img\n",
    "NDVI_img = [ee.Image(f\"users/wensomone666/Jinzhu/Mean_NDVI/Year_{year}_Mean_NDVI\").rename('Mean_NDVI')  \n",
    "            for year in year_name ]\n",
    "NDBI_img = [ee.Image(f\"users/wensomone666/Jinzhu/Mean_NDVI/Year_{year}_Mean_NDBI\").rename('Mean_NDBI')  \n",
    "            for year in year_name ]\n",
    "EVI_img  = [ee.Image(f\"users/wensomone666/Jinzhu/Mean_NDVI/Year_{year}_Mean_EVI\").rename('Mean_EVI')  \n",
    "            for year in year_name ]\n",
    "\n",
    "# stack Landsat_Fourier_Nomalized together\n",
    "Stack_img = [ee.Image(img) for img in zip(Landsat_img,Fourier_img,NDVI_img,NDBI_img,EVI_img)]"
   ]
  },
  {
   "cell_type": "code",
   "execution_count": null,
   "metadata": {},
   "outputs": [],
   "source": []
  },
  {
   "cell_type": "markdown",
   "metadata": {},
   "source": [
    "##### Img value extraction and export"
   ]
  },
  {
   "cell_type": "code",
   "execution_count": null,
   "metadata": {},
   "outputs": [],
   "source": []
  },
  {
   "cell_type": "code",
   "execution_count": 108,
   "metadata": {},
   "outputs": [],
   "source": [
    "# Sample points serves as INVARIENT points\n",
    "Invarient_non_built = [ee.FeatureCollection('''users/wangjinzhulala/North_China_Plain_Python/Sample_Points/Verified_pt_2017_2019''')\\\n",
    "                        .filterMetadata('Built','equals',0)] *  num_invarient\n",
    "\n",
    "Invarient_built     = [ee.FeatureCollection('''users/wangjinzhulala/North_China_Plain_Python/Sample_Points/Village_Point_visual_checked_1990_1992''')]\\\n",
    "                         *  num_invarient\n",
    "\n",
    "\n",
    "\n",
    "# Sample points serves as EACH_YEAR points\n",
    "# NOTE: Each_year_visual_check has [9K non-built] and [`1K built]\n",
    "Each_year_visual_check = [ee.FeatureCollection(f\"users/wangjinzhulala/North_China_Plain_Python/Sample_Points/Verified_pt_{year}\")\n",
    "                          for year in year_name[-num_each_year:] ]\n",
    "\n",
    "# Each_year_built serves as checked-built points, \n",
    "# which was create by polygon_city_rurul to raster\n",
    "# based on base map of 1990_1992\n",
    "Each_year_built        = [ee.FeatureCollection(\"users/Jinzhu_Deakin/North_China_Plain/Zone_sample_point_1990_1992/Zone_Sample\")]\\\n",
    "                         *  num_invarient\n"
   ]
  },
  {
   "cell_type": "code",
   "execution_count": null,
   "metadata": {},
   "outputs": [],
   "source": []
  },
  {
   "cell_type": "code",
   "execution_count": 109,
   "metadata": {},
   "outputs": [
    {
     "name": "stdout",
     "output_type": "stream",
     "text": [
      "Each_year_built_1990_1992\n",
      "Each_year_built_1993_1995\n",
      "Each_year_built_1996_1998\n",
      "Each_year_built_1999_2001\n",
      "Each_year_built_2002_2004\n",
      "Each_year_built_2005_2007\n",
      "Each_year_built_2008_2010\n",
      "Each_year_built_2011_2013\n",
      "Each_year_built_2014_2016\n",
      "Each_year_built_2017_2019\n"
     ]
    }
   ],
   "source": [
    "# define the gee-asset path for exporting\n",
    "path = 'users/Jinzhu_Deakin/North_China_Plain/Sample_with_Landsat_Fourier_Normalized'\n",
    "\n",
    "\n",
    "for year,img,sample in list(zip(year_name,Stack_img,Each_year_built)):\n",
    "    \n",
    "    name = 'Each_year_built'\n",
    "    \n",
    "    Ext_sample = img.sampleRegions(collection=sample, \n",
    "                                    properties=['Built'], \n",
    "                                    scale=30, \n",
    "                                    geometries=True)\n",
    "    \n",
    "    # exporting\n",
    "    task = ee.batch.Export.table.toAsset(   collection  = Ext_sample,\n",
    "                                            description = f'{name}_{year}',\n",
    "                                            assetId     = f'{path}/{name}_{year}')\n",
    "    task.start()\n",
    "\n",
    "    \n",
    "    # print out the process\n",
    "    print(f'{name}_{year}')"
   ]
  },
  {
   "cell_type": "code",
   "execution_count": null,
   "metadata": {},
   "outputs": [],
   "source": []
  },
  {
   "cell_type": "code",
   "execution_count": null,
   "metadata": {},
   "outputs": [],
   "source": []
  },
  {
   "cell_type": "code",
   "execution_count": null,
   "metadata": {},
   "outputs": [],
   "source": []
  }
 ],
 "metadata": {
  "kernelspec": {
   "display_name": "Python 3",
   "language": "python",
   "name": "python3"
  },
  "language_info": {
   "codemirror_mode": {
    "name": "ipython",
    "version": 3
   },
   "file_extension": ".py",
   "mimetype": "text/x-python",
   "name": "python",
   "nbconvert_exporter": "python",
   "pygments_lexer": "ipython3",
   "version": "3.6.10"
  }
 },
 "nbformat": 4,
 "nbformat_minor": 2
}
