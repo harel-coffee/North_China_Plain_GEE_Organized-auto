{
 "cells": [
  {
   "cell_type": "code",
   "execution_count": null,
   "metadata": {},
   "outputs": [],
   "source": []
  },
  {
   "cell_type": "markdown",
   "metadata": {},
   "source": [
    "This program is to make a GEE path-folder public so that other peopel can use the data within this path-folder <br><br>\n",
    "1) Only suitable for path-folder of depth no more than 2 ==> path-foldr [folder,object,folder[objects]]<br>\n",
    "2) NOT suitable for path-folder like ==> path-folder[folder,obj,folder[folder]]<br>"
   ]
  },
  {
   "cell_type": "code",
   "execution_count": null,
   "metadata": {},
   "outputs": [],
   "source": []
  },
  {
   "cell_type": "code",
   "execution_count": 1,
   "metadata": {},
   "outputs": [],
   "source": [
    "import ee\n",
    "import subprocess\n",
    "\n",
    "import pandas as pd\n",
    "import numpy as np"
   ]
  },
  {
   "cell_type": "code",
   "execution_count": 2,
   "metadata": {},
   "outputs": [],
   "source": [
    "ee.Initialize()\n"
   ]
  },
  {
   "cell_type": "code",
   "execution_count": null,
   "metadata": {},
   "outputs": [],
   "source": []
  },
  {
   "cell_type": "markdown",
   "metadata": {},
   "source": [
    "List all items of a root_path"
   ]
  },
  {
   "cell_type": "code",
   "execution_count": 3,
   "metadata": {},
   "outputs": [],
   "source": [
    "path_folder = 'users/wensomone666/Jinzhu/Mean_NDVI'"
   ]
  },
  {
   "cell_type": "code",
   "execution_count": 4,
   "metadata": {},
   "outputs": [],
   "source": [
    "p = subprocess.run(f'earthengine ls {path_folder}',\n",
    "                   shell = True,\n",
    "                   capture_output = True, \n",
    "                   text = True ).stdout"
   ]
  },
  {
   "cell_type": "code",
   "execution_count": 6,
   "metadata": {},
   "outputs": [
    {
     "data": {
      "text/plain": [
       "['projects/earthengine-legacy/assets/users/wensomone666/Jinzhu/Mean_NDVI/Year_1987_1989_Mean_NDBI',\n",
       " 'projects/earthengine-legacy/assets/users/wensomone666/Jinzhu/Mean_NDVI/Year_1987_1989_Mean_NDVI',\n",
       " 'projects/earthengine-legacy/assets/users/wensomone666/Jinzhu/Mean_NDVI/Year_1990_1992_Mean_NDBI',\n",
       " 'projects/earthengine-legacy/assets/users/wensomone666/Jinzhu/Mean_NDVI/Year_1990_1992_Mean_NDVI',\n",
       " 'projects/earthengine-legacy/assets/users/wensomone666/Jinzhu/Mean_NDVI/Year_1993_1995_Mean_NDBI',\n",
       " 'projects/earthengine-legacy/assets/users/wensomone666/Jinzhu/Mean_NDVI/Year_1993_1995_Mean_NDVI',\n",
       " 'projects/earthengine-legacy/assets/users/wensomone666/Jinzhu/Mean_NDVI/Year_1996_1998_Mean_NDBI',\n",
       " 'projects/earthengine-legacy/assets/users/wensomone666/Jinzhu/Mean_NDVI/Year_1996_1998_Mean_NDVI',\n",
       " 'projects/earthengine-legacy/assets/users/wensomone666/Jinzhu/Mean_NDVI/Year_1999_2001_Mean_NDBI',\n",
       " 'projects/earthengine-legacy/assets/users/wensomone666/Jinzhu/Mean_NDVI/Year_1999_2001_Mean_NDVI',\n",
       " 'projects/earthengine-legacy/assets/users/wensomone666/Jinzhu/Mean_NDVI/Year_2002_2004_Mean_EVI',\n",
       " 'projects/earthengine-legacy/assets/users/wensomone666/Jinzhu/Mean_NDVI/Year_2002_2004_Mean_NDBI',\n",
       " 'projects/earthengine-legacy/assets/users/wensomone666/Jinzhu/Mean_NDVI/Year_2002_2004_Mean_NDVI',\n",
       " 'projects/earthengine-legacy/assets/users/wensomone666/Jinzhu/Mean_NDVI/Year_2005_2007_Mean_EVI',\n",
       " 'projects/earthengine-legacy/assets/users/wensomone666/Jinzhu/Mean_NDVI/Year_2005_2007_Mean_NDBI',\n",
       " 'projects/earthengine-legacy/assets/users/wensomone666/Jinzhu/Mean_NDVI/Year_2005_2007_Mean_NDVI',\n",
       " 'projects/earthengine-legacy/assets/users/wensomone666/Jinzhu/Mean_NDVI/Year_2008_2010_Mean_EVI',\n",
       " 'projects/earthengine-legacy/assets/users/wensomone666/Jinzhu/Mean_NDVI/Year_2008_2010_Mean_NDBI',\n",
       " 'projects/earthengine-legacy/assets/users/wensomone666/Jinzhu/Mean_NDVI/Year_2008_2010_Mean_NDVI',\n",
       " 'projects/earthengine-legacy/assets/users/wensomone666/Jinzhu/Mean_NDVI/Year_2011_2013_Mean_EVI',\n",
       " 'projects/earthengine-legacy/assets/users/wensomone666/Jinzhu/Mean_NDVI/Year_2011_2013_Mean_NDBI',\n",
       " 'projects/earthengine-legacy/assets/users/wensomone666/Jinzhu/Mean_NDVI/Year_2011_2013_Mean_NDVI',\n",
       " 'projects/earthengine-legacy/assets/users/wensomone666/Jinzhu/Mean_NDVI/Year_2014_2016_Mean_EVI',\n",
       " 'projects/earthengine-legacy/assets/users/wensomone666/Jinzhu/Mean_NDVI/Year_2014_2016_Mean_NDBI',\n",
       " 'projects/earthengine-legacy/assets/users/wensomone666/Jinzhu/Mean_NDVI/Year_2014_2016_Mean_NDVI',\n",
       " 'projects/earthengine-legacy/assets/users/wensomone666/Jinzhu/Mean_NDVI/Year_2017_2019_Mean_EVI',\n",
       " 'projects/earthengine-legacy/assets/users/wensomone666/Jinzhu/Mean_NDVI/Year_2017_2019_Mean_NDBI',\n",
       " 'projects/earthengine-legacy/assets/users/wensomone666/Jinzhu/Mean_NDVI/Year_2017_2019_Mean_NDVI']"
      ]
     },
     "execution_count": 6,
     "metadata": {},
     "output_type": "execute_result"
    }
   ],
   "source": [
    "items = p.split('\\n')[2:-1]\n",
    "items"
   ]
  },
  {
   "cell_type": "code",
   "execution_count": null,
   "metadata": {},
   "outputs": [],
   "source": []
  },
  {
   "cell_type": "markdown",
   "metadata": {},
   "source": [
    "Grant access to another email for all objects in all_data"
   ]
  },
  {
   "cell_type": "code",
   "execution_count": null,
   "metadata": {},
   "outputs": [],
   "source": []
  },
  {
   "cell_type": "code",
   "execution_count": 7,
   "metadata": {},
   "outputs": [],
   "source": [
    "# judge weather the item is an object or a folder/collection\n",
    "\n",
    "all_data = []\n",
    "\n",
    "for item in items:\n",
    "    \n",
    "    # first using 'earthengine ls' command to get an median_result for later judgement\n",
    "    median_result = subprocess.run(    f'earthengine ls {item}',\n",
    "                                       shell = True,\n",
    "                                       capture_output = True, \n",
    "                                       text = True ).stdout.split('\\n')[2:-1]\n",
    "        \n",
    "        # if the item is a object, put it into the all_data list directly.\n",
    "    if 'is not a folder' in median_result[0]:\n",
    "        all_data.append(item)\n",
    "        \n",
    "        # if the item is a folder/collectioin, put the median result into the all_data list\n",
    "    else:\n",
    "        all_data.append(median_result)"
   ]
  },
  {
   "cell_type": "code",
   "execution_count": null,
   "metadata": {},
   "outputs": [],
   "source": []
  },
  {
   "cell_type": "code",
   "execution_count": 8,
   "metadata": {},
   "outputs": [],
   "source": [
    "# flatten the all_data list\n",
    "all_objects = []\n",
    "\n",
    "for i in all_data:\n",
    "    \n",
    "    if isinstance(i,list):\n",
    "        all_objects.extend(i)\n",
    "    else:\n",
    "        all_objects.append(i)"
   ]
  },
  {
   "cell_type": "code",
   "execution_count": null,
   "metadata": {},
   "outputs": [],
   "source": []
  },
  {
   "cell_type": "code",
   "execution_count": 10,
   "metadata": {},
   "outputs": [
    {
     "name": "stdout",
     "output_type": "stream",
     "text": [
      "Granting access projects/earthengine-legacy/assets/users/wensomone666/Jinzhu/Mean_NDVI/Year_1987_1989_Mean_NDBI to public\n",
      "Granting access projects/earthengine-legacy/assets/users/wensomone666/Jinzhu/Mean_NDVI/Year_1987_1989_Mean_NDVI to public\n",
      "Granting access projects/earthengine-legacy/assets/users/wensomone666/Jinzhu/Mean_NDVI/Year_1990_1992_Mean_NDBI to public\n",
      "Granting access projects/earthengine-legacy/assets/users/wensomone666/Jinzhu/Mean_NDVI/Year_1990_1992_Mean_NDVI to public\n",
      "Granting access projects/earthengine-legacy/assets/users/wensomone666/Jinzhu/Mean_NDVI/Year_1993_1995_Mean_NDBI to public\n",
      "Granting access projects/earthengine-legacy/assets/users/wensomone666/Jinzhu/Mean_NDVI/Year_1993_1995_Mean_NDVI to public\n",
      "Granting access projects/earthengine-legacy/assets/users/wensomone666/Jinzhu/Mean_NDVI/Year_1996_1998_Mean_NDBI to public\n",
      "Granting access projects/earthengine-legacy/assets/users/wensomone666/Jinzhu/Mean_NDVI/Year_1996_1998_Mean_NDVI to public\n",
      "Granting access projects/earthengine-legacy/assets/users/wensomone666/Jinzhu/Mean_NDVI/Year_1999_2001_Mean_NDBI to public\n",
      "Granting access projects/earthengine-legacy/assets/users/wensomone666/Jinzhu/Mean_NDVI/Year_1999_2001_Mean_NDVI to public\n",
      "Granting access projects/earthengine-legacy/assets/users/wensomone666/Jinzhu/Mean_NDVI/Year_2002_2004_Mean_EVI to public\n",
      "Granting access projects/earthengine-legacy/assets/users/wensomone666/Jinzhu/Mean_NDVI/Year_2002_2004_Mean_NDBI to public\n",
      "Granting access projects/earthengine-legacy/assets/users/wensomone666/Jinzhu/Mean_NDVI/Year_2002_2004_Mean_NDVI to public\n",
      "Granting access projects/earthengine-legacy/assets/users/wensomone666/Jinzhu/Mean_NDVI/Year_2005_2007_Mean_EVI to public\n",
      "Granting access projects/earthengine-legacy/assets/users/wensomone666/Jinzhu/Mean_NDVI/Year_2005_2007_Mean_NDBI to public\n",
      "Granting access projects/earthengine-legacy/assets/users/wensomone666/Jinzhu/Mean_NDVI/Year_2005_2007_Mean_NDVI to public\n",
      "Granting access projects/earthengine-legacy/assets/users/wensomone666/Jinzhu/Mean_NDVI/Year_2008_2010_Mean_EVI to public\n",
      "Granting access projects/earthengine-legacy/assets/users/wensomone666/Jinzhu/Mean_NDVI/Year_2008_2010_Mean_NDBI to public\n",
      "Granting access projects/earthengine-legacy/assets/users/wensomone666/Jinzhu/Mean_NDVI/Year_2008_2010_Mean_NDVI to public\n",
      "Granting access projects/earthengine-legacy/assets/users/wensomone666/Jinzhu/Mean_NDVI/Year_2011_2013_Mean_EVI to public\n",
      "Granting access projects/earthengine-legacy/assets/users/wensomone666/Jinzhu/Mean_NDVI/Year_2011_2013_Mean_NDBI to public\n",
      "Granting access projects/earthengine-legacy/assets/users/wensomone666/Jinzhu/Mean_NDVI/Year_2011_2013_Mean_NDVI to public\n",
      "Granting access projects/earthengine-legacy/assets/users/wensomone666/Jinzhu/Mean_NDVI/Year_2014_2016_Mean_EVI to public\n",
      "Granting access projects/earthengine-legacy/assets/users/wensomone666/Jinzhu/Mean_NDVI/Year_2014_2016_Mean_NDBI to public\n",
      "Granting access projects/earthengine-legacy/assets/users/wensomone666/Jinzhu/Mean_NDVI/Year_2014_2016_Mean_NDVI to public\n",
      "Granting access projects/earthengine-legacy/assets/users/wensomone666/Jinzhu/Mean_NDVI/Year_2017_2019_Mean_EVI to public\n",
      "Granting access projects/earthengine-legacy/assets/users/wensomone666/Jinzhu/Mean_NDVI/Year_2017_2019_Mean_NDBI to public\n",
      "Granting access projects/earthengine-legacy/assets/users/wensomone666/Jinzhu/Mean_NDVI/Year_2017_2019_Mean_NDVI to public\n"
     ]
    }
   ],
   "source": [
    "# grant data access to public\n",
    "\n",
    "for obj in all_objects:\n",
    "    \n",
    "    subprocess.run(f'earthengine acl set public {obj}',\n",
    "                               shell = True,\n",
    "                               capture_output = True, \n",
    "                               text = True )\n",
    "    # print out the process\n",
    "    print(f'Granting access {obj} to public')"
   ]
  },
  {
   "cell_type": "code",
   "execution_count": null,
   "metadata": {},
   "outputs": [],
   "source": []
  },
  {
   "cell_type": "code",
   "execution_count": null,
   "metadata": {},
   "outputs": [],
   "source": []
  }
 ],
 "metadata": {
  "kernelspec": {
   "display_name": "Python 3",
   "language": "python",
   "name": "python3"
  },
  "language_info": {
   "codemirror_mode": {
    "name": "ipython",
    "version": 3
   },
   "file_extension": ".py",
   "mimetype": "text/x-python",
   "name": "python",
   "nbconvert_exporter": "python",
   "pygments_lexer": "ipython3",
   "version": "3.8.2"
  }
 },
 "nbformat": 4,
 "nbformat_minor": 4
}
