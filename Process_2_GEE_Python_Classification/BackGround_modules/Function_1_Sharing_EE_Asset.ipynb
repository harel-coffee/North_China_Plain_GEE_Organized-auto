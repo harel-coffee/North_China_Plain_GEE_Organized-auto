{
 "cells": [
  {
   "cell_type": "code",
   "execution_count": 1,
   "metadata": {},
   "outputs": [],
   "source": [
    "import ee\n",
    "import subprocess\n",
    "\n",
    "import pandas as pd\n",
    "import numpy as np"
   ]
  },
  {
   "cell_type": "code",
   "execution_count": 2,
   "metadata": {},
   "outputs": [],
   "source": [
    "ee.Initialize()"
   ]
  },
  {
   "cell_type": "markdown",
   "metadata": {},
   "source": [
    "_________________________"
   ]
  },
  {
   "cell_type": "markdown",
   "metadata": {},
   "source": [
    "This program is to make a GEE path-folder public so that other peopel can use the data within this path-folder"
   ]
  },
  {
   "cell_type": "markdown",
   "metadata": {},
   "source": [
    "_________________"
   ]
  },
  {
   "cell_type": "code",
   "execution_count": 3,
   "metadata": {},
   "outputs": [],
   "source": [
    "#####################################__________IMPORTANT____________########################################\n",
    "\n",
    "# 1) Only suitable for path-folder of depth no more than 2 ==> path-foldr[folder,object,folder[objects]]\n",
    "# 2) NOT suitable for path-folder like ==> path-folder[folder,obj,folder[folder]] \n"
   ]
  },
  {
   "cell_type": "code",
   "execution_count": null,
   "metadata": {},
   "outputs": [],
   "source": []
  },
  {
   "cell_type": "markdown",
   "metadata": {},
   "source": [
    "List all items of a root_path"
   ]
  },
  {
   "cell_type": "code",
   "execution_count": 4,
   "metadata": {},
   "outputs": [],
   "source": [
    "path_folder = 'users/wangjinzhulala/North_China_Plain_Python'"
   ]
  },
  {
   "cell_type": "code",
   "execution_count": null,
   "metadata": {},
   "outputs": [],
   "source": []
  },
  {
   "cell_type": "code",
   "execution_count": 5,
   "metadata": {},
   "outputs": [],
   "source": [
    "p = subprocess.run(f'earthengine ls {path_folder}',shell = True,capture_output = True, text = True ).stdout"
   ]
  },
  {
   "cell_type": "code",
   "execution_count": 6,
   "metadata": {},
   "outputs": [],
   "source": [
    "items = p.split('\\n')[2:-1]"
   ]
  },
  {
   "cell_type": "code",
   "execution_count": null,
   "metadata": {},
   "outputs": [],
   "source": []
  },
  {
   "cell_type": "markdown",
   "metadata": {},
   "source": [
    "Grant access to another email for all objects in all_data"
   ]
  },
  {
   "cell_type": "code",
   "execution_count": null,
   "metadata": {},
   "outputs": [],
   "source": []
  },
  {
   "cell_type": "code",
   "execution_count": 7,
   "metadata": {},
   "outputs": [],
   "source": [
    "# judge weather the item is an object or a folder/collection\n",
    "\n",
    "all_data = []\n",
    "\n",
    "for item in items:\n",
    "    \n",
    "    # first using 'earthengine ls' command to get an median_result for later judgement\n",
    "    median_result = subprocess.run(    f'earthengine ls {item}',\n",
    "                                       shell = True,\n",
    "                                       capture_output = True, \n",
    "                                       text = True ).stdout.split('\\n')[2:-1]\n",
    "        \n",
    "        # if the item is a object, put it into the all_data list directly.\n",
    "    if 'is not a folder' in median_result[0]:\n",
    "        all_data.append(item)\n",
    "        \n",
    "        # if the item is a folder/collectioin, put the median result into the all_data list\n",
    "    else:\n",
    "        all_data.append(median_result)"
   ]
  },
  {
   "cell_type": "code",
   "execution_count": null,
   "metadata": {},
   "outputs": [],
   "source": []
  },
  {
   "cell_type": "code",
   "execution_count": 8,
   "metadata": {},
   "outputs": [],
   "source": [
    "# flatten the all_data list\n",
    "all_objects = []\n",
    "\n",
    "for i in all_data:\n",
    "    \n",
    "    if isinstance(i,list):\n",
    "        all_objects.extend(i)\n",
    "    else:\n",
    "        all_objects.append(i)"
   ]
  },
  {
   "cell_type": "code",
   "execution_count": null,
   "metadata": {},
   "outputs": [],
   "source": []
  },
  {
   "cell_type": "code",
   "execution_count": null,
   "metadata": {},
   "outputs": [
    {
     "name": "stdout",
     "output_type": "stream",
     "text": [
      "Granting access projects/earthengine-legacy/assets/users/wangjinzhulala/North_China_Plain_Python/Boundary_shp/North_China_Plain_Boundary to public\n",
      "Granting access projects/earthengine-legacy/assets/users/wangjinzhulala/North_China_Plain_Python/Cloud_Free_Img/Cloud_Free_2017_2019 to public\n",
      "Granting access projects/earthengine-legacy/assets/users/wangjinzhulala/North_China_Plain_Python/Each_Landsat_Time_Series/All_Index_path_2017_2019_01 to public\n",
      "Granting access projects/earthengine-legacy/assets/users/wangjinzhulala/North_China_Plain_Python/Each_Landsat_Time_Series/All_Index_path_2017_2019_02 to public\n",
      "Granting access projects/earthengine-legacy/assets/users/wangjinzhulala/North_China_Plain_Python/Each_Landsat_Time_Series/All_Index_path_2017_2019_03 to public\n",
      "Granting access projects/earthengine-legacy/assets/users/wangjinzhulala/North_China_Plain_Python/Each_Landsat_Time_Series/All_Index_path_2017_2019_04 to public\n",
      "Granting access projects/earthengine-legacy/assets/users/wangjinzhulala/North_China_Plain_Python/Each_Landsat_Time_Series/All_Index_path_2017_2019_05 to public\n",
      "Granting access projects/earthengine-legacy/assets/users/wangjinzhulala/North_China_Plain_Python/Each_Landsat_Time_Series/All_Index_path_2017_2019_06 to public\n",
      "Granting access projects/earthengine-legacy/assets/users/wangjinzhulala/North_China_Plain_Python/Each_Landsat_Time_Series/All_Index_path_2017_2019_07 to public\n",
      "Granting access projects/earthengine-legacy/assets/users/wangjinzhulala/North_China_Plain_Python/Each_Landsat_Time_Series/All_Index_path_2017_2019_08 to public\n",
      "Granting access projects/earthengine-legacy/assets/users/wangjinzhulala/North_China_Plain_Python/Each_Landsat_Time_Series/All_Index_path_2017_2019_09 to public\n",
      "Granting access projects/earthengine-legacy/assets/users/wangjinzhulala/North_China_Plain_Python/Each_Landsat_Time_Series/All_Index_path_2017_2019_10 to public\n",
      "Granting access projects/earthengine-legacy/assets/users/wangjinzhulala/North_China_Plain_Python/Each_Landsat_Time_Series/All_Index_path_2017_2019_11 to public\n",
      "Granting access projects/earthengine-legacy/assets/users/wangjinzhulala/North_China_Plain_Python/Each_Landsat_Time_Series/All_Index_path_2017_2019_12 to public\n",
      "Granting access projects/earthengine-legacy/assets/users/wangjinzhulala/North_China_Plain_Python/Each_Landsat_Time_Series/All_Index_path_2017_2019_13 to public\n",
      "Granting access projects/earthengine-legacy/assets/users/wangjinzhulala/North_China_Plain_Python/Each_Landsat_Time_Series/All_Index_path_2017_2019_14 to public\n",
      "Granting access projects/earthengine-legacy/assets/users/wangjinzhulala/North_China_Plain_Python/Each_Landsat_Time_Series/All_Index_path_2017_2019_15 to public\n",
      "Granting access projects/earthengine-legacy/assets/users/wangjinzhulala/North_China_Plain_Python/Each_Landsat_Time_Series/All_Index_path_2017_2019_16 to public\n",
      "Granting access projects/earthengine-legacy/assets/users/wangjinzhulala/North_China_Plain_Python/Each_Landsat_Time_Series/All_Index_path_2017_2019_17 to public\n",
      "Granting access projects/earthengine-legacy/assets/users/wangjinzhulala/North_China_Plain_Python/Each_Landsat_Time_Series/All_Index_path_2017_2019_18 to public\n",
      "Granting access projects/earthengine-legacy/assets/users/wangjinzhulala/North_China_Plain_Python/Each_Landsat_Time_Series/All_Index_path_2017_2019_19 to public\n",
      "Granting access projects/earthengine-legacy/assets/users/wangjinzhulala/North_China_Plain_Python/Each_Landsat_Time_Series/All_Index_path_2017_2019_20 to public\n",
      "Granting access projects/earthengine-legacy/assets/users/wangjinzhulala/North_China_Plain_Python/Each_Landsat_Time_Series/All_Index_path_2017_2019_21 to public\n",
      "Granting access projects/earthengine-legacy/assets/users/wangjinzhulala/North_China_Plain_Python/Each_Landsat_Time_Series/All_Index_path_2017_2019_22 to public\n",
      "Granting access projects/earthengine-legacy/assets/users/wangjinzhulala/North_China_Plain_Python/Each_Landsat_Time_Series/All_Index_path_2017_2019_23 to public\n",
      "Granting access projects/earthengine-legacy/assets/users/wangjinzhulala/North_China_Plain_Python/Each_Landsat_Time_Series/All_Index_path_2017_2019_24 to public\n",
      "Granting access projects/earthengine-legacy/assets/users/wangjinzhulala/North_China_Plain_Python/Each_Landsat_Time_Series/All_Index_path_2017_2019_25 to public\n",
      "Granting access projects/earthengine-legacy/assets/users/wangjinzhulala/North_China_Plain_Python/Each_Landsat_Time_Series/All_Index_path_2017_2019_26 to public\n",
      "Granting access projects/earthengine-legacy/assets/users/wangjinzhulala/North_China_Plain_Python/Each_Landsat_Time_Series/All_Index_path_2017_2019_27 to public\n",
      "Granting access projects/earthengine-legacy/assets/users/wangjinzhulala/North_China_Plain_Python/Each_Landsat_Time_Series/All_Index_path_2017_2019_28 to public\n",
      "Granting access projects/earthengine-legacy/assets/users/wangjinzhulala/North_China_Plain_Python/Each_Landsat_Time_Series/All_Index_path_2017_2019_29 to public\n",
      "Granting access projects/earthengine-legacy/assets/users/wangjinzhulala/North_China_Plain_Python/Each_Landsat_Time_Series/All_Index_path_2017_2019_30 to public\n",
      "Granting access projects/earthengine-legacy/assets/users/wangjinzhulala/North_China_Plain_Python/Each_Landsat_Time_Series/All_Index_path_2017_2019_31 to public\n",
      "Granting access projects/earthengine-legacy/assets/users/wangjinzhulala/North_China_Plain_Python/Each_Landsat_Time_Series/All_Index_path_2017_2019_32 to public\n",
      "Granting access projects/earthengine-legacy/assets/users/wangjinzhulala/North_China_Plain_Python/Each_Landsat_Time_Series/All_Index_path_2017_2019_33 to public\n",
      "Granting access projects/earthengine-legacy/assets/users/wangjinzhulala/North_China_Plain_Python/Each_Landsat_Time_Series/All_Index_path_2017_2019_34 to public\n",
      "Granting access projects/earthengine-legacy/assets/users/wangjinzhulala/North_China_Plain_Python/Each_Landsat_Time_Series/All_Index_path_2017_2019_35 to public\n",
      "Granting access projects/earthengine-legacy/assets/users/wangjinzhulala/North_China_Plain_Python/Each_Landsat_Time_Series/All_Index_path_2017_2019_36 to public\n",
      "Granting access projects/earthengine-legacy/assets/users/wangjinzhulala/North_China_Plain_Python/Each_Landsat_Time_Series/All_Index_path_2017_2019_37 to public\n",
      "Granting access projects/earthengine-legacy/assets/users/wangjinzhulala/North_China_Plain_Python/Each_Landsat_Time_Series/All_Index_path_2017_2019_38 to public\n",
      "Granting access projects/earthengine-legacy/assets/users/wangjinzhulala/North_China_Plain_Python/Each_Landsat_Time_Series/All_Index_path_2017_2019_39 to public\n",
      "Granting access projects/earthengine-legacy/assets/users/wangjinzhulala/North_China_Plain_Python/Each_Landsat_Time_Series/All_Index_path_2017_2019_40 to public\n",
      "Granting access projects/earthengine-legacy/assets/users/wangjinzhulala/North_China_Plain_Python/Each_Landsat_Time_Series/All_Index_path_2017_2019_41 to public\n",
      "Granting access projects/earthengine-legacy/assets/users/wangjinzhulala/North_China_Plain_Python/Each_Landsat_Time_Series/All_Index_path_2017_2019_42 to public\n",
      "Granting access projects/earthengine-legacy/assets/users/wangjinzhulala/North_China_Plain_Python/Each_Landsat_Time_Series/All_Index_path_2017_2019_43 to public\n",
      "Granting access projects/earthengine-legacy/assets/users/wangjinzhulala/North_China_Plain_Python/Each_Landsat_Time_Series/All_Index_path_2017_2019_44 to public\n",
      "Granting access projects/earthengine-legacy/assets/users/wangjinzhulala/North_China_Plain_Python/Each_Landsat_Time_Series/All_Index_path_2017_2019_45 to public\n",
      "Granting access projects/earthengine-legacy/assets/users/wangjinzhulala/North_China_Plain_Python/Each_Landsat_Time_Series/All_Index_path_2017_2019_46 to public\n",
      "Granting access projects/earthengine-legacy/assets/users/wangjinzhulala/North_China_Plain_Python/Each_Landsat_Time_Series/All_Index_path_2017_2019_47 to public\n",
      "Granting access projects/earthengine-legacy/assets/users/wangjinzhulala/North_China_Plain_Python/Each_Landsat_Time_Series/All_Index_path_2017_2019_48 to public\n",
      "Granting access projects/earthengine-legacy/assets/users/wangjinzhulala/North_China_Plain_Python/Each_Landsat_Time_Series/All_Index_path_2017_2019_49 to public\n",
      "Granting access projects/earthengine-legacy/assets/users/wangjinzhulala/North_China_Plain_Python/Each_Landsat_Time_Series/All_Index_path_2017_2019_50 to public\n"
     ]
    },
    {
     "name": "stdout",
     "output_type": "stream",
     "text": [
      "Granting access projects/earthengine-legacy/assets/users/wangjinzhulala/North_China_Plain_Python/Each_Landsat_Time_Series/All_Index_path_2017_2019_51 to public\n",
      "Granting access projects/earthengine-legacy/assets/users/wangjinzhulala/North_China_Plain_Python/Each_Landsat_Time_Series/All_Index_path_2017_2019_52 to public\n",
      "Granting access projects/earthengine-legacy/assets/users/wangjinzhulala/North_China_Plain_Python/Fourier_pixels/Fourier_Total_All_index_3_year_2017_2019 to public\n",
      "Granting access projects/earthengine-legacy/assets/users/wangjinzhulala/North_China_Plain_Python/Fourier_pixels/Fourier_Total_All_index_4_year_2016_2019 to public\n",
      "Granting access projects/earthengine-legacy/assets/users/wangjinzhulala/North_China_Plain_Python/Fourier_pixels/Fourier_Total_All_index_5_year_2015_2019 to public\n",
      "Granting access projects/earthengine-legacy/assets/users/wangjinzhulala/North_China_Plain_Python/Night_Light_Luojia/Raw_Collection to public\n",
      "Granting access projects/earthengine-legacy/assets/users/wangjinzhulala/North_China_Plain_Python/Sample_Points/Merge_verified_0_1_villege_1 to public\n",
      "Granting access projects/earthengine-legacy/assets/users/wangjinzhulala/North_China_Plain_Python/Sample_Points/Merge_verified_0_villege_1 to public\n",
      "Granting access projects/earthengine-legacy/assets/users/wangjinzhulala/North_China_Plain_Python/Sample_Points/Merge_verified_0_villege_1_SLOPE_DEM to public\n",
      "Granting access projects/earthengine-legacy/assets/users/wangjinzhulala/North_China_Plain_Python/Sample_Points/Verified_pt_2005_2007 to public\n",
      "Granting access projects/earthengine-legacy/assets/users/wangjinzhulala/North_China_Plain_Python/Sample_Points/Verified_pt_2008_2010 to public\n",
      "Granting access projects/earthengine-legacy/assets/users/wangjinzhulala/North_China_Plain_Python/Sample_Points/Verified_pt_2011_2013 to public\n",
      "Granting access projects/earthengine-legacy/assets/users/wangjinzhulala/North_China_Plain_Python/Sample_Points/Verified_pt_2014_2016 to public\n",
      "Granting access projects/earthengine-legacy/assets/users/wangjinzhulala/North_China_Plain_Python/Sample_Points/Verified_pt_2017_2019 to public\n",
      "Granting access projects/earthengine-legacy/assets/users/wangjinzhulala/North_China_Plain_Python/Sample_Points/Verified_pt_2017_2019_with_20K_city_rural_pts to public\n",
      "Granting access projects/earthengine-legacy/assets/users/wangjinzhulala/North_China_Plain_Python/Sample_Points/Verified_pt_2017_2019_with_600_city_pts to public\n",
      "Granting access projects/earthengine-legacy/assets/users/wangjinzhulala/North_China_Plain_Python/Sample_Points/Verified_pt_merge_2005_2019 to public\n",
      "Granting access projects/earthengine-legacy/assets/users/wangjinzhulala/North_China_Plain_Python/Spectrum_Fourier_samples/Year_2017_2019_Test_LandSat_NDVI_Sentinel_DEM_SLOPE_Night_tree_001 to public\n",
      "Granting access projects/earthengine-legacy/assets/users/wangjinzhulala/North_China_Plain_Python/Spectrum_Fourier_samples/Year_2017_2019_Test_LandSat_NDVI_Sentinel_DEM_SLOPE_Night_tree_010 to public\n",
      "Granting access projects/earthengine-legacy/assets/users/wangjinzhulala/North_China_Plain_Python/Spectrum_Fourier_samples/Year_2017_2019_Test_LandSat_NDVI_Sentinel_DEM_SLOPE_Night_tree_020 to public\n",
      "Granting access projects/earthengine-legacy/assets/users/wangjinzhulala/North_China_Plain_Python/Spectrum_Fourier_samples/Year_2017_2019_Test_LandSat_NDVI_Sentinel_DEM_SLOPE_Night_tree_030 to public\n",
      "Granting access projects/earthengine-legacy/assets/users/wangjinzhulala/North_China_Plain_Python/Spectrum_Fourier_samples/Year_2017_2019_Test_LandSat_NDVI_Sentinel_DEM_SLOPE_Night_tree_040 to public\n",
      "Granting access projects/earthengine-legacy/assets/users/wangjinzhulala/North_China_Plain_Python/Spectrum_Fourier_samples/Year_2017_2019_Test_LandSat_NDVI_Sentinel_DEM_SLOPE_Night_tree_050 to public\n",
      "Granting access projects/earthengine-legacy/assets/users/wangjinzhulala/North_China_Plain_Python/Spectrum_Fourier_samples/Year_2017_2019_Test_LandSat_NDVI_Sentinel_DEM_SLOPE_Night_tree_060 to public\n",
      "Granting access projects/earthengine-legacy/assets/users/wangjinzhulala/North_China_Plain_Python/Spectrum_Fourier_samples/Year_2017_2019_Test_LandSat_NDVI_Sentinel_DEM_SLOPE_Night_tree_070 to public\n",
      "Granting access projects/earthengine-legacy/assets/users/wangjinzhulala/North_China_Plain_Python/Spectrum_Fourier_samples/Year_2017_2019_Test_LandSat_NDVI_Sentinel_DEM_SLOPE_Night_tree_080 to public\n",
      "Granting access projects/earthengine-legacy/assets/users/wangjinzhulala/North_China_Plain_Python/Spectrum_Fourier_samples/Year_2017_2019_Test_LandSat_NDVI_Sentinel_DEM_SLOPE_Night_tree_090 to public\n",
      "Granting access projects/earthengine-legacy/assets/users/wangjinzhulala/North_China_Plain_Python/Spectrum_Fourier_samples/Year_2017_2019_Test_LandSat_NDVI_Sentinel_DEM_SLOPE_Night_tree_100 to public\n",
      "Granting access projects/earthengine-legacy/assets/users/wangjinzhulala/North_China_Plain_Python/Spectrum_Fourier_samples/Year_2017_2019_Test_LandSat_NDVI_Sentinel_DEM_SLOPE_Night_tree_110 to public\n",
      "Granting access projects/earthengine-legacy/assets/users/wangjinzhulala/North_China_Plain_Python/Spectrum_Fourier_samples/Year_2017_2019_Test_LandSat_NDVI_Sentinel_DEM_SLOPE_Night_tree_120 to public\n",
      "Granting access projects/earthengine-legacy/assets/users/wangjinzhulala/North_China_Plain_Python/Spectrum_Fourier_samples/Year_2017_2019_Test_LandSat_NDVI_Sentinel_DEM_SLOPE_tree_001 to public\n",
      "Granting access projects/earthengine-legacy/assets/users/wangjinzhulala/North_China_Plain_Python/Spectrum_Fourier_samples/Year_2017_2019_Test_LandSat_NDVI_Sentinel_DEM_SLOPE_tree_010 to public\n",
      "Granting access projects/earthengine-legacy/assets/users/wangjinzhulala/North_China_Plain_Python/Spectrum_Fourier_samples/Year_2017_2019_Test_LandSat_NDVI_Sentinel_DEM_SLOPE_tree_020 to public\n",
      "Granting access projects/earthengine-legacy/assets/users/wangjinzhulala/North_China_Plain_Python/Spectrum_Fourier_samples/Year_2017_2019_Test_LandSat_NDVI_Sentinel_DEM_SLOPE_tree_030 to public\n",
      "Granting access projects/earthengine-legacy/assets/users/wangjinzhulala/North_China_Plain_Python/Spectrum_Fourier_samples/Year_2017_2019_Test_LandSat_NDVI_Sentinel_DEM_SLOPE_tree_040 to public\n",
      "Granting access projects/earthengine-legacy/assets/users/wangjinzhulala/North_China_Plain_Python/Spectrum_Fourier_samples/Year_2017_2019_Test_LandSat_NDVI_Sentinel_DEM_SLOPE_tree_050 to public\n",
      "Granting access projects/earthengine-legacy/assets/users/wangjinzhulala/North_China_Plain_Python/Spectrum_Fourier_samples/Year_2017_2019_Test_LandSat_NDVI_Sentinel_DEM_SLOPE_tree_060 to public\n",
      "Granting access projects/earthengine-legacy/assets/users/wangjinzhulala/North_China_Plain_Python/Spectrum_Fourier_samples/Year_2017_2019_Test_LandSat_NDVI_Sentinel_DEM_SLOPE_tree_070 to public\n",
      "Granting access projects/earthengine-legacy/assets/users/wangjinzhulala/North_China_Plain_Python/Spectrum_Fourier_samples/Year_2017_2019_Test_LandSat_NDVI_Sentinel_DEM_SLOPE_tree_080 to public\n",
      "Granting access projects/earthengine-legacy/assets/users/wangjinzhulala/North_China_Plain_Python/Spectrum_Fourier_samples/Year_2017_2019_Test_LandSat_NDVI_Sentinel_DEM_SLOPE_tree_090 to public\n",
      "Granting access projects/earthengine-legacy/assets/users/wangjinzhulala/North_China_Plain_Python/Spectrum_Fourier_samples/Year_2017_2019_Test_LandSat_NDVI_Sentinel_DEM_SLOPE_tree_100 to public\n",
      "Granting access projects/earthengine-legacy/assets/users/wangjinzhulala/North_China_Plain_Python/Spectrum_Fourier_samples/Year_2017_2019_Test_LandSat_NDVI_Sentinel_DEM_SLOPE_tree_110 to public\n",
      "Granting access projects/earthengine-legacy/assets/users/wangjinzhulala/North_China_Plain_Python/Spectrum_Fourier_samples/Year_2017_2019_Test_LandSat_NDVI_Sentinel_DEM_SLOPE_tree_120 to public\n",
      "Granting access projects/earthengine-legacy/assets/users/wangjinzhulala/North_China_Plain_Python/Spectrum_Fourier_samples/Year_2017_2019_Test_LandSat_NDVI_Sentinel_tree_001 to public\n",
      "Granting access projects/earthengine-legacy/assets/users/wangjinzhulala/North_China_Plain_Python/Spectrum_Fourier_samples/Year_2017_2019_Test_LandSat_NDVI_Sentinel_tree_010 to public\n",
      "Granting access projects/earthengine-legacy/assets/users/wangjinzhulala/North_China_Plain_Python/Spectrum_Fourier_samples/Year_2017_2019_Test_LandSat_NDVI_Sentinel_tree_020 to public\n"
     ]
    },
    {
     "name": "stdout",
     "output_type": "stream",
     "text": [
      "Granting access projects/earthengine-legacy/assets/users/wangjinzhulala/North_China_Plain_Python/Spectrum_Fourier_samples/Year_2017_2019_Test_LandSat_NDVI_Sentinel_tree_030 to public\n",
      "Granting access projects/earthengine-legacy/assets/users/wangjinzhulala/North_China_Plain_Python/Spectrum_Fourier_samples/Year_2017_2019_Test_LandSat_NDVI_Sentinel_tree_040 to public\n",
      "Granting access projects/earthengine-legacy/assets/users/wangjinzhulala/North_China_Plain_Python/Spectrum_Fourier_samples/Year_2017_2019_Test_LandSat_NDVI_Sentinel_tree_050 to public\n",
      "Granting access projects/earthengine-legacy/assets/users/wangjinzhulala/North_China_Plain_Python/Spectrum_Fourier_samples/Year_2017_2019_Test_LandSat_NDVI_Sentinel_tree_060 to public\n",
      "Granting access projects/earthengine-legacy/assets/users/wangjinzhulala/North_China_Plain_Python/Spectrum_Fourier_samples/Year_2017_2019_Test_LandSat_NDVI_Sentinel_tree_070 to public\n",
      "Granting access projects/earthengine-legacy/assets/users/wangjinzhulala/North_China_Plain_Python/Spectrum_Fourier_samples/Year_2017_2019_Test_LandSat_NDVI_Sentinel_tree_080 to public\n",
      "Granting access projects/earthengine-legacy/assets/users/wangjinzhulala/North_China_Plain_Python/Spectrum_Fourier_samples/Year_2017_2019_Test_LandSat_NDVI_Sentinel_tree_090 to public\n",
      "Granting access projects/earthengine-legacy/assets/users/wangjinzhulala/North_China_Plain_Python/Spectrum_Fourier_samples/Year_2017_2019_Test_LandSat_NDVI_Sentinel_tree_100 to public\n",
      "Granting access projects/earthengine-legacy/assets/users/wangjinzhulala/North_China_Plain_Python/Spectrum_Fourier_samples/Year_2017_2019_Test_LandSat_NDVI_Sentinel_tree_110 to public\n",
      "Granting access projects/earthengine-legacy/assets/users/wangjinzhulala/North_China_Plain_Python/Spectrum_Fourier_samples/Year_2017_2019_Test_LandSat_NDVI_Sentinel_tree_120 to public\n",
      "Granting access projects/earthengine-legacy/assets/users/wangjinzhulala/North_China_Plain_Python/Spectrum_Fourier_samples/Year_2017_2019_Test_LandSat_One_Fourier_EVI_tree_001 to public\n",
      "Granting access projects/earthengine-legacy/assets/users/wangjinzhulala/North_China_Plain_Python/Spectrum_Fourier_samples/Year_2017_2019_Test_LandSat_One_Fourier_EVI_tree_010 to public\n",
      "Granting access projects/earthengine-legacy/assets/users/wangjinzhulala/North_China_Plain_Python/Spectrum_Fourier_samples/Year_2017_2019_Test_LandSat_One_Fourier_EVI_tree_020 to public\n",
      "Granting access projects/earthengine-legacy/assets/users/wangjinzhulala/North_China_Plain_Python/Spectrum_Fourier_samples/Year_2017_2019_Test_LandSat_One_Fourier_EVI_tree_030 to public\n",
      "Granting access projects/earthengine-legacy/assets/users/wangjinzhulala/North_China_Plain_Python/Spectrum_Fourier_samples/Year_2017_2019_Test_LandSat_One_Fourier_EVI_tree_040 to public\n",
      "Granting access projects/earthengine-legacy/assets/users/wangjinzhulala/North_China_Plain_Python/Spectrum_Fourier_samples/Year_2017_2019_Test_LandSat_One_Fourier_EVI_tree_050 to public\n",
      "Granting access projects/earthengine-legacy/assets/users/wangjinzhulala/North_China_Plain_Python/Spectrum_Fourier_samples/Year_2017_2019_Test_LandSat_One_Fourier_EVI_tree_060 to public\n",
      "Granting access projects/earthengine-legacy/assets/users/wangjinzhulala/North_China_Plain_Python/Spectrum_Fourier_samples/Year_2017_2019_Test_LandSat_One_Fourier_EVI_tree_070 to public\n",
      "Granting access projects/earthengine-legacy/assets/users/wangjinzhulala/North_China_Plain_Python/Spectrum_Fourier_samples/Year_2017_2019_Test_LandSat_One_Fourier_EVI_tree_080 to public\n",
      "Granting access projects/earthengine-legacy/assets/users/wangjinzhulala/North_China_Plain_Python/Spectrum_Fourier_samples/Year_2017_2019_Test_LandSat_One_Fourier_EVI_tree_090 to public\n",
      "Granting access projects/earthengine-legacy/assets/users/wangjinzhulala/North_China_Plain_Python/Spectrum_Fourier_samples/Year_2017_2019_Test_LandSat_One_Fourier_EVI_tree_100 to public\n",
      "Granting access projects/earthengine-legacy/assets/users/wangjinzhulala/North_China_Plain_Python/Spectrum_Fourier_samples/Year_2017_2019_Test_LandSat_One_Fourier_EVI_tree_110 to public\n",
      "Granting access projects/earthengine-legacy/assets/users/wangjinzhulala/North_China_Plain_Python/Spectrum_Fourier_samples/Year_2017_2019_Test_LandSat_One_Fourier_EVI_tree_120 to public\n",
      "Granting access projects/earthengine-legacy/assets/users/wangjinzhulala/North_China_Plain_Python/Spectrum_Fourier_samples/Year_2017_2019_Test_LandSat_One_Fourier_NDBI_tree_001 to public\n",
      "Granting access projects/earthengine-legacy/assets/users/wangjinzhulala/North_China_Plain_Python/Spectrum_Fourier_samples/Year_2017_2019_Test_LandSat_One_Fourier_NDBI_tree_010 to public\n",
      "Granting access projects/earthengine-legacy/assets/users/wangjinzhulala/North_China_Plain_Python/Spectrum_Fourier_samples/Year_2017_2019_Test_LandSat_One_Fourier_NDBI_tree_020 to public\n",
      "Granting access projects/earthengine-legacy/assets/users/wangjinzhulala/North_China_Plain_Python/Spectrum_Fourier_samples/Year_2017_2019_Test_LandSat_One_Fourier_NDBI_tree_030 to public\n",
      "Granting access projects/earthengine-legacy/assets/users/wangjinzhulala/North_China_Plain_Python/Spectrum_Fourier_samples/Year_2017_2019_Test_LandSat_One_Fourier_NDBI_tree_040 to public\n",
      "Granting access projects/earthengine-legacy/assets/users/wangjinzhulala/North_China_Plain_Python/Spectrum_Fourier_samples/Year_2017_2019_Test_LandSat_One_Fourier_NDBI_tree_050 to public\n",
      "Granting access projects/earthengine-legacy/assets/users/wangjinzhulala/North_China_Plain_Python/Spectrum_Fourier_samples/Year_2017_2019_Test_LandSat_One_Fourier_NDBI_tree_060 to public\n",
      "Granting access projects/earthengine-legacy/assets/users/wangjinzhulala/North_China_Plain_Python/Spectrum_Fourier_samples/Year_2017_2019_Test_LandSat_One_Fourier_NDBI_tree_070 to public\n",
      "Granting access projects/earthengine-legacy/assets/users/wangjinzhulala/North_China_Plain_Python/Spectrum_Fourier_samples/Year_2017_2019_Test_LandSat_One_Fourier_NDBI_tree_080 to public\n",
      "Granting access projects/earthengine-legacy/assets/users/wangjinzhulala/North_China_Plain_Python/Spectrum_Fourier_samples/Year_2017_2019_Test_LandSat_One_Fourier_NDBI_tree_090 to public\n",
      "Granting access projects/earthengine-legacy/assets/users/wangjinzhulala/North_China_Plain_Python/Spectrum_Fourier_samples/Year_2017_2019_Test_LandSat_One_Fourier_NDBI_tree_100 to public\n",
      "Granting access projects/earthengine-legacy/assets/users/wangjinzhulala/North_China_Plain_Python/Spectrum_Fourier_samples/Year_2017_2019_Test_LandSat_One_Fourier_NDBI_tree_110 to public\n",
      "Granting access projects/earthengine-legacy/assets/users/wangjinzhulala/North_China_Plain_Python/Spectrum_Fourier_samples/Year_2017_2019_Test_LandSat_One_Fourier_NDBI_tree_120 to public\n",
      "Granting access projects/earthengine-legacy/assets/users/wangjinzhulala/North_China_Plain_Python/Spectrum_Fourier_samples/Year_2017_2019_Test_LandSat_One_Fourier_NDVI_tree_001 to public\n",
      "Granting access projects/earthengine-legacy/assets/users/wangjinzhulala/North_China_Plain_Python/Spectrum_Fourier_samples/Year_2017_2019_Test_LandSat_One_Fourier_NDVI_tree_010 to public\n",
      "Granting access projects/earthengine-legacy/assets/users/wangjinzhulala/North_China_Plain_Python/Spectrum_Fourier_samples/Year_2017_2019_Test_LandSat_One_Fourier_NDVI_tree_020 to public\n",
      "Granting access projects/earthengine-legacy/assets/users/wangjinzhulala/North_China_Plain_Python/Spectrum_Fourier_samples/Year_2017_2019_Test_LandSat_One_Fourier_NDVI_tree_030 to public\n",
      "Granting access projects/earthengine-legacy/assets/users/wangjinzhulala/North_China_Plain_Python/Spectrum_Fourier_samples/Year_2017_2019_Test_LandSat_One_Fourier_NDVI_tree_040 to public\n",
      "Granting access projects/earthengine-legacy/assets/users/wangjinzhulala/North_China_Plain_Python/Spectrum_Fourier_samples/Year_2017_2019_Test_LandSat_One_Fourier_NDVI_tree_050 to public\n",
      "Granting access projects/earthengine-legacy/assets/users/wangjinzhulala/North_China_Plain_Python/Spectrum_Fourier_samples/Year_2017_2019_Test_LandSat_One_Fourier_NDVI_tree_060 to public\n",
      "Granting access projects/earthengine-legacy/assets/users/wangjinzhulala/North_China_Plain_Python/Spectrum_Fourier_samples/Year_2017_2019_Test_LandSat_One_Fourier_NDVI_tree_070 to public\n",
      "Granting access projects/earthengine-legacy/assets/users/wangjinzhulala/North_China_Plain_Python/Spectrum_Fourier_samples/Year_2017_2019_Test_LandSat_One_Fourier_NDVI_tree_080 to public\n"
     ]
    },
    {
     "name": "stdout",
     "output_type": "stream",
     "text": [
      "Granting access projects/earthengine-legacy/assets/users/wangjinzhulala/North_China_Plain_Python/Spectrum_Fourier_samples/Year_2017_2019_Test_LandSat_One_Fourier_NDVI_tree_090 to public\n",
      "Granting access projects/earthengine-legacy/assets/users/wangjinzhulala/North_China_Plain_Python/Spectrum_Fourier_samples/Year_2017_2019_Test_LandSat_One_Fourier_NDVI_tree_100 to public\n",
      "Granting access projects/earthengine-legacy/assets/users/wangjinzhulala/North_China_Plain_Python/Spectrum_Fourier_samples/Year_2017_2019_Test_LandSat_One_Fourier_NDVI_tree_110 to public\n",
      "Granting access projects/earthengine-legacy/assets/users/wangjinzhulala/North_China_Plain_Python/Spectrum_Fourier_samples/Year_2017_2019_Test_LandSat_One_Fourier_NDVI_tree_120 to public\n",
      "Granting access projects/earthengine-legacy/assets/users/wangjinzhulala/North_China_Plain_Python/Spectrum_Fourier_samples/Year_2017_2019_Test_LandSat_One_Mean_Index_EVI_tree_001 to public\n",
      "Granting access projects/earthengine-legacy/assets/users/wangjinzhulala/North_China_Plain_Python/Spectrum_Fourier_samples/Year_2017_2019_Test_LandSat_One_Mean_Index_EVI_tree_010 to public\n",
      "Granting access projects/earthengine-legacy/assets/users/wangjinzhulala/North_China_Plain_Python/Spectrum_Fourier_samples/Year_2017_2019_Test_LandSat_One_Mean_Index_EVI_tree_020 to public\n",
      "Granting access projects/earthengine-legacy/assets/users/wangjinzhulala/North_China_Plain_Python/Spectrum_Fourier_samples/Year_2017_2019_Test_LandSat_One_Mean_Index_EVI_tree_030 to public\n",
      "Granting access projects/earthengine-legacy/assets/users/wangjinzhulala/North_China_Plain_Python/Spectrum_Fourier_samples/Year_2017_2019_Test_LandSat_One_Mean_Index_EVI_tree_040 to public\n",
      "Granting access projects/earthengine-legacy/assets/users/wangjinzhulala/North_China_Plain_Python/Spectrum_Fourier_samples/Year_2017_2019_Test_LandSat_One_Mean_Index_EVI_tree_050 to public\n",
      "Granting access projects/earthengine-legacy/assets/users/wangjinzhulala/North_China_Plain_Python/Spectrum_Fourier_samples/Year_2017_2019_Test_LandSat_One_Mean_Index_EVI_tree_060 to public\n",
      "Granting access projects/earthengine-legacy/assets/users/wangjinzhulala/North_China_Plain_Python/Spectrum_Fourier_samples/Year_2017_2019_Test_LandSat_One_Mean_Index_EVI_tree_070 to public\n",
      "Granting access projects/earthengine-legacy/assets/users/wangjinzhulala/North_China_Plain_Python/Spectrum_Fourier_samples/Year_2017_2019_Test_LandSat_One_Mean_Index_EVI_tree_080 to public\n",
      "Granting access projects/earthengine-legacy/assets/users/wangjinzhulala/North_China_Plain_Python/Spectrum_Fourier_samples/Year_2017_2019_Test_LandSat_One_Mean_Index_EVI_tree_090 to public\n",
      "Granting access projects/earthengine-legacy/assets/users/wangjinzhulala/North_China_Plain_Python/Spectrum_Fourier_samples/Year_2017_2019_Test_LandSat_One_Mean_Index_EVI_tree_100 to public\n",
      "Granting access projects/earthengine-legacy/assets/users/wangjinzhulala/North_China_Plain_Python/Spectrum_Fourier_samples/Year_2017_2019_Test_LandSat_One_Mean_Index_EVI_tree_110 to public\n",
      "Granting access projects/earthengine-legacy/assets/users/wangjinzhulala/North_China_Plain_Python/Spectrum_Fourier_samples/Year_2017_2019_Test_LandSat_One_Mean_Index_NDBI_tree_001 to public\n",
      "Granting access projects/earthengine-legacy/assets/users/wangjinzhulala/North_China_Plain_Python/Spectrum_Fourier_samples/Year_2017_2019_Test_LandSat_One_Mean_Index_NDBI_tree_010 to public\n",
      "Granting access projects/earthengine-legacy/assets/users/wangjinzhulala/North_China_Plain_Python/Spectrum_Fourier_samples/Year_2017_2019_Test_LandSat_One_Mean_Index_NDBI_tree_020 to public\n",
      "Granting access projects/earthengine-legacy/assets/users/wangjinzhulala/North_China_Plain_Python/Spectrum_Fourier_samples/Year_2017_2019_Test_LandSat_One_Mean_Index_NDBI_tree_030 to public\n",
      "Granting access projects/earthengine-legacy/assets/users/wangjinzhulala/North_China_Plain_Python/Spectrum_Fourier_samples/Year_2017_2019_Test_LandSat_One_Mean_Index_NDBI_tree_040 to public\n",
      "Granting access projects/earthengine-legacy/assets/users/wangjinzhulala/North_China_Plain_Python/Spectrum_Fourier_samples/Year_2017_2019_Test_LandSat_One_Mean_Index_NDBI_tree_050 to public\n",
      "Granting access projects/earthengine-legacy/assets/users/wangjinzhulala/North_China_Plain_Python/Spectrum_Fourier_samples/Year_2017_2019_Test_LandSat_One_Mean_Index_NDBI_tree_060 to public\n",
      "Granting access projects/earthengine-legacy/assets/users/wangjinzhulala/North_China_Plain_Python/Spectrum_Fourier_samples/Year_2017_2019_Test_LandSat_One_Mean_Index_NDBI_tree_070 to public\n",
      "Granting access projects/earthengine-legacy/assets/users/wangjinzhulala/North_China_Plain_Python/Spectrum_Fourier_samples/Year_2017_2019_Test_LandSat_One_Mean_Index_NDBI_tree_080 to public\n",
      "Granting access projects/earthengine-legacy/assets/users/wangjinzhulala/North_China_Plain_Python/Spectrum_Fourier_samples/Year_2017_2019_Test_LandSat_One_Mean_Index_NDBI_tree_090 to public\n",
      "Granting access projects/earthengine-legacy/assets/users/wangjinzhulala/North_China_Plain_Python/Spectrum_Fourier_samples/Year_2017_2019_Test_LandSat_One_Mean_Index_NDBI_tree_100 to public\n",
      "Granting access projects/earthengine-legacy/assets/users/wangjinzhulala/North_China_Plain_Python/Spectrum_Fourier_samples/Year_2017_2019_Test_LandSat_One_Mean_Index_NDVI_tree_001 to public\n",
      "Granting access projects/earthengine-legacy/assets/users/wangjinzhulala/North_China_Plain_Python/Spectrum_Fourier_samples/Year_2017_2019_Test_LandSat_One_Mean_Index_NDVI_tree_010 to public\n",
      "Granting access projects/earthengine-legacy/assets/users/wangjinzhulala/North_China_Plain_Python/Spectrum_Fourier_samples/Year_2017_2019_Test_LandSat_One_Mean_Index_NDVI_tree_020 to public\n",
      "Granting access projects/earthengine-legacy/assets/users/wangjinzhulala/North_China_Plain_Python/Spectrum_Fourier_samples/Year_2017_2019_Test_LandSat_One_Mean_Index_NDVI_tree_030 to public\n",
      "Granting access projects/earthengine-legacy/assets/users/wangjinzhulala/North_China_Plain_Python/Spectrum_Fourier_samples/Year_2017_2019_Test_LandSat_One_Mean_Index_NDVI_tree_040 to public\n",
      "Granting access projects/earthengine-legacy/assets/users/wangjinzhulala/North_China_Plain_Python/Spectrum_Fourier_samples/Year_2017_2019_Test_LandSat_One_Mean_Index_NDVI_tree_050 to public\n",
      "Granting access projects/earthengine-legacy/assets/users/wangjinzhulala/North_China_Plain_Python/Spectrum_Fourier_samples/Year_2017_2019_Test_LandSat_One_Mean_Index_NDVI_tree_060 to public\n",
      "Granting access projects/earthengine-legacy/assets/users/wangjinzhulala/North_China_Plain_Python/Spectrum_Fourier_samples/Year_2017_2019_Test_LandSat_One_Mean_Index_NDVI_tree_070 to public\n",
      "Granting access projects/earthengine-legacy/assets/users/wangjinzhulala/North_China_Plain_Python/Spectrum_Fourier_samples/Year_2017_2019_Test_LandSat_One_Mean_Index_NDVI_tree_080 to public\n",
      "Granting access projects/earthengine-legacy/assets/users/wangjinzhulala/North_China_Plain_Python/Spectrum_Fourier_samples/Year_2017_2019_Test_LandSat_One_Mean_Index_NDVI_tree_090 to public\n",
      "Granting access projects/earthengine-legacy/assets/users/wangjinzhulala/North_China_Plain_Python/Spectrum_Fourier_samples/Year_2017_2019_Test_LandSat_One_Mean_Index_NDVI_tree_100 to public\n",
      "Granting access projects/earthengine-legacy/assets/users/wangjinzhulala/North_China_Plain_Python/Spectrum_Fourier_samples/Year_2017_2019_Test_LandSat_Three_Fourier_EVI_NDBI_NDVI_Sentinel_DEM_SLOPE_tree_001 to public\n",
      "Granting access projects/earthengine-legacy/assets/users/wangjinzhulala/North_China_Plain_Python/Spectrum_Fourier_samples/Year_2017_2019_Test_LandSat_Three_Fourier_EVI_NDBI_NDVI_Sentinel_DEM_SLOPE_tree_010 to public\n",
      "Granting access projects/earthengine-legacy/assets/users/wangjinzhulala/North_China_Plain_Python/Spectrum_Fourier_samples/Year_2017_2019_Test_LandSat_Three_Fourier_EVI_NDBI_NDVI_Sentinel_DEM_SLOPE_tree_020 to public\n",
      "Granting access projects/earthengine-legacy/assets/users/wangjinzhulala/North_China_Plain_Python/Spectrum_Fourier_samples/Year_2017_2019_Test_LandSat_Three_Fourier_EVI_NDBI_NDVI_Sentinel_DEM_SLOPE_tree_030 to public\n",
      "Granting access projects/earthengine-legacy/assets/users/wangjinzhulala/North_China_Plain_Python/Spectrum_Fourier_samples/Year_2017_2019_Test_LandSat_Three_Fourier_EVI_NDBI_NDVI_Sentinel_DEM_SLOPE_tree_040 to public\n"
     ]
    },
    {
     "name": "stdout",
     "output_type": "stream",
     "text": [
      "Granting access projects/earthengine-legacy/assets/users/wangjinzhulala/North_China_Plain_Python/Spectrum_Fourier_samples/Year_2017_2019_Test_LandSat_Three_Fourier_EVI_NDBI_NDVI_Sentinel_DEM_SLOPE_tree_050 to public\n",
      "Granting access projects/earthengine-legacy/assets/users/wangjinzhulala/North_China_Plain_Python/Spectrum_Fourier_samples/Year_2017_2019_Test_LandSat_Three_Fourier_EVI_NDBI_NDVI_Sentinel_DEM_SLOPE_tree_060 to public\n",
      "Granting access projects/earthengine-legacy/assets/users/wangjinzhulala/North_China_Plain_Python/Spectrum_Fourier_samples/Year_2017_2019_Test_LandSat_Three_Fourier_EVI_NDBI_NDVI_Sentinel_DEM_SLOPE_tree_070 to public\n",
      "Granting access projects/earthengine-legacy/assets/users/wangjinzhulala/North_China_Plain_Python/Spectrum_Fourier_samples/Year_2017_2019_Test_LandSat_Three_Fourier_EVI_NDBI_NDVI_Sentinel_DEM_SLOPE_tree_080 to public\n",
      "Granting access projects/earthengine-legacy/assets/users/wangjinzhulala/North_China_Plain_Python/Spectrum_Fourier_samples/Year_2017_2019_Test_LandSat_Three_Fourier_EVI_NDBI_NDVI_Sentinel_DEM_SLOPE_tree_090 to public\n",
      "Granting access projects/earthengine-legacy/assets/users/wangjinzhulala/North_China_Plain_Python/Spectrum_Fourier_samples/Year_2017_2019_Test_LandSat_Three_Fourier_EVI_NDBI_NDVI_Sentinel_DEM_SLOPE_tree_100 to public\n",
      "Granting access projects/earthengine-legacy/assets/users/wangjinzhulala/North_China_Plain_Python/Spectrum_Fourier_samples/Year_2017_2019_Test_LandSat_Three_Fourier_EVI_NDBI_NDVI_Sentinel_DEM_SLOPE_tree_110 to public\n",
      "Granting access projects/earthengine-legacy/assets/users/wangjinzhulala/North_China_Plain_Python/Spectrum_Fourier_samples/Year_2017_2019_Test_LandSat_Three_Fourier_EVI_NDBI_NDVI_Sentinel_DEM_SLOPE_tree_120 to public\n",
      "Granting access projects/earthengine-legacy/assets/users/wangjinzhulala/North_China_Plain_Python/Spectrum_Fourier_samples/Year_2017_2019_Test_LandSat_Three_Fourier_EVI_NDBI_NDVI_Sentinel_DEM_tree_001 to public\n",
      "Granting access projects/earthengine-legacy/assets/users/wangjinzhulala/North_China_Plain_Python/Spectrum_Fourier_samples/Year_2017_2019_Test_LandSat_Three_Fourier_EVI_NDBI_NDVI_Sentinel_DEM_tree_010 to public\n",
      "Granting access projects/earthengine-legacy/assets/users/wangjinzhulala/North_China_Plain_Python/Spectrum_Fourier_samples/Year_2017_2019_Test_LandSat_Three_Fourier_EVI_NDBI_NDVI_Sentinel_DEM_tree_020 to public\n",
      "Granting access projects/earthengine-legacy/assets/users/wangjinzhulala/North_China_Plain_Python/Spectrum_Fourier_samples/Year_2017_2019_Test_LandSat_Three_Fourier_EVI_NDBI_NDVI_Sentinel_DEM_tree_030 to public\n",
      "Granting access projects/earthengine-legacy/assets/users/wangjinzhulala/North_China_Plain_Python/Spectrum_Fourier_samples/Year_2017_2019_Test_LandSat_Three_Fourier_EVI_NDBI_NDVI_Sentinel_DEM_tree_040 to public\n",
      "Granting access projects/earthengine-legacy/assets/users/wangjinzhulala/North_China_Plain_Python/Spectrum_Fourier_samples/Year_2017_2019_Test_LandSat_Three_Fourier_EVI_NDBI_NDVI_Sentinel_DEM_tree_050 to public\n",
      "Granting access projects/earthengine-legacy/assets/users/wangjinzhulala/North_China_Plain_Python/Spectrum_Fourier_samples/Year_2017_2019_Test_LandSat_Three_Fourier_EVI_NDBI_NDVI_Sentinel_DEM_tree_060 to public\n",
      "Granting access projects/earthengine-legacy/assets/users/wangjinzhulala/North_China_Plain_Python/Spectrum_Fourier_samples/Year_2017_2019_Test_LandSat_Three_Fourier_EVI_NDBI_NDVI_Sentinel_DEM_tree_070 to public\n",
      "Granting access projects/earthengine-legacy/assets/users/wangjinzhulala/North_China_Plain_Python/Spectrum_Fourier_samples/Year_2017_2019_Test_LandSat_Three_Fourier_EVI_NDBI_NDVI_Sentinel_DEM_tree_080 to public\n",
      "Granting access projects/earthengine-legacy/assets/users/wangjinzhulala/North_China_Plain_Python/Spectrum_Fourier_samples/Year_2017_2019_Test_LandSat_Three_Fourier_EVI_NDBI_NDVI_Sentinel_DEM_tree_090 to public\n",
      "Granting access projects/earthengine-legacy/assets/users/wangjinzhulala/North_China_Plain_Python/Spectrum_Fourier_samples/Year_2017_2019_Test_LandSat_Three_Fourier_EVI_NDBI_NDVI_Sentinel_DEM_tree_100 to public\n",
      "Granting access projects/earthengine-legacy/assets/users/wangjinzhulala/North_China_Plain_Python/Spectrum_Fourier_samples/Year_2017_2019_Test_LandSat_Three_Fourier_EVI_NDBI_NDVI_Sentinel_DEM_tree_110 to public\n",
      "Granting access projects/earthengine-legacy/assets/users/wangjinzhulala/North_China_Plain_Python/Spectrum_Fourier_samples/Year_2017_2019_Test_LandSat_Three_Fourier_EVI_NDBI_NDVI_Sentinel_DEM_tree_120 to public\n",
      "Granting access projects/earthengine-legacy/assets/users/wangjinzhulala/North_China_Plain_Python/Spectrum_Fourier_samples/Year_2017_2019_Test_LandSat_Three_Fourier_EVI_NDBI_NDVI_Sentinel_One_Mean_Index_EVI_tree_001 to public\n",
      "Granting access projects/earthengine-legacy/assets/users/wangjinzhulala/North_China_Plain_Python/Spectrum_Fourier_samples/Year_2017_2019_Test_LandSat_Three_Fourier_EVI_NDBI_NDVI_Sentinel_One_Mean_Index_EVI_tree_010 to public\n",
      "Granting access projects/earthengine-legacy/assets/users/wangjinzhulala/North_China_Plain_Python/Spectrum_Fourier_samples/Year_2017_2019_Test_LandSat_Three_Fourier_EVI_NDBI_NDVI_Sentinel_One_Mean_Index_EVI_tree_020 to public\n",
      "Granting access projects/earthengine-legacy/assets/users/wangjinzhulala/North_China_Plain_Python/Spectrum_Fourier_samples/Year_2017_2019_Test_LandSat_Three_Fourier_EVI_NDBI_NDVI_Sentinel_One_Mean_Index_EVI_tree_030 to public\n",
      "Granting access projects/earthengine-legacy/assets/users/wangjinzhulala/North_China_Plain_Python/Spectrum_Fourier_samples/Year_2017_2019_Test_LandSat_Three_Fourier_EVI_NDBI_NDVI_Sentinel_One_Mean_Index_EVI_tree_040 to public\n",
      "Granting access projects/earthengine-legacy/assets/users/wangjinzhulala/North_China_Plain_Python/Spectrum_Fourier_samples/Year_2017_2019_Test_LandSat_Three_Fourier_EVI_NDBI_NDVI_Sentinel_One_Mean_Index_EVI_tree_050 to public\n",
      "Granting access projects/earthengine-legacy/assets/users/wangjinzhulala/North_China_Plain_Python/Spectrum_Fourier_samples/Year_2017_2019_Test_LandSat_Three_Fourier_EVI_NDBI_NDVI_Sentinel_One_Mean_Index_EVI_tree_060 to public\n",
      "Granting access projects/earthengine-legacy/assets/users/wangjinzhulala/North_China_Plain_Python/Spectrum_Fourier_samples/Year_2017_2019_Test_LandSat_Three_Fourier_EVI_NDBI_NDVI_Sentinel_One_Mean_Index_EVI_tree_070 to public\n",
      "Granting access projects/earthengine-legacy/assets/users/wangjinzhulala/North_China_Plain_Python/Spectrum_Fourier_samples/Year_2017_2019_Test_LandSat_Three_Fourier_EVI_NDBI_NDVI_Sentinel_One_Mean_Index_EVI_tree_080 to public\n",
      "Granting access projects/earthengine-legacy/assets/users/wangjinzhulala/North_China_Plain_Python/Spectrum_Fourier_samples/Year_2017_2019_Test_LandSat_Three_Fourier_EVI_NDBI_NDVI_Sentinel_One_Mean_Index_EVI_tree_090 to public\n",
      "Granting access projects/earthengine-legacy/assets/users/wangjinzhulala/North_China_Plain_Python/Spectrum_Fourier_samples/Year_2017_2019_Test_LandSat_Three_Fourier_EVI_NDBI_NDVI_Sentinel_One_Mean_Index_EVI_tree_100 to public\n",
      "Granting access projects/earthengine-legacy/assets/users/wangjinzhulala/North_China_Plain_Python/Spectrum_Fourier_samples/Year_2017_2019_Test_LandSat_Three_Fourier_EVI_NDBI_NDVI_Sentinel_One_Mean_Index_EVI_tree_110 to public\n",
      "Granting access projects/earthengine-legacy/assets/users/wangjinzhulala/North_China_Plain_Python/Spectrum_Fourier_samples/Year_2017_2019_Test_LandSat_Three_Fourier_EVI_NDBI_NDVI_Sentinel_One_Mean_Index_EVI_tree_120 to public\n",
      "Granting access projects/earthengine-legacy/assets/users/wangjinzhulala/North_China_Plain_Python/Spectrum_Fourier_samples/Year_2017_2019_Test_LandSat_Three_Fourier_EVI_NDBI_NDVI_Sentinel_One_Mean_Index_NDBI_tree_001 to public\n",
      "Granting access projects/earthengine-legacy/assets/users/wangjinzhulala/North_China_Plain_Python/Spectrum_Fourier_samples/Year_2017_2019_Test_LandSat_Three_Fourier_EVI_NDBI_NDVI_Sentinel_One_Mean_Index_NDBI_tree_010 to public\n",
      "Granting access projects/earthengine-legacy/assets/users/wangjinzhulala/North_China_Plain_Python/Spectrum_Fourier_samples/Year_2017_2019_Test_LandSat_Three_Fourier_EVI_NDBI_NDVI_Sentinel_One_Mean_Index_NDBI_tree_020 to public\n",
      "Granting access projects/earthengine-legacy/assets/users/wangjinzhulala/North_China_Plain_Python/Spectrum_Fourier_samples/Year_2017_2019_Test_LandSat_Three_Fourier_EVI_NDBI_NDVI_Sentinel_One_Mean_Index_NDBI_tree_030 to public\n"
     ]
    },
    {
     "name": "stdout",
     "output_type": "stream",
     "text": [
      "Granting access projects/earthengine-legacy/assets/users/wangjinzhulala/North_China_Plain_Python/Spectrum_Fourier_samples/Year_2017_2019_Test_LandSat_Three_Fourier_EVI_NDBI_NDVI_Sentinel_One_Mean_Index_NDBI_tree_040 to public\n",
      "Granting access projects/earthengine-legacy/assets/users/wangjinzhulala/North_China_Plain_Python/Spectrum_Fourier_samples/Year_2017_2019_Test_LandSat_Three_Fourier_EVI_NDBI_NDVI_Sentinel_One_Mean_Index_NDBI_tree_050 to public\n",
      "Granting access projects/earthengine-legacy/assets/users/wangjinzhulala/North_China_Plain_Python/Spectrum_Fourier_samples/Year_2017_2019_Test_LandSat_Three_Fourier_EVI_NDBI_NDVI_Sentinel_One_Mean_Index_NDBI_tree_060 to public\n",
      "Granting access projects/earthengine-legacy/assets/users/wangjinzhulala/North_China_Plain_Python/Spectrum_Fourier_samples/Year_2017_2019_Test_LandSat_Three_Fourier_EVI_NDBI_NDVI_Sentinel_One_Mean_Index_NDBI_tree_070 to public\n",
      "Granting access projects/earthengine-legacy/assets/users/wangjinzhulala/North_China_Plain_Python/Spectrum_Fourier_samples/Year_2017_2019_Test_LandSat_Three_Fourier_EVI_NDBI_NDVI_Sentinel_One_Mean_Index_NDBI_tree_080 to public\n",
      "Granting access projects/earthengine-legacy/assets/users/wangjinzhulala/North_China_Plain_Python/Spectrum_Fourier_samples/Year_2017_2019_Test_LandSat_Three_Fourier_EVI_NDBI_NDVI_Sentinel_One_Mean_Index_NDBI_tree_090 to public\n",
      "Granting access projects/earthengine-legacy/assets/users/wangjinzhulala/North_China_Plain_Python/Spectrum_Fourier_samples/Year_2017_2019_Test_LandSat_Three_Fourier_EVI_NDBI_NDVI_Sentinel_One_Mean_Index_NDBI_tree_100 to public\n",
      "Granting access projects/earthengine-legacy/assets/users/wangjinzhulala/North_China_Plain_Python/Spectrum_Fourier_samples/Year_2017_2019_Test_LandSat_Three_Fourier_EVI_NDBI_NDVI_Sentinel_One_Mean_Index_NDBI_tree_110 to public\n",
      "Granting access projects/earthengine-legacy/assets/users/wangjinzhulala/North_China_Plain_Python/Spectrum_Fourier_samples/Year_2017_2019_Test_LandSat_Three_Fourier_EVI_NDBI_NDVI_Sentinel_One_Mean_Index_NDBI_tree_120 to public\n",
      "Granting access projects/earthengine-legacy/assets/users/wangjinzhulala/North_China_Plain_Python/Spectrum_Fourier_samples/Year_2017_2019_Test_LandSat_Three_Fourier_EVI_NDBI_NDVI_Sentinel_One_Mean_Index_NDVI_tree_001 to public\n",
      "Granting access projects/earthengine-legacy/assets/users/wangjinzhulala/North_China_Plain_Python/Spectrum_Fourier_samples/Year_2017_2019_Test_LandSat_Three_Fourier_EVI_NDBI_NDVI_Sentinel_One_Mean_Index_NDVI_tree_010 to public\n",
      "Granting access projects/earthengine-legacy/assets/users/wangjinzhulala/North_China_Plain_Python/Spectrum_Fourier_samples/Year_2017_2019_Test_LandSat_Three_Fourier_EVI_NDBI_NDVI_Sentinel_One_Mean_Index_NDVI_tree_020 to public\n",
      "Granting access projects/earthengine-legacy/assets/users/wangjinzhulala/North_China_Plain_Python/Spectrum_Fourier_samples/Year_2017_2019_Test_LandSat_Three_Fourier_EVI_NDBI_NDVI_Sentinel_One_Mean_Index_NDVI_tree_030 to public\n",
      "Granting access projects/earthengine-legacy/assets/users/wangjinzhulala/North_China_Plain_Python/Spectrum_Fourier_samples/Year_2017_2019_Test_LandSat_Three_Fourier_EVI_NDBI_NDVI_Sentinel_One_Mean_Index_NDVI_tree_040 to public\n",
      "Granting access projects/earthengine-legacy/assets/users/wangjinzhulala/North_China_Plain_Python/Spectrum_Fourier_samples/Year_2017_2019_Test_LandSat_Three_Fourier_EVI_NDBI_NDVI_Sentinel_One_Mean_Index_NDVI_tree_050 to public\n",
      "Granting access projects/earthengine-legacy/assets/users/wangjinzhulala/North_China_Plain_Python/Spectrum_Fourier_samples/Year_2017_2019_Test_LandSat_Three_Fourier_EVI_NDBI_NDVI_Sentinel_One_Mean_Index_NDVI_tree_060 to public\n",
      "Granting access projects/earthengine-legacy/assets/users/wangjinzhulala/North_China_Plain_Python/Spectrum_Fourier_samples/Year_2017_2019_Test_LandSat_Three_Fourier_EVI_NDBI_NDVI_Sentinel_One_Mean_Index_NDVI_tree_070 to public\n",
      "Granting access projects/earthengine-legacy/assets/users/wangjinzhulala/North_China_Plain_Python/Spectrum_Fourier_samples/Year_2017_2019_Test_LandSat_Three_Fourier_EVI_NDBI_NDVI_Sentinel_One_Mean_Index_NDVI_tree_080 to public\n",
      "Granting access projects/earthengine-legacy/assets/users/wangjinzhulala/North_China_Plain_Python/Spectrum_Fourier_samples/Year_2017_2019_Test_LandSat_Three_Fourier_EVI_NDBI_NDVI_Sentinel_One_Mean_Index_NDVI_tree_090 to public\n",
      "Granting access projects/earthengine-legacy/assets/users/wangjinzhulala/North_China_Plain_Python/Spectrum_Fourier_samples/Year_2017_2019_Test_LandSat_Three_Fourier_EVI_NDBI_NDVI_Sentinel_One_Mean_Index_NDVI_tree_100 to public\n",
      "Granting access projects/earthengine-legacy/assets/users/wangjinzhulala/North_China_Plain_Python/Spectrum_Fourier_samples/Year_2017_2019_Test_LandSat_Three_Fourier_EVI_NDBI_NDVI_Sentinel_One_Mean_Index_NDVI_tree_110 to public\n",
      "Granting access projects/earthengine-legacy/assets/users/wangjinzhulala/North_China_Plain_Python/Spectrum_Fourier_samples/Year_2017_2019_Test_LandSat_Three_Fourier_EVI_NDBI_NDVI_Sentinel_One_Mean_Index_NDVI_tree_120 to public\n",
      "Granting access projects/earthengine-legacy/assets/users/wangjinzhulala/North_China_Plain_Python/Spectrum_Fourier_samples/Year_2017_2019_Test_LandSat_Three_Fourier_EVI_NDBI_NDVI_Sentinel_Three_Mean_Index_tree_001 to public\n",
      "Granting access projects/earthengine-legacy/assets/users/wangjinzhulala/North_China_Plain_Python/Spectrum_Fourier_samples/Year_2017_2019_Test_LandSat_Three_Fourier_EVI_NDBI_NDVI_Sentinel_Three_Mean_Index_tree_010 to public\n"
     ]
    }
   ],
   "source": [
    "# grant data access to public\n",
    "\n",
    "for obj in all_objects:\n",
    "    \n",
    "    subprocess.run(f'earthengine acl set public {obj}',\n",
    "                               shell = True,\n",
    "                               capture_output = True, \n",
    "                               text = True )\n",
    "    # print out the process\n",
    "    print(f'Granting access {obj} to public')"
   ]
  },
  {
   "cell_type": "code",
   "execution_count": null,
   "metadata": {},
   "outputs": [],
   "source": []
  },
  {
   "cell_type": "code",
   "execution_count": null,
   "metadata": {},
   "outputs": [],
   "source": []
  },
  {
   "cell_type": "code",
   "execution_count": null,
   "metadata": {},
   "outputs": [],
   "source": []
  },
  {
   "cell_type": "code",
   "execution_count": null,
   "metadata": {},
   "outputs": [],
   "source": []
  },
  {
   "cell_type": "code",
   "execution_count": null,
   "metadata": {},
   "outputs": [],
   "source": []
  }
 ],
 "metadata": {
  "kernelspec": {
   "display_name": "Python 3",
   "language": "python",
   "name": "python3"
  },
  "language_info": {
   "codemirror_mode": {
    "name": "ipython",
    "version": 3
   },
   "file_extension": ".py",
   "mimetype": "text/x-python",
   "name": "python",
   "nbconvert_exporter": "python",
   "pygments_lexer": "ipython3",
   "version": "3.7.3"
  }
 },
 "nbformat": 4,
 "nbformat_minor": 2
}
