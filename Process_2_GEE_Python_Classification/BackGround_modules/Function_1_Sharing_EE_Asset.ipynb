{
 "cells": [
  {
   "cell_type": "code",
   "execution_count": 1,
   "metadata": {},
   "outputs": [],
   "source": [
    "import ee\n",
    "import subprocess\n",
    "\n",
    "import pandas as pd\n",
    "import numpy as np"
   ]
  },
  {
   "cell_type": "code",
   "execution_count": 2,
   "metadata": {},
   "outputs": [],
   "source": [
    "ee.Initialize()"
   ]
  },
  {
   "cell_type": "code",
   "execution_count": null,
   "metadata": {},
   "outputs": [],
   "source": []
  },
  {
   "cell_type": "code",
   "execution_count": 3,
   "metadata": {},
   "outputs": [],
   "source": [
    "p = subprocess.run('earthengine ls users/wangjinzhulala/North_China_Plain_Python',shell = True,capture_output = True, text = True )\\\n",
    "              .stdout"
   ]
  },
  {
   "cell_type": "code",
   "execution_count": 5,
   "metadata": {},
   "outputs": [],
   "source": [
    "p = p.split('\\n')"
   ]
  },
  {
   "cell_type": "code",
   "execution_count": 6,
   "metadata": {},
   "outputs": [
    {
     "data": {
      "text/plain": [
       "['Running command using Cloud API.  Set --no-use_cloud_api to go back to using the API',\n",
       " '',\n",
       " 'projects/earthengine-legacy/assets/users/wangjinzhulala/North_China_Plain_Python/Boundary_shp',\n",
       " 'projects/earthengine-legacy/assets/users/wangjinzhulala/North_China_Plain_Python/Cloud_Free_Img',\n",
       " 'projects/earthengine-legacy/assets/users/wangjinzhulala/North_China_Plain_Python/Each_Landsat_Time_Series',\n",
       " 'projects/earthengine-legacy/assets/users/wangjinzhulala/North_China_Plain_Python/Fourier_pixels',\n",
       " 'projects/earthengine-legacy/assets/users/wangjinzhulala/North_China_Plain_Python/Night_Light_Luojia',\n",
       " 'projects/earthengine-legacy/assets/users/wangjinzhulala/North_China_Plain_Python/Sample_Points',\n",
       " 'projects/earthengine-legacy/assets/users/wangjinzhulala/North_China_Plain_Python/Spectrum_Fourier_samples',\n",
       " 'projects/earthengine-legacy/assets/users/wangjinzhulala/North_China_Plain_Python/Spectrum_Fourier_samples_with_Criteria',\n",
       " 'projects/earthengine-legacy/assets/users/wangjinzhulala/North_China_Plain_Python/Spectrum_Fourier_samples_with_Terrain',\n",
       " 'projects/earthengine-legacy/assets/users/wangjinzhulala/North_China_Plain_Python/Supply_img',\n",
       " 'projects/earthengine-legacy/assets/users/wangjinzhulala/North_China_Plain_Python/classification_img',\n",
       " 'projects/earthengine-legacy/assets/users/wangjinzhulala/North_China_Plain_Python/classified_samples',\n",
       " 'projects/earthengine-legacy/assets/users/wangjinzhulala/North_China_Plain_Python/compare_acc_sample',\n",
       " '']"
      ]
     },
     "execution_count": 6,
     "metadata": {},
     "output_type": "execute_result"
    }
   ],
   "source": [
    "p"
   ]
  },
  {
   "cell_type": "code",
   "execution_count": null,
   "metadata": {},
   "outputs": [],
   "source": []
  },
  {
   "cell_type": "code",
   "execution_count": null,
   "metadata": {},
   "outputs": [],
   "source": []
  },
  {
   "cell_type": "code",
   "execution_count": null,
   "metadata": {},
   "outputs": [],
   "source": []
  },
  {
   "cell_type": "code",
   "execution_count": null,
   "metadata": {},
   "outputs": [],
   "source": []
  },
  {
   "cell_type": "code",
   "execution_count": null,
   "metadata": {},
   "outputs": [],
   "source": []
  },
  {
   "cell_type": "code",
   "execution_count": null,
   "metadata": {},
   "outputs": [],
   "source": []
  },
  {
   "cell_type": "code",
   "execution_count": null,
   "metadata": {},
   "outputs": [],
   "source": []
  },
  {
   "cell_type": "code",
   "execution_count": null,
   "metadata": {},
   "outputs": [],
   "source": []
  },
  {
   "cell_type": "code",
   "execution_count": null,
   "metadata": {},
   "outputs": [],
   "source": []
  },
  {
   "cell_type": "code",
   "execution_count": null,
   "metadata": {},
   "outputs": [],
   "source": []
  },
  {
   "cell_type": "code",
   "execution_count": null,
   "metadata": {},
   "outputs": [],
   "source": []
  },
  {
   "cell_type": "code",
   "execution_count": null,
   "metadata": {},
   "outputs": [],
   "source": []
  },
  {
   "cell_type": "code",
   "execution_count": null,
   "metadata": {},
   "outputs": [],
   "source": []
  }
 ],
 "metadata": {
  "kernelspec": {
   "display_name": "Python 3",
   "language": "python",
   "name": "python3"
  },
  "language_info": {
   "codemirror_mode": {
    "name": "ipython",
    "version": 3
   },
   "file_extension": ".py",
   "mimetype": "text/x-python",
   "name": "python",
   "nbconvert_exporter": "python",
   "pygments_lexer": "ipython3",
   "version": "3.7.3"
  }
 },
 "nbformat": 4,
 "nbformat_minor": 2
}
