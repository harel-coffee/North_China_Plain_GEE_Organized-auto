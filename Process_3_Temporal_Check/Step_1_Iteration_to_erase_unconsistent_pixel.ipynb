{
 "cells": [
  {
   "cell_type": "code",
   "execution_count": 1,
   "metadata": {},
   "outputs": [],
   "source": [
    "import ee\n",
    "import datetime\n",
    "import os\n",
    "import itertools\n",
    "import sys\n",
    "\n",
    "from pprint import pprint\n",
    "import pandas as pd\n",
    "import numpy as np\n",
    "import seaborn as sns\n",
    "import matplotlib.pyplot as plt\n",
    "\n",
    "import geemap\n",
    "\n",
    "import subprocess\n",
    "from subprocess import PIPE"
   ]
  },
  {
   "cell_type": "code",
   "execution_count": null,
   "metadata": {},
   "outputs": [],
   "source": []
  },
  {
   "cell_type": "code",
   "execution_count": 2,
   "metadata": {},
   "outputs": [],
   "source": [
    "ee.Initialize()"
   ]
  },
  {
   "cell_type": "code",
   "execution_count": null,
   "metadata": {},
   "outputs": [],
   "source": []
  },
  {
   "cell_type": "markdown",
   "metadata": {},
   "source": [
    "### Define basic parameters"
   ]
  },
  {
   "cell_type": "code",
   "execution_count": null,
   "metadata": {},
   "outputs": [],
   "source": []
  },
  {
   "cell_type": "code",
   "execution_count": 3,
   "metadata": {},
   "outputs": [],
   "source": [
    "# define the periods to perform temporal check\n",
    "Check_len = 3\n",
    "Check_wieght = [3,1,1]\n",
    "Check_threshold = 3\n",
    "\n",
    "# define the number of iteration\n",
    "Check_iteration_num = 10"
   ]
  },
  {
   "cell_type": "code",
   "execution_count": 4,
   "metadata": {},
   "outputs": [],
   "source": [
    "# define the names of each period\n",
    "year_range = list(f'{i[0]}_{i[1]}' for i in zip(range(1990,2018,3),range(1992,2020,3)))"
   ]
  },
  {
   "cell_type": "code",
   "execution_count": 5,
   "metadata": {},
   "outputs": [
    {
     "data": {
      "text/plain": [
       "['1990_1992',\n",
       " '1993_1995',\n",
       " '1996_1998',\n",
       " '1999_2001',\n",
       " '2002_2004',\n",
       " '2005_2007',\n",
       " '2008_2010',\n",
       " '2011_2013',\n",
       " '2014_2016',\n",
       " '2017_2019']"
      ]
     },
     "execution_count": 5,
     "metadata": {},
     "output_type": "execute_result"
    }
   ],
   "source": [
    "year_range"
   ]
  },
  {
   "cell_type": "code",
   "execution_count": null,
   "metadata": {},
   "outputs": [],
   "source": []
  },
  {
   "cell_type": "markdown",
   "metadata": {},
   "source": [
    "### Import Classified_random_img"
   ]
  },
  {
   "cell_type": "code",
   "execution_count": null,
   "metadata": {},
   "outputs": [],
   "source": []
  },
  {
   "cell_type": "code",
   "execution_count": 6,
   "metadata": {},
   "outputs": [],
   "source": [
    "# get the classified_random_imgs and sum them up for each period\n",
    "Classified_Landsat_1990_2019 = [ee.ImageCollection(f\"users/wangjinzhulala/North_China_Plain_Python/classification_img/Control_{year}\")\n",
    "                                  .sum().gte(8).set('name',year)   for year in year_range]\n",
    "\n",
    "Classified_Sentinel_2014_2019 = [ee.ImageCollection(f\"users/wangjinzhulala/North_China_Plain_Python/classification_img/Sentinel_Landsat_{year}\")\n",
    "                                  .sum().gte(8).set('name',year)   for year in year_range[-2:]]\n",
    "\n",
    "# combine classification img together\n",
    "Classified_imgs = Classified_Landsat_1990_2019[:-2] + Classified_Sentinel_2014_2019"
   ]
  },
  {
   "cell_type": "code",
   "execution_count": null,
   "metadata": {},
   "outputs": [],
   "source": []
  },
  {
   "cell_type": "code",
   "execution_count": 26,
   "metadata": {},
   "outputs": [],
   "source": [
    "def Temporal_check(mode,in_tifs,weights,threshold):\n",
    "    \n",
    "    # get the name of the first img as the property for return img\n",
    "    name = in_tifs[0].get('name')\n",
    "\n",
    "    # zip classified_random_sum with weights\n",
    "    img_multiply = list(zip(in_tifs,weights))\n",
    "\n",
    "    \n",
    "    \n",
    "    if mode == 'forward':\n",
    "        \n",
    "        # multiply each classified_sum_img with check_weight \n",
    "        # and sum 3-periods together\n",
    "        sum_tif = ee.ImageCollection([i[0].multiply(i[1]) for i in img_multiply]).sum()\n",
    "        \n",
    "        # thoes pixel that GREATER THAN are built-up pixel\n",
    "        temporal_checked = sum_tif.gt(threshold + 1).set('name',name)\n",
    "        \n",
    "    elif mode == 'backward':\n",
    "                \n",
    "        #_______________________Get those pixel that was transformed from built to non-built______________\n",
    "        \n",
    "        # remap the img,so the pixel value changed (built-->0; non-built -->weight)\n",
    "                                                                # here need to rename other wise bandname changed to 'remap'\n",
    "                                                                # which will cause error to add with forward imgs\n",
    "        backward_remap    = [i[0].remap([0,1],[i[1],0]).rename('classification') for i in img_multiply]\n",
    "        \n",
    "        # sum the back_remap and the those pixels with value GREATE THAN the threshold is \"Non-Built\"\n",
    "        non_built = ee.ImageCollection(backward_remap).sum().gt(threshold + 1)\n",
    "        \n",
    "        # change the pixel value to get the right pixel value (0--> non-built; 1-->built)\n",
    "        temporal_checked = non_built.Not()\n",
    "        \n",
    "        \n",
    "    else:\n",
    "        print(\"Please provide a correct mode ['forward'|'backward']\")\n",
    "    \n",
    "    return temporal_checked"
   ]
  },
  {
   "cell_type": "code",
   "execution_count": null,
   "metadata": {},
   "outputs": [],
   "source": []
  },
  {
   "cell_type": "code",
   "execution_count": null,
   "metadata": {},
   "outputs": [],
   "source": []
  },
  {
   "cell_type": "code",
   "execution_count": 19,
   "metadata": {},
   "outputs": [],
   "source": [
    "def Forward_backward(temporal_check_len,in_imgs):\n",
    "    \n",
    "    img_idx_for_temporal_check = range(len(in_imgs) - temporal_check_len + 1)\n",
    "    \n",
    "    #_______________________________Forward temporal check________________________________________________\n",
    "    \n",
    "    forward_chunks  = [in_imgs[i:i + temporal_check_len] for i in img_idx_for_temporal_check]\n",
    "    # perform the forward temporal check\n",
    "    forward_tif     = [Temporal_check('forward',chunk,Check_wieght,Check_threshold) for chunk in forward_chunks]\n",
    "    \n",
    "    \n",
    "    \n",
    "    #_______________________________Backward temporal check________________________________________________\n",
    "    \n",
    "    # combie the forward_checked tifs with unchecked imgs in the tail, and reverse the list order\n",
    "    backward_tifs = forward_tif + Classified_imgs[len(forward_tif):]\n",
    "    backward_tifs_reverse = backward_tifs[::-1]\n",
    " \n",
    "    # slice the backward_tifs into chunks with the length of temporal_check_len\n",
    "    backward_chunks = [backward_tifs_reverse[i:i + temporal_check_len] for i in img_idx_for_temporal_check]\n",
    "    \n",
    "    # perform the backward temporal check\n",
    "    backward_tif    = [Temporal_check('backward',chunk,Check_wieght,Check_threshold) for chunk in backward_chunks]\n",
    "\n",
    "    \n",
    "    \n",
    "    #___________________________Add Forward & Backward checked img together___________________________________\n",
    "    \n",
    "    # reorder the backward_tif so tifs to ensure an ascending time order\n",
    "    re_order_tif = backward_tif[::-1]\n",
    "    \n",
    "    forward_backward = forward_tif[:temporal_check_len-1] + re_order_tif\n",
    "    \n",
    "    return forward_backward"
   ]
  },
  {
   "cell_type": "code",
   "execution_count": null,
   "metadata": {},
   "outputs": [],
   "source": []
  },
  {
   "cell_type": "code",
   "execution_count": null,
   "metadata": {},
   "outputs": [],
   "source": []
  },
  {
   "cell_type": "code",
   "execution_count": null,
   "metadata": {},
   "outputs": [],
   "source": []
  },
  {
   "cell_type": "code",
   "execution_count": null,
   "metadata": {},
   "outputs": [],
   "source": []
  },
  {
   "cell_type": "code",
   "execution_count": 29,
   "metadata": {},
   "outputs": [],
   "source": [
    "def Forward_backward(temporal_check_len,in_imgs):\n",
    "    \n",
    "    img_idx_for_temporal_check = range(len(in_imgs) - temporal_check_len + 1)\n",
    "    \n",
    "    #_______________________________Forward temporal check________________________________________________\n",
    "    \n",
    "    forward_chunks  = [in_imgs[i:i + temporal_check_len] for i in img_idx_for_temporal_check]\n",
    "    # perform the forward temporal check\n",
    "    forward_tif     = [Temporal_check('forward',chunk,Check_wieght,Check_threshold) for chunk in forward_chunks]\n",
    "\n",
    "    \n",
    "    \n",
    "    #_______________________________Backward temporal check________________________________________________\n",
    "    \n",
    "    # combie the forward_checked tifs with unchecked imgs in the tail, and reverse the list order\n",
    "    backward_tifs = forward_tif + Classified_imgs[len(forward_tif):]\n",
    "    backward_tifs_reverse = backward_tifs[::-1]\n",
    " \n",
    "    # slice the backward_tifs into chunks with the length of temporal_check_len\n",
    "    backward_chunks = [backward_tifs_reverse[i:i + temporal_check_len] for i in img_idx_for_temporal_check]\n",
    "    \n",
    "    # perform the backward temporal check\n",
    "    backward_tif    = [Temporal_check('backward',chunk,Check_wieght,Check_threshold) for chunk in backward_chunks]\n",
    "\n",
    "    \n",
    "    \n",
    "    #___________________________Add Forward & Backward checked img together___________________________________\n",
    "    \n",
    "    # reorder the backward_tif so tifs to ensure an ascending time order\n",
    "    re_order_tif = backward_tif[::-1]\n",
    "    \n",
    "    forward_backward = forward_tif[:temporal_check_len-1] + re_order_tif\n",
    "    \n",
    "    return forward_backward"
   ]
  },
  {
   "cell_type": "code",
   "execution_count": null,
   "metadata": {},
   "outputs": [],
   "source": []
  },
  {
   "cell_type": "code",
   "execution_count": 30,
   "metadata": {},
   "outputs": [],
   "source": [
    "Iter_temporal_check_instaces = {}\n",
    "\n",
    "for it in range(Check_iteration_num):\n",
    "\n",
    "    if it == 0:\n",
    "        \n",
    "        in_imgs = Classified_imgs\n",
    "        \n",
    "        forward_backward_checked =  Forward_backward(Check_len,in_imgs)\n",
    "        forward_backward_with_iteration = [ee.Image(img).set('iteration',it) for img in forward_backward_checked]\n",
    "        \n",
    "        Iter_temporal_check_instaces[0]  = forward_backward_with_iteration\n",
    "        \n",
    "        \n",
    "    else:\n",
    "        \n",
    "        in_imgs = Iter_temporal_check_instaces[it-1]\n",
    "        \n",
    "        forward_backward_checked =  Forward_backward(Check_len,in_imgs)\n",
    "        forward_backward_with_iteration = [ee.Image(img).set('iteration',it) for img in forward_backward_checked]\n",
    "        \n",
    "        Iter_temporal_check_instaces[it]  = forward_backward_with_iteration"
   ]
  },
  {
   "cell_type": "code",
   "execution_count": null,
   "metadata": {},
   "outputs": [],
   "source": []
  },
  {
   "cell_type": "code",
   "execution_count": null,
   "metadata": {},
   "outputs": [],
   "source": []
  },
  {
   "cell_type": "code",
   "execution_count": 31,
   "metadata": {
    "scrolled": true
   },
   "outputs": [
    {
     "data": {
      "text/plain": [
       "{0: [<ee.image.Image at 0x22233080320>,\n",
       "  <ee.image.Image at 0x2223307c048>,\n",
       "  <ee.image.Image at 0x2223307c4e0>,\n",
       "  <ee.image.Image at 0x2223307c550>,\n",
       "  <ee.image.Image at 0x2223307c5c0>,\n",
       "  <ee.image.Image at 0x2223307c630>,\n",
       "  <ee.image.Image at 0x2223307c6a0>,\n",
       "  <ee.image.Image at 0x2223307c710>,\n",
       "  <ee.image.Image at 0x2223307c780>,\n",
       "  <ee.image.Image at 0x2223307c7f0>],\n",
       " 1: [<ee.image.Image at 0x22233088160>,\n",
       "  <ee.image.Image at 0x222330901d0>,\n",
       "  <ee.image.Image at 0x22233090668>,\n",
       "  <ee.image.Image at 0x222330906d8>,\n",
       "  <ee.image.Image at 0x22233090748>,\n",
       "  <ee.image.Image at 0x222330907b8>,\n",
       "  <ee.image.Image at 0x22233090828>,\n",
       "  <ee.image.Image at 0x22233090898>,\n",
       "  <ee.image.Image at 0x22233090908>,\n",
       "  <ee.image.Image at 0x22233090978>],\n",
       " 2: [<ee.image.Image at 0x2223309e2e8>,\n",
       "  <ee.image.Image at 0x222330ab2b0>,\n",
       "  <ee.image.Image at 0x222330ab748>,\n",
       "  <ee.image.Image at 0x222330ab7b8>,\n",
       "  <ee.image.Image at 0x222330ab828>,\n",
       "  <ee.image.Image at 0x222330ab898>,\n",
       "  <ee.image.Image at 0x222330ab908>,\n",
       "  <ee.image.Image at 0x222330ab978>,\n",
       "  <ee.image.Image at 0x222330ab9e8>,\n",
       "  <ee.image.Image at 0x222330aba58>],\n",
       " 3: [<ee.image.Image at 0x222330b73c8>,\n",
       "  <ee.image.Image at 0x222330c3390>,\n",
       "  <ee.image.Image at 0x222327f3e10>,\n",
       "  <ee.image.Image at 0x222330c3860>,\n",
       "  <ee.image.Image at 0x222330c38d0>,\n",
       "  <ee.image.Image at 0x222330c3940>,\n",
       "  <ee.image.Image at 0x222330c39b0>,\n",
       "  <ee.image.Image at 0x222330c3a20>,\n",
       "  <ee.image.Image at 0x222330c3a90>,\n",
       "  <ee.image.Image at 0x222330c3b00>],\n",
       " 4: [<ee.image.Image at 0x222330d1470>,\n",
       "  <ee.image.Image at 0x222330dd438>,\n",
       "  <ee.image.Image at 0x222330dd8d0>,\n",
       "  <ee.image.Image at 0x222330dd940>,\n",
       "  <ee.image.Image at 0x222330dd9b0>,\n",
       "  <ee.image.Image at 0x222330dda20>,\n",
       "  <ee.image.Image at 0x222330dda90>,\n",
       "  <ee.image.Image at 0x222330ddb00>,\n",
       "  <ee.image.Image at 0x222330ddb70>,\n",
       "  <ee.image.Image at 0x222330ddbe0>],\n",
       " 5: [<ee.image.Image at 0x222330e8550>,\n",
       "  <ee.image.Image at 0x222330f6518>,\n",
       "  <ee.image.Image at 0x222330f69b0>,\n",
       "  <ee.image.Image at 0x222330f6a20>,\n",
       "  <ee.image.Image at 0x222330f6a90>,\n",
       "  <ee.image.Image at 0x222330f6b00>,\n",
       "  <ee.image.Image at 0x222330f6b70>,\n",
       "  <ee.image.Image at 0x222330f6be0>,\n",
       "  <ee.image.Image at 0x222330f6c50>,\n",
       "  <ee.image.Image at 0x222330f6cc0>],\n",
       " 6: [<ee.image.Image at 0x22233102630>,\n",
       "  <ee.image.Image at 0x2223310f5f8>,\n",
       "  <ee.image.Image at 0x2223310fa90>,\n",
       "  <ee.image.Image at 0x2223310fb00>,\n",
       "  <ee.image.Image at 0x2223310fb70>,\n",
       "  <ee.image.Image at 0x2223310fbe0>,\n",
       "  <ee.image.Image at 0x2223310fc50>,\n",
       "  <ee.image.Image at 0x2223310fcc0>,\n",
       "  <ee.image.Image at 0x2223310fd30>,\n",
       "  <ee.image.Image at 0x2223310fda0>],\n",
       " 7: [<ee.image.Image at 0x2223311d710>,\n",
       "  <ee.image.Image at 0x222331296d8>,\n",
       "  <ee.image.Image at 0x22233129b70>,\n",
       "  <ee.image.Image at 0x22233129be0>,\n",
       "  <ee.image.Image at 0x22233129c50>,\n",
       "  <ee.image.Image at 0x22233129cc0>,\n",
       "  <ee.image.Image at 0x22233129d30>,\n",
       "  <ee.image.Image at 0x22233129da0>,\n",
       "  <ee.image.Image at 0x22233129e10>,\n",
       "  <ee.image.Image at 0x22233129e80>],\n",
       " 8: [<ee.image.Image at 0x222331347f0>,\n",
       "  <ee.image.Image at 0x222331427b8>,\n",
       "  <ee.image.Image at 0x22233142c50>,\n",
       "  <ee.image.Image at 0x22233142cc0>,\n",
       "  <ee.image.Image at 0x22233142d30>,\n",
       "  <ee.image.Image at 0x22233142da0>,\n",
       "  <ee.image.Image at 0x22233142e10>,\n",
       "  <ee.image.Image at 0x22233142e80>,\n",
       "  <ee.image.Image at 0x22233142ef0>,\n",
       "  <ee.image.Image at 0x22233142f60>],\n",
       " 9: [<ee.image.Image at 0x2223314f8d0>,\n",
       "  <ee.image.Image at 0x2223315b898>,\n",
       "  <ee.image.Image at 0x2223315bd30>,\n",
       "  <ee.image.Image at 0x2223315bda0>,\n",
       "  <ee.image.Image at 0x2223315be10>,\n",
       "  <ee.image.Image at 0x2223315be80>,\n",
       "  <ee.image.Image at 0x2223315bef0>,\n",
       "  <ee.image.Image at 0x2223315bf60>,\n",
       "  <ee.image.Image at 0x2223315bfd0>,\n",
       "  <ee.image.Image at 0x22233160080>]}"
      ]
     },
     "execution_count": 31,
     "metadata": {},
     "output_type": "execute_result"
    }
   ],
   "source": [
    "Iter_temporal_check_instaces"
   ]
  },
  {
   "cell_type": "code",
   "execution_count": null,
   "metadata": {},
   "outputs": [],
   "source": []
  },
  {
   "cell_type": "code",
   "execution_count": null,
   "metadata": {},
   "outputs": [],
   "source": []
  },
  {
   "cell_type": "code",
   "execution_count": null,
   "metadata": {},
   "outputs": [],
   "source": []
  },
  {
   "cell_type": "code",
   "execution_count": 34,
   "metadata": {},
   "outputs": [
    {
     "data": {
      "application/vnd.jupyter.widget-view+json": {
       "model_id": "801f70295bb84c6cae9d16e169c2ed24",
       "version_major": 2,
       "version_minor": 0
      },
      "text/plain": [
       "Map(center=[35.2492, 115.4508], controls=(WidgetControl(options=['position'], widget=HBox(children=(ToggleButt…"
      ]
     },
     "metadata": {},
     "output_type": "display_data"
    }
   ],
   "source": [
    "Map = geemap.Map()\n",
    "Map.setCenter(115.4508, 35.2492,10)\n",
    "\n",
    "Map.add_basemap('HYBRID')\n",
    "Map.addLayer(Classified_imgs[8] ,{'min':0,'max':1},'origin')\n",
    "Map.addLayer(Iter_temporal_check_instaces[0][8] ,{'min':0,'max':1},'Iter_0')\n",
    "Map.addLayer(Iter_temporal_check_instaces[1][8] ,{'min':0,'max':1},'Iter_1')\n",
    "Map.addLayer(Iter_temporal_check_instaces[2][8] ,{'min':0,'max':1},'Iter_2')\n",
    "Map.addLayer(Iter_temporal_check_instaces[3][8] ,{'min':0,'max':1},'Iter_3')\n",
    "Map.addLayer(Iter_temporal_check_instaces[4][8] ,{'min':0,'max':1},'Iter_4')\n",
    "Map.addLayer(Iter_temporal_check_instaces[5][8] ,{'min':0,'max':1},'Iter_5')\n",
    "Map.addLayer(Iter_temporal_check_instaces[6][8] ,{'min':0,'max':1},'Iter_6')\n",
    "Map.addLayer(Iter_temporal_check_instaces[7][8] ,{'min':0,'max':1},'Iter_7')\n",
    "Map.addLayer(Iter_temporal_check_instaces[8][8] ,{'min':0,'max':1},'Iter_8')\n",
    "Map.addLayer(Iter_temporal_check_instaces[9][8] ,{'min':0,'max':1},'Iter_9')\n",
    "\n",
    "Map"
   ]
  },
  {
   "cell_type": "code",
   "execution_count": null,
   "metadata": {},
   "outputs": [],
   "source": []
  },
  {
   "cell_type": "code",
   "execution_count": null,
   "metadata": {},
   "outputs": [],
   "source": []
  },
  {
   "cell_type": "code",
   "execution_count": null,
   "metadata": {},
   "outputs": [],
   "source": []
  },
  {
   "cell_type": "code",
   "execution_count": null,
   "metadata": {},
   "outputs": [],
   "source": []
  },
  {
   "cell_type": "code",
   "execution_count": null,
   "metadata": {},
   "outputs": [],
   "source": []
  },
  {
   "cell_type": "code",
   "execution_count": 34,
   "metadata": {},
   "outputs": [],
   "source": [
    "table = ee.FeatureCollection(\"users/wangjinzhulala/North_China_Plain_Python/Boundary_shp/North_China_Plain_Boundary\")"
   ]
  },
  {
   "cell_type": "code",
   "execution_count": null,
   "metadata": {},
   "outputs": [],
   "source": []
  },
  {
   "cell_type": "code",
   "execution_count": 36,
   "metadata": {},
   "outputs": [],
   "source": [
    "freq = Iter_temporal_check_instaces[0][0].reduceRegion(ee.Reducer.frequencyHistogram(),table.geometry(),30,bestEffort=True)"
   ]
  },
  {
   "cell_type": "code",
   "execution_count": 37,
   "metadata": {},
   "outputs": [
    {
     "data": {
      "text/plain": [
       "{'classification': {'0': 9194238.980392165, '1': 741167.7686274509}}"
      ]
     },
     "execution_count": 37,
     "metadata": {},
     "output_type": "execute_result"
    }
   ],
   "source": [
    "freq.getInfo()"
   ]
  },
  {
   "cell_type": "code",
   "execution_count": null,
   "metadata": {},
   "outputs": [],
   "source": []
  },
  {
   "cell_type": "code",
   "execution_count": null,
   "metadata": {},
   "outputs": [],
   "source": []
  },
  {
   "cell_type": "code",
   "execution_count": null,
   "metadata": {},
   "outputs": [],
   "source": []
  }
 ],
 "metadata": {
  "kernelspec": {
   "display_name": "Python 3",
   "language": "python",
   "name": "python3"
  },
  "language_info": {
   "codemirror_mode": {
    "name": "ipython",
    "version": 3
   },
   "file_extension": ".py",
   "mimetype": "text/x-python",
   "name": "python",
   "nbconvert_exporter": "python",
   "pygments_lexer": "ipython3",
   "version": "3.7.3"
  }
 },
 "nbformat": 4,
 "nbformat_minor": 2
}
