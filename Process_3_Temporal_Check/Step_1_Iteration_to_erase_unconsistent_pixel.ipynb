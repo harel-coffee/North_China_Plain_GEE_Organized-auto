{
 "cells": [
  {
   "cell_type": "code",
   "execution_count": 1,
   "metadata": {},
   "outputs": [],
   "source": [
    "import ee\n",
    "import datetime\n",
    "import os\n",
    "import itertools\n",
    "import sys\n",
    "\n",
    "from pprint import pprint\n",
    "import pandas as pd\n",
    "import numpy as np\n",
    "import seaborn as sns\n",
    "import matplotlib.pyplot as plt\n",
    "\n",
    "import geemap\n",
    "\n",
    "import subprocess\n",
    "from subprocess import PIPE"
   ]
  },
  {
   "cell_type": "code",
   "execution_count": null,
   "metadata": {},
   "outputs": [],
   "source": []
  },
  {
   "cell_type": "code",
   "execution_count": 3,
   "metadata": {},
   "outputs": [],
   "source": [
    "ee.Initialize()"
   ]
  },
  {
   "cell_type": "code",
   "execution_count": null,
   "metadata": {},
   "outputs": [],
   "source": []
  },
  {
   "cell_type": "markdown",
   "metadata": {},
   "source": [
    "### Define basic parameters"
   ]
  },
  {
   "cell_type": "code",
   "execution_count": null,
   "metadata": {},
   "outputs": [],
   "source": []
  },
  {
   "cell_type": "code",
   "execution_count": 142,
   "metadata": {},
   "outputs": [],
   "source": [
    "# define the periods to perform temporal check\n",
    "Check_len = 3\n",
    "Check_wieght = [3,1,1]\n",
    "Check_threshold = 3\n",
    "\n",
    "# define the number of iteration\n",
    "Check_iteration_num = 10"
   ]
  },
  {
   "cell_type": "code",
   "execution_count": 143,
   "metadata": {},
   "outputs": [],
   "source": [
    "# define the names of each period\n",
    "year_range = list(f'{i[0]}_{i[1]}' for i in zip(range(1990,2018,3),range(1992,2020,3)))"
   ]
  },
  {
   "cell_type": "code",
   "execution_count": 144,
   "metadata": {},
   "outputs": [
    {
     "data": {
      "text/plain": [
       "['1990_1992',\n",
       " '1993_1995',\n",
       " '1996_1998',\n",
       " '1999_2001',\n",
       " '2002_2004',\n",
       " '2005_2007',\n",
       " '2008_2010',\n",
       " '2011_2013',\n",
       " '2014_2016',\n",
       " '2017_2019']"
      ]
     },
     "execution_count": 144,
     "metadata": {},
     "output_type": "execute_result"
    }
   ],
   "source": [
    "year_range"
   ]
  },
  {
   "cell_type": "code",
   "execution_count": null,
   "metadata": {},
   "outputs": [],
   "source": []
  },
  {
   "cell_type": "markdown",
   "metadata": {},
   "source": [
    "### Import Classified_random_img"
   ]
  },
  {
   "cell_type": "code",
   "execution_count": null,
   "metadata": {},
   "outputs": [],
   "source": []
  },
  {
   "cell_type": "code",
   "execution_count": 141,
   "metadata": {},
   "outputs": [],
   "source": [
    "# get the classified_random_imgs and sum them up for each period\n",
    "Classified_imgs = [ee.ImageCollection(f\"users/wangjinzhulala/North_China_Plain_Python/classification_img/Random_{year}\")\n",
    "                     .sum()\n",
    "                     .gte(8)\n",
    "                     .set('name',year)\n",
    "                  for year in year_range]"
   ]
  },
  {
   "cell_type": "code",
   "execution_count": null,
   "metadata": {},
   "outputs": [],
   "source": []
  },
  {
   "cell_type": "code",
   "execution_count": null,
   "metadata": {},
   "outputs": [],
   "source": []
  },
  {
   "cell_type": "code",
   "execution_count": 152,
   "metadata": {},
   "outputs": [],
   "source": [
    "def Temporal_check(in_tifs,weights,threshold):\n",
    "\n",
    "    # zip classified_random_sum with weights\n",
    "    img_multiply = list(zip(in_tifs,weights))\n",
    "\n",
    "    # multiply each classified_sum_img with check_weight \n",
    "    # and sum 3-periods together\n",
    "    sum_tif = ee.ImageCollection([i[0].multiply(i[1]) for i in img_multiply]).sum()\n",
    "    \n",
    "    # thoes pixel that greater than threshold will be kept\n",
    "    sum_constrained = sum_tif.gt(threshold)\n",
    "    \n",
    "    return sum_constrained"
   ]
  },
  {
   "cell_type": "code",
   "execution_count": null,
   "metadata": {},
   "outputs": [],
   "source": []
  },
  {
   "cell_type": "code",
   "execution_count": 153,
   "metadata": {},
   "outputs": [],
   "source": [
    "Iter_tempral_check_instaces = {}\n",
    "\n",
    "for it in range(Check_iteration_num):\n",
    "    \n",
    "    if it == 0:\n",
    "        chuncks   = [Classified_imgs[i:i+3] for i in range(len(Classified_imgs)-2)]\n",
    "        check_tif = [Temporal_check(chunk,Check_wieght,Check_threshold) for chunk in chuncks]\n",
    "        Iter_tempral_check_instaces[0]  = check_tif\n",
    "        \n",
    "    else:\n",
    "        in_tifs   = Iter_tempral_check_instaces[0] + Classified_imgs[8:10]\n",
    "        chuncks   = [in_tifs[i:i+3] for i in range(len(Classified_imgs)-2)]\n",
    "        \n",
    "        check_tif = [Temporal_check(chunk,Check_wieght,Check_threshold) for chunk in chuncks]\n",
    "        Iter_tempral_check_instaces[it] = check_tif"
   ]
  },
  {
   "cell_type": "code",
   "execution_count": null,
   "metadata": {},
   "outputs": [],
   "source": []
  },
  {
   "cell_type": "code",
   "execution_count": 154,
   "metadata": {
    "scrolled": true
   },
   "outputs": [
    {
     "data": {
      "text/plain": [
       "{0: [<ee.image.Image at 0x29eab952198>,\n",
       "  <ee.image.Image at 0x29eab9523c8>,\n",
       "  <ee.image.Image at 0x29eab952780>,\n",
       "  <ee.image.Image at 0x29eab952080>,\n",
       "  <ee.image.Image at 0x29eab952550>,\n",
       "  <ee.image.Image at 0x29eab9524a8>,\n",
       "  <ee.image.Image at 0x29eab952588>,\n",
       "  <ee.image.Image at 0x29eab53d710>],\n",
       " 1: [<ee.image.Image at 0x29eab53d550>,\n",
       "  <ee.image.Image at 0x29eab53dcf8>,\n",
       "  <ee.image.Image at 0x29eab53d6a0>,\n",
       "  <ee.image.Image at 0x29eab53d208>,\n",
       "  <ee.image.Image at 0x29eab53d4a8>,\n",
       "  <ee.image.Image at 0x29eab53d5f8>,\n",
       "  <ee.image.Image at 0x29eab42b4a8>,\n",
       "  <ee.image.Image at 0x29eab42bb70>],\n",
       " 2: [<ee.image.Image at 0x29eab40ce80>,\n",
       "  <ee.image.Image at 0x29eab58cfd0>,\n",
       "  <ee.image.Image at 0x29eab58c5f8>,\n",
       "  <ee.image.Image at 0x29eaf982f28>,\n",
       "  <ee.image.Image at 0x29eaf982940>,\n",
       "  <ee.image.Image at 0x29eaf982b70>,\n",
       "  <ee.image.Image at 0x29eab9105f8>,\n",
       "  <ee.image.Image at 0x29eab910630>],\n",
       " 3: [<ee.image.Image at 0x29eab9108d0>,\n",
       "  <ee.image.Image at 0x29eab9104e0>,\n",
       "  <ee.image.Image at 0x29eab910f28>,\n",
       "  <ee.image.Image at 0x29eab9104a8>,\n",
       "  <ee.image.Image at 0x29eab5ae780>,\n",
       "  <ee.image.Image at 0x29eab5ae198>,\n",
       "  <ee.image.Image at 0x29eab5aeb38>,\n",
       "  <ee.image.Image at 0x29eafb591d0>],\n",
       " 4: [<ee.image.Image at 0x29eafb59da0>,\n",
       "  <ee.image.Image at 0x29eafb59c88>,\n",
       "  <ee.image.Image at 0x29eafb59860>,\n",
       "  <ee.image.Image at 0x29eafb59ba8>,\n",
       "  <ee.image.Image at 0x29eac0594e0>,\n",
       "  <ee.image.Image at 0x29eac0597f0>,\n",
       "  <ee.image.Image at 0x29eac059780>,\n",
       "  <ee.image.Image at 0x29eac0591d0>],\n",
       " 5: [<ee.image.Image at 0x29eac059320>,\n",
       "  <ee.image.Image at 0x29eac059828>,\n",
       "  <ee.image.Image at 0x29eac059978>,\n",
       "  <ee.image.Image at 0x29ea96d5828>,\n",
       "  <ee.image.Image at 0x29eaba8a2b0>,\n",
       "  <ee.image.Image at 0x29eaba8aef0>,\n",
       "  <ee.image.Image at 0x29eaba8aba8>,\n",
       "  <ee.image.Image at 0x29eaba8a438>],\n",
       " 6: [<ee.image.Image at 0x29eac5f42b0>,\n",
       "  <ee.image.Image at 0x29eac5f4278>,\n",
       "  <ee.image.Image at 0x29eac5f4550>,\n",
       "  <ee.image.Image at 0x29eac070dd8>,\n",
       "  <ee.image.Image at 0x29eac070940>,\n",
       "  <ee.image.Image at 0x29eac070e48>,\n",
       "  <ee.image.Image at 0x29eac0707f0>,\n",
       "  <ee.image.Image at 0x29eac0705c0>],\n",
       " 7: [<ee.image.Image at 0x29eac070390>,\n",
       "  <ee.image.Image at 0x29eac070160>,\n",
       "  <ee.image.Image at 0x29eabb0b550>,\n",
       "  <ee.image.Image at 0x29eabb0bc18>,\n",
       "  <ee.image.Image at 0x29eabb0b278>,\n",
       "  <ee.image.Image at 0x29eabb0b588>,\n",
       "  <ee.image.Image at 0x29eabb0b0f0>,\n",
       "  <ee.image.Image at 0x29eabb0be48>],\n",
       " 8: [<ee.image.Image at 0x29eabb0bac8>,\n",
       "  <ee.image.Image at 0x29eac067780>,\n",
       "  <ee.image.Image at 0x29eac067278>,\n",
       "  <ee.image.Image at 0x29eac067a90>,\n",
       "  <ee.image.Image at 0x29eac0678d0>,\n",
       "  <ee.image.Image at 0x29eac0679b0>,\n",
       "  <ee.image.Image at 0x29eac0672b0>,\n",
       "  <ee.image.Image at 0x29eabef50b8>],\n",
       " 9: [<ee.image.Image at 0x29eabd15748>,\n",
       "  <ee.image.Image at 0x29eabd157f0>,\n",
       "  <ee.image.Image at 0x29eabd15da0>,\n",
       "  <ee.image.Image at 0x29eabd150f0>,\n",
       "  <ee.image.Image at 0x29eabd15358>,\n",
       "  <ee.image.Image at 0x29eabd15978>,\n",
       "  <ee.image.Image at 0x29eabd15668>,\n",
       "  <ee.image.Image at 0x29eab8ce9b0>]}"
      ]
     },
     "execution_count": 154,
     "metadata": {},
     "output_type": "execute_result"
    }
   ],
   "source": [
    "Iter_tempral_check_instaces"
   ]
  },
  {
   "cell_type": "code",
   "execution_count": null,
   "metadata": {},
   "outputs": [],
   "source": []
  },
  {
   "cell_type": "code",
   "execution_count": null,
   "metadata": {},
   "outputs": [],
   "source": []
  },
  {
   "cell_type": "code",
   "execution_count": 163,
   "metadata": {},
   "outputs": [
    {
     "data": {
      "application/vnd.jupyter.widget-view+json": {
       "model_id": "30dd462c799341219cdcb3e21c059eae",
       "version_major": 2,
       "version_minor": 0
      },
      "text/plain": [
       "Map(center=[35.2492, 115.4508], controls=(WidgetControl(options=['position'], widget=HBox(children=(ToggleButt…"
      ]
     },
     "metadata": {},
     "output_type": "display_data"
    }
   ],
   "source": [
    "Map = geemap.Map()\n",
    "Map.setCenter(115.4508, 35.2492,10)\n",
    "\n",
    "Map.add_basemap('HYBRID')\n",
    "Map.addLayer(Classified_imgs[9] ,{'min':0,'max':1},'origin')\n",
    "Map.addLayer(Iter_tempral_check_instaces[0][1] ,{'min':0,'max':1},'Iter_0')\n",
    "Map.addLayer(Iter_tempral_check_instaces[3][1] ,{'min':0,'max':1},'Iter_3')\n",
    "Map.addLayer(Iter_tempral_check_instaces[5][1] ,{'min':0,'max':1},'Iter_5')\n",
    "Map.addLayer(Iter_tempral_check_instaces[9][1] ,{'min':0,'max':1},'Iter_9')\n",
    "Map"
   ]
  },
  {
   "cell_type": "code",
   "execution_count": null,
   "metadata": {},
   "outputs": [],
   "source": []
  },
  {
   "cell_type": "code",
   "execution_count": null,
   "metadata": {},
   "outputs": [],
   "source": []
  },
  {
   "cell_type": "code",
   "execution_count": null,
   "metadata": {},
   "outputs": [],
   "source": []
  },
  {
   "cell_type": "code",
   "execution_count": null,
   "metadata": {},
   "outputs": [],
   "source": []
  },
  {
   "cell_type": "code",
   "execution_count": null,
   "metadata": {},
   "outputs": [],
   "source": []
  },
  {
   "cell_type": "code",
   "execution_count": null,
   "metadata": {},
   "outputs": [],
   "source": []
  }
 ],
 "metadata": {
  "kernelspec": {
   "display_name": "Python 3",
   "language": "python",
   "name": "python3"
  },
  "language_info": {
   "codemirror_mode": {
    "name": "ipython",
    "version": 3
   },
   "file_extension": ".py",
   "mimetype": "text/x-python",
   "name": "python",
   "nbconvert_exporter": "python",
   "pygments_lexer": "ipython3",
   "version": "3.7.3"
  }
 },
 "nbformat": 4,
 "nbformat_minor": 2
}
