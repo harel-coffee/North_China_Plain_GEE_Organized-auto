{
 "cells": [
  {
   "cell_type": "code",
   "execution_count": 1,
   "metadata": {},
   "outputs": [],
   "source": [
    "import ee\n",
    "import datetime\n",
    "import os\n",
    "import itertools\n",
    "import sys\n",
    "\n",
    "from pprint import pprint\n",
    "import pandas as pd\n",
    "import numpy as np\n",
    "import seaborn as sns\n",
    "import matplotlib.pyplot as plt\n",
    "\n",
    "import geemap\n",
    "\n",
    "import subprocess\n",
    "from subprocess import PIPE"
   ]
  },
  {
   "cell_type": "code",
   "execution_count": null,
   "metadata": {},
   "outputs": [],
   "source": []
  },
  {
   "cell_type": "code",
   "execution_count": 2,
   "metadata": {},
   "outputs": [],
   "source": [
    "ee.Initialize()"
   ]
  },
  {
   "cell_type": "code",
   "execution_count": null,
   "metadata": {},
   "outputs": [],
   "source": []
  },
  {
   "cell_type": "markdown",
   "metadata": {},
   "source": [
    "### Define basic parameters"
   ]
  },
  {
   "cell_type": "code",
   "execution_count": null,
   "metadata": {},
   "outputs": [],
   "source": []
  },
  {
   "cell_type": "code",
   "execution_count": 3,
   "metadata": {},
   "outputs": [],
   "source": [
    "# define the periods to perform temporal check\n",
    "Check_len = 3\n",
    "Check_wieght = [3,1,1]\n",
    "Check_threshold = 4\n",
    "\n",
    "# define the number of iteration\n",
    "Check_iteration_num = 10"
   ]
  },
  {
   "cell_type": "code",
   "execution_count": 4,
   "metadata": {},
   "outputs": [],
   "source": [
    "# define the names of each period\n",
    "year_range = list(f'{i[0]}_{i[1]}' for i in zip(range(1990,2018,3),range(1992,2020,3)))"
   ]
  },
  {
   "cell_type": "code",
   "execution_count": 5,
   "metadata": {},
   "outputs": [
    {
     "data": {
      "text/plain": [
       "['1990_1992',\n",
       " '1993_1995',\n",
       " '1996_1998',\n",
       " '1999_2001',\n",
       " '2002_2004',\n",
       " '2005_2007',\n",
       " '2008_2010',\n",
       " '2011_2013',\n",
       " '2014_2016',\n",
       " '2017_2019']"
      ]
     },
     "execution_count": 5,
     "metadata": {},
     "output_type": "execute_result"
    }
   ],
   "source": [
    "year_range"
   ]
  },
  {
   "cell_type": "code",
   "execution_count": null,
   "metadata": {},
   "outputs": [],
   "source": []
  },
  {
   "cell_type": "markdown",
   "metadata": {},
   "source": [
    "### Import Classified_random_img"
   ]
  },
  {
   "cell_type": "code",
   "execution_count": null,
   "metadata": {},
   "outputs": [],
   "source": []
  },
  {
   "cell_type": "code",
   "execution_count": 6,
   "metadata": {},
   "outputs": [],
   "source": [
    "# get the classified_random_imgs and sum them up for each period\n",
    "Classified_imgs = [ee.ImageCollection(f\"users/wangjinzhulala/North_China_Plain_Python/classification_img/Random_{year}\")\n",
    "                     .sum()\n",
    "                     .gte(9)\n",
    "                     .set('name',year)\n",
    "                  for year in year_range]"
   ]
  },
  {
   "cell_type": "code",
   "execution_count": null,
   "metadata": {},
   "outputs": [],
   "source": []
  },
  {
   "cell_type": "code",
   "execution_count": 7,
   "metadata": {},
   "outputs": [],
   "source": [
    "def Temporal_check(mode,in_tifs,weights,threshold):\n",
    "    \n",
    "    # get the name of the first img as the property for return img\n",
    "    name = in_tifs[0].get('name')\n",
    "\n",
    "    # zip classified_random_sum with weights\n",
    "    img_multiply = list(zip(in_tifs,weights))\n",
    "\n",
    "    \n",
    "    \n",
    "    if mode == 'forward':\n",
    "        \n",
    "        # multiply each classified_sum_img with check_weight \n",
    "        # and sum 3-periods together\n",
    "        sum_tif = ee.ImageCollection([i[0].multiply(i[1]) for i in img_multiply]).sum()\n",
    "        \n",
    "        # thoes pixel that GREATER THAN are built-up pixel\n",
    "        sum_constrained = sum_tif.gt(threshold).set('name',name)\n",
    "        \n",
    "    elif mode == 'backward':\n",
    "                \n",
    "        #_______________________Get theose pixel that was transformed from built to non-built______________\n",
    "        \n",
    "        # remap the last year, so the pixel value changed (built-->0; non-built -->weight)\n",
    "        last_year_remap    = img_multiply[0][0].remap([0,1],[img_multiply[0][1],0])\n",
    "        \n",
    "        # multiply the reset img with weight\n",
    "        sum_rest_img_multiply = ee.ImageCollection([i[0].multiply(i[1]) for i in img_multiply[1:]]).sum()\n",
    "        \n",
    "        # add sum_rest_img_multiply to last_year_remap, and theose pixel with value GREATER THAN threshold\n",
    "        # are incorrectly classified as non-built, which should be corretd to built pixel\n",
    "        Incorrect_non_built = sum_rest_img_multiply.add(last_year_remap)\\\n",
    "                                                   .gt(threshold)\\\n",
    "                                                   .remap([0,1],[0,2])\n",
    "        \n",
    "        # add Incorrect_non_built to the last year img, the built-pixel should have values of [1|2]\n",
    "        sum_tif = Incorrect_non_built.add(img_multiply[0][0])\n",
    "        \n",
    "        # thoes pixel that LESS THAN are built-up pixel\n",
    "        sum_constrained = sum_tif.eq(1).Or(sum_tif.eq(2))\n",
    "    else:\n",
    "        print(\"Please provide a correct mode ['forward'|'backward']\")\n",
    "    \n",
    "    return sum_constrained"
   ]
  },
  {
   "cell_type": "code",
   "execution_count": null,
   "metadata": {},
   "outputs": [],
   "source": []
  },
  {
   "cell_type": "code",
   "execution_count": null,
   "metadata": {},
   "outputs": [],
   "source": []
  },
  {
   "cell_type": "code",
   "execution_count": 8,
   "metadata": {},
   "outputs": [],
   "source": [
    "def Forward_backward(temporal_check_len,in_imgs):\n",
    "    \n",
    "    #_______________________________Forward temporal check________________________________________________\n",
    "    \n",
    "    forward_chunks  = [in_imgs[i:i + temporal_check_len] for i in range(len(in_imgs) - temporal_check_len + 1)]\n",
    "    # perform the forward temporal check\n",
    "    forward_tif     = [Temporal_check('forward',chunk,Check_wieght,Check_threshold) for chunk in forward_chunks]\n",
    "    forwar_backward = forward_tif + Classified_imgs[len(forward_tif):]\n",
    "    \n",
    "    \n",
    "#     #_______________________________Backward temporal check________________________________________________\n",
    "    \n",
    "#     # combie the forward_checked tifs with unchecked imgs in the tail, and reverse the list order\n",
    "#     backward_tifs = forward_tif + Classified_imgs[len(forward_tif):]\n",
    "#     backward_tifs_reverse = backward_tifs[::-1]\n",
    " \n",
    "#     # slice the backward_tifs into chunks with the length of temporal_check_len\n",
    "#     backward_chunks = [backward_tifs_reverse[i:i + temporal_check_len] for i in range(len(in_imgs) - temporal_check_len + 1)]\n",
    "#     # perform the backward temporal check\n",
    "#     backward_tif    = [Temporal_check('backward',chunk,Check_wieght,Check_threshold) for chunk in backward_chunks]\n",
    "\n",
    "    \n",
    "    \n",
    "#     #___________________________Add Forward % Backward checked img together___________________________________\n",
    "    \n",
    "#     # reorder the backward_tif so tifs to ensure an increased time order\n",
    "#     re_order_tif = backward_tif[::-1]\n",
    "    \n",
    "#     forwar_backward = forward_tif[:temporal_check_len-1] + re_order_tif\n",
    "    \n",
    "    return forwar_backward"
   ]
  },
  {
   "cell_type": "code",
   "execution_count": null,
   "metadata": {},
   "outputs": [],
   "source": []
  },
  {
   "cell_type": "code",
   "execution_count": null,
   "metadata": {},
   "outputs": [],
   "source": []
  },
  {
   "cell_type": "code",
   "execution_count": 9,
   "metadata": {},
   "outputs": [],
   "source": [
    "Iter_temporal_check_instaces = {}\n",
    "\n",
    "for it in range(Check_iteration_num):\n",
    "\n",
    "    if it == 0:\n",
    "        \n",
    "        in_imgs = Classified_imgs\n",
    "        \n",
    "        forward_backward_checked =  Forward_backward(Check_len,in_imgs)\n",
    "        forward_backward_with_iteration = [ee.Image(img).set('iteration',it) for img in forward_backward_checked]\n",
    "        \n",
    "        Iter_temporal_check_instaces[0]  = forward_backward_with_iteration\n",
    "        \n",
    "        \n",
    "    else:\n",
    "        \n",
    "        in_imgs = Iter_temporal_check_instaces[it-1]\n",
    "        \n",
    "        forward_backward_checked =  Forward_backward(Check_len,in_imgs)\n",
    "        forward_backward_with_iteration = [ee.Image(img).set('iteration',it) for img in forward_backward_checked]\n",
    "        \n",
    "        Iter_temporal_check_instaces[it]  = forward_backward_with_iteration"
   ]
  },
  {
   "cell_type": "code",
   "execution_count": null,
   "metadata": {},
   "outputs": [],
   "source": []
  },
  {
   "cell_type": "code",
   "execution_count": 10,
   "metadata": {},
   "outputs": [
    {
     "data": {
      "text/plain": [
       "{'type': 'Image',\n",
       " 'bands': [{'id': 'b1',\n",
       "   'data_type': {'type': 'PixelType', 'precision': 'int', 'min': 0, 'max': 1},\n",
       "   'crs': 'EPSG:4326',\n",
       "   'crs_transform': [1, 0, 0, 0, 1, 0]}],\n",
       " 'properties': {'name': '1990_1992', 'iteration': 9}}"
      ]
     },
     "execution_count": 10,
     "metadata": {},
     "output_type": "execute_result"
    }
   ],
   "source": [
    "Iter_temporal_check_instaces[9][0].getInfo()"
   ]
  },
  {
   "cell_type": "code",
   "execution_count": null,
   "metadata": {},
   "outputs": [],
   "source": []
  },
  {
   "cell_type": "code",
   "execution_count": null,
   "metadata": {},
   "outputs": [],
   "source": []
  },
  {
   "cell_type": "code",
   "execution_count": null,
   "metadata": {},
   "outputs": [],
   "source": []
  },
  {
   "cell_type": "code",
   "execution_count": 12,
   "metadata": {},
   "outputs": [
    {
     "data": {
      "application/vnd.jupyter.widget-view+json": {
       "model_id": "62edd439ddf04a04b155b8530c48867f",
       "version_major": 2,
       "version_minor": 0
      },
      "text/plain": [
       "Map(center=[35.2492, 115.4508], controls=(WidgetControl(options=['position'], widget=HBox(children=(ToggleButt…"
      ]
     },
     "metadata": {},
     "output_type": "display_data"
    }
   ],
   "source": [
    "Map = geemap.Map()\n",
    "Map.setCenter(115.4508, 35.2492,10)\n",
    "\n",
    "Map.add_basemap('HYBRID')\n",
    "Map.addLayer(Classified_imgs[3] ,{'min':0,'max':1},'origin')\n",
    "Map.addLayer(Iter_temporal_check_instaces[1][3] ,{'min':0,'max':1},'Iter_1')\n",
    "Map.addLayer(Iter_temporal_check_instaces[2][3] ,{'min':0,'max':1},'Iter_2')\n",
    "\n",
    "Map"
   ]
  },
  {
   "cell_type": "code",
   "execution_count": null,
   "metadata": {},
   "outputs": [],
   "source": []
  },
  {
   "cell_type": "code",
   "execution_count": null,
   "metadata": {},
   "outputs": [],
   "source": []
  },
  {
   "cell_type": "code",
   "execution_count": null,
   "metadata": {},
   "outputs": [],
   "source": []
  },
  {
   "cell_type": "code",
   "execution_count": null,
   "metadata": {},
   "outputs": [],
   "source": []
  },
  {
   "cell_type": "code",
   "execution_count": null,
   "metadata": {},
   "outputs": [],
   "source": []
  },
  {
   "cell_type": "code",
   "execution_count": null,
   "metadata": {},
   "outputs": [],
   "source": []
  }
 ],
 "metadata": {
  "kernelspec": {
   "display_name": "Python 3",
   "language": "python",
   "name": "python3"
  },
  "language_info": {
   "codemirror_mode": {
    "name": "ipython",
    "version": 3
   },
   "file_extension": ".py",
   "mimetype": "text/x-python",
   "name": "python",
   "nbconvert_exporter": "python",
   "pygments_lexer": "ipython3",
   "version": "3.7.3"
  }
 },
 "nbformat": 4,
 "nbformat_minor": 2
}
