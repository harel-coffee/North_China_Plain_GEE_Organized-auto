{
 "cells": [
  {
   "cell_type": "code",
   "execution_count": null,
   "metadata": {},
   "outputs": [],
   "source": []
  },
  {
   "cell_type": "markdown",
   "metadata": {},
   "source": [
    "This program is to make a GEE path-folder public so that other peopel can use the data within this path-folder <br><br>\n",
    "1) Only suitable for path-folder of depth no more than 2 ==> path-foldr [folder,object,folder[objects]]<br>\n",
    "2) NOT suitable for path-folder like ==> path-folder[folder,obj,folder[folder]]<br>"
   ]
  },
  {
   "cell_type": "code",
   "execution_count": null,
   "metadata": {},
   "outputs": [],
   "source": []
  },
  {
   "cell_type": "code",
   "execution_count": 1,
   "metadata": {},
   "outputs": [],
   "source": [
    "import ee\n",
    "import subprocess\n",
    "from subprocess import PIPE\n",
    "\n",
    "import pandas as pd\n",
    "import numpy as np"
   ]
  },
  {
   "cell_type": "code",
   "execution_count": 2,
   "metadata": {},
   "outputs": [],
   "source": [
    "ee.Initialize()\n"
   ]
  },
  {
   "cell_type": "code",
   "execution_count": null,
   "metadata": {},
   "outputs": [],
   "source": []
  },
  {
   "cell_type": "markdown",
   "metadata": {},
   "source": [
    "List all items of a root_path"
   ]
  },
  {
   "cell_type": "code",
   "execution_count": 3,
   "metadata": {},
   "outputs": [],
   "source": [
<<<<<<< HEAD
    "path_folder = 'users/wang8052664/Cloud_Free_Img'"
=======
    "path_folder = 'users/Jinzhu_Deakin/North_China_Plain/Sample_with_Landsat_Fourier_Normalized'"
>>>>>>> 53e1fe57ee979bf589d51f578c76e3df95779df3
   ]
  },
  {
   "cell_type": "code",
   "execution_count": 4,
   "metadata": {},
   "outputs": [],
   "source": [
    "p = subprocess.run(f'earthengine ls {path_folder}',\n",
    "                   shell = True,\n",
    "                   stdout=PIPE, \n",
    "                   stderr=PIPE,\n",
    "                   universal_newlines=True).stdout"
   ]
  },
  {
   "cell_type": "code",
   "execution_count": null,
   "metadata": {},
   "outputs": [],
   "source": []
  },
  {
   "cell_type": "code",
   "execution_count": 5,
   "metadata": {},
   "outputs": [
    {
     "data": {
      "text/plain": [
<<<<<<< HEAD
       "['projects/earthengine-legacy/assets/users/wang8052664/Cloud_Free_Img/Landsat_cloud_free_1987_1989',\n",
       " 'projects/earthengine-legacy/assets/users/wang8052664/Cloud_Free_Img/Landsat_cloud_free_1990_1992',\n",
       " 'projects/earthengine-legacy/assets/users/wang8052664/Cloud_Free_Img/Landsat_cloud_free_1993_1995',\n",
       " 'projects/earthengine-legacy/assets/users/wang8052664/Cloud_Free_Img/Landsat_cloud_free_1996_1998',\n",
       " 'projects/earthengine-legacy/assets/users/wang8052664/Cloud_Free_Img/Landsat_cloud_free_1999_2001',\n",
       " 'projects/earthengine-legacy/assets/users/wang8052664/Cloud_Free_Img/Landsat_cloud_free_2002_2004',\n",
       " 'projects/earthengine-legacy/assets/users/wang8052664/Cloud_Free_Img/Landsat_cloud_free_2005_2007',\n",
       " 'projects/earthengine-legacy/assets/users/wang8052664/Cloud_Free_Img/Landsat_cloud_free_2008_2010',\n",
       " 'projects/earthengine-legacy/assets/users/wang8052664/Cloud_Free_Img/Landsat_cloud_free_2011_2013',\n",
       " 'projects/earthengine-legacy/assets/users/wang8052664/Cloud_Free_Img/Landsat_cloud_free_2014_2016',\n",
       " 'projects/earthengine-legacy/assets/users/wang8052664/Cloud_Free_Img/Landsat_cloud_free_2017_2019']"
=======
       "['projects/earthengine-legacy/assets/users/Jinzhu_Deakin/North_China_Plain/Sample_with_Landsat_Fourier_Normalized/Each_year_built_1990_1992',\n",
       " 'projects/earthengine-legacy/assets/users/Jinzhu_Deakin/North_China_Plain/Sample_with_Landsat_Fourier_Normalized/Each_year_built_1993_1995',\n",
       " 'projects/earthengine-legacy/assets/users/Jinzhu_Deakin/North_China_Plain/Sample_with_Landsat_Fourier_Normalized/Each_year_built_1996_1998',\n",
       " 'projects/earthengine-legacy/assets/users/Jinzhu_Deakin/North_China_Plain/Sample_with_Landsat_Fourier_Normalized/Each_year_built_1999_2001',\n",
       " 'projects/earthengine-legacy/assets/users/Jinzhu_Deakin/North_China_Plain/Sample_with_Landsat_Fourier_Normalized/Each_year_built_2002_2004',\n",
       " 'projects/earthengine-legacy/assets/users/Jinzhu_Deakin/North_China_Plain/Sample_with_Landsat_Fourier_Normalized/Each_year_built_2005_2007',\n",
       " 'projects/earthengine-legacy/assets/users/Jinzhu_Deakin/North_China_Plain/Sample_with_Landsat_Fourier_Normalized/Each_year_built_2008_2010',\n",
       " 'projects/earthengine-legacy/assets/users/Jinzhu_Deakin/North_China_Plain/Sample_with_Landsat_Fourier_Normalized/Each_year_built_2011_2013',\n",
       " 'projects/earthengine-legacy/assets/users/Jinzhu_Deakin/North_China_Plain/Sample_with_Landsat_Fourier_Normalized/Each_year_built_2014_2016',\n",
       " 'projects/earthengine-legacy/assets/users/Jinzhu_Deakin/North_China_Plain/Sample_with_Landsat_Fourier_Normalized/Each_year_built_2017_2019',\n",
       " 'projects/earthengine-legacy/assets/users/Jinzhu_Deakin/North_China_Plain/Sample_with_Landsat_Fourier_Normalized/Each_year_visual_check_2005_2007',\n",
       " 'projects/earthengine-legacy/assets/users/Jinzhu_Deakin/North_China_Plain/Sample_with_Landsat_Fourier_Normalized/Each_year_visual_check_2008_2010',\n",
       " 'projects/earthengine-legacy/assets/users/Jinzhu_Deakin/North_China_Plain/Sample_with_Landsat_Fourier_Normalized/Each_year_visual_check_2011_2013',\n",
       " 'projects/earthengine-legacy/assets/users/Jinzhu_Deakin/North_China_Plain/Sample_with_Landsat_Fourier_Normalized/Each_year_visual_check_2014_2016',\n",
       " 'projects/earthengine-legacy/assets/users/Jinzhu_Deakin/North_China_Plain/Sample_with_Landsat_Fourier_Normalized/Each_year_visual_check_2017_2019',\n",
       " 'projects/earthengine-legacy/assets/users/Jinzhu_Deakin/North_China_Plain/Sample_with_Landsat_Fourier_Normalized/Invarient_built_1990_1992',\n",
       " 'projects/earthengine-legacy/assets/users/Jinzhu_Deakin/North_China_Plain/Sample_with_Landsat_Fourier_Normalized/Invarient_built_1993_1995',\n",
       " 'projects/earthengine-legacy/assets/users/Jinzhu_Deakin/North_China_Plain/Sample_with_Landsat_Fourier_Normalized/Invarient_built_1996_1998',\n",
       " 'projects/earthengine-legacy/assets/users/Jinzhu_Deakin/North_China_Plain/Sample_with_Landsat_Fourier_Normalized/Invarient_built_1999_2001',\n",
       " 'projects/earthengine-legacy/assets/users/Jinzhu_Deakin/North_China_Plain/Sample_with_Landsat_Fourier_Normalized/Invarient_built_2002_2004',\n",
       " 'projects/earthengine-legacy/assets/users/Jinzhu_Deakin/North_China_Plain/Sample_with_Landsat_Fourier_Normalized/Invarient_built_2005_2007',\n",
       " 'projects/earthengine-legacy/assets/users/Jinzhu_Deakin/North_China_Plain/Sample_with_Landsat_Fourier_Normalized/Invarient_built_2008_2010',\n",
       " 'projects/earthengine-legacy/assets/users/Jinzhu_Deakin/North_China_Plain/Sample_with_Landsat_Fourier_Normalized/Invarient_built_2011_2013',\n",
       " 'projects/earthengine-legacy/assets/users/Jinzhu_Deakin/North_China_Plain/Sample_with_Landsat_Fourier_Normalized/Invarient_built_2014_2016',\n",
       " 'projects/earthengine-legacy/assets/users/Jinzhu_Deakin/North_China_Plain/Sample_with_Landsat_Fourier_Normalized/Invarient_built_2017_2019',\n",
       " 'projects/earthengine-legacy/assets/users/Jinzhu_Deakin/North_China_Plain/Sample_with_Landsat_Fourier_Normalized/Invarient_non_built_1990_1992',\n",
       " 'projects/earthengine-legacy/assets/users/Jinzhu_Deakin/North_China_Plain/Sample_with_Landsat_Fourier_Normalized/Invarient_non_built_1993_1995',\n",
       " 'projects/earthengine-legacy/assets/users/Jinzhu_Deakin/North_China_Plain/Sample_with_Landsat_Fourier_Normalized/Invarient_non_built_1996_1998',\n",
       " 'projects/earthengine-legacy/assets/users/Jinzhu_Deakin/North_China_Plain/Sample_with_Landsat_Fourier_Normalized/Invarient_non_built_1999_2001',\n",
       " 'projects/earthengine-legacy/assets/users/Jinzhu_Deakin/North_China_Plain/Sample_with_Landsat_Fourier_Normalized/Invarient_non_built_2002_2004',\n",
       " 'projects/earthengine-legacy/assets/users/Jinzhu_Deakin/North_China_Plain/Sample_with_Landsat_Fourier_Normalized/Invarient_non_built_2005_2007',\n",
       " 'projects/earthengine-legacy/assets/users/Jinzhu_Deakin/North_China_Plain/Sample_with_Landsat_Fourier_Normalized/Invarient_non_built_2008_2010',\n",
       " 'projects/earthengine-legacy/assets/users/Jinzhu_Deakin/North_China_Plain/Sample_with_Landsat_Fourier_Normalized/Invarient_non_built_2011_2013',\n",
       " 'projects/earthengine-legacy/assets/users/Jinzhu_Deakin/North_China_Plain/Sample_with_Landsat_Fourier_Normalized/Invarient_non_built_2014_2016',\n",
       " 'projects/earthengine-legacy/assets/users/Jinzhu_Deakin/North_China_Plain/Sample_with_Landsat_Fourier_Normalized/Invarient_non_built_2017_2019']"
>>>>>>> 53e1fe57ee979bf589d51f578c76e3df95779df3
      ]
     },
     "execution_count": 5,
     "metadata": {},
     "output_type": "execute_result"
    }
   ],
   "source": [
    "items = p.split('\\n')[2:-1]\n",
    "items"
   ]
  },
  {
   "cell_type": "code",
   "execution_count": null,
   "metadata": {},
   "outputs": [],
   "source": []
  },
  {
   "cell_type": "markdown",
   "metadata": {},
   "source": [
    "Grant access to another email for all objects in all_data"
   ]
  },
  {
   "cell_type": "code",
   "execution_count": null,
   "metadata": {},
   "outputs": [],
   "source": []
  },
  {
   "cell_type": "code",
   "execution_count": 6,
   "metadata": {},
   "outputs": [],
   "source": [
    "# judge weather the item is an object or a folder/collection\n",
    "\n",
    "all_data = []\n",
    "\n",
    "for item in items:\n",
    "    \n",
    "    # first using 'earthengine ls' command to get an median_result for later judgement\n",
    "    median_result = subprocess.run(    f'earthengine ls {item}',\n",
    "                                       shell = True,\n",
    "                                       stdout=PIPE, \n",
    "                                       stderr=PIPE,\n",
    "                                       universal_newlines=True).stdout.split('\\n')[2:-1]\n",
    "        \n",
    "        # if the item is a object, put it into the all_data list directly.\n",
    "    if 'is not a folder' in median_result[0]:\n",
    "        all_data.append(item)\n",
    "        \n",
    "        # if the item is a folder/collectioin, put the median result into the all_data list\n",
    "    else:\n",
    "        all_data.append(median_result)"
   ]
  },
  {
   "cell_type": "code",
   "execution_count": null,
   "metadata": {},
   "outputs": [],
   "source": []
  },
  {
   "cell_type": "code",
   "execution_count": 7,
   "metadata": {},
   "outputs": [
    {
     "data": {
      "text/plain": [
<<<<<<< HEAD
       "['projects/earthengine-legacy/assets/users/wang8052664/Cloud_Free_Img/Landsat_cloud_free_1987_1989',\n",
       " 'projects/earthengine-legacy/assets/users/wang8052664/Cloud_Free_Img/Landsat_cloud_free_1990_1992',\n",
       " 'projects/earthengine-legacy/assets/users/wang8052664/Cloud_Free_Img/Landsat_cloud_free_1993_1995',\n",
       " 'projects/earthengine-legacy/assets/users/wang8052664/Cloud_Free_Img/Landsat_cloud_free_1996_1998',\n",
       " 'projects/earthengine-legacy/assets/users/wang8052664/Cloud_Free_Img/Landsat_cloud_free_1999_2001',\n",
       " 'projects/earthengine-legacy/assets/users/wang8052664/Cloud_Free_Img/Landsat_cloud_free_2002_2004',\n",
       " 'projects/earthengine-legacy/assets/users/wang8052664/Cloud_Free_Img/Landsat_cloud_free_2005_2007',\n",
       " 'projects/earthengine-legacy/assets/users/wang8052664/Cloud_Free_Img/Landsat_cloud_free_2008_2010',\n",
       " 'projects/earthengine-legacy/assets/users/wang8052664/Cloud_Free_Img/Landsat_cloud_free_2011_2013',\n",
       " 'projects/earthengine-legacy/assets/users/wang8052664/Cloud_Free_Img/Landsat_cloud_free_2014_2016',\n",
       " 'projects/earthengine-legacy/assets/users/wang8052664/Cloud_Free_Img/Landsat_cloud_free_2017_2019']"
=======
       "['projects/earthengine-legacy/assets/users/Jinzhu_Deakin/North_China_Plain/Sample_with_Landsat_Fourier_Normalized/Verified_point_2005_2007_extract_Landsat_Fourier_Normalized_img',\n",
       " 'projects/earthengine-legacy/assets/users/Jinzhu_Deakin/North_China_Plain/Sample_with_Landsat_Fourier_Normalized/Verified_point_2008_2010_extract_Landsat_Fourier_Normalized_img',\n",
       " 'projects/earthengine-legacy/assets/users/Jinzhu_Deakin/North_China_Plain/Sample_with_Landsat_Fourier_Normalized/Verified_point_2011_2013_extract_Landsat_Fourier_Normalized_img',\n",
       " 'projects/earthengine-legacy/assets/users/Jinzhu_Deakin/North_China_Plain/Sample_with_Landsat_Fourier_Normalized/Verified_point_2014_2016_extract_Landsat_Fourier_Normalized_img',\n",
       " 'projects/earthengine-legacy/assets/users/Jinzhu_Deakin/North_China_Plain/Sample_with_Landsat_Fourier_Normalized/Verified_point_2017_2019_extract_Landsat_Fourier_Normalized_img',\n",
       " 'projects/earthengine-legacy/assets/users/Jinzhu_Deakin/North_China_Plain/Sample_with_Landsat_Fourier_Normalized/Village_point_1990_1992_extract_Landsat_Fourier_Normalized_img',\n",
       " 'projects/earthengine-legacy/assets/users/Jinzhu_Deakin/North_China_Plain/Sample_with_Landsat_Fourier_Normalized/Village_point_1993_1995_extract_Landsat_Fourier_Normalized_img',\n",
       " 'projects/earthengine-legacy/assets/users/Jinzhu_Deakin/North_China_Plain/Sample_with_Landsat_Fourier_Normalized/Village_point_1996_1998_extract_Landsat_Fourier_Normalized_img',\n",
       " 'projects/earthengine-legacy/assets/users/Jinzhu_Deakin/North_China_Plain/Sample_with_Landsat_Fourier_Normalized/Village_point_1999_2001_extract_Landsat_Fourier_Normalized_img',\n",
       " 'projects/earthengine-legacy/assets/users/Jinzhu_Deakin/North_China_Plain/Sample_with_Landsat_Fourier_Normalized/Village_point_2002_2004_extract_Landsat_Fourier_Normalized_img',\n",
       " 'projects/earthengine-legacy/assets/users/Jinzhu_Deakin/North_China_Plain/Sample_with_Landsat_Fourier_Normalized/Village_point_2005_2007_extract_Landsat_Fourier_Normalized_img',\n",
       " 'projects/earthengine-legacy/assets/users/Jinzhu_Deakin/North_China_Plain/Sample_with_Landsat_Fourier_Normalized/Village_point_2008_2010_extract_Landsat_Fourier_Normalized_img',\n",
       " 'projects/earthengine-legacy/assets/users/Jinzhu_Deakin/North_China_Plain/Sample_with_Landsat_Fourier_Normalized/Village_point_2011_2013_extract_Landsat_Fourier_Normalized_img',\n",
       " 'projects/earthengine-legacy/assets/users/Jinzhu_Deakin/North_China_Plain/Sample_with_Landsat_Fourier_Normalized/Village_point_2014_2016_extract_Landsat_Fourier_Normalized_img',\n",
       " 'projects/earthengine-legacy/assets/users/Jinzhu_Deakin/North_China_Plain/Sample_with_Landsat_Fourier_Normalized/Village_point_2017_2019_extract_Landsat_Fourier_Normalized_img',\n",
       " 'projects/earthengine-legacy/assets/users/Jinzhu_Deakin/North_China_Plain/Sample_with_Landsat_Fourier_Normalized/Zone_point_2005_2007_extract_Landsat_Fourier_Normalized_img',\n",
       " 'projects/earthengine-legacy/assets/users/Jinzhu_Deakin/North_China_Plain/Sample_with_Landsat_Fourier_Normalized/Zone_point_2008_2010_extract_Landsat_Fourier_Normalized_img',\n",
       " 'projects/earthengine-legacy/assets/users/Jinzhu_Deakin/North_China_Plain/Sample_with_Landsat_Fourier_Normalized/Zone_point_2011_2013_extract_Landsat_Fourier_Normalized_img',\n",
       " 'projects/earthengine-legacy/assets/users/Jinzhu_Deakin/North_China_Plain/Sample_with_Landsat_Fourier_Normalized/Zone_point_2014_2016_extract_Landsat_Fourier_Normalized_img',\n",
       " 'projects/earthengine-legacy/assets/users/Jinzhu_Deakin/North_China_Plain/Sample_with_Landsat_Fourier_Normalized/Zone_point_2017_2019_extract_Landsat_Fourier_Normalized_img']"
>>>>>>> 53e1fe57ee979bf589d51f578c76e3df95779df3
      ]
     },
     "execution_count": 7,
     "metadata": {},
     "output_type": "execute_result"
    }
   ],
   "source": [
    "# flatten the all_data list\n",
    "all_objects = []\n",
    "\n",
    "for i in all_data:\n",
    "    \n",
    "    if isinstance(i,list):\n",
    "        all_objects.extend(i)\n",
    "    else:\n",
    "        all_objects.append(i)\n",
    "\n",
    "all_objects"
   ]
  },
  {
   "cell_type": "code",
   "execution_count": null,
   "metadata": {},
   "outputs": [],
   "source": []
  },
  {
   "cell_type": "code",
   "execution_count": 8,
   "metadata": {},
   "outputs": [
    {
     "name": "stdout",
     "output_type": "stream",
     "text": [
<<<<<<< HEAD
      "Granting access projects/earthengine-legacy/assets/users/wang8052664/Cloud_Free_Img/Landsat_cloud_free_1987_1989 to public\n",
      "Granting access projects/earthengine-legacy/assets/users/wang8052664/Cloud_Free_Img/Landsat_cloud_free_1990_1992 to public\n",
      "Granting access projects/earthengine-legacy/assets/users/wang8052664/Cloud_Free_Img/Landsat_cloud_free_1993_1995 to public\n",
      "Granting access projects/earthengine-legacy/assets/users/wang8052664/Cloud_Free_Img/Landsat_cloud_free_1996_1998 to public\n",
      "Granting access projects/earthengine-legacy/assets/users/wang8052664/Cloud_Free_Img/Landsat_cloud_free_1999_2001 to public\n",
      "Granting access projects/earthengine-legacy/assets/users/wang8052664/Cloud_Free_Img/Landsat_cloud_free_2002_2004 to public\n",
      "Granting access projects/earthengine-legacy/assets/users/wang8052664/Cloud_Free_Img/Landsat_cloud_free_2005_2007 to public\n",
      "Granting access projects/earthengine-legacy/assets/users/wang8052664/Cloud_Free_Img/Landsat_cloud_free_2008_2010 to public\n",
      "Granting access projects/earthengine-legacy/assets/users/wang8052664/Cloud_Free_Img/Landsat_cloud_free_2011_2013 to public\n",
      "Granting access projects/earthengine-legacy/assets/users/wang8052664/Cloud_Free_Img/Landsat_cloud_free_2014_2016 to public\n",
      "Granting access projects/earthengine-legacy/assets/users/wang8052664/Cloud_Free_Img/Landsat_cloud_free_2017_2019 to public\n"
=======
      "Granting access projects/earthengine-legacy/assets/users/Jinzhu_Deakin/North_China_Plain/Sample_with_Landsat_Fourier_Normalized/Each_year_built_1990_1992 to public\n",
      "Granting access projects/earthengine-legacy/assets/users/Jinzhu_Deakin/North_China_Plain/Sample_with_Landsat_Fourier_Normalized/Each_year_built_1993_1995 to public\n",
      "Granting access projects/earthengine-legacy/assets/users/Jinzhu_Deakin/North_China_Plain/Sample_with_Landsat_Fourier_Normalized/Each_year_built_1996_1998 to public\n",
      "Granting access projects/earthengine-legacy/assets/users/Jinzhu_Deakin/North_China_Plain/Sample_with_Landsat_Fourier_Normalized/Each_year_built_1999_2001 to public\n",
      "Granting access projects/earthengine-legacy/assets/users/Jinzhu_Deakin/North_China_Plain/Sample_with_Landsat_Fourier_Normalized/Each_year_built_2002_2004 to public\n",
      "Granting access projects/earthengine-legacy/assets/users/Jinzhu_Deakin/North_China_Plain/Sample_with_Landsat_Fourier_Normalized/Each_year_built_2005_2007 to public\n",
      "Granting access projects/earthengine-legacy/assets/users/Jinzhu_Deakin/North_China_Plain/Sample_with_Landsat_Fourier_Normalized/Each_year_built_2008_2010 to public\n",
      "Granting access projects/earthengine-legacy/assets/users/Jinzhu_Deakin/North_China_Plain/Sample_with_Landsat_Fourier_Normalized/Each_year_built_2011_2013 to public\n",
      "Granting access projects/earthengine-legacy/assets/users/Jinzhu_Deakin/North_China_Plain/Sample_with_Landsat_Fourier_Normalized/Each_year_built_2014_2016 to public\n",
      "Granting access projects/earthengine-legacy/assets/users/Jinzhu_Deakin/North_China_Plain/Sample_with_Landsat_Fourier_Normalized/Each_year_built_2017_2019 to public\n",
      "Granting access projects/earthengine-legacy/assets/users/Jinzhu_Deakin/North_China_Plain/Sample_with_Landsat_Fourier_Normalized/Each_year_visual_check_2005_2007 to public\n",
      "Granting access projects/earthengine-legacy/assets/users/Jinzhu_Deakin/North_China_Plain/Sample_with_Landsat_Fourier_Normalized/Each_year_visual_check_2008_2010 to public\n",
      "Granting access projects/earthengine-legacy/assets/users/Jinzhu_Deakin/North_China_Plain/Sample_with_Landsat_Fourier_Normalized/Each_year_visual_check_2011_2013 to public\n",
      "Granting access projects/earthengine-legacy/assets/users/Jinzhu_Deakin/North_China_Plain/Sample_with_Landsat_Fourier_Normalized/Each_year_visual_check_2014_2016 to public\n",
      "Granting access projects/earthengine-legacy/assets/users/Jinzhu_Deakin/North_China_Plain/Sample_with_Landsat_Fourier_Normalized/Each_year_visual_check_2017_2019 to public\n",
      "Granting access projects/earthengine-legacy/assets/users/Jinzhu_Deakin/North_China_Plain/Sample_with_Landsat_Fourier_Normalized/Invarient_built_1990_1992 to public\n",
      "Granting access projects/earthengine-legacy/assets/users/Jinzhu_Deakin/North_China_Plain/Sample_with_Landsat_Fourier_Normalized/Invarient_built_1993_1995 to public\n",
      "Granting access projects/earthengine-legacy/assets/users/Jinzhu_Deakin/North_China_Plain/Sample_with_Landsat_Fourier_Normalized/Invarient_built_1996_1998 to public\n",
      "Granting access projects/earthengine-legacy/assets/users/Jinzhu_Deakin/North_China_Plain/Sample_with_Landsat_Fourier_Normalized/Invarient_built_1999_2001 to public\n",
      "Granting access projects/earthengine-legacy/assets/users/Jinzhu_Deakin/North_China_Plain/Sample_with_Landsat_Fourier_Normalized/Invarient_built_2002_2004 to public\n",
      "Granting access projects/earthengine-legacy/assets/users/Jinzhu_Deakin/North_China_Plain/Sample_with_Landsat_Fourier_Normalized/Invarient_built_2005_2007 to public\n",
      "Granting access projects/earthengine-legacy/assets/users/Jinzhu_Deakin/North_China_Plain/Sample_with_Landsat_Fourier_Normalized/Invarient_built_2008_2010 to public\n",
      "Granting access projects/earthengine-legacy/assets/users/Jinzhu_Deakin/North_China_Plain/Sample_with_Landsat_Fourier_Normalized/Invarient_built_2011_2013 to public\n",
      "Granting access projects/earthengine-legacy/assets/users/Jinzhu_Deakin/North_China_Plain/Sample_with_Landsat_Fourier_Normalized/Invarient_built_2014_2016 to public\n",
      "Granting access projects/earthengine-legacy/assets/users/Jinzhu_Deakin/North_China_Plain/Sample_with_Landsat_Fourier_Normalized/Invarient_built_2017_2019 to public\n",
      "Granting access projects/earthengine-legacy/assets/users/Jinzhu_Deakin/North_China_Plain/Sample_with_Landsat_Fourier_Normalized/Invarient_non_built_1990_1992 to public\n",
      "Granting access projects/earthengine-legacy/assets/users/Jinzhu_Deakin/North_China_Plain/Sample_with_Landsat_Fourier_Normalized/Invarient_non_built_1993_1995 to public\n",
      "Granting access projects/earthengine-legacy/assets/users/Jinzhu_Deakin/North_China_Plain/Sample_with_Landsat_Fourier_Normalized/Invarient_non_built_1996_1998 to public\n",
      "Granting access projects/earthengine-legacy/assets/users/Jinzhu_Deakin/North_China_Plain/Sample_with_Landsat_Fourier_Normalized/Invarient_non_built_1999_2001 to public\n",
      "Granting access projects/earthengine-legacy/assets/users/Jinzhu_Deakin/North_China_Plain/Sample_with_Landsat_Fourier_Normalized/Invarient_non_built_2002_2004 to public\n",
      "Granting access projects/earthengine-legacy/assets/users/Jinzhu_Deakin/North_China_Plain/Sample_with_Landsat_Fourier_Normalized/Invarient_non_built_2005_2007 to public\n",
      "Granting access projects/earthengine-legacy/assets/users/Jinzhu_Deakin/North_China_Plain/Sample_with_Landsat_Fourier_Normalized/Invarient_non_built_2008_2010 to public\n",
      "Granting access projects/earthengine-legacy/assets/users/Jinzhu_Deakin/North_China_Plain/Sample_with_Landsat_Fourier_Normalized/Invarient_non_built_2011_2013 to public\n",
      "Granting access projects/earthengine-legacy/assets/users/Jinzhu_Deakin/North_China_Plain/Sample_with_Landsat_Fourier_Normalized/Invarient_non_built_2014_2016 to public\n",
      "Granting access projects/earthengine-legacy/assets/users/Jinzhu_Deakin/North_China_Plain/Sample_with_Landsat_Fourier_Normalized/Invarient_non_built_2017_2019 to public\n"
>>>>>>> 53e1fe57ee979bf589d51f578c76e3df95779df3
     ]
    }
   ],
   "source": [
    "# grant data access to public\n",
    "\n",
    "for obj in all_objects:\n",
    "    \n",
    "    subprocess.run(f'earthengine acl set public {obj}',\n",
    "                               shell = True,\n",
    "                               stdout=PIPE, \n",
    "                               stderr=PIPE,\n",
    "                               universal_newlines=True)\n",
    "    # print out the process\n",
    "    print(f'Granting access {obj} to public')"
   ]
  },
  {
   "cell_type": "code",
   "execution_count": null,
   "metadata": {},
   "outputs": [],
   "source": []
  },
  {
   "cell_type": "code",
   "execution_count": null,
   "metadata": {},
   "outputs": [],
   "source": []
  }
 ],
 "metadata": {
  "kernelspec": {
   "display_name": "Python 3",
   "language": "python",
   "name": "python3"
  },
  "language_info": {
   "codemirror_mode": {
    "name": "ipython",
    "version": 3
   },
   "file_extension": ".py",
   "mimetype": "text/x-python",
   "name": "python",
   "nbconvert_exporter": "python",
   "pygments_lexer": "ipython3",
   "version": "3.8.2"
  }
 },
 "nbformat": 4,
 "nbformat_minor": 4
}
