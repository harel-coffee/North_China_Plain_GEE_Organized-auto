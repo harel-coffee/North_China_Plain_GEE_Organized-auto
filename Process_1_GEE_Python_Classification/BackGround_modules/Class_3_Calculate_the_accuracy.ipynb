{
 "cells": [
  {
   "cell_type": "code",
   "execution_count": 1,
   "metadata": {},
   "outputs": [],
   "source": [
    "import ee\n",
    "import datetime\n",
    "import folium\n",
    "import os\n",
    "from pprint import pprint\n",
    "import pandas as pd\n",
    "import numpy as np\n",
    "import seaborn as sns\n",
    "import matplotlib.pyplot as plt"
   ]
  },
  {
   "cell_type": "code",
   "execution_count": 2,
   "metadata": {},
   "outputs": [],
   "source": [
    "ee.Initialize()"
   ]
  },
  {
   "cell_type": "code",
   "execution_count": 2,
   "metadata": {},
   "outputs": [],
   "source": [
    "class Accuracy_assesment:\n",
    "    '''This class calculate the accuracy index of sample features.\n",
    "    \n",
    "    For input:1) classified_samples should have attributes of ['Built'],and ['classification'] \n",
    "                 or defined as [True_val] and [Pre_val]   \n",
    "    \n",
    "    For output: 1) the output is a dictionary like\n",
    "                                   {'Overall_ACC': 76.71,\n",
    "                                     'Precisioin_non_built': 76.42,\n",
    "                                     'Precisioin_built': 76.98,\n",
    "                                     'Recall_non_built': 76.44,\n",
    "                                     'Recall_built': 76.97}\n",
    "                     \n",
    "    Below is an example to calculate a collection of accuracies.\n",
    "    _______________________________________________________\n",
    "    # Define the list to hold accuracy.\n",
    "    Train_sample_acc = []\n",
    "    Train_sample_supply_acc = []\n",
    "\n",
    "    Test_sample_acc = []\n",
    "    Test_sample_supply_acc = []\n",
    "\n",
    "    # Calculate the accuracy of tree-number in range [1-10]\n",
    "    for i in range(1,11):\n",
    "    \n",
    "        # define the tree number\n",
    "        number = str(i).zfill(3)\n",
    "\n",
    "        # fetch the samples\n",
    "        train_sample_classification = ee.FeatureCollection('users/wangjinzhulala/North_China_Plain_Python/Test_samples/Single_year_all_index_Train_2017_2019_tree_' + number)    \n",
    "        trian_supply_sample_classification = ee.FeatureCollection('users/wangjinzhulala/North_China_Plain_Python/Test_samples/Single_year_all_index_Train_supply_2017_2019_tree_'+ number)\n",
    "\n",
    "        test_sample_classification = ee.FeatureCollection('users/wangjinzhulala/North_China_Plain_Python/Test_samples/Single_year_all_index_Test_2017_2019_tree_' + number)\n",
    "        test_supply_sample_classification = ee.FeatureCollection('users/wangjinzhulala/North_China_Plain_Python/Test_samples/Single_year_all_index_Test_supply_2017_2019_tree_'+ number)\n",
    "\n",
    "        # put accuracy into list.\n",
    "        Train_sample_acc.append(Accuracy_assesment(train_sample_classification,number).Stp_1_Calculate_Accuracy())\n",
    "        Train_sample_supply_acc.append(Accuracy_assesment(trian_supply_sample_classification,number).Stp_1_Calculate_Accuracy())\n",
    "\n",
    "        Test_sample_acc.append(Accuracy_assesment(test_sample_classification,number).Stp_1_Calculate_Accuracy())\n",
    "        Test_sample_supply_acc.append(Accuracy_assesment(test_supply_sample_classification,number).Stp_1_Calculate_Accuracy())\n",
    "    _______________________________________________________\n",
    "    \n",
    "    '''\n",
    "    def __init__(self,classified_samples,True_val ='Built',Pre_val = 'classification'):\n",
    "        \n",
    "        self.True_val = True_val\n",
    "        self.Pre_val = Pre_val\n",
    "        \n",
    "        self.error_matrix = classified_samples.errorMatrix(True_val,Pre_val).getInfo()\n",
    "        \n",
    "        \n",
    "    def Stp_1_Calculate_Accuracy(self):\n",
    "    \n",
    "        overall_acc =  np.diag(self.error_matrix).sum()/np.sum(self.error_matrix)\n",
    "        precision_acc = np.diag(self.error_matrix)/np.sum(self.error_matrix,axis=0)\n",
    "        recall_acc = np.diag(self.error_matrix)/np.sum(self.error_matrix,axis=1)\n",
    "\n",
    "        \n",
    "        value_concat = {'Overall_ACC':round(overall_acc*100,2),\n",
    "                        'Precisioin_non_built':round(precision_acc[0]*100,2),\n",
    "                        'Precisioin_built':round(precision_acc[1]*100,2),\\\n",
    "                        'Recall_non_built':round(recall_acc[0]*100,2),\n",
    "                        'Recall_built':round(recall_acc[1]*100,2)}\n",
    "               \n",
    "        return value_concat\n",
    "        \n",
    "        "
   ]
  },
  {
   "cell_type": "code",
   "execution_count": null,
   "metadata": {},
   "outputs": [],
   "source": []
  },
  {
   "cell_type": "code",
   "execution_count": null,
   "metadata": {},
   "outputs": [],
   "source": []
  },
  {
   "cell_type": "code",
   "execution_count": null,
   "metadata": {},
   "outputs": [],
   "source": []
  },
  {
   "cell_type": "code",
   "execution_count": null,
   "metadata": {},
   "outputs": [],
   "source": []
  }
 ],
 "metadata": {
  "kernelspec": {
   "display_name": "Python 3",
   "language": "python",
   "name": "python3"
  },
  "language_info": {
   "codemirror_mode": {
    "name": "ipython",
    "version": 3
   },
   "file_extension": ".py",
   "mimetype": "text/x-python",
   "name": "python",
   "nbconvert_exporter": "python",
   "pygments_lexer": "ipython3",
   "version": "3.7.3"
  }
 },
 "nbformat": 4,
 "nbformat_minor": 2
}
