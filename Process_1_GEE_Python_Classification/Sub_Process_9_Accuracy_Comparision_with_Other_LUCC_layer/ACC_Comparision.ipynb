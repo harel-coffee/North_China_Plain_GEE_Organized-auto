{
 "cells": [
  {
   "cell_type": "code",
   "execution_count": 1,
   "metadata": {},
   "outputs": [],
   "source": [
    "import ee\n",
    "import datetime\n",
    "import os\n",
    "import itertools\n",
    "import sys\n",
    "import re\n",
    "\n",
    "import pandas as pd\n",
    "import numpy as np\n",
    "\n",
    "import seaborn as sns\n",
    "import matplotlib.pyplot as plt\n",
    "\n",
    "import geemap\n",
    "\n",
    "import subprocess\n",
    "from subprocess import PIPE"
   ]
  },
  {
   "cell_type": "code",
   "execution_count": 2,
   "metadata": {},
   "outputs": [],
   "source": [
    "ee.Initialize()"
   ]
  },
  {
   "cell_type": "code",
   "execution_count": 3,
   "metadata": {},
   "outputs": [],
   "source": [
    "# append upper folder into sys-path during run time so we can\n",
    "# import our own moduls\n",
    "sys.path.append('..')"
   ]
  },
  {
   "cell_type": "code",
   "execution_count": 4,
   "metadata": {},
   "outputs": [],
   "source": [
    "from BackGround_modules.Class_2_Classify_Fourier_Img   import Classification\n",
    "from BackGround_modules.Class_3_Calculate_the_accuracy import Accuracy_assesment"
   ]
  },
  {
   "cell_type": "code",
   "execution_count": null,
   "metadata": {},
   "outputs": [],
   "source": []
  },
  {
   "cell_type": "markdown",
   "metadata": {},
   "source": [
    "##### Define basic data"
   ]
  },
  {
   "cell_type": "code",
   "execution_count": 5,
   "metadata": {},
   "outputs": [],
   "source": [
    "# define the years to be classified\n",
    "year_name  = list([f'{span[0]}_{span[1]}' for span in zip(range(1990,2020,3),range(1992,2020,3)) ])\n",
    "\n",
    "# import north_china_plain boundary\n",
    "North_China_Plain = ee.FeatureCollection(\"users/wangjinzhulala/North_China_Plain_Python/Boundary_shp/North_China_Plain_Boundary\")"
   ]
  },
  {
   "cell_type": "code",
   "execution_count": null,
   "metadata": {},
   "outputs": [],
   "source": []
  },
  {
   "cell_type": "code",
   "execution_count": 6,
   "metadata": {},
   "outputs": [],
   "source": [
    "# Fetch the control samples\n",
    "Control_sample = ee.FeatureCollection(\"users/wangjinzhulala/North_China_Plain_Python/Sample_Points/Control_points\")"
   ]
  },
  {
   "cell_type": "code",
   "execution_count": null,
   "metadata": {},
   "outputs": [],
   "source": []
  },
  {
   "cell_type": "markdown",
   "metadata": {},
   "source": [
    "#### Calculate the accuracy of GAIA datasets"
   ]
  },
  {
   "cell_type": "code",
   "execution_count": 7,
   "metadata": {},
   "outputs": [],
   "source": [
    "GAIA = ee.Image(\"users/wangjinzhulala/Gloable_Imprevious_area\").clip(North_China_Plain)"
   ]
  },
  {
   "cell_type": "code",
   "execution_count": null,
   "metadata": {},
   "outputs": [],
   "source": []
  },
  {
   "cell_type": "code",
   "execution_count": 8,
   "metadata": {},
   "outputs": [],
   "source": [
    "# link the year with its pixel value\n",
    "GAIA_year = range(1985,2019)\n",
    "GAIA_value   = range(34,0,-1)\n",
    "GAIA_year_value = {i[0]:i[1] for i in zip(GAIA_year,GAIA_value)}\n",
    "\n",
    "# difine the end years for this research\n",
    "Fourier_end_years = list(range(1992,2018,3)) + [2018]"
   ]
  },
  {
   "cell_type": "code",
   "execution_count": null,
   "metadata": {},
   "outputs": [],
   "source": []
  },
  {
   "cell_type": "code",
   "execution_count": 9,
   "metadata": {},
   "outputs": [
    {
     "name": "stdout",
     "output_type": "stream",
     "text": [
      "Accuracy computation of 1992 complete!\n",
      "Accuracy computation of 1995 complete!\n",
      "Accuracy computation of 1998 complete!\n",
      "Accuracy computation of 2001 complete!\n",
      "Accuracy computation of 2004 complete!\n",
      "Accuracy computation of 2007 complete!\n",
      "Accuracy computation of 2010 complete!\n",
      "Accuracy computation of 2013 complete!\n",
      "Accuracy computation of 2016 complete!\n",
      "Accuracy computation of 2018 complete!\n"
     ]
    }
   ],
   "source": [
    "GAIA_acc = {}\n",
    "\n",
    "for i,end_year in enumerate(Fourier_end_years):\n",
    "    \n",
    "    \n",
    "    # get the pixel value of coresponded end_year\n",
    "    # rename the GAIA to 'classificaiton' so that the name\n",
    "    # is consistent with the Accuracy_assessment module\n",
    "    GAIA_pixel_value = GAIA_year_value[end_year]\n",
    "    \n",
    "    # conver pixel value greater than GAIA_pixel_value to 0,other pixel to 1\n",
    "    # so we get all target-year pixel with value 1\n",
    "    GAIA_within_year = GAIA.gt(GAIA_pixel_value).rename('classification')\n",
    "    \n",
    "    # extract reclassified GAIA pixel value to test_sample\n",
    "    test_with_GAIA = GAIA_within_year.sampleRegions(collection = Control_sample, \n",
    "                                                    properties = ['Built'], \n",
    "                                                    scale      = 30)\n",
    "    # compute the accuracy \n",
    "    GAIA_acc[end_year] = Accuracy_assesment(test_with_GAIA).Stp_1_Calculate_Accuracy()\n",
    "    \n",
    "    # print out the process\n",
    "    print(f'Accuracy computation of {end_year} complete!')\n",
    "    "
   ]
  },
  {
   "cell_type": "code",
   "execution_count": null,
   "metadata": {},
   "outputs": [],
   "source": []
  },
  {
   "cell_type": "code",
   "execution_count": 10,
   "metadata": {},
   "outputs": [],
   "source": [
    "# Formatting the GAIA_accuracy dataframe\n",
    "GAIA_acc_df = pd.DataFrame(GAIA_acc).T\n",
    "GAIA_acc_df.index.name = 'End_year'"
   ]
  },
  {
   "cell_type": "code",
   "execution_count": null,
   "metadata": {},
   "outputs": [],
   "source": []
  },
  {
   "cell_type": "markdown",
   "metadata": {},
   "source": [
    "##### Save the acc_df to local disk"
   ]
  },
  {
   "cell_type": "code",
   "execution_count": null,
   "metadata": {},
   "outputs": [],
   "source": []
  },
  {
   "cell_type": "code",
   "execution_count": 11,
   "metadata": {},
   "outputs": [],
   "source": [
    "# # reset index so can drwo them togeter\n",
    "# GAIA_acc_df.reset_index(inplace=True)\n",
    "\n",
    "# # save the GAIA_acc to disk\n",
    "# GAIA_acc_df.to_csv('ACC_Result/GAIA_accuracy.csv',index=False)\n",
    "\n",
    "# read acc_df\n",
    "GAIA_acc_df = pd.read_csv('ACC_Result/GAIA_accuracy.csv',index_col=0)\n",
    "GAIA_acc_df.reset_index(inplace=True)\n",
    "\n",
    "My_acc_df = pd.read_csv('../Sub_Process_7_Classification_on_img/Result/Classification_Accuracy.csv')\n",
    "My_acc_df.index = [np.repeat(Fourier_end_years,len(year_name))]\n",
    "My_acc_df.reset_index(inplace=True)\n",
    "\n",
    "# get the classification accuracy of this research\n",
    "GAIA_acc_df['explode'] = [[0] * 10] * 10\n",
    "GAIA_acc_df = GAIA_acc_df.explode('explode')\n",
    "GAIA_acc_df.reset_index(inplace=True,drop=True)"
   ]
  },
  {
   "cell_type": "code",
   "execution_count": null,
   "metadata": {},
   "outputs": [],
   "source": []
  },
  {
   "cell_type": "code",
   "execution_count": null,
   "metadata": {},
   "outputs": [],
   "source": []
  },
  {
   "cell_type": "code",
   "execution_count": 12,
   "metadata": {},
   "outputs": [
    {
     "data": {
      "text/plain": [
       "<matplotlib.axes._subplots.AxesSubplot at 0x21b4e716748>"
      ]
     },
     "execution_count": 12,
     "metadata": {},
     "output_type": "execute_result"
    },
    {
     "data": {
      "image/png": "[encoded data removed]",
      "text/plain": [
       "<Figure size 432x288 with 1 Axes>"
      ]
     },
     "metadata": {
      "needs_background": "light"
     },
     "output_type": "display_data"
    }
   ],
   "source": [
    "sns.lineplot(data=GAIA_acc_df,x ='End_year', y ='Overall_ACC',label='This')\n",
    "sns.lineplot(data=My_acc_df  ,x ='level_0',  y ='Overall_ACC',label='GAIA')"
   ]
  },
  {
   "cell_type": "code",
   "execution_count": null,
   "metadata": {},
   "outputs": [],
   "source": []
  },
  {
   "cell_type": "code",
   "execution_count": null,
   "metadata": {},
   "outputs": [],
   "source": []
  },
  {
   "cell_type": "code",
   "execution_count": null,
   "metadata": {},
   "outputs": [],
   "source": []
  },
  {
   "cell_type": "code",
   "execution_count": null,
   "metadata": {},
   "outputs": [],
   "source": []
  },
  {
   "cell_type": "code",
   "execution_count": null,
   "metadata": {},
   "outputs": [],
   "source": []
  },
  {
   "cell_type": "code",
   "execution_count": null,
   "metadata": {},
   "outputs": [],
   "source": []
  },
  {
   "cell_type": "code",
   "execution_count": null,
   "metadata": {},
   "outputs": [],
   "source": []
  },
  {
   "cell_type": "code",
   "execution_count": null,
   "metadata": {},
   "outputs": [],
   "source": []
  }
 ],
 "metadata": {
  "kernelspec": {
   "display_name": "Python 3",
   "language": "python",
   "name": "python3"
  },
  "language_info": {
   "codemirror_mode": {
    "name": "ipython",
    "version": 3
   },
   "file_extension": ".py",
   "mimetype": "text/x-python",
   "name": "python",
   "nbconvert_exporter": "python",
   "pygments_lexer": "ipython3",
   "version": "3.7.3"
  }
 },
 "nbformat": 4,
 "nbformat_minor": 2
}
