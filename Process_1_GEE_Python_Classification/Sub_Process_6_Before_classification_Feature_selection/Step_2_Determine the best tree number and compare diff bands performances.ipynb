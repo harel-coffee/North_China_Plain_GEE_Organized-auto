{
 "cells": [
  {
   "cell_type": "code",
   "execution_count": 2,
   "metadata": {},
   "outputs": [],
   "source": [
    "import pandas as pd\n",
    "import seaborn as sns\n",
    "import numpy as np\n",
    "\n",
    "import matplotlib.pyplot as plt\n",
    "\n",
    "from sklearn.ensemble import RandomForestClassifier\n",
    "from sklearn.model_selection import GridSearchCV\n",
    "\n",
    "import re"
   ]
  },
  {
   "cell_type": "code",
   "execution_count": null,
   "metadata": {},
   "outputs": [],
   "source": []
  },
  {
   "cell_type": "markdown",
   "metadata": {},
   "source": [
    "##### Read features as dataframes"
   ]
  },
  {
   "cell_type": "code",
   "execution_count": 2,
   "metadata": {},
   "outputs": [],
   "source": [
    "year_range = [f'{i}_{i+2}' for i in range(1990,2020,3)]"
   ]
  },
  {
   "cell_type": "code",
   "execution_count": 3,
   "metadata": {},
   "outputs": [],
   "source": [
    "year_name = [f'Landsat_{year}' for year in year_range[:-2]] + [f'Sentinel_{year}' for year in year_range[-2:]]"
   ]
  },
  {
   "cell_type": "code",
   "execution_count": null,
   "metadata": {},
   "outputs": [],
   "source": []
  },
  {
   "cell_type": "code",
   "execution_count": 4,
   "metadata": {},
   "outputs": [],
   "source": [
    "# import the points with image values \n",
    "feature_df = [pd.read_csv(f'./Data/{name}.csv') for name in year_name]\n",
    "\n",
    "# merge all pt_with_img and remove unnecessary columns\n",
    "feature_df = [fe.drop(['system:index','.geo','split'],axis=1) for fe in feature_df]"
   ]
  },
  {
   "cell_type": "code",
   "execution_count": null,
   "metadata": {},
   "outputs": [],
   "source": []
  },
  {
   "cell_type": "markdown",
   "metadata": {},
   "source": [
    "##### train_test_split and apply randomforest_classifier"
   ]
  },
  {
   "cell_type": "code",
   "execution_count": null,
   "metadata": {},
   "outputs": [],
   "source": []
  },
  {
   "cell_type": "code",
   "execution_count": 12,
   "metadata": {
    "scrolled": true
   },
   "outputs": [
    {
     "name": "stdout",
     "output_type": "stream",
     "text": [
      "Fitting 4 folds for each of 119 candidates, totalling 476 fits\n"
     ]
    },
    {
     "name": "stderr",
     "output_type": "stream",
     "text": [
      "[Parallel(n_jobs=-1)]: Using backend LokyBackend with 8 concurrent workers.\n",
      "[Parallel(n_jobs=-1)]: Done  25 tasks      | elapsed:    3.6s\n",
      "[Parallel(n_jobs=-1)]: Done 146 tasks      | elapsed:    7.7s\n",
      "[Parallel(n_jobs=-1)]: Done 349 tasks      | elapsed:   26.2s\n",
      "[Parallel(n_jobs=-1)]: Done 476 out of 476 | elapsed:   44.1s finished\n"
     ]
    },
    {
     "name": "stdout",
     "output_type": "stream",
     "text": [
      "Spectrum_1990_1992\n",
      "___________________________________\n",
      "\n",
      "Fitting 4 folds for each of 119 candidates, totalling 476 fits\n"
     ]
    },
    {
     "name": "stderr",
     "output_type": "stream",
     "text": [
      "[Parallel(n_jobs=-1)]: Using backend LokyBackend with 8 concurrent workers.\n",
      "[Parallel(n_jobs=-1)]: Done  34 tasks      | elapsed:    0.3s\n",
      "[Parallel(n_jobs=-1)]: Done 258 tasks      | elapsed:   14.2s\n",
      "[Parallel(n_jobs=-1)]: Done 461 tasks      | elapsed:   44.1s\n",
      "[Parallel(n_jobs=-1)]: Done 476 out of 476 | elapsed:   46.8s finished\n"
     ]
    },
    {
     "name": "stdout",
     "output_type": "stream",
     "text": [
      "Spectrum_Normalize_1990_1992\n",
      "___________________________________\n",
      "\n",
      "Fitting 4 folds for each of 119 candidates, totalling 476 fits\n"
     ]
    },
    {
     "name": "stderr",
     "output_type": "stream",
     "text": [
      "[Parallel(n_jobs=-1)]: Using backend LokyBackend with 8 concurrent workers.\n",
      "[Parallel(n_jobs=-1)]: Done  34 tasks      | elapsed:    0.7s\n",
      "[Parallel(n_jobs=-1)]: Done 202 tasks      | elapsed:   17.3s\n",
      "[Parallel(n_jobs=-1)]: Done 405 tasks      | elapsed:  1.1min\n",
      "[Parallel(n_jobs=-1)]: Done 476 out of 476 | elapsed:  1.5min finished\n"
     ]
    },
    {
     "name": "stdout",
     "output_type": "stream",
     "text": [
      "Spectrum_Normalize_Fourier_1990_1992\n",
      "___________________________________\n",
      "\n",
      "Fitting 4 folds for each of 119 candidates, totalling 476 fits\n"
     ]
    },
    {
     "name": "stderr",
     "output_type": "stream",
     "text": [
      "[Parallel(n_jobs=-1)]: Using backend LokyBackend with 8 concurrent workers.\n",
      "[Parallel(n_jobs=-1)]: Done  34 tasks      | elapsed:    0.7s\n",
      "[Parallel(n_jobs=-1)]: Done 202 tasks      | elapsed:   19.2s\n",
      "[Parallel(n_jobs=-1)]: Done 405 tasks      | elapsed:  1.2min\n",
      "[Parallel(n_jobs=-1)]: Done 476 out of 476 | elapsed:  1.6min finished\n"
     ]
    },
    {
     "name": "stdout",
     "output_type": "stream",
     "text": [
      "Spectrum_Normalize_Fourier_Terrain_1990_1992\n",
      "___________________________________\n",
      "\n",
      "Fitting 4 folds for each of 119 candidates, totalling 476 fits\n"
     ]
    },
    {
     "name": "stderr",
     "output_type": "stream",
     "text": [
      "[Parallel(n_jobs=-1)]: Using backend LokyBackend with 8 concurrent workers.\n",
      "[Parallel(n_jobs=-1)]: Done  34 tasks      | elapsed:    0.9s\n",
      "[Parallel(n_jobs=-1)]: Done 194 tasks      | elapsed:   19.4s\n",
      "[Parallel(n_jobs=-1)]: Done 397 tasks      | elapsed:  1.4min\n",
      "[Parallel(n_jobs=-1)]: Done 476 out of 476 | elapsed:  2.0min finished\n"
     ]
    },
    {
     "name": "stdout",
     "output_type": "stream",
     "text": [
      "Spectrum_Normalize_Fourier_Terrain_Meterology_1990_1992\n",
      "___________________________________\n",
      "\n",
      "Fitting 4 folds for each of 119 candidates, totalling 476 fits\n"
     ]
    },
    {
     "name": "stderr",
     "output_type": "stream",
     "text": [
      "[Parallel(n_jobs=-1)]: Using backend LokyBackend with 8 concurrent workers.\n",
      "[Parallel(n_jobs=-1)]: Done  34 tasks      | elapsed:    0.3s\n",
      "[Parallel(n_jobs=-1)]: Done 258 tasks      | elapsed:   13.5s\n",
      "[Parallel(n_jobs=-1)]: Done 461 tasks      | elapsed:   42.0s\n",
      "[Parallel(n_jobs=-1)]: Done 476 out of 476 | elapsed:   44.3s finished\n"
     ]
    },
    {
     "name": "stdout",
     "output_type": "stream",
     "text": [
      "Spectrum_1993_1995\n",
      "___________________________________\n",
      "\n",
      "Fitting 4 folds for each of 119 candidates, totalling 476 fits\n"
     ]
    },
    {
     "name": "stderr",
     "output_type": "stream",
     "text": [
      "[Parallel(n_jobs=-1)]: Using backend LokyBackend with 8 concurrent workers.\n",
      "[Parallel(n_jobs=-1)]: Done  34 tasks      | elapsed:    0.4s\n",
      "[Parallel(n_jobs=-1)]: Done 258 tasks      | elapsed:   16.4s\n",
      "[Parallel(n_jobs=-1)]: Done 461 tasks      | elapsed:   50.6s\n",
      "[Parallel(n_jobs=-1)]: Done 476 out of 476 | elapsed:   53.3s finished\n"
     ]
    },
    {
     "name": "stdout",
     "output_type": "stream",
     "text": [
      "Spectrum_Normalize_1993_1995\n",
      "___________________________________\n",
      "\n",
      "Fitting 4 folds for each of 119 candidates, totalling 476 fits\n"
     ]
    },
    {
     "name": "stderr",
     "output_type": "stream",
     "text": [
      "[Parallel(n_jobs=-1)]: Using backend LokyBackend with 8 concurrent workers.\n",
      "[Parallel(n_jobs=-1)]: Done  34 tasks      | elapsed:    0.8s\n",
      "[Parallel(n_jobs=-1)]: Done 194 tasks      | elapsed:   18.8s\n",
      "[Parallel(n_jobs=-1)]: Done 397 tasks      | elapsed:  1.2min\n",
      "[Parallel(n_jobs=-1)]: Done 476 out of 476 | elapsed:  1.7min finished\n"
     ]
    },
    {
     "name": "stdout",
     "output_type": "stream",
     "text": [
      "Spectrum_Normalize_Fourier_1993_1995\n",
      "___________________________________\n",
      "\n",
      "Fitting 4 folds for each of 119 candidates, totalling 476 fits\n"
     ]
    },
    {
     "name": "stderr",
     "output_type": "stream",
     "text": [
      "[Parallel(n_jobs=-1)]: Using backend LokyBackend with 8 concurrent workers.\n",
      "[Parallel(n_jobs=-1)]: Done  34 tasks      | elapsed:    0.9s\n",
      "[Parallel(n_jobs=-1)]: Done 194 tasks      | elapsed:   18.3s\n",
      "[Parallel(n_jobs=-1)]: Done 397 tasks      | elapsed:  1.2min\n",
      "[Parallel(n_jobs=-1)]: Done 476 out of 476 | elapsed:  1.7min finished\n"
     ]
    },
    {
     "name": "stdout",
     "output_type": "stream",
     "text": [
      "Spectrum_Normalize_Fourier_Terrain_1993_1995\n",
      "___________________________________\n",
      "\n",
      "Fitting 4 folds for each of 119 candidates, totalling 476 fits\n"
     ]
    },
    {
     "name": "stderr",
     "output_type": "stream",
     "text": [
      "[Parallel(n_jobs=-1)]: Using backend LokyBackend with 8 concurrent workers.\n",
      "[Parallel(n_jobs=-1)]: Done  34 tasks      | elapsed:    1.0s\n",
      "[Parallel(n_jobs=-1)]: Done 194 tasks      | elapsed:   22.0s\n",
      "[Parallel(n_jobs=-1)]: Done 397 tasks      | elapsed:  1.5min\n",
      "[Parallel(n_jobs=-1)]: Done 476 out of 476 | elapsed:  2.0min finished\n"
     ]
    },
    {
     "name": "stdout",
     "output_type": "stream",
     "text": [
      "Spectrum_Normalize_Fourier_Terrain_Meterology_1993_1995\n",
      "___________________________________\n",
      "\n",
      "Fitting 4 folds for each of 119 candidates, totalling 476 fits\n"
     ]
    },
    {
     "name": "stderr",
     "output_type": "stream",
     "text": [
      "[Parallel(n_jobs=-1)]: Using backend LokyBackend with 8 concurrent workers.\n",
      "[Parallel(n_jobs=-1)]: Done  34 tasks      | elapsed:    0.2s\n",
      "[Parallel(n_jobs=-1)]: Done 282 tasks      | elapsed:   14.9s\n",
      "[Parallel(n_jobs=-1)]: Done 476 out of 476 | elapsed:   40.8s finished\n"
     ]
    },
    {
     "name": "stdout",
     "output_type": "stream",
     "text": [
      "Spectrum_1996_1998\n",
      "___________________________________\n",
      "\n",
      "Fitting 4 folds for each of 119 candidates, totalling 476 fits\n"
     ]
    },
    {
     "name": "stderr",
     "output_type": "stream",
     "text": [
      "[Parallel(n_jobs=-1)]: Using backend LokyBackend with 8 concurrent workers.\n",
      "[Parallel(n_jobs=-1)]: Done  34 tasks      | elapsed:    0.3s\n",
      "[Parallel(n_jobs=-1)]: Done 258 tasks      | elapsed:   13.6s\n",
      "[Parallel(n_jobs=-1)]: Done 461 tasks      | elapsed:   45.5s\n",
      "[Parallel(n_jobs=-1)]: Done 476 out of 476 | elapsed:   48.4s finished\n"
     ]
    },
    {
     "name": "stdout",
     "output_type": "stream",
     "text": [
      "Spectrum_Normalize_1996_1998\n",
      "___________________________________\n",
      "\n",
      "Fitting 4 folds for each of 119 candidates, totalling 476 fits\n"
     ]
    },
    {
     "name": "stderr",
     "output_type": "stream",
     "text": [
      "[Parallel(n_jobs=-1)]: Using backend LokyBackend with 8 concurrent workers.\n",
      "[Parallel(n_jobs=-1)]: Done  34 tasks      | elapsed:    0.8s\n",
      "[Parallel(n_jobs=-1)]: Done 194 tasks      | elapsed:   18.7s\n",
      "[Parallel(n_jobs=-1)]: Done 397 tasks      | elapsed:  1.2min\n",
      "[Parallel(n_jobs=-1)]: Done 476 out of 476 | elapsed:  1.6min finished\n"
     ]
    },
    {
     "name": "stdout",
     "output_type": "stream",
     "text": [
      "Spectrum_Normalize_Fourier_1996_1998\n",
      "___________________________________\n",
      "\n",
      "Fitting 4 folds for each of 119 candidates, totalling 476 fits\n"
     ]
    },
    {
     "name": "stderr",
     "output_type": "stream",
     "text": [
      "[Parallel(n_jobs=-1)]: Using backend LokyBackend with 8 concurrent workers.\n",
      "[Parallel(n_jobs=-1)]: Done  34 tasks      | elapsed:    0.8s\n",
      "[Parallel(n_jobs=-1)]: Done 202 tasks      | elapsed:   18.5s\n",
      "[Parallel(n_jobs=-1)]: Done 405 tasks      | elapsed:  1.2min\n",
      "[Parallel(n_jobs=-1)]: Done 476 out of 476 | elapsed:  1.6min finished\n"
     ]
    },
    {
     "name": "stdout",
     "output_type": "stream",
     "text": [
      "Spectrum_Normalize_Fourier_Terrain_1996_1998\n",
      "___________________________________\n",
      "\n",
      "Fitting 4 folds for each of 119 candidates, totalling 476 fits\n"
     ]
    },
    {
     "name": "stderr",
     "output_type": "stream",
     "text": [
      "[Parallel(n_jobs=-1)]: Using backend LokyBackend with 8 concurrent workers.\n",
      "[Parallel(n_jobs=-1)]: Done  34 tasks      | elapsed:    1.2s\n",
      "[Parallel(n_jobs=-1)]: Done 186 tasks      | elapsed:   20.1s\n",
      "[Parallel(n_jobs=-1)]: Done 389 tasks      | elapsed:  1.4min\n",
      "[Parallel(n_jobs=-1)]: Done 476 out of 476 | elapsed:  2.1min finished\n"
     ]
    },
    {
     "name": "stdout",
     "output_type": "stream",
     "text": [
      "Spectrum_Normalize_Fourier_Terrain_Meterology_1996_1998\n",
      "___________________________________\n",
      "\n",
      "Fitting 4 folds for each of 119 candidates, totalling 476 fits\n"
     ]
    },
    {
     "name": "stderr",
     "output_type": "stream",
     "text": [
      "[Parallel(n_jobs=-1)]: Using backend LokyBackend with 8 concurrent workers.\n",
      "[Parallel(n_jobs=-1)]: Done  36 tasks      | elapsed:    0.3s\n",
      "[Parallel(n_jobs=-1)]: Done 283 tasks      | elapsed:   14.9s\n",
      "[Parallel(n_jobs=-1)]: Done 476 out of 476 | elapsed:   42.6s finished\n"
     ]
    },
    {
     "name": "stdout",
     "output_type": "stream",
     "text": [
      "Spectrum_1999_2001\n",
      "___________________________________\n",
      "\n",
      "Fitting 4 folds for each of 119 candidates, totalling 476 fits\n"
     ]
    },
    {
     "name": "stderr",
     "output_type": "stream",
     "text": [
      "[Parallel(n_jobs=-1)]: Using backend LokyBackend with 8 concurrent workers.\n",
      "[Parallel(n_jobs=-1)]: Done  34 tasks      | elapsed:    0.4s\n",
      "[Parallel(n_jobs=-1)]: Done 258 tasks      | elapsed:   15.4s\n",
      "[Parallel(n_jobs=-1)]: Done 461 tasks      | elapsed:   47.8s\n",
      "[Parallel(n_jobs=-1)]: Done 476 out of 476 | elapsed:   50.4s finished\n"
     ]
    },
    {
     "name": "stdout",
     "output_type": "stream",
     "text": [
      "Spectrum_Normalize_1999_2001\n",
      "___________________________________\n",
      "\n",
      "Fitting 4 folds for each of 119 candidates, totalling 476 fits\n"
     ]
    },
    {
     "name": "stderr",
     "output_type": "stream",
     "text": [
      "[Parallel(n_jobs=-1)]: Using backend LokyBackend with 8 concurrent workers.\n",
      "[Parallel(n_jobs=-1)]: Done  34 tasks      | elapsed:    0.8s\n",
      "[Parallel(n_jobs=-1)]: Done 202 tasks      | elapsed:   18.4s\n",
      "[Parallel(n_jobs=-1)]: Done 405 tasks      | elapsed:  1.3min\n",
      "[Parallel(n_jobs=-1)]: Done 476 out of 476 | elapsed:  1.7min finished\n"
     ]
    },
    {
     "name": "stdout",
     "output_type": "stream",
     "text": [
      "Spectrum_Normalize_Fourier_1999_2001\n",
      "___________________________________\n",
      "\n",
      "Fitting 4 folds for each of 119 candidates, totalling 476 fits\n"
     ]
    },
    {
     "name": "stderr",
     "output_type": "stream",
     "text": [
      "[Parallel(n_jobs=-1)]: Using backend LokyBackend with 8 concurrent workers.\n",
      "[Parallel(n_jobs=-1)]: Done  34 tasks      | elapsed:    0.9s\n",
      "[Parallel(n_jobs=-1)]: Done 194 tasks      | elapsed:   17.4s\n",
      "[Parallel(n_jobs=-1)]: Done 397 tasks      | elapsed:  1.2min\n",
      "[Parallel(n_jobs=-1)]: Done 476 out of 476 | elapsed:  1.7min finished\n"
     ]
    },
    {
     "name": "stdout",
     "output_type": "stream",
     "text": [
      "Spectrum_Normalize_Fourier_Terrain_1999_2001\n",
      "___________________________________\n",
      "\n",
      "Fitting 4 folds for each of 119 candidates, totalling 476 fits\n"
     ]
    },
    {
     "name": "stderr",
     "output_type": "stream",
     "text": [
      "[Parallel(n_jobs=-1)]: Using backend LokyBackend with 8 concurrent workers.\n",
      "[Parallel(n_jobs=-1)]: Done  34 tasks      | elapsed:    1.2s\n",
      "[Parallel(n_jobs=-1)]: Done 194 tasks      | elapsed:   21.6s\n",
      "[Parallel(n_jobs=-1)]: Done 397 tasks      | elapsed:  1.5min\n",
      "[Parallel(n_jobs=-1)]: Done 476 out of 476 | elapsed:  2.1min finished\n"
     ]
    },
    {
     "name": "stdout",
     "output_type": "stream",
     "text": [
      "Spectrum_Normalize_Fourier_Terrain_Meterology_1999_2001\n",
      "___________________________________\n",
      "\n",
      "Fitting 4 folds for each of 119 candidates, totalling 476 fits\n"
     ]
    },
    {
     "name": "stderr",
     "output_type": "stream",
     "text": [
      "[Parallel(n_jobs=-1)]: Using backend LokyBackend with 8 concurrent workers.\n",
      "[Parallel(n_jobs=-1)]: Done  34 tasks      | elapsed:    0.2s\n",
      "[Parallel(n_jobs=-1)]: Done 282 tasks      | elapsed:   14.1s\n",
      "[Parallel(n_jobs=-1)]: Done 476 out of 476 | elapsed:   41.9s finished\n"
     ]
    },
    {
     "name": "stdout",
     "output_type": "stream",
     "text": [
      "Spectrum_2002_2004\n",
      "___________________________________\n",
      "\n",
      "Fitting 4 folds for each of 119 candidates, totalling 476 fits\n"
     ]
    },
    {
     "name": "stderr",
     "output_type": "stream",
     "text": [
      "[Parallel(n_jobs=-1)]: Using backend LokyBackend with 8 concurrent workers.\n",
      "[Parallel(n_jobs=-1)]: Done  34 tasks      | elapsed:    0.4s\n",
      "[Parallel(n_jobs=-1)]: Done 258 tasks      | elapsed:   14.8s\n",
      "[Parallel(n_jobs=-1)]: Done 461 tasks      | elapsed:   47.3s\n",
      "[Parallel(n_jobs=-1)]: Done 476 out of 476 | elapsed:   50.0s finished\n"
     ]
    },
    {
     "name": "stdout",
     "output_type": "stream",
     "text": [
      "Spectrum_Normalize_2002_2004\n",
      "___________________________________\n",
      "\n",
      "Fitting 4 folds for each of 119 candidates, totalling 476 fits\n"
     ]
    },
    {
     "name": "stderr",
     "output_type": "stream",
     "text": [
      "[Parallel(n_jobs=-1)]: Using backend LokyBackend with 8 concurrent workers.\n",
      "[Parallel(n_jobs=-1)]: Done  34 tasks      | elapsed:    0.8s\n",
      "[Parallel(n_jobs=-1)]: Done 202 tasks      | elapsed:   18.6s\n",
      "[Parallel(n_jobs=-1)]: Done 405 tasks      | elapsed:  1.3min\n",
      "[Parallel(n_jobs=-1)]: Done 476 out of 476 | elapsed:  1.7min finished\n"
     ]
    },
    {
     "name": "stdout",
     "output_type": "stream",
     "text": [
      "Spectrum_Normalize_Fourier_2002_2004\n",
      "___________________________________\n",
      "\n",
      "Fitting 4 folds for each of 119 candidates, totalling 476 fits\n"
     ]
    },
    {
     "name": "stderr",
     "output_type": "stream",
     "text": [
      "[Parallel(n_jobs=-1)]: Using backend LokyBackend with 8 concurrent workers.\n",
      "[Parallel(n_jobs=-1)]: Done  34 tasks      | elapsed:    1.0s\n",
      "[Parallel(n_jobs=-1)]: Done 194 tasks      | elapsed:   18.8s\n",
      "[Parallel(n_jobs=-1)]: Done 397 tasks      | elapsed:  1.2min\n",
      "[Parallel(n_jobs=-1)]: Done 476 out of 476 | elapsed:  1.7min finished\n"
     ]
    },
    {
     "name": "stdout",
     "output_type": "stream",
     "text": [
      "Spectrum_Normalize_Fourier_Terrain_2002_2004\n",
      "___________________________________\n",
      "\n",
      "Fitting 4 folds for each of 119 candidates, totalling 476 fits\n"
     ]
    },
    {
     "name": "stderr",
     "output_type": "stream",
     "text": [
      "[Parallel(n_jobs=-1)]: Using backend LokyBackend with 8 concurrent workers.\n",
      "[Parallel(n_jobs=-1)]: Done  34 tasks      | elapsed:    1.0s\n",
      "[Parallel(n_jobs=-1)]: Done 194 tasks      | elapsed:   21.1s\n",
      "[Parallel(n_jobs=-1)]: Done 397 tasks      | elapsed:  1.5min\n",
      "[Parallel(n_jobs=-1)]: Done 476 out of 476 | elapsed:  2.1min finished\n"
     ]
    },
    {
     "name": "stdout",
     "output_type": "stream",
     "text": [
      "Spectrum_Normalize_Fourier_Terrain_Meterology_2002_2004\n",
      "___________________________________\n",
      "\n",
      "Fitting 4 folds for each of 119 candidates, totalling 476 fits\n"
     ]
    },
    {
     "name": "stderr",
     "output_type": "stream",
     "text": [
      "[Parallel(n_jobs=-1)]: Using backend LokyBackend with 8 concurrent workers.\n",
      "[Parallel(n_jobs=-1)]: Done  34 tasks      | elapsed:    0.3s\n",
      "[Parallel(n_jobs=-1)]: Done 258 tasks      | elapsed:   13.0s\n",
      "[Parallel(n_jobs=-1)]: Done 461 tasks      | elapsed:   42.8s\n",
      "[Parallel(n_jobs=-1)]: Done 476 out of 476 | elapsed:   45.4s finished\n"
     ]
    },
    {
     "name": "stdout",
     "output_type": "stream",
     "text": [
      "Spectrum_2005_2007\n",
      "___________________________________\n",
      "\n",
      "Fitting 4 folds for each of 119 candidates, totalling 476 fits\n"
     ]
    },
    {
     "name": "stderr",
     "output_type": "stream",
     "text": [
      "[Parallel(n_jobs=-1)]: Using backend LokyBackend with 8 concurrent workers.\n",
      "[Parallel(n_jobs=-1)]: Done  34 tasks      | elapsed:    0.4s\n",
      "[Parallel(n_jobs=-1)]: Done 258 tasks      | elapsed:   15.4s\n",
      "[Parallel(n_jobs=-1)]: Done 461 tasks      | elapsed:   47.4s\n",
      "[Parallel(n_jobs=-1)]: Done 476 out of 476 | elapsed:   50.3s finished\n"
     ]
    },
    {
     "name": "stdout",
     "output_type": "stream",
     "text": [
      "Spectrum_Normalize_2005_2007\n",
      "___________________________________\n",
      "\n",
      "Fitting 4 folds for each of 119 candidates, totalling 476 fits\n"
     ]
    },
    {
     "name": "stderr",
     "output_type": "stream",
     "text": [
      "[Parallel(n_jobs=-1)]: Using backend LokyBackend with 8 concurrent workers.\n",
      "[Parallel(n_jobs=-1)]: Done  34 tasks      | elapsed:    0.8s\n",
      "[Parallel(n_jobs=-1)]: Done 194 tasks      | elapsed:   17.9s\n",
      "[Parallel(n_jobs=-1)]: Done 397 tasks      | elapsed:  1.2min\n",
      "[Parallel(n_jobs=-1)]: Done 476 out of 476 | elapsed:  1.7min finished\n"
     ]
    },
    {
     "name": "stdout",
     "output_type": "stream",
     "text": [
      "Spectrum_Normalize_Fourier_2005_2007\n",
      "___________________________________\n",
      "\n",
      "Fitting 4 folds for each of 119 candidates, totalling 476 fits\n"
     ]
    },
    {
     "name": "stderr",
     "output_type": "stream",
     "text": [
      "[Parallel(n_jobs=-1)]: Using backend LokyBackend with 8 concurrent workers.\n",
      "[Parallel(n_jobs=-1)]: Done  34 tasks      | elapsed:    0.9s\n",
      "[Parallel(n_jobs=-1)]: Done 202 tasks      | elapsed:   19.7s\n",
      "[Parallel(n_jobs=-1)]: Done 405 tasks      | elapsed:  1.2min\n",
      "[Parallel(n_jobs=-1)]: Done 476 out of 476 | elapsed:  1.7min finished\n"
     ]
    },
    {
     "name": "stdout",
     "output_type": "stream",
     "text": [
      "Spectrum_Normalize_Fourier_Terrain_2005_2007\n",
      "___________________________________\n",
      "\n",
      "Fitting 4 folds for each of 119 candidates, totalling 476 fits\n"
     ]
    },
    {
     "name": "stderr",
     "output_type": "stream",
     "text": [
      "[Parallel(n_jobs=-1)]: Using backend LokyBackend with 8 concurrent workers.\n",
      "[Parallel(n_jobs=-1)]: Done  34 tasks      | elapsed:    1.0s\n",
      "[Parallel(n_jobs=-1)]: Done 194 tasks      | elapsed:   21.9s\n",
      "[Parallel(n_jobs=-1)]: Done 397 tasks      | elapsed:  1.5min\n",
      "[Parallel(n_jobs=-1)]: Done 476 out of 476 | elapsed:  2.2min finished\n"
     ]
    },
    {
     "name": "stdout",
     "output_type": "stream",
     "text": [
      "Spectrum_Normalize_Fourier_Terrain_Meterology_2005_2007\n",
      "___________________________________\n",
      "\n",
      "Fitting 4 folds for each of 119 candidates, totalling 476 fits\n"
     ]
    },
    {
     "name": "stderr",
     "output_type": "stream",
     "text": [
      "[Parallel(n_jobs=-1)]: Using backend LokyBackend with 8 concurrent workers.\n",
      "[Parallel(n_jobs=-1)]: Done  34 tasks      | elapsed:    0.3s\n",
      "[Parallel(n_jobs=-1)]: Done 282 tasks      | elapsed:   15.1s\n",
      "[Parallel(n_jobs=-1)]: Done 476 out of 476 | elapsed:   41.9s finished\n"
     ]
    },
    {
     "name": "stdout",
     "output_type": "stream",
     "text": [
      "Spectrum_2008_2010\n",
      "___________________________________\n",
      "\n",
      "Fitting 4 folds for each of 119 candidates, totalling 476 fits\n"
     ]
    },
    {
     "name": "stderr",
     "output_type": "stream",
     "text": [
      "[Parallel(n_jobs=-1)]: Using backend LokyBackend with 8 concurrent workers.\n",
      "[Parallel(n_jobs=-1)]: Done  34 tasks      | elapsed:    0.3s\n",
      "[Parallel(n_jobs=-1)]: Done 258 tasks      | elapsed:   14.9s\n",
      "[Parallel(n_jobs=-1)]: Done 461 tasks      | elapsed:   46.1s\n",
      "[Parallel(n_jobs=-1)]: Done 476 out of 476 | elapsed:   48.8s finished\n"
     ]
    },
    {
     "name": "stdout",
     "output_type": "stream",
     "text": [
      "Spectrum_Normalize_2008_2010\n",
      "___________________________________\n",
      "\n",
      "Fitting 4 folds for each of 119 candidates, totalling 476 fits\n"
     ]
    },
    {
     "name": "stderr",
     "output_type": "stream",
     "text": [
      "[Parallel(n_jobs=-1)]: Using backend LokyBackend with 8 concurrent workers.\n",
      "[Parallel(n_jobs=-1)]: Done  34 tasks      | elapsed:    0.9s\n",
      "[Parallel(n_jobs=-1)]: Done 202 tasks      | elapsed:   18.8s\n",
      "[Parallel(n_jobs=-1)]: Done 405 tasks      | elapsed:  1.2min\n",
      "[Parallel(n_jobs=-1)]: Done 476 out of 476 | elapsed:  1.6min finished\n"
     ]
    },
    {
     "name": "stdout",
     "output_type": "stream",
     "text": [
      "Spectrum_Normalize_Fourier_2008_2010\n",
      "___________________________________\n",
      "\n",
      "Fitting 4 folds for each of 119 candidates, totalling 476 fits\n"
     ]
    },
    {
     "name": "stderr",
     "output_type": "stream",
     "text": [
      "[Parallel(n_jobs=-1)]: Using backend LokyBackend with 8 concurrent workers.\n",
      "[Parallel(n_jobs=-1)]: Done  34 tasks      | elapsed:    0.8s\n",
      "[Parallel(n_jobs=-1)]: Done 202 tasks      | elapsed:   18.5s\n",
      "[Parallel(n_jobs=-1)]: Done 405 tasks      | elapsed:  1.3min\n",
      "[Parallel(n_jobs=-1)]: Done 476 out of 476 | elapsed:  1.8min finished\n"
     ]
    },
    {
     "name": "stdout",
     "output_type": "stream",
     "text": [
      "Spectrum_Normalize_Fourier_Terrain_2008_2010\n",
      "___________________________________\n",
      "\n",
      "Fitting 4 folds for each of 119 candidates, totalling 476 fits\n"
     ]
    },
    {
     "name": "stderr",
     "output_type": "stream",
     "text": [
      "[Parallel(n_jobs=-1)]: Using backend LokyBackend with 8 concurrent workers.\n",
      "[Parallel(n_jobs=-1)]: Done  34 tasks      | elapsed:    0.9s\n",
      "[Parallel(n_jobs=-1)]: Done 194 tasks      | elapsed:   20.7s\n",
      "[Parallel(n_jobs=-1)]: Done 397 tasks      | elapsed:  1.4min\n",
      "[Parallel(n_jobs=-1)]: Done 476 out of 476 | elapsed:  2.0min finished\n"
     ]
    },
    {
     "name": "stdout",
     "output_type": "stream",
     "text": [
      "Spectrum_Normalize_Fourier_Terrain_Meterology_2008_2010\n",
      "___________________________________\n",
      "\n",
      "Fitting 4 folds for each of 119 candidates, totalling 476 fits\n"
     ]
    },
    {
     "name": "stderr",
     "output_type": "stream",
     "text": [
      "[Parallel(n_jobs=-1)]: Using backend LokyBackend with 8 concurrent workers.\n",
      "[Parallel(n_jobs=-1)]: Done  34 tasks      | elapsed:    0.3s\n",
      "[Parallel(n_jobs=-1)]: Done 258 tasks      | elapsed:   14.3s\n",
      "[Parallel(n_jobs=-1)]: Done 461 tasks      | elapsed:   45.8s\n",
      "[Parallel(n_jobs=-1)]: Done 476 out of 476 | elapsed:   48.2s finished\n"
     ]
    },
    {
     "name": "stdout",
     "output_type": "stream",
     "text": [
      "Spectrum_2011_2013\n",
      "___________________________________\n",
      "\n",
      "Fitting 4 folds for each of 119 candidates, totalling 476 fits\n"
     ]
    },
    {
     "name": "stderr",
     "output_type": "stream",
     "text": [
      "[Parallel(n_jobs=-1)]: Using backend LokyBackend with 8 concurrent workers.\n",
      "[Parallel(n_jobs=-1)]: Done  34 tasks      | elapsed:    0.4s\n",
      "[Parallel(n_jobs=-1)]: Done 258 tasks      | elapsed:   14.8s\n",
      "[Parallel(n_jobs=-1)]: Done 461 tasks      | elapsed:   46.4s\n",
      "[Parallel(n_jobs=-1)]: Done 476 out of 476 | elapsed:   49.1s finished\n"
     ]
    },
    {
     "name": "stdout",
     "output_type": "stream",
     "text": [
      "Spectrum_Normalize_2011_2013\n",
      "___________________________________\n",
      "\n",
      "Fitting 4 folds for each of 119 candidates, totalling 476 fits\n"
     ]
    },
    {
     "name": "stderr",
     "output_type": "stream",
     "text": [
      "[Parallel(n_jobs=-1)]: Using backend LokyBackend with 8 concurrent workers.\n",
      "[Parallel(n_jobs=-1)]: Done  34 tasks      | elapsed:    0.8s\n",
      "[Parallel(n_jobs=-1)]: Done 202 tasks      | elapsed:   17.8s\n",
      "[Parallel(n_jobs=-1)]: Done 405 tasks      | elapsed:  1.2min\n",
      "[Parallel(n_jobs=-1)]: Done 476 out of 476 | elapsed:  1.6min finished\n"
     ]
    },
    {
     "name": "stdout",
     "output_type": "stream",
     "text": [
      "Spectrum_Normalize_Fourier_2011_2013\n",
      "___________________________________\n",
      "\n",
      "Fitting 4 folds for each of 119 candidates, totalling 476 fits\n"
     ]
    },
    {
     "name": "stderr",
     "output_type": "stream",
     "text": [
      "[Parallel(n_jobs=-1)]: Using backend LokyBackend with 8 concurrent workers.\n",
      "[Parallel(n_jobs=-1)]: Done  34 tasks      | elapsed:    0.8s\n",
      "[Parallel(n_jobs=-1)]: Done 202 tasks      | elapsed:   17.7s\n",
      "[Parallel(n_jobs=-1)]: Done 405 tasks      | elapsed:  1.1min\n",
      "[Parallel(n_jobs=-1)]: Done 476 out of 476 | elapsed:  1.6min finished\n"
     ]
    },
    {
     "name": "stdout",
     "output_type": "stream",
     "text": [
      "Spectrum_Normalize_Fourier_Terrain_2011_2013\n",
      "___________________________________\n",
      "\n",
      "Fitting 4 folds for each of 119 candidates, totalling 476 fits\n"
     ]
    },
    {
     "name": "stderr",
     "output_type": "stream",
     "text": [
      "[Parallel(n_jobs=-1)]: Using backend LokyBackend with 8 concurrent workers.\n",
      "[Parallel(n_jobs=-1)]: Done  34 tasks      | elapsed:    0.9s\n",
      "[Parallel(n_jobs=-1)]: Done 194 tasks      | elapsed:   20.4s\n",
      "[Parallel(n_jobs=-1)]: Done 397 tasks      | elapsed:  1.4min\n",
      "[Parallel(n_jobs=-1)]: Done 476 out of 476 | elapsed:  2.0min finished\n"
     ]
    },
    {
     "name": "stdout",
     "output_type": "stream",
     "text": [
      "Spectrum_Normalize_Fourier_Terrain_Meterology_2011_2013\n",
      "___________________________________\n",
      "\n",
      "Fitting 4 folds for each of 119 candidates, totalling 476 fits\n"
     ]
    },
    {
     "name": "stderr",
     "output_type": "stream",
     "text": [
      "[Parallel(n_jobs=-1)]: Using backend LokyBackend with 8 concurrent workers.\n",
      "[Parallel(n_jobs=-1)]: Done  34 tasks      | elapsed:    0.6s\n",
      "[Parallel(n_jobs=-1)]: Done 210 tasks      | elapsed:   15.3s\n",
      "[Parallel(n_jobs=-1)]: Done 413 tasks      | elapsed:   57.5s\n",
      "[Parallel(n_jobs=-1)]: Done 476 out of 476 | elapsed:  1.3min finished\n"
     ]
    },
    {
     "name": "stdout",
     "output_type": "stream",
     "text": [
      "Spectrum_2014_2016\n",
      "___________________________________\n",
      "\n",
      "Fitting 4 folds for each of 119 candidates, totalling 476 fits\n"
     ]
    },
    {
     "name": "stderr",
     "output_type": "stream",
     "text": [
      "[Parallel(n_jobs=-1)]: Using backend LokyBackend with 8 concurrent workers.\n",
      "[Parallel(n_jobs=-1)]: Done  34 tasks      | elapsed:    0.7s\n",
      "[Parallel(n_jobs=-1)]: Done 202 tasks      | elapsed:   16.2s\n",
      "[Parallel(n_jobs=-1)]: Done 405 tasks      | elapsed:  1.1min\n",
      "[Parallel(n_jobs=-1)]: Done 476 out of 476 | elapsed:  1.4min finished\n"
     ]
    },
    {
     "name": "stdout",
     "output_type": "stream",
     "text": [
      "Spectrum_Normalize_2014_2016\n",
      "___________________________________\n",
      "\n",
      "Fitting 4 folds for each of 119 candidates, totalling 476 fits\n"
     ]
    },
    {
     "name": "stderr",
     "output_type": "stream",
     "text": [
      "[Parallel(n_jobs=-1)]: Using backend LokyBackend with 8 concurrent workers.\n",
      "[Parallel(n_jobs=-1)]: Done  34 tasks      | elapsed:    0.9s\n",
      "[Parallel(n_jobs=-1)]: Done 194 tasks      | elapsed:   19.5s\n",
      "[Parallel(n_jobs=-1)]: Done 397 tasks      | elapsed:  1.3min\n",
      "[Parallel(n_jobs=-1)]: Done 476 out of 476 | elapsed:  1.9min finished\n"
     ]
    },
    {
     "name": "stdout",
     "output_type": "stream",
     "text": [
      "Spectrum_Normalize_Fourier_2014_2016\n",
      "___________________________________\n",
      "\n",
      "Fitting 4 folds for each of 119 candidates, totalling 476 fits\n"
     ]
    },
    {
     "name": "stderr",
     "output_type": "stream",
     "text": [
      "[Parallel(n_jobs=-1)]: Using backend LokyBackend with 8 concurrent workers.\n",
      "[Parallel(n_jobs=-1)]: Done  34 tasks      | elapsed:    1.1s\n",
      "[Parallel(n_jobs=-1)]: Done 194 tasks      | elapsed:   23.5s\n",
      "[Parallel(n_jobs=-1)]: Done 397 tasks      | elapsed:  1.6min\n",
      "[Parallel(n_jobs=-1)]: Done 476 out of 476 | elapsed:  2.3min finished\n"
     ]
    },
    {
     "name": "stdout",
     "output_type": "stream",
     "text": [
      "Spectrum_Normalize_Fourier_Terrain_2014_2016\n",
      "___________________________________\n",
      "\n",
      "Fitting 4 folds for each of 119 candidates, totalling 476 fits\n"
     ]
    },
    {
     "name": "stderr",
     "output_type": "stream",
     "text": [
      "[Parallel(n_jobs=-1)]: Using backend LokyBackend with 8 concurrent workers.\n",
      "[Parallel(n_jobs=-1)]: Done  34 tasks      | elapsed:    1.2s\n",
      "[Parallel(n_jobs=-1)]: Done 186 tasks      | elapsed:   21.5s\n",
      "[Parallel(n_jobs=-1)]: Done 389 tasks      | elapsed:  1.6min\n",
      "[Parallel(n_jobs=-1)]: Done 476 out of 476 | elapsed:  2.3min finished\n"
     ]
    },
    {
     "name": "stdout",
     "output_type": "stream",
     "text": [
      "Spectrum_Normalize_Fourier_Terrain_Meterology_2014_2016\n",
      "___________________________________\n",
      "\n",
      "Fitting 4 folds for each of 119 candidates, totalling 476 fits\n"
     ]
    },
    {
     "name": "stderr",
     "output_type": "stream",
     "text": [
      "[Parallel(n_jobs=-1)]: Using backend LokyBackend with 8 concurrent workers.\n",
      "[Parallel(n_jobs=-1)]: Done  34 tasks      | elapsed:    0.7s\n",
      "[Parallel(n_jobs=-1)]: Done 210 tasks      | elapsed:   15.9s\n",
      "[Parallel(n_jobs=-1)]: Done 413 tasks      | elapsed:   57.5s\n",
      "[Parallel(n_jobs=-1)]: Done 476 out of 476 | elapsed:  1.3min finished\n"
     ]
    },
    {
     "name": "stdout",
     "output_type": "stream",
     "text": [
      "Spectrum_2017_2019\n",
      "___________________________________\n",
      "\n",
      "Fitting 4 folds for each of 119 candidates, totalling 476 fits\n"
     ]
    },
    {
     "name": "stderr",
     "output_type": "stream",
     "text": [
      "[Parallel(n_jobs=-1)]: Using backend LokyBackend with 8 concurrent workers.\n",
      "[Parallel(n_jobs=-1)]: Done  34 tasks      | elapsed:    0.7s\n",
      "[Parallel(n_jobs=-1)]: Done 202 tasks      | elapsed:   18.4s\n",
      "[Parallel(n_jobs=-1)]: Done 405 tasks      | elapsed:  1.1min\n",
      "[Parallel(n_jobs=-1)]: Done 476 out of 476 | elapsed:  1.5min finished\n"
     ]
    },
    {
     "name": "stdout",
     "output_type": "stream",
     "text": [
      "Spectrum_Normalize_2017_2019\n",
      "___________________________________\n",
      "\n",
      "Fitting 4 folds for each of 119 candidates, totalling 476 fits\n"
     ]
    },
    {
     "name": "stderr",
     "output_type": "stream",
     "text": [
      "[Parallel(n_jobs=-1)]: Using backend LokyBackend with 8 concurrent workers.\n",
      "[Parallel(n_jobs=-1)]: Done  34 tasks      | elapsed:    1.0s\n",
      "[Parallel(n_jobs=-1)]: Done 194 tasks      | elapsed:   19.9s\n",
      "[Parallel(n_jobs=-1)]: Done 397 tasks      | elapsed:  1.4min\n",
      "[Parallel(n_jobs=-1)]: Done 476 out of 476 | elapsed:  2.0min finished\n"
     ]
    },
    {
     "name": "stdout",
     "output_type": "stream",
     "text": [
      "Spectrum_Normalize_Fourier_2017_2019\n",
      "___________________________________\n",
      "\n",
      "Fitting 4 folds for each of 119 candidates, totalling 476 fits\n"
     ]
    },
    {
     "name": "stderr",
     "output_type": "stream",
     "text": [
      "[Parallel(n_jobs=-1)]: Using backend LokyBackend with 8 concurrent workers.\n",
      "[Parallel(n_jobs=-1)]: Done  34 tasks      | elapsed:    1.2s\n",
      "[Parallel(n_jobs=-1)]: Done 194 tasks      | elapsed:   23.1s\n",
      "[Parallel(n_jobs=-1)]: Done 397 tasks      | elapsed:  1.6min\n",
      "[Parallel(n_jobs=-1)]: Done 476 out of 476 | elapsed:  2.3min finished\n"
     ]
    },
    {
     "name": "stdout",
     "output_type": "stream",
     "text": [
      "Spectrum_Normalize_Fourier_Terrain_2017_2019\n",
      "___________________________________\n",
      "\n",
      "Fitting 4 folds for each of 119 candidates, totalling 476 fits\n"
     ]
    },
    {
     "name": "stderr",
     "output_type": "stream",
     "text": [
      "[Parallel(n_jobs=-1)]: Using backend LokyBackend with 8 concurrent workers.\n",
      "[Parallel(n_jobs=-1)]: Done  34 tasks      | elapsed:    1.3s\n",
      "[Parallel(n_jobs=-1)]: Done 194 tasks      | elapsed:   23.9s\n",
      "[Parallel(n_jobs=-1)]: Done 397 tasks      | elapsed:  1.7min\n",
      "[Parallel(n_jobs=-1)]: Done 476 out of 476 | elapsed:  2.3min finished\n"
     ]
    },
    {
     "name": "stdout",
     "output_type": "stream",
     "text": [
      "Spectrum_Normalize_Fourier_Terrain_Meterology_2017_2019\n",
      "___________________________________\n",
      "\n"
     ]
    }
   ],
   "source": [
    "grid_acc_list = []\n",
    "\n",
    "for year,fe in zip(year_range,feature_df):\n",
    "    \n",
    "    # _______________________________Different band combination_______________________________\n",
    "    \n",
    "    col_name = ''.join(fe.columns)\n",
    "    \n",
    "    # find the spectrum band names\n",
    "    Spectrum_reg = re.compile(r'(B6_VCID_\\d|B\\d{1,2}|Landsat_B\\d{1,2}|Sentinel_B\\d{1,2})')\n",
    "    Spectrum_reg_bands = Spectrum_reg.findall(col_name)\n",
    "    \n",
    "    # find the Mean-nomalized names\n",
    "    Mean_nomalize_reg   = re.compile(r'Mean_\\w{2,3}I')\n",
    "    Mean_nomalize_bands = Mean_nomalize_reg.findall(col_name)\n",
    "    \n",
    "    # find the Fourire names\n",
    "    Fourier_reg   = re.compile(r'((EVI|NDBI|NDVI)_(constant|\\w{3}_\\d))')\n",
    "    Fourier_bands = [i[0] for i in Fourier_reg.findall(col_name)]\n",
    "    \n",
    "    # get the terrain bands\n",
    "    Terrain_bands = ['DEM','SLOPE']\n",
    "    \n",
    "    # get the meterology bands\n",
    "    Meterology_bands = ['lrad', 'prec', 'pres', 'shum', 'srad', 'temp', 'wind']\n",
    "    \n",
    "    \n",
    "    \n",
    "    #_________________________________Assess the accuracy ______________________________________\n",
    "    \n",
    "    bands_in = zip(['Spectrum',\n",
    "                    'Spectrum_Normalize',\n",
    "                    'Spectrum_Normalize_Fourier',\n",
    "                    'Spectrum_Normalize_Fourier_Terrain',\n",
    "                    'Spectrum_Normalize_Fourier_Terrain_Meterology'],\n",
    "                   \n",
    "                   [Spectrum_reg_bands,\n",
    "                    Spectrum_reg_bands + Mean_nomalize_bands,\n",
    "                    Spectrum_reg_bands + Mean_nomalize_bands + Fourier_bands,\n",
    "                    Spectrum_reg_bands + Mean_nomalize_bands + Fourier_bands + Terrain_bands,\n",
    "                    Spectrum_reg_bands + Mean_nomalize_bands + Fourier_bands + Terrain_bands + Meterology_bands])\n",
    "    \n",
    "    \n",
    "    \n",
    "    # ________________________Grid search to compare the accuracy under different input bands__________\n",
    "    \n",
    "    for band_name, bands_select in bands_in:\n",
    "    \n",
    "        # get the X and y\n",
    "        X = fe[bands_select]\n",
    "        y = fe['Built']\n",
    "\n",
    "        # appliy RandomForestClassifier \n",
    "        classifier = RandomForestClassifier()\n",
    "\n",
    "        # Use gridSearch\n",
    "        param_grid = dict(n_estimators = range(1,120))    \n",
    "        grid = GridSearchCV(classifier,param_grid,cv=4,scoring='accuracy',n_jobs=-1,verbose=2)\n",
    "        grid.fit(X,y)\n",
    "\n",
    "\n",
    "        # fetch the accuracy value from grid result\n",
    "        grid_df = pd.DataFrame(grid.cv_results_)\n",
    "        grid_select = grid_df[[s for s in grid_df.columns if 'param_' in s or 'split' in s]]\n",
    "        \n",
    "        # convert the acc_df to long format and add 'Year' and 'in_band_name' column\n",
    "        grid_long = pd.DataFrame(grid_select.set_index('param_n_estimators').stack())\n",
    "        grid_long.reset_index(inplace=True)\n",
    "        grid_long.columns = ['Tree','CrossFolds','Accuracy']\n",
    "        grid_long['Year'] = year\n",
    "        grid_long['In_Bands'] = band_name\n",
    "\n",
    "        grid_acc_list.append(grid_long)\n",
    "\n",
    "        # print out the process\n",
    "        \n",
    "        print(f'{band_name}_{year}')\n",
    "        print(f'___________________________________')\n",
    "        print()\n",
    "        "
   ]
  },
  {
   "cell_type": "code",
   "execution_count": null,
   "metadata": {},
   "outputs": [],
   "source": []
  },
  {
   "cell_type": "code",
   "execution_count": 3,
   "metadata": {},
   "outputs": [],
   "source": [
    "# # save the grid_acc \n",
    "# grid_acc = pd.concat(grid_acc_list).reset_index().drop('index',axis = 1)\n",
    "# grid_acc['Year'] = grid_acc['Year'].astype('category')\n",
    "# grid_acc.to_csv('./Result/Grid_acc_tree.csv',index = False)\n",
    "\n",
    "# load the grid_acc\n",
    "grid_acc = pd.read_csv('./Result/Grid_acc_tree.csv')\n",
    "grid_acc['Year'] = grid_acc['Year'].astype('category')"
   ]
  },
  {
   "cell_type": "code",
   "execution_count": 4,
   "metadata": {},
   "outputs": [
    {
     "data": {
      "text/html": [
       "<div>\n",
       "<style scoped>\n",
       "    .dataframe tbody tr th:only-of-type {\n",
       "        vertical-align: middle;\n",
       "    }\n",
       "\n",
       "    .dataframe tbody tr th {\n",
       "        vertical-align: top;\n",
       "    }\n",
       "\n",
       "    .dataframe thead th {\n",
       "        text-align: right;\n",
       "    }\n",
       "</style>\n",
       "<table border=\"1\" class=\"dataframe\">\n",
       "  <thead>\n",
       "    <tr style=\"text-align: right;\">\n",
       "      <th></th>\n",
       "      <th>Tree</th>\n",
       "      <th>CrossFolds</th>\n",
       "      <th>Accuracy</th>\n",
       "      <th>Year</th>\n",
       "      <th>In_Bands</th>\n",
       "    </tr>\n",
       "  </thead>\n",
       "  <tbody>\n",
       "    <tr>\n",
       "      <th>0</th>\n",
       "      <td>1</td>\n",
       "      <td>split0_test_score</td>\n",
       "      <td>0.784182</td>\n",
       "      <td>1990_1992</td>\n",
       "      <td>Spectrum</td>\n",
       "    </tr>\n",
       "    <tr>\n",
       "      <th>1</th>\n",
       "      <td>1</td>\n",
       "      <td>split1_test_score</td>\n",
       "      <td>0.781355</td>\n",
       "      <td>1990_1992</td>\n",
       "      <td>Spectrum</td>\n",
       "    </tr>\n",
       "    <tr>\n",
       "      <th>2</th>\n",
       "      <td>1</td>\n",
       "      <td>split2_test_score</td>\n",
       "      <td>0.754527</td>\n",
       "      <td>1990_1992</td>\n",
       "      <td>Spectrum</td>\n",
       "    </tr>\n",
       "    <tr>\n",
       "      <th>3</th>\n",
       "      <td>1</td>\n",
       "      <td>split3_test_score</td>\n",
       "      <td>0.773307</td>\n",
       "      <td>1990_1992</td>\n",
       "      <td>Spectrum</td>\n",
       "    </tr>\n",
       "    <tr>\n",
       "      <th>4</th>\n",
       "      <td>2</td>\n",
       "      <td>split0_test_score</td>\n",
       "      <td>0.748660</td>\n",
       "      <td>1990_1992</td>\n",
       "      <td>Spectrum</td>\n",
       "    </tr>\n",
       "    <tr>\n",
       "      <th>...</th>\n",
       "      <td>...</td>\n",
       "      <td>...</td>\n",
       "      <td>...</td>\n",
       "      <td>...</td>\n",
       "      <td>...</td>\n",
       "    </tr>\n",
       "    <tr>\n",
       "      <th>23795</th>\n",
       "      <td>118</td>\n",
       "      <td>split3_test_score</td>\n",
       "      <td>0.947786</td>\n",
       "      <td>2017_2019</td>\n",
       "      <td>Spectrum_Normalize_Fourier_Terrain_Meterology</td>\n",
       "    </tr>\n",
       "    <tr>\n",
       "      <th>23796</th>\n",
       "      <td>119</td>\n",
       "      <td>split0_test_score</td>\n",
       "      <td>0.936592</td>\n",
       "      <td>2017_2019</td>\n",
       "      <td>Spectrum_Normalize_Fourier_Terrain_Meterology</td>\n",
       "    </tr>\n",
       "    <tr>\n",
       "      <th>23797</th>\n",
       "      <td>119</td>\n",
       "      <td>split1_test_score</td>\n",
       "      <td>0.948481</td>\n",
       "      <td>2017_2019</td>\n",
       "      <td>Spectrum_Normalize_Fourier_Terrain_Meterology</td>\n",
       "    </tr>\n",
       "    <tr>\n",
       "      <th>23798</th>\n",
       "      <td>119</td>\n",
       "      <td>split2_test_score</td>\n",
       "      <td>0.952444</td>\n",
       "      <td>2017_2019</td>\n",
       "      <td>Spectrum_Normalize_Fourier_Terrain_Meterology</td>\n",
       "    </tr>\n",
       "    <tr>\n",
       "      <th>23799</th>\n",
       "      <td>119</td>\n",
       "      <td>split3_test_score</td>\n",
       "      <td>0.949108</td>\n",
       "      <td>2017_2019</td>\n",
       "      <td>Spectrum_Normalize_Fourier_Terrain_Meterology</td>\n",
       "    </tr>\n",
       "  </tbody>\n",
       "</table>\n",
       "<p>23800 rows × 5 columns</p>\n",
       "</div>"
      ],
      "text/plain": [
       "       Tree         CrossFolds  Accuracy       Year  \\\n",
       "0         1  split0_test_score  0.784182  1990_1992   \n",
       "1         1  split1_test_score  0.781355  1990_1992   \n",
       "2         1  split2_test_score  0.754527  1990_1992   \n",
       "3         1  split3_test_score  0.773307  1990_1992   \n",
       "4         2  split0_test_score  0.748660  1990_1992   \n",
       "...     ...                ...       ...        ...   \n",
       "23795   118  split3_test_score  0.947786  2017_2019   \n",
       "23796   119  split0_test_score  0.936592  2017_2019   \n",
       "23797   119  split1_test_score  0.948481  2017_2019   \n",
       "23798   119  split2_test_score  0.952444  2017_2019   \n",
       "23799   119  split3_test_score  0.949108  2017_2019   \n",
       "\n",
       "                                            In_Bands  \n",
       "0                                           Spectrum  \n",
       "1                                           Spectrum  \n",
       "2                                           Spectrum  \n",
       "3                                           Spectrum  \n",
       "4                                           Spectrum  \n",
       "...                                              ...  \n",
       "23795  Spectrum_Normalize_Fourier_Terrain_Meterology  \n",
       "23796  Spectrum_Normalize_Fourier_Terrain_Meterology  \n",
       "23797  Spectrum_Normalize_Fourier_Terrain_Meterology  \n",
       "23798  Spectrum_Normalize_Fourier_Terrain_Meterology  \n",
       "23799  Spectrum_Normalize_Fourier_Terrain_Meterology  \n",
       "\n",
       "[23800 rows x 5 columns]"
      ]
     },
     "execution_count": 4,
     "metadata": {},
     "output_type": "execute_result"
    }
   ],
   "source": [
    "grid_acc"
   ]
  },
  {
   "cell_type": "code",
   "execution_count": null,
   "metadata": {},
   "outputs": [],
   "source": []
  },
  {
   "cell_type": "code",
   "execution_count": null,
   "metadata": {},
   "outputs": [],
   "source": []
  },
  {
   "cell_type": "markdown",
   "metadata": {},
   "source": [
    "##### Observe that the tree number of 100 is enough for classification"
   ]
  },
  {
   "cell_type": "code",
   "execution_count": 5,
   "metadata": {},
   "outputs": [
    {
     "data": {
      "text/plain": [
       "<matplotlib.axes._subplots.AxesSubplot at 0x17bd79af588>"
      ]
     },
     "execution_count": 5,
     "metadata": {},
     "output_type": "execute_result"
    },
    {
     "data": {
      "image/png": "[encoded data removed]",
      "text/plain": [
       "<Figure size 864x576 with 1 Axes>"
      ]
     },
     "metadata": {
      "needs_background": "light"
     },
     "output_type": "display_data"
    }
   ],
   "source": [
    "plt.figure(figsize=(12,8))\n",
    "sns.lineplot(data = grid_acc[grid_acc['In_Bands']=='Spectrum_Normalize_Fourier_Terrain_Meterology'],\n",
    "             x='Tree',\n",
    "             y='Accuracy')"
   ]
  },
  {
   "cell_type": "code",
   "execution_count": null,
   "metadata": {},
   "outputs": [],
   "source": []
  },
  {
   "cell_type": "markdown",
   "metadata": {},
   "source": [
    "##### Observe that the Fourier bands significant increases the accuracy"
   ]
  },
  {
   "cell_type": "code",
   "execution_count": 31,
   "metadata": {},
   "outputs": [
    {
     "data": {
      "text/plain": [
       "<matplotlib.axes._subplots.AxesSubplot at 0x1d6ad4db0b8>"
      ]
     },
     "execution_count": 31,
     "metadata": {},
     "output_type": "execute_result"
    },
    {
     "data": {
      "image/png": "[encoded data removed]",
      "text/plain": [
       "<Figure size 864x576 with 1 Axes>"
      ]
     },
     "metadata": {
      "needs_background": "light"
     },
     "output_type": "display_data"
    }
   ],
   "source": [
    "plt.figure(figsize=(12,8))\n",
    "sns.lineplot(data = grid_acc,\n",
    "             x='Tree',\n",
    "             y='Accuracy',\n",
    "             hue = 'In_Bands')"
   ]
  },
  {
   "cell_type": "code",
   "execution_count": null,
   "metadata": {},
   "outputs": [],
   "source": []
  },
  {
   "cell_type": "code",
   "execution_count": null,
   "metadata": {},
   "outputs": [],
   "source": []
  },
  {
   "cell_type": "code",
   "execution_count": null,
   "metadata": {},
   "outputs": [],
   "source": []
  }
 ],
 "metadata": {
  "kernelspec": {
   "display_name": "Python 3",
   "language": "python",
   "name": "python3"
  },
  "language_info": {
   "codemirror_mode": {
    "name": "ipython",
    "version": 3
   },
   "file_extension": ".py",
   "mimetype": "text/x-python",
   "name": "python",
   "nbconvert_exporter": "python",
   "pygments_lexer": "ipython3",
   "version": "3.7.3"
  }
 },
 "nbformat": 4,
 "nbformat_minor": 2
}
