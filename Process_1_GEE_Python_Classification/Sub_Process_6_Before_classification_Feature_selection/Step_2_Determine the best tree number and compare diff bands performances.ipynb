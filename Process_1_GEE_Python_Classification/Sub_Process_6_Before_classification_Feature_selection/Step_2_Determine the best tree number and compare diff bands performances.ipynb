{
 "cells": [
  {
   "cell_type": "code",
   "execution_count": null,
   "metadata": {},
   "outputs": [],
   "source": []
  },
  {
   "cell_type": "markdown",
   "metadata": {},
   "source": [
    "This Notebook is run a sensitive test between tree-number/diff-inbands to accuracy.<br>\n",
    "\n",
    "Specifically, we:<br>\n",
    "1) loop through each inband combination (Spectrum_Indices_Fourier_Terrain_Meteorology);<br>\n",
    "2) then, loop trhough each tree number (1-120);<br>\n",
    "3) calculate the accuracy"
   ]
  },
  {
   "cell_type": "code",
   "execution_count": null,
   "metadata": {},
   "outputs": [],
   "source": []
  },
  {
   "cell_type": "code",
   "execution_count": null,
   "metadata": {},
   "outputs": [],
   "source": []
  },
  {
   "cell_type": "code",
   "execution_count": null,
   "metadata": {},
   "outputs": [],
   "source": []
  },
  {
   "cell_type": "code",
   "execution_count": 1,
   "metadata": {},
   "outputs": [],
   "source": [
    "import pandas as pd\n",
    "import seaborn as sns\n",
    "import numpy as np\n",
    "\n",
    "import matplotlib.pyplot as plt\n",
    "\n",
    "from sklearn.ensemble import RandomForestClassifier\n",
    "from sklearn.model_selection import GridSearchCV\n",
    "\n",
    "import re"
   ]
  },
  {
   "cell_type": "code",
   "execution_count": null,
   "metadata": {},
   "outputs": [],
   "source": []
  },
  {
   "cell_type": "markdown",
   "metadata": {},
   "source": [
    "##### Read features as dataframes"
   ]
  },
  {
   "cell_type": "code",
   "execution_count": 2,
   "metadata": {},
   "outputs": [],
   "source": [
    "year_range = [f'{i}_{i+2}' for i in range(1990,2020,3)]"
   ]
  },
  {
   "cell_type": "code",
   "execution_count": 3,
   "metadata": {},
   "outputs": [],
   "source": [
    "year_name = [f'Landsat_{year}' for year in year_range[:-2]] + [f'Sentinel_{year}' for year in year_range[-2:]]"
   ]
  },
  {
   "cell_type": "code",
   "execution_count": null,
   "metadata": {},
   "outputs": [],
   "source": []
  },
  {
   "cell_type": "code",
   "execution_count": 4,
   "metadata": {},
   "outputs": [],
   "source": [
    "# import the points with image values \n",
    "feature_df = [pd.read_csv(f'./Data/{name}.csv') for name in year_name]\n",
    "\n",
    "# merge all pt_with_img and remove unnecessary columns\n",
    "feature_df = [fe.drop(['system:index','.geo','split'],axis=1) for fe in feature_df]"
   ]
  },
  {
   "cell_type": "code",
   "execution_count": null,
   "metadata": {},
   "outputs": [],
   "source": []
  },
  {
   "cell_type": "markdown",
   "metadata": {},
   "source": [
    "##### train_test_split and apply randomforest_classifier"
   ]
  },
  {
   "cell_type": "code",
   "execution_count": null,
   "metadata": {},
   "outputs": [],
   "source": []
  },
  {
   "cell_type": "code",
   "execution_count": 62,
   "metadata": {
    "scrolled": true
   },
   "outputs": [],
   "source": [
    "grid_acc_list = []\n",
    "each_year_band_combination = {}\n",
    "\n",
    "for year,fe in zip(year_range,feature_df):\n",
    "    \n",
    "    # _______________________________Different band combination_______________________________\n",
    "    \n",
    "    col_name = ''.join(fe.columns)\n",
    "    \n",
    "    # find the spectrum band names\n",
    "    Spectrum_reg = re.compile(r'(B6_VCID_\\d|B\\d{1,2}|Landsat_B\\d{1,2}|Sentinel_B\\d{1,2}A?)')\n",
    "    Spectrum_reg_bands = Spectrum_reg.findall(col_name)\n",
    "    \n",
    "    # find the Mean-nomalized names\n",
    "    Mean_nomalize_reg   = re.compile(r'Mean_\\w{2,3}I')\n",
    "    Mean_nomalize_bands = Mean_nomalize_reg.findall(col_name)\n",
    "    \n",
    "    # find the Fourire names\n",
    "    Fourier_reg   = re.compile(r'((EVI|NDBI|NDVI)_(constant|\\w{3}_\\d))')\n",
    "    Fourier_bands = [i[0] for i in Fourier_reg.findall(col_name)]\n",
    "    \n",
    "    # get the terrain bands\n",
    "    Terrain_bands = ['DEM','SLOPE']\n",
    "    \n",
    "    # get the meterology bands\n",
    "    Meterology_bands = ['lrad', 'prec', 'pres', 'shum', 'srad', 'temp', 'wind']\n",
    "\n",
    "    \n",
    "    #_________________________________Assess the accuracy ______________________________________\n",
    "    \n",
    "    bands_in = zip(['Spectrum',\n",
    "                    'Spectrum_Normalize',\n",
    "                    'Spectrum_Normalize_Fourier',\n",
    "                    'Spectrum_Normalize_Fourier_Terrain',\n",
    "                    'Spectrum_Normalize_Fourier_Terrain_Meterology'],\n",
    "                   \n",
    "                   [Spectrum_reg_bands,\n",
    "                    Spectrum_reg_bands + Mean_nomalize_bands,\n",
    "                    Spectrum_reg_bands + Mean_nomalize_bands + Fourier_bands,\n",
    "                    Spectrum_reg_bands + Mean_nomalize_bands + Fourier_bands + Terrain_bands,\n",
    "                    Spectrum_reg_bands + Mean_nomalize_bands + Fourier_bands + Terrain_bands + Meterology_bands])\n",
    "\n",
    "    \n",
    "\n",
    "    each_year_band_combination[year] =  list(bands_in)\n",
    "    \n",
    "    # ________________________Grid search to compare the accuracy under different input bands__________\n",
    "    \n",
    "    for band_name, bands_select in bands_in:\n",
    "    \n",
    "        # get the X and y\n",
    "        X = fe[bands_select]\n",
    "        y = fe['Built']\n",
    "\n",
    "        # appliy RandomForestClassifier \n",
    "        classifier = RandomForestClassifier()\n",
    "\n",
    "        # Use gridSearch\n",
    "        param_grid = dict(n_estimators = range(1,120))    \n",
    "        grid = GridSearchCV(classifier,param_grid,cv=4,scoring='accuracy',n_jobs=-1,verbose=2)\n",
    "        grid.fit(X,y)\n",
    "\n",
    "\n",
    "        # fetch the accuracy value from grid result\n",
    "        grid_df = pd.DataFrame(grid.cv_results_)\n",
    "        grid_select = grid_df[[s for s in grid_df.columns if 'param_' in s or 'split' in s]]\n",
    "        \n",
    "        # convert the acc_df to long format and add 'Year' and 'in_band_name' column\n",
    "        grid_long = pd.DataFrame(grid_select.set_index('param_n_estimators').stack())\n",
    "        grid_long.reset_index(inplace=True)\n",
    "        grid_long.columns = ['Tree','CrossFolds','Accuracy']\n",
    "        grid_long['Year'] = year\n",
    "        grid_long['In_Bands'] = band_name\n",
    "\n",
    "        grid_acc_list.append(grid_long)\n",
    "\n",
    "        # print out the process\n",
    "        \n",
    "        print(f'{band_name}_{year}')\n",
    "        print(f'___________________________________')\n",
    "        print()\n",
    "        "
   ]
  },
  {
   "cell_type": "code",
   "execution_count": null,
   "metadata": {},
   "outputs": [],
   "source": []
  },
  {
   "cell_type": "markdown",
   "metadata": {},
   "source": [
    "##### Save band-combination of each year to disk"
   ]
  },
  {
   "cell_type": "code",
   "execution_count": null,
   "metadata": {},
   "outputs": [],
   "source": []
  },
  {
   "cell_type": "code",
   "execution_count": 63,
   "metadata": {
    "scrolled": true
   },
   "outputs": [],
   "source": [
    "# convert the nested dictionary to a df\n",
    "in_bands_df = pd.DataFrame(each_year_band_combination).T\n",
    "\n",
    "# iter each row to get dict{name:in-bands}\n",
    "for row,col in in_bands_df.iterrows():\n",
    "    # iter each column to get in-bands   \n",
    "    for i,c in enumerate(col):\n",
    "        # rewrite each cell with in-bands data\n",
    "        in_bands_df.at[row,i] = c[1]\n",
    " \n",
    "    \n",
    "# set the columns names for in_bands_df\n",
    "in_bands_df.reset_index(inplace=True)\n",
    "\n",
    "in_bands_df.columns = ['year_range',\n",
    "                       'Spectrum',\n",
    "                       'Spectrum_Normalize',\n",
    "                       'Spectrum_Normalize_Fourier',\n",
    "                       'Spectrum_Normalize_Fourier_Terrain',\n",
    "                       'Spectrum_Normalize_Fourier_Terrain_Meterology']"
   ]
  },
  {
   "cell_type": "code",
   "execution_count": null,
   "metadata": {},
   "outputs": [],
   "source": []
  },
  {
   "cell_type": "code",
   "execution_count": 64,
   "metadata": {},
   "outputs": [],
   "source": [
    "# save the df to disk\n",
    "in_bands_df.to_csv('./Result/In_bands_combination.csv',index=False)\n",
    "\n",
    "in_bands_df = pd.read_csv('./Result/In_bands_combination.csv')"
   ]
  },
  {
   "cell_type": "code",
   "execution_count": null,
   "metadata": {},
   "outputs": [],
   "source": []
  },
  {
   "cell_type": "markdown",
   "metadata": {},
   "source": [
    "##### Save the grid_acc  to disk"
   ]
  },
  {
   "cell_type": "code",
   "execution_count": 5,
   "metadata": {},
   "outputs": [],
   "source": [
    "# grid_acc = pd.concat(grid_acc_list).reset_index().drop('index',axis = 1)\n",
    "# grid_acc['Year'] = grid_acc['Year'].astype('category')\n",
    "# grid_acc.to_csv('./Result/Grid_acc_tree.csv',index = False)\n",
    "\n",
    "# load the grid_acc\n",
    "grid_acc = pd.read_csv('./Result/Grid_acc_tree.csv')\n",
    "grid_acc['Year'] = grid_acc['Year'].astype('category')"
   ]
  },
  {
   "cell_type": "code",
   "execution_count": 6,
   "metadata": {},
   "outputs": [
    {
     "data": {
      "text/html": [
       "<div>\n",
       "<style scoped>\n",
       "    .dataframe tbody tr th:only-of-type {\n",
       "        vertical-align: middle;\n",
       "    }\n",
       "\n",
       "    .dataframe tbody tr th {\n",
       "        vertical-align: top;\n",
       "    }\n",
       "\n",
       "    .dataframe thead th {\n",
       "        text-align: right;\n",
       "    }\n",
       "</style>\n",
       "<table border=\"1\" class=\"dataframe\">\n",
       "  <thead>\n",
       "    <tr style=\"text-align: right;\">\n",
       "      <th></th>\n",
       "      <th>Tree</th>\n",
       "      <th>CrossFolds</th>\n",
       "      <th>Accuracy</th>\n",
       "      <th>Year</th>\n",
       "      <th>In_Bands</th>\n",
       "    </tr>\n",
       "  </thead>\n",
       "  <tbody>\n",
       "    <tr>\n",
       "      <th>0</th>\n",
       "      <td>1</td>\n",
       "      <td>split0_test_score</td>\n",
       "      <td>0.784182</td>\n",
       "      <td>1990_1992</td>\n",
       "      <td>Spectrum</td>\n",
       "    </tr>\n",
       "    <tr>\n",
       "      <th>1</th>\n",
       "      <td>1</td>\n",
       "      <td>split1_test_score</td>\n",
       "      <td>0.781355</td>\n",
       "      <td>1990_1992</td>\n",
       "      <td>Spectrum</td>\n",
       "    </tr>\n",
       "    <tr>\n",
       "      <th>2</th>\n",
       "      <td>1</td>\n",
       "      <td>split2_test_score</td>\n",
       "      <td>0.754527</td>\n",
       "      <td>1990_1992</td>\n",
       "      <td>Spectrum</td>\n",
       "    </tr>\n",
       "    <tr>\n",
       "      <th>3</th>\n",
       "      <td>1</td>\n",
       "      <td>split3_test_score</td>\n",
       "      <td>0.773307</td>\n",
       "      <td>1990_1992</td>\n",
       "      <td>Spectrum</td>\n",
       "    </tr>\n",
       "    <tr>\n",
       "      <th>4</th>\n",
       "      <td>2</td>\n",
       "      <td>split0_test_score</td>\n",
       "      <td>0.748660</td>\n",
       "      <td>1990_1992</td>\n",
       "      <td>Spectrum</td>\n",
       "    </tr>\n",
       "    <tr>\n",
       "      <th>...</th>\n",
       "      <td>...</td>\n",
       "      <td>...</td>\n",
       "      <td>...</td>\n",
       "      <td>...</td>\n",
       "      <td>...</td>\n",
       "    </tr>\n",
       "    <tr>\n",
       "      <th>23795</th>\n",
       "      <td>118</td>\n",
       "      <td>split3_test_score</td>\n",
       "      <td>0.947786</td>\n",
       "      <td>2017_2019</td>\n",
       "      <td>Spectrum_Normalize_Fourier_Terrain_Meterology</td>\n",
       "    </tr>\n",
       "    <tr>\n",
       "      <th>23796</th>\n",
       "      <td>119</td>\n",
       "      <td>split0_test_score</td>\n",
       "      <td>0.936592</td>\n",
       "      <td>2017_2019</td>\n",
       "      <td>Spectrum_Normalize_Fourier_Terrain_Meterology</td>\n",
       "    </tr>\n",
       "    <tr>\n",
       "      <th>23797</th>\n",
       "      <td>119</td>\n",
       "      <td>split1_test_score</td>\n",
       "      <td>0.948481</td>\n",
       "      <td>2017_2019</td>\n",
       "      <td>Spectrum_Normalize_Fourier_Terrain_Meterology</td>\n",
       "    </tr>\n",
       "    <tr>\n",
       "      <th>23798</th>\n",
       "      <td>119</td>\n",
       "      <td>split2_test_score</td>\n",
       "      <td>0.952444</td>\n",
       "      <td>2017_2019</td>\n",
       "      <td>Spectrum_Normalize_Fourier_Terrain_Meterology</td>\n",
       "    </tr>\n",
       "    <tr>\n",
       "      <th>23799</th>\n",
       "      <td>119</td>\n",
       "      <td>split3_test_score</td>\n",
       "      <td>0.949108</td>\n",
       "      <td>2017_2019</td>\n",
       "      <td>Spectrum_Normalize_Fourier_Terrain_Meterology</td>\n",
       "    </tr>\n",
       "  </tbody>\n",
       "</table>\n",
       "<p>23800 rows × 5 columns</p>\n",
       "</div>"
      ],
      "text/plain": [
       "       Tree         CrossFolds  Accuracy       Year  \\\n",
       "0         1  split0_test_score  0.784182  1990_1992   \n",
       "1         1  split1_test_score  0.781355  1990_1992   \n",
       "2         1  split2_test_score  0.754527  1990_1992   \n",
       "3         1  split3_test_score  0.773307  1990_1992   \n",
       "4         2  split0_test_score  0.748660  1990_1992   \n",
       "...     ...                ...       ...        ...   \n",
       "23795   118  split3_test_score  0.947786  2017_2019   \n",
       "23796   119  split0_test_score  0.936592  2017_2019   \n",
       "23797   119  split1_test_score  0.948481  2017_2019   \n",
       "23798   119  split2_test_score  0.952444  2017_2019   \n",
       "23799   119  split3_test_score  0.949108  2017_2019   \n",
       "\n",
       "                                            In_Bands  \n",
       "0                                           Spectrum  \n",
       "1                                           Spectrum  \n",
       "2                                           Spectrum  \n",
       "3                                           Spectrum  \n",
       "4                                           Spectrum  \n",
       "...                                              ...  \n",
       "23795  Spectrum_Normalize_Fourier_Terrain_Meterology  \n",
       "23796  Spectrum_Normalize_Fourier_Terrain_Meterology  \n",
       "23797  Spectrum_Normalize_Fourier_Terrain_Meterology  \n",
       "23798  Spectrum_Normalize_Fourier_Terrain_Meterology  \n",
       "23799  Spectrum_Normalize_Fourier_Terrain_Meterology  \n",
       "\n",
       "[23800 rows x 5 columns]"
      ]
     },
     "execution_count": 6,
     "metadata": {},
     "output_type": "execute_result"
    }
   ],
   "source": [
    "grid_acc"
   ]
  },
  {
   "cell_type": "code",
   "execution_count": null,
   "metadata": {},
   "outputs": [],
   "source": []
  },
  {
   "cell_type": "code",
   "execution_count": null,
   "metadata": {},
   "outputs": [],
   "source": []
  },
  {
   "cell_type": "markdown",
   "metadata": {},
   "source": [
    "##### Observe that the tree number of 100 is enough for classification"
   ]
  },
  {
   "cell_type": "code",
   "execution_count": 7,
   "metadata": {},
   "outputs": [
    {
     "data": {
      "text/plain": [
       "<matplotlib.axes._subplots.AxesSubplot at 0x1c0b3c148d0>"
      ]
     },
     "execution_count": 7,
     "metadata": {},
     "output_type": "execute_result"
    },
    {
     "data": {
      "image/png": "[encoded data removed]",
      "text/plain": [
       "<Figure size 864x576 with 1 Axes>"
      ]
     },
     "metadata": {
      "needs_background": "light"
     },
     "output_type": "display_data"
    }
   ],
   "source": [
    "plt.figure(figsize=(12,8))\n",
    "sns.lineplot(data = grid_acc[grid_acc['In_Bands']=='Spectrum_Normalize_Fourier_Terrain_Meterology'],\n",
    "             x='Tree',\n",
    "             y='Accuracy')"
   ]
  },
  {
   "cell_type": "code",
   "execution_count": null,
   "metadata": {},
   "outputs": [],
   "source": []
  },
  {
   "cell_type": "markdown",
   "metadata": {},
   "source": [
    "##### Observe that the Fourier bands significant increases the accuracy"
   ]
  },
  {
   "cell_type": "code",
   "execution_count": null,
   "metadata": {},
   "outputs": [],
   "source": []
  },
  {
   "cell_type": "code",
   "execution_count": 9,
   "metadata": {},
   "outputs": [],
   "source": [
    "# get the accuracy with the tree number of 100\n",
    "Acc_tree_100 = grid_acc[grid_acc['Tree'] == 100]"
   ]
  },
  {
   "cell_type": "code",
   "execution_count": 10,
   "metadata": {},
   "outputs": [
    {
     "data": {
      "text/html": [
       "<div>\n",
       "<style scoped>\n",
       "    .dataframe tbody tr th:only-of-type {\n",
       "        vertical-align: middle;\n",
       "    }\n",
       "\n",
       "    .dataframe tbody tr th {\n",
       "        vertical-align: top;\n",
       "    }\n",
       "\n",
       "    .dataframe thead th {\n",
       "        text-align: right;\n",
       "    }\n",
       "</style>\n",
       "<table border=\"1\" class=\"dataframe\">\n",
       "  <thead>\n",
       "    <tr style=\"text-align: right;\">\n",
       "      <th></th>\n",
       "      <th>Tree</th>\n",
       "      <th>CrossFolds</th>\n",
       "      <th>Accuracy</th>\n",
       "      <th>Year</th>\n",
       "      <th>In_Bands</th>\n",
       "    </tr>\n",
       "  </thead>\n",
       "  <tbody>\n",
       "    <tr>\n",
       "      <th>396</th>\n",
       "      <td>100</td>\n",
       "      <td>split0_test_score</td>\n",
       "      <td>0.839812</td>\n",
       "      <td>1990_1992</td>\n",
       "      <td>Spectrum</td>\n",
       "    </tr>\n",
       "    <tr>\n",
       "      <th>397</th>\n",
       "      <td>100</td>\n",
       "      <td>split1_test_score</td>\n",
       "      <td>0.845741</td>\n",
       "      <td>1990_1992</td>\n",
       "      <td>Spectrum</td>\n",
       "    </tr>\n",
       "    <tr>\n",
       "      <th>398</th>\n",
       "      <td>100</td>\n",
       "      <td>split2_test_score</td>\n",
       "      <td>0.834339</td>\n",
       "      <td>1990_1992</td>\n",
       "      <td>Spectrum</td>\n",
       "    </tr>\n",
       "    <tr>\n",
       "      <th>399</th>\n",
       "      <td>100</td>\n",
       "      <td>split3_test_score</td>\n",
       "      <td>0.849095</td>\n",
       "      <td>1990_1992</td>\n",
       "      <td>Spectrum</td>\n",
       "    </tr>\n",
       "    <tr>\n",
       "      <th>872</th>\n",
       "      <td>100</td>\n",
       "      <td>split0_test_score</td>\n",
       "      <td>0.866622</td>\n",
       "      <td>1990_1992</td>\n",
       "      <td>Spectrum_Normalize</td>\n",
       "    </tr>\n",
       "    <tr>\n",
       "      <th>...</th>\n",
       "      <td>...</td>\n",
       "      <td>...</td>\n",
       "      <td>...</td>\n",
       "      <td>...</td>\n",
       "      <td>...</td>\n",
       "    </tr>\n",
       "    <tr>\n",
       "      <th>23247</th>\n",
       "      <td>100</td>\n",
       "      <td>split3_test_score</td>\n",
       "      <td>0.942498</td>\n",
       "      <td>2017_2019</td>\n",
       "      <td>Spectrum_Normalize_Fourier_Terrain</td>\n",
       "    </tr>\n",
       "    <tr>\n",
       "      <th>23720</th>\n",
       "      <td>100</td>\n",
       "      <td>split0_test_score</td>\n",
       "      <td>0.935931</td>\n",
       "      <td>2017_2019</td>\n",
       "      <td>Spectrum_Normalize_Fourier_Terrain_Meterology</td>\n",
       "    </tr>\n",
       "    <tr>\n",
       "      <th>23721</th>\n",
       "      <td>100</td>\n",
       "      <td>split1_test_score</td>\n",
       "      <td>0.948481</td>\n",
       "      <td>2017_2019</td>\n",
       "      <td>Spectrum_Normalize_Fourier_Terrain_Meterology</td>\n",
       "    </tr>\n",
       "    <tr>\n",
       "      <th>23722</th>\n",
       "      <td>100</td>\n",
       "      <td>split2_test_score</td>\n",
       "      <td>0.950462</td>\n",
       "      <td>2017_2019</td>\n",
       "      <td>Spectrum_Normalize_Fourier_Terrain_Meterology</td>\n",
       "    </tr>\n",
       "    <tr>\n",
       "      <th>23723</th>\n",
       "      <td>100</td>\n",
       "      <td>split3_test_score</td>\n",
       "      <td>0.946464</td>\n",
       "      <td>2017_2019</td>\n",
       "      <td>Spectrum_Normalize_Fourier_Terrain_Meterology</td>\n",
       "    </tr>\n",
       "  </tbody>\n",
       "</table>\n",
       "<p>200 rows × 5 columns</p>\n",
       "</div>"
      ],
      "text/plain": [
       "       Tree         CrossFolds  Accuracy       Year  \\\n",
       "396     100  split0_test_score  0.839812  1990_1992   \n",
       "397     100  split1_test_score  0.845741  1990_1992   \n",
       "398     100  split2_test_score  0.834339  1990_1992   \n",
       "399     100  split3_test_score  0.849095  1990_1992   \n",
       "872     100  split0_test_score  0.866622  1990_1992   \n",
       "...     ...                ...       ...        ...   \n",
       "23247   100  split3_test_score  0.942498  2017_2019   \n",
       "23720   100  split0_test_score  0.935931  2017_2019   \n",
       "23721   100  split1_test_score  0.948481  2017_2019   \n",
       "23722   100  split2_test_score  0.950462  2017_2019   \n",
       "23723   100  split3_test_score  0.946464  2017_2019   \n",
       "\n",
       "                                            In_Bands  \n",
       "396                                         Spectrum  \n",
       "397                                         Spectrum  \n",
       "398                                         Spectrum  \n",
       "399                                         Spectrum  \n",
       "872                               Spectrum_Normalize  \n",
       "...                                              ...  \n",
       "23247             Spectrum_Normalize_Fourier_Terrain  \n",
       "23720  Spectrum_Normalize_Fourier_Terrain_Meterology  \n",
       "23721  Spectrum_Normalize_Fourier_Terrain_Meterology  \n",
       "23722  Spectrum_Normalize_Fourier_Terrain_Meterology  \n",
       "23723  Spectrum_Normalize_Fourier_Terrain_Meterology  \n",
       "\n",
       "[200 rows x 5 columns]"
      ]
     },
     "execution_count": 10,
     "metadata": {},
     "output_type": "execute_result"
    }
   ],
   "source": [
    "Acc_tree_100"
   ]
  },
  {
   "cell_type": "code",
   "execution_count": null,
   "metadata": {},
   "outputs": [],
   "source": []
  },
  {
   "cell_type": "code",
   "execution_count": 11,
   "metadata": {},
   "outputs": [
    {
     "data": {
      "text/plain": [
       "<matplotlib.axes._subplots.AxesSubplot at 0x1c0b45a7dd8>"
      ]
     },
     "execution_count": 11,
     "metadata": {},
     "output_type": "execute_result"
    },
    {
     "data": {
      "image/png": "[encoded data removed]",
      "text/plain": [
       "<Figure size 864x576 with 1 Axes>"
      ]
     },
     "metadata": {
      "needs_background": "light"
     },
     "output_type": "display_data"
    }
   ],
   "source": [
    "plt.figure(figsize=(12,8))\n",
    "sns.lineplot(data = Acc_tree_100,\n",
    "             x='Year',\n",
    "             y='Accuracy',\n",
    "             hue = 'In_Bands')"
   ]
  },
  {
   "cell_type": "code",
   "execution_count": null,
   "metadata": {},
   "outputs": [],
   "source": []
  },
  {
   "cell_type": "code",
   "execution_count": null,
   "metadata": {},
   "outputs": [],
   "source": []
  },
  {
   "cell_type": "code",
   "execution_count": null,
   "metadata": {},
   "outputs": [],
   "source": []
  },
  {
   "cell_type": "markdown",
   "metadata": {},
   "source": [
    "##### Just for fun: Use ANN(tf) to construct to classification moedl"
   ]
  },
  {
   "cell_type": "code",
   "execution_count": null,
   "metadata": {},
   "outputs": [],
   "source": []
  },
  {
   "cell_type": "code",
   "execution_count": 5,
   "metadata": {},
   "outputs": [],
   "source": [
    "# get one df for trying\n",
    "fe = feature_df[-1]\n",
    "\n",
    "# get the X and y\n",
    "X = fe.drop('Built',1)\n",
    "y = fe['Built']\n",
    "\n",
    "# train/test split\n",
    "from sklearn.model_selection import train_test_split\n",
    "\n",
    "X_train, X_test, y_train, y_test = train_test_split(X, y, test_size=0.33, random_state=42)"
   ]
  },
  {
   "cell_type": "code",
   "execution_count": null,
   "metadata": {},
   "outputs": [],
   "source": []
  },
  {
   "cell_type": "code",
   "execution_count": 6,
   "metadata": {},
   "outputs": [],
   "source": [
    "# reshape the y values \n",
    "y_train = y_train.values.reshape([-1,1])\n",
    "y_test = y_test.values.reshape([-1,1])"
   ]
  },
  {
   "cell_type": "code",
   "execution_count": null,
   "metadata": {},
   "outputs": [],
   "source": []
  },
  {
   "cell_type": "code",
   "execution_count": 7,
   "metadata": {},
   "outputs": [],
   "source": [
    "# scale the X values \n",
    "from sklearn.preprocessing import MinMaxScaler\n",
    "\n",
    "scaler = MinMaxScaler()\n",
    "scaler.fit_transform(X_train)\n",
    "\n",
    "X_train = scaler.transform(X_train)\n",
    "X_test  = scaler.transform(X_test)"
   ]
  },
  {
   "cell_type": "code",
   "execution_count": null,
   "metadata": {},
   "outputs": [],
   "source": []
  },
  {
   "cell_type": "code",
   "execution_count": 8,
   "metadata": {},
   "outputs": [],
   "source": [
    "# construct the ANN model\n",
    "from tensorflow.keras.models import Sequential\n",
    "from tensorflow.keras.layers import Dense,Dropout"
   ]
  },
  {
   "cell_type": "code",
   "execution_count": 9,
   "metadata": {
    "scrolled": true
   },
   "outputs": [],
   "source": [
    "# built layers \n",
    "model = Sequential()\n",
    "\n",
    "model.add(Dense(20,activation='relu'))\n",
    "model.add(Dense(10,activation='relu'))\n",
    "model.add(Dense(5,activation='relu'))\n",
    "model.add(Dense(2,activation='relu'))\n",
    "\n",
    "model.add(Dense(1,activation = 'sigmoid'))\n",
    "\n",
    "model.compile(optimizer='adam',loss = 'binary_crossentropy',metrics=['accuracy'])"
   ]
  },
  {
   "cell_type": "code",
   "execution_count": null,
   "metadata": {},
   "outputs": [],
   "source": []
  },
  {
   "cell_type": "code",
   "execution_count": 10,
   "metadata": {
    "scrolled": true
   },
   "outputs": [
    {
     "name": "stdout",
     "output_type": "stream",
     "text": [
      "Train on 4056 samples, validate on 1999 samples\n",
      "Epoch 1/100\n",
      "4056/4056 [==============================] - 1s 242us/sample - loss: 0.6090 - accuracy: 0.6923 - val_loss: 0.5148 - val_accuracy: 0.8579\n",
      "Epoch 2/100\n",
      "4056/4056 [==============================] - 0s 52us/sample - loss: 0.4454 - accuracy: 0.8713 - val_loss: 0.3811 - val_accuracy: 0.8934\n",
      "Epoch 3/100\n",
      "4056/4056 [==============================] - 0s 52us/sample - loss: 0.3092 - accuracy: 0.8969 - val_loss: 0.2732 - val_accuracy: 0.9015\n",
      "Epoch 4/100\n",
      "4056/4056 [==============================] - 0s 50us/sample - loss: 0.2566 - accuracy: 0.9011 - val_loss: 0.2527 - val_accuracy: 0.9050\n",
      "Epoch 5/100\n",
      "4056/4056 [==============================] - 0s 52us/sample - loss: 0.2379 - accuracy: 0.9120 - val_loss: 0.2349 - val_accuracy: 0.9130\n",
      "Epoch 6/100\n",
      "4056/4056 [==============================] - 0s 50us/sample - loss: 0.2264 - accuracy: 0.9122 - val_loss: 0.2397 - val_accuracy: 0.9070\n",
      "Epoch 7/100\n",
      "4056/4056 [==============================] - 0s 51us/sample - loss: 0.2232 - accuracy: 0.9167 - val_loss: 0.2217 - val_accuracy: 0.9195\n",
      "Epoch 8/100\n",
      "4056/4056 [==============================] - 0s 51us/sample - loss: 0.2146 - accuracy: 0.9130 - val_loss: 0.2167 - val_accuracy: 0.9210\n",
      "Epoch 9/100\n",
      "4056/4056 [==============================] - 0s 51us/sample - loss: 0.2061 - accuracy: 0.9191 - val_loss: 0.2133 - val_accuracy: 0.9140\n",
      "Epoch 10/100\n",
      "4056/4056 [==============================] - 0s 54us/sample - loss: 0.1960 - accuracy: 0.9233 - val_loss: 0.2275 - val_accuracy: 0.9125\n",
      "Epoch 11/100\n",
      "4056/4056 [==============================] - 0s 53us/sample - loss: 0.1974 - accuracy: 0.9226 - val_loss: 0.2032 - val_accuracy: 0.9210\n",
      "Epoch 12/100\n",
      "4056/4056 [==============================] - 0s 53us/sample - loss: 0.1836 - accuracy: 0.9278 - val_loss: 0.1926 - val_accuracy: 0.9255\n",
      "Epoch 13/100\n",
      "4056/4056 [==============================] - 0s 55us/sample - loss: 0.1804 - accuracy: 0.9292 - val_loss: 0.1960 - val_accuracy: 0.9245\n",
      "Epoch 14/100\n",
      "4056/4056 [==============================] - 0s 57us/sample - loss: 0.1772 - accuracy: 0.9295 - val_loss: 0.1879 - val_accuracy: 0.9305\n",
      "Epoch 15/100\n",
      "4056/4056 [==============================] - 0s 53us/sample - loss: 0.1840 - accuracy: 0.9285 - val_loss: 0.1893 - val_accuracy: 0.9235\n",
      "Epoch 16/100\n",
      "4056/4056 [==============================] - 0s 51us/sample - loss: 0.1884 - accuracy: 0.9218 - val_loss: 0.2072 - val_accuracy: 0.9125\n",
      "Epoch 17/100\n",
      "4056/4056 [==============================] - 0s 51us/sample - loss: 0.1687 - accuracy: 0.9347 - val_loss: 0.1842 - val_accuracy: 0.9295\n",
      "Epoch 18/100\n",
      "4056/4056 [==============================] - 0s 52us/sample - loss: 0.1654 - accuracy: 0.9384 - val_loss: 0.2217 - val_accuracy: 0.9075\n",
      "Epoch 19/100\n",
      "4056/4056 [==============================] - 0s 58us/sample - loss: 0.1799 - accuracy: 0.9307 - val_loss: 0.1824 - val_accuracy: 0.9335\n",
      "Epoch 20/100\n",
      "4056/4056 [==============================] - 0s 51us/sample - loss: 0.1714 - accuracy: 0.9354 - val_loss: 0.1824 - val_accuracy: 0.9305\n",
      "Epoch 21/100\n",
      "4056/4056 [==============================] - 0s 52us/sample - loss: 0.1644 - accuracy: 0.9374 - val_loss: 0.1764 - val_accuracy: 0.9325\n",
      "Epoch 22/100\n",
      "4056/4056 [==============================] - 0s 52us/sample - loss: 0.1662 - accuracy: 0.9354 - val_loss: 0.1755 - val_accuracy: 0.9335\n",
      "Epoch 23/100\n",
      "4056/4056 [==============================] - 0s 56us/sample - loss: 0.1631 - accuracy: 0.9408 - val_loss: 0.1810 - val_accuracy: 0.9305\n",
      "Epoch 24/100\n",
      "4056/4056 [==============================] - 0s 57us/sample - loss: 0.1574 - accuracy: 0.9435 - val_loss: 0.2140 - val_accuracy: 0.9105\n",
      "Epoch 25/100\n",
      "4056/4056 [==============================] - 0s 50us/sample - loss: 0.1580 - accuracy: 0.9411 - val_loss: 0.1836 - val_accuracy: 0.9285\n",
      "Epoch 26/100\n",
      "4056/4056 [==============================] - 0s 54us/sample - loss: 0.1579 - accuracy: 0.9384 - val_loss: 0.1642 - val_accuracy: 0.9405\n",
      "Epoch 27/100\n",
      "4056/4056 [==============================] - 0s 57us/sample - loss: 0.1526 - accuracy: 0.9440 - val_loss: 0.1647 - val_accuracy: 0.9385\n",
      "Epoch 28/100\n",
      "4056/4056 [==============================] - 0s 51us/sample - loss: 0.1552 - accuracy: 0.9463 - val_loss: 0.1646 - val_accuracy: 0.9400\n",
      "Epoch 29/100\n",
      "4056/4056 [==============================] - 0s 53us/sample - loss: 0.1547 - accuracy: 0.9460 - val_loss: 0.1729 - val_accuracy: 0.9290\n",
      "Epoch 30/100\n",
      "4056/4056 [==============================] - 0s 50us/sample - loss: 0.1500 - accuracy: 0.9458 - val_loss: 0.1679 - val_accuracy: 0.9380\n",
      "Epoch 31/100\n",
      "4056/4056 [==============================] - 0s 55us/sample - loss: 0.1488 - accuracy: 0.9458 - val_loss: 0.1676 - val_accuracy: 0.9345\n",
      "Epoch 32/100\n",
      "4056/4056 [==============================] - 0s 57us/sample - loss: 0.1500 - accuracy: 0.9423 - val_loss: 0.1669 - val_accuracy: 0.9360\n",
      "Epoch 33/100\n",
      "4056/4056 [==============================] - 0s 53us/sample - loss: 0.1527 - accuracy: 0.9440 - val_loss: 0.1597 - val_accuracy: 0.9405\n",
      "Epoch 34/100\n",
      "4056/4056 [==============================] - 0s 56us/sample - loss: 0.1442 - accuracy: 0.9477 - val_loss: 0.1705 - val_accuracy: 0.9330\n",
      "Epoch 35/100\n",
      "4056/4056 [==============================] - 0s 54us/sample - loss: 0.1468 - accuracy: 0.9470 - val_loss: 0.1575 - val_accuracy: 0.9420\n",
      "Epoch 36/100\n",
      "4056/4056 [==============================] - 0s 55us/sample - loss: 0.1397 - accuracy: 0.9529 - val_loss: 0.1609 - val_accuracy: 0.9405\n",
      "Epoch 37/100\n",
      "4056/4056 [==============================] - 0s 55us/sample - loss: 0.1436 - accuracy: 0.9477 - val_loss: 0.1645 - val_accuracy: 0.9380\n",
      "Epoch 38/100\n",
      "4056/4056 [==============================] - 0s 58us/sample - loss: 0.1474 - accuracy: 0.9440 - val_loss: 0.1664 - val_accuracy: 0.9365\n",
      "Epoch 39/100\n",
      "4056/4056 [==============================] - 0s 58us/sample - loss: 0.1463 - accuracy: 0.9470 - val_loss: 0.1583 - val_accuracy: 0.9455\n",
      "Epoch 40/100\n",
      "4056/4056 [==============================] - 0s 57us/sample - loss: 0.1416 - accuracy: 0.9475 - val_loss: 0.1718 - val_accuracy: 0.9340\n",
      "Epoch 41/100\n",
      "4056/4056 [==============================] - 0s 54us/sample - loss: 0.1427 - accuracy: 0.9472 - val_loss: 0.1574 - val_accuracy: 0.9375\n",
      "Epoch 42/100\n",
      "4056/4056 [==============================] - 0s 58us/sample - loss: 0.1402 - accuracy: 0.9514 - val_loss: 0.1618 - val_accuracy: 0.9370\n",
      "Epoch 43/100\n",
      "4056/4056 [==============================] - 0s 54us/sample - loss: 0.1412 - accuracy: 0.9470 - val_loss: 0.1534 - val_accuracy: 0.9440\n",
      "Epoch 44/100\n",
      "4056/4056 [==============================] - 0s 56us/sample - loss: 0.1376 - accuracy: 0.9500 - val_loss: 0.1546 - val_accuracy: 0.9425\n",
      "Epoch 45/100\n",
      "4056/4056 [==============================] - 0s 55us/sample - loss: 0.1450 - accuracy: 0.9470 - val_loss: 0.1732 - val_accuracy: 0.9365\n",
      "Epoch 46/100\n",
      "4056/4056 [==============================] - 0s 56us/sample - loss: 0.1344 - accuracy: 0.9524 - val_loss: 0.1518 - val_accuracy: 0.9430\n",
      "Epoch 47/100\n",
      "4056/4056 [==============================] - 0s 60us/sample - loss: 0.1348 - accuracy: 0.9551 - val_loss: 0.1656 - val_accuracy: 0.9375\n",
      "Epoch 48/100\n",
      "4056/4056 [==============================] - 0s 54us/sample - loss: 0.1415 - accuracy: 0.9497 - val_loss: 0.1597 - val_accuracy: 0.9405\n",
      "Epoch 49/100\n",
      "4056/4056 [==============================] - 0s 58us/sample - loss: 0.1358 - accuracy: 0.9500 - val_loss: 0.1492 - val_accuracy: 0.9425\n",
      "Epoch 50/100\n",
      "4056/4056 [==============================] - 0s 54us/sample - loss: 0.1345 - accuracy: 0.9502 - val_loss: 0.1455 - val_accuracy: 0.9460\n",
      "Epoch 51/100\n",
      "4056/4056 [==============================] - 0s 55us/sample - loss: 0.1320 - accuracy: 0.9509 - val_loss: 0.1542 - val_accuracy: 0.9385\n",
      "Epoch 52/100\n",
      "4056/4056 [==============================] - 0s 59us/sample - loss: 0.1445 - accuracy: 0.9504 - val_loss: 0.1453 - val_accuracy: 0.9470\n",
      "Epoch 53/100\n",
      "4056/4056 [==============================] - 0s 51us/sample - loss: 0.1324 - accuracy: 0.9532 - val_loss: 0.1628 - val_accuracy: 0.9375\n",
      "Epoch 54/100\n",
      "4056/4056 [==============================] - 0s 52us/sample - loss: 0.1387 - accuracy: 0.9536 - val_loss: 0.1593 - val_accuracy: 0.9355\n",
      "Epoch 55/100\n",
      "4056/4056 [==============================] - 0s 50us/sample - loss: 0.1277 - accuracy: 0.9554 - val_loss: 0.1623 - val_accuracy: 0.9340\n"
     ]
    },
    {
     "name": "stdout",
     "output_type": "stream",
     "text": [
      "Epoch 56/100\n",
      "4056/4056 [==============================] - 0s 50us/sample - loss: 0.1365 - accuracy: 0.9532 - val_loss: 0.1566 - val_accuracy: 0.9450\n",
      "Epoch 57/100\n",
      "4056/4056 [==============================] - 0s 49us/sample - loss: 0.1422 - accuracy: 0.9477 - val_loss: 0.1499 - val_accuracy: 0.9455\n",
      "Epoch 58/100\n",
      "4056/4056 [==============================] - 0s 50us/sample - loss: 0.1376 - accuracy: 0.9507 - val_loss: 0.1447 - val_accuracy: 0.9485\n",
      "Epoch 59/100\n",
      "4056/4056 [==============================] - 0s 51us/sample - loss: 0.1383 - accuracy: 0.9512 - val_loss: 0.1433 - val_accuracy: 0.9480\n",
      "Epoch 60/100\n",
      "4056/4056 [==============================] - 0s 50us/sample - loss: 0.1276 - accuracy: 0.9546 - val_loss: 0.1507 - val_accuracy: 0.9410\n",
      "Epoch 61/100\n",
      "4056/4056 [==============================] - 0s 48us/sample - loss: 0.1291 - accuracy: 0.9549 - val_loss: 0.2029 - val_accuracy: 0.9255\n",
      "Epoch 62/100\n",
      "4056/4056 [==============================] - 0s 57us/sample - loss: 0.1394 - accuracy: 0.9477 - val_loss: 0.1620 - val_accuracy: 0.9375\n",
      "Epoch 63/100\n",
      "4056/4056 [==============================] - 0s 53us/sample - loss: 0.1288 - accuracy: 0.9551 - val_loss: 0.1475 - val_accuracy: 0.9485\n",
      "Epoch 64/100\n",
      "4056/4056 [==============================] - 0s 53us/sample - loss: 0.1295 - accuracy: 0.9556 - val_loss: 0.1601 - val_accuracy: 0.9405\n",
      "Epoch 65/100\n",
      "4056/4056 [==============================] - 0s 53us/sample - loss: 0.1413 - accuracy: 0.9463 - val_loss: 0.1830 - val_accuracy: 0.9340\n",
      "Epoch 66/100\n",
      "4056/4056 [==============================] - 0s 50us/sample - loss: 0.1363 - accuracy: 0.9519 - val_loss: 0.1471 - val_accuracy: 0.9435\n",
      "Epoch 67/100\n",
      "4056/4056 [==============================] - 0s 56us/sample - loss: 0.1306 - accuracy: 0.9554 - val_loss: 0.1769 - val_accuracy: 0.9355\n",
      "Epoch 68/100\n",
      "4056/4056 [==============================] - 0s 54us/sample - loss: 0.1290 - accuracy: 0.9527 - val_loss: 0.1655 - val_accuracy: 0.9400\n",
      "Epoch 69/100\n",
      "4056/4056 [==============================] - 0s 56us/sample - loss: 0.1334 - accuracy: 0.9522 - val_loss: 0.1514 - val_accuracy: 0.9455\n",
      "Epoch 70/100\n",
      "4056/4056 [==============================] - 0s 51us/sample - loss: 0.1318 - accuracy: 0.9512 - val_loss: 0.1406 - val_accuracy: 0.9500\n",
      "Epoch 71/100\n",
      "4056/4056 [==============================] - 0s 56us/sample - loss: 0.1304 - accuracy: 0.9541 - val_loss: 0.1455 - val_accuracy: 0.9450\n",
      "Epoch 72/100\n",
      "4056/4056 [==============================] - 0s 52us/sample - loss: 0.1316 - accuracy: 0.9524 - val_loss: 0.1370 - val_accuracy: 0.9495\n",
      "Epoch 73/100\n",
      "4056/4056 [==============================] - 0s 52us/sample - loss: 0.1251 - accuracy: 0.9539 - val_loss: 0.1462 - val_accuracy: 0.9445\n",
      "Epoch 74/100\n",
      "4056/4056 [==============================] - 0s 54us/sample - loss: 0.1310 - accuracy: 0.9514 - val_loss: 0.1476 - val_accuracy: 0.9455\n",
      "Epoch 75/100\n",
      "4056/4056 [==============================] - 0s 52us/sample - loss: 0.1269 - accuracy: 0.9536 - val_loss: 0.1622 - val_accuracy: 0.9390\n",
      "Epoch 76/100\n",
      "4056/4056 [==============================] - 0s 52us/sample - loss: 0.1298 - accuracy: 0.9517 - val_loss: 0.1460 - val_accuracy: 0.9450\n",
      "Epoch 77/100\n",
      "4056/4056 [==============================] - 0s 56us/sample - loss: 0.1272 - accuracy: 0.9534 - val_loss: 0.1390 - val_accuracy: 0.9495\n",
      "Epoch 78/100\n",
      "4056/4056 [==============================] - 0s 52us/sample - loss: 0.1276 - accuracy: 0.9556 - val_loss: 0.1521 - val_accuracy: 0.9470\n",
      "Epoch 79/100\n",
      "4056/4056 [==============================] - 0s 50us/sample - loss: 0.1280 - accuracy: 0.9554 - val_loss: 0.1919 - val_accuracy: 0.9260\n",
      "Epoch 80/100\n",
      "4056/4056 [==============================] - 0s 51us/sample - loss: 0.1254 - accuracy: 0.9551 - val_loss: 0.1606 - val_accuracy: 0.9380\n",
      "Epoch 81/100\n",
      "4056/4056 [==============================] - 0s 53us/sample - loss: 0.1259 - accuracy: 0.9561 - val_loss: 0.1377 - val_accuracy: 0.9510\n",
      "Epoch 82/100\n",
      "4056/4056 [==============================] - 0s 56us/sample - loss: 0.1240 - accuracy: 0.9551 - val_loss: 0.1361 - val_accuracy: 0.9505\n",
      "Epoch 83/100\n",
      "4056/4056 [==============================] - 0s 51us/sample - loss: 0.1374 - accuracy: 0.9502 - val_loss: 0.1535 - val_accuracy: 0.9425\n",
      "Epoch 84/100\n",
      "4056/4056 [==============================] - 0s 51us/sample - loss: 0.1339 - accuracy: 0.9497 - val_loss: 0.1896 - val_accuracy: 0.9310\n",
      "Epoch 85/100\n",
      "4056/4056 [==============================] - 0s 54us/sample - loss: 0.1308 - accuracy: 0.9549 - val_loss: 0.1434 - val_accuracy: 0.9445\n",
      "Epoch 86/100\n",
      "4056/4056 [==============================] - 0s 52us/sample - loss: 0.1259 - accuracy: 0.9556 - val_loss: 0.1792 - val_accuracy: 0.9320\n",
      "Epoch 87/100\n",
      "4056/4056 [==============================] - 0s 51us/sample - loss: 0.1186 - accuracy: 0.9576 - val_loss: 0.1420 - val_accuracy: 0.9520\n",
      "Epoch 88/100\n",
      "4056/4056 [==============================] - 0s 51us/sample - loss: 0.1490 - accuracy: 0.9440 - val_loss: 0.1673 - val_accuracy: 0.9355\n",
      "Epoch 89/100\n",
      "4056/4056 [==============================] - 0s 52us/sample - loss: 0.1236 - accuracy: 0.9546 - val_loss: 0.1428 - val_accuracy: 0.9480\n",
      "Epoch 90/100\n",
      "4056/4056 [==============================] - 0s 52us/sample - loss: 0.1254 - accuracy: 0.9569 - val_loss: 0.1448 - val_accuracy: 0.9460\n",
      "Epoch 91/100\n",
      "4056/4056 [==============================] - 0s 56us/sample - loss: 0.1246 - accuracy: 0.9544 - val_loss: 0.1365 - val_accuracy: 0.9485\n",
      "Epoch 92/100\n",
      "4056/4056 [==============================] - 0s 54us/sample - loss: 0.1244 - accuracy: 0.9571 - val_loss: 0.1394 - val_accuracy: 0.9495\n",
      "Epoch 93/100\n",
      "4056/4056 [==============================] - 0s 52us/sample - loss: 0.1220 - accuracy: 0.9546 - val_loss: 0.1376 - val_accuracy: 0.9515\n",
      "Epoch 94/100\n",
      "4056/4056 [==============================] - 0s 62us/sample - loss: 0.1143 - accuracy: 0.9591 - val_loss: 0.1433 - val_accuracy: 0.9450\n",
      "Epoch 95/100\n",
      "4056/4056 [==============================] - 0s 58us/sample - loss: 0.1251 - accuracy: 0.9551 - val_loss: 0.1400 - val_accuracy: 0.9480\n",
      "Epoch 96/100\n",
      "4056/4056 [==============================] - 0s 56us/sample - loss: 0.1251 - accuracy: 0.9539 - val_loss: 0.1522 - val_accuracy: 0.9425\n",
      "Epoch 97/100\n",
      "4056/4056 [==============================] - 0s 54us/sample - loss: 0.1261 - accuracy: 0.9532 - val_loss: 0.1323 - val_accuracy: 0.9535\n",
      "Epoch 98/100\n",
      "4056/4056 [==============================] - 0s 52us/sample - loss: 0.1179 - accuracy: 0.9561 - val_loss: 0.1383 - val_accuracy: 0.9505\n",
      "Epoch 99/100\n",
      "4056/4056 [==============================] - 0s 52us/sample - loss: 0.1174 - accuracy: 0.9566 - val_loss: 0.1412 - val_accuracy: 0.9480\n",
      "Epoch 100/100\n",
      "4056/4056 [==============================] - 0s 53us/sample - loss: 0.1207 - accuracy: 0.9576 - val_loss: 0.1424 - val_accuracy: 0.9440\n"
     ]
    },
    {
     "data": {
      "text/plain": [
       "<tensorflow.python.keras.callbacks.History at 0x1644a2f8390>"
      ]
     },
     "execution_count": 10,
     "metadata": {},
     "output_type": "execute_result"
    }
   ],
   "source": [
    "# fit the model with X and y\n",
    "model.fit(x=X_train,y=y_train,epochs=100,validation_data=(X_test,y_test))"
   ]
  },
  {
   "cell_type": "code",
   "execution_count": null,
   "metadata": {},
   "outputs": [],
   "source": []
  },
  {
   "cell_type": "code",
   "execution_count": null,
   "metadata": {},
   "outputs": [],
   "source": [
    "# plot the losses\n",
    "losses = pd.DataFrame(model.history.history)"
   ]
  },
  {
   "cell_type": "code",
   "execution_count": 17,
   "metadata": {},
   "outputs": [],
   "source": [
    "val_accuracy = losses['val_accuracy']"
   ]
  },
  {
   "cell_type": "code",
   "execution_count": 18,
   "metadata": {},
   "outputs": [
    {
     "data": {
      "text/plain": [
       "<matplotlib.axes._subplots.AxesSubplot at 0x1644dbc4c18>"
      ]
     },
     "execution_count": 18,
     "metadata": {},
     "output_type": "execute_result"
    },
    {
     "data": {
      "image/png": "[encoded data removed]",
      "text/plain": [
       "<Figure size 432x288 with 1 Axes>"
      ]
     },
     "metadata": {
      "needs_background": "light"
     },
     "output_type": "display_data"
    }
   ],
   "source": [
    "val_accuracy.plot()"
   ]
  },
  {
   "cell_type": "code",
   "execution_count": null,
   "metadata": {},
   "outputs": [],
   "source": []
  },
  {
   "cell_type": "code",
   "execution_count": null,
   "metadata": {},
   "outputs": [],
   "source": []
  },
  {
   "cell_type": "code",
   "execution_count": 86,
   "metadata": {},
   "outputs": [],
   "source": [
    "# let's see the performance of the modle\n",
    "from sklearn.metrics import classification_report,confusion_matrix\n",
    "pred = model.predict_classes(X_test)"
   ]
  },
  {
   "cell_type": "code",
   "execution_count": null,
   "metadata": {},
   "outputs": [],
   "source": []
  },
  {
   "cell_type": "code",
   "execution_count": 87,
   "metadata": {},
   "outputs": [
    {
     "name": "stdout",
     "output_type": "stream",
     "text": [
      "              precision    recall  f1-score   support\n",
      "\n",
      "           0       0.96      0.93      0.95      1011\n",
      "           1       0.94      0.96      0.95       988\n",
      "\n",
      "    accuracy                           0.95      1999\n",
      "   macro avg       0.95      0.95      0.95      1999\n",
      "weighted avg       0.95      0.95      0.95      1999\n",
      "\n"
     ]
    }
   ],
   "source": [
    "# print the classification report\n",
    "print(classification_report(y_test,pred))"
   ]
  },
  {
   "cell_type": "code",
   "execution_count": 88,
   "metadata": {},
   "outputs": [
    {
     "name": "stdout",
     "output_type": "stream",
     "text": [
      "[[945  66]\n",
      " [ 35 953]]\n"
     ]
    }
   ],
   "source": [
    "# print the confusin matrix\n",
    "print(confusion_matrix(y_test,pred))"
   ]
  },
  {
   "cell_type": "code",
   "execution_count": null,
   "metadata": {},
   "outputs": [],
   "source": []
  },
  {
   "cell_type": "code",
   "execution_count": null,
   "metadata": {},
   "outputs": [],
   "source": []
  },
  {
   "cell_type": "code",
   "execution_count": null,
   "metadata": {},
   "outputs": [],
   "source": []
  },
  {
   "cell_type": "code",
   "execution_count": null,
   "metadata": {},
   "outputs": [],
   "source": []
  },
  {
   "cell_type": "code",
   "execution_count": null,
   "metadata": {},
   "outputs": [],
   "source": []
  },
  {
   "cell_type": "code",
   "execution_count": null,
   "metadata": {},
   "outputs": [],
   "source": []
  },
  {
   "cell_type": "code",
   "execution_count": null,
   "metadata": {},
   "outputs": [],
   "source": []
  },
  {
   "cell_type": "code",
   "execution_count": null,
   "metadata": {},
   "outputs": [],
   "source": []
  }
 ],
 "metadata": {
  "kernelspec": {
   "display_name": "Python 3",
   "language": "python",
   "name": "python3"
  },
  "language_info": {
   "codemirror_mode": {
    "name": "ipython",
    "version": 3
   },
   "file_extension": ".py",
   "mimetype": "text/x-python",
   "name": "python",
   "nbconvert_exporter": "python",
   "pygments_lexer": "ipython3",
   "version": "3.7.3"
  }
 },
 "nbformat": 4,
 "nbformat_minor": 2
}
