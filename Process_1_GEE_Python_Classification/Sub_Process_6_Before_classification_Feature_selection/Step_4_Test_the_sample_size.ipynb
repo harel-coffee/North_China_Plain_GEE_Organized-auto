{
 "cells": [
  {
   "cell_type": "code",
   "execution_count": null,
   "metadata": {},
   "outputs": [],
   "source": []
  },
  {
   "cell_type": "markdown",
   "metadata": {},
   "source": [
    "This Notebook is to run a sensitive test for sample-size to accuracy.<br>\n",
    "\n",
    "Specifically, we:<br>\n",
    "1) loop through the sample size from (0.05% to 99%) of the control sample;<br>\n",
    "2) calculate the accuracy"
   ]
  },
  {
   "cell_type": "code",
   "execution_count": null,
   "metadata": {},
   "outputs": [],
   "source": []
  },
  {
   "cell_type": "code",
   "execution_count": null,
   "metadata": {},
   "outputs": [],
   "source": []
  },
  {
   "cell_type": "code",
   "execution_count": null,
   "metadata": {},
   "outputs": [],
   "source": []
  },
  {
   "cell_type": "code",
   "execution_count": 1,
   "metadata": {},
   "outputs": [],
   "source": [
    "import pandas as pd\n",
    "import seaborn as sns\n",
    "import numpy as np\n",
    "\n",
    "import matplotlib.pyplot as plt\n",
    "\n",
    "from sklearn.ensemble import RandomForestClassifier\n",
    "from sklearn.model_selection import GridSearchCV\n",
    "from sklearn.model_selection import train_test_split\n",
    "from sklearn.metrics import accuracy_score"
   ]
  },
  {
   "cell_type": "code",
   "execution_count": null,
   "metadata": {},
   "outputs": [],
   "source": []
  },
  {
   "cell_type": "markdown",
   "metadata": {},
   "source": [
    "##### Define basic parameter"
   ]
  },
  {
   "cell_type": "code",
   "execution_count": 2,
   "metadata": {},
   "outputs": [],
   "source": [
    "year_range = [f'{i}_{i+2}' for i in range(1990,2020,3)]"
   ]
  },
  {
   "cell_type": "code",
   "execution_count": 3,
   "metadata": {},
   "outputs": [],
   "source": [
    "year_name = [f'Landsat_{year}' for year in year_range] + [f'Sentinel_{year}' for year in year_range[-2:]]"
   ]
  },
  {
   "cell_type": "code",
   "execution_count": null,
   "metadata": {},
   "outputs": [],
   "source": []
  },
  {
   "cell_type": "markdown",
   "metadata": {},
   "source": [
    "##### Loop through each_year and each_size to dermine a suitable size for input sample"
   ]
  },
  {
   "cell_type": "code",
   "execution_count": 5,
   "metadata": {
    "scrolled": true
   },
   "outputs": [
    {
     "name": "stdout",
     "output_type": "stream",
     "text": [
      "Accuracy calculation of Landsat_1990_1992_0.10 finished!\n",
      "Accuracy calculation of Landsat_1990_1992_0.40 finished!\n",
      "Accuracy calculation of Landsat_1990_1992_0.70 finished!\n",
      "Accuracy calculation of Landsat_1990_1992_1.00 finished!\n",
      "Accuracy calculation of Landsat_1990_1992_1.00 finished!\n",
      "Accuracy calculation of Landsat_1990_1992_1.50 finished!\n",
      "Accuracy calculation of Landsat_1990_1992_2.00 finished!\n",
      "Accuracy calculation of Landsat_1990_1992_5.00 finished!\n",
      "Accuracy calculation of Landsat_1990_1992_10.00 finished!\n",
      "Accuracy calculation of Landsat_1990_1992_15.00 finished!\n",
      "Accuracy calculation of Landsat_1990_1992_20.00 finished!\n",
      "Accuracy calculation of Landsat_1990_1992_25.00 finished!\n",
      "Accuracy calculation of Landsat_1990_1992_30.00 finished!\n",
      "Accuracy calculation of Landsat_1990_1992_35.00 finished!\n",
      "Accuracy calculation of Landsat_1990_1992_40.00 finished!\n",
      "Accuracy calculation of Landsat_1990_1992_45.00 finished!\n",
      "Accuracy calculation of Landsat_1990_1992_50.00 finished!\n",
      "Accuracy calculation of Landsat_1990_1992_55.00 finished!\n",
      "Accuracy calculation of Landsat_1990_1992_60.00 finished!\n",
      "Accuracy calculation of Landsat_1990_1992_65.00 finished!\n",
      "Accuracy calculation of Landsat_1990_1992_70.00 finished!\n",
      "Accuracy calculation of Landsat_1990_1992_75.00 finished!\n",
      "Accuracy calculation of Landsat_1990_1992_80.00 finished!\n",
      "Accuracy calculation of Landsat_1990_1992_85.00 finished!\n",
      "Accuracy calculation of Landsat_1990_1992_90.00 finished!\n",
      "Accuracy calculation of Landsat_1990_1992_95.00 finished!\n",
      "Accuracy calculation of Landsat_1993_1995_0.10 finished!\n",
      "Accuracy calculation of Landsat_1993_1995_0.40 finished!\n",
      "Accuracy calculation of Landsat_1993_1995_0.70 finished!\n",
      "Accuracy calculation of Landsat_1993_1995_1.00 finished!\n",
      "Accuracy calculation of Landsat_1993_1995_1.00 finished!\n",
      "Accuracy calculation of Landsat_1993_1995_1.50 finished!\n",
      "Accuracy calculation of Landsat_1993_1995_2.00 finished!\n",
      "Accuracy calculation of Landsat_1993_1995_5.00 finished!\n",
      "Accuracy calculation of Landsat_1993_1995_10.00 finished!\n",
      "Accuracy calculation of Landsat_1993_1995_15.00 finished!\n",
      "Accuracy calculation of Landsat_1993_1995_20.00 finished!\n",
      "Accuracy calculation of Landsat_1993_1995_25.00 finished!\n",
      "Accuracy calculation of Landsat_1993_1995_30.00 finished!\n",
      "Accuracy calculation of Landsat_1993_1995_35.00 finished!\n",
      "Accuracy calculation of Landsat_1993_1995_40.00 finished!\n",
      "Accuracy calculation of Landsat_1993_1995_45.00 finished!\n",
      "Accuracy calculation of Landsat_1993_1995_50.00 finished!\n",
      "Accuracy calculation of Landsat_1993_1995_55.00 finished!\n",
      "Accuracy calculation of Landsat_1993_1995_60.00 finished!\n",
      "Accuracy calculation of Landsat_1993_1995_65.00 finished!\n",
      "Accuracy calculation of Landsat_1993_1995_70.00 finished!\n",
      "Accuracy calculation of Landsat_1993_1995_75.00 finished!\n",
      "Accuracy calculation of Landsat_1993_1995_80.00 finished!\n",
      "Accuracy calculation of Landsat_1993_1995_85.00 finished!\n",
      "Accuracy calculation of Landsat_1993_1995_90.00 finished!\n",
      "Accuracy calculation of Landsat_1993_1995_95.00 finished!\n",
      "Accuracy calculation of Landsat_1996_1998_0.10 finished!\n",
      "Accuracy calculation of Landsat_1996_1998_0.40 finished!\n",
      "Accuracy calculation of Landsat_1996_1998_0.70 finished!\n",
      "Accuracy calculation of Landsat_1996_1998_1.00 finished!\n",
      "Accuracy calculation of Landsat_1996_1998_1.00 finished!\n",
      "Accuracy calculation of Landsat_1996_1998_1.50 finished!\n",
      "Accuracy calculation of Landsat_1996_1998_2.00 finished!\n",
      "Accuracy calculation of Landsat_1996_1998_5.00 finished!\n",
      "Accuracy calculation of Landsat_1996_1998_10.00 finished!\n",
      "Accuracy calculation of Landsat_1996_1998_15.00 finished!\n",
      "Accuracy calculation of Landsat_1996_1998_20.00 finished!\n",
      "Accuracy calculation of Landsat_1996_1998_25.00 finished!\n",
      "Accuracy calculation of Landsat_1996_1998_30.00 finished!\n",
      "Accuracy calculation of Landsat_1996_1998_35.00 finished!\n",
      "Accuracy calculation of Landsat_1996_1998_40.00 finished!\n",
      "Accuracy calculation of Landsat_1996_1998_45.00 finished!\n",
      "Accuracy calculation of Landsat_1996_1998_50.00 finished!\n",
      "Accuracy calculation of Landsat_1996_1998_55.00 finished!\n",
      "Accuracy calculation of Landsat_1996_1998_60.00 finished!\n",
      "Accuracy calculation of Landsat_1996_1998_65.00 finished!\n",
      "Accuracy calculation of Landsat_1996_1998_70.00 finished!\n",
      "Accuracy calculation of Landsat_1996_1998_75.00 finished!\n",
      "Accuracy calculation of Landsat_1996_1998_80.00 finished!\n",
      "Accuracy calculation of Landsat_1996_1998_85.00 finished!\n",
      "Accuracy calculation of Landsat_1996_1998_90.00 finished!\n",
      "Accuracy calculation of Landsat_1996_1998_95.00 finished!\n",
      "Accuracy calculation of Landsat_1999_2001_0.10 finished!\n",
      "Accuracy calculation of Landsat_1999_2001_0.40 finished!\n",
      "Accuracy calculation of Landsat_1999_2001_0.70 finished!\n",
      "Accuracy calculation of Landsat_1999_2001_1.00 finished!\n",
      "Accuracy calculation of Landsat_1999_2001_1.00 finished!\n",
      "Accuracy calculation of Landsat_1999_2001_1.50 finished!\n",
      "Accuracy calculation of Landsat_1999_2001_2.00 finished!\n",
      "Accuracy calculation of Landsat_1999_2001_5.00 finished!\n",
      "Accuracy calculation of Landsat_1999_2001_10.00 finished!\n",
      "Accuracy calculation of Landsat_1999_2001_15.00 finished!\n",
      "Accuracy calculation of Landsat_1999_2001_20.00 finished!\n",
      "Accuracy calculation of Landsat_1999_2001_25.00 finished!\n",
      "Accuracy calculation of Landsat_1999_2001_30.00 finished!\n",
      "Accuracy calculation of Landsat_1999_2001_35.00 finished!\n",
      "Accuracy calculation of Landsat_1999_2001_40.00 finished!\n",
      "Accuracy calculation of Landsat_1999_2001_45.00 finished!\n",
      "Accuracy calculation of Landsat_1999_2001_50.00 finished!\n",
      "Accuracy calculation of Landsat_1999_2001_55.00 finished!\n",
      "Accuracy calculation of Landsat_1999_2001_60.00 finished!\n",
      "Accuracy calculation of Landsat_1999_2001_65.00 finished!\n",
      "Accuracy calculation of Landsat_1999_2001_70.00 finished!\n",
      "Accuracy calculation of Landsat_1999_2001_75.00 finished!\n",
      "Accuracy calculation of Landsat_1999_2001_80.00 finished!\n",
      "Accuracy calculation of Landsat_1999_2001_85.00 finished!\n",
      "Accuracy calculation of Landsat_1999_2001_90.00 finished!\n",
      "Accuracy calculation of Landsat_1999_2001_95.00 finished!\n",
      "Accuracy calculation of Landsat_2002_2004_0.10 finished!\n",
      "Accuracy calculation of Landsat_2002_2004_0.40 finished!\n",
      "Accuracy calculation of Landsat_2002_2004_0.70 finished!\n",
      "Accuracy calculation of Landsat_2002_2004_1.00 finished!\n",
      "Accuracy calculation of Landsat_2002_2004_1.00 finished!\n",
      "Accuracy calculation of Landsat_2002_2004_1.50 finished!\n",
      "Accuracy calculation of Landsat_2002_2004_2.00 finished!\n",
      "Accuracy calculation of Landsat_2002_2004_5.00 finished!\n",
      "Accuracy calculation of Landsat_2002_2004_10.00 finished!\n",
      "Accuracy calculation of Landsat_2002_2004_15.00 finished!\n",
      "Accuracy calculation of Landsat_2002_2004_20.00 finished!\n",
      "Accuracy calculation of Landsat_2002_2004_25.00 finished!\n",
      "Accuracy calculation of Landsat_2002_2004_30.00 finished!\n",
      "Accuracy calculation of Landsat_2002_2004_35.00 finished!\n",
      "Accuracy calculation of Landsat_2002_2004_40.00 finished!\n",
      "Accuracy calculation of Landsat_2002_2004_45.00 finished!\n",
      "Accuracy calculation of Landsat_2002_2004_50.00 finished!\n",
      "Accuracy calculation of Landsat_2002_2004_55.00 finished!\n",
      "Accuracy calculation of Landsat_2002_2004_60.00 finished!\n",
      "Accuracy calculation of Landsat_2002_2004_65.00 finished!\n",
      "Accuracy calculation of Landsat_2002_2004_70.00 finished!\n",
      "Accuracy calculation of Landsat_2002_2004_75.00 finished!\n",
      "Accuracy calculation of Landsat_2002_2004_80.00 finished!\n",
      "Accuracy calculation of Landsat_2002_2004_85.00 finished!\n",
      "Accuracy calculation of Landsat_2002_2004_90.00 finished!\n",
      "Accuracy calculation of Landsat_2002_2004_95.00 finished!\n",
      "Accuracy calculation of Landsat_2005_2007_0.10 finished!\n",
      "Accuracy calculation of Landsat_2005_2007_0.40 finished!\n",
      "Accuracy calculation of Landsat_2005_2007_0.70 finished!\n",
      "Accuracy calculation of Landsat_2005_2007_1.00 finished!\n",
      "Accuracy calculation of Landsat_2005_2007_1.00 finished!\n",
      "Accuracy calculation of Landsat_2005_2007_1.50 finished!\n",
      "Accuracy calculation of Landsat_2005_2007_2.00 finished!\n",
      "Accuracy calculation of Landsat_2005_2007_5.00 finished!\n",
      "Accuracy calculation of Landsat_2005_2007_10.00 finished!\n",
      "Accuracy calculation of Landsat_2005_2007_15.00 finished!\n",
      "Accuracy calculation of Landsat_2005_2007_20.00 finished!\n",
      "Accuracy calculation of Landsat_2005_2007_25.00 finished!\n",
      "Accuracy calculation of Landsat_2005_2007_30.00 finished!\n"
     ]
    },
    {
     "name": "stdout",
     "output_type": "stream",
     "text": [
      "Accuracy calculation of Landsat_2005_2007_35.00 finished!\n",
      "Accuracy calculation of Landsat_2005_2007_40.00 finished!\n",
      "Accuracy calculation of Landsat_2005_2007_45.00 finished!\n",
      "Accuracy calculation of Landsat_2005_2007_50.00 finished!\n",
      "Accuracy calculation of Landsat_2005_2007_55.00 finished!\n",
      "Accuracy calculation of Landsat_2005_2007_60.00 finished!\n",
      "Accuracy calculation of Landsat_2005_2007_65.00 finished!\n",
      "Accuracy calculation of Landsat_2005_2007_70.00 finished!\n",
      "Accuracy calculation of Landsat_2005_2007_75.00 finished!\n",
      "Accuracy calculation of Landsat_2005_2007_80.00 finished!\n",
      "Accuracy calculation of Landsat_2005_2007_85.00 finished!\n",
      "Accuracy calculation of Landsat_2005_2007_90.00 finished!\n",
      "Accuracy calculation of Landsat_2005_2007_95.00 finished!\n",
      "Accuracy calculation of Landsat_2008_2010_0.10 finished!\n",
      "Accuracy calculation of Landsat_2008_2010_0.40 finished!\n",
      "Accuracy calculation of Landsat_2008_2010_0.70 finished!\n",
      "Accuracy calculation of Landsat_2008_2010_1.00 finished!\n",
      "Accuracy calculation of Landsat_2008_2010_1.00 finished!\n",
      "Accuracy calculation of Landsat_2008_2010_1.50 finished!\n",
      "Accuracy calculation of Landsat_2008_2010_2.00 finished!\n",
      "Accuracy calculation of Landsat_2008_2010_5.00 finished!\n",
      "Accuracy calculation of Landsat_2008_2010_10.00 finished!\n",
      "Accuracy calculation of Landsat_2008_2010_15.00 finished!\n",
      "Accuracy calculation of Landsat_2008_2010_20.00 finished!\n",
      "Accuracy calculation of Landsat_2008_2010_25.00 finished!\n",
      "Accuracy calculation of Landsat_2008_2010_30.00 finished!\n",
      "Accuracy calculation of Landsat_2008_2010_35.00 finished!\n",
      "Accuracy calculation of Landsat_2008_2010_40.00 finished!\n",
      "Accuracy calculation of Landsat_2008_2010_45.00 finished!\n",
      "Accuracy calculation of Landsat_2008_2010_50.00 finished!\n",
      "Accuracy calculation of Landsat_2008_2010_55.00 finished!\n",
      "Accuracy calculation of Landsat_2008_2010_60.00 finished!\n",
      "Accuracy calculation of Landsat_2008_2010_65.00 finished!\n",
      "Accuracy calculation of Landsat_2008_2010_70.00 finished!\n",
      "Accuracy calculation of Landsat_2008_2010_75.00 finished!\n",
      "Accuracy calculation of Landsat_2008_2010_80.00 finished!\n",
      "Accuracy calculation of Landsat_2008_2010_85.00 finished!\n",
      "Accuracy calculation of Landsat_2008_2010_90.00 finished!\n",
      "Accuracy calculation of Landsat_2008_2010_95.00 finished!\n",
      "Accuracy calculation of Landsat_2011_2013_0.10 finished!\n",
      "Accuracy calculation of Landsat_2011_2013_0.40 finished!\n",
      "Accuracy calculation of Landsat_2011_2013_0.70 finished!\n",
      "Accuracy calculation of Landsat_2011_2013_1.00 finished!\n",
      "Accuracy calculation of Landsat_2011_2013_1.00 finished!\n",
      "Accuracy calculation of Landsat_2011_2013_1.50 finished!\n",
      "Accuracy calculation of Landsat_2011_2013_2.00 finished!\n",
      "Accuracy calculation of Landsat_2011_2013_5.00 finished!\n",
      "Accuracy calculation of Landsat_2011_2013_10.00 finished!\n",
      "Accuracy calculation of Landsat_2011_2013_15.00 finished!\n",
      "Accuracy calculation of Landsat_2011_2013_20.00 finished!\n",
      "Accuracy calculation of Landsat_2011_2013_25.00 finished!\n",
      "Accuracy calculation of Landsat_2011_2013_30.00 finished!\n",
      "Accuracy calculation of Landsat_2011_2013_35.00 finished!\n",
      "Accuracy calculation of Landsat_2011_2013_40.00 finished!\n",
      "Accuracy calculation of Landsat_2011_2013_45.00 finished!\n",
      "Accuracy calculation of Landsat_2011_2013_50.00 finished!\n",
      "Accuracy calculation of Landsat_2011_2013_55.00 finished!\n",
      "Accuracy calculation of Landsat_2011_2013_60.00 finished!\n",
      "Accuracy calculation of Landsat_2011_2013_65.00 finished!\n",
      "Accuracy calculation of Landsat_2011_2013_70.00 finished!\n",
      "Accuracy calculation of Landsat_2011_2013_75.00 finished!\n",
      "Accuracy calculation of Landsat_2011_2013_80.00 finished!\n",
      "Accuracy calculation of Landsat_2011_2013_85.00 finished!\n",
      "Accuracy calculation of Landsat_2011_2013_90.00 finished!\n",
      "Accuracy calculation of Landsat_2011_2013_95.00 finished!\n",
      "Accuracy calculation of Landsat_2014_2016_0.10 finished!\n",
      "Accuracy calculation of Landsat_2014_2016_0.40 finished!\n",
      "Accuracy calculation of Landsat_2014_2016_0.70 finished!\n",
      "Accuracy calculation of Landsat_2014_2016_1.00 finished!\n",
      "Accuracy calculation of Landsat_2014_2016_1.00 finished!\n",
      "Accuracy calculation of Landsat_2014_2016_1.50 finished!\n",
      "Accuracy calculation of Landsat_2014_2016_2.00 finished!\n",
      "Accuracy calculation of Landsat_2014_2016_5.00 finished!\n",
      "Accuracy calculation of Landsat_2014_2016_10.00 finished!\n",
      "Accuracy calculation of Landsat_2014_2016_15.00 finished!\n",
      "Accuracy calculation of Landsat_2014_2016_20.00 finished!\n",
      "Accuracy calculation of Landsat_2014_2016_25.00 finished!\n",
      "Accuracy calculation of Landsat_2014_2016_30.00 finished!\n",
      "Accuracy calculation of Landsat_2014_2016_35.00 finished!\n",
      "Accuracy calculation of Landsat_2014_2016_40.00 finished!\n",
      "Accuracy calculation of Landsat_2014_2016_45.00 finished!\n",
      "Accuracy calculation of Landsat_2014_2016_50.00 finished!\n",
      "Accuracy calculation of Landsat_2014_2016_55.00 finished!\n",
      "Accuracy calculation of Landsat_2014_2016_60.00 finished!\n",
      "Accuracy calculation of Landsat_2014_2016_65.00 finished!\n",
      "Accuracy calculation of Landsat_2014_2016_70.00 finished!\n",
      "Accuracy calculation of Landsat_2014_2016_75.00 finished!\n",
      "Accuracy calculation of Landsat_2014_2016_80.00 finished!\n",
      "Accuracy calculation of Landsat_2014_2016_85.00 finished!\n",
      "Accuracy calculation of Landsat_2014_2016_90.00 finished!\n",
      "Accuracy calculation of Landsat_2014_2016_95.00 finished!\n",
      "Accuracy calculation of Landsat_2017_2019_0.10 finished!\n",
      "Accuracy calculation of Landsat_2017_2019_0.40 finished!\n",
      "Accuracy calculation of Landsat_2017_2019_0.70 finished!\n",
      "Accuracy calculation of Landsat_2017_2019_1.00 finished!\n",
      "Accuracy calculation of Landsat_2017_2019_1.00 finished!\n",
      "Accuracy calculation of Landsat_2017_2019_1.50 finished!\n",
      "Accuracy calculation of Landsat_2017_2019_2.00 finished!\n",
      "Accuracy calculation of Landsat_2017_2019_5.00 finished!\n",
      "Accuracy calculation of Landsat_2017_2019_10.00 finished!\n",
      "Accuracy calculation of Landsat_2017_2019_15.00 finished!\n",
      "Accuracy calculation of Landsat_2017_2019_20.00 finished!\n",
      "Accuracy calculation of Landsat_2017_2019_25.00 finished!\n",
      "Accuracy calculation of Landsat_2017_2019_30.00 finished!\n",
      "Accuracy calculation of Landsat_2017_2019_35.00 finished!\n",
      "Accuracy calculation of Landsat_2017_2019_40.00 finished!\n",
      "Accuracy calculation of Landsat_2017_2019_45.00 finished!\n",
      "Accuracy calculation of Landsat_2017_2019_50.00 finished!\n",
      "Accuracy calculation of Landsat_2017_2019_55.00 finished!\n",
      "Accuracy calculation of Landsat_2017_2019_60.00 finished!\n",
      "Accuracy calculation of Landsat_2017_2019_65.00 finished!\n",
      "Accuracy calculation of Landsat_2017_2019_70.00 finished!\n",
      "Accuracy calculation of Landsat_2017_2019_75.00 finished!\n",
      "Accuracy calculation of Landsat_2017_2019_80.00 finished!\n",
      "Accuracy calculation of Landsat_2017_2019_85.00 finished!\n",
      "Accuracy calculation of Landsat_2017_2019_90.00 finished!\n",
      "Accuracy calculation of Landsat_2017_2019_95.00 finished!\n",
      "Accuracy calculation of Sentinel_2014_2016_0.10 finished!\n",
      "Accuracy calculation of Sentinel_2014_2016_0.40 finished!\n",
      "Accuracy calculation of Sentinel_2014_2016_0.70 finished!\n",
      "Accuracy calculation of Sentinel_2014_2016_1.00 finished!\n",
      "Accuracy calculation of Sentinel_2014_2016_1.00 finished!\n",
      "Accuracy calculation of Sentinel_2014_2016_1.50 finished!\n",
      "Accuracy calculation of Sentinel_2014_2016_2.00 finished!\n",
      "Accuracy calculation of Sentinel_2014_2016_5.00 finished!\n",
      "Accuracy calculation of Sentinel_2014_2016_10.00 finished!\n",
      "Accuracy calculation of Sentinel_2014_2016_15.00 finished!\n",
      "Accuracy calculation of Sentinel_2014_2016_20.00 finished!\n",
      "Accuracy calculation of Sentinel_2014_2016_25.00 finished!\n",
      "Accuracy calculation of Sentinel_2014_2016_30.00 finished!\n",
      "Accuracy calculation of Sentinel_2014_2016_35.00 finished!\n",
      "Accuracy calculation of Sentinel_2014_2016_40.00 finished!\n",
      "Accuracy calculation of Sentinel_2014_2016_45.00 finished!\n",
      "Accuracy calculation of Sentinel_2014_2016_50.00 finished!\n",
      "Accuracy calculation of Sentinel_2014_2016_55.00 finished!\n",
      "Accuracy calculation of Sentinel_2014_2016_60.00 finished!\n",
      "Accuracy calculation of Sentinel_2014_2016_65.00 finished!\n",
      "Accuracy calculation of Sentinel_2014_2016_70.00 finished!\n",
      "Accuracy calculation of Sentinel_2014_2016_75.00 finished!\n",
      "Accuracy calculation of Sentinel_2014_2016_80.00 finished!\n",
      "Accuracy calculation of Sentinel_2014_2016_85.00 finished!\n",
      "Accuracy calculation of Sentinel_2014_2016_90.00 finished!\n"
     ]
    },
    {
     "name": "stdout",
     "output_type": "stream",
     "text": [
      "Accuracy calculation of Sentinel_2014_2016_95.00 finished!\n",
      "Accuracy calculation of Sentinel_2017_2019_0.10 finished!\n",
      "Accuracy calculation of Sentinel_2017_2019_0.40 finished!\n",
      "Accuracy calculation of Sentinel_2017_2019_0.70 finished!\n",
      "Accuracy calculation of Sentinel_2017_2019_1.00 finished!\n",
      "Accuracy calculation of Sentinel_2017_2019_1.00 finished!\n",
      "Accuracy calculation of Sentinel_2017_2019_1.50 finished!\n",
      "Accuracy calculation of Sentinel_2017_2019_2.00 finished!\n",
      "Accuracy calculation of Sentinel_2017_2019_5.00 finished!\n",
      "Accuracy calculation of Sentinel_2017_2019_10.00 finished!\n",
      "Accuracy calculation of Sentinel_2017_2019_15.00 finished!\n",
      "Accuracy calculation of Sentinel_2017_2019_20.00 finished!\n",
      "Accuracy calculation of Sentinel_2017_2019_25.00 finished!\n",
      "Accuracy calculation of Sentinel_2017_2019_30.00 finished!\n",
      "Accuracy calculation of Sentinel_2017_2019_35.00 finished!\n",
      "Accuracy calculation of Sentinel_2017_2019_40.00 finished!\n",
      "Accuracy calculation of Sentinel_2017_2019_45.00 finished!\n",
      "Accuracy calculation of Sentinel_2017_2019_50.00 finished!\n",
      "Accuracy calculation of Sentinel_2017_2019_55.00 finished!\n",
      "Accuracy calculation of Sentinel_2017_2019_60.00 finished!\n",
      "Accuracy calculation of Sentinel_2017_2019_65.00 finished!\n",
      "Accuracy calculation of Sentinel_2017_2019_70.00 finished!\n",
      "Accuracy calculation of Sentinel_2017_2019_75.00 finished!\n",
      "Accuracy calculation of Sentinel_2017_2019_80.00 finished!\n",
      "Accuracy calculation of Sentinel_2017_2019_85.00 finished!\n",
      "Accuracy calculation of Sentinel_2017_2019_90.00 finished!\n",
      "Accuracy calculation of Sentinel_2017_2019_95.00 finished!\n"
     ]
    }
   ],
   "source": [
    "Sample_size_acc = {}\n",
    "size_list = list(np.arange(0.05,0.98,0.05)) + list(np.arange(0.98,0.99,0.005)) + list(np.arange(0.99,0.9999,0.003))\n",
    "\n",
    "for name in year_name:\n",
    "    for size in size_list[::-1]:\n",
    "        \n",
    "        # import sample\n",
    "        sample = pd.read_csv(f'./Data/{name}.csv')\n",
    "        sample = sample.drop(['system:index','.geo'],axis=1)\n",
    "\n",
    "        X = sample.drop('Built',1)\n",
    "        y = sample['Built']\n",
    "\n",
    "        # train_test split the sample\n",
    "        X_train, X_test, y_train, y_test = train_test_split(X, y, test_size=size,random_state=42,stratify =y )\n",
    "\n",
    "        # perform the RF classification\n",
    "        RF = RandomForestClassifier(n_estimators=50,oob_score=True,n_jobs=-1)\n",
    "        RF.fit(X_train,y_train)\n",
    "        y_pred = RF.predict(X_test)\n",
    "\n",
    "        # get the accuracy, here get two kinds of accuracy\n",
    "        acc_test = accuracy_score(y_test,y_pred)\n",
    "        acc_RF   = RF.oob_score_\n",
    "\n",
    "        # add results to the acc_dict\n",
    "        Sample_size_acc[(name,f'{(1-size)*100:.2f}','acc_test')] = [acc_test]\n",
    "        Sample_size_acc[(name,f'{(1-size)*100:.2f}','acc_RF')]   = [acc_RF]\n",
    "\n",
    "        # print out the process\n",
    "        print(f'Accuracy calculation of {name}_{(1-size)*100:.2f} finished!')"
   ]
  },
  {
   "cell_type": "code",
   "execution_count": null,
   "metadata": {},
   "outputs": [],
   "source": []
  },
  {
   "cell_type": "code",
   "execution_count": 6,
   "metadata": {},
   "outputs": [],
   "source": [
    "# formating the result and put it into a datafram\n",
    "Size_accuracy = pd.DataFrame(Sample_size_acc).T\n",
    "Size_accuracy.reset_index(inplace=True)\n",
    "Size_accuracy.columns = ['Year','Size','Acc_type','Acc_value']\n",
    "\n",
    "Size_accuracy['Year'] = Size_accuracy['Year'].astype('category')\n",
    "Size_accuracy.sort_values(['Year','Size'],inplace=True)\n",
    "Size_accuracy.reset_index(inplace=True,drop=True)\n",
    "\n",
    "# save the datafram to disk\n",
    "Size_accuracy.to_csv('./Result/Sample_size_acc.csv',index=False)\n",
    "\n",
    "Size_accuracy = pd.read_csv('./Result/Sample_size_acc.csv')"
   ]
  },
  {
   "cell_type": "code",
   "execution_count": null,
   "metadata": {},
   "outputs": [],
   "source": []
  },
  {
   "cell_type": "markdown",
   "metadata": {},
   "source": [
    "##### Observe that 50% of the sample is enought for classification"
   ]
  },
  {
   "cell_type": "code",
   "execution_count": null,
   "metadata": {},
   "outputs": [],
   "source": []
  },
  {
   "cell_type": "code",
   "execution_count": 8,
   "metadata": {
    "scrolled": false
   },
   "outputs": [
    {
     "data": {
      "text/plain": [
       "<matplotlib.axes._subplots.AxesSubplot at 0x133c03924e0>"
      ]
     },
     "execution_count": 8,
     "metadata": {},
     "output_type": "execute_result"
    },
    {
     "data": {
      "image/png": "[encoded data removed]",
      "text/plain": [
       "<Figure size 864x576 with 1 Axes>"
      ]
     },
     "metadata": {
      "needs_background": "light"
     },
     "output_type": "display_data"
    }
   ],
   "source": [
    "plt.figure(figsize=[12,8])\n",
    "sns.lineplot(data=Size_accuracy,x='Size',y='Acc_value',hue='Acc_type')"
   ]
  },
  {
   "cell_type": "code",
   "execution_count": null,
   "metadata": {},
   "outputs": [],
   "source": []
  },
  {
   "cell_type": "code",
   "execution_count": null,
   "metadata": {},
   "outputs": [],
   "source": []
  },
  {
   "cell_type": "code",
   "execution_count": null,
   "metadata": {},
   "outputs": [],
   "source": []
  },
  {
   "cell_type": "code",
   "execution_count": null,
   "metadata": {},
   "outputs": [],
   "source": []
  },
  {
   "cell_type": "code",
   "execution_count": null,
   "metadata": {},
   "outputs": [],
   "source": []
  },
  {
   "cell_type": "code",
   "execution_count": null,
   "metadata": {},
   "outputs": [],
   "source": []
  },
  {
   "cell_type": "code",
   "execution_count": null,
   "metadata": {},
   "outputs": [],
   "source": []
  },
  {
   "cell_type": "code",
   "execution_count": null,
   "metadata": {},
   "outputs": [],
   "source": []
  },
  {
   "cell_type": "code",
   "execution_count": null,
   "metadata": {},
   "outputs": [],
   "source": []
  },
  {
   "cell_type": "code",
   "execution_count": null,
   "metadata": {},
   "outputs": [],
   "source": []
  },
  {
   "cell_type": "code",
   "execution_count": null,
   "metadata": {},
   "outputs": [],
   "source": []
  },
  {
   "cell_type": "code",
   "execution_count": null,
   "metadata": {},
   "outputs": [],
   "source": []
  },
  {
   "cell_type": "code",
   "execution_count": null,
   "metadata": {},
   "outputs": [],
   "source": []
  },
  {
   "cell_type": "code",
   "execution_count": null,
   "metadata": {},
   "outputs": [],
   "source": []
  },
  {
   "cell_type": "code",
   "execution_count": null,
   "metadata": {},
   "outputs": [],
   "source": []
  },
  {
   "cell_type": "code",
   "execution_count": null,
   "metadata": {},
   "outputs": [],
   "source": []
  },
  {
   "cell_type": "code",
   "execution_count": null,
   "metadata": {},
   "outputs": [],
   "source": []
  },
  {
   "cell_type": "code",
   "execution_count": null,
   "metadata": {},
   "outputs": [],
   "source": []
  },
  {
   "cell_type": "code",
   "execution_count": null,
   "metadata": {},
   "outputs": [],
   "source": []
  },
  {
   "cell_type": "code",
   "execution_count": null,
   "metadata": {},
   "outputs": [],
   "source": []
  },
  {
   "cell_type": "code",
   "execution_count": null,
   "metadata": {},
   "outputs": [],
   "source": []
  },
  {
   "cell_type": "code",
   "execution_count": null,
   "metadata": {},
   "outputs": [],
   "source": []
  },
  {
   "cell_type": "code",
   "execution_count": null,
   "metadata": {},
   "outputs": [],
   "source": []
  },
  {
   "cell_type": "code",
   "execution_count": null,
   "metadata": {},
   "outputs": [],
   "source": []
  },
  {
   "cell_type": "code",
   "execution_count": null,
   "metadata": {},
   "outputs": [],
   "source": []
  },
  {
   "cell_type": "code",
   "execution_count": null,
   "metadata": {},
   "outputs": [],
   "source": []
  },
  {
   "cell_type": "code",
   "execution_count": null,
   "metadata": {},
   "outputs": [],
   "source": []
  },
  {
   "cell_type": "code",
   "execution_count": null,
   "metadata": {},
   "outputs": [],
   "source": []
  },
  {
   "cell_type": "code",
   "execution_count": null,
   "metadata": {},
   "outputs": [],
   "source": []
  },
  {
   "cell_type": "code",
   "execution_count": null,
   "metadata": {},
   "outputs": [],
   "source": []
  },
  {
   "cell_type": "code",
   "execution_count": null,
   "metadata": {},
   "outputs": [],
   "source": []
  },
  {
   "cell_type": "code",
   "execution_count": null,
   "metadata": {},
   "outputs": [],
   "source": []
  },
  {
   "cell_type": "code",
   "execution_count": null,
   "metadata": {},
   "outputs": [],
   "source": []
  },
  {
   "cell_type": "code",
   "execution_count": null,
   "metadata": {},
   "outputs": [],
   "source": []
  },
  {
   "cell_type": "code",
   "execution_count": null,
   "metadata": {},
   "outputs": [],
   "source": []
  },
  {
   "cell_type": "code",
   "execution_count": null,
   "metadata": {},
   "outputs": [],
   "source": []
  }
 ],
 "metadata": {
  "kernelspec": {
   "display_name": "Python 3",
   "language": "python",
   "name": "python3"
  },
  "language_info": {
   "codemirror_mode": {
    "name": "ipython",
    "version": 3
   },
   "file_extension": ".py",
   "mimetype": "text/x-python",
   "name": "python",
   "nbconvert_exporter": "python",
   "pygments_lexer": "ipython3",
   "version": "3.7.3"
  }
 },
 "nbformat": 4,
 "nbformat_minor": 2
}
