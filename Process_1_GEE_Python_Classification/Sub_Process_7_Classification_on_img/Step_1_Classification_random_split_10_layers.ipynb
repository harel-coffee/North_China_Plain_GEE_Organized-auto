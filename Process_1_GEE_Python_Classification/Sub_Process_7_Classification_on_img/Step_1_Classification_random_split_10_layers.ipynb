{
 "cells": [
  {
   "cell_type": "code",
   "execution_count": 1,
   "metadata": {},
   "outputs": [],
   "source": [
    "import ee\n",
    "import datetime\n",
    "import os\n",
    "import itertools\n",
    "import sys\n",
    "import re\n",
    "\n",
    "import pandas as pd\n",
    "import numpy as np\n",
    "import seaborn as sns\n",
    "import matplotlib.pyplot as plt\n",
    "\n",
    "import geemap\n",
    "\n",
    "import subprocess\n",
    "from subprocess import PIPE\n",
    "import ast"
   ]
  },
  {
   "cell_type": "code",
   "execution_count": 2,
   "metadata": {},
   "outputs": [],
   "source": [
    "ee.Initialize()"
   ]
  },
  {
   "cell_type": "code",
   "execution_count": 3,
   "metadata": {},
   "outputs": [],
   "source": [
    "# append upper folder into sys-path during run time so we can\n",
    "# import our own moduls\n",
    "sys.path.append('..')"
   ]
  },
  {
   "cell_type": "code",
   "execution_count": 4,
   "metadata": {},
   "outputs": [],
   "source": [
    "from BackGround_modules.Class_2_Classify_Fourier_Img   import Classification\n",
    "from BackGround_modules.Class_3_Calculate_the_accuracy import Accuracy_assesment"
   ]
  },
  {
   "cell_type": "code",
   "execution_count": null,
   "metadata": {},
   "outputs": [],
   "source": []
  },
  {
   "cell_type": "markdown",
   "metadata": {},
   "source": [
    "##### Prepare basic parameters"
   ]
  },
  {
   "cell_type": "code",
   "execution_count": 5,
   "metadata": {},
   "outputs": [],
   "source": [
    "# define the years to be classified\n",
    "year_name  = [f'{i}_{i+2}' for i in range(1990,2020,3)]\n",
    "\n",
    "# define the number of total periods\n",
    "num_invarient = 10\n",
    "\n",
    "# import north_china_plain boundary\n",
    "North_China_Plain = ee.FeatureCollection(\"users/wangjinzhulala/North_China_Plain_Python/Boundary_shp/North_China_Plain_Boundary\")"
   ]
  },
  {
   "cell_type": "code",
   "execution_count": 6,
   "metadata": {},
   "outputs": [
    {
     "data": {
      "text/plain": [
       "['1990_1992',\n",
       " '1993_1995',\n",
       " '1996_1998',\n",
       " '1999_2001',\n",
       " '2002_2004',\n",
       " '2005_2007',\n",
       " '2008_2010',\n",
       " '2011_2013',\n",
       " '2014_2016',\n",
       " '2017_2019']"
      ]
     },
     "execution_count": 6,
     "metadata": {},
     "output_type": "execute_result"
    }
   ],
   "source": [
    "year_name"
   ]
  },
  {
   "cell_type": "code",
   "execution_count": null,
   "metadata": {},
   "outputs": [],
   "source": []
  },
  {
   "cell_type": "markdown",
   "metadata": {},
   "source": [
    "##### Prepare input_image for classification"
   ]
  },
  {
   "cell_type": "code",
   "execution_count": null,
   "metadata": {},
   "outputs": [],
   "source": []
  },
  {
   "cell_type": "code",
   "execution_count": 7,
   "metadata": {},
   "outputs": [],
   "source": [
    "# import Landsat img\n",
    "Landsat_img = [ee.Image(f\"users/wang8052664/Cloud_Free_Img/Landsat_cloud_free_{year}\")\\\n",
    "                 .clip(North_China_Plain)  for year in year_name]\n",
    "\n",
    "# import Fourier img   \n",
    "Fourier_img = [ee.Image(f\"users/Jinzhu_Deakin/North_China_Plain/Fourier_img_harmonic_3/Fourier_img_{year}_harmonic_3\")\\\n",
    "                 .clip(North_China_Plain)  for year in year_name[:5]] + \\\n",
    "              [ee.Image(f\"users/wang8052664/North_China_Plain/Fourier_imgs/Fourier_img_{year}_harmonic_3\")\\\n",
    "                 .clip(North_China_Plain)  for year in year_name[5:]] \n",
    "\n",
    "# Import the Index-mean Img\n",
    "NDVI_img = [ee.Image(f\"users/wensomone666/Jinzhu/Mean_NDVI/Year_{year}_Mean_NDVI\").rename('Mean_NDVI')  \n",
    "            for year in year_name ]\n",
    "NDBI_img = [ee.Image(f\"users/wensomone666/Jinzhu/Mean_NDVI/Year_{year}_Mean_NDBI\").rename('Mean_NDBI')  \n",
    "            for year in year_name ]\n",
    "EVI_img  = [ee.Image(f\"users/wensomone666/Jinzhu/Mean_NDVI/Year_{year}_Mean_EVI\").rename('Mean_EVI')  \n",
    "            for year in year_name ]\n",
    "\n",
    "# prepare the climate data\n",
    "Climate_mean = [ee.Image(f\"users/wangjinzhulala/North_China_Plain_Python/Climate_data/Mean_{year}\")\n",
    "               .clip(North_China_Plain)  for year in year_name]\n",
    "\n",
    "# Import DEM/SLOPE Img\n",
    "DEM   = [ee.Image(\"USGS/SRTMGL1_003\").rename('DEM')] * num_invarient\n",
    "SLOPE = [ee.Terrain.slope(DEM).rename('SLOPE')] * num_invarient"
   ]
  },
  {
   "cell_type": "code",
   "execution_count": null,
   "metadata": {},
   "outputs": [],
   "source": []
  },
  {
   "cell_type": "code",
   "execution_count": 8,
   "metadata": {},
   "outputs": [],
   "source": [
    "# stack all Imput_Img together\n",
    "Stack_img = [ee.Image(img) for img in zip(Landsat_img,Fourier_img,NDVI_img,NDBI_img,EVI_img,Climate_mean,DEM,SLOPE)]"
   ]
  },
  {
   "cell_type": "code",
   "execution_count": null,
   "metadata": {},
   "outputs": [],
   "source": []
  },
  {
   "cell_type": "markdown",
   "metadata": {},
   "source": [
    "##### Prepare input sample points"
   ]
  },
  {
   "cell_type": "code",
   "execution_count": null,
   "metadata": {},
   "outputs": [],
   "source": []
  },
  {
   "cell_type": "code",
   "execution_count": 9,
   "metadata": {},
   "outputs": [],
   "source": [
    "# Define the path to Sample_pt\n",
    "path = 'users/wangjinzhulala/North_China_Plain_Python/Sample_extract_img'\n",
    "\n",
    "# Get the training sample\n",
    "\n",
    "# Here we use a random colum to select 3/4 of the sample points for classification/assessment\n",
    "# and leave 1/4 that keep untouched for later accuracy comparision\n",
    "Training_sample = [ee.FeatureCollection(f\"{path}/Control_sample_ext_img_{year}\")\\\n",
    "                     .randomColumn('split', 101)\\\n",
    "                     .filterMetadata('split','greater_than',0.25)\n",
    "                   for year in year_name]"
   ]
  },
  {
   "cell_type": "code",
   "execution_count": null,
   "metadata": {},
   "outputs": [],
   "source": []
  },
  {
   "cell_type": "code",
   "execution_count": null,
   "metadata": {},
   "outputs": [],
   "source": []
  },
  {
   "cell_type": "markdown",
   "metadata": {},
   "source": [
    "##### Stack input_img and input_sample together"
   ]
  },
  {
   "cell_type": "code",
   "execution_count": 10,
   "metadata": {},
   "outputs": [],
   "source": [
    "# first put all inputs together\n",
    "stack_name   = ['Control'] * num_invarient\n",
    "\n",
    "stack_year   = [f'Landsat_{year}' for year in year_name] \n",
    "stack_img    = Stack_img \n",
    "stack_sample = Training_sample \n",
    "\n",
    "# stack all ingredients together\n",
    "Stack_img_sample = list(zip(stack_name,stack_year,stack_img,stack_sample))"
   ]
  },
  {
   "cell_type": "code",
   "execution_count": null,
   "metadata": {},
   "outputs": [],
   "source": []
  },
  {
   "cell_type": "markdown",
   "metadata": {},
   "source": [
    "##### Import the feature_selection_df to determine the input bands"
   ]
  },
  {
   "cell_type": "code",
   "execution_count": null,
   "metadata": {},
   "outputs": [],
   "source": []
  },
  {
   "cell_type": "code",
   "execution_count": 11,
   "metadata": {},
   "outputs": [],
   "source": [
    "# define how many feature are included in the classification\n",
    "Fe_num = 15\n",
    "\n",
    "# import the Feature_selection dataframe\n",
    "Fe_select = pd.read_csv('../Sub_Process_6_Before_classification_Feature_selection/Result/SFS.csv')\n",
    "Fe_select_input = Fe_select[Fe_select['index'] == Fe_num]"
   ]
  },
  {
   "cell_type": "code",
   "execution_count": null,
   "metadata": {},
   "outputs": [],
   "source": []
  },
  {
   "cell_type": "markdown",
   "metadata": {},
   "source": [
    "#### Create the classification instances"
   ]
  },
  {
   "cell_type": "code",
   "execution_count": null,
   "metadata": {},
   "outputs": [],
   "source": []
  },
  {
   "cell_type": "code",
   "execution_count": 12,
   "metadata": {
    "scrolled": true
   },
   "outputs": [],
   "source": [
    "# A two-layer loop to generate 10-randome-split layers for each year-period\n",
    "\n",
    "Classificatioin_result = []\n",
    "\n",
    "# The first-layer loop to go througth each year-periods\n",
    "for input_variable in Stack_img_sample:\n",
    "    \n",
    "    # Fetch basic parameters\n",
    "    classificaiton_tpye = input_variable[0]\n",
    "    year                = input_variable[1]\n",
    "    \n",
    "    # the ugly code below is to convert a string-represent list into a python list\n",
    "    in_features         = list(ast.literal_eval(Fe_select_input[Fe_select_input['year'] == year]['feature_names'].values[0]))\n",
    "    \n",
    "    input_img           = input_variable[2]\n",
    "    sample_pt           = input_variable[3]\n",
    "    \n",
    "    \n",
    "\n",
    "    # The second-layer to go through each-randomnes\n",
    "    for seed in range(10):\n",
    "        \n",
    "        #_______________________________Deploy the random-forest classification______________________\n",
    "        # Instatiate the class with a name.\n",
    "        classification = Classification(year_name      = year,\n",
    "                                        Verified_point = sample_pt,\n",
    "                                        Input_img      = input_img,\n",
    "                                        Input_band     = in_features,\n",
    "                                        Tree_num       = 50,\n",
    "                                        seed           = seed,\n",
    "                                        classProperty  = 'Built')\n",
    "\n",
    "        \n",
    "        # Get the Random-Forest Classifier\n",
    "        classifier = classification.classifier\n",
    "\n",
    "        # Get the classified img\n",
    "        classified_img = classification.classification_img\n",
    "        \n",
    "        \n",
    "        # Get the classified samples\n",
    "        train_sample_classified = classification.Train_sample_classification\n",
    "        test_sample_classified  = classification.Test_sample_classification\n",
    "\n",
    "        \n",
    "        #____________Add random column inorder to see which feature out performs the random input___________\n",
    "        classification_random = Classification( year_name      = year,\n",
    "                                                Verified_point = sample_pt.randomColumn(),\n",
    "                                                Input_img      = input_img,\n",
    "                                                Input_band     = in_features + ['random'],\n",
    "                                                Tree_num       = 50,\n",
    "                                                seed           = seed,\n",
    "                                                classProperty  = 'Built')\n",
    "\n",
    "        \n",
    "        classifier_randoncolumn = classification_random.classifier\n",
    "        \n",
    "        #__________________________________Add all classification result into a list____________________________\n",
    "        Classificatioin_result.append((classificaiton_tpye,year,seed,classified_img,test_sample_classified,\n",
    "                                       classifier,classifier_randoncolumn))"
   ]
  },
  {
   "cell_type": "code",
   "execution_count": null,
   "metadata": {},
   "outputs": [],
   "source": []
  },
  {
   "cell_type": "code",
   "execution_count": null,
   "metadata": {},
   "outputs": [],
   "source": []
  },
  {
   "cell_type": "code",
   "execution_count": 13,
   "metadata": {
    "scrolled": true
   },
   "outputs": [
    {
     "data": {
      "text/html": [
       "<div>\n",
       "<style scoped>\n",
       "    .dataframe tbody tr th:only-of-type {\n",
       "        vertical-align: middle;\n",
       "    }\n",
       "\n",
       "    .dataframe tbody tr th {\n",
       "        vertical-align: top;\n",
       "    }\n",
       "\n",
       "    .dataframe thead th {\n",
       "        text-align: right;\n",
       "    }\n",
       "</style>\n",
       "<table border=\"1\" class=\"dataframe\">\n",
       "  <thead>\n",
       "    <tr style=\"text-align: right;\">\n",
       "      <th></th>\n",
       "      <th>classificaiton_tpye</th>\n",
       "      <th>year</th>\n",
       "      <th>seed</th>\n",
       "      <th>classified_img</th>\n",
       "      <th>test_sample_classified</th>\n",
       "      <th>classifier</th>\n",
       "      <th>classifier_randoncolumn</th>\n",
       "    </tr>\n",
       "  </thead>\n",
       "  <tbody>\n",
       "    <tr>\n",
       "      <th>0</th>\n",
       "      <td>Control</td>\n",
       "      <td>Landsat_1990_1992</td>\n",
       "      <td>0</td>\n",
       "      <td>ee.Image({\\n  \"type\": \"Invocation\",\\n  \"argume...</td>\n",
       "      <td>ee.FeatureCollection({\\n  \"type\": \"Invocation\"...</td>\n",
       "      <td>ee.Classifier({\\n  \"type\": \"Invocation\",\\n  \"a...</td>\n",
       "      <td>ee.Classifier({\\n  \"type\": \"Invocation\",\\n  \"a...</td>\n",
       "    </tr>\n",
       "    <tr>\n",
       "      <th>1</th>\n",
       "      <td>Control</td>\n",
       "      <td>Landsat_1990_1992</td>\n",
       "      <td>1</td>\n",
       "      <td>ee.Image({\\n  \"type\": \"Invocation\",\\n  \"argume...</td>\n",
       "      <td>ee.FeatureCollection({\\n  \"type\": \"Invocation\"...</td>\n",
       "      <td>ee.Classifier({\\n  \"type\": \"Invocation\",\\n  \"a...</td>\n",
       "      <td>ee.Classifier({\\n  \"type\": \"Invocation\",\\n  \"a...</td>\n",
       "    </tr>\n",
       "    <tr>\n",
       "      <th>2</th>\n",
       "      <td>Control</td>\n",
       "      <td>Landsat_1990_1992</td>\n",
       "      <td>2</td>\n",
       "      <td>ee.Image({\\n  \"type\": \"Invocation\",\\n  \"argume...</td>\n",
       "      <td>ee.FeatureCollection({\\n  \"type\": \"Invocation\"...</td>\n",
       "      <td>ee.Classifier({\\n  \"type\": \"Invocation\",\\n  \"a...</td>\n",
       "      <td>ee.Classifier({\\n  \"type\": \"Invocation\",\\n  \"a...</td>\n",
       "    </tr>\n",
       "    <tr>\n",
       "      <th>3</th>\n",
       "      <td>Control</td>\n",
       "      <td>Landsat_1990_1992</td>\n",
       "      <td>3</td>\n",
       "      <td>ee.Image({\\n  \"type\": \"Invocation\",\\n  \"argume...</td>\n",
       "      <td>ee.FeatureCollection({\\n  \"type\": \"Invocation\"...</td>\n",
       "      <td>ee.Classifier({\\n  \"type\": \"Invocation\",\\n  \"a...</td>\n",
       "      <td>ee.Classifier({\\n  \"type\": \"Invocation\",\\n  \"a...</td>\n",
       "    </tr>\n",
       "    <tr>\n",
       "      <th>4</th>\n",
       "      <td>Control</td>\n",
       "      <td>Landsat_1990_1992</td>\n",
       "      <td>4</td>\n",
       "      <td>ee.Image({\\n  \"type\": \"Invocation\",\\n  \"argume...</td>\n",
       "      <td>ee.FeatureCollection({\\n  \"type\": \"Invocation\"...</td>\n",
       "      <td>ee.Classifier({\\n  \"type\": \"Invocation\",\\n  \"a...</td>\n",
       "      <td>ee.Classifier({\\n  \"type\": \"Invocation\",\\n  \"a...</td>\n",
       "    </tr>\n",
       "    <tr>\n",
       "      <th>...</th>\n",
       "      <td>...</td>\n",
       "      <td>...</td>\n",
       "      <td>...</td>\n",
       "      <td>...</td>\n",
       "      <td>...</td>\n",
       "      <td>...</td>\n",
       "      <td>...</td>\n",
       "    </tr>\n",
       "    <tr>\n",
       "      <th>95</th>\n",
       "      <td>Control</td>\n",
       "      <td>Landsat_2017_2019</td>\n",
       "      <td>5</td>\n",
       "      <td>ee.Image({\\n  \"type\": \"Invocation\",\\n  \"argume...</td>\n",
       "      <td>ee.FeatureCollection({\\n  \"type\": \"Invocation\"...</td>\n",
       "      <td>ee.Classifier({\\n  \"type\": \"Invocation\",\\n  \"a...</td>\n",
       "      <td>ee.Classifier({\\n  \"type\": \"Invocation\",\\n  \"a...</td>\n",
       "    </tr>\n",
       "    <tr>\n",
       "      <th>96</th>\n",
       "      <td>Control</td>\n",
       "      <td>Landsat_2017_2019</td>\n",
       "      <td>6</td>\n",
       "      <td>ee.Image({\\n  \"type\": \"Invocation\",\\n  \"argume...</td>\n",
       "      <td>ee.FeatureCollection({\\n  \"type\": \"Invocation\"...</td>\n",
       "      <td>ee.Classifier({\\n  \"type\": \"Invocation\",\\n  \"a...</td>\n",
       "      <td>ee.Classifier({\\n  \"type\": \"Invocation\",\\n  \"a...</td>\n",
       "    </tr>\n",
       "    <tr>\n",
       "      <th>97</th>\n",
       "      <td>Control</td>\n",
       "      <td>Landsat_2017_2019</td>\n",
       "      <td>7</td>\n",
       "      <td>ee.Image({\\n  \"type\": \"Invocation\",\\n  \"argume...</td>\n",
       "      <td>ee.FeatureCollection({\\n  \"type\": \"Invocation\"...</td>\n",
       "      <td>ee.Classifier({\\n  \"type\": \"Invocation\",\\n  \"a...</td>\n",
       "      <td>ee.Classifier({\\n  \"type\": \"Invocation\",\\n  \"a...</td>\n",
       "    </tr>\n",
       "    <tr>\n",
       "      <th>98</th>\n",
       "      <td>Control</td>\n",
       "      <td>Landsat_2017_2019</td>\n",
       "      <td>8</td>\n",
       "      <td>ee.Image({\\n  \"type\": \"Invocation\",\\n  \"argume...</td>\n",
       "      <td>ee.FeatureCollection({\\n  \"type\": \"Invocation\"...</td>\n",
       "      <td>ee.Classifier({\\n  \"type\": \"Invocation\",\\n  \"a...</td>\n",
       "      <td>ee.Classifier({\\n  \"type\": \"Invocation\",\\n  \"a...</td>\n",
       "    </tr>\n",
       "    <tr>\n",
       "      <th>99</th>\n",
       "      <td>Control</td>\n",
       "      <td>Landsat_2017_2019</td>\n",
       "      <td>9</td>\n",
       "      <td>ee.Image({\\n  \"type\": \"Invocation\",\\n  \"argume...</td>\n",
       "      <td>ee.FeatureCollection({\\n  \"type\": \"Invocation\"...</td>\n",
       "      <td>ee.Classifier({\\n  \"type\": \"Invocation\",\\n  \"a...</td>\n",
       "      <td>ee.Classifier({\\n  \"type\": \"Invocation\",\\n  \"a...</td>\n",
       "    </tr>\n",
       "  </tbody>\n",
       "</table>\n",
       "<p>100 rows × 7 columns</p>\n",
       "</div>"
      ],
      "text/plain": [
       "   classificaiton_tpye               year  seed  \\\n",
       "0              Control  Landsat_1990_1992     0   \n",
       "1              Control  Landsat_1990_1992     1   \n",
       "2              Control  Landsat_1990_1992     2   \n",
       "3              Control  Landsat_1990_1992     3   \n",
       "4              Control  Landsat_1990_1992     4   \n",
       "..                 ...                ...   ...   \n",
       "95             Control  Landsat_2017_2019     5   \n",
       "96             Control  Landsat_2017_2019     6   \n",
       "97             Control  Landsat_2017_2019     7   \n",
       "98             Control  Landsat_2017_2019     8   \n",
       "99             Control  Landsat_2017_2019     9   \n",
       "\n",
       "                                       classified_img  \\\n",
       "0   ee.Image({\\n  \"type\": \"Invocation\",\\n  \"argume...   \n",
       "1   ee.Image({\\n  \"type\": \"Invocation\",\\n  \"argume...   \n",
       "2   ee.Image({\\n  \"type\": \"Invocation\",\\n  \"argume...   \n",
       "3   ee.Image({\\n  \"type\": \"Invocation\",\\n  \"argume...   \n",
       "4   ee.Image({\\n  \"type\": \"Invocation\",\\n  \"argume...   \n",
       "..                                                ...   \n",
       "95  ee.Image({\\n  \"type\": \"Invocation\",\\n  \"argume...   \n",
       "96  ee.Image({\\n  \"type\": \"Invocation\",\\n  \"argume...   \n",
       "97  ee.Image({\\n  \"type\": \"Invocation\",\\n  \"argume...   \n",
       "98  ee.Image({\\n  \"type\": \"Invocation\",\\n  \"argume...   \n",
       "99  ee.Image({\\n  \"type\": \"Invocation\",\\n  \"argume...   \n",
       "\n",
       "                               test_sample_classified  \\\n",
       "0   ee.FeatureCollection({\\n  \"type\": \"Invocation\"...   \n",
       "1   ee.FeatureCollection({\\n  \"type\": \"Invocation\"...   \n",
       "2   ee.FeatureCollection({\\n  \"type\": \"Invocation\"...   \n",
       "3   ee.FeatureCollection({\\n  \"type\": \"Invocation\"...   \n",
       "4   ee.FeatureCollection({\\n  \"type\": \"Invocation\"...   \n",
       "..                                                ...   \n",
       "95  ee.FeatureCollection({\\n  \"type\": \"Invocation\"...   \n",
       "96  ee.FeatureCollection({\\n  \"type\": \"Invocation\"...   \n",
       "97  ee.FeatureCollection({\\n  \"type\": \"Invocation\"...   \n",
       "98  ee.FeatureCollection({\\n  \"type\": \"Invocation\"...   \n",
       "99  ee.FeatureCollection({\\n  \"type\": \"Invocation\"...   \n",
       "\n",
       "                                           classifier  \\\n",
       "0   ee.Classifier({\\n  \"type\": \"Invocation\",\\n  \"a...   \n",
       "1   ee.Classifier({\\n  \"type\": \"Invocation\",\\n  \"a...   \n",
       "2   ee.Classifier({\\n  \"type\": \"Invocation\",\\n  \"a...   \n",
       "3   ee.Classifier({\\n  \"type\": \"Invocation\",\\n  \"a...   \n",
       "4   ee.Classifier({\\n  \"type\": \"Invocation\",\\n  \"a...   \n",
       "..                                                ...   \n",
       "95  ee.Classifier({\\n  \"type\": \"Invocation\",\\n  \"a...   \n",
       "96  ee.Classifier({\\n  \"type\": \"Invocation\",\\n  \"a...   \n",
       "97  ee.Classifier({\\n  \"type\": \"Invocation\",\\n  \"a...   \n",
       "98  ee.Classifier({\\n  \"type\": \"Invocation\",\\n  \"a...   \n",
       "99  ee.Classifier({\\n  \"type\": \"Invocation\",\\n  \"a...   \n",
       "\n",
       "                              classifier_randoncolumn  \n",
       "0   ee.Classifier({\\n  \"type\": \"Invocation\",\\n  \"a...  \n",
       "1   ee.Classifier({\\n  \"type\": \"Invocation\",\\n  \"a...  \n",
       "2   ee.Classifier({\\n  \"type\": \"Invocation\",\\n  \"a...  \n",
       "3   ee.Classifier({\\n  \"type\": \"Invocation\",\\n  \"a...  \n",
       "4   ee.Classifier({\\n  \"type\": \"Invocation\",\\n  \"a...  \n",
       "..                                                ...  \n",
       "95  ee.Classifier({\\n  \"type\": \"Invocation\",\\n  \"a...  \n",
       "96  ee.Classifier({\\n  \"type\": \"Invocation\",\\n  \"a...  \n",
       "97  ee.Classifier({\\n  \"type\": \"Invocation\",\\n  \"a...  \n",
       "98  ee.Classifier({\\n  \"type\": \"Invocation\",\\n  \"a...  \n",
       "99  ee.Classifier({\\n  \"type\": \"Invocation\",\\n  \"a...  \n",
       "\n",
       "[100 rows x 7 columns]"
      ]
     },
     "execution_count": 13,
     "metadata": {},
     "output_type": "execute_result"
    }
   ],
   "source": [
    "# convert classificaiton instances into a dataframe\n",
    "Classification_instances_df =  pd.DataFrame(Classificatioin_result,\n",
    "                                            columns=['classificaiton_tpye','year','seed','classified_img',\n",
    "                                                     'test_sample_classified','classifier','classifier_randoncolumn'])\n",
    "Classification_instances_df"
   ]
  },
  {
   "cell_type": "code",
   "execution_count": null,
   "metadata": {},
   "outputs": [],
   "source": []
  },
  {
   "cell_type": "code",
   "execution_count": null,
   "metadata": {},
   "outputs": [],
   "source": []
  },
  {
   "cell_type": "markdown",
   "metadata": {},
   "source": [
    "#### Calculate the importance of each input band"
   ]
  },
  {
   "cell_type": "code",
   "execution_count": 43,
   "metadata": {
    "scrolled": true
   },
   "outputs": [
    {
     "name": "stdout",
     "output_type": "stream",
     "text": [
      "Landsat_1990_1992_0 importance computation complete!\n",
      "Landsat_1990_1992_1 importance computation complete!\n",
      "Landsat_1990_1992_2 importance computation complete!\n",
      "Landsat_1990_1992_3 importance computation complete!\n",
      "Landsat_1990_1992_4 importance computation complete!\n",
      "Landsat_1990_1992_5 importance computation complete!\n",
      "Landsat_1990_1992_6 importance computation complete!\n",
      "Landsat_1990_1992_7 importance computation complete!\n",
      "Landsat_1990_1992_8 importance computation complete!\n",
      "Landsat_1990_1992_9 importance computation complete!\n",
      "Landsat_1993_1995_0 importance computation complete!\n",
      "Landsat_1993_1995_1 importance computation complete!\n",
      "Landsat_1993_1995_2 importance computation complete!\n",
      "Landsat_1993_1995_3 importance computation complete!\n",
      "Landsat_1993_1995_4 importance computation complete!\n",
      "Landsat_1993_1995_5 importance computation complete!\n",
      "Landsat_1993_1995_6 importance computation complete!\n",
      "Landsat_1993_1995_7 importance computation complete!\n",
      "Landsat_1993_1995_8 importance computation complete!\n",
      "Landsat_1993_1995_9 importance computation complete!\n",
      "Landsat_1996_1998_0 importance computation complete!\n",
      "Landsat_1996_1998_1 importance computation complete!\n",
      "Landsat_1996_1998_2 importance computation complete!\n",
      "Landsat_1996_1998_3 importance computation complete!\n",
      "Landsat_1996_1998_4 importance computation complete!\n",
      "Landsat_1996_1998_5 importance computation complete!\n",
      "Landsat_1996_1998_6 importance computation complete!\n",
      "Landsat_1996_1998_7 importance computation complete!\n",
      "Landsat_1996_1998_8 importance computation complete!\n",
      "Landsat_1996_1998_9 importance computation complete!\n",
      "Landsat_1999_2001_0 importance computation complete!\n",
      "Landsat_1999_2001_1 importance computation complete!\n",
      "Landsat_1999_2001_2 importance computation complete!\n",
      "Landsat_1999_2001_3 importance computation complete!\n",
      "Landsat_1999_2001_4 importance computation complete!\n",
      "Landsat_1999_2001_5 importance computation complete!\n",
      "Landsat_1999_2001_6 importance computation complete!\n",
      "Landsat_1999_2001_7 importance computation complete!\n",
      "Landsat_1999_2001_8 importance computation complete!\n",
      "Landsat_1999_2001_9 importance computation complete!\n",
      "Landsat_2002_2004_0 importance computation complete!\n",
      "Landsat_2002_2004_1 importance computation complete!\n",
      "Landsat_2002_2004_2 importance computation complete!\n",
      "Landsat_2002_2004_3 importance computation complete!\n",
      "Landsat_2002_2004_4 importance computation complete!\n",
      "Landsat_2002_2004_5 importance computation complete!\n",
      "Landsat_2002_2004_6 importance computation complete!\n",
      "Landsat_2002_2004_7 importance computation complete!\n",
      "Landsat_2002_2004_8 importance computation complete!\n",
      "Landsat_2002_2004_9 importance computation complete!\n",
      "Landsat_2005_2007_0 importance computation complete!\n",
      "Landsat_2005_2007_1 importance computation complete!\n",
      "Landsat_2005_2007_2 importance computation complete!\n",
      "Landsat_2005_2007_3 importance computation complete!\n",
      "Landsat_2005_2007_4 importance computation complete!\n",
      "Landsat_2005_2007_5 importance computation complete!\n",
      "Landsat_2005_2007_6 importance computation complete!\n",
      "Landsat_2005_2007_7 importance computation complete!\n",
      "Landsat_2005_2007_8 importance computation complete!\n",
      "Landsat_2005_2007_9 importance computation complete!\n",
      "Landsat_2008_2010_0 importance computation complete!\n",
      "Landsat_2008_2010_1 importance computation complete!\n",
      "Landsat_2008_2010_2 importance computation complete!\n",
      "Landsat_2008_2010_3 importance computation complete!\n",
      "Landsat_2008_2010_4 importance computation complete!\n",
      "Landsat_2008_2010_5 importance computation complete!\n",
      "Landsat_2008_2010_6 importance computation complete!\n",
      "Landsat_2008_2010_7 importance computation complete!\n",
      "Landsat_2008_2010_8 importance computation complete!\n",
      "Landsat_2008_2010_9 importance computation complete!\n",
      "Landsat_2011_2013_0 importance computation complete!\n",
      "Landsat_2011_2013_1 importance computation complete!\n",
      "Landsat_2011_2013_2 importance computation complete!\n",
      "Landsat_2011_2013_3 importance computation complete!\n",
      "Landsat_2011_2013_4 importance computation complete!\n",
      "Landsat_2011_2013_5 importance computation complete!\n",
      "Landsat_2011_2013_6 importance computation complete!\n",
      "Landsat_2011_2013_7 importance computation complete!\n",
      "Landsat_2011_2013_8 importance computation complete!\n",
      "Landsat_2011_2013_9 importance computation complete!\n",
      "Landsat_2014_2016_0 importance computation complete!\n",
      "Landsat_2014_2016_1 importance computation complete!\n",
      "Landsat_2014_2016_2 importance computation complete!\n",
      "Landsat_2014_2016_3 importance computation complete!\n",
      "Landsat_2014_2016_4 importance computation complete!\n",
      "Landsat_2014_2016_5 importance computation complete!\n",
      "Landsat_2014_2016_6 importance computation complete!\n",
      "Landsat_2014_2016_7 importance computation complete!\n",
      "Landsat_2014_2016_8 importance computation complete!\n",
      "Landsat_2014_2016_9 importance computation complete!\n",
      "Landsat_2017_2019_0 importance computation complete!\n",
      "Landsat_2017_2019_1 importance computation complete!\n",
      "Landsat_2017_2019_2 importance computation complete!\n",
      "Landsat_2017_2019_3 importance computation complete!\n",
      "Landsat_2017_2019_4 importance computation complete!\n",
      "Landsat_2017_2019_5 importance computation complete!\n",
      "Landsat_2017_2019_6 importance computation complete!\n",
      "Landsat_2017_2019_7 importance computation complete!\n",
      "Landsat_2017_2019_8 importance computation complete!\n",
      "Landsat_2017_2019_9 importance computation complete!\n"
     ]
    }
   ],
   "source": [
    "Importance_dict = {}\n",
    "Importance_dict_random = {}\n",
    "\n",
    "# calculate the accuracy of differnet randomness\n",
    "for index, row in Classification_instances_df.iterrows():\n",
    "    \n",
    "    # get the year and seed perperties\n",
    "    year = row[1]\n",
    "    seed = row[2]\n",
    "    \n",
    "    # fetch the importance dictionary\n",
    "    impt        = row[5].explain().get('importance').getInfo()\n",
    "    impt_random = row[6].explain().get('importance').getInfo()\n",
    "\n",
    "    # add importance value to Importance_df\n",
    "    Importance_dict[(year,seed)]        = impt\n",
    "    Importance_dict_random[(year,seed)] = impt_random\n",
    "    \n",
    "    # print out the process\n",
    "    print(f'{year}_{seed} importance computation complete!')"
   ]
  },
  {
   "cell_type": "code",
   "execution_count": null,
   "metadata": {},
   "outputs": [],
   "source": []
  },
  {
   "cell_type": "markdown",
   "metadata": {},
   "source": [
    "Formatting the importance_df"
   ]
  },
  {
   "cell_type": "code",
   "execution_count": 44,
   "metadata": {},
   "outputs": [],
   "source": [
    "# put importance_dict into a dataframe\n",
    "Importance_df = pd.DataFrame(Importance_dict)\n",
    "Importance_df_random = pd.DataFrame(Importance_dict_random)\n",
    "\n",
    "# unstack the dataframe into single indexed dataframes\n",
    "Importance_df_single_index = pd.DataFrame(Importance_df.unstack(1)).reset_index([0,1,2])\n",
    "Importance_df_single_index_random = pd.DataFrame(Importance_df_random.unstack(1)).reset_index([0,1,2])\n",
    "\n",
    "Importance_df_single_index.columns = ['year','seed','band','importance']\n",
    "Importance_df_single_index_random.columns = ['year','seed','band','importance']\n",
    "\n",
    "# Make the year column categorical so we can make figures\n",
    "Importance_df_single_index.dropna(inplace=True)\n",
    "Importance_df_single_index_random.dropna(inplace=True)"
   ]
  },
  {
   "cell_type": "code",
   "execution_count": null,
   "metadata": {},
   "outputs": [],
   "source": []
  },
  {
   "cell_type": "markdown",
   "metadata": {},
   "source": [
    "Exporting the importance_df"
   ]
  },
  {
   "cell_type": "code",
   "execution_count": 47,
   "metadata": {},
   "outputs": [],
   "source": [
    "# # export the df to local disk\n",
    "# Importance_df_single_index.to_csv('Result\\Importance_Landsat.csv',index=False)\n",
    "# Importance_df_single_index_random.to_csv('Result\\Importance_Landsat_random.csv',index=False)\n",
    "\n",
    "# read the df from locak disk\n",
    "Importance_df_single_index = pd.read_csv('Result\\Importance_Landsat.csv')\n",
    "Importance_df_single_index_random = pd.read_csv('Result\\Importance_Landsat_random.csv')\n",
    "\n",
    "Importance_df_single_index['year'] = pd.Categorical(Importance_df_single_index['year'])\n",
    "Importance_df_single_index_random['year'] = pd.Categorical(Importance_df_single_index_random['year'])\n"
   ]
  },
  {
   "cell_type": "code",
   "execution_count": null,
   "metadata": {},
   "outputs": [],
   "source": []
  },
  {
   "cell_type": "code",
   "execution_count": 48,
   "metadata": {},
   "outputs": [],
   "source": [
    "# calculaten the average importance of each band so we can have a proper order for figs\n",
    "Importance_2017_2019 = Importance_df_single_index[Importance_df_single_index['year'] == 'Landsat_2017_2019']\n",
    "Importance_2017_2019_random = Importance_df_single_index_random[Importance_df_single_index_random['year'] == 'Landsat_2017_2019']\n",
    "\n",
    "gourp_mean = Importance_2017_2019.groupby('band').mean().sort_values('importance',ascending=False)\n",
    "gourp_mean_random = Importance_2017_2019_random.groupby('band').mean().sort_values('importance',ascending=False)"
   ]
  },
  {
   "cell_type": "code",
   "execution_count": null,
   "metadata": {},
   "outputs": [],
   "source": []
  },
  {
   "cell_type": "code",
   "execution_count": null,
   "metadata": {},
   "outputs": [],
   "source": []
  },
  {
   "cell_type": "code",
   "execution_count": null,
   "metadata": {},
   "outputs": [],
   "source": []
  },
  {
   "cell_type": "code",
   "execution_count": 49,
   "metadata": {
    "scrolled": false
   },
   "outputs": [
    {
     "data": {
      "text/plain": [
       "<matplotlib.axes._subplots.AxesSubplot at 0x2a927b17320>"
      ]
     },
     "execution_count": 49,
     "metadata": {},
     "output_type": "execute_result"
    },
    {
     "data": {
      "image/png": "[encoded data removed]",
      "text/plain": [
       "<Figure size 864x576 with 1 Axes>"
      ]
     },
     "metadata": {
      "needs_background": "light"
     },
     "output_type": "display_data"
    }
   ],
   "source": [
    "plt.figure(figsize=(12,8))\n",
    "sns.barplot(x=gourp_mean.index ,y ='importance', data=gourp_mean )"
   ]
  },
  {
   "cell_type": "code",
   "execution_count": null,
   "metadata": {},
   "outputs": [],
   "source": []
  },
  {
   "cell_type": "code",
   "execution_count": 50,
   "metadata": {},
   "outputs": [
    {
     "data": {
      "text/plain": [
       "<matplotlib.axes._subplots.AxesSubplot at 0x2a9284a3780>"
      ]
     },
     "execution_count": 50,
     "metadata": {},
     "output_type": "execute_result"
    },
    {
     "data": {
      "image/png": "[encoded data removed]",
      "text/plain": [
       "<Figure size 864x576 with 1 Axes>"
      ]
     },
     "metadata": {
      "needs_background": "light"
     },
     "output_type": "display_data"
    }
   ],
   "source": [
    "plt.figure(figsize=(12,8))\n",
    "sns.barplot(x=gourp_mean_random.index ,y ='importance', data=gourp_mean_random )"
   ]
  },
  {
   "cell_type": "code",
   "execution_count": null,
   "metadata": {},
   "outputs": [],
   "source": []
  },
  {
   "cell_type": "code",
   "execution_count": null,
   "metadata": {},
   "outputs": [],
   "source": []
  },
  {
   "cell_type": "code",
   "execution_count": null,
   "metadata": {},
   "outputs": [],
   "source": []
  },
  {
   "cell_type": "markdown",
   "metadata": {},
   "source": [
    "#### Add one of the classified img to map"
   ]
  },
  {
   "cell_type": "code",
   "execution_count": 14,
   "metadata": {},
   "outputs": [
    {
     "data": {
      "text/plain": [
       "<ee.image.Image at 0x2a9252ec668>"
      ]
     },
     "execution_count": 14,
     "metadata": {},
     "output_type": "execute_result"
    }
   ],
   "source": [
    "one = Classification_instances_df.iloc[0][3]\n",
    "one"
   ]
  },
  {
   "cell_type": "code",
   "execution_count": null,
   "metadata": {},
   "outputs": [],
   "source": []
  },
  {
   "cell_type": "code",
   "execution_count": 16,
   "metadata": {
    "scrolled": false
   },
   "outputs": [
    {
     "data": {
      "application/vnd.jupyter.widget-view+json": {
       "model_id": "8215346606734ad8b9054afe9fc35dda",
       "version_major": 2,
       "version_minor": 0
      },
      "text/plain": [
       "Map(center=[40, -100], controls=(WidgetControl(options=['position'], widget=HBox(children=(ToggleButton(value=…"
      ]
     },
     "metadata": {},
     "output_type": "display_data"
    }
   ],
   "source": [
    "Map = geemap.Map()\n",
    "Map.add_basemap('HYBRID')\n",
    "Map.addLayer(one,{'min':0,'max':1},'One')\n",
    "Map"
   ]
  },
  {
   "cell_type": "code",
   "execution_count": null,
   "metadata": {},
   "outputs": [],
   "source": []
  },
  {
   "cell_type": "code",
   "execution_count": null,
   "metadata": {},
   "outputs": [],
   "source": []
  },
  {
   "cell_type": "markdown",
   "metadata": {},
   "source": [
    "#### calculate the accuracy of each radomness"
   ]
  },
  {
   "cell_type": "code",
   "execution_count": null,
   "metadata": {},
   "outputs": [],
   "source": []
  },
  {
   "cell_type": "code",
   "execution_count": 17,
   "metadata": {
    "scrolled": true
   },
   "outputs": [
    {
     "name": "stdout",
     "output_type": "stream",
     "text": [
      "Landsat_1990_1992_0-->Recall_built:95.0\n",
      "Landsat_1990_1992_1-->Recall_built:93.96\n",
      "Landsat_1990_1992_2-->Recall_built:94.44\n",
      "Landsat_1990_1992_3-->Recall_built:94.12\n",
      "Landsat_1990_1992_4-->Recall_built:93.01\n",
      "Landsat_1990_1992_5-->Recall_built:94.6\n",
      "Landsat_1990_1992_6-->Recall_built:93.88\n",
      "Landsat_1990_1992_7-->Recall_built:94.44\n",
      "Landsat_1990_1992_8-->Recall_built:94.58\n",
      "Landsat_1990_1992_9-->Recall_built:94.7\n",
      "Landsat_1993_1995_0-->Recall_built:94.02\n",
      "Landsat_1993_1995_1-->Recall_built:94.27\n",
      "Landsat_1993_1995_2-->Recall_built:93.46\n",
      "Landsat_1993_1995_3-->Recall_built:95.18\n",
      "Landsat_1993_1995_4-->Recall_built:94.05\n",
      "Landsat_1993_1995_5-->Recall_built:93.36\n",
      "Landsat_1993_1995_6-->Recall_built:94.59\n",
      "Landsat_1993_1995_7-->Recall_built:94.98\n",
      "Landsat_1993_1995_8-->Recall_built:93.15\n",
      "Landsat_1993_1995_9-->Recall_built:94.22\n",
      "Landsat_1996_1998_0-->Recall_built:94.04\n",
      "Landsat_1996_1998_1-->Recall_built:94.63\n",
      "Landsat_1996_1998_2-->Recall_built:93.57\n",
      "Landsat_1996_1998_3-->Recall_built:93.5\n",
      "Landsat_1996_1998_4-->Recall_built:93.02\n",
      "Landsat_1996_1998_5-->Recall_built:93.52\n",
      "Landsat_1996_1998_6-->Recall_built:93.82\n",
      "Landsat_1996_1998_7-->Recall_built:93.1\n",
      "Landsat_1996_1998_8-->Recall_built:94.04\n",
      "Landsat_1996_1998_9-->Recall_built:93.0\n",
      "Landsat_1999_2001_0-->Recall_built:92.91\n",
      "Landsat_1999_2001_1-->Recall_built:93.27\n",
      "Landsat_1999_2001_2-->Recall_built:92.84\n",
      "Landsat_1999_2001_3-->Recall_built:91.47\n",
      "Landsat_1999_2001_4-->Recall_built:91.56\n",
      "Landsat_1999_2001_5-->Recall_built:92.79\n",
      "Landsat_1999_2001_6-->Recall_built:92.34\n",
      "Landsat_1999_2001_7-->Recall_built:92.21\n",
      "Landsat_1999_2001_8-->Recall_built:92.02\n",
      "Landsat_1999_2001_9-->Recall_built:93.9\n",
      "Landsat_2002_2004_0-->Recall_built:93.79\n",
      "Landsat_2002_2004_1-->Recall_built:92.32\n",
      "Landsat_2002_2004_2-->Recall_built:91.97\n",
      "Landsat_2002_2004_3-->Recall_built:93.81\n",
      "Landsat_2002_2004_4-->Recall_built:93.35\n",
      "Landsat_2002_2004_5-->Recall_built:91.53\n",
      "Landsat_2002_2004_6-->Recall_built:92.89\n",
      "Landsat_2002_2004_7-->Recall_built:93.04\n",
      "Landsat_2002_2004_8-->Recall_built:89.71\n",
      "Landsat_2002_2004_9-->Recall_built:94.22\n",
      "Landsat_2005_2007_0-->Recall_built:92.49\n",
      "Landsat_2005_2007_1-->Recall_built:92.77\n",
      "Landsat_2005_2007_2-->Recall_built:93.71\n",
      "Landsat_2005_2007_3-->Recall_built:92.07\n",
      "Landsat_2005_2007_4-->Recall_built:94.24\n",
      "Landsat_2005_2007_5-->Recall_built:92.63\n",
      "Landsat_2005_2007_6-->Recall_built:93.5\n",
      "Landsat_2005_2007_7-->Recall_built:92.98\n",
      "Landsat_2005_2007_8-->Recall_built:92.26\n",
      "Landsat_2005_2007_9-->Recall_built:91.85\n",
      "Landsat_2008_2010_0-->Recall_built:90.97\n",
      "Landsat_2008_2010_1-->Recall_built:92.81\n",
      "Landsat_2008_2010_2-->Recall_built:92.3\n",
      "Landsat_2008_2010_3-->Recall_built:91.54\n",
      "Landsat_2008_2010_4-->Recall_built:91.31\n",
      "Landsat_2008_2010_5-->Recall_built:90.75\n",
      "Landsat_2008_2010_6-->Recall_built:91.24\n",
      "Landsat_2008_2010_7-->Recall_built:92.08\n",
      "Landsat_2008_2010_8-->Recall_built:90.54\n",
      "Landsat_2008_2010_9-->Recall_built:90.46\n",
      "Landsat_2011_2013_0-->Recall_built:91.51\n",
      "Landsat_2011_2013_1-->Recall_built:89.8\n",
      "Landsat_2011_2013_2-->Recall_built:92.61\n",
      "Landsat_2011_2013_3-->Recall_built:92.47\n",
      "Landsat_2011_2013_4-->Recall_built:91.23\n",
      "Landsat_2011_2013_5-->Recall_built:91.23\n",
      "Landsat_2011_2013_6-->Recall_built:91.23\n",
      "Landsat_2011_2013_7-->Recall_built:92.46\n",
      "Landsat_2011_2013_8-->Recall_built:91.94\n",
      "Landsat_2011_2013_9-->Recall_built:92.01\n",
      "Landsat_2014_2016_0-->Recall_built:91.36\n",
      "Landsat_2014_2016_1-->Recall_built:92.14\n",
      "Landsat_2014_2016_2-->Recall_built:89.97\n",
      "Landsat_2014_2016_3-->Recall_built:90.42\n",
      "Landsat_2014_2016_4-->Recall_built:92.84\n",
      "Landsat_2014_2016_5-->Recall_built:92.4\n",
      "Landsat_2014_2016_6-->Recall_built:91.86\n",
      "Landsat_2014_2016_7-->Recall_built:90.0\n",
      "Landsat_2014_2016_8-->Recall_built:90.99\n",
      "Landsat_2014_2016_9-->Recall_built:92.51\n",
      "Landsat_2017_2019_0-->Recall_built:91.73\n",
      "Landsat_2017_2019_1-->Recall_built:91.34\n",
      "Landsat_2017_2019_2-->Recall_built:90.32\n",
      "Landsat_2017_2019_3-->Recall_built:90.55\n",
      "Landsat_2017_2019_4-->Recall_built:90.93\n",
      "Landsat_2017_2019_5-->Recall_built:90.68\n",
      "Landsat_2017_2019_6-->Recall_built:92.41\n",
      "Landsat_2017_2019_7-->Recall_built:91.06\n",
      "Landsat_2017_2019_8-->Recall_built:92.07\n",
      "Landsat_2017_2019_9-->Recall_built:91.86\n"
     ]
    }
   ],
   "source": [
    "acc = []\n",
    "\n",
    "# calculate the accuracy of differnet randomness\n",
    "for i in Classificatioin_result:\n",
    "    \n",
    "    accuracy = Accuracy_assesment(i[4]).Stp_1_Calculate_Accuracy()\n",
    "    acc.append(accuracy)\n",
    "    \n",
    "    key = 'Recall_built'\n",
    "    print(f'{i[1]}_{i[2]}-->Recall_built:{accuracy[key]}')"
   ]
  },
  {
   "cell_type": "code",
   "execution_count": null,
   "metadata": {},
   "outputs": [],
   "source": []
  },
  {
   "cell_type": "code",
   "execution_count": 21,
   "metadata": {
    "scrolled": true
   },
   "outputs": [
    {
     "data": {
      "text/html": [
       "<div>\n",
       "<style scoped>\n",
       "    .dataframe tbody tr th:only-of-type {\n",
       "        vertical-align: middle;\n",
       "    }\n",
       "\n",
       "    .dataframe tbody tr th {\n",
       "        vertical-align: top;\n",
       "    }\n",
       "\n",
       "    .dataframe thead th {\n",
       "        text-align: right;\n",
       "    }\n",
       "</style>\n",
       "<table border=\"1\" class=\"dataframe\">\n",
       "  <thead>\n",
       "    <tr style=\"text-align: right;\">\n",
       "      <th></th>\n",
       "      <th>year</th>\n",
       "      <th>seed</th>\n",
       "      <th>Overall_ACC</th>\n",
       "      <th>Precisioin_non_built</th>\n",
       "      <th>Precisioin_built</th>\n",
       "      <th>Recall_non_built</th>\n",
       "      <th>Recall_built</th>\n",
       "    </tr>\n",
       "  </thead>\n",
       "  <tbody>\n",
       "    <tr>\n",
       "      <th>0</th>\n",
       "      <td>Landsat_1990_1992</td>\n",
       "      <td>0</td>\n",
       "      <td>94.97</td>\n",
       "      <td>95.15</td>\n",
       "      <td>94.79</td>\n",
       "      <td>94.94</td>\n",
       "      <td>95.00</td>\n",
       "    </tr>\n",
       "    <tr>\n",
       "      <th>1</th>\n",
       "      <td>Landsat_1990_1992</td>\n",
       "      <td>1</td>\n",
       "      <td>94.42</td>\n",
       "      <td>94.34</td>\n",
       "      <td>94.50</td>\n",
       "      <td>94.84</td>\n",
       "      <td>93.96</td>\n",
       "    </tr>\n",
       "    <tr>\n",
       "      <th>2</th>\n",
       "      <td>Landsat_1990_1992</td>\n",
       "      <td>2</td>\n",
       "      <td>94.80</td>\n",
       "      <td>94.52</td>\n",
       "      <td>95.07</td>\n",
       "      <td>95.15</td>\n",
       "      <td>94.44</td>\n",
       "    </tr>\n",
       "    <tr>\n",
       "      <th>3</th>\n",
       "      <td>Landsat_1990_1992</td>\n",
       "      <td>3</td>\n",
       "      <td>94.81</td>\n",
       "      <td>94.23</td>\n",
       "      <td>95.41</td>\n",
       "      <td>95.50</td>\n",
       "      <td>94.12</td>\n",
       "    </tr>\n",
       "    <tr>\n",
       "      <th>4</th>\n",
       "      <td>Landsat_1990_1992</td>\n",
       "      <td>4</td>\n",
       "      <td>94.32</td>\n",
       "      <td>93.37</td>\n",
       "      <td>95.34</td>\n",
       "      <td>95.59</td>\n",
       "      <td>93.01</td>\n",
       "    </tr>\n",
       "    <tr>\n",
       "      <th>...</th>\n",
       "      <td>...</td>\n",
       "      <td>...</td>\n",
       "      <td>...</td>\n",
       "      <td>...</td>\n",
       "      <td>...</td>\n",
       "      <td>...</td>\n",
       "      <td>...</td>\n",
       "    </tr>\n",
       "    <tr>\n",
       "      <th>95</th>\n",
       "      <td>Landsat_2017_2019</td>\n",
       "      <td>5</td>\n",
       "      <td>91.99</td>\n",
       "      <td>91.69</td>\n",
       "      <td>92.34</td>\n",
       "      <td>93.18</td>\n",
       "      <td>90.68</td>\n",
       "    </tr>\n",
       "    <tr>\n",
       "      <th>96</th>\n",
       "      <td>Landsat_2017_2019</td>\n",
       "      <td>6</td>\n",
       "      <td>92.23</td>\n",
       "      <td>92.97</td>\n",
       "      <td>91.45</td>\n",
       "      <td>92.08</td>\n",
       "      <td>92.41</td>\n",
       "    </tr>\n",
       "    <tr>\n",
       "      <th>97</th>\n",
       "      <td>Landsat_2017_2019</td>\n",
       "      <td>7</td>\n",
       "      <td>92.47</td>\n",
       "      <td>90.97</td>\n",
       "      <td>94.00</td>\n",
       "      <td>93.94</td>\n",
       "      <td>91.06</td>\n",
       "    </tr>\n",
       "    <tr>\n",
       "      <th>98</th>\n",
       "      <td>Landsat_2017_2019</td>\n",
       "      <td>8</td>\n",
       "      <td>92.74</td>\n",
       "      <td>92.69</td>\n",
       "      <td>92.81</td>\n",
       "      <td>93.37</td>\n",
       "      <td>92.07</td>\n",
       "    </tr>\n",
       "    <tr>\n",
       "      <th>99</th>\n",
       "      <td>Landsat_2017_2019</td>\n",
       "      <td>9</td>\n",
       "      <td>92.67</td>\n",
       "      <td>91.70</td>\n",
       "      <td>93.64</td>\n",
       "      <td>93.50</td>\n",
       "      <td>91.86</td>\n",
       "    </tr>\n",
       "  </tbody>\n",
       "</table>\n",
       "<p>100 rows × 7 columns</p>\n",
       "</div>"
      ],
      "text/plain": [
       "                 year  seed  Overall_ACC  Precisioin_non_built  \\\n",
       "0   Landsat_1990_1992     0        94.97                 95.15   \n",
       "1   Landsat_1990_1992     1        94.42                 94.34   \n",
       "2   Landsat_1990_1992     2        94.80                 94.52   \n",
       "3   Landsat_1990_1992     3        94.81                 94.23   \n",
       "4   Landsat_1990_1992     4        94.32                 93.37   \n",
       "..                ...   ...          ...                   ...   \n",
       "95  Landsat_2017_2019     5        91.99                 91.69   \n",
       "96  Landsat_2017_2019     6        92.23                 92.97   \n",
       "97  Landsat_2017_2019     7        92.47                 90.97   \n",
       "98  Landsat_2017_2019     8        92.74                 92.69   \n",
       "99  Landsat_2017_2019     9        92.67                 91.70   \n",
       "\n",
       "    Precisioin_built  Recall_non_built  Recall_built  \n",
       "0              94.79             94.94         95.00  \n",
       "1              94.50             94.84         93.96  \n",
       "2              95.07             95.15         94.44  \n",
       "3              95.41             95.50         94.12  \n",
       "4              95.34             95.59         93.01  \n",
       "..               ...               ...           ...  \n",
       "95             92.34             93.18         90.68  \n",
       "96             91.45             92.08         92.41  \n",
       "97             94.00             93.94         91.06  \n",
       "98             92.81             93.37         92.07  \n",
       "99             93.64             93.50         91.86  \n",
       "\n",
       "[100 rows x 7 columns]"
      ]
     },
     "execution_count": 21,
     "metadata": {},
     "output_type": "execute_result"
    }
   ],
   "source": [
    "# # store the acc_df to local drive\n",
    "# acc_df = pd.concat([Classification_instances_df[['year','seed']],pd.DataFrame(acc)],axis=1)\n",
    "# acc_df.to_csv('./Result/Classification_Accuracy.csv',index=False)\n",
    "\n",
    "# access the acc_df\n",
    "acc_df = pd.read_csv('./Result/Classification_Accuracy.csv')\n",
    "acc_df"
   ]
  },
  {
   "cell_type": "code",
   "execution_count": null,
   "metadata": {},
   "outputs": [],
   "source": []
  },
  {
   "cell_type": "code",
   "execution_count": null,
   "metadata": {},
   "outputs": [],
   "source": []
  },
  {
   "cell_type": "code",
   "execution_count": 22,
   "metadata": {},
   "outputs": [
    {
     "data": {
      "text/plain": [
       "<matplotlib.axes._subplots.AxesSubplot at 0x2a927acd9b0>"
      ]
     },
     "execution_count": 22,
     "metadata": {},
     "output_type": "execute_result"
    },
    {
     "data": {
      "image/png": "[encoded data removed]",
      "text/plain": [
       "<Figure size 864x576 with 1 Axes>"
      ]
     },
     "metadata": {
      "needs_background": "light"
     },
     "output_type": "display_data"
    }
   ],
   "source": [
    "plt.figure(figsize=(12,8))\n",
    "sns.lineplot(x='year',y='Overall_ACC',data=acc_df)"
   ]
  },
  {
   "cell_type": "code",
   "execution_count": null,
   "metadata": {},
   "outputs": [],
   "source": []
  },
  {
   "cell_type": "markdown",
   "metadata": {},
   "source": [
    "##### Export the classified_img"
   ]
  },
  {
   "cell_type": "code",
   "execution_count": null,
   "metadata": {},
   "outputs": [],
   "source": []
  },
  {
   "cell_type": "code",
   "execution_count": 26,
   "metadata": {
    "scrolled": true
   },
   "outputs": [
    {
     "name": "stdout",
     "output_type": "stream",
     "text": [
      "Exporting Control_1990_1992_0 successful!\n",
      "Exporting Control_1990_1992_1 successful!\n",
      "Exporting Control_1990_1992_2 successful!\n",
      "Exporting Control_1990_1992_3 successful!\n",
      "Exporting Control_1990_1992_4 successful!\n",
      "Exporting Control_1990_1992_5 successful!\n",
      "Exporting Control_1990_1992_6 successful!\n",
      "Exporting Control_1990_1992_7 successful!\n",
      "Exporting Control_1990_1992_8 successful!\n",
      "Exporting Control_1990_1992_9 successful!\n",
      "Exporting Control_1993_1995_0 successful!\n",
      "Exporting Control_1993_1995_1 successful!\n",
      "Exporting Control_1993_1995_2 successful!\n",
      "Exporting Control_1993_1995_3 successful!\n",
      "Exporting Control_1993_1995_4 successful!\n",
      "Exporting Control_1993_1995_5 successful!\n",
      "Exporting Control_1993_1995_6 successful!\n",
      "Exporting Control_1993_1995_7 successful!\n",
      "Exporting Control_1993_1995_8 successful!\n",
      "Exporting Control_1993_1995_9 successful!\n",
      "Exporting Control_1996_1998_0 successful!\n",
      "Exporting Control_1996_1998_1 successful!\n",
      "Exporting Control_1996_1998_2 successful!\n",
      "Exporting Control_1996_1998_3 successful!\n",
      "Exporting Control_1996_1998_4 successful!\n",
      "Exporting Control_1996_1998_5 successful!\n",
      "Exporting Control_1996_1998_6 successful!\n",
      "Exporting Control_1996_1998_7 successful!\n",
      "Exporting Control_1996_1998_8 successful!\n",
      "Exporting Control_1996_1998_9 successful!\n",
      "Exporting Control_1999_2001_0 successful!\n",
      "Exporting Control_1999_2001_1 successful!\n",
      "Exporting Control_1999_2001_2 successful!\n",
      "Exporting Control_1999_2001_3 successful!\n",
      "Exporting Control_1999_2001_4 successful!\n",
      "Exporting Control_1999_2001_5 successful!\n",
      "Exporting Control_1999_2001_6 successful!\n",
      "Exporting Control_1999_2001_7 successful!\n",
      "Exporting Control_1999_2001_8 successful!\n",
      "Exporting Control_1999_2001_9 successful!\n",
      "Exporting Control_2002_2004_0 successful!\n",
      "Exporting Control_2002_2004_1 successful!\n",
      "Exporting Control_2002_2004_2 successful!\n",
      "Exporting Control_2002_2004_3 successful!\n",
      "Exporting Control_2002_2004_4 successful!\n",
      "Exporting Control_2002_2004_5 successful!\n",
      "Exporting Control_2002_2004_6 successful!\n",
      "Exporting Control_2002_2004_7 successful!\n",
      "Exporting Control_2002_2004_8 successful!\n",
      "Exporting Control_2002_2004_9 successful!\n",
      "Exporting Control_2005_2007_0 successful!\n",
      "Exporting Control_2005_2007_1 successful!\n",
      "Exporting Control_2005_2007_2 successful!\n",
      "Exporting Control_2005_2007_3 successful!\n",
      "Exporting Control_2005_2007_4 successful!\n",
      "Exporting Control_2005_2007_5 successful!\n",
      "Exporting Control_2005_2007_6 successful!\n",
      "Exporting Control_2005_2007_7 successful!\n",
      "Exporting Control_2005_2007_8 successful!\n",
      "Exporting Control_2005_2007_9 successful!\n",
      "Exporting Control_2008_2010_0 successful!\n",
      "Exporting Control_2008_2010_1 successful!\n",
      "Exporting Control_2008_2010_2 successful!\n",
      "Exporting Control_2008_2010_3 successful!\n",
      "Exporting Control_2008_2010_4 successful!\n",
      "Exporting Control_2008_2010_5 successful!\n",
      "Exporting Control_2008_2010_6 successful!\n",
      "Exporting Control_2008_2010_7 successful!\n",
      "Exporting Control_2008_2010_8 successful!\n",
      "Exporting Control_2008_2010_9 successful!\n",
      "Exporting Control_2011_2013_0 successful!\n",
      "Exporting Control_2011_2013_1 successful!\n",
      "Exporting Control_2011_2013_2 successful!\n",
      "Exporting Control_2011_2013_3 successful!\n",
      "Exporting Control_2011_2013_4 successful!\n",
      "Exporting Control_2011_2013_5 successful!\n",
      "Exporting Control_2011_2013_6 successful!\n",
      "Exporting Control_2011_2013_7 successful!\n",
      "Exporting Control_2011_2013_8 successful!\n",
      "Exporting Control_2011_2013_9 successful!\n",
      "Exporting Control_2014_2016_0 successful!\n",
      "Exporting Control_2014_2016_1 successful!\n",
      "Exporting Control_2014_2016_2 successful!\n",
      "Exporting Control_2014_2016_3 successful!\n",
      "Exporting Control_2014_2016_4 successful!\n",
      "Exporting Control_2014_2016_5 successful!\n",
      "Exporting Control_2014_2016_6 successful!\n",
      "Exporting Control_2014_2016_7 successful!\n",
      "Exporting Control_2014_2016_8 successful!\n",
      "Exporting Control_2014_2016_9 successful!\n",
      "Exporting Control_2017_2019_0 successful!\n",
      "Exporting Control_2017_2019_1 successful!\n",
      "Exporting Control_2017_2019_2 successful!\n",
      "Exporting Control_2017_2019_3 successful!\n",
      "Exporting Control_2017_2019_4 successful!\n",
      "Exporting Control_2017_2019_5 successful!\n",
      "Exporting Control_2017_2019_6 successful!\n",
      "Exporting Control_2017_2019_7 successful!\n",
      "Exporting Control_2017_2019_8 successful!\n",
      "Exporting Control_2017_2019_9 successful!\n"
     ]
    }
   ],
   "source": [
    "for item in Classificatioin_result:\n",
    "     \n",
    "    Classification_type = item[0]\n",
    "    year = item[1]\n",
    "    seed = item[2]\n",
    "    img  = item[3]\n",
    "    \n",
    "    \n",
    "    export_name = f'{Classification_type}_{year}_{seed}'\n",
    "    \n",
    "#     # export to Google Storage\n",
    "#     task = ee.batch.Export.image.toCloudStorage(image          = img,\n",
    "#                                                 description    = export_name,\n",
    "#                                                 bucket         = 'north_china_plain',\n",
    "#                                                 fileNamePrefix = export_name,\n",
    "#                                                 region         = North_China_Plain.geometry().bounds(),\n",
    "#                                                 scale          = 30,\n",
    "#                                                 maxPixels      = int(1e13),\n",
    "#                                                 skipEmptyTiles = True)\n",
    "    \n",
    "    #export to GEE asset\n",
    "    asset_path = f'users/wangjinzhulala/North_China_Plain_Python/classification_img/Tree_50_{year}'\n",
    "    \n",
    "    task = ee.batch.Export.image.toAsset(   image          = img,\n",
    "                                            description    = export_name,\n",
    "                                            assetId        = f'{asset_path}/{export_name}',\n",
    "                                            region         = North_China_Plain.geometry().bounds(),\n",
    "                                            scale          = 30,\n",
    "                                            maxPixels      = int(1e13)) \n",
    "    \n",
    "    task.start()\n",
    "    \n",
    "    print(f'Exporting {export_name} successful!')"
   ]
  },
  {
   "cell_type": "code",
   "execution_count": null,
   "metadata": {},
   "outputs": [],
   "source": []
  },
  {
   "cell_type": "code",
   "execution_count": null,
   "metadata": {},
   "outputs": [],
   "source": []
  },
  {
   "cell_type": "code",
   "execution_count": null,
   "metadata": {},
   "outputs": [],
   "source": []
  },
  {
   "cell_type": "code",
   "execution_count": null,
   "metadata": {},
   "outputs": [],
   "source": []
  },
  {
   "cell_type": "code",
   "execution_count": null,
   "metadata": {},
   "outputs": [],
   "source": []
  },
  {
   "cell_type": "code",
   "execution_count": null,
   "metadata": {},
   "outputs": [],
   "source": []
  },
  {
   "cell_type": "code",
   "execution_count": null,
   "metadata": {},
   "outputs": [],
   "source": []
  },
  {
   "cell_type": "code",
   "execution_count": null,
   "metadata": {},
   "outputs": [],
   "source": []
  },
  {
   "cell_type": "code",
   "execution_count": null,
   "metadata": {},
   "outputs": [],
   "source": []
  },
  {
   "cell_type": "code",
   "execution_count": null,
   "metadata": {},
   "outputs": [],
   "source": []
  },
  {
   "cell_type": "code",
   "execution_count": null,
   "metadata": {},
   "outputs": [],
   "source": []
  }
 ],
 "metadata": {
  "kernelspec": {
   "display_name": "Python 3",
   "language": "python",
   "name": "python3"
  },
  "language_info": {
   "codemirror_mode": {
    "name": "ipython",
    "version": 3
   },
   "file_extension": ".py",
   "mimetype": "text/x-python",
   "name": "python",
   "nbconvert_exporter": "python",
   "pygments_lexer": "ipython3",
   "version": "3.7.3"
  }
 },
 "nbformat": 4,
 "nbformat_minor": 2
}
