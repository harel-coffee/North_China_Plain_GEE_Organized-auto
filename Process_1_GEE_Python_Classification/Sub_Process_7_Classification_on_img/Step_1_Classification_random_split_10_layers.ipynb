{
 "cells": [
  {
   "cell_type": "code",
   "execution_count": null,
   "metadata": {},
   "outputs": [],
   "source": []
  },
  {
   "cell_type": "markdown",
   "metadata": {},
   "source": [
    "This Notebook is classifiy the input image to get built-up land maps.<br>\n",
    "\n",
    "Specifically, we:<br>\n",
    "1) loop through each year-range (1990-2019 at 3-year intervals);<br>\n",
    "2) loop through each seed number (0-9) to create 10 classifications with diff samples;\n",
    "3) export classification to Assest"
   ]
  },
  {
   "cell_type": "code",
   "execution_count": null,
   "metadata": {},
   "outputs": [],
   "source": []
  },
  {
   "cell_type": "code",
   "execution_count": null,
   "metadata": {},
   "outputs": [],
   "source": []
  },
  {
   "cell_type": "code",
   "execution_count": null,
   "metadata": {},
   "outputs": [],
   "source": []
  },
  {
   "cell_type": "code",
   "execution_count": null,
   "metadata": {},
   "outputs": [],
   "source": []
  },
  {
   "cell_type": "code",
   "execution_count": null,
   "metadata": {},
   "outputs": [],
   "source": []
  },
  {
   "cell_type": "code",
   "execution_count": 1,
   "metadata": {},
   "outputs": [],
   "source": [
    "import ee\n",
    "import datetime\n",
    "import os\n",
    "import itertools\n",
    "import sys\n",
    "import re\n",
    "\n",
    "import pandas as pd\n",
    "import numpy as np\n",
    "import seaborn as sns\n",
    "import matplotlib.pyplot as plt\n",
    "\n",
    "import geemap\n",
    "\n",
    "import subprocess\n",
    "from subprocess import PIPE\n",
    "import ast"
   ]
  },
  {
   "cell_type": "code",
   "execution_count": 2,
   "metadata": {},
   "outputs": [],
   "source": [
    "ee.Initialize()"
   ]
  },
  {
   "cell_type": "code",
   "execution_count": 3,
   "metadata": {},
   "outputs": [],
   "source": [
    "# append upper folder into sys-path during run time so we can\n",
    "# import our own moduls\n",
    "sys.path.append('..')"
   ]
  },
  {
   "cell_type": "code",
   "execution_count": 4,
   "metadata": {},
   "outputs": [],
   "source": [
    "from BackGround_modules.Class_2_Classify_Fourier_Img   import Classification\n",
    "from BackGround_modules.Class_3_Calculate_the_accuracy import Accuracy_assesment"
   ]
  },
  {
   "cell_type": "code",
   "execution_count": null,
   "metadata": {},
   "outputs": [],
   "source": []
  },
  {
   "cell_type": "markdown",
   "metadata": {},
   "source": [
    "##### Prepare basic parameters"
   ]
  },
  {
   "cell_type": "code",
   "execution_count": 5,
   "metadata": {},
   "outputs": [],
   "source": [
    "# define the years to be classified\n",
    "year_name  = [f'{i}_{i+2}' for i in range(1990,2020,3)]\n",
    "\n",
    "# define the number of total periods\n",
    "num_invarient = 10\n",
    "\n",
    "# import north_china_plain boundary\n",
    "North_China_Plain = ee.FeatureCollection(\"users/wangjinzhulala/North_China_Plain_Python/Boundary_shp/North_China_Plain_Boundary\")"
   ]
  },
  {
   "cell_type": "code",
   "execution_count": 6,
   "metadata": {},
   "outputs": [
    {
     "data": {
      "text/plain": [
       "['1990_1992',\n",
       " '1993_1995',\n",
       " '1996_1998',\n",
       " '1999_2001',\n",
       " '2002_2004',\n",
       " '2005_2007',\n",
       " '2008_2010',\n",
       " '2011_2013',\n",
       " '2014_2016',\n",
       " '2017_2019']"
      ]
     },
     "execution_count": 6,
     "metadata": {},
     "output_type": "execute_result"
    }
   ],
   "source": [
    "year_name"
   ]
  },
  {
   "cell_type": "code",
   "execution_count": null,
   "metadata": {},
   "outputs": [],
   "source": []
  },
  {
   "cell_type": "markdown",
   "metadata": {},
   "source": [
    "##### Prepare input_image for classification"
   ]
  },
  {
   "cell_type": "code",
   "execution_count": null,
   "metadata": {},
   "outputs": [],
   "source": []
  },
  {
   "cell_type": "markdown",
   "metadata": {},
   "source": [
    "Some additional treatment for the last two periods of Landsat and Sentinel imgs"
   ]
  },
  {
   "cell_type": "code",
   "execution_count": 7,
   "metadata": {},
   "outputs": [],
   "source": [
    "# import Landsat img\n",
    "Landsat_img = [ee.Image(f\"users/wang8052664/Cloud_Free_Img/Landsat_cloud_free_{year}\")\\\n",
    "                 .clip(North_China_Plain)  for year in year_name]"
   ]
  },
  {
   "cell_type": "code",
   "execution_count": null,
   "metadata": {},
   "outputs": [],
   "source": []
  },
  {
   "cell_type": "code",
   "execution_count": 8,
   "metadata": {},
   "outputs": [],
   "source": [
    "# ________________________________________import Sentinel cloud free img______________\n",
    "\n",
    "# we do not store the Sentinel img to gee Asset because it requires more space than allowed,\n",
    "# so we use Sentinel on-the-fly here\n",
    "\n",
    "# first introduce a cloud masking function\n",
    "def maskS2clouds(image):\n",
    "    qa = image.select('QA60')\n",
    "\n",
    "    # Bits 10 and 11 are clouds and cirrus, respectively.\n",
    "    cloudBitMask  = 1 << 10;\n",
    "    cirrusBitMask = 1 << 11;\n",
    "\n",
    "    # Both flags should be set to zero, indicating clear conditions.\n",
    "    mask = qa.bitwiseAnd(cloudBitMask).eq(0).And(qa.bitwiseAnd(cirrusBitMask).eq(0))\n",
    "\n",
    "    # Return the masked and scaled data, without the QA bands.\n",
    "    return image.updateMask(mask)\\\n",
    "                 .select(\"B.*\")\\\n",
    "                 .copyProperties(image, [\"system:time_start\"])\n",
    "\n",
    "\n",
    "\n",
    "# here composite Sentinel-2 multispectrum image of year [2015-2017] for classification of [2014-2016]\n",
    "#            and Sentinel-2 multispectrum image of year [2018-2019] for classification of [2017-2019]\n",
    "# because the composition of S2 image at year [2014-2016] are not fully cloud-free\n",
    "Sentinel_year_range = [(\"2015-01-01\",\"2017-12-31\"),(\"2018-01-01\",\"2019-12-31\")]\n",
    "\n",
    "Sentinel_img =  [ee.ImageCollection(\"COPERNICUS/S2\")\\\n",
    "                      .filterBounds(North_China_Plain)\\\n",
    "                      .filterDate(*S_t)\\\n",
    "                      .filter(ee.Filter.lt('CLOUDY_PIXEL_PERCENTAGE', 5))\\\n",
    "                      .map(lambda x: maskS2clouds(x))\\\n",
    "                      .median() for S_t in Sentinel_year_range] "
   ]
  },
  {
   "cell_type": "code",
   "execution_count": null,
   "metadata": {},
   "outputs": [],
   "source": []
  },
  {
   "cell_type": "code",
   "execution_count": 9,
   "metadata": {},
   "outputs": [],
   "source": [
    "# combine Landsat/Sentinel imgs together, note for the year 2014_2016, 2017-2019,\n",
    "# we added the sensor name before each landsat/Sentine bands, because otherwise\n",
    "# it not possible to distinguash bands (since bands of Landsat and Sentinel are\n",
    "# all named as B* )\n",
    "\n",
    "Landsat_2014_2019  = [img.rename([f'Landsat_{band}' for band in  img.bandNames().getInfo()]) for img in Landsat_img[-2:]]\n",
    "Sentinel_2014_2019 = [img.rename([f'Sentinel_{band}' for band in  img.bandNames().getInfo()]) for img in Sentinel_img]\n",
    "\n",
    "Landsat_Sentinel  = [ee.Image(img) for img in zip(Landsat_2014_2019,Sentinel_2014_2019)]"
   ]
  },
  {
   "cell_type": "code",
   "execution_count": null,
   "metadata": {},
   "outputs": [],
   "source": []
  },
  {
   "cell_type": "code",
   "execution_count": 10,
   "metadata": {},
   "outputs": [],
   "source": [
    "# put original Landsat and Landsat_Sentinel_2014_2019 to one list\n",
    "Landsat_Sentinel_input = Landsat_img[:-2] + Landsat_Sentinel"
   ]
  },
  {
   "cell_type": "code",
   "execution_count": null,
   "metadata": {},
   "outputs": [],
   "source": []
  },
  {
   "cell_type": "markdown",
   "metadata": {},
   "source": [
    "Now prepare other input imgs and stack all img together"
   ]
  },
  {
   "cell_type": "code",
   "execution_count": null,
   "metadata": {},
   "outputs": [],
   "source": []
  },
  {
   "cell_type": "code",
   "execution_count": 11,
   "metadata": {},
   "outputs": [],
   "source": [
    "# import Fourier img   \n",
    "Fourier_img = [ee.Image(f\"users/Jinzhu_Deakin/North_China_Plain/Fourier_img_harmonic_3/Fourier_img_{year}_harmonic_3\")\\\n",
    "                 .clip(North_China_Plain)  for year in year_name[:5]] + \\\n",
    "              [ee.Image(f\"users/wang8052664/North_China_Plain/Fourier_imgs/Fourier_img_{year}_harmonic_3\")\\\n",
    "                 .clip(North_China_Plain)  for year in year_name[5:]] \n",
    "\n",
    "# Import the Index-mean Img\n",
    "NDVI_img = [ee.Image(f\"users/wensomone666/Jinzhu/Mean_NDVI/Year_{year}_Mean_NDVI\").rename('Mean_NDVI')  \n",
    "            for year in year_name ]\n",
    "NDBI_img = [ee.Image(f\"users/wensomone666/Jinzhu/Mean_NDVI/Year_{year}_Mean_NDBI\").rename('Mean_NDBI')  \n",
    "            for year in year_name ]\n",
    "EVI_img  = [ee.Image(f\"users/wensomone666/Jinzhu/Mean_NDVI/Year_{year}_Mean_EVI\").rename('Mean_EVI')  \n",
    "            for year in year_name ]\n",
    "\n",
    "# prepare the climate data\n",
    "Climate_mean = [ee.Image(f\"users/wangjinzhulala/North_China_Plain_Python/Climate_data/Mean_{year}\")\n",
    "               .clip(North_China_Plain)  for year in year_name]\n",
    "\n",
    "# Import DEM/SLOPE Img\n",
    "DEM   = [ee.Image(\"USGS/SRTMGL1_003\").rename('DEM')] * num_invarient\n",
    "SLOPE = [ee.Terrain.slope(DEM).rename('SLOPE')] * num_invarient"
   ]
  },
  {
   "cell_type": "code",
   "execution_count": null,
   "metadata": {},
   "outputs": [],
   "source": []
  },
  {
   "cell_type": "code",
   "execution_count": 12,
   "metadata": {},
   "outputs": [],
   "source": [
    "# stack all Imput_Img together\n",
    "Stack_img = [ee.Image(img) for img in zip(Landsat_Sentinel_input,\n",
    "                                          Fourier_img,\n",
    "                                          NDVI_img,\n",
    "                                          NDBI_img,\n",
    "                                          EVI_img,\n",
    "                                          Climate_mean,\n",
    "                                          DEM,\n",
    "                                          SLOPE)]"
   ]
  },
  {
   "cell_type": "code",
   "execution_count": null,
   "metadata": {},
   "outputs": [],
   "source": []
  },
  {
   "cell_type": "code",
   "execution_count": null,
   "metadata": {},
   "outputs": [],
   "source": []
  },
  {
   "cell_type": "markdown",
   "metadata": {},
   "source": [
    "################ Some extra export for fig making, not useful for this classification ################"
   ]
  },
  {
   "cell_type": "code",
   "execution_count": 14,
   "metadata": {},
   "outputs": [],
   "source": []
  },
  {
   "cell_type": "code",
   "execution_count": 18,
   "metadata": {
    "scrolled": true
   },
   "outputs": [
    {
     "name": "stdout",
     "output_type": "stream",
     "text": [
      "Exporting Fourier_2008_2010 successful!\n",
      "Exporting Normalized_2008_2010 successful!\n",
      "Exporting False_color_2008_2010 successful!\n"
     ]
    }
   ],
   "source": [
    "# # get the observation rectagles\n",
    "# # clip = ee.FeatureCollection(\"users/wangjinzhulala/North_China_Plain_Python/Boundary_shp/Observation_Rectangle_Full\")\n",
    "\n",
    "# # loop through each year to get target imgs\n",
    "# for year,img in zip(year_name,Stack_img):\n",
    "    \n",
    "#     # get imgs\n",
    "#     Fourier = img.select(['NDBI_cos_1','EVI_sin_2','NDVI_sin_2']).clip(clip)\n",
    "#     Normalized = img.select(['Mean_NDVI','Mean_NDBI','Mean_EVI']).clip(clip)\n",
    "    \n",
    "#     # Landsat 8 has different flase color composite compare to 5/7\n",
    "#     if int(year[-4:]) <= 2013 :\n",
    "#         False_color = img.select(['B4','B3','B2']).clip(clip)\n",
    "#     else:\n",
    "#         False_color = img.select(['Landsat_B5','Landsat_B4','Landsat_B3']).clip(clip)\n",
    "        \n",
    "        \n",
    "#     # stack imgs together for export    \n",
    "#     imgs = [Fourier,Normalized,False_color] \n",
    "#     img_names = ['Fourier','Normalized','False_color'] \n",
    "    \n",
    "#     # export to CloudStorage\n",
    "#     for img,name in zip(imgs,img_names):\n",
    "        \n",
    "#         # construcnt img name for export\n",
    "#         img_name = f'{name}_{year}'\n",
    "        \n",
    "#         # export\n",
    "#         task = ee.batch.Export.image.toCloudStorage(image = img,\n",
    "#                                                     description=img_name,\n",
    "#                                                     bucket='north_china_plain',\n",
    "#                                                     fileNamePrefix=img_name,\n",
    "#                                                     region=clip,\n",
    "#                                                     scale=30,\n",
    "#                                                     maxPixels=int(1e13),\n",
    "#                                                     skipEmptyTiles=True) \n",
    "    \n",
    "#         task.start()\n",
    "        \n",
    "#         # print out the process.\n",
    "#         print(f'Exporting {img_name} successful!')\n",
    "    "
   ]
  },
  {
   "cell_type": "code",
   "execution_count": null,
   "metadata": {},
   "outputs": [],
   "source": []
  },
  {
   "cell_type": "code",
   "execution_count": null,
   "metadata": {},
   "outputs": [],
   "source": []
  },
  {
   "cell_type": "code",
   "execution_count": null,
   "metadata": {},
   "outputs": [],
   "source": []
  },
  {
   "cell_type": "markdown",
   "metadata": {},
   "source": [
    "##### Prepare input sample points"
   ]
  },
  {
   "cell_type": "code",
   "execution_count": null,
   "metadata": {},
   "outputs": [],
   "source": []
  },
  {
   "cell_type": "code",
   "execution_count": 13,
   "metadata": {},
   "outputs": [],
   "source": [
    "# Define the path to Sample_pt\n",
    "path = 'users/wangjinzhulala/North_China_Plain_Python/Sample_extract_img'\n",
    "\n",
    "# Get the training sample\n",
    "\n",
    "# Here we use a random colum to select 3/4 of the sample points for classification/assessment\n",
    "# and leave 1/4 that keep untouched for later accuracy comparision\n",
    "\n",
    "sample_landsat = [ee.FeatureCollection(f\"{path}/Control_sample_ext_img_{year}\")\\\n",
    "                     .randomColumn('split', 101)\\\n",
    "                     .filterMetadata('split','greater_than',0.25)\n",
    "                   for year in year_name[:-2]] \n",
    "\n",
    "sample_sentinel = [ee.FeatureCollection(f\"{path}/Sentinel_Landsat_reinspect_sample_ext_img_{year}\")\\\n",
    "                     .randomColumn('split', 101)\\\n",
    "                     .filterMetadata('split','greater_than',0.25)\n",
    "                   for year in year_name[-2:]] \n",
    "    \n",
    "    \n",
    "Training_sample = sample_landsat + sample_sentinel"
   ]
  },
  {
   "cell_type": "code",
   "execution_count": null,
   "metadata": {},
   "outputs": [],
   "source": []
  },
  {
   "cell_type": "markdown",
   "metadata": {},
   "source": [
    "##### Stack input_img and input_sample together"
   ]
  },
  {
   "cell_type": "code",
   "execution_count": 14,
   "metadata": {},
   "outputs": [],
   "source": [
    "# first put all inputs together\n",
    "stack_name   = ['Control'] * num_invarient\n",
    "\n",
    "stack_year   = year_name\n",
    "stack_img    = Stack_img \n",
    "stack_sample = Training_sample \n",
    "\n",
    "# stack all ingredients together\n",
    "Stack_img_sample = list(zip(stack_name,stack_year,stack_img,stack_sample))"
   ]
  },
  {
   "cell_type": "code",
   "execution_count": null,
   "metadata": {},
   "outputs": [],
   "source": []
  },
  {
   "cell_type": "markdown",
   "metadata": {},
   "source": [
    "#### Create the classification instances"
   ]
  },
  {
   "cell_type": "code",
   "execution_count": null,
   "metadata": {},
   "outputs": [],
   "source": []
  },
  {
   "cell_type": "code",
   "execution_count": 15,
   "metadata": {},
   "outputs": [],
   "source": [
    "# import the inbands-combination \n",
    "in_band_df = pd.read_csv('../Sub_Process_6_Before_classification_Feature_selection/Result/In_bands_combination.csv')\n",
    "\n",
    "# selections for in-band combination\n",
    "in_band_selection =['Spectrum',\n",
    "                    'Spectrum_Normalize',\n",
    "                    'Spectrum_Normalize_Fourier',\n",
    "                    'Spectrum_Normalize_Fourier_Terrain',\n",
    "                    'Spectrum_Normalize_Fourier_Terrain_Meterology']"
   ]
  },
  {
   "cell_type": "code",
   "execution_count": null,
   "metadata": {},
   "outputs": [],
   "source": []
  },
  {
   "cell_type": "code",
   "execution_count": 16,
   "metadata": {
    "scrolled": true
   },
   "outputs": [],
   "source": [
    "# A three-layer iteration to loopthrough [inbands/year/10-randome-split] individualy\n",
    "\n",
    "Classificatioin_result = []\n",
    "\n",
    "# The first-layer loop to go througth each inbands\n",
    "for input_bands in in_band_selection:\n",
    "\n",
    "    # The second-layer loop to go througth each year-periods\n",
    "    for i,input_variable in enumerate(Stack_img_sample):\n",
    "\n",
    "        # Fetch basic parameters\n",
    "        classificaiton_tpye = input_bands\n",
    "        year                = input_variable[1]\n",
    "        input_img           = input_variable[2]\n",
    "        sample_pt           = input_variable[3]\n",
    "\n",
    "        # here determine which bands are involved in the classification\n",
    "        # because the list is a string represented format, here use ast \n",
    "        # module to conver it back to a Python list\n",
    "        in_features         = ast.literal_eval(in_band_df.at[i,input_bands])\n",
    "        \n",
    "\n",
    "        # The third-layer to go through each-randomnes\n",
    "        for seed in range(10):\n",
    "\n",
    "            #_______________________________Deploy the random-forest classification______________________\n",
    "            # Instatiate the class with a name.\n",
    "            classification = Classification(year_name      = year,\n",
    "                                            Verified_point = sample_pt,\n",
    "                                            Input_img      = input_img,\n",
    "                                            Input_band     = in_features,\n",
    "                                            Tree_num       = 50,\n",
    "                                            seed           = seed,\n",
    "                                            classProperty  = 'Built')\n",
    "\n",
    "\n",
    "            # Get the classified img\n",
    "            classified_img = classification.classification_img\n",
    "\n",
    "\n",
    "            # Get the classified samples\n",
    "            train_sample_classified = classification.Train_sample_classification\n",
    "            test_sample_classified  = classification.Test_sample_classification\n",
    "\n",
    "            #__________________________________Add all classification result into a list____________________________\n",
    "            Classificatioin_result.append((classificaiton_tpye,year,seed,classified_img,test_sample_classified))"
   ]
  },
  {
   "cell_type": "code",
   "execution_count": null,
   "metadata": {},
   "outputs": [],
   "source": []
  },
  {
   "cell_type": "code",
   "execution_count": 17,
   "metadata": {
    "scrolled": true
   },
   "outputs": [
    {
     "data": {
      "text/html": [
       "<div>\n",
       "<style scoped>\n",
       "    .dataframe tbody tr th:only-of-type {\n",
       "        vertical-align: middle;\n",
       "    }\n",
       "\n",
       "    .dataframe tbody tr th {\n",
       "        vertical-align: top;\n",
       "    }\n",
       "\n",
       "    .dataframe thead th {\n",
       "        text-align: right;\n",
       "    }\n",
       "</style>\n",
       "<table border=\"1\" class=\"dataframe\">\n",
       "  <thead>\n",
       "    <tr style=\"text-align: right;\">\n",
       "      <th></th>\n",
       "      <th>classificaiton_tpye</th>\n",
       "      <th>year</th>\n",
       "      <th>seed</th>\n",
       "      <th>classified_img</th>\n",
       "      <th>test_sample_classified</th>\n",
       "    </tr>\n",
       "  </thead>\n",
       "  <tbody>\n",
       "    <tr>\n",
       "      <th>0</th>\n",
       "      <td>Spectrum</td>\n",
       "      <td>1990_1992</td>\n",
       "      <td>0</td>\n",
       "      <td>ee.Image({\\n  \"type\": \"Invocation\",\\n  \"argume...</td>\n",
       "      <td>ee.FeatureCollection({\\n  \"type\": \"Invocation\"...</td>\n",
       "    </tr>\n",
       "    <tr>\n",
       "      <th>1</th>\n",
       "      <td>Spectrum</td>\n",
       "      <td>1990_1992</td>\n",
       "      <td>1</td>\n",
       "      <td>ee.Image({\\n  \"type\": \"Invocation\",\\n  \"argume...</td>\n",
       "      <td>ee.FeatureCollection({\\n  \"type\": \"Invocation\"...</td>\n",
       "    </tr>\n",
       "    <tr>\n",
       "      <th>2</th>\n",
       "      <td>Spectrum</td>\n",
       "      <td>1990_1992</td>\n",
       "      <td>2</td>\n",
       "      <td>ee.Image({\\n  \"type\": \"Invocation\",\\n  \"argume...</td>\n",
       "      <td>ee.FeatureCollection({\\n  \"type\": \"Invocation\"...</td>\n",
       "    </tr>\n",
       "    <tr>\n",
       "      <th>3</th>\n",
       "      <td>Spectrum</td>\n",
       "      <td>1990_1992</td>\n",
       "      <td>3</td>\n",
       "      <td>ee.Image({\\n  \"type\": \"Invocation\",\\n  \"argume...</td>\n",
       "      <td>ee.FeatureCollection({\\n  \"type\": \"Invocation\"...</td>\n",
       "    </tr>\n",
       "    <tr>\n",
       "      <th>4</th>\n",
       "      <td>Spectrum</td>\n",
       "      <td>1990_1992</td>\n",
       "      <td>4</td>\n",
       "      <td>ee.Image({\\n  \"type\": \"Invocation\",\\n  \"argume...</td>\n",
       "      <td>ee.FeatureCollection({\\n  \"type\": \"Invocation\"...</td>\n",
       "    </tr>\n",
       "    <tr>\n",
       "      <th>...</th>\n",
       "      <td>...</td>\n",
       "      <td>...</td>\n",
       "      <td>...</td>\n",
       "      <td>...</td>\n",
       "      <td>...</td>\n",
       "    </tr>\n",
       "    <tr>\n",
       "      <th>495</th>\n",
       "      <td>Spectrum_Normalize_Fourier_Terrain_Meterology</td>\n",
       "      <td>2017_2019</td>\n",
       "      <td>5</td>\n",
       "      <td>ee.Image({\\n  \"type\": \"Invocation\",\\n  \"argume...</td>\n",
       "      <td>ee.FeatureCollection({\\n  \"type\": \"Invocation\"...</td>\n",
       "    </tr>\n",
       "    <tr>\n",
       "      <th>496</th>\n",
       "      <td>Spectrum_Normalize_Fourier_Terrain_Meterology</td>\n",
       "      <td>2017_2019</td>\n",
       "      <td>6</td>\n",
       "      <td>ee.Image({\\n  \"type\": \"Invocation\",\\n  \"argume...</td>\n",
       "      <td>ee.FeatureCollection({\\n  \"type\": \"Invocation\"...</td>\n",
       "    </tr>\n",
       "    <tr>\n",
       "      <th>497</th>\n",
       "      <td>Spectrum_Normalize_Fourier_Terrain_Meterology</td>\n",
       "      <td>2017_2019</td>\n",
       "      <td>7</td>\n",
       "      <td>ee.Image({\\n  \"type\": \"Invocation\",\\n  \"argume...</td>\n",
       "      <td>ee.FeatureCollection({\\n  \"type\": \"Invocation\"...</td>\n",
       "    </tr>\n",
       "    <tr>\n",
       "      <th>498</th>\n",
       "      <td>Spectrum_Normalize_Fourier_Terrain_Meterology</td>\n",
       "      <td>2017_2019</td>\n",
       "      <td>8</td>\n",
       "      <td>ee.Image({\\n  \"type\": \"Invocation\",\\n  \"argume...</td>\n",
       "      <td>ee.FeatureCollection({\\n  \"type\": \"Invocation\"...</td>\n",
       "    </tr>\n",
       "    <tr>\n",
       "      <th>499</th>\n",
       "      <td>Spectrum_Normalize_Fourier_Terrain_Meterology</td>\n",
       "      <td>2017_2019</td>\n",
       "      <td>9</td>\n",
       "      <td>ee.Image({\\n  \"type\": \"Invocation\",\\n  \"argume...</td>\n",
       "      <td>ee.FeatureCollection({\\n  \"type\": \"Invocation\"...</td>\n",
       "    </tr>\n",
       "  </tbody>\n",
       "</table>\n",
       "<p>500 rows × 5 columns</p>\n",
       "</div>"
      ],
      "text/plain": [
       "                               classificaiton_tpye       year  seed  \\\n",
       "0                                         Spectrum  1990_1992     0   \n",
       "1                                         Spectrum  1990_1992     1   \n",
       "2                                         Spectrum  1990_1992     2   \n",
       "3                                         Spectrum  1990_1992     3   \n",
       "4                                         Spectrum  1990_1992     4   \n",
       "..                                             ...        ...   ...   \n",
       "495  Spectrum_Normalize_Fourier_Terrain_Meterology  2017_2019     5   \n",
       "496  Spectrum_Normalize_Fourier_Terrain_Meterology  2017_2019     6   \n",
       "497  Spectrum_Normalize_Fourier_Terrain_Meterology  2017_2019     7   \n",
       "498  Spectrum_Normalize_Fourier_Terrain_Meterology  2017_2019     8   \n",
       "499  Spectrum_Normalize_Fourier_Terrain_Meterology  2017_2019     9   \n",
       "\n",
       "                                        classified_img  \\\n",
       "0    ee.Image({\\n  \"type\": \"Invocation\",\\n  \"argume...   \n",
       "1    ee.Image({\\n  \"type\": \"Invocation\",\\n  \"argume...   \n",
       "2    ee.Image({\\n  \"type\": \"Invocation\",\\n  \"argume...   \n",
       "3    ee.Image({\\n  \"type\": \"Invocation\",\\n  \"argume...   \n",
       "4    ee.Image({\\n  \"type\": \"Invocation\",\\n  \"argume...   \n",
       "..                                                 ...   \n",
       "495  ee.Image({\\n  \"type\": \"Invocation\",\\n  \"argume...   \n",
       "496  ee.Image({\\n  \"type\": \"Invocation\",\\n  \"argume...   \n",
       "497  ee.Image({\\n  \"type\": \"Invocation\",\\n  \"argume...   \n",
       "498  ee.Image({\\n  \"type\": \"Invocation\",\\n  \"argume...   \n",
       "499  ee.Image({\\n  \"type\": \"Invocation\",\\n  \"argume...   \n",
       "\n",
       "                                test_sample_classified  \n",
       "0    ee.FeatureCollection({\\n  \"type\": \"Invocation\"...  \n",
       "1    ee.FeatureCollection({\\n  \"type\": \"Invocation\"...  \n",
       "2    ee.FeatureCollection({\\n  \"type\": \"Invocation\"...  \n",
       "3    ee.FeatureCollection({\\n  \"type\": \"Invocation\"...  \n",
       "4    ee.FeatureCollection({\\n  \"type\": \"Invocation\"...  \n",
       "..                                                 ...  \n",
       "495  ee.FeatureCollection({\\n  \"type\": \"Invocation\"...  \n",
       "496  ee.FeatureCollection({\\n  \"type\": \"Invocation\"...  \n",
       "497  ee.FeatureCollection({\\n  \"type\": \"Invocation\"...  \n",
       "498  ee.FeatureCollection({\\n  \"type\": \"Invocation\"...  \n",
       "499  ee.FeatureCollection({\\n  \"type\": \"Invocation\"...  \n",
       "\n",
       "[500 rows x 5 columns]"
      ]
     },
     "execution_count": 17,
     "metadata": {},
     "output_type": "execute_result"
    }
   ],
   "source": [
    "# convert classificaiton instances into a dataframe\n",
    "Classification_instances_df =  pd.DataFrame(Classificatioin_result,\n",
    "                                            columns=['classificaiton_tpye','year','seed','classified_img',\n",
    "                                                     'test_sample_classified'])\n",
    "Classification_instances_df"
   ]
  },
  {
   "cell_type": "code",
   "execution_count": null,
   "metadata": {},
   "outputs": [],
   "source": []
  },
  {
   "cell_type": "markdown",
   "metadata": {},
   "source": [
    "#### Add one of the classified img to map"
   ]
  },
  {
   "cell_type": "code",
   "execution_count": null,
   "metadata": {},
   "outputs": [],
   "source": []
  },
  {
   "cell_type": "code",
   "execution_count": 18,
   "metadata": {},
   "outputs": [],
   "source": [
    "# define parameters of classification for show in map\n",
    "bands_in_type = 'Spectrum_Normalize_Fourier_Terrain_Meterology'\n",
    "year_in       = '2017_2019'\n",
    "\n",
    "\n",
    "# get the classification img\n",
    "one = Classification_instances_df[(Classification_instances_df['classificaiton_tpye'] == bands_in_type) &\n",
    "                                  (Classification_instances_df['year'] == year_in) &\n",
    "                                  (Classification_instances_df['seed'] == 5)]['classified_img'].values[0]"
   ]
  },
  {
   "cell_type": "code",
   "execution_count": null,
   "metadata": {},
   "outputs": [],
   "source": []
  },
  {
   "cell_type": "code",
   "execution_count": 19,
   "metadata": {
    "scrolled": false
   },
   "outputs": [
    {
     "data": {
      "application/vnd.jupyter.widget-view+json": {
       "model_id": "ae842661fe624c19ab09434e5fb8a827",
       "version_major": 2,
       "version_minor": 0
      },
      "text/plain": [
       "Map(center=[34.6033, 112.8844], controls=(WidgetControl(options=['position'], widget=HBox(children=(ToggleButt…"
      ]
     },
     "metadata": {},
     "output_type": "display_data"
    }
   ],
   "source": [
    "# add the selected classification in map\n",
    "Map = geemap.Map()\n",
    "Map.add_basemap('HYBRID')\n",
    "Map.setCenter(112.8844, 34.6033,10)\n",
    "Map.addLayer(one,{'min':0,'max':1},'One')\n",
    "Map"
   ]
  },
  {
   "cell_type": "code",
   "execution_count": null,
   "metadata": {},
   "outputs": [],
   "source": []
  },
  {
   "cell_type": "markdown",
   "metadata": {},
   "source": [
    "##### Export the classified_img"
   ]
  },
  {
   "cell_type": "code",
   "execution_count": null,
   "metadata": {},
   "outputs": [],
   "source": []
  },
  {
   "cell_type": "code",
   "execution_count": null,
   "metadata": {},
   "outputs": [],
   "source": []
  },
  {
   "cell_type": "code",
   "execution_count": 23,
   "metadata": {
    "scrolled": true
   },
   "outputs": [
    {
     "name": "stdout",
     "output_type": "stream",
     "text": [
      "Exporting Spectrum_2014_2016_0 successful!\n",
      "Exporting Spectrum_2014_2016_1 successful!\n",
      "Exporting Spectrum_2014_2016_2 successful!\n",
      "Exporting Spectrum_2014_2016_3 successful!\n",
      "Exporting Spectrum_2014_2016_4 successful!\n",
      "Exporting Spectrum_2014_2016_5 successful!\n",
      "Exporting Spectrum_2014_2016_6 successful!\n",
      "Exporting Spectrum_2014_2016_7 successful!\n",
      "Exporting Spectrum_2014_2016_8 successful!\n",
      "Exporting Spectrum_2014_2016_9 successful!\n",
      "Exporting Spectrum_2017_2019_0 successful!\n",
      "Exporting Spectrum_2017_2019_1 successful!\n",
      "Exporting Spectrum_2017_2019_2 successful!\n",
      "Exporting Spectrum_2017_2019_3 successful!\n",
      "Exporting Spectrum_2017_2019_4 successful!\n",
      "Exporting Spectrum_2017_2019_5 successful!\n",
      "Exporting Spectrum_2017_2019_6 successful!\n",
      "Exporting Spectrum_2017_2019_7 successful!\n",
      "Exporting Spectrum_2017_2019_8 successful!\n",
      "Exporting Spectrum_2017_2019_9 successful!\n",
      "Exporting Spectrum_Normalize_2014_2016_0 successful!\n",
      "Exporting Spectrum_Normalize_2014_2016_1 successful!\n",
      "Exporting Spectrum_Normalize_2014_2016_2 successful!\n",
      "Exporting Spectrum_Normalize_2014_2016_3 successful!\n",
      "Exporting Spectrum_Normalize_2014_2016_4 successful!\n",
      "Exporting Spectrum_Normalize_2014_2016_5 successful!\n",
      "Exporting Spectrum_Normalize_2014_2016_6 successful!\n",
      "Exporting Spectrum_Normalize_2014_2016_7 successful!\n",
      "Exporting Spectrum_Normalize_2014_2016_8 successful!\n",
      "Exporting Spectrum_Normalize_2014_2016_9 successful!\n",
      "Exporting Spectrum_Normalize_2017_2019_0 successful!\n",
      "Exporting Spectrum_Normalize_2017_2019_1 successful!\n",
      "Exporting Spectrum_Normalize_2017_2019_2 successful!\n",
      "Exporting Spectrum_Normalize_2017_2019_3 successful!\n",
      "Exporting Spectrum_Normalize_2017_2019_4 successful!\n",
      "Exporting Spectrum_Normalize_2017_2019_5 successful!\n",
      "Exporting Spectrum_Normalize_2017_2019_6 successful!\n",
      "Exporting Spectrum_Normalize_2017_2019_7 successful!\n",
      "Exporting Spectrum_Normalize_2017_2019_8 successful!\n",
      "Exporting Spectrum_Normalize_2017_2019_9 successful!\n",
      "Exporting Spectrum_Normalize_Fourier_2014_2016_0 successful!\n",
      "Exporting Spectrum_Normalize_Fourier_2014_2016_1 successful!\n",
      "Exporting Spectrum_Normalize_Fourier_2014_2016_2 successful!\n",
      "Exporting Spectrum_Normalize_Fourier_2014_2016_3 successful!\n",
      "Exporting Spectrum_Normalize_Fourier_2014_2016_4 successful!\n",
      "Exporting Spectrum_Normalize_Fourier_2014_2016_5 successful!\n",
      "Exporting Spectrum_Normalize_Fourier_2014_2016_6 successful!\n",
      "Exporting Spectrum_Normalize_Fourier_2014_2016_7 successful!\n",
      "Exporting Spectrum_Normalize_Fourier_2014_2016_8 successful!\n",
      "Exporting Spectrum_Normalize_Fourier_2014_2016_9 successful!\n",
      "Exporting Spectrum_Normalize_Fourier_2017_2019_0 successful!\n",
      "Exporting Spectrum_Normalize_Fourier_2017_2019_1 successful!\n",
      "Exporting Spectrum_Normalize_Fourier_2017_2019_2 successful!\n",
      "Exporting Spectrum_Normalize_Fourier_2017_2019_3 successful!\n",
      "Exporting Spectrum_Normalize_Fourier_2017_2019_4 successful!\n",
      "Exporting Spectrum_Normalize_Fourier_2017_2019_5 successful!\n",
      "Exporting Spectrum_Normalize_Fourier_2017_2019_6 successful!\n",
      "Exporting Spectrum_Normalize_Fourier_2017_2019_7 successful!\n",
      "Exporting Spectrum_Normalize_Fourier_2017_2019_8 successful!\n",
      "Exporting Spectrum_Normalize_Fourier_2017_2019_9 successful!\n",
      "Exporting Spectrum_Normalize_Fourier_Terrain_2014_2016_0 successful!\n",
      "Exporting Spectrum_Normalize_Fourier_Terrain_2014_2016_1 successful!\n",
      "Exporting Spectrum_Normalize_Fourier_Terrain_2014_2016_2 successful!\n",
      "Exporting Spectrum_Normalize_Fourier_Terrain_2014_2016_3 successful!\n",
      "Exporting Spectrum_Normalize_Fourier_Terrain_2014_2016_4 successful!\n",
      "Exporting Spectrum_Normalize_Fourier_Terrain_2014_2016_5 successful!\n",
      "Exporting Spectrum_Normalize_Fourier_Terrain_2014_2016_6 successful!\n",
      "Exporting Spectrum_Normalize_Fourier_Terrain_2014_2016_7 successful!\n",
      "Exporting Spectrum_Normalize_Fourier_Terrain_2014_2016_8 successful!\n",
      "Exporting Spectrum_Normalize_Fourier_Terrain_2014_2016_9 successful!\n",
      "Exporting Spectrum_Normalize_Fourier_Terrain_2017_2019_0 successful!\n",
      "Exporting Spectrum_Normalize_Fourier_Terrain_2017_2019_1 successful!\n",
      "Exporting Spectrum_Normalize_Fourier_Terrain_2017_2019_2 successful!\n",
      "Exporting Spectrum_Normalize_Fourier_Terrain_2017_2019_3 successful!\n",
      "Exporting Spectrum_Normalize_Fourier_Terrain_2017_2019_4 successful!\n",
      "Exporting Spectrum_Normalize_Fourier_Terrain_2017_2019_5 successful!\n",
      "Exporting Spectrum_Normalize_Fourier_Terrain_2017_2019_6 successful!\n",
      "Exporting Spectrum_Normalize_Fourier_Terrain_2017_2019_7 successful!\n",
      "Exporting Spectrum_Normalize_Fourier_Terrain_2017_2019_8 successful!\n",
      "Exporting Spectrum_Normalize_Fourier_Terrain_2017_2019_9 successful!\n",
      "Exporting Spectrum_Normalize_Fourier_Terrain_Meterology_2014_2016_0 successful!\n",
      "Exporting Spectrum_Normalize_Fourier_Terrain_Meterology_2014_2016_1 successful!\n",
      "Exporting Spectrum_Normalize_Fourier_Terrain_Meterology_2014_2016_2 successful!\n",
      "Exporting Spectrum_Normalize_Fourier_Terrain_Meterology_2014_2016_3 successful!\n",
      "Exporting Spectrum_Normalize_Fourier_Terrain_Meterology_2014_2016_4 successful!\n",
      "Exporting Spectrum_Normalize_Fourier_Terrain_Meterology_2014_2016_5 successful!\n",
      "Exporting Spectrum_Normalize_Fourier_Terrain_Meterology_2014_2016_6 successful!\n",
      "Exporting Spectrum_Normalize_Fourier_Terrain_Meterology_2014_2016_7 successful!\n",
      "Exporting Spectrum_Normalize_Fourier_Terrain_Meterology_2014_2016_8 successful!\n",
      "Exporting Spectrum_Normalize_Fourier_Terrain_Meterology_2014_2016_9 successful!\n",
      "Exporting Spectrum_Normalize_Fourier_Terrain_Meterology_2017_2019_0 successful!\n",
      "Exporting Spectrum_Normalize_Fourier_Terrain_Meterology_2017_2019_1 successful!\n",
      "Exporting Spectrum_Normalize_Fourier_Terrain_Meterology_2017_2019_2 successful!\n",
      "Exporting Spectrum_Normalize_Fourier_Terrain_Meterology_2017_2019_3 successful!\n",
      "Exporting Spectrum_Normalize_Fourier_Terrain_Meterology_2017_2019_4 successful!\n",
      "Exporting Spectrum_Normalize_Fourier_Terrain_Meterology_2017_2019_5 successful!\n",
      "Exporting Spectrum_Normalize_Fourier_Terrain_Meterology_2017_2019_6 successful!\n",
      "Exporting Spectrum_Normalize_Fourier_Terrain_Meterology_2017_2019_7 successful!\n",
      "Exporting Spectrum_Normalize_Fourier_Terrain_Meterology_2017_2019_8 successful!\n",
      "Exporting Spectrum_Normalize_Fourier_Terrain_Meterology_2017_2019_9 successful!\n"
     ]
    }
   ],
   "source": [
    "for idx,item in Classification_instances_df.iterrows():\n",
    "     \n",
    "    Classification_type = item[0]\n",
    "    year = item[1]\n",
    "    seed = item[2]\n",
    "    img  = item[3]\n",
    "    \n",
    "    \n",
    "    export_name = f'{Classification_type}_{year}_{seed}'\n",
    "    \n",
    "    #export to GEE asset\n",
    "    asset_path = f'users/wangjinzhulala/North_China_Plain_Python/classification_img/{Classification_type}_{year}'\n",
    "    \n",
    "    task = ee.batch.Export.image.toAsset(   image          = img,\n",
    "                                            description    = export_name,\n",
    "                                            assetId        = f'{asset_path}/{export_name}',\n",
    "                                            region         = North_China_Plain.geometry().bounds(),\n",
    "                                            scale          = 30,\n",
    "                                            maxPixels      = int(1e13)) \n",
    "    \n",
    "    task.start()\n",
    "    \n",
    "    print(f'Exporting {export_name} successful!')"
   ]
  },
  {
   "cell_type": "code",
   "execution_count": null,
   "metadata": {},
   "outputs": [],
   "source": []
  },
  {
   "cell_type": "code",
   "execution_count": null,
   "metadata": {},
   "outputs": [],
   "source": []
  },
  {
   "cell_type": "code",
   "execution_count": null,
   "metadata": {},
   "outputs": [],
   "source": []
  },
  {
   "cell_type": "code",
   "execution_count": null,
   "metadata": {},
   "outputs": [],
   "source": []
  },
  {
   "cell_type": "code",
   "execution_count": null,
   "metadata": {},
   "outputs": [],
   "source": []
  },
  {
   "cell_type": "code",
   "execution_count": null,
   "metadata": {},
   "outputs": [],
   "source": []
  },
  {
   "cell_type": "code",
   "execution_count": null,
   "metadata": {},
   "outputs": [],
   "source": []
  },
  {
   "cell_type": "code",
   "execution_count": null,
   "metadata": {},
   "outputs": [],
   "source": []
  },
  {
   "cell_type": "code",
   "execution_count": null,
   "metadata": {},
   "outputs": [],
   "source": []
  },
  {
   "cell_type": "code",
   "execution_count": null,
   "metadata": {},
   "outputs": [],
   "source": []
  },
  {
   "cell_type": "code",
   "execution_count": null,
   "metadata": {},
   "outputs": [],
   "source": []
  }
 ],
 "metadata": {
  "kernelspec": {
   "display_name": "Python 3",
   "language": "python",
   "name": "python3"
  },
  "language_info": {
   "codemirror_mode": {
    "name": "ipython",
    "version": 3
   },
   "file_extension": ".py",
   "mimetype": "text/x-python",
   "name": "python",
   "nbconvert_exporter": "python",
   "pygments_lexer": "ipython3",
   "version": "3.7.3"
  }
 },
 "nbformat": 4,
 "nbformat_minor": 2
}
