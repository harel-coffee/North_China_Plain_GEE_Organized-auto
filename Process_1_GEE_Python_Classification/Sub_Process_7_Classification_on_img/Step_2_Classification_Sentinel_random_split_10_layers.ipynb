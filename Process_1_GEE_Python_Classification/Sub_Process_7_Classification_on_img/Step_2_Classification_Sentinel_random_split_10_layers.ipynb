{
 "cells": [
  {
   "cell_type": "code",
   "execution_count": 1,
   "metadata": {},
   "outputs": [],
   "source": [
    "import ee\n",
    "import datetime\n",
    "import os\n",
    "import itertools\n",
    "import sys\n",
    "import re\n",
    "\n",
    "import pandas as pd\n",
    "import numpy as np\n",
    "import seaborn as sns\n",
    "import matplotlib.pyplot as plt\n",
    "\n",
    "import geemap\n",
    "\n",
    "import subprocess\n",
    "from subprocess import PIPE\n",
    "import ast"
   ]
  },
  {
   "cell_type": "code",
   "execution_count": 2,
   "metadata": {},
   "outputs": [],
   "source": [
    "ee.Initialize()"
   ]
  },
  {
   "cell_type": "code",
   "execution_count": 3,
   "metadata": {},
   "outputs": [],
   "source": [
    "# append upper folder into sys-path during run time so we can\n",
    "# import our own moduls\n",
    "sys.path.append('..')"
   ]
  },
  {
   "cell_type": "code",
   "execution_count": 4,
   "metadata": {},
   "outputs": [],
   "source": [
    "from BackGround_modules.Class_2_Classify_Fourier_Img   import Classification\n",
    "from BackGround_modules.Class_3_Calculate_the_accuracy import Accuracy_assesment"
   ]
  },
  {
   "cell_type": "code",
   "execution_count": null,
   "metadata": {},
   "outputs": [],
   "source": []
  },
  {
   "cell_type": "markdown",
   "metadata": {},
   "source": [
    "##### Prepare basic parameters"
   ]
  },
  {
   "cell_type": "code",
   "execution_count": 5,
   "metadata": {},
   "outputs": [],
   "source": [
    "# define the years to be classified\n",
    "year_name  = ['2014_2016','2017_2019']\n",
    "\n",
    "# import north_china_plain boundary\n",
    "North_China_Plain = ee.FeatureCollection(\"users/wangjinzhulala/North_China_Plain_Python/Boundary_shp/North_China_Plain_Boundary\")"
   ]
  },
  {
   "cell_type": "code",
   "execution_count": 6,
   "metadata": {},
   "outputs": [
    {
     "data": {
      "text/plain": [
       "['2014_2016', '2017_2019']"
      ]
     },
     "execution_count": 6,
     "metadata": {},
     "output_type": "execute_result"
    }
   ],
   "source": [
    "year_name"
   ]
  },
  {
   "cell_type": "code",
   "execution_count": null,
   "metadata": {},
   "outputs": [],
   "source": []
  },
  {
   "cell_type": "markdown",
   "metadata": {},
   "source": [
    "##### Prepare input_image for classification"
   ]
  },
  {
   "cell_type": "markdown",
   "metadata": {},
   "source": [
    "1) Climate date"
   ]
  },
  {
   "cell_type": "code",
   "execution_count": 7,
   "metadata": {},
   "outputs": [],
   "source": [
    "# prepare the climate data\n",
    "Climate_mean = [ee.Image(f\"users/wangjinzhulala/North_China_Plain_Python/Climate_data/Mean_{year}\")\n",
    "               .clip(North_China_Plain)  for year in year_name]"
   ]
  },
  {
   "cell_type": "code",
   "execution_count": null,
   "metadata": {},
   "outputs": [],
   "source": []
  },
  {
   "cell_type": "markdown",
   "metadata": {},
   "source": [
    "2) Sentinel date"
   ]
  },
  {
   "cell_type": "code",
   "execution_count": 8,
   "metadata": {},
   "outputs": [],
   "source": [
    "# Function to mask clouds using the Sentinel-2 QA band.\n",
    "def maskS2clouds(image):\n",
    "    qa = image.select('QA60')\n",
    "\n",
    "    # Bits 10 and 11 are clouds and cirrus, respectively.\n",
    "    cloudBitMask  = 1 << 10;\n",
    "    cirrusBitMask = 1 << 11;\n",
    "\n",
    "    # Both flags should be set to zero, indicating clear conditions.\n",
    "    mask = qa.bitwiseAnd(cloudBitMask).eq(0).And(qa.bitwiseAnd(cirrusBitMask).eq(0))\n",
    "\n",
    "    # Return the masked and scaled data, without the QA bands.\n",
    "    return image.updateMask(mask)\\\n",
    "                 .select(\"B.*\")\\\n",
    "                 .copyProperties(image, [\"system:time_start\"])\n",
    "\n",
    "\n",
    "\n",
    "# here composite Sentinel-2 multispectrum image of year [2015-2017] for classification of [2014-2016]\n",
    "#            and Sentinel-2 multispectrum image of year [2018-2019] for classification of [2017-2019]\n",
    "# because composition of S2 image at year [2014-2016] are not fully cloud-free\n",
    "Sentinel_year_range = [(\"2018-01-01\",\"2019-12-31\"),(\"2015-01-01\",\"2017-12-31\")]\n",
    "\n",
    "Sentinel_img =  [ee.ImageCollection(\"COPERNICUS/S2\")\\\n",
    "                      .filterBounds(North_China_Plain)\\\n",
    "                      .filterDate(*S_t)\\\n",
    "                      .filter(ee.Filter.lt('CLOUDY_PIXEL_PERCENTAGE', 5))\\\n",
    "                      .map(lambda x: maskS2clouds(x))\\\n",
    "                      .median() for S_t in Sentinel_year_range] \n",
    "\n",
    "# add 'Sentinel' to each band name of Sentinel img\n",
    "Sentinel_img = [img.rename([f'Sentinel_{band}' for band in  img.bandNames().getInfo()]) for img in Sentinel_img]"
   ]
  },
  {
   "cell_type": "code",
   "execution_count": null,
   "metadata": {},
   "outputs": [],
   "source": []
  },
  {
   "cell_type": "markdown",
   "metadata": {},
   "source": [
    "3) Landsat date"
   ]
  },
  {
   "cell_type": "code",
   "execution_count": 9,
   "metadata": {},
   "outputs": [],
   "source": [
    "# import Landsat img\n",
    "Landsat_img = [ee.Image(f\"users/wang8052664/Cloud_Free_Img/Landsat_cloud_free_{t}\") for t in year_name]\n",
    "\n",
    "# here add a 'Landsat' before the name of each landsat band so to avoid duplicated names to Sentinel bands\n",
    "Landsat_img = [img.rename([f'Landsat_{band}' for band in  img.bandNames().getInfo()]) for img in Landsat_img]"
   ]
  },
  {
   "cell_type": "code",
   "execution_count": null,
   "metadata": {},
   "outputs": [],
   "source": []
  },
  {
   "cell_type": "markdown",
   "metadata": {},
   "source": [
    "4) Fourier and Normalized-indexs date"
   ]
  },
  {
   "cell_type": "code",
   "execution_count": 10,
   "metadata": {},
   "outputs": [],
   "source": [
    "# import Fourier img  \n",
    "Fourier_img = [ee.Image(f\"users/Jinzhu_Deakin/North_China_Plain/Fourier_img_harmonic_3/Fourier_img_{year}_harmonic_3\")\\\n",
    "                 .clip(North_China_Plain)  for year in year_name[5:]] + \\\n",
    "              [ee.Image(f\"users/wang8052664/North_China_Plain/Fourier_imgs/Fourier_img_{year}_harmonic_3\")\\\n",
    "                 .clip(North_China_Plain)  for year in year_name[:5]] \n",
    "\n",
    "#Import the Index-mean Img\n",
    "NDVI_img = [ee.Image(f\"users/wensomone666/Jinzhu/Mean_NDVI/Year_{t}_Mean_NDVI\").rename('Mean_NDVI') for t in year_name]\n",
    "NDBI_img = [ee.Image(f\"users/wensomone666/Jinzhu/Mean_NDVI/Year_{t}_Mean_NDBI\").rename('Mean_NDBI') for t in year_name]\n",
    "EVI_img  = [ee.Image(f\"users/wensomone666/Jinzhu/Mean_NDVI/Year_{t}_Mean_EVI\").rename('Mean_EVI')   for t in year_name]"
   ]
  },
  {
   "cell_type": "code",
   "execution_count": null,
   "metadata": {},
   "outputs": [],
   "source": []
  },
  {
   "cell_type": "markdown",
   "metadata": {},
   "source": [
    "5) DEM/Slope date"
   ]
  },
  {
   "cell_type": "code",
   "execution_count": 11,
   "metadata": {},
   "outputs": [],
   "source": [
    "# Import DEM/SLOPE Img\n",
    "DEM   = [ee.Image(\"USGS/SRTMGL1_003\").rename('DEM')] * len(year_name)\n",
    "SLOPE = [ee.Terrain.slope(DEM).rename('SLOPE')] * len(year_name)"
   ]
  },
  {
   "cell_type": "code",
   "execution_count": null,
   "metadata": {},
   "outputs": [],
   "source": []
  },
  {
   "cell_type": "code",
   "execution_count": 12,
   "metadata": {},
   "outputs": [],
   "source": [
    "# stack all Imput_Img together\n",
    "Stack_img_with_Sentinel = [ee.Image(img) \n",
    "                    for img in zip(Landsat_img,Sentinel_img,Fourier_img,NDVI_img,NDBI_img,EVI_img,Climate_mean,DEM,SLOPE)]"
   ]
  },
  {
   "cell_type": "code",
   "execution_count": null,
   "metadata": {},
   "outputs": [],
   "source": []
  },
  {
   "cell_type": "markdown",
   "metadata": {},
   "source": [
    "##### Prepare input sample points"
   ]
  },
  {
   "cell_type": "markdown",
   "metadata": {},
   "source": [
    "1) Extract image value to control plints"
   ]
  },
  {
   "cell_type": "code",
   "execution_count": 13,
   "metadata": {},
   "outputs": [],
   "source": [
    "# Get the training sample\n",
    "Control_points = ee.FeatureCollection('users/wangjinzhulala/North_China_Plain_Python/Sample_Points/Sentinel_2017_2019')"
   ]
  },
  {
   "cell_type": "code",
   "execution_count": null,
   "metadata": {},
   "outputs": [],
   "source": []
  },
  {
   "cell_type": "code",
   "execution_count": 14,
   "metadata": {},
   "outputs": [
    {
     "name": "stdout",
     "output_type": "stream",
     "text": [
      "Re_inspect_sample_Landsat_ext_img_2014_2016\n",
      "Re_inspect_sample_Landsat_ext_img_2017_2019\n"
     ]
    }
   ],
   "source": [
    "for t,img in zip(year_name,Stack_img_with_Sentinel):\n",
    "\n",
    "    # define the gee-asset path for exporting\n",
    "    path   = 'users/Jinzhu_Deakin/North_China_Plain/Sample_with_Landsat_Fourier_Normalized_Climate'\n",
    "    name   = 'Re_inspect_sample_Landsat_ext_img'\n",
    "    sample = Control_points\n",
    "\n",
    "    Ext_sample = img.sampleRegions( collection = sample, \n",
    "                                    properties = ['Built'], \n",
    "                                    # here need to change scale to 10. If set as 30, the GEE will have to \n",
    "                                    # resample Sentinel img, which will leed to a 'Memory exceed problem' \n",
    "                                    scale      = 10, \n",
    "                                    geometries = True,\n",
    "                                    tileScale  = 2)\n",
    "\n",
    "#     # exporting\n",
    "#     task = ee.batch.Export.table.toAsset(   collection  = Ext_sample,\n",
    "#                                             description = f'{name}_{t}',\n",
    "#                                             assetId     = f'{path}/{name}_{t}')\n",
    "#     task.start()\n",
    "\n",
    "\n",
    "    # print out the process\n",
    "    print(f'{name}_{t}')"
   ]
  },
  {
   "cell_type": "code",
   "execution_count": null,
   "metadata": {},
   "outputs": [],
   "source": []
  },
  {
   "cell_type": "markdown",
   "metadata": {},
   "source": [
    "2) fetch the control points with extracted img values"
   ]
  },
  {
   "cell_type": "code",
   "execution_count": null,
   "metadata": {},
   "outputs": [],
   "source": []
  },
  {
   "cell_type": "code",
   "execution_count": 15,
   "metadata": {},
   "outputs": [],
   "source": [
    "# Get the training sample with Sentinel values\n",
    "path_sent = 'users/wangjinzhulala/North_China_Plain_Python/Sample_extract_img'\n",
    "\n",
    "# Here we use a random colum to select 3/4 of the sample points for classification/assessment\n",
    "# and leave 1/4 that keep untouched for later accuracy comparision\n",
    "Tarining_sample_sent = [ee.FeatureCollection(f\"{path_sent}/Sentinel_Landsat_reinspect_sample_ext_img_{t}\")\\\n",
    "                          .randomColumn('split', 101)\\\n",
    "                          .filterMetadata('split','greater_than',0.25)\n",
    "                        for t in year_name]"
   ]
  },
  {
   "cell_type": "code",
   "execution_count": null,
   "metadata": {},
   "outputs": [],
   "source": []
  },
  {
   "cell_type": "markdown",
   "metadata": {},
   "source": [
    "##### Stack input_img and input_sample together"
   ]
  },
  {
   "cell_type": "code",
   "execution_count": 16,
   "metadata": {},
   "outputs": [],
   "source": [
    "# first put all inputs together\n",
    "stack_name   = ['Lansat_Sentinel'] * len(Stack_img_with_Sentinel)\n",
    "\n",
    "stack_year   = [f'Sentinel_{year}' for year in year_name]\n",
    "stack_img    = Stack_img_with_Sentinel \n",
    "stack_sample = Tarining_sample_sent\n",
    "\n",
    "# stack all ingredients together\n",
    "Stack_img_sample = list(zip(stack_name,stack_year,stack_img,stack_sample))"
   ]
  },
  {
   "cell_type": "code",
   "execution_count": null,
   "metadata": {},
   "outputs": [],
   "source": []
  },
  {
   "cell_type": "markdown",
   "metadata": {},
   "source": [
    "##### Import the feature_selection_df to determine the input bands"
   ]
  },
  {
   "cell_type": "code",
   "execution_count": null,
   "metadata": {},
   "outputs": [],
   "source": []
  },
  {
   "cell_type": "code",
   "execution_count": 17,
   "metadata": {},
   "outputs": [],
   "source": [
    "# define how many feature are included in the classification\n",
    "Fe_num = 15\n",
    "\n",
    "# import the Feature_selection dataframe\n",
    "Fe_select = pd.read_csv('../Sub_Process_6_Before_classification_Feature_selection/Result/SFS.csv')\n",
    "Fe_select_input = Fe_select[Fe_select['index'] == Fe_num]\n",
    "\n",
    "# select the last two row for Sentinel classification\n",
    "Fe_select_input = Fe_select_input[-2:]"
   ]
  },
  {
   "cell_type": "code",
   "execution_count": null,
   "metadata": {},
   "outputs": [],
   "source": []
  },
  {
   "cell_type": "code",
   "execution_count": null,
   "metadata": {},
   "outputs": [],
   "source": []
  },
  {
   "cell_type": "markdown",
   "metadata": {},
   "source": [
    "#### Create the classification instances"
   ]
  },
  {
   "cell_type": "code",
   "execution_count": null,
   "metadata": {},
   "outputs": [],
   "source": []
  },
  {
   "cell_type": "code",
   "execution_count": 18,
   "metadata": {},
   "outputs": [],
   "source": [
    "# A two-layer loop to generate 10-randome-split layers for each year-period\n",
    "\n",
    "Classificatioin_result = []\n",
    "\n",
    "# The first-layer loop to go througth each year-periods\n",
    "for input_variable in Stack_img_sample:\n",
    "    \n",
    "    # Fetch basic parameters\n",
    "    classificaiton_tpye = input_variable[0]\n",
    "    year                = input_variable[1]\n",
    "    input_img           = input_variable[2]\n",
    "    sample_pt           = input_variable[3]\n",
    "    \n",
    "    # the ugly code below is to convert a string-represent list into a python list\n",
    "    #in_features         = list(ast.literal_eval(Fe_select_input[Fe_select_input['year'] == year]['feature_names'].values[0]))\n",
    "    in_features         = input_img.bandNames().getInfo()\n",
    "    \n",
    "    \n",
    "\n",
    "    # The second-layer to go through each-randomnes\n",
    "    for seed in range(10):\n",
    "        \n",
    "        #_______________________________Deploy the random-forest classification______________________\n",
    "        # Instatiate the class with a name.\n",
    "        classification = Classification(year_name      = year,\n",
    "                                        Verified_point = sample_pt,\n",
    "                                        Input_img      = input_img,\n",
    "                                        Input_band     = in_features,\n",
    "                                        Tree_num       = 50,\n",
    "                                        seed           = seed,\n",
    "                                        classProperty  = 'Built')\n",
    "\n",
    "        \n",
    "        # Get the Random-Forest Classifier\n",
    "        classifier = classification.classifier\n",
    "\n",
    "        # Get the classified img\n",
    "        classified_img = classification.classification_img\n",
    "        \n",
    "        \n",
    "        # Get the classified samples\n",
    "        train_sample_classified = classification.Train_sample_classification\n",
    "        test_sample_classified  = classification.Test_sample_classification\n",
    "\n",
    "        \n",
    "        #____________Add random column inorder to see which feature out performs the random input___________\n",
    "        classification_random = Classification( year_name      = year,\n",
    "                                                Verified_point = sample_pt.randomColumn(),\n",
    "                                                Input_img      = input_img,\n",
    "                                                Input_band     = in_features + ['random'],\n",
    "                                                Tree_num       = 50,\n",
    "                                                seed           = seed,\n",
    "                                                classProperty  = 'Built')\n",
    "\n",
    "        \n",
    "        classifier_randoncolumn = classification_random.classifier\n",
    "        \n",
    "        #__________________________________Add all classification result into a list____________________________\n",
    "        Classificatioin_result.append((classificaiton_tpye,year,seed,classified_img,test_sample_classified,\n",
    "                                       classifier,classifier_randoncolumn))"
   ]
  },
  {
   "cell_type": "code",
   "execution_count": null,
   "metadata": {},
   "outputs": [],
   "source": []
  },
  {
   "cell_type": "code",
   "execution_count": 20,
   "metadata": {
    "scrolled": false
   },
   "outputs": [
    {
     "data": {
      "text/html": [
       "<div>\n",
       "<style scoped>\n",
       "    .dataframe tbody tr th:only-of-type {\n",
       "        vertical-align: middle;\n",
       "    }\n",
       "\n",
       "    .dataframe tbody tr th {\n",
       "        vertical-align: top;\n",
       "    }\n",
       "\n",
       "    .dataframe thead th {\n",
       "        text-align: right;\n",
       "    }\n",
       "</style>\n",
       "<table border=\"1\" class=\"dataframe\">\n",
       "  <thead>\n",
       "    <tr style=\"text-align: right;\">\n",
       "      <th></th>\n",
       "      <th>classificaiton_tpye</th>\n",
       "      <th>year</th>\n",
       "      <th>seed</th>\n",
       "      <th>classified_img</th>\n",
       "      <th>test_sample_classified</th>\n",
       "      <th>classifier</th>\n",
       "      <th>classifier_randoncolumn</th>\n",
       "    </tr>\n",
       "  </thead>\n",
       "  <tbody>\n",
       "    <tr>\n",
       "      <th>0</th>\n",
       "      <td>Lansat_Sentinel</td>\n",
       "      <td>Sentinel_2014_2016</td>\n",
       "      <td>0</td>\n",
       "      <td>ee.Image({\\n  \"type\": \"Invocation\",\\n  \"argume...</td>\n",
       "      <td>ee.FeatureCollection({\\n  \"type\": \"Invocation\"...</td>\n",
       "      <td>ee.Classifier({\\n  \"type\": \"Invocation\",\\n  \"a...</td>\n",
       "      <td>ee.Classifier({\\n  \"type\": \"Invocation\",\\n  \"a...</td>\n",
       "    </tr>\n",
       "    <tr>\n",
       "      <th>1</th>\n",
       "      <td>Lansat_Sentinel</td>\n",
       "      <td>Sentinel_2014_2016</td>\n",
       "      <td>1</td>\n",
       "      <td>ee.Image({\\n  \"type\": \"Invocation\",\\n  \"argume...</td>\n",
       "      <td>ee.FeatureCollection({\\n  \"type\": \"Invocation\"...</td>\n",
       "      <td>ee.Classifier({\\n  \"type\": \"Invocation\",\\n  \"a...</td>\n",
       "      <td>ee.Classifier({\\n  \"type\": \"Invocation\",\\n  \"a...</td>\n",
       "    </tr>\n",
       "    <tr>\n",
       "      <th>2</th>\n",
       "      <td>Lansat_Sentinel</td>\n",
       "      <td>Sentinel_2014_2016</td>\n",
       "      <td>2</td>\n",
       "      <td>ee.Image({\\n  \"type\": \"Invocation\",\\n  \"argume...</td>\n",
       "      <td>ee.FeatureCollection({\\n  \"type\": \"Invocation\"...</td>\n",
       "      <td>ee.Classifier({\\n  \"type\": \"Invocation\",\\n  \"a...</td>\n",
       "      <td>ee.Classifier({\\n  \"type\": \"Invocation\",\\n  \"a...</td>\n",
       "    </tr>\n",
       "    <tr>\n",
       "      <th>3</th>\n",
       "      <td>Lansat_Sentinel</td>\n",
       "      <td>Sentinel_2014_2016</td>\n",
       "      <td>3</td>\n",
       "      <td>ee.Image({\\n  \"type\": \"Invocation\",\\n  \"argume...</td>\n",
       "      <td>ee.FeatureCollection({\\n  \"type\": \"Invocation\"...</td>\n",
       "      <td>ee.Classifier({\\n  \"type\": \"Invocation\",\\n  \"a...</td>\n",
       "      <td>ee.Classifier({\\n  \"type\": \"Invocation\",\\n  \"a...</td>\n",
       "    </tr>\n",
       "    <tr>\n",
       "      <th>4</th>\n",
       "      <td>Lansat_Sentinel</td>\n",
       "      <td>Sentinel_2014_2016</td>\n",
       "      <td>4</td>\n",
       "      <td>ee.Image({\\n  \"type\": \"Invocation\",\\n  \"argume...</td>\n",
       "      <td>ee.FeatureCollection({\\n  \"type\": \"Invocation\"...</td>\n",
       "      <td>ee.Classifier({\\n  \"type\": \"Invocation\",\\n  \"a...</td>\n",
       "      <td>ee.Classifier({\\n  \"type\": \"Invocation\",\\n  \"a...</td>\n",
       "    </tr>\n",
       "    <tr>\n",
       "      <th>5</th>\n",
       "      <td>Lansat_Sentinel</td>\n",
       "      <td>Sentinel_2014_2016</td>\n",
       "      <td>5</td>\n",
       "      <td>ee.Image({\\n  \"type\": \"Invocation\",\\n  \"argume...</td>\n",
       "      <td>ee.FeatureCollection({\\n  \"type\": \"Invocation\"...</td>\n",
       "      <td>ee.Classifier({\\n  \"type\": \"Invocation\",\\n  \"a...</td>\n",
       "      <td>ee.Classifier({\\n  \"type\": \"Invocation\",\\n  \"a...</td>\n",
       "    </tr>\n",
       "    <tr>\n",
       "      <th>6</th>\n",
       "      <td>Lansat_Sentinel</td>\n",
       "      <td>Sentinel_2014_2016</td>\n",
       "      <td>6</td>\n",
       "      <td>ee.Image({\\n  \"type\": \"Invocation\",\\n  \"argume...</td>\n",
       "      <td>ee.FeatureCollection({\\n  \"type\": \"Invocation\"...</td>\n",
       "      <td>ee.Classifier({\\n  \"type\": \"Invocation\",\\n  \"a...</td>\n",
       "      <td>ee.Classifier({\\n  \"type\": \"Invocation\",\\n  \"a...</td>\n",
       "    </tr>\n",
       "    <tr>\n",
       "      <th>7</th>\n",
       "      <td>Lansat_Sentinel</td>\n",
       "      <td>Sentinel_2014_2016</td>\n",
       "      <td>7</td>\n",
       "      <td>ee.Image({\\n  \"type\": \"Invocation\",\\n  \"argume...</td>\n",
       "      <td>ee.FeatureCollection({\\n  \"type\": \"Invocation\"...</td>\n",
       "      <td>ee.Classifier({\\n  \"type\": \"Invocation\",\\n  \"a...</td>\n",
       "      <td>ee.Classifier({\\n  \"type\": \"Invocation\",\\n  \"a...</td>\n",
       "    </tr>\n",
       "    <tr>\n",
       "      <th>8</th>\n",
       "      <td>Lansat_Sentinel</td>\n",
       "      <td>Sentinel_2014_2016</td>\n",
       "      <td>8</td>\n",
       "      <td>ee.Image({\\n  \"type\": \"Invocation\",\\n  \"argume...</td>\n",
       "      <td>ee.FeatureCollection({\\n  \"type\": \"Invocation\"...</td>\n",
       "      <td>ee.Classifier({\\n  \"type\": \"Invocation\",\\n  \"a...</td>\n",
       "      <td>ee.Classifier({\\n  \"type\": \"Invocation\",\\n  \"a...</td>\n",
       "    </tr>\n",
       "    <tr>\n",
       "      <th>9</th>\n",
       "      <td>Lansat_Sentinel</td>\n",
       "      <td>Sentinel_2014_2016</td>\n",
       "      <td>9</td>\n",
       "      <td>ee.Image({\\n  \"type\": \"Invocation\",\\n  \"argume...</td>\n",
       "      <td>ee.FeatureCollection({\\n  \"type\": \"Invocation\"...</td>\n",
       "      <td>ee.Classifier({\\n  \"type\": \"Invocation\",\\n  \"a...</td>\n",
       "      <td>ee.Classifier({\\n  \"type\": \"Invocation\",\\n  \"a...</td>\n",
       "    </tr>\n",
       "    <tr>\n",
       "      <th>10</th>\n",
       "      <td>Lansat_Sentinel</td>\n",
       "      <td>Sentinel_2017_2019</td>\n",
       "      <td>0</td>\n",
       "      <td>ee.Image({\\n  \"type\": \"Invocation\",\\n  \"argume...</td>\n",
       "      <td>ee.FeatureCollection({\\n  \"type\": \"Invocation\"...</td>\n",
       "      <td>ee.Classifier({\\n  \"type\": \"Invocation\",\\n  \"a...</td>\n",
       "      <td>ee.Classifier({\\n  \"type\": \"Invocation\",\\n  \"a...</td>\n",
       "    </tr>\n",
       "    <tr>\n",
       "      <th>11</th>\n",
       "      <td>Lansat_Sentinel</td>\n",
       "      <td>Sentinel_2017_2019</td>\n",
       "      <td>1</td>\n",
       "      <td>ee.Image({\\n  \"type\": \"Invocation\",\\n  \"argume...</td>\n",
       "      <td>ee.FeatureCollection({\\n  \"type\": \"Invocation\"...</td>\n",
       "      <td>ee.Classifier({\\n  \"type\": \"Invocation\",\\n  \"a...</td>\n",
       "      <td>ee.Classifier({\\n  \"type\": \"Invocation\",\\n  \"a...</td>\n",
       "    </tr>\n",
       "    <tr>\n",
       "      <th>12</th>\n",
       "      <td>Lansat_Sentinel</td>\n",
       "      <td>Sentinel_2017_2019</td>\n",
       "      <td>2</td>\n",
       "      <td>ee.Image({\\n  \"type\": \"Invocation\",\\n  \"argume...</td>\n",
       "      <td>ee.FeatureCollection({\\n  \"type\": \"Invocation\"...</td>\n",
       "      <td>ee.Classifier({\\n  \"type\": \"Invocation\",\\n  \"a...</td>\n",
       "      <td>ee.Classifier({\\n  \"type\": \"Invocation\",\\n  \"a...</td>\n",
       "    </tr>\n",
       "    <tr>\n",
       "      <th>13</th>\n",
       "      <td>Lansat_Sentinel</td>\n",
       "      <td>Sentinel_2017_2019</td>\n",
       "      <td>3</td>\n",
       "      <td>ee.Image({\\n  \"type\": \"Invocation\",\\n  \"argume...</td>\n",
       "      <td>ee.FeatureCollection({\\n  \"type\": \"Invocation\"...</td>\n",
       "      <td>ee.Classifier({\\n  \"type\": \"Invocation\",\\n  \"a...</td>\n",
       "      <td>ee.Classifier({\\n  \"type\": \"Invocation\",\\n  \"a...</td>\n",
       "    </tr>\n",
       "    <tr>\n",
       "      <th>14</th>\n",
       "      <td>Lansat_Sentinel</td>\n",
       "      <td>Sentinel_2017_2019</td>\n",
       "      <td>4</td>\n",
       "      <td>ee.Image({\\n  \"type\": \"Invocation\",\\n  \"argume...</td>\n",
       "      <td>ee.FeatureCollection({\\n  \"type\": \"Invocation\"...</td>\n",
       "      <td>ee.Classifier({\\n  \"type\": \"Invocation\",\\n  \"a...</td>\n",
       "      <td>ee.Classifier({\\n  \"type\": \"Invocation\",\\n  \"a...</td>\n",
       "    </tr>\n",
       "    <tr>\n",
       "      <th>15</th>\n",
       "      <td>Lansat_Sentinel</td>\n",
       "      <td>Sentinel_2017_2019</td>\n",
       "      <td>5</td>\n",
       "      <td>ee.Image({\\n  \"type\": \"Invocation\",\\n  \"argume...</td>\n",
       "      <td>ee.FeatureCollection({\\n  \"type\": \"Invocation\"...</td>\n",
       "      <td>ee.Classifier({\\n  \"type\": \"Invocation\",\\n  \"a...</td>\n",
       "      <td>ee.Classifier({\\n  \"type\": \"Invocation\",\\n  \"a...</td>\n",
       "    </tr>\n",
       "    <tr>\n",
       "      <th>16</th>\n",
       "      <td>Lansat_Sentinel</td>\n",
       "      <td>Sentinel_2017_2019</td>\n",
       "      <td>6</td>\n",
       "      <td>ee.Image({\\n  \"type\": \"Invocation\",\\n  \"argume...</td>\n",
       "      <td>ee.FeatureCollection({\\n  \"type\": \"Invocation\"...</td>\n",
       "      <td>ee.Classifier({\\n  \"type\": \"Invocation\",\\n  \"a...</td>\n",
       "      <td>ee.Classifier({\\n  \"type\": \"Invocation\",\\n  \"a...</td>\n",
       "    </tr>\n",
       "    <tr>\n",
       "      <th>17</th>\n",
       "      <td>Lansat_Sentinel</td>\n",
       "      <td>Sentinel_2017_2019</td>\n",
       "      <td>7</td>\n",
       "      <td>ee.Image({\\n  \"type\": \"Invocation\",\\n  \"argume...</td>\n",
       "      <td>ee.FeatureCollection({\\n  \"type\": \"Invocation\"...</td>\n",
       "      <td>ee.Classifier({\\n  \"type\": \"Invocation\",\\n  \"a...</td>\n",
       "      <td>ee.Classifier({\\n  \"type\": \"Invocation\",\\n  \"a...</td>\n",
       "    </tr>\n",
       "    <tr>\n",
       "      <th>18</th>\n",
       "      <td>Lansat_Sentinel</td>\n",
       "      <td>Sentinel_2017_2019</td>\n",
       "      <td>8</td>\n",
       "      <td>ee.Image({\\n  \"type\": \"Invocation\",\\n  \"argume...</td>\n",
       "      <td>ee.FeatureCollection({\\n  \"type\": \"Invocation\"...</td>\n",
       "      <td>ee.Classifier({\\n  \"type\": \"Invocation\",\\n  \"a...</td>\n",
       "      <td>ee.Classifier({\\n  \"type\": \"Invocation\",\\n  \"a...</td>\n",
       "    </tr>\n",
       "    <tr>\n",
       "      <th>19</th>\n",
       "      <td>Lansat_Sentinel</td>\n",
       "      <td>Sentinel_2017_2019</td>\n",
       "      <td>9</td>\n",
       "      <td>ee.Image({\\n  \"type\": \"Invocation\",\\n  \"argume...</td>\n",
       "      <td>ee.FeatureCollection({\\n  \"type\": \"Invocation\"...</td>\n",
       "      <td>ee.Classifier({\\n  \"type\": \"Invocation\",\\n  \"a...</td>\n",
       "      <td>ee.Classifier({\\n  \"type\": \"Invocation\",\\n  \"a...</td>\n",
       "    </tr>\n",
       "  </tbody>\n",
       "</table>\n",
       "</div>"
      ],
      "text/plain": [
       "   classificaiton_tpye                year  seed  \\\n",
       "0      Lansat_Sentinel  Sentinel_2014_2016     0   \n",
       "1      Lansat_Sentinel  Sentinel_2014_2016     1   \n",
       "2      Lansat_Sentinel  Sentinel_2014_2016     2   \n",
       "3      Lansat_Sentinel  Sentinel_2014_2016     3   \n",
       "4      Lansat_Sentinel  Sentinel_2014_2016     4   \n",
       "5      Lansat_Sentinel  Sentinel_2014_2016     5   \n",
       "6      Lansat_Sentinel  Sentinel_2014_2016     6   \n",
       "7      Lansat_Sentinel  Sentinel_2014_2016     7   \n",
       "8      Lansat_Sentinel  Sentinel_2014_2016     8   \n",
       "9      Lansat_Sentinel  Sentinel_2014_2016     9   \n",
       "10     Lansat_Sentinel  Sentinel_2017_2019     0   \n",
       "11     Lansat_Sentinel  Sentinel_2017_2019     1   \n",
       "12     Lansat_Sentinel  Sentinel_2017_2019     2   \n",
       "13     Lansat_Sentinel  Sentinel_2017_2019     3   \n",
       "14     Lansat_Sentinel  Sentinel_2017_2019     4   \n",
       "15     Lansat_Sentinel  Sentinel_2017_2019     5   \n",
       "16     Lansat_Sentinel  Sentinel_2017_2019     6   \n",
       "17     Lansat_Sentinel  Sentinel_2017_2019     7   \n",
       "18     Lansat_Sentinel  Sentinel_2017_2019     8   \n",
       "19     Lansat_Sentinel  Sentinel_2017_2019     9   \n",
       "\n",
       "                                       classified_img  \\\n",
       "0   ee.Image({\\n  \"type\": \"Invocation\",\\n  \"argume...   \n",
       "1   ee.Image({\\n  \"type\": \"Invocation\",\\n  \"argume...   \n",
       "2   ee.Image({\\n  \"type\": \"Invocation\",\\n  \"argume...   \n",
       "3   ee.Image({\\n  \"type\": \"Invocation\",\\n  \"argume...   \n",
       "4   ee.Image({\\n  \"type\": \"Invocation\",\\n  \"argume...   \n",
       "5   ee.Image({\\n  \"type\": \"Invocation\",\\n  \"argume...   \n",
       "6   ee.Image({\\n  \"type\": \"Invocation\",\\n  \"argume...   \n",
       "7   ee.Image({\\n  \"type\": \"Invocation\",\\n  \"argume...   \n",
       "8   ee.Image({\\n  \"type\": \"Invocation\",\\n  \"argume...   \n",
       "9   ee.Image({\\n  \"type\": \"Invocation\",\\n  \"argume...   \n",
       "10  ee.Image({\\n  \"type\": \"Invocation\",\\n  \"argume...   \n",
       "11  ee.Image({\\n  \"type\": \"Invocation\",\\n  \"argume...   \n",
       "12  ee.Image({\\n  \"type\": \"Invocation\",\\n  \"argume...   \n",
       "13  ee.Image({\\n  \"type\": \"Invocation\",\\n  \"argume...   \n",
       "14  ee.Image({\\n  \"type\": \"Invocation\",\\n  \"argume...   \n",
       "15  ee.Image({\\n  \"type\": \"Invocation\",\\n  \"argume...   \n",
       "16  ee.Image({\\n  \"type\": \"Invocation\",\\n  \"argume...   \n",
       "17  ee.Image({\\n  \"type\": \"Invocation\",\\n  \"argume...   \n",
       "18  ee.Image({\\n  \"type\": \"Invocation\",\\n  \"argume...   \n",
       "19  ee.Image({\\n  \"type\": \"Invocation\",\\n  \"argume...   \n",
       "\n",
       "                               test_sample_classified  \\\n",
       "0   ee.FeatureCollection({\\n  \"type\": \"Invocation\"...   \n",
       "1   ee.FeatureCollection({\\n  \"type\": \"Invocation\"...   \n",
       "2   ee.FeatureCollection({\\n  \"type\": \"Invocation\"...   \n",
       "3   ee.FeatureCollection({\\n  \"type\": \"Invocation\"...   \n",
       "4   ee.FeatureCollection({\\n  \"type\": \"Invocation\"...   \n",
       "5   ee.FeatureCollection({\\n  \"type\": \"Invocation\"...   \n",
       "6   ee.FeatureCollection({\\n  \"type\": \"Invocation\"...   \n",
       "7   ee.FeatureCollection({\\n  \"type\": \"Invocation\"...   \n",
       "8   ee.FeatureCollection({\\n  \"type\": \"Invocation\"...   \n",
       "9   ee.FeatureCollection({\\n  \"type\": \"Invocation\"...   \n",
       "10  ee.FeatureCollection({\\n  \"type\": \"Invocation\"...   \n",
       "11  ee.FeatureCollection({\\n  \"type\": \"Invocation\"...   \n",
       "12  ee.FeatureCollection({\\n  \"type\": \"Invocation\"...   \n",
       "13  ee.FeatureCollection({\\n  \"type\": \"Invocation\"...   \n",
       "14  ee.FeatureCollection({\\n  \"type\": \"Invocation\"...   \n",
       "15  ee.FeatureCollection({\\n  \"type\": \"Invocation\"...   \n",
       "16  ee.FeatureCollection({\\n  \"type\": \"Invocation\"...   \n",
       "17  ee.FeatureCollection({\\n  \"type\": \"Invocation\"...   \n",
       "18  ee.FeatureCollection({\\n  \"type\": \"Invocation\"...   \n",
       "19  ee.FeatureCollection({\\n  \"type\": \"Invocation\"...   \n",
       "\n",
       "                                           classifier  \\\n",
       "0   ee.Classifier({\\n  \"type\": \"Invocation\",\\n  \"a...   \n",
       "1   ee.Classifier({\\n  \"type\": \"Invocation\",\\n  \"a...   \n",
       "2   ee.Classifier({\\n  \"type\": \"Invocation\",\\n  \"a...   \n",
       "3   ee.Classifier({\\n  \"type\": \"Invocation\",\\n  \"a...   \n",
       "4   ee.Classifier({\\n  \"type\": \"Invocation\",\\n  \"a...   \n",
       "5   ee.Classifier({\\n  \"type\": \"Invocation\",\\n  \"a...   \n",
       "6   ee.Classifier({\\n  \"type\": \"Invocation\",\\n  \"a...   \n",
       "7   ee.Classifier({\\n  \"type\": \"Invocation\",\\n  \"a...   \n",
       "8   ee.Classifier({\\n  \"type\": \"Invocation\",\\n  \"a...   \n",
       "9   ee.Classifier({\\n  \"type\": \"Invocation\",\\n  \"a...   \n",
       "10  ee.Classifier({\\n  \"type\": \"Invocation\",\\n  \"a...   \n",
       "11  ee.Classifier({\\n  \"type\": \"Invocation\",\\n  \"a...   \n",
       "12  ee.Classifier({\\n  \"type\": \"Invocation\",\\n  \"a...   \n",
       "13  ee.Classifier({\\n  \"type\": \"Invocation\",\\n  \"a...   \n",
       "14  ee.Classifier({\\n  \"type\": \"Invocation\",\\n  \"a...   \n",
       "15  ee.Classifier({\\n  \"type\": \"Invocation\",\\n  \"a...   \n",
       "16  ee.Classifier({\\n  \"type\": \"Invocation\",\\n  \"a...   \n",
       "17  ee.Classifier({\\n  \"type\": \"Invocation\",\\n  \"a...   \n",
       "18  ee.Classifier({\\n  \"type\": \"Invocation\",\\n  \"a...   \n",
       "19  ee.Classifier({\\n  \"type\": \"Invocation\",\\n  \"a...   \n",
       "\n",
       "                              classifier_randoncolumn  \n",
       "0   ee.Classifier({\\n  \"type\": \"Invocation\",\\n  \"a...  \n",
       "1   ee.Classifier({\\n  \"type\": \"Invocation\",\\n  \"a...  \n",
       "2   ee.Classifier({\\n  \"type\": \"Invocation\",\\n  \"a...  \n",
       "3   ee.Classifier({\\n  \"type\": \"Invocation\",\\n  \"a...  \n",
       "4   ee.Classifier({\\n  \"type\": \"Invocation\",\\n  \"a...  \n",
       "5   ee.Classifier({\\n  \"type\": \"Invocation\",\\n  \"a...  \n",
       "6   ee.Classifier({\\n  \"type\": \"Invocation\",\\n  \"a...  \n",
       "7   ee.Classifier({\\n  \"type\": \"Invocation\",\\n  \"a...  \n",
       "8   ee.Classifier({\\n  \"type\": \"Invocation\",\\n  \"a...  \n",
       "9   ee.Classifier({\\n  \"type\": \"Invocation\",\\n  \"a...  \n",
       "10  ee.Classifier({\\n  \"type\": \"Invocation\",\\n  \"a...  \n",
       "11  ee.Classifier({\\n  \"type\": \"Invocation\",\\n  \"a...  \n",
       "12  ee.Classifier({\\n  \"type\": \"Invocation\",\\n  \"a...  \n",
       "13  ee.Classifier({\\n  \"type\": \"Invocation\",\\n  \"a...  \n",
       "14  ee.Classifier({\\n  \"type\": \"Invocation\",\\n  \"a...  \n",
       "15  ee.Classifier({\\n  \"type\": \"Invocation\",\\n  \"a...  \n",
       "16  ee.Classifier({\\n  \"type\": \"Invocation\",\\n  \"a...  \n",
       "17  ee.Classifier({\\n  \"type\": \"Invocation\",\\n  \"a...  \n",
       "18  ee.Classifier({\\n  \"type\": \"Invocation\",\\n  \"a...  \n",
       "19  ee.Classifier({\\n  \"type\": \"Invocation\",\\n  \"a...  "
      ]
     },
     "execution_count": 20,
     "metadata": {},
     "output_type": "execute_result"
    }
   ],
   "source": [
    "# convert classificaiton instances into a dataframe\n",
    "Classification_instances_df =  pd.DataFrame(Classificatioin_result,\n",
    "                                            columns=['classificaiton_tpye','year','seed','classified_img',\n",
    "                                                     'test_sample_classified','classifier','classifier_randoncolumn'])\n",
    "Classification_instances_df"
   ]
  },
  {
   "cell_type": "code",
   "execution_count": null,
   "metadata": {},
   "outputs": [],
   "source": []
  },
  {
   "cell_type": "markdown",
   "metadata": {},
   "source": [
    "#### Calculate the importance of each input band"
   ]
  },
  {
   "cell_type": "code",
   "execution_count": null,
   "metadata": {},
   "outputs": [],
   "source": []
  },
  {
   "cell_type": "code",
   "execution_count": 21,
   "metadata": {
    "scrolled": false
   },
   "outputs": [
    {
     "name": "stdout",
     "output_type": "stream",
     "text": [
      "Sentinel_2014_2016_0 importance computation complete!\n",
      "Sentinel_2014_2016_1 importance computation complete!\n",
      "Sentinel_2014_2016_2 importance computation complete!\n",
      "Sentinel_2014_2016_3 importance computation complete!\n",
      "Sentinel_2014_2016_4 importance computation complete!\n",
      "Sentinel_2014_2016_5 importance computation complete!\n",
      "Sentinel_2014_2016_6 importance computation complete!\n",
      "Sentinel_2014_2016_7 importance computation complete!\n",
      "Sentinel_2014_2016_8 importance computation complete!\n",
      "Sentinel_2014_2016_9 importance computation complete!\n",
      "Sentinel_2017_2019_0 importance computation complete!\n",
      "Sentinel_2017_2019_1 importance computation complete!\n",
      "Sentinel_2017_2019_2 importance computation complete!\n",
      "Sentinel_2017_2019_3 importance computation complete!\n",
      "Sentinel_2017_2019_4 importance computation complete!\n",
      "Sentinel_2017_2019_5 importance computation complete!\n",
      "Sentinel_2017_2019_6 importance computation complete!\n",
      "Sentinel_2017_2019_7 importance computation complete!\n",
      "Sentinel_2017_2019_8 importance computation complete!\n",
      "Sentinel_2017_2019_9 importance computation complete!\n"
     ]
    }
   ],
   "source": [
    "Importance_dict = {}\n",
    "Importance_dict_random = {}\n",
    "\n",
    "# calculate the accuracy of differnet randomness\n",
    "for index, row in Classification_instances_df.iterrows():\n",
    "    \n",
    "    # get the year and seed perperties\n",
    "    year = row[1]\n",
    "    seed = row[2]\n",
    "    \n",
    "    # fetch the importance dictionary\n",
    "    impt        = row[5].explain().get('importance').getInfo()\n",
    "    impt_random = row[6].explain().get('importance').getInfo()\n",
    "\n",
    "    # add importance value to Importance_df\n",
    "    Importance_dict[(year,seed)]        = impt\n",
    "    Importance_dict_random[(year,seed)] = impt_random\n",
    "    \n",
    "    # print out the process\n",
    "    print(f'{year}_{seed} importance computation complete!')"
   ]
  },
  {
   "cell_type": "code",
   "execution_count": null,
   "metadata": {},
   "outputs": [],
   "source": []
  },
  {
   "cell_type": "markdown",
   "metadata": {},
   "source": [
    "Formatting the importance_df"
   ]
  },
  {
   "cell_type": "code",
   "execution_count": 22,
   "metadata": {},
   "outputs": [],
   "source": [
    "# put importance_dict into a dataframe\n",
    "Importance_df = pd.DataFrame(Importance_dict)\n",
    "Importance_df_random = pd.DataFrame(Importance_dict_random)\n",
    "\n",
    "# unstack the dataframe into single indexed dataframes\n",
    "Importance_df_single_index = pd.DataFrame(Importance_df.unstack(1)).reset_index([0,1,2])\n",
    "Importance_df_single_index_random = pd.DataFrame(Importance_df_random.unstack(1)).reset_index([0,1,2])\n",
    "\n",
    "Importance_df_single_index.columns = ['year','seed','band','importance']\n",
    "Importance_df_single_index_random.columns = ['year','seed','band','importance']\n",
    "\n",
    "# Make the year column categorical so we can make figures\n",
    "Importance_df_single_index.dropna(inplace=True)\n",
    "Importance_df_single_index_random.dropna(inplace=True)"
   ]
  },
  {
   "cell_type": "code",
   "execution_count": null,
   "metadata": {},
   "outputs": [],
   "source": []
  },
  {
   "cell_type": "markdown",
   "metadata": {},
   "source": [
    "Exporting the importance_df"
   ]
  },
  {
   "cell_type": "code",
   "execution_count": 23,
   "metadata": {},
   "outputs": [],
   "source": [
    "# # export the df to local disk\n",
    "# Importance_df_single_index.to_csv('Result\\Importance_Landsat_Sentinel.csv',index=False)\n",
    "# Importance_df_single_index_random.to_csv('Result\\Importance_Landsat_Sentinel_random.csv',index=False)\n",
    "\n",
    "# read the df from locak disk\n",
    "Importance_df_single_index = pd.read_csv('Result\\Importance_Landsat_Sentinel.csv')\n",
    "Importance_df_single_index_random = pd.read_csv('Result\\Importance_Landsat_Sentinel_random.csv')\n",
    "\n",
    "Importance_df_single_index['year'] = pd.Categorical(Importance_df_single_index['year'])\n",
    "Importance_df_single_index_random['year'] = pd.Categorical(Importance_df_single_index_random['year'])\n"
   ]
  },
  {
   "cell_type": "code",
   "execution_count": null,
   "metadata": {},
   "outputs": [],
   "source": []
  },
  {
   "cell_type": "code",
   "execution_count": 24,
   "metadata": {
    "scrolled": false
   },
   "outputs": [],
   "source": [
    "# calculaten the average importance of each band so we can have a proper order for figs\n",
    "Importance_2017_2019 = Importance_df_single_index[Importance_df_single_index['year'] == 'Sentinel_2017_2019']\n",
    "Importance_2017_2019_random = Importance_df_single_index_random[Importance_df_single_index_random['year'] == 'Sentinel_2017_2019']\n",
    "\n",
    "gourp_mean = Importance_2017_2019.groupby('band').mean().sort_values('importance',ascending=False)\n",
    "gourp_mean_random = Importance_2017_2019_random.groupby('band').mean().sort_values('importance',ascending=False)"
   ]
  },
  {
   "cell_type": "code",
   "execution_count": null,
   "metadata": {},
   "outputs": [],
   "source": []
  },
  {
   "cell_type": "markdown",
   "metadata": {},
   "source": [
    "##### Observe the importance of each input band"
   ]
  },
  {
   "cell_type": "code",
   "execution_count": null,
   "metadata": {},
   "outputs": [],
   "source": []
  },
  {
   "cell_type": "code",
   "execution_count": 25,
   "metadata": {
    "scrolled": false
   },
   "outputs": [
    {
     "data": {
      "text/plain": [
       "<matplotlib.axes._subplots.AxesSubplot at 0x1c17b9e1cc0>"
      ]
     },
     "execution_count": 25,
     "metadata": {},
     "output_type": "execute_result"
    },
    {
     "data": {
      "image/png": "[encoded data removed]",
      "text/plain": [
       "<Figure size 864x576 with 1 Axes>"
      ]
     },
     "metadata": {
      "needs_background": "light"
     },
     "output_type": "display_data"
    }
   ],
   "source": [
    "plt.figure(figsize=(12,8))\n",
    "sns.barplot(x=gourp_mean.index,y ='importance',data=gourp_mean  )"
   ]
  },
  {
   "cell_type": "code",
   "execution_count": null,
   "metadata": {},
   "outputs": [],
   "source": []
  },
  {
   "cell_type": "code",
   "execution_count": 26,
   "metadata": {},
   "outputs": [
    {
     "data": {
      "text/plain": [
       "<matplotlib.axes._subplots.AxesSubplot at 0x1c17cd49ef0>"
      ]
     },
     "execution_count": 26,
     "metadata": {},
     "output_type": "execute_result"
    },
    {
     "data": {
      "image/png": "[encoded data removed]",
      "text/plain": [
       "<Figure size 864x576 with 1 Axes>"
      ]
     },
     "metadata": {
      "needs_background": "light"
     },
     "output_type": "display_data"
    }
   ],
   "source": [
    "plt.figure(figsize=(12,8))\n",
    "sns.barplot(x=gourp_mean_random.index ,y ='importance', data=gourp_mean_random )"
   ]
  },
  {
   "cell_type": "code",
   "execution_count": null,
   "metadata": {},
   "outputs": [],
   "source": []
  },
  {
   "cell_type": "markdown",
   "metadata": {},
   "source": [
    "#### Add one of the classified img to map"
   ]
  },
  {
   "cell_type": "code",
   "execution_count": 27,
   "metadata": {},
   "outputs": [
    {
     "data": {
      "text/plain": [
       "<ee.image.Image at 0x1c17cd8cac8>"
      ]
     },
     "execution_count": 27,
     "metadata": {},
     "output_type": "execute_result"
    }
   ],
   "source": [
    "one = Classification_instances_df.iloc[0][3]\n",
    "one"
   ]
  },
  {
   "cell_type": "code",
   "execution_count": 28,
   "metadata": {
    "scrolled": false
   },
   "outputs": [
    {
     "data": {
      "application/vnd.jupyter.widget-view+json": {
       "model_id": "82942f4451704b1281fbd50a51695522",
       "version_major": 2,
       "version_minor": 0
      },
      "text/plain": [
       "Map(center=[40, -100], controls=(WidgetControl(options=['position'], widget=HBox(children=(ToggleButton(value=…"
      ]
     },
     "metadata": {},
     "output_type": "display_data"
    }
   ],
   "source": [
    "Map = geemap.Map()\n",
    "Map.add_basemap('HYBRID')\n",
    "Map.addLayer(one,{'min':0,'max':1},'One')\n",
    "Map"
   ]
  },
  {
   "cell_type": "code",
   "execution_count": null,
   "metadata": {},
   "outputs": [],
   "source": []
  },
  {
   "cell_type": "code",
   "execution_count": null,
   "metadata": {},
   "outputs": [],
   "source": []
  },
  {
   "cell_type": "markdown",
   "metadata": {},
   "source": [
    "#### calculate the accuracy of each radomness"
   ]
  },
  {
   "cell_type": "code",
   "execution_count": null,
   "metadata": {},
   "outputs": [],
   "source": []
  },
  {
   "cell_type": "code",
   "execution_count": 29,
   "metadata": {
    "scrolled": true
   },
   "outputs": [
    {
     "name": "stdout",
     "output_type": "stream",
     "text": [
      "Sentinel_2014_2016_0-->Recall_built:95.14\n",
      "Sentinel_2014_2016_1-->Recall_built:92.4\n",
      "Sentinel_2014_2016_2-->Recall_built:93.64\n",
      "Sentinel_2014_2016_3-->Recall_built:93.13\n",
      "Sentinel_2014_2016_4-->Recall_built:94.63\n",
      "Sentinel_2014_2016_5-->Recall_built:94.4\n",
      "Sentinel_2014_2016_6-->Recall_built:95.25\n",
      "Sentinel_2014_2016_7-->Recall_built:94.99\n",
      "Sentinel_2014_2016_8-->Recall_built:95.63\n",
      "Sentinel_2014_2016_9-->Recall_built:95.52\n",
      "Sentinel_2017_2019_0-->Recall_built:93.06\n",
      "Sentinel_2017_2019_1-->Recall_built:93.25\n",
      "Sentinel_2017_2019_2-->Recall_built:94.31\n",
      "Sentinel_2017_2019_3-->Recall_built:94.91\n",
      "Sentinel_2017_2019_4-->Recall_built:94.76\n",
      "Sentinel_2017_2019_5-->Recall_built:95.72\n",
      "Sentinel_2017_2019_6-->Recall_built:93.25\n",
      "Sentinel_2017_2019_7-->Recall_built:93.12\n",
      "Sentinel_2017_2019_8-->Recall_built:94.57\n",
      "Sentinel_2017_2019_9-->Recall_built:94.21\n"
     ]
    }
   ],
   "source": [
    "acc = []\n",
    "\n",
    "# calculate the accuracy of differnet randomness\n",
    "for i in Classificatioin_result:\n",
    "    \n",
    "    accuracy = Accuracy_assesment(i[4]).Stp_1_Calculate_Accuracy()\n",
    "    acc.append(accuracy)\n",
    "    \n",
    "    key = 'Recall_built'\n",
    "    print(f'{i[1]}_{i[2]}-->Recall_built:{accuracy[key]}')"
   ]
  },
  {
   "cell_type": "code",
   "execution_count": null,
   "metadata": {},
   "outputs": [],
   "source": []
  },
  {
   "cell_type": "code",
   "execution_count": 2,
   "metadata": {},
   "outputs": [],
   "source": [
    "# # store the acc_df to local drive\n",
    "# acc_df = pd.concat([Classification_instances_df[['year','seed']],pd.DataFrame(acc)],axis=1)\n",
    "# acc_df.to_csv('./Result/Classification_Accuracy_landsat_sentinel.csv',index=False)\n",
    "\n",
    "# access the acc_df\n",
    "Sentinel_Acc = pd.read_csv('./Result/Classification_Accuracy_landsat_sentinel.csv')\n",
    "Landsat_Acc  = pd.read_csv('./Result/Classification_Accuracy.csv')"
   ]
  },
  {
   "cell_type": "code",
   "execution_count": null,
   "metadata": {},
   "outputs": [],
   "source": []
  },
  {
   "cell_type": "markdown",
   "metadata": {},
   "source": [
    "##### Observe that use Sample_2017_2019 will increase the accuracy"
   ]
  },
  {
   "cell_type": "code",
   "execution_count": null,
   "metadata": {},
   "outputs": [],
   "source": []
  },
  {
   "cell_type": "code",
   "execution_count": 3,
   "metadata": {},
   "outputs": [
    {
     "data": {
      "text/plain": [
       "<matplotlib.axes._subplots.AxesSubplot at 0x238b9dbe208>"
      ]
     },
     "execution_count": 3,
     "metadata": {},
     "output_type": "execute_result"
    },
    {
     "data": {
      "image/png": "[encoded data removed]",
      "text/plain": [
       "<Figure size 864x576 with 1 Axes>"
      ]
     },
     "metadata": {
      "needs_background": "light"
     },
     "output_type": "display_data"
    }
   ],
   "source": [
    "plt.figure(figsize=(12,8))\n",
    "\n",
    "sns.lineplot(x='year',y='Overall_ACC',data=Landsat_Acc,label='Landsat')\n",
    "sns.lineplot(x='year',y='Overall_ACC',data=Sentinel_Acc,label='Sentinel')"
   ]
  },
  {
   "cell_type": "code",
   "execution_count": null,
   "metadata": {},
   "outputs": [],
   "source": []
  },
  {
   "cell_type": "markdown",
   "metadata": {},
   "source": [
    "##### Export the classified_img"
   ]
  },
  {
   "cell_type": "code",
   "execution_count": null,
   "metadata": {},
   "outputs": [],
   "source": []
  },
  {
   "cell_type": "code",
   "execution_count": null,
   "metadata": {},
   "outputs": [],
   "source": []
  },
  {
   "cell_type": "code",
   "execution_count": 38,
   "metadata": {
    "scrolled": true
   },
   "outputs": [
    {
     "name": "stdout",
     "output_type": "stream",
     "text": [
      "Exporting Lansat_Sentinel_Sentinel_2014_2016_0 successful!\n",
      "Exporting Lansat_Sentinel_Sentinel_2014_2016_1 successful!\n",
      "Exporting Lansat_Sentinel_Sentinel_2014_2016_2 successful!\n",
      "Exporting Lansat_Sentinel_Sentinel_2014_2016_3 successful!\n",
      "Exporting Lansat_Sentinel_Sentinel_2014_2016_4 successful!\n",
      "Exporting Lansat_Sentinel_Sentinel_2014_2016_5 successful!\n",
      "Exporting Lansat_Sentinel_Sentinel_2014_2016_6 successful!\n",
      "Exporting Lansat_Sentinel_Sentinel_2014_2016_7 successful!\n",
      "Exporting Lansat_Sentinel_Sentinel_2014_2016_8 successful!\n",
      "Exporting Lansat_Sentinel_Sentinel_2014_2016_9 successful!\n",
      "Exporting Lansat_Sentinel_Sentinel_2017_2019_0 successful!\n",
      "Exporting Lansat_Sentinel_Sentinel_2017_2019_1 successful!\n",
      "Exporting Lansat_Sentinel_Sentinel_2017_2019_2 successful!\n",
      "Exporting Lansat_Sentinel_Sentinel_2017_2019_3 successful!\n",
      "Exporting Lansat_Sentinel_Sentinel_2017_2019_4 successful!\n",
      "Exporting Lansat_Sentinel_Sentinel_2017_2019_5 successful!\n",
      "Exporting Lansat_Sentinel_Sentinel_2017_2019_6 successful!\n",
      "Exporting Lansat_Sentinel_Sentinel_2017_2019_7 successful!\n",
      "Exporting Lansat_Sentinel_Sentinel_2017_2019_8 successful!\n",
      "Exporting Lansat_Sentinel_Sentinel_2017_2019_9 successful!\n"
     ]
    }
   ],
   "source": [
    "for item in Classificatioin_result:\n",
    "     \n",
    "    Classification_type = item[0]\n",
    "    year = item[1]\n",
    "    seed = item[2]\n",
    "    img  = item[3]\n",
    "    \n",
    "    \n",
    "    export_name = f'{Classification_type}_{year}_{seed}'\n",
    "    \n",
    "#     # export to Google Storage\n",
    "#     task = ee.batch.Export.image.toCloudStorage(image          = img,\n",
    "#                                                 description    = export_name,\n",
    "#                                                 bucket         = 'north_china_plain',\n",
    "#                                                 fileNamePrefix = export_name,\n",
    "#                                                 region         = North_China_Plain.geometry().bounds(),\n",
    "#                                                 scale          = 30,\n",
    "#                                                 maxPixels      = int(1e13),\n",
    "#                                                 skipEmptyTiles = True)\n",
    "    \n",
    "    #export to GEE asset\n",
    "    asset_path = f'users/wangjinzhulala/North_China_Plain_Python/classification_img/Tree_50_{year}'\n",
    "    \n",
    "    task = ee.batch.Export.image.toAsset(   image          = img,\n",
    "                                            description    = export_name,\n",
    "                                            assetId        = f'{asset_path}/{export_name}',\n",
    "                                            region         = North_China_Plain.geometry().bounds(),\n",
    "                                            scale          = 30,\n",
    "                                            maxPixels      = int(1e13)) \n",
    "    \n",
    "    task.start()\n",
    "    \n",
    "    print(f'Exporting {export_name} successful!')"
   ]
  },
  {
   "cell_type": "code",
   "execution_count": null,
   "metadata": {},
   "outputs": [],
   "source": []
  },
  {
   "cell_type": "code",
   "execution_count": null,
   "metadata": {},
   "outputs": [],
   "source": []
  },
  {
   "cell_type": "code",
   "execution_count": null,
   "metadata": {},
   "outputs": [],
   "source": []
  },
  {
   "cell_type": "code",
   "execution_count": null,
   "metadata": {},
   "outputs": [],
   "source": []
  },
  {
   "cell_type": "code",
   "execution_count": null,
   "metadata": {},
   "outputs": [],
   "source": []
  },
  {
   "cell_type": "code",
   "execution_count": null,
   "metadata": {},
   "outputs": [],
   "source": []
  },
  {
   "cell_type": "code",
   "execution_count": null,
   "metadata": {},
   "outputs": [],
   "source": []
  },
  {
   "cell_type": "code",
   "execution_count": null,
   "metadata": {},
   "outputs": [],
   "source": []
  },
  {
   "cell_type": "code",
   "execution_count": null,
   "metadata": {},
   "outputs": [],
   "source": []
  },
  {
   "cell_type": "code",
   "execution_count": null,
   "metadata": {},
   "outputs": [],
   "source": []
  },
  {
   "cell_type": "code",
   "execution_count": null,
   "metadata": {},
   "outputs": [],
   "source": []
  },
  {
   "cell_type": "code",
   "execution_count": null,
   "metadata": {},
   "outputs": [],
   "source": []
  },
  {
   "cell_type": "code",
   "execution_count": null,
   "metadata": {},
   "outputs": [],
   "source": []
  },
  {
   "cell_type": "code",
   "execution_count": null,
   "metadata": {},
   "outputs": [],
   "source": []
  },
  {
   "cell_type": "code",
   "execution_count": null,
   "metadata": {},
   "outputs": [],
   "source": []
  },
  {
   "cell_type": "code",
   "execution_count": null,
   "metadata": {},
   "outputs": [],
   "source": []
  },
  {
   "cell_type": "code",
   "execution_count": null,
   "metadata": {},
   "outputs": [],
   "source": []
  },
  {
   "cell_type": "code",
   "execution_count": null,
   "metadata": {},
   "outputs": [],
   "source": []
  },
  {
   "cell_type": "code",
   "execution_count": null,
   "metadata": {},
   "outputs": [],
   "source": []
  },
  {
   "cell_type": "code",
   "execution_count": null,
   "metadata": {},
   "outputs": [],
   "source": []
  },
  {
   "cell_type": "code",
   "execution_count": null,
   "metadata": {},
   "outputs": [],
   "source": []
  }
 ],
 "metadata": {
  "kernelspec": {
   "display_name": "Python 3",
   "language": "python",
   "name": "python3"
  },
  "language_info": {
   "codemirror_mode": {
    "name": "ipython",
    "version": 3
   },
   "file_extension": ".py",
   "mimetype": "text/x-python",
   "name": "python",
   "nbconvert_exporter": "python",
   "pygments_lexer": "ipython3",
   "version": "3.7.3"
  }
 },
 "nbformat": 4,
 "nbformat_minor": 2
}
