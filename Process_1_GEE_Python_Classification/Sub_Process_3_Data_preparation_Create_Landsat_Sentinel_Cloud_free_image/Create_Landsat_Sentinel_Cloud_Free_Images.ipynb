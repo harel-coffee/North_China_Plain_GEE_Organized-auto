{
 "cells": [
  {
   "cell_type": "code",
   "execution_count": 1,
   "metadata": {},
   "outputs": [],
   "source": [
    "import ee\n",
    "import datetime\n",
    "import os\n",
    "import itertools\n",
    "import sys\n",
    "\n",
    "from pprint import pprint\n",
    "import pandas as pd\n",
    "import numpy as np\n",
    "import seaborn as sns\n",
    "import matplotlib.pyplot as plt\n",
    "\n",
    "import geemap\n",
    "\n",
    "import subprocess\n",
    "from subprocess import PIPE"
   ]
  },
  {
   "cell_type": "code",
   "execution_count": 2,
   "metadata": {},
   "outputs": [],
   "source": [
    "ee.Initialize()"
   ]
  },
  {
   "cell_type": "code",
   "execution_count": 3,
   "metadata": {},
   "outputs": [],
   "source": [
    "# append the parent path into sys-path so wen can import necessary modules\n",
    "sys.path.append('../')"
   ]
  },
  {
   "cell_type": "code",
   "execution_count": 4,
   "metadata": {},
   "outputs": [],
   "source": [
    "from BackGround_modules.Class_1_Make_fourier_imgs import Make_Fourier\n",
    "from BackGround_modules.Class_2_Classify_Fourier_Img import Classification\n",
    "from BackGround_modules.Class_3_Calculate_the_accuracy import Accuracy_assesment"
   ]
  },
  {
   "cell_type": "code",
   "execution_count": null,
   "metadata": {},
   "outputs": [],
   "source": []
  },
  {
   "cell_type": "markdown",
   "metadata": {},
   "source": [
    "### Step_0_Define_Basic_Parameters"
   ]
  },
  {
   "cell_type": "code",
   "execution_count": 5,
   "metadata": {},
   "outputs": [],
   "source": [
    "# define the year range\n",
    "year_start = [f'{i}-01-01' for i in range(1990,2020,3)]\n",
    "year_end   = [f'{i}-12-31' for i in range(1992,2020,3)]\n",
    "\n",
    "year_range = list(zip(year_start,year_end))\n",
    "\n",
    "# import north_china_plain boundary\n",
    "North_China_Plain = ee.FeatureCollection(\"users/wangjinzhulala/North_China_Plain_Python/Boundary_shp/North_China_Plain_Boundary\")\n",
    "\n",
    "# define the asset path for exporting\n",
    "asset_path = 'users/wang8052664/Cloud_Free_Img'"
   ]
  },
  {
   "cell_type": "code",
   "execution_count": null,
   "metadata": {},
   "outputs": [],
   "source": []
  },
  {
   "cell_type": "code",
   "execution_count": 6,
   "metadata": {},
   "outputs": [
    {
     "data": {
      "text/plain": [
       "[('1990-01-01', '1992-12-31'),\n",
       " ('1993-01-01', '1995-12-31'),\n",
       " ('1996-01-01', '1998-12-31'),\n",
       " ('1999-01-01', '2001-12-31'),\n",
       " ('2002-01-01', '2004-12-31'),\n",
       " ('2005-01-01', '2007-12-31'),\n",
       " ('2008-01-01', '2010-12-31'),\n",
       " ('2011-01-01', '2013-12-31'),\n",
       " ('2014-01-01', '2016-12-31'),\n",
       " ('2017-01-01', '2019-12-31')]"
      ]
     },
     "execution_count": 6,
     "metadata": {},
     "output_type": "execute_result"
    }
   ],
   "source": [
    "year_range"
   ]
  },
  {
   "cell_type": "code",
   "execution_count": null,
   "metadata": {},
   "outputs": [],
   "source": []
  },
  {
   "cell_type": "markdown",
   "metadata": {},
   "source": [
    "### Step_1: Create Landsat cloud-free images"
   ]
  },
  {
   "cell_type": "code",
   "execution_count": null,
   "metadata": {},
   "outputs": [],
   "source": []
  },
  {
   "cell_type": "code",
   "execution_count": 7,
   "metadata": {},
   "outputs": [
    {
     "name": "stdout",
     "output_type": "stream",
     "text": [
      "Exporting Landsat_cloud_free_2017_2019\n",
      "Exporting Landsat_cloud_free_2014_2016\n",
      "Exporting Landsat_cloud_free_2011_2013\n",
      "Exporting Landsat_cloud_free_2008_2010\n",
      "Exporting Landsat_cloud_free_2005_2007\n",
      "Exporting Landsat_cloud_free_2002_2004\n",
      "Exporting Landsat_cloud_free_1999_2001\n",
      "Exporting Landsat_cloud_free_1996_1998\n",
      "Exporting Landsat_cloud_free_1993_1995\n",
      "Exporting Landsat_cloud_free_1990_1992\n"
     ]
    }
   ],
   "source": [
    "for span in year_range[::-1]:\n",
    "    \n",
    "    # find the end year to determine the \n",
    "    start = span[0]\n",
    "    end   = span[1]\n",
    "    \n",
    "    split = '-'\n",
    "    span_name = f'{start.split(split)[0]}_{end.split(split)[0]}'\n",
    "\n",
    "    \n",
    "    # define the name for exporting\n",
    "    export_name = f'Landsat_cloud_free_{span_name}'\n",
    "    \n",
    "    \n",
    "    # find the right Landsat RAW data set\n",
    "    if int(end.split(split)[0]) <= 2010:\n",
    "        Landsat_img = ee.ImageCollection(\"LANDSAT/LT05/C01/T1\")\n",
    "        \n",
    "    elif int(end.split(split)[0]) <= 2013:\n",
    "        Landsat_img = ee.ImageCollection(\"LANDSAT/LE07/C01/T1\")\n",
    "        \n",
    "    else:\n",
    "        Landsat_img = ee.ImageCollection(\"LANDSAT/LC08/C01/T1\")\n",
    "        \n",
    "    # Create a function to compute the min of the input mask to mask\n",
    "    # pixels where any band is masked.\n",
    "    def min_mask (img):\n",
    "        return img.updateMask(img.mask().reduce('min'))\n",
    "    \n",
    "    # create the cloud-free img using SimpleComposite\n",
    "    Filtered_img = Landsat_img.filterBounds(North_China_Plain)\\\n",
    "                              .filterDate(start,end)\\\n",
    "                              .map(lambda img: min_mask(img))\n",
    "    \n",
    "    cloud_free = ee.Algorithms.Landsat.simpleComposite(Filtered_img)\\\n",
    "                              .clip(North_China_Plain)\n",
    "        \n",
    "    # export\n",
    "#     task = ee.batch.Export.image.toAsset(   image       = cloud_free,\n",
    "#                                             description = f'Exporting {export_name}',\n",
    "#                                             assetId     = f'{asset_path}/{export_name}',\n",
    "#                                             region      = North_China_Plain.geometry(),\n",
    "#                                             scale       = 30,\n",
    "#                                             maxPixels   = int(1e13))\n",
    "#     task.start()\n",
    "    \n",
    "    # print out the process\n",
    "    print(f'Exporting {export_name}')"
   ]
  },
  {
   "cell_type": "code",
   "execution_count": null,
   "metadata": {},
   "outputs": [],
   "source": []
  },
  {
   "cell_type": "markdown",
   "metadata": {},
   "source": [
    "### Step_2: Create Sentinel cloud-free Image"
   ]
  },
  {
   "cell_type": "code",
   "execution_count": null,
   "metadata": {},
   "outputs": [],
   "source": []
  },
  {
   "cell_type": "code",
   "execution_count": 7,
   "metadata": {},
   "outputs": [],
   "source": [
    "# Function to mask clouds using the Sentinel-2 QA band.\n",
    "def maskS2clouds(image):\n",
    "    qa = image.select('QA60')\n",
    "\n",
    "    # Bits 10 and 11 are clouds and cirrus, respectively.\n",
    "    cloudBitMask  = 1 << 10;\n",
    "    cirrusBitMask = 1 << 11;\n",
    "\n",
    "    # Both flags should be set to zero, indicating clear conditions.\n",
    "    mask = qa.bitwiseAnd(cloudBitMask).eq(0).And(qa.bitwiseAnd(cirrusBitMask).eq(0))\n",
    "\n",
    "    # Return the masked and scaled data, without the QA bands.\n",
    "    return image.updateMask(mask)\\\n",
    "                 .select(\"B.*\")\\\n",
    "                 .copyProperties(image, [\"system:time_start\"])"
   ]
  },
  {
   "cell_type": "code",
   "execution_count": null,
   "metadata": {},
   "outputs": [],
   "source": []
  },
  {
   "cell_type": "code",
   "execution_count": 12,
   "metadata": {},
   "outputs": [],
   "source": [
    "# here composite Sentinel-2 multispectrum image of year [2015-2017] for classification of [2014-2016]\n",
    "#            and Sentinel-2 multispectrum image of year [2018-2019] for classification of [2017-2019]\n",
    "# because composition of S2 image at year [2014-2016] are not fully cloud-free\n",
    "\n",
    "Sentinel_year_range = [(\"2018-01-01\",\"2019-12-31\"),(\"2015-01-01\",\"2017-12-31\")]\n",
    "\n",
    "Sentinel_img =  [ee.ImageCollection(\"COPERNICUS/S2\")\\\n",
    "                      .filterBounds(North_China_Plain)\\\n",
    "                      .filterDate(*S_t)\\\n",
    "                      .filter(ee.Filter.lt('CLOUDY_PIXEL_PERCENTAGE', 5))\\\n",
    "                      .map(lambda x: maskS2clouds(x))\\\n",
    "                      .median()\n",
    "                      .clip(North_China_Plain.geometry()) for S_t in Sentinel_year_range] \n",
    "\n",
    "# add 'Sentinel' to each band name of Sentinel img\n",
    "Sentinel_img = [img.rename([f'Sentinel_{band}' for band in  img.bandNames().getInfo()]) for img in Sentinel_img]"
   ]
  },
  {
   "cell_type": "code",
   "execution_count": null,
   "metadata": {},
   "outputs": [],
   "source": []
  },
  {
   "cell_type": "code",
   "execution_count": null,
   "metadata": {},
   "outputs": [],
   "source": []
  },
  {
   "cell_type": "code",
   "execution_count": null,
   "metadata": {},
   "outputs": [],
   "source": [
    "# Export the Sentinel_free image\n",
    "\n",
    "for name,img in zip(['Sentinel_cloud_free_2018_2019','Sentinel_cloud_free_2015_2017'],\n",
    "                    Sentinel_img):\n",
    "\n",
    "    # export\n",
    "    task = ee.batch.Export.image.toAsset(   image       = img,\n",
    "                                            description = f'Exporting {name}',\n",
    "                                            assetId     = f'{asset_path}/{name}',\n",
    "                                            region      = North_China_Plain.geometry(),\n",
    "                                            scale       = 10,\n",
    "                                            maxPixels   = int(1e13))\n",
    "    \n",
    "    # start task\n",
    "    task.start()\n",
    "    \n",
    "    # print out the process\n",
    "    print(f'Exporting {name}')"
   ]
  },
  {
   "cell_type": "code",
   "execution_count": null,
   "metadata": {},
   "outputs": [],
   "source": []
  },
  {
   "cell_type": "code",
   "execution_count": null,
   "metadata": {},
   "outputs": [],
   "source": []
  },
  {
   "cell_type": "code",
   "execution_count": null,
   "metadata": {},
   "outputs": [],
   "source": []
  },
  {
   "cell_type": "code",
   "execution_count": null,
   "metadata": {},
   "outputs": [],
   "source": []
  },
  {
   "cell_type": "code",
   "execution_count": null,
   "metadata": {},
   "outputs": [],
   "source": []
  },
  {
   "cell_type": "code",
   "execution_count": null,
   "metadata": {},
   "outputs": [],
   "source": []
  },
  {
   "cell_type": "code",
   "execution_count": null,
   "metadata": {},
   "outputs": [],
   "source": []
  },
  {
   "cell_type": "code",
   "execution_count": null,
   "metadata": {},
   "outputs": [],
   "source": []
  }
 ],
 "metadata": {
  "kernelspec": {
   "display_name": "Python 3",
   "language": "python",
   "name": "python3"
  },
  "language_info": {
   "codemirror_mode": {
    "name": "ipython",
    "version": 3
   },
   "file_extension": ".py",
   "mimetype": "text/x-python",
   "name": "python",
   "nbconvert_exporter": "python",
   "pygments_lexer": "ipython3",
   "version": "3.7.3"
  }
 },
 "nbformat": 4,
 "nbformat_minor": 2
}
