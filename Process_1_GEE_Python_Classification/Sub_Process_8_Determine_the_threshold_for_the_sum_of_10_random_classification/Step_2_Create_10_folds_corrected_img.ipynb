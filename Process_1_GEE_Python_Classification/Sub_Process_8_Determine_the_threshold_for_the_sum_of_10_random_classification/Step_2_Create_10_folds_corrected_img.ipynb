{
 "cells": [
  {
   "cell_type": "code",
   "execution_count": 1,
   "metadata": {},
   "outputs": [],
   "source": [
    "import ee\n",
    "import datetime\n",
    "import os\n",
    "import itertools\n",
    "import sys\n",
    "import re\n",
    "\n",
    "import pandas as pd\n",
    "import numpy as np\n",
    "\n",
    "import seaborn as sns\n",
    "import matplotlib.pyplot as plt\n",
    "\n",
    "import geemap\n",
    "\n",
    "import subprocess\n",
    "from subprocess import PIPE"
   ]
  },
  {
   "cell_type": "code",
   "execution_count": null,
   "metadata": {},
   "outputs": [],
   "source": []
  },
  {
   "cell_type": "code",
   "execution_count": 2,
   "metadata": {},
   "outputs": [],
   "source": [
    "ee.Initialize()"
   ]
  },
  {
   "cell_type": "code",
   "execution_count": 3,
   "metadata": {},
   "outputs": [],
   "source": [
    "# define basic parameters\n",
    "year_span = [f'{i}_{i+2}' for i in range(1990,2020,3)]"
   ]
  },
  {
   "cell_type": "code",
   "execution_count": null,
   "metadata": {},
   "outputs": [],
   "source": []
  },
  {
   "cell_type": "markdown",
   "metadata": {},
   "source": [
    "##### Get the priliminary classifications"
   ]
  },
  {
   "cell_type": "code",
   "execution_count": 4,
   "metadata": {},
   "outputs": [],
   "source": [
    "# prepare the different input band types\n",
    "in_band_selection =['Spectrum',\n",
    "                    'Spectrum_Normalize',\n",
    "                    'Spectrum_Normalize_Fourier',\n",
    "                    'Spectrum_Normalize_Fourier_Terrain',\n",
    "                    'Spectrum_Normalize_Fourier_Terrain_Meterology']"
   ]
  },
  {
   "cell_type": "code",
   "execution_count": 10,
   "metadata": {},
   "outputs": [],
   "source": [
    "# get the priliminary classifications and select those with a \n",
    "# >5 value in the 10-folds sum, here the 5 threshold comes from\n",
    "# the Step_1 10-folds check of this fold\n",
    "\n",
    "path = 'users/wangjinzhulala/North_China_Plain_Python/classification_img'\n",
    "\n",
    "classification_gt_5 = {}\n",
    "\n",
    "for in_band in in_band_selection:\n",
    "    for year in year_span:\n",
    "    \n",
    "        preliminary_classification = ee.ImageCollection(f'{path}/{in_band}_{year}').sum()\n",
    "        img_gt_5 = preliminary_classification.gt(5)\n",
    "        \n",
    "        classification_gt_5[(in_band,year)] = [img_gt_5]\n",
    "        "
   ]
  },
  {
   "cell_type": "code",
   "execution_count": null,
   "metadata": {},
   "outputs": [],
   "source": []
  },
  {
   "cell_type": "code",
   "execution_count": 15,
   "metadata": {},
   "outputs": [],
   "source": [
    "# store the classification in a df for conviniency\n",
    "classification_gt_5_df = pd.DataFrame(classification_gt_5)\n",
    "\n",
    "# format the df\n",
    "classification_checked = classification_gt_5_df.T.reset_index()\n",
    "classification_checked.columns = ['In bands','year','classification']"
   ]
  },
  {
   "cell_type": "code",
   "execution_count": null,
   "metadata": {},
   "outputs": [],
   "source": []
  },
  {
   "cell_type": "markdown",
   "metadata": {},
   "source": [
    "##### Export the result"
   ]
  },
  {
   "cell_type": "code",
   "execution_count": null,
   "metadata": {},
   "outputs": [],
   "source": []
  },
  {
   "cell_type": "code",
   "execution_count": 20,
   "metadata": {
    "scrolled": true
   },
   "outputs": [
    {
     "name": "stdout",
     "output_type": "stream",
     "text": [
      "Spectrum_1990_1992 has been exported!\n",
      "Spectrum_1993_1995 has been exported!\n",
      "Spectrum_1996_1998 has been exported!\n",
      "Spectrum_1999_2001 has been exported!\n",
      "Spectrum_2002_2004 has been exported!\n",
      "Spectrum_2005_2007 has been exported!\n",
      "Spectrum_2008_2010 has been exported!\n",
      "Spectrum_2011_2013 has been exported!\n",
      "Spectrum_2014_2016 has been exported!\n",
      "Spectrum_2017_2019 has been exported!\n",
      "Spectrum_Normalize_1990_1992 has been exported!\n",
      "Spectrum_Normalize_1993_1995 has been exported!\n",
      "Spectrum_Normalize_1996_1998 has been exported!\n",
      "Spectrum_Normalize_1999_2001 has been exported!\n",
      "Spectrum_Normalize_2002_2004 has been exported!\n",
      "Spectrum_Normalize_2005_2007 has been exported!\n",
      "Spectrum_Normalize_2008_2010 has been exported!\n",
      "Spectrum_Normalize_2011_2013 has been exported!\n",
      "Spectrum_Normalize_2014_2016 has been exported!\n",
      "Spectrum_Normalize_2017_2019 has been exported!\n",
      "Spectrum_Normalize_Fourier_1990_1992 has been exported!\n",
      "Spectrum_Normalize_Fourier_1993_1995 has been exported!\n",
      "Spectrum_Normalize_Fourier_1996_1998 has been exported!\n",
      "Spectrum_Normalize_Fourier_1999_2001 has been exported!\n",
      "Spectrum_Normalize_Fourier_2002_2004 has been exported!\n",
      "Spectrum_Normalize_Fourier_2005_2007 has been exported!\n",
      "Spectrum_Normalize_Fourier_2008_2010 has been exported!\n",
      "Spectrum_Normalize_Fourier_2011_2013 has been exported!\n",
      "Spectrum_Normalize_Fourier_2014_2016 has been exported!\n",
      "Spectrum_Normalize_Fourier_2017_2019 has been exported!\n",
      "Spectrum_Normalize_Fourier_Terrain_1990_1992 has been exported!\n",
      "Spectrum_Normalize_Fourier_Terrain_1993_1995 has been exported!\n",
      "Spectrum_Normalize_Fourier_Terrain_1996_1998 has been exported!\n",
      "Spectrum_Normalize_Fourier_Terrain_1999_2001 has been exported!\n",
      "Spectrum_Normalize_Fourier_Terrain_2002_2004 has been exported!\n",
      "Spectrum_Normalize_Fourier_Terrain_2005_2007 has been exported!\n",
      "Spectrum_Normalize_Fourier_Terrain_2008_2010 has been exported!\n",
      "Spectrum_Normalize_Fourier_Terrain_2011_2013 has been exported!\n",
      "Spectrum_Normalize_Fourier_Terrain_2014_2016 has been exported!\n",
      "Spectrum_Normalize_Fourier_Terrain_2017_2019 has been exported!\n",
      "Spectrum_Normalize_Fourier_Terrain_Meterology_1990_1992 has been exported!\n",
      "Spectrum_Normalize_Fourier_Terrain_Meterology_1993_1995 has been exported!\n",
      "Spectrum_Normalize_Fourier_Terrain_Meterology_1996_1998 has been exported!\n",
      "Spectrum_Normalize_Fourier_Terrain_Meterology_1999_2001 has been exported!\n",
      "Spectrum_Normalize_Fourier_Terrain_Meterology_2002_2004 has been exported!\n",
      "Spectrum_Normalize_Fourier_Terrain_Meterology_2005_2007 has been exported!\n",
      "Spectrum_Normalize_Fourier_Terrain_Meterology_2008_2010 has been exported!\n",
      "Spectrum_Normalize_Fourier_Terrain_Meterology_2011_2013 has been exported!\n",
      "Spectrum_Normalize_Fourier_Terrain_Meterology_2014_2016 has been exported!\n",
      "Spectrum_Normalize_Fourier_Terrain_Meterology_2017_2019 has been exported!\n"
     ]
    }
   ],
   "source": [
    "for idx,row in classification_checked.iterrows():\n",
    "    \n",
    "    out_path = 'users/wangjinzhulala/North_China_Plain_Python/classification_img_10_folds_checkd'\n",
    "    region = ee.FeatureCollection(\"users/wangjinzhulala/North_China_Plain_Python/Boundary_shp/North_China_Plain_Boundary\")\n",
    "    \n",
    "    # get data\n",
    "    in_bands = row[0]\n",
    "    year = row[1]\n",
    "    img = row[2]\n",
    "    \n",
    "    # construct export name\n",
    "    name = f'{in_bands}_{year}'\n",
    "    \n",
    "    # export\n",
    "    task = ee.batch.Export.image.toCloudStorage(\n",
    "                                                image = img,\n",
    "                                                description=name,\n",
    "                                                bucket='north_china_plain',\n",
    "                                                fileNamePrefix=name,\n",
    "                                                region=region.geometry().bounds(),\n",
    "                                                scale=30,\n",
    "                                                maxPixels=int(1e13),\n",
    "                                                skipEmptyTiles=True)\n",
    "    task.start()\n",
    "    \n",
    "    # print out the process\n",
    "    print(f'{name} has been exported!')"
   ]
  },
  {
   "cell_type": "code",
   "execution_count": null,
   "metadata": {},
   "outputs": [],
   "source": []
  },
  {
   "cell_type": "code",
   "execution_count": null,
   "metadata": {},
   "outputs": [],
   "source": []
  },
  {
   "cell_type": "code",
   "execution_count": null,
   "metadata": {},
   "outputs": [],
   "source": []
  },
  {
   "cell_type": "code",
   "execution_count": null,
   "metadata": {},
   "outputs": [],
   "source": []
  },
  {
   "cell_type": "code",
   "execution_count": null,
   "metadata": {},
   "outputs": [],
   "source": []
  },
  {
   "cell_type": "code",
   "execution_count": null,
   "metadata": {},
   "outputs": [],
   "source": []
  },
  {
   "cell_type": "code",
   "execution_count": null,
   "metadata": {},
   "outputs": [],
   "source": []
  },
  {
   "cell_type": "code",
   "execution_count": null,
   "metadata": {},
   "outputs": [],
   "source": []
  },
  {
   "cell_type": "code",
   "execution_count": null,
   "metadata": {},
   "outputs": [],
   "source": []
  },
  {
   "cell_type": "code",
   "execution_count": null,
   "metadata": {},
   "outputs": [],
   "source": []
  },
  {
   "cell_type": "code",
   "execution_count": null,
   "metadata": {},
   "outputs": [],
   "source": []
  },
  {
   "cell_type": "code",
   "execution_count": null,
   "metadata": {},
   "outputs": [],
   "source": []
  },
  {
   "cell_type": "code",
   "execution_count": null,
   "metadata": {},
   "outputs": [],
   "source": []
  },
  {
   "cell_type": "code",
   "execution_count": null,
   "metadata": {},
   "outputs": [],
   "source": []
  },
  {
   "cell_type": "code",
   "execution_count": null,
   "metadata": {},
   "outputs": [],
   "source": []
  },
  {
   "cell_type": "code",
   "execution_count": null,
   "metadata": {},
   "outputs": [],
   "source": []
  }
 ],
 "metadata": {
  "kernelspec": {
   "display_name": "Python 3",
   "language": "python",
   "name": "python3"
  },
  "language_info": {
   "codemirror_mode": {
    "name": "ipython",
    "version": 3
   },
   "file_extension": ".py",
   "mimetype": "text/x-python",
   "name": "python",
   "nbconvert_exporter": "python",
   "pygments_lexer": "ipython3",
   "version": "3.7.3"
  }
 },
 "nbformat": 4,
 "nbformat_minor": 2
}
