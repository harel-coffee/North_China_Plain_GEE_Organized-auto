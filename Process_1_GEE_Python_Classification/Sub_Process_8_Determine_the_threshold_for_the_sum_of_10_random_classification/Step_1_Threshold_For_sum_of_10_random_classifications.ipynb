{
 "cells": [
  {
   "cell_type": "code",
   "execution_count": null,
   "metadata": {},
   "outputs": [],
   "source": []
  },
  {
   "cell_type": "markdown",
   "metadata": {},
   "source": [
    "This Notebook is to find out the optimu threshold to produce the final classification out of<br>\n",
    "10 classifications each with a different training sample\n",
    "\n",
    "Specifically, we:<br>\n",
    "1) sum all 10 classifications to get a image with value from 0 to 10;<br>\n",
    "2) loop through each threshold, conver the pixel >= threshol to 1, others to 0; <br>\n",
    "3) calculate the accuracy"
   ]
  },
  {
   "cell_type": "code",
   "execution_count": null,
   "metadata": {},
   "outputs": [],
   "source": []
  },
  {
   "cell_type": "code",
   "execution_count": null,
   "metadata": {},
   "outputs": [],
   "source": []
  },
  {
   "cell_type": "code",
   "execution_count": null,
   "metadata": {},
   "outputs": [],
   "source": []
  },
  {
   "cell_type": "code",
   "execution_count": null,
   "metadata": {},
   "outputs": [],
   "source": []
  },
  {
   "cell_type": "code",
   "execution_count": null,
   "metadata": {},
   "outputs": [],
   "source": []
  },
  {
   "cell_type": "code",
   "execution_count": 1,
   "metadata": {},
   "outputs": [],
   "source": [
    "import ee\n",
    "import datetime\n",
    "import os\n",
    "import itertools\n",
    "import sys\n",
    "import re\n",
    "\n",
    "import pandas as pd\n",
    "import numpy as np\n",
    "\n",
    "import seaborn as sns\n",
    "import matplotlib.pyplot as plt\n",
    "\n",
    "import geemap\n",
    "\n",
    "import subprocess\n",
    "from subprocess import PIPE"
   ]
  },
  {
   "cell_type": "code",
   "execution_count": 2,
   "metadata": {},
   "outputs": [],
   "source": [
    "ee.Initialize()"
   ]
  },
  {
   "cell_type": "code",
   "execution_count": null,
   "metadata": {},
   "outputs": [],
   "source": []
  },
  {
   "cell_type": "code",
   "execution_count": 3,
   "metadata": {},
   "outputs": [],
   "source": [
    "# define basic parameters\n",
    "year_span = [f'{i}_{i+2}' for i in range(1990,2020,3)]"
   ]
  },
  {
   "cell_type": "code",
   "execution_count": null,
   "metadata": {},
   "outputs": [],
   "source": []
  },
  {
   "cell_type": "markdown",
   "metadata": {},
   "source": [
    "### Step_1: Prepare input classification_img, control_sample, and sample_size"
   ]
  },
  {
   "cell_type": "code",
   "execution_count": null,
   "metadata": {},
   "outputs": [],
   "source": []
  },
  {
   "cell_type": "code",
   "execution_count": 4,
   "metadata": {},
   "outputs": [],
   "source": [
    "# import the untouched control points, which are diveded by a random column with a 101 random state\n",
    "Sample_Landsat  = ee.FeatureCollection(\"users/wangjinzhulala/North_China_Plain_Python/Sample_Points/Control_points\")\\\n",
    "                    .randomColumn('split', 101)\\\n",
    "                    .filterMetadata('split','less_than',0.25)\n",
    "\n",
    "Sample_Sentinel = ee.FeatureCollection(\"users/wangjinzhulala/North_China_Plain_Python/Sample_Points/Sentinel_2017_2019\")\\\n",
    "                    .randomColumn('split', 101)\\\n",
    "                    .filterMetadata('split','less_than',0.25)"
   ]
  },
  {
   "cell_type": "code",
   "execution_count": null,
   "metadata": {},
   "outputs": [],
   "source": []
  },
  {
   "cell_type": "code",
   "execution_count": 5,
   "metadata": {},
   "outputs": [],
   "source": [
    "# import the classified imgs\n",
    "Classified_Landsat_1990_2013  = {f'{year}':( ee.ImageCollection(f\"users/wangjinzhulala/North_China_Plain_Python/classification_img/Spectrum_Normalize_Fourier_Terrain_Meterology_{year}\").sum(),\n",
    "                                                     Sample_Landsat,\n",
    "                                                     Sample_Landsat.size().getInfo())\n",
    "                                 for year in year_span[:-2]}   \n",
    "                                 \n",
    "\n",
    "Classified_Sentinel_2014_2019 = {f'{year}':(ee.ImageCollection(f\"users/wangjinzhulala/North_China_Plain_Python/classification_img/Spectrum_Normalize_Fourier_Terrain_Meterology_{year}\").sum(),\n",
    "                                                    Sample_Sentinel,\n",
    "                                                    Sample_Sentinel.size().getInfo())   \n",
    "                                 for year in year_span[-2:]}\n",
    "\n",
    "\n",
    "# merge two sets of classification together\n",
    "classified_img_sample = Classified_Landsat_1990_2013.copy()\n",
    "classified_img_sample.update(Classified_Sentinel_2014_2019)"
   ]
  },
  {
   "cell_type": "code",
   "execution_count": null,
   "metadata": {},
   "outputs": [],
   "source": []
  },
  {
   "cell_type": "code",
   "execution_count": 6,
   "metadata": {},
   "outputs": [
    {
     "data": {
      "text/html": [
       "<div>\n",
       "<style scoped>\n",
       "    .dataframe tbody tr th:only-of-type {\n",
       "        vertical-align: middle;\n",
       "    }\n",
       "\n",
       "    .dataframe tbody tr th {\n",
       "        vertical-align: top;\n",
       "    }\n",
       "\n",
       "    .dataframe thead th {\n",
       "        text-align: right;\n",
       "    }\n",
       "</style>\n",
       "<table border=\"1\" class=\"dataframe\">\n",
       "  <thead>\n",
       "    <tr style=\"text-align: right;\">\n",
       "      <th></th>\n",
       "      <th>classification_img</th>\n",
       "      <th>sample_pt</th>\n",
       "      <th>sample_size</th>\n",
       "    </tr>\n",
       "  </thead>\n",
       "  <tbody>\n",
       "    <tr>\n",
       "      <th>1990_1992</th>\n",
       "      <td>ee.Image({\\n  \"type\": \"Invocation\",\\n  \"argume...</td>\n",
       "      <td>ee.FeatureCollection({\\n  \"type\": \"Invocation\"...</td>\n",
       "      <td>1980</td>\n",
       "    </tr>\n",
       "    <tr>\n",
       "      <th>1993_1995</th>\n",
       "      <td>ee.Image({\\n  \"type\": \"Invocation\",\\n  \"argume...</td>\n",
       "      <td>ee.FeatureCollection({\\n  \"type\": \"Invocation\"...</td>\n",
       "      <td>1980</td>\n",
       "    </tr>\n",
       "    <tr>\n",
       "      <th>1996_1998</th>\n",
       "      <td>ee.Image({\\n  \"type\": \"Invocation\",\\n  \"argume...</td>\n",
       "      <td>ee.FeatureCollection({\\n  \"type\": \"Invocation\"...</td>\n",
       "      <td>1980</td>\n",
       "    </tr>\n",
       "    <tr>\n",
       "      <th>1999_2001</th>\n",
       "      <td>ee.Image({\\n  \"type\": \"Invocation\",\\n  \"argume...</td>\n",
       "      <td>ee.FeatureCollection({\\n  \"type\": \"Invocation\"...</td>\n",
       "      <td>1980</td>\n",
       "    </tr>\n",
       "    <tr>\n",
       "      <th>2002_2004</th>\n",
       "      <td>ee.Image({\\n  \"type\": \"Invocation\",\\n  \"argume...</td>\n",
       "      <td>ee.FeatureCollection({\\n  \"type\": \"Invocation\"...</td>\n",
       "      <td>1980</td>\n",
       "    </tr>\n",
       "    <tr>\n",
       "      <th>2005_2007</th>\n",
       "      <td>ee.Image({\\n  \"type\": \"Invocation\",\\n  \"argume...</td>\n",
       "      <td>ee.FeatureCollection({\\n  \"type\": \"Invocation\"...</td>\n",
       "      <td>1980</td>\n",
       "    </tr>\n",
       "    <tr>\n",
       "      <th>2008_2010</th>\n",
       "      <td>ee.Image({\\n  \"type\": \"Invocation\",\\n  \"argume...</td>\n",
       "      <td>ee.FeatureCollection({\\n  \"type\": \"Invocation\"...</td>\n",
       "      <td>1980</td>\n",
       "    </tr>\n",
       "    <tr>\n",
       "      <th>2011_2013</th>\n",
       "      <td>ee.Image({\\n  \"type\": \"Invocation\",\\n  \"argume...</td>\n",
       "      <td>ee.FeatureCollection({\\n  \"type\": \"Invocation\"...</td>\n",
       "      <td>1980</td>\n",
       "    </tr>\n",
       "    <tr>\n",
       "      <th>2014_2016</th>\n",
       "      <td>ee.Image({\\n  \"type\": \"Invocation\",\\n  \"argume...</td>\n",
       "      <td>ee.FeatureCollection({\\n  \"type\": \"Invocation\"...</td>\n",
       "      <td>2017</td>\n",
       "    </tr>\n",
       "    <tr>\n",
       "      <th>2017_2019</th>\n",
       "      <td>ee.Image({\\n  \"type\": \"Invocation\",\\n  \"argume...</td>\n",
       "      <td>ee.FeatureCollection({\\n  \"type\": \"Invocation\"...</td>\n",
       "      <td>2017</td>\n",
       "    </tr>\n",
       "  </tbody>\n",
       "</table>\n",
       "</div>"
      ],
      "text/plain": [
       "                                          classification_img  \\\n",
       "1990_1992  ee.Image({\\n  \"type\": \"Invocation\",\\n  \"argume...   \n",
       "1993_1995  ee.Image({\\n  \"type\": \"Invocation\",\\n  \"argume...   \n",
       "1996_1998  ee.Image({\\n  \"type\": \"Invocation\",\\n  \"argume...   \n",
       "1999_2001  ee.Image({\\n  \"type\": \"Invocation\",\\n  \"argume...   \n",
       "2002_2004  ee.Image({\\n  \"type\": \"Invocation\",\\n  \"argume...   \n",
       "2005_2007  ee.Image({\\n  \"type\": \"Invocation\",\\n  \"argume...   \n",
       "2008_2010  ee.Image({\\n  \"type\": \"Invocation\",\\n  \"argume...   \n",
       "2011_2013  ee.Image({\\n  \"type\": \"Invocation\",\\n  \"argume...   \n",
       "2014_2016  ee.Image({\\n  \"type\": \"Invocation\",\\n  \"argume...   \n",
       "2017_2019  ee.Image({\\n  \"type\": \"Invocation\",\\n  \"argume...   \n",
       "\n",
       "                                                   sample_pt sample_size  \n",
       "1990_1992  ee.FeatureCollection({\\n  \"type\": \"Invocation\"...        1980  \n",
       "1993_1995  ee.FeatureCollection({\\n  \"type\": \"Invocation\"...        1980  \n",
       "1996_1998  ee.FeatureCollection({\\n  \"type\": \"Invocation\"...        1980  \n",
       "1999_2001  ee.FeatureCollection({\\n  \"type\": \"Invocation\"...        1980  \n",
       "2002_2004  ee.FeatureCollection({\\n  \"type\": \"Invocation\"...        1980  \n",
       "2005_2007  ee.FeatureCollection({\\n  \"type\": \"Invocation\"...        1980  \n",
       "2008_2010  ee.FeatureCollection({\\n  \"type\": \"Invocation\"...        1980  \n",
       "2011_2013  ee.FeatureCollection({\\n  \"type\": \"Invocation\"...        1980  \n",
       "2014_2016  ee.FeatureCollection({\\n  \"type\": \"Invocation\"...        2017  \n",
       "2017_2019  ee.FeatureCollection({\\n  \"type\": \"Invocation\"...        2017  "
      ]
     },
     "execution_count": 6,
     "metadata": {},
     "output_type": "execute_result"
    }
   ],
   "source": [
    "Input_df = pd.DataFrame(classified_img_sample).T\n",
    "Input_df.columns = ['classification_img','sample_pt','sample_size']\n",
    "Input_df"
   ]
  },
  {
   "cell_type": "code",
   "execution_count": null,
   "metadata": {},
   "outputs": [],
   "source": []
  },
  {
   "cell_type": "markdown",
   "metadata": {},
   "source": [
    "### Step_2: Loop through each threshold and extract classification value to samples for later comparsion"
   ]
  },
  {
   "cell_type": "code",
   "execution_count": null,
   "metadata": {},
   "outputs": [],
   "source": []
  },
  {
   "cell_type": "code",
   "execution_count": 7,
   "metadata": {},
   "outputs": [],
   "source": [
    "Threshold_acc = {}\n",
    "\n",
    "for idx,row in Input_df.iterrows():\n",
    "    \n",
    "    img = row[0]\n",
    "    sample = row[1]\n",
    "    sample_size = row[2]\n",
    "    \n",
    "    for threshold in range(10):\n",
    "    \n",
    "        # apply the threshold to the sum of 10 classifications,rename so we can use Accuracyassement module\n",
    "        img_threshold = img.gt(threshold).rename('classification')\n",
    "\n",
    "        # extract reclassified GAIA pixel value to test_sample\n",
    "        sample_with_value = img_threshold.sampleRegions(collection = sample, \n",
    "                                                        properties = ['Built'], \n",
    "                                                        scale      = 30)\n",
    "\n",
    "        # Put the result into a dict\n",
    "        Threshold_acc[(idx,threshold)] = [sample_with_value,sample_size]"
   ]
  },
  {
   "cell_type": "code",
   "execution_count": null,
   "metadata": {},
   "outputs": [],
   "source": []
  },
  {
   "cell_type": "code",
   "execution_count": 8,
   "metadata": {
    "scrolled": true
   },
   "outputs": [],
   "source": [
    "# formating the dataframe\n",
    "Threshold_acc_df = pd.DataFrame(Threshold_acc).T\n",
    "Threshold_acc_df.reset_index(inplace=True)\n",
    "Threshold_acc_df.columns = ['Year','Threshold','Feature','Sample_size']"
   ]
  },
  {
   "cell_type": "code",
   "execution_count": null,
   "metadata": {},
   "outputs": [],
   "source": []
  },
  {
   "cell_type": "markdown",
   "metadata": {},
   "source": [
    "### Step_3: Calculate the number of correct classified points, then get the accuracy"
   ]
  },
  {
   "cell_type": "code",
   "execution_count": null,
   "metadata": {},
   "outputs": [],
   "source": []
  },
  {
   "cell_type": "code",
   "execution_count": 9,
   "metadata": {},
   "outputs": [
    {
     "data": {
      "text/html": [
       "<div>\n",
       "<style scoped>\n",
       "    .dataframe tbody tr th:only-of-type {\n",
       "        vertical-align: middle;\n",
       "    }\n",
       "\n",
       "    .dataframe tbody tr th {\n",
       "        vertical-align: top;\n",
       "    }\n",
       "\n",
       "    .dataframe thead th {\n",
       "        text-align: right;\n",
       "    }\n",
       "</style>\n",
       "<table border=\"1\" class=\"dataframe\">\n",
       "  <thead>\n",
       "    <tr style=\"text-align: right;\">\n",
       "      <th></th>\n",
       "      <th>Year</th>\n",
       "      <th>Threshold</th>\n",
       "      <th>Feature</th>\n",
       "      <th>Sample_size</th>\n",
       "    </tr>\n",
       "  </thead>\n",
       "  <tbody>\n",
       "    <tr>\n",
       "      <th>0</th>\n",
       "      <td>1990_1992</td>\n",
       "      <td>0</td>\n",
       "      <td>ee.FeatureCollection({\\n  \"type\": \"Invocation\"...</td>\n",
       "      <td>1980</td>\n",
       "    </tr>\n",
       "    <tr>\n",
       "      <th>1</th>\n",
       "      <td>1990_1992</td>\n",
       "      <td>1</td>\n",
       "      <td>ee.FeatureCollection({\\n  \"type\": \"Invocation\"...</td>\n",
       "      <td>1980</td>\n",
       "    </tr>\n",
       "    <tr>\n",
       "      <th>2</th>\n",
       "      <td>1990_1992</td>\n",
       "      <td>2</td>\n",
       "      <td>ee.FeatureCollection({\\n  \"type\": \"Invocation\"...</td>\n",
       "      <td>1980</td>\n",
       "    </tr>\n",
       "    <tr>\n",
       "      <th>3</th>\n",
       "      <td>1990_1992</td>\n",
       "      <td>3</td>\n",
       "      <td>ee.FeatureCollection({\\n  \"type\": \"Invocation\"...</td>\n",
       "      <td>1980</td>\n",
       "    </tr>\n",
       "    <tr>\n",
       "      <th>4</th>\n",
       "      <td>1990_1992</td>\n",
       "      <td>4</td>\n",
       "      <td>ee.FeatureCollection({\\n  \"type\": \"Invocation\"...</td>\n",
       "      <td>1980</td>\n",
       "    </tr>\n",
       "    <tr>\n",
       "      <th>...</th>\n",
       "      <td>...</td>\n",
       "      <td>...</td>\n",
       "      <td>...</td>\n",
       "      <td>...</td>\n",
       "    </tr>\n",
       "    <tr>\n",
       "      <th>95</th>\n",
       "      <td>2017_2019</td>\n",
       "      <td>5</td>\n",
       "      <td>ee.FeatureCollection({\\n  \"type\": \"Invocation\"...</td>\n",
       "      <td>2017</td>\n",
       "    </tr>\n",
       "    <tr>\n",
       "      <th>96</th>\n",
       "      <td>2017_2019</td>\n",
       "      <td>6</td>\n",
       "      <td>ee.FeatureCollection({\\n  \"type\": \"Invocation\"...</td>\n",
       "      <td>2017</td>\n",
       "    </tr>\n",
       "    <tr>\n",
       "      <th>97</th>\n",
       "      <td>2017_2019</td>\n",
       "      <td>7</td>\n",
       "      <td>ee.FeatureCollection({\\n  \"type\": \"Invocation\"...</td>\n",
       "      <td>2017</td>\n",
       "    </tr>\n",
       "    <tr>\n",
       "      <th>98</th>\n",
       "      <td>2017_2019</td>\n",
       "      <td>8</td>\n",
       "      <td>ee.FeatureCollection({\\n  \"type\": \"Invocation\"...</td>\n",
       "      <td>2017</td>\n",
       "    </tr>\n",
       "    <tr>\n",
       "      <th>99</th>\n",
       "      <td>2017_2019</td>\n",
       "      <td>9</td>\n",
       "      <td>ee.FeatureCollection({\\n  \"type\": \"Invocation\"...</td>\n",
       "      <td>2017</td>\n",
       "    </tr>\n",
       "  </tbody>\n",
       "</table>\n",
       "<p>100 rows × 4 columns</p>\n",
       "</div>"
      ],
      "text/plain": [
       "         Year  Threshold                                            Feature  \\\n",
       "0   1990_1992          0  ee.FeatureCollection({\\n  \"type\": \"Invocation\"...   \n",
       "1   1990_1992          1  ee.FeatureCollection({\\n  \"type\": \"Invocation\"...   \n",
       "2   1990_1992          2  ee.FeatureCollection({\\n  \"type\": \"Invocation\"...   \n",
       "3   1990_1992          3  ee.FeatureCollection({\\n  \"type\": \"Invocation\"...   \n",
       "4   1990_1992          4  ee.FeatureCollection({\\n  \"type\": \"Invocation\"...   \n",
       "..        ...        ...                                                ...   \n",
       "95  2017_2019          5  ee.FeatureCollection({\\n  \"type\": \"Invocation\"...   \n",
       "96  2017_2019          6  ee.FeatureCollection({\\n  \"type\": \"Invocation\"...   \n",
       "97  2017_2019          7  ee.FeatureCollection({\\n  \"type\": \"Invocation\"...   \n",
       "98  2017_2019          8  ee.FeatureCollection({\\n  \"type\": \"Invocation\"...   \n",
       "99  2017_2019          9  ee.FeatureCollection({\\n  \"type\": \"Invocation\"...   \n",
       "\n",
       "   Sample_size  \n",
       "0         1980  \n",
       "1         1980  \n",
       "2         1980  \n",
       "3         1980  \n",
       "4         1980  \n",
       "..         ...  \n",
       "95        2017  \n",
       "96        2017  \n",
       "97        2017  \n",
       "98        2017  \n",
       "99        2017  \n",
       "\n",
       "[100 rows x 4 columns]"
      ]
     },
     "execution_count": 9,
     "metadata": {},
     "output_type": "execute_result"
    }
   ],
   "source": [
    "Threshold_acc_df"
   ]
  },
  {
   "cell_type": "code",
   "execution_count": 11,
   "metadata": {
    "scrolled": true
   },
   "outputs": [
    {
     "name": "stdout",
     "output_type": "stream",
     "text": [
      "Compute the correct classified points number of 1990_1992_0 finished\n",
      "Compute the correct classified points number of 1990_1992_1 finished\n",
      "Compute the correct classified points number of 1990_1992_2 finished\n",
      "Compute the correct classified points number of 1990_1992_3 finished\n",
      "Compute the correct classified points number of 1990_1992_4 finished\n",
      "Compute the correct classified points number of 1990_1992_5 finished\n",
      "Compute the correct classified points number of 1990_1992_6 finished\n",
      "Compute the correct classified points number of 1990_1992_7 finished\n",
      "Compute the correct classified points number of 1990_1992_8 finished\n",
      "Compute the correct classified points number of 1990_1992_9 finished\n",
      "Compute the correct classified points number of 1993_1995_0 finished\n",
      "Compute the correct classified points number of 1993_1995_1 finished\n",
      "Compute the correct classified points number of 1993_1995_2 finished\n",
      "Compute the correct classified points number of 1993_1995_3 finished\n",
      "Compute the correct classified points number of 1993_1995_4 finished\n",
      "Compute the correct classified points number of 1993_1995_5 finished\n",
      "Compute the correct classified points number of 1993_1995_6 finished\n",
      "Compute the correct classified points number of 1993_1995_7 finished\n",
      "Compute the correct classified points number of 1993_1995_8 finished\n",
      "Compute the correct classified points number of 1993_1995_9 finished\n",
      "Compute the correct classified points number of 1996_1998_0 finished\n",
      "Compute the correct classified points number of 1996_1998_1 finished\n",
      "Compute the correct classified points number of 1996_1998_2 finished\n",
      "Compute the correct classified points number of 1996_1998_3 finished\n",
      "Compute the correct classified points number of 1996_1998_4 finished\n",
      "Compute the correct classified points number of 1996_1998_5 finished\n",
      "Compute the correct classified points number of 1996_1998_6 finished\n",
      "Compute the correct classified points number of 1996_1998_7 finished\n",
      "Compute the correct classified points number of 1996_1998_8 finished\n",
      "Compute the correct classified points number of 1996_1998_9 finished\n",
      "Compute the correct classified points number of 1999_2001_0 finished\n",
      "Compute the correct classified points number of 1999_2001_1 finished\n",
      "Compute the correct classified points number of 1999_2001_2 finished\n",
      "Compute the correct classified points number of 1999_2001_3 finished\n",
      "Compute the correct classified points number of 1999_2001_4 finished\n",
      "Compute the correct classified points number of 1999_2001_5 finished\n",
      "Compute the correct classified points number of 1999_2001_6 finished\n",
      "Compute the correct classified points number of 1999_2001_7 finished\n",
      "Compute the correct classified points number of 1999_2001_8 finished\n",
      "Compute the correct classified points number of 1999_2001_9 finished\n",
      "Compute the correct classified points number of 2002_2004_0 finished\n",
      "Compute the correct classified points number of 2002_2004_1 finished\n",
      "Compute the correct classified points number of 2002_2004_2 finished\n",
      "Compute the correct classified points number of 2002_2004_3 finished\n",
      "Compute the correct classified points number of 2002_2004_4 finished\n",
      "Compute the correct classified points number of 2002_2004_5 finished\n",
      "Compute the correct classified points number of 2002_2004_6 finished\n",
      "Compute the correct classified points number of 2002_2004_7 finished\n",
      "Compute the correct classified points number of 2002_2004_8 finished\n",
      "Compute the correct classified points number of 2002_2004_9 finished\n",
      "Compute the correct classified points number of 2005_2007_0 finished\n",
      "Compute the correct classified points number of 2005_2007_1 finished\n",
      "Compute the correct classified points number of 2005_2007_2 finished\n",
      "Compute the correct classified points number of 2005_2007_3 finished\n",
      "Compute the correct classified points number of 2005_2007_4 finished\n",
      "Compute the correct classified points number of 2005_2007_5 finished\n",
      "Compute the correct classified points number of 2005_2007_6 finished\n",
      "Compute the correct classified points number of 2005_2007_7 finished\n",
      "Compute the correct classified points number of 2005_2007_8 finished\n",
      "Compute the correct classified points number of 2005_2007_9 finished\n",
      "Compute the correct classified points number of 2008_2010_0 finished\n",
      "Compute the correct classified points number of 2008_2010_1 finished\n",
      "Compute the correct classified points number of 2008_2010_2 finished\n",
      "Compute the correct classified points number of 2008_2010_3 finished\n",
      "Compute the correct classified points number of 2008_2010_4 finished\n",
      "Compute the correct classified points number of 2008_2010_5 finished\n",
      "Compute the correct classified points number of 2008_2010_6 finished\n",
      "Compute the correct classified points number of 2008_2010_7 finished\n",
      "Compute the correct classified points number of 2008_2010_8 finished\n",
      "Compute the correct classified points number of 2008_2010_9 finished\n",
      "Compute the correct classified points number of 2011_2013_0 finished\n",
      "Compute the correct classified points number of 2011_2013_1 finished\n",
      "Compute the correct classified points number of 2011_2013_2 finished\n",
      "Compute the correct classified points number of 2011_2013_3 finished\n",
      "Compute the correct classified points number of 2011_2013_4 finished\n",
      "Compute the correct classified points number of 2011_2013_5 finished\n",
      "Compute the correct classified points number of 2011_2013_6 finished\n",
      "Compute the correct classified points number of 2011_2013_7 finished\n",
      "Compute the correct classified points number of 2011_2013_8 finished\n",
      "Compute the correct classified points number of 2011_2013_9 finished\n",
      "Compute the correct classified points number of 2014_2016_0 finished\n",
      "Compute the correct classified points number of 2014_2016_1 finished\n",
      "Compute the correct classified points number of 2014_2016_2 finished\n",
      "Compute the correct classified points number of 2014_2016_3 finished\n",
      "Compute the correct classified points number of 2014_2016_4 finished\n",
      "Compute the correct classified points number of 2014_2016_5 finished\n",
      "Compute the correct classified points number of 2014_2016_6 finished\n",
      "Compute the correct classified points number of 2014_2016_7 finished\n",
      "Compute the correct classified points number of 2014_2016_8 finished\n",
      "Compute the correct classified points number of 2014_2016_9 finished\n",
      "Compute the correct classified points number of 2017_2019_0 finished\n",
      "Compute the correct classified points number of 2017_2019_1 finished\n",
      "Compute the correct classified points number of 2017_2019_2 finished\n",
      "Compute the correct classified points number of 2017_2019_3 finished\n",
      "Compute the correct classified points number of 2017_2019_4 finished\n",
      "Compute the correct classified points number of 2017_2019_5 finished\n",
      "Compute the correct classified points number of 2017_2019_6 finished\n",
      "Compute the correct classified points number of 2017_2019_7 finished\n",
      "Compute the correct classified points number of 2017_2019_8 finished\n",
      "Compute the correct classified points number of 2017_2019_9 finished\n"
     ]
    }
   ],
   "source": [
    "correct_num_list = []\n",
    "\n",
    "for idx,row in Threshold_acc_df.iterrows():\n",
    "    \n",
    "    # If the 'Built' and 'classification' attribute are same, then it will be a correct classified point\n",
    "    correct_num = row[2].filter(ee.Filter.equals('Built',None,'classification')).size().getInfo()\n",
    "    correct_num_list.append(correct_num)\n",
    "    \n",
    "    print(f'Compute the correct classified points number of {row[0]}_{row[1]} finished')"
   ]
  },
  {
   "cell_type": "code",
   "execution_count": null,
   "metadata": {},
   "outputs": [],
   "source": []
  },
  {
   "cell_type": "code",
   "execution_count": 12,
   "metadata": {
    "scrolled": true
   },
   "outputs": [],
   "source": [
    "# formating the dataframe\n",
    "Threshold_acc_df['Correct_num'] = correct_num_list\n",
    "Threshold_acc_df['Accuracy'] = Threshold_acc_df['Correct_num'] /Threshold_acc_df['Sample_size'] *100\n",
    "Threshold_acc_df['Year'] = Threshold_acc_df['Year'].astype('category')"
   ]
  },
  {
   "cell_type": "code",
   "execution_count": null,
   "metadata": {},
   "outputs": [],
   "source": []
  },
  {
   "cell_type": "code",
   "execution_count": 13,
   "metadata": {},
   "outputs": [],
   "source": [
    "# save df to disk\n",
    "Threshold_acc_df.to_csv('./Result/Threshold_acc_df.csv',index=False)\n",
    "\n",
    "# read data\n",
    "Threshold_acc_df = pd.read_csv('./Result/Threshold_acc_df.csv')\n",
    "\n",
    "# make the threshold categorical so we can make figures\n",
    "Threshold_acc_df['Threshold'] = Threshold_acc_df['Threshold'].astype('category')\n",
    "Threshold_acc_df['Year'] = Threshold_acc_df['Year'].astype('category')"
   ]
  },
  {
   "cell_type": "code",
   "execution_count": null,
   "metadata": {},
   "outputs": [],
   "source": []
  },
  {
   "cell_type": "code",
   "execution_count": null,
   "metadata": {},
   "outputs": [],
   "source": []
  },
  {
   "cell_type": "markdown",
   "metadata": {},
   "source": [
    "##### Observe that the best threshold is 4"
   ]
  },
  {
   "cell_type": "code",
   "execution_count": null,
   "metadata": {},
   "outputs": [],
   "source": []
  },
  {
   "cell_type": "code",
   "execution_count": null,
   "metadata": {},
   "outputs": [],
   "source": []
  },
  {
   "cell_type": "code",
   "execution_count": 14,
   "metadata": {},
   "outputs": [
    {
     "data": {
      "text/plain": [
       "<matplotlib.axes._subplots.AxesSubplot at 0x2a15b26c4e0>"
      ]
     },
     "execution_count": 14,
     "metadata": {},
     "output_type": "execute_result"
    },
    {
     "data": {
      "image/png": "[encoded data removed]",
      "text/plain": [
       "<Figure size 720x432 with 1 Axes>"
      ]
     },
     "metadata": {
      "needs_background": "light"
     },
     "output_type": "display_data"
    }
   ],
   "source": [
    "plt.figure(figsize=(10,6))\n",
    "sns.boxplot(data=Threshold_acc_df,\n",
    "            x='Threshold',\n",
    "            y='Accuracy')"
   ]
  },
  {
   "cell_type": "code",
   "execution_count": null,
   "metadata": {},
   "outputs": [],
   "source": []
  },
  {
   "cell_type": "code",
   "execution_count": null,
   "metadata": {},
   "outputs": [],
   "source": []
  },
  {
   "cell_type": "code",
   "execution_count": 15,
   "metadata": {},
   "outputs": [
    {
     "data": {
      "text/plain": [
       "<matplotlib.axes._subplots.AxesSubplot at 0x2a15b23aeb8>"
      ]
     },
     "execution_count": 15,
     "metadata": {},
     "output_type": "execute_result"
    },
    {
     "data": {
      "image/png": "[encoded data removed]",
      "text/plain": [
       "<Figure size 864x576 with 1 Axes>"
      ]
     },
     "metadata": {
      "needs_background": "light"
     },
     "output_type": "display_data"
    }
   ],
   "source": [
    "plt.figure(figsize=(12,8))\n",
    "sns.lineplot(data=Threshold_acc_df,x='Threshold',y='Accuracy',hue='Year')"
   ]
  },
  {
   "cell_type": "code",
   "execution_count": null,
   "metadata": {},
   "outputs": [],
   "source": []
  },
  {
   "cell_type": "code",
   "execution_count": null,
   "metadata": {},
   "outputs": [],
   "source": []
  },
  {
   "cell_type": "markdown",
   "metadata": {},
   "source": [
    "##### Observe that using the threshold of 4  increses the classification accuracy by 3 or 4 percent, but the increase is not so obvious at the end of years"
   ]
  },
  {
   "cell_type": "code",
   "execution_count": null,
   "metadata": {},
   "outputs": [],
   "source": []
  },
  {
   "cell_type": "markdown",
   "metadata": {},
   "source": [
    "Prepare the original Accuracy df"
   ]
  },
  {
   "cell_type": "code",
   "execution_count": 16,
   "metadata": {},
   "outputs": [],
   "source": [
    "# import the original accuracy df\n",
    "original_acc_landsat  = pd.read_csv('../Sub_Process_7_Classification_on_img/Result/Classification_Accuracy.csv')\n",
    "original_acc_sentinle = pd.read_csv('../Sub_Process_7_Classification_on_img/Result/Classification_Accuracy_landsat_sentinel.csv')"
   ]
  },
  {
   "cell_type": "code",
   "execution_count": null,
   "metadata": {},
   "outputs": [],
   "source": []
  },
  {
   "cell_type": "code",
   "execution_count": 17,
   "metadata": {},
   "outputs": [],
   "source": [
    "# reconstruct the year column so we get the year_range and type\n",
    "original_acc_landsat['type'] = original_acc_landsat['year'].str.split(\"_\",expand=True)[0]\n",
    "original_acc_landsat['year_range'] = original_acc_landsat['year'].str.split(\"_\",expand=True)[[1,2]].agg('_'.join, axis=1)\n",
    "original_acc_landsat = original_acc_landsat[~original_acc_landsat['year'].isin(['Landsat_2014_2016','Landsat_2017_2019'])]\n",
    "\n",
    "original_acc_sentinle['type'] = original_acc_sentinle['year'].str.split(\"_\",expand=True)[0]\n",
    "original_acc_sentinle['year_range'] = original_acc_sentinle['year'].str.split(\"_\",expand=True)[[1,2]].agg('_'.join, axis=1)"
   ]
  },
  {
   "cell_type": "code",
   "execution_count": 18,
   "metadata": {},
   "outputs": [],
   "source": [
    "#  concate the original acc df\n",
    "original_acc = pd.concat([original_acc_landsat,original_acc_sentinle])"
   ]
  },
  {
   "cell_type": "code",
   "execution_count": null,
   "metadata": {},
   "outputs": [],
   "source": []
  },
  {
   "cell_type": "code",
   "execution_count": 19,
   "metadata": {},
   "outputs": [
    {
     "data": {
      "text/html": [
       "<div>\n",
       "<style scoped>\n",
       "    .dataframe tbody tr th:only-of-type {\n",
       "        vertical-align: middle;\n",
       "    }\n",
       "\n",
       "    .dataframe tbody tr th {\n",
       "        vertical-align: top;\n",
       "    }\n",
       "\n",
       "    .dataframe thead th {\n",
       "        text-align: right;\n",
       "    }\n",
       "</style>\n",
       "<table border=\"1\" class=\"dataframe\">\n",
       "  <thead>\n",
       "    <tr style=\"text-align: right;\">\n",
       "      <th></th>\n",
       "      <th>Year</th>\n",
       "      <th>Threshold</th>\n",
       "      <th>Feature</th>\n",
       "      <th>Sample_size</th>\n",
       "      <th>Correct_num</th>\n",
       "      <th>Accuracy</th>\n",
       "    </tr>\n",
       "  </thead>\n",
       "  <tbody>\n",
       "    <tr>\n",
       "      <th>0</th>\n",
       "      <td>1990_1992</td>\n",
       "      <td>0</td>\n",
       "      <td>ee.FeatureCollection({\\n  \"type\": \"Invocation\"...</td>\n",
       "      <td>1980</td>\n",
       "      <td>1909</td>\n",
       "      <td>96.414141</td>\n",
       "    </tr>\n",
       "    <tr>\n",
       "      <th>1</th>\n",
       "      <td>1990_1992</td>\n",
       "      <td>1</td>\n",
       "      <td>ee.FeatureCollection({\\n  \"type\": \"Invocation\"...</td>\n",
       "      <td>1980</td>\n",
       "      <td>1916</td>\n",
       "      <td>96.767677</td>\n",
       "    </tr>\n",
       "    <tr>\n",
       "      <th>2</th>\n",
       "      <td>1990_1992</td>\n",
       "      <td>2</td>\n",
       "      <td>ee.FeatureCollection({\\n  \"type\": \"Invocation\"...</td>\n",
       "      <td>1980</td>\n",
       "      <td>1930</td>\n",
       "      <td>97.474747</td>\n",
       "    </tr>\n",
       "    <tr>\n",
       "      <th>3</th>\n",
       "      <td>1990_1992</td>\n",
       "      <td>3</td>\n",
       "      <td>ee.FeatureCollection({\\n  \"type\": \"Invocation\"...</td>\n",
       "      <td>1980</td>\n",
       "      <td>1938</td>\n",
       "      <td>97.878788</td>\n",
       "    </tr>\n",
       "    <tr>\n",
       "      <th>4</th>\n",
       "      <td>1990_1992</td>\n",
       "      <td>4</td>\n",
       "      <td>ee.FeatureCollection({\\n  \"type\": \"Invocation\"...</td>\n",
       "      <td>1980</td>\n",
       "      <td>1944</td>\n",
       "      <td>98.181818</td>\n",
       "    </tr>\n",
       "    <tr>\n",
       "      <th>...</th>\n",
       "      <td>...</td>\n",
       "      <td>...</td>\n",
       "      <td>...</td>\n",
       "      <td>...</td>\n",
       "      <td>...</td>\n",
       "      <td>...</td>\n",
       "    </tr>\n",
       "    <tr>\n",
       "      <th>95</th>\n",
       "      <td>2017_2019</td>\n",
       "      <td>5</td>\n",
       "      <td>ee.FeatureCollection({\\n  \"type\": \"Invocation\"...</td>\n",
       "      <td>2017</td>\n",
       "      <td>1949</td>\n",
       "      <td>96.628656</td>\n",
       "    </tr>\n",
       "    <tr>\n",
       "      <th>96</th>\n",
       "      <td>2017_2019</td>\n",
       "      <td>6</td>\n",
       "      <td>ee.FeatureCollection({\\n  \"type\": \"Invocation\"...</td>\n",
       "      <td>2017</td>\n",
       "      <td>1945</td>\n",
       "      <td>96.430342</td>\n",
       "    </tr>\n",
       "    <tr>\n",
       "      <th>97</th>\n",
       "      <td>2017_2019</td>\n",
       "      <td>7</td>\n",
       "      <td>ee.FeatureCollection({\\n  \"type\": \"Invocation\"...</td>\n",
       "      <td>2017</td>\n",
       "      <td>1940</td>\n",
       "      <td>96.182449</td>\n",
       "    </tr>\n",
       "    <tr>\n",
       "      <th>98</th>\n",
       "      <td>2017_2019</td>\n",
       "      <td>8</td>\n",
       "      <td>ee.FeatureCollection({\\n  \"type\": \"Invocation\"...</td>\n",
       "      <td>2017</td>\n",
       "      <td>1928</td>\n",
       "      <td>95.587506</td>\n",
       "    </tr>\n",
       "    <tr>\n",
       "      <th>99</th>\n",
       "      <td>2017_2019</td>\n",
       "      <td>9</td>\n",
       "      <td>ee.FeatureCollection({\\n  \"type\": \"Invocation\"...</td>\n",
       "      <td>2017</td>\n",
       "      <td>1920</td>\n",
       "      <td>95.190878</td>\n",
       "    </tr>\n",
       "  </tbody>\n",
       "</table>\n",
       "<p>100 rows × 6 columns</p>\n",
       "</div>"
      ],
      "text/plain": [
       "         Year Threshold                                            Feature  \\\n",
       "0   1990_1992         0  ee.FeatureCollection({\\n  \"type\": \"Invocation\"...   \n",
       "1   1990_1992         1  ee.FeatureCollection({\\n  \"type\": \"Invocation\"...   \n",
       "2   1990_1992         2  ee.FeatureCollection({\\n  \"type\": \"Invocation\"...   \n",
       "3   1990_1992         3  ee.FeatureCollection({\\n  \"type\": \"Invocation\"...   \n",
       "4   1990_1992         4  ee.FeatureCollection({\\n  \"type\": \"Invocation\"...   \n",
       "..        ...       ...                                                ...   \n",
       "95  2017_2019         5  ee.FeatureCollection({\\n  \"type\": \"Invocation\"...   \n",
       "96  2017_2019         6  ee.FeatureCollection({\\n  \"type\": \"Invocation\"...   \n",
       "97  2017_2019         7  ee.FeatureCollection({\\n  \"type\": \"Invocation\"...   \n",
       "98  2017_2019         8  ee.FeatureCollection({\\n  \"type\": \"Invocation\"...   \n",
       "99  2017_2019         9  ee.FeatureCollection({\\n  \"type\": \"Invocation\"...   \n",
       "\n",
       "    Sample_size  Correct_num   Accuracy  \n",
       "0          1980         1909  96.414141  \n",
       "1          1980         1916  96.767677  \n",
       "2          1980         1930  97.474747  \n",
       "3          1980         1938  97.878788  \n",
       "4          1980         1944  98.181818  \n",
       "..          ...          ...        ...  \n",
       "95         2017         1949  96.628656  \n",
       "96         2017         1945  96.430342  \n",
       "97         2017         1940  96.182449  \n",
       "98         2017         1928  95.587506  \n",
       "99         2017         1920  95.190878  \n",
       "\n",
       "[100 rows x 6 columns]"
      ]
     },
     "execution_count": 19,
     "metadata": {},
     "output_type": "execute_result"
    }
   ],
   "source": [
    "Threshold_acc_df"
   ]
  },
  {
   "cell_type": "code",
   "execution_count": null,
   "metadata": {},
   "outputs": [],
   "source": []
  },
  {
   "cell_type": "markdown",
   "metadata": {},
   "source": [
    "Prepare the threshold df"
   ]
  },
  {
   "cell_type": "code",
   "execution_count": null,
   "metadata": {},
   "outputs": [],
   "source": []
  },
  {
   "cell_type": "code",
   "execution_count": 20,
   "metadata": {},
   "outputs": [],
   "source": [
    "Threshold_acc = Threshold_acc_df[Threshold_acc_df['Threshold']==4].copy()\n",
    "\n",
    "Threshold_acc['type'] = Threshold_acc['Year'].str.split(\"_\",expand=True)[0]\n",
    "Threshold_acc['year_range'] = Threshold_acc['Year']"
   ]
  },
  {
   "cell_type": "code",
   "execution_count": 21,
   "metadata": {},
   "outputs": [
    {
     "data": {
      "text/html": [
       "<div>\n",
       "<style scoped>\n",
       "    .dataframe tbody tr th:only-of-type {\n",
       "        vertical-align: middle;\n",
       "    }\n",
       "\n",
       "    .dataframe tbody tr th {\n",
       "        vertical-align: top;\n",
       "    }\n",
       "\n",
       "    .dataframe thead th {\n",
       "        text-align: right;\n",
       "    }\n",
       "</style>\n",
       "<table border=\"1\" class=\"dataframe\">\n",
       "  <thead>\n",
       "    <tr style=\"text-align: right;\">\n",
       "      <th></th>\n",
       "      <th>Year</th>\n",
       "      <th>Threshold</th>\n",
       "      <th>Feature</th>\n",
       "      <th>Sample_size</th>\n",
       "      <th>Correct_num</th>\n",
       "      <th>Accuracy</th>\n",
       "      <th>type</th>\n",
       "      <th>year_range</th>\n",
       "    </tr>\n",
       "  </thead>\n",
       "  <tbody>\n",
       "    <tr>\n",
       "      <th>4</th>\n",
       "      <td>1990_1992</td>\n",
       "      <td>4</td>\n",
       "      <td>ee.FeatureCollection({\\n  \"type\": \"Invocation\"...</td>\n",
       "      <td>1980</td>\n",
       "      <td>1944</td>\n",
       "      <td>98.181818</td>\n",
       "      <td>1990</td>\n",
       "      <td>1990_1992</td>\n",
       "    </tr>\n",
       "    <tr>\n",
       "      <th>14</th>\n",
       "      <td>1993_1995</td>\n",
       "      <td>4</td>\n",
       "      <td>ee.FeatureCollection({\\n  \"type\": \"Invocation\"...</td>\n",
       "      <td>1980</td>\n",
       "      <td>1929</td>\n",
       "      <td>97.424242</td>\n",
       "      <td>1993</td>\n",
       "      <td>1993_1995</td>\n",
       "    </tr>\n",
       "    <tr>\n",
       "      <th>24</th>\n",
       "      <td>1996_1998</td>\n",
       "      <td>4</td>\n",
       "      <td>ee.FeatureCollection({\\n  \"type\": \"Invocation\"...</td>\n",
       "      <td>1980</td>\n",
       "      <td>1923</td>\n",
       "      <td>97.121212</td>\n",
       "      <td>1996</td>\n",
       "      <td>1996_1998</td>\n",
       "    </tr>\n",
       "    <tr>\n",
       "      <th>34</th>\n",
       "      <td>1999_2001</td>\n",
       "      <td>4</td>\n",
       "      <td>ee.FeatureCollection({\\n  \"type\": \"Invocation\"...</td>\n",
       "      <td>1980</td>\n",
       "      <td>1928</td>\n",
       "      <td>97.373737</td>\n",
       "      <td>1999</td>\n",
       "      <td>1999_2001</td>\n",
       "    </tr>\n",
       "    <tr>\n",
       "      <th>44</th>\n",
       "      <td>2002_2004</td>\n",
       "      <td>4</td>\n",
       "      <td>ee.FeatureCollection({\\n  \"type\": \"Invocation\"...</td>\n",
       "      <td>1980</td>\n",
       "      <td>1938</td>\n",
       "      <td>97.878788</td>\n",
       "      <td>2002</td>\n",
       "      <td>2002_2004</td>\n",
       "    </tr>\n",
       "    <tr>\n",
       "      <th>54</th>\n",
       "      <td>2005_2007</td>\n",
       "      <td>4</td>\n",
       "      <td>ee.FeatureCollection({\\n  \"type\": \"Invocation\"...</td>\n",
       "      <td>1980</td>\n",
       "      <td>1937</td>\n",
       "      <td>97.828283</td>\n",
       "      <td>2005</td>\n",
       "      <td>2005_2007</td>\n",
       "    </tr>\n",
       "    <tr>\n",
       "      <th>64</th>\n",
       "      <td>2008_2010</td>\n",
       "      <td>4</td>\n",
       "      <td>ee.FeatureCollection({\\n  \"type\": \"Invocation\"...</td>\n",
       "      <td>1980</td>\n",
       "      <td>1919</td>\n",
       "      <td>96.919192</td>\n",
       "      <td>2008</td>\n",
       "      <td>2008_2010</td>\n",
       "    </tr>\n",
       "    <tr>\n",
       "      <th>74</th>\n",
       "      <td>2011_2013</td>\n",
       "      <td>4</td>\n",
       "      <td>ee.FeatureCollection({\\n  \"type\": \"Invocation\"...</td>\n",
       "      <td>1980</td>\n",
       "      <td>1929</td>\n",
       "      <td>97.424242</td>\n",
       "      <td>2011</td>\n",
       "      <td>2011_2013</td>\n",
       "    </tr>\n",
       "    <tr>\n",
       "      <th>84</th>\n",
       "      <td>2014_2016</td>\n",
       "      <td>4</td>\n",
       "      <td>ee.FeatureCollection({\\n  \"type\": \"Invocation\"...</td>\n",
       "      <td>2017</td>\n",
       "      <td>1954</td>\n",
       "      <td>96.876549</td>\n",
       "      <td>2014</td>\n",
       "      <td>2014_2016</td>\n",
       "    </tr>\n",
       "    <tr>\n",
       "      <th>94</th>\n",
       "      <td>2017_2019</td>\n",
       "      <td>4</td>\n",
       "      <td>ee.FeatureCollection({\\n  \"type\": \"Invocation\"...</td>\n",
       "      <td>2017</td>\n",
       "      <td>1945</td>\n",
       "      <td>96.430342</td>\n",
       "      <td>2017</td>\n",
       "      <td>2017_2019</td>\n",
       "    </tr>\n",
       "  </tbody>\n",
       "</table>\n",
       "</div>"
      ],
      "text/plain": [
       "         Year Threshold                                            Feature  \\\n",
       "4   1990_1992         4  ee.FeatureCollection({\\n  \"type\": \"Invocation\"...   \n",
       "14  1993_1995         4  ee.FeatureCollection({\\n  \"type\": \"Invocation\"...   \n",
       "24  1996_1998         4  ee.FeatureCollection({\\n  \"type\": \"Invocation\"...   \n",
       "34  1999_2001         4  ee.FeatureCollection({\\n  \"type\": \"Invocation\"...   \n",
       "44  2002_2004         4  ee.FeatureCollection({\\n  \"type\": \"Invocation\"...   \n",
       "54  2005_2007         4  ee.FeatureCollection({\\n  \"type\": \"Invocation\"...   \n",
       "64  2008_2010         4  ee.FeatureCollection({\\n  \"type\": \"Invocation\"...   \n",
       "74  2011_2013         4  ee.FeatureCollection({\\n  \"type\": \"Invocation\"...   \n",
       "84  2014_2016         4  ee.FeatureCollection({\\n  \"type\": \"Invocation\"...   \n",
       "94  2017_2019         4  ee.FeatureCollection({\\n  \"type\": \"Invocation\"...   \n",
       "\n",
       "    Sample_size  Correct_num   Accuracy  type year_range  \n",
       "4          1980         1944  98.181818  1990  1990_1992  \n",
       "14         1980         1929  97.424242  1993  1993_1995  \n",
       "24         1980         1923  97.121212  1996  1996_1998  \n",
       "34         1980         1928  97.373737  1999  1999_2001  \n",
       "44         1980         1938  97.878788  2002  2002_2004  \n",
       "54         1980         1937  97.828283  2005  2005_2007  \n",
       "64         1980         1919  96.919192  2008  2008_2010  \n",
       "74         1980         1929  97.424242  2011  2011_2013  \n",
       "84         2017         1954  96.876549  2014  2014_2016  \n",
       "94         2017         1945  96.430342  2017  2017_2019  "
      ]
     },
     "execution_count": 21,
     "metadata": {},
     "output_type": "execute_result"
    }
   ],
   "source": [
    "Threshold_acc"
   ]
  },
  {
   "cell_type": "code",
   "execution_count": null,
   "metadata": {},
   "outputs": [],
   "source": []
  },
  {
   "cell_type": "code",
   "execution_count": null,
   "metadata": {},
   "outputs": [],
   "source": []
  },
  {
   "cell_type": "code",
   "execution_count": 22,
   "metadata": {},
   "outputs": [
    {
     "data": {
      "text/plain": [
       "<matplotlib.axes._subplots.AxesSubplot at 0x2a15ba8b0f0>"
      ]
     },
     "execution_count": 22,
     "metadata": {},
     "output_type": "execute_result"
    },
    {
     "data": {
      "image/png": "[encoded data removed]",
      "text/plain": [
       "<Figure size 720x432 with 1 Axes>"
      ]
     },
     "metadata": {
      "needs_background": "light"
     },
     "output_type": "display_data"
    }
   ],
   "source": [
    "plt.figure(figsize=(10,6))\n",
    "plt.xticks(rotation=25)\n",
    "\n",
    "sns.lineplot(data = original_acc,\n",
    "             x ='year_range',\n",
    "             y ='Overall_ACC',label='Original Acc')\n",
    "\n",
    "sns.lineplot(data =Threshold_acc,\n",
    "             x ='year_range',\n",
    "             y ='Accuracy',label='Threshold Selection')"
   ]
  },
  {
   "cell_type": "code",
   "execution_count": null,
   "metadata": {},
   "outputs": [],
   "source": []
  },
  {
   "cell_type": "code",
   "execution_count": null,
   "metadata": {},
   "outputs": [],
   "source": []
  },
  {
   "cell_type": "code",
   "execution_count": null,
   "metadata": {},
   "outputs": [],
   "source": []
  }
 ],
 "metadata": {
  "kernelspec": {
   "display_name": "Python 3",
   "language": "python",
   "name": "python3"
  },
  "language_info": {
   "codemirror_mode": {
    "name": "ipython",
    "version": 3
   },
   "file_extension": ".py",
   "mimetype": "text/x-python",
   "name": "python",
   "nbconvert_exporter": "python",
   "pygments_lexer": "ipython3",
   "version": "3.7.3"
  }
 },
 "nbformat": 4,
 "nbformat_minor": 2
}
