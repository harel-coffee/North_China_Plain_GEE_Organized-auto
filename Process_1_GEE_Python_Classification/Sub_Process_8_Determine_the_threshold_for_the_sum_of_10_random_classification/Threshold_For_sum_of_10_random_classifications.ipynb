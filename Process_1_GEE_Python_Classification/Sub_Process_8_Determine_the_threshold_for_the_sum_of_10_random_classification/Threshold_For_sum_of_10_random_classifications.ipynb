{
 "cells": [
  {
   "cell_type": "code",
   "execution_count": 2,
   "metadata": {},
   "outputs": [],
   "source": [
    "import ee\n",
    "import datetime\n",
    "import os\n",
    "import itertools\n",
    "import sys\n",
    "import re\n",
    "\n",
    "import pandas as pd\n",
    "import numpy as np\n",
    "\n",
    "import seaborn as sns\n",
    "import matplotlib.pyplot as plt\n",
    "\n",
    "import geemap\n",
    "\n",
    "import subprocess\n",
    "from subprocess import PIPE"
   ]
  },
  {
   "cell_type": "code",
   "execution_count": 3,
   "metadata": {},
   "outputs": [],
   "source": [
    "ee.Initialize()"
   ]
  },
  {
   "cell_type": "code",
   "execution_count": 4,
   "metadata": {},
   "outputs": [],
   "source": [
    "# append upper folder into sys-path during run time so we can\n",
    "# import our own moduls\n",
    "sys.path.append('..')"
   ]
  },
  {
   "cell_type": "code",
   "execution_count": 5,
   "metadata": {},
   "outputs": [],
   "source": [
    "from BackGround_modules.Class_2_Classify_Fourier_Img   import Classification\n",
    "from BackGround_modules.Class_3_Calculate_the_accuracy import Accuracy_assesment"
   ]
  },
  {
   "cell_type": "code",
   "execution_count": null,
   "metadata": {},
   "outputs": [],
   "source": []
  },
  {
   "cell_type": "code",
   "execution_count": 19,
   "metadata": {},
   "outputs": [],
   "source": [
    "# define basic parameters\n",
    "year_span = [f'{i}_{i+2}' for i in range(1990,2020,3)]\n",
    "\n",
    "# fetch the control_sample\n",
    "Control_sample = ee.FeatureCollection(\"users/wangjinzhulala/North_China_Plain_Python/Sample_Points/Control_points\")"
   ]
  },
  {
   "cell_type": "code",
   "execution_count": null,
   "metadata": {},
   "outputs": [],
   "source": []
  },
  {
   "cell_type": "code",
   "execution_count": 64,
   "metadata": {},
   "outputs": [],
   "source": [
    "# import the classified imgs\n",
    "Classified_Landsat_1990_2019  = {f'Landsat_{year}': ee.ImageCollection(f\"users/wangjinzhulala/North_China_Plain_Python/classification_img/Control_{year}\").sum()\n",
    "                                for year in year_span}   \n",
    "                                 \n",
    "\n",
    "Classified_Sentinel_2014_2019 = {f'Sentinel_{year}':ee.ImageCollection(f\"users/wangjinzhulala/North_China_Plain_Python/classification_img/Sentinel_Landsat_{year}\").sum()   \n",
    "                                 for year in year_span[-2:]}\n",
    "\n",
    "\n",
    "# merge two sets of classification together\n",
    "classified_imgs = Classified_Landsat_1990_2019\n",
    "classified_imgs.update(Classified_Sentinel_2014_2019)"
   ]
  },
  {
   "cell_type": "code",
   "execution_count": null,
   "metadata": {},
   "outputs": [],
   "source": []
  },
  {
   "cell_type": "code",
   "execution_count": null,
   "metadata": {},
   "outputs": [],
   "source": []
  },
  {
   "cell_type": "code",
   "execution_count": null,
   "metadata": {},
   "outputs": [],
   "source": []
  },
  {
   "cell_type": "markdown",
   "metadata": {},
   "source": [
    "### Step_1: split control sample and sum up the 10 classifications"
   ]
  },
  {
   "cell_type": "code",
   "execution_count": 12,
   "metadata": {},
   "outputs": [],
   "source": [
    "# create a function to split control sample\n",
    "\n",
    "# Note this function is the same to the split process in [Classification] class\n",
    "# so we will get the same train/test split result if given the same seed.\n",
    "\n",
    "def sample_split(Verified_point_all,seed):\n",
    "\n",
    "    # Divede sample into built and non-built\n",
    "    Verified_point_Built     =  Verified_point_all.filterMetadata('Built','equals',1)\n",
    "    Verified_point_non_Built =  Verified_point_all.filterMetadata('Built','equals',0)\n",
    "\n",
    "    # 70/30 Train/Test split on built/non-built points.\n",
    "    Verified_built_pts_randomcolumn     = Verified_point_Built\\\n",
    "                                          .randomColumn(columnName = 'random',seed = seed) \n",
    "    Verified_non_built_pts_randomcolumn = Verified_point_non_Built\\\n",
    "                                          .randomColumn(columnName = 'random',seed = seed)\n",
    "\n",
    "\n",
    "    Vetified_built_pts_train     = Verified_built_pts_randomcolumn\\\n",
    "                                   .filterMetadata('random',\"greater_than\",0.3)\n",
    "    Vetified_built_pts_test      = Verified_built_pts_randomcolumn\\\n",
    "                                   .filterMetadata('random',\"not_greater_than\",0.3) \n",
    "\n",
    "    Vetified_non_built_pts_train = Verified_non_built_pts_randomcolumn\\\n",
    "                                  .filterMetadata('random','greater_than',0.3)\n",
    "    Vetified_non_built_pts_test  = Verified_non_built_pts_randomcolumn\\\n",
    "                                  .filterMetadata('random','not_greater_than',0.3) \n",
    "\n",
    "    # Merge train/test datasets respectively.\n",
    "    Verified_pts_train = Vetified_built_pts_train.merge(Vetified_non_built_pts_train)\n",
    "    Verified_pts_test  = Vetified_built_pts_test.merge(Vetified_non_built_pts_test)\n",
    "    \n",
    "    return Verified_pts_test"
   ]
  },
  {
   "cell_type": "code",
   "execution_count": null,
   "metadata": {},
   "outputs": [],
   "source": []
  },
  {
   "cell_type": "code",
   "execution_count": 31,
   "metadata": {},
   "outputs": [],
   "source": [
    "# there set seed to range(10), which is the same to the classification process\n",
    "# so we can get the same test points.\n",
    "\n",
    "test_sample = sample_split(Control_sample,i) for i in range(10)"
   ]
  },
  {
   "cell_type": "code",
   "execution_count": 69,
   "metadata": {},
   "outputs": [
    {
     "data": {
      "text/plain": [
       "{'Landsat_1990_1992': <ee.image.Image at 0x2acfc018c88>,\n",
       " 'Landsat_1993_1995': <ee.image.Image at 0x2acfc018470>,\n",
       " 'Landsat_1996_1998': <ee.image.Image at 0x2acfc018eb8>,\n",
       " 'Landsat_1999_2001': <ee.image.Image at 0x2acfc0188d0>,\n",
       " 'Landsat_2002_2004': <ee.image.Image at 0x2acfc0180f0>,\n",
       " 'Landsat_2005_2007': <ee.image.Image at 0x2acfc018278>,\n",
       " 'Landsat_2008_2010': <ee.image.Image at 0x2acfad9a828>,\n",
       " 'Landsat_2011_2013': <ee.image.Image at 0x2acfadced68>,\n",
       " 'Landsat_2014_2016': <ee.image.Image at 0x2acfc05b978>,\n",
       " 'Landsat_2017_2019': <ee.image.Image at 0x2acfae1bb70>,\n",
       " 'Sentinel_2014_2016': <ee.image.Image at 0x2acfae1b080>,\n",
       " 'Sentinel_2017_2019': <ee.image.Image at 0x2acfc2885c0>}"
      ]
     },
     "execution_count": 69,
     "metadata": {},
     "output_type": "execute_result"
    }
   ],
   "source": [
    "classified_imgs"
   ]
  },
  {
   "cell_type": "code",
   "execution_count": null,
   "metadata": {},
   "outputs": [],
   "source": []
  },
  {
   "cell_type": "code",
   "execution_count": 70,
   "metadata": {
    "scrolled": true
   },
   "outputs": [
    {
     "name": "stdout",
     "output_type": "stream",
     "text": [
      "Accuracy computation of Landsat_1990_1992-1-0 complete!  ==> 1/1200\n",
      "Accuracy computation of Landsat_1990_1992-2-0 complete!  ==> 2/1200\n",
      "Accuracy computation of Landsat_1990_1992-3-0 complete!  ==> 3/1200\n",
      "Accuracy computation of Landsat_1990_1992-4-0 complete!  ==> 4/1200\n",
      "Accuracy computation of Landsat_1990_1992-5-0 complete!  ==> 5/1200\n",
      "Accuracy computation of Landsat_1990_1992-6-0 complete!  ==> 6/1200\n",
      "Accuracy computation of Landsat_1990_1992-7-0 complete!  ==> 7/1200\n",
      "Accuracy computation of Landsat_1990_1992-8-0 complete!  ==> 8/1200\n",
      "Accuracy computation of Landsat_1990_1992-9-0 complete!  ==> 9/1200\n"
     ]
    },
    {
     "name": "stderr",
     "output_type": "stream",
     "text": [
      "..\\BackGround_modules\\Class_3_Calculate_the_accuracy.py:82: RuntimeWarning: invalid value encountered in true_divide\n",
      "  precision_acc = np.diag(self.error_matrix)/np.sum(self.error_matrix,axis=0)\n"
     ]
    },
    {
     "name": "stdout",
     "output_type": "stream",
     "text": [
      "Accuracy computation of Landsat_1990_1992-10-0 complete!  ==> 10/1200\n",
      "Accuracy computation of Landsat_1990_1992-1-1 complete!  ==> 11/1200\n",
      "Accuracy computation of Landsat_1990_1992-2-1 complete!  ==> 12/1200\n",
      "Accuracy computation of Landsat_1990_1992-3-1 complete!  ==> 13/1200\n",
      "Accuracy computation of Landsat_1990_1992-4-1 complete!  ==> 14/1200\n",
      "Accuracy computation of Landsat_1990_1992-5-1 complete!  ==> 15/1200\n",
      "Accuracy computation of Landsat_1990_1992-6-1 complete!  ==> 16/1200\n",
      "Accuracy computation of Landsat_1990_1992-7-1 complete!  ==> 17/1200\n",
      "Accuracy computation of Landsat_1990_1992-8-1 complete!  ==> 18/1200\n",
      "Accuracy computation of Landsat_1990_1992-9-1 complete!  ==> 19/1200\n",
      "Accuracy computation of Landsat_1990_1992-10-1 complete!  ==> 20/1200\n",
      "Accuracy computation of Landsat_1990_1992-1-2 complete!  ==> 21/1200\n",
      "Accuracy computation of Landsat_1990_1992-2-2 complete!  ==> 22/1200\n",
      "Accuracy computation of Landsat_1990_1992-3-2 complete!  ==> 23/1200\n",
      "Accuracy computation of Landsat_1990_1992-4-2 complete!  ==> 24/1200\n",
      "Accuracy computation of Landsat_1990_1992-5-2 complete!  ==> 25/1200\n",
      "Accuracy computation of Landsat_1990_1992-6-2 complete!  ==> 26/1200\n",
      "Accuracy computation of Landsat_1990_1992-7-2 complete!  ==> 27/1200\n",
      "Accuracy computation of Landsat_1990_1992-8-2 complete!  ==> 28/1200\n",
      "Accuracy computation of Landsat_1990_1992-9-2 complete!  ==> 29/1200\n",
      "Accuracy computation of Landsat_1990_1992-10-2 complete!  ==> 30/1200\n",
      "Accuracy computation of Landsat_1990_1992-1-3 complete!  ==> 31/1200\n",
      "Accuracy computation of Landsat_1990_1992-2-3 complete!  ==> 32/1200\n",
      "Accuracy computation of Landsat_1990_1992-3-3 complete!  ==> 33/1200\n",
      "Accuracy computation of Landsat_1990_1992-4-3 complete!  ==> 34/1200\n",
      "Accuracy computation of Landsat_1990_1992-5-3 complete!  ==> 35/1200\n",
      "Accuracy computation of Landsat_1990_1992-6-3 complete!  ==> 36/1200\n",
      "Accuracy computation of Landsat_1990_1992-7-3 complete!  ==> 37/1200\n",
      "Accuracy computation of Landsat_1990_1992-8-3 complete!  ==> 38/1200\n",
      "Accuracy computation of Landsat_1990_1992-9-3 complete!  ==> 39/1200\n",
      "Accuracy computation of Landsat_1990_1992-10-3 complete!  ==> 40/1200\n",
      "Accuracy computation of Landsat_1990_1992-1-4 complete!  ==> 41/1200\n",
      "Accuracy computation of Landsat_1990_1992-2-4 complete!  ==> 42/1200\n",
      "Accuracy computation of Landsat_1990_1992-3-4 complete!  ==> 43/1200\n",
      "Accuracy computation of Landsat_1990_1992-4-4 complete!  ==> 44/1200\n",
      "Accuracy computation of Landsat_1990_1992-5-4 complete!  ==> 45/1200\n",
      "Accuracy computation of Landsat_1990_1992-6-4 complete!  ==> 46/1200\n",
      "Accuracy computation of Landsat_1990_1992-7-4 complete!  ==> 47/1200\n",
      "Accuracy computation of Landsat_1990_1992-8-4 complete!  ==> 48/1200\n",
      "Accuracy computation of Landsat_1990_1992-9-4 complete!  ==> 49/1200\n",
      "Accuracy computation of Landsat_1990_1992-10-4 complete!  ==> 50/1200\n",
      "Accuracy computation of Landsat_1990_1992-1-5 complete!  ==> 51/1200\n",
      "Accuracy computation of Landsat_1990_1992-2-5 complete!  ==> 52/1200\n",
      "Accuracy computation of Landsat_1990_1992-3-5 complete!  ==> 53/1200\n",
      "Accuracy computation of Landsat_1990_1992-4-5 complete!  ==> 54/1200\n",
      "Accuracy computation of Landsat_1990_1992-5-5 complete!  ==> 55/1200\n",
      "Accuracy computation of Landsat_1990_1992-6-5 complete!  ==> 56/1200\n",
      "Accuracy computation of Landsat_1990_1992-7-5 complete!  ==> 57/1200\n",
      "Accuracy computation of Landsat_1990_1992-8-5 complete!  ==> 58/1200\n",
      "Accuracy computation of Landsat_1990_1992-9-5 complete!  ==> 59/1200\n",
      "Accuracy computation of Landsat_1990_1992-10-5 complete!  ==> 60/1200\n",
      "Accuracy computation of Landsat_1990_1992-1-6 complete!  ==> 61/1200\n",
      "Accuracy computation of Landsat_1990_1992-2-6 complete!  ==> 62/1200\n",
      "Accuracy computation of Landsat_1990_1992-3-6 complete!  ==> 63/1200\n",
      "Accuracy computation of Landsat_1990_1992-4-6 complete!  ==> 64/1200\n",
      "Accuracy computation of Landsat_1990_1992-5-6 complete!  ==> 65/1200\n",
      "Accuracy computation of Landsat_1990_1992-6-6 complete!  ==> 66/1200\n",
      "Accuracy computation of Landsat_1990_1992-7-6 complete!  ==> 67/1200\n",
      "Accuracy computation of Landsat_1990_1992-8-6 complete!  ==> 68/1200\n",
      "Accuracy computation of Landsat_1990_1992-9-6 complete!  ==> 69/1200\n",
      "Accuracy computation of Landsat_1990_1992-10-6 complete!  ==> 70/1200\n",
      "Accuracy computation of Landsat_1990_1992-1-7 complete!  ==> 71/1200\n",
      "Accuracy computation of Landsat_1990_1992-2-7 complete!  ==> 72/1200\n",
      "Accuracy computation of Landsat_1990_1992-3-7 complete!  ==> 73/1200\n",
      "Accuracy computation of Landsat_1990_1992-4-7 complete!  ==> 74/1200\n",
      "Accuracy computation of Landsat_1990_1992-5-7 complete!  ==> 75/1200\n",
      "Accuracy computation of Landsat_1990_1992-6-7 complete!  ==> 76/1200\n",
      "Accuracy computation of Landsat_1990_1992-7-7 complete!  ==> 77/1200\n",
      "Accuracy computation of Landsat_1990_1992-8-7 complete!  ==> 78/1200\n",
      "Accuracy computation of Landsat_1990_1992-9-7 complete!  ==> 79/1200\n",
      "Accuracy computation of Landsat_1990_1992-10-7 complete!  ==> 80/1200\n",
      "Accuracy computation of Landsat_1990_1992-1-8 complete!  ==> 81/1200\n",
      "Accuracy computation of Landsat_1990_1992-2-8 complete!  ==> 82/1200\n",
      "Accuracy computation of Landsat_1990_1992-3-8 complete!  ==> 83/1200\n",
      "Accuracy computation of Landsat_1990_1992-4-8 complete!  ==> 84/1200\n",
      "Accuracy computation of Landsat_1990_1992-5-8 complete!  ==> 85/1200\n",
      "Accuracy computation of Landsat_1990_1992-6-8 complete!  ==> 86/1200\n",
      "Accuracy computation of Landsat_1990_1992-7-8 complete!  ==> 87/1200\n",
      "Accuracy computation of Landsat_1990_1992-8-8 complete!  ==> 88/1200\n",
      "Accuracy computation of Landsat_1990_1992-9-8 complete!  ==> 89/1200\n",
      "Accuracy computation of Landsat_1990_1992-10-8 complete!  ==> 90/1200\n",
      "Accuracy computation of Landsat_1990_1992-1-9 complete!  ==> 91/1200\n",
      "Accuracy computation of Landsat_1990_1992-2-9 complete!  ==> 92/1200\n",
      "Accuracy computation of Landsat_1990_1992-3-9 complete!  ==> 93/1200\n",
      "Accuracy computation of Landsat_1990_1992-4-9 complete!  ==> 94/1200\n",
      "Accuracy computation of Landsat_1990_1992-5-9 complete!  ==> 95/1200\n",
      "Accuracy computation of Landsat_1990_1992-6-9 complete!  ==> 96/1200\n",
      "Accuracy computation of Landsat_1990_1992-7-9 complete!  ==> 97/1200\n",
      "Accuracy computation of Landsat_1990_1992-8-9 complete!  ==> 98/1200\n",
      "Accuracy computation of Landsat_1990_1992-9-9 complete!  ==> 99/1200\n",
      "Accuracy computation of Landsat_1990_1992-10-9 complete!  ==> 100/1200\n",
      "Accuracy computation of Landsat_1993_1995-1-0 complete!  ==> 101/1200\n",
      "Accuracy computation of Landsat_1993_1995-2-0 complete!  ==> 102/1200\n",
      "Accuracy computation of Landsat_1993_1995-3-0 complete!  ==> 103/1200\n",
      "Accuracy computation of Landsat_1993_1995-4-0 complete!  ==> 104/1200\n",
      "Accuracy computation of Landsat_1993_1995-5-0 complete!  ==> 105/1200\n",
      "Accuracy computation of Landsat_1993_1995-6-0 complete!  ==> 106/1200\n",
      "Accuracy computation of Landsat_1993_1995-7-0 complete!  ==> 107/1200\n",
      "Accuracy computation of Landsat_1993_1995-8-0 complete!  ==> 108/1200\n",
      "Accuracy computation of Landsat_1993_1995-9-0 complete!  ==> 109/1200\n",
      "Accuracy computation of Landsat_1993_1995-10-0 complete!  ==> 110/1200\n",
      "Accuracy computation of Landsat_1993_1995-1-1 complete!  ==> 111/1200\n",
      "Accuracy computation of Landsat_1993_1995-2-1 complete!  ==> 112/1200\n",
      "Accuracy computation of Landsat_1993_1995-3-1 complete!  ==> 113/1200\n",
      "Accuracy computation of Landsat_1993_1995-4-1 complete!  ==> 114/1200\n",
      "Accuracy computation of Landsat_1993_1995-5-1 complete!  ==> 115/1200\n",
      "Accuracy computation of Landsat_1993_1995-6-1 complete!  ==> 116/1200\n",
      "Accuracy computation of Landsat_1993_1995-7-1 complete!  ==> 117/1200\n",
      "Accuracy computation of Landsat_1993_1995-8-1 complete!  ==> 118/1200\n",
      "Accuracy computation of Landsat_1993_1995-9-1 complete!  ==> 119/1200\n",
      "Accuracy computation of Landsat_1993_1995-10-1 complete!  ==> 120/1200\n",
      "Accuracy computation of Landsat_1993_1995-1-2 complete!  ==> 121/1200\n",
      "Accuracy computation of Landsat_1993_1995-2-2 complete!  ==> 122/1200\n",
      "Accuracy computation of Landsat_1993_1995-3-2 complete!  ==> 123/1200\n",
      "Accuracy computation of Landsat_1993_1995-4-2 complete!  ==> 124/1200\n",
      "Accuracy computation of Landsat_1993_1995-5-2 complete!  ==> 125/1200\n",
      "Accuracy computation of Landsat_1993_1995-6-2 complete!  ==> 126/1200\n",
      "Accuracy computation of Landsat_1993_1995-7-2 complete!  ==> 127/1200\n",
      "Accuracy computation of Landsat_1993_1995-8-2 complete!  ==> 128/1200\n"
     ]
    },
    {
     "name": "stdout",
     "output_type": "stream",
     "text": [
      "Accuracy computation of Landsat_1993_1995-9-2 complete!  ==> 129/1200\n",
      "Accuracy computation of Landsat_1993_1995-10-2 complete!  ==> 130/1200\n",
      "Accuracy computation of Landsat_1993_1995-1-3 complete!  ==> 131/1200\n",
      "Accuracy computation of Landsat_1993_1995-2-3 complete!  ==> 132/1200\n",
      "Accuracy computation of Landsat_1993_1995-3-3 complete!  ==> 133/1200\n",
      "Accuracy computation of Landsat_1993_1995-4-3 complete!  ==> 134/1200\n",
      "Accuracy computation of Landsat_1993_1995-5-3 complete!  ==> 135/1200\n",
      "Accuracy computation of Landsat_1993_1995-6-3 complete!  ==> 136/1200\n",
      "Accuracy computation of Landsat_1993_1995-7-3 complete!  ==> 137/1200\n",
      "Accuracy computation of Landsat_1993_1995-8-3 complete!  ==> 138/1200\n",
      "Accuracy computation of Landsat_1993_1995-9-3 complete!  ==> 139/1200\n",
      "Accuracy computation of Landsat_1993_1995-10-3 complete!  ==> 140/1200\n",
      "Accuracy computation of Landsat_1993_1995-1-4 complete!  ==> 141/1200\n",
      "Accuracy computation of Landsat_1993_1995-2-4 complete!  ==> 142/1200\n",
      "Accuracy computation of Landsat_1993_1995-3-4 complete!  ==> 143/1200\n",
      "Accuracy computation of Landsat_1993_1995-4-4 complete!  ==> 144/1200\n",
      "Accuracy computation of Landsat_1993_1995-5-4 complete!  ==> 145/1200\n",
      "Accuracy computation of Landsat_1993_1995-6-4 complete!  ==> 146/1200\n",
      "Accuracy computation of Landsat_1993_1995-7-4 complete!  ==> 147/1200\n",
      "Accuracy computation of Landsat_1993_1995-8-4 complete!  ==> 148/1200\n",
      "Accuracy computation of Landsat_1993_1995-9-4 complete!  ==> 149/1200\n",
      "Accuracy computation of Landsat_1993_1995-10-4 complete!  ==> 150/1200\n",
      "Accuracy computation of Landsat_1993_1995-1-5 complete!  ==> 151/1200\n",
      "Accuracy computation of Landsat_1993_1995-2-5 complete!  ==> 152/1200\n",
      "Accuracy computation of Landsat_1993_1995-3-5 complete!  ==> 153/1200\n",
      "Accuracy computation of Landsat_1993_1995-4-5 complete!  ==> 154/1200\n",
      "Accuracy computation of Landsat_1993_1995-5-5 complete!  ==> 155/1200\n",
      "Accuracy computation of Landsat_1993_1995-6-5 complete!  ==> 156/1200\n",
      "Accuracy computation of Landsat_1993_1995-7-5 complete!  ==> 157/1200\n",
      "Accuracy computation of Landsat_1993_1995-8-5 complete!  ==> 158/1200\n",
      "Accuracy computation of Landsat_1993_1995-9-5 complete!  ==> 159/1200\n",
      "Accuracy computation of Landsat_1993_1995-10-5 complete!  ==> 160/1200\n",
      "Accuracy computation of Landsat_1993_1995-1-6 complete!  ==> 161/1200\n",
      "Accuracy computation of Landsat_1993_1995-2-6 complete!  ==> 162/1200\n",
      "Accuracy computation of Landsat_1993_1995-3-6 complete!  ==> 163/1200\n",
      "Accuracy computation of Landsat_1993_1995-4-6 complete!  ==> 164/1200\n",
      "Accuracy computation of Landsat_1993_1995-5-6 complete!  ==> 165/1200\n",
      "Accuracy computation of Landsat_1993_1995-6-6 complete!  ==> 166/1200\n",
      "Accuracy computation of Landsat_1993_1995-7-6 complete!  ==> 167/1200\n",
      "Accuracy computation of Landsat_1993_1995-8-6 complete!  ==> 168/1200\n",
      "Accuracy computation of Landsat_1993_1995-9-6 complete!  ==> 169/1200\n",
      "Accuracy computation of Landsat_1993_1995-10-6 complete!  ==> 170/1200\n",
      "Accuracy computation of Landsat_1993_1995-1-7 complete!  ==> 171/1200\n",
      "Accuracy computation of Landsat_1993_1995-2-7 complete!  ==> 172/1200\n",
      "Accuracy computation of Landsat_1993_1995-3-7 complete!  ==> 173/1200\n",
      "Accuracy computation of Landsat_1993_1995-4-7 complete!  ==> 174/1200\n",
      "Accuracy computation of Landsat_1993_1995-5-7 complete!  ==> 175/1200\n",
      "Accuracy computation of Landsat_1993_1995-6-7 complete!  ==> 176/1200\n",
      "Accuracy computation of Landsat_1993_1995-7-7 complete!  ==> 177/1200\n",
      "Accuracy computation of Landsat_1993_1995-8-7 complete!  ==> 178/1200\n",
      "Accuracy computation of Landsat_1993_1995-9-7 complete!  ==> 179/1200\n",
      "Accuracy computation of Landsat_1993_1995-10-7 complete!  ==> 180/1200\n",
      "Accuracy computation of Landsat_1993_1995-1-8 complete!  ==> 181/1200\n",
      "Accuracy computation of Landsat_1993_1995-2-8 complete!  ==> 182/1200\n",
      "Accuracy computation of Landsat_1993_1995-3-8 complete!  ==> 183/1200\n",
      "Accuracy computation of Landsat_1993_1995-4-8 complete!  ==> 184/1200\n",
      "Accuracy computation of Landsat_1993_1995-5-8 complete!  ==> 185/1200\n",
      "Accuracy computation of Landsat_1993_1995-6-8 complete!  ==> 186/1200\n",
      "Accuracy computation of Landsat_1993_1995-7-8 complete!  ==> 187/1200\n",
      "Accuracy computation of Landsat_1993_1995-8-8 complete!  ==> 188/1200\n",
      "Accuracy computation of Landsat_1993_1995-9-8 complete!  ==> 189/1200\n",
      "Accuracy computation of Landsat_1993_1995-10-8 complete!  ==> 190/1200\n",
      "Accuracy computation of Landsat_1993_1995-1-9 complete!  ==> 191/1200\n",
      "Accuracy computation of Landsat_1993_1995-2-9 complete!  ==> 192/1200\n",
      "Accuracy computation of Landsat_1993_1995-3-9 complete!  ==> 193/1200\n",
      "Accuracy computation of Landsat_1993_1995-4-9 complete!  ==> 194/1200\n",
      "Accuracy computation of Landsat_1993_1995-5-9 complete!  ==> 195/1200\n",
      "Accuracy computation of Landsat_1993_1995-6-9 complete!  ==> 196/1200\n",
      "Accuracy computation of Landsat_1993_1995-7-9 complete!  ==> 197/1200\n",
      "Accuracy computation of Landsat_1993_1995-8-9 complete!  ==> 198/1200\n",
      "Accuracy computation of Landsat_1993_1995-9-9 complete!  ==> 199/1200\n",
      "Accuracy computation of Landsat_1993_1995-10-9 complete!  ==> 200/1200\n",
      "Accuracy computation of Landsat_1996_1998-1-0 complete!  ==> 201/1200\n",
      "Accuracy computation of Landsat_1996_1998-2-0 complete!  ==> 202/1200\n",
      "Accuracy computation of Landsat_1996_1998-3-0 complete!  ==> 203/1200\n",
      "Accuracy computation of Landsat_1996_1998-4-0 complete!  ==> 204/1200\n",
      "Accuracy computation of Landsat_1996_1998-5-0 complete!  ==> 205/1200\n",
      "Accuracy computation of Landsat_1996_1998-6-0 complete!  ==> 206/1200\n",
      "Accuracy computation of Landsat_1996_1998-7-0 complete!  ==> 207/1200\n",
      "Accuracy computation of Landsat_1996_1998-8-0 complete!  ==> 208/1200\n"
     ]
    },
    {
     "ename": "KeyboardInterrupt",
     "evalue": "",
     "output_type": "error",
     "traceback": [
      "\u001b[1;31m---------------------------------------------------------------------------\u001b[0m",
      "\u001b[1;31mKeyboardInterrupt\u001b[0m                         Traceback (most recent call last)",
      "\u001b[1;32m<ipython-input-70-c2efd3e91968>\u001b[0m in \u001b[0;36m<module>\u001b[1;34m\u001b[0m\n\u001b[0;32m     22\u001b[0m \u001b[1;33m\u001b[0m\u001b[0m\n\u001b[0;32m     23\u001b[0m             \u001b[1;31m# compute the accuracy\u001b[0m\u001b[1;33m\u001b[0m\u001b[1;33m\u001b[0m\u001b[1;33m\u001b[0m\u001b[0m\n\u001b[1;32m---> 24\u001b[1;33m             \u001b[0mAcc_threshold\u001b[0m\u001b[1;33m[\u001b[0m\u001b[1;33m(\u001b[0m\u001b[0mname\u001b[0m\u001b[1;33m,\u001b[0m\u001b[0mthreshold\u001b[0m\u001b[1;33m,\u001b[0m\u001b[0mi\u001b[0m\u001b[1;33m)\u001b[0m\u001b[1;33m]\u001b[0m \u001b[1;33m=\u001b[0m \u001b[0mAccuracy_assesment\u001b[0m\u001b[1;33m(\u001b[0m\u001b[0msample_with_value\u001b[0m\u001b[1;33m)\u001b[0m\u001b[1;33m.\u001b[0m\u001b[0mStp_1_Calculate_Accuracy\u001b[0m\u001b[1;33m(\u001b[0m\u001b[1;33m)\u001b[0m\u001b[1;33m\u001b[0m\u001b[1;33m\u001b[0m\u001b[0m\n\u001b[0m\u001b[0;32m     25\u001b[0m \u001b[1;33m\u001b[0m\u001b[0m\n\u001b[0;32m     26\u001b[0m             \u001b[1;31m# print out the process\u001b[0m\u001b[1;33m\u001b[0m\u001b[1;33m\u001b[0m\u001b[1;33m\u001b[0m\u001b[0m\n",
      "\u001b[1;32m~\\Desktop\\North_China_Plain_GEE_Organized\\Process_1_GEE_Python_Classification\\BackGround_modules\\Class_3_Calculate_the_accuracy.py\u001b[0m in \u001b[0;36m__init__\u001b[1;34m(self, classified_samples, True_val, Pre_val)\u001b[0m\n\u001b[0;32m     74\u001b[0m         \u001b[0mself\u001b[0m\u001b[1;33m.\u001b[0m\u001b[0mPre_val\u001b[0m \u001b[1;33m=\u001b[0m \u001b[0mPre_val\u001b[0m\u001b[1;33m\u001b[0m\u001b[1;33m\u001b[0m\u001b[0m\n\u001b[0;32m     75\u001b[0m \u001b[1;33m\u001b[0m\u001b[0m\n\u001b[1;32m---> 76\u001b[1;33m         \u001b[0mself\u001b[0m\u001b[1;33m.\u001b[0m\u001b[0merror_matrix\u001b[0m \u001b[1;33m=\u001b[0m \u001b[0mclassified_samples\u001b[0m\u001b[1;33m.\u001b[0m\u001b[0merrorMatrix\u001b[0m\u001b[1;33m(\u001b[0m\u001b[0mTrue_val\u001b[0m\u001b[1;33m,\u001b[0m\u001b[0mPre_val\u001b[0m\u001b[1;33m)\u001b[0m\u001b[1;33m.\u001b[0m\u001b[0mgetInfo\u001b[0m\u001b[1;33m(\u001b[0m\u001b[1;33m)\u001b[0m\u001b[1;33m\u001b[0m\u001b[1;33m\u001b[0m\u001b[0m\n\u001b[0m\u001b[0;32m     77\u001b[0m \u001b[1;33m\u001b[0m\u001b[0m\n\u001b[0;32m     78\u001b[0m \u001b[1;33m\u001b[0m\u001b[0m\n",
      "\u001b[1;32m~\\Anaconda3\\envs\\ee_py3\\lib\\site-packages\\ee\\computedobject.py\u001b[0m in \u001b[0;36mgetInfo\u001b[1;34m(self)\u001b[0m\n\u001b[0;32m     93\u001b[0m       \u001b[0mThe\u001b[0m \u001b[0mobject\u001b[0m \u001b[0mcan\u001b[0m \u001b[0mevaluate\u001b[0m \u001b[0mto\u001b[0m \u001b[0manything\u001b[0m\u001b[1;33m.\u001b[0m\u001b[1;33m\u001b[0m\u001b[1;33m\u001b[0m\u001b[0m\n\u001b[0;32m     94\u001b[0m     \"\"\"\n\u001b[1;32m---> 95\u001b[1;33m     \u001b[1;32mreturn\u001b[0m \u001b[0mdata\u001b[0m\u001b[1;33m.\u001b[0m\u001b[0mcomputeValue\u001b[0m\u001b[1;33m(\u001b[0m\u001b[0mself\u001b[0m\u001b[1;33m)\u001b[0m\u001b[1;33m\u001b[0m\u001b[1;33m\u001b[0m\u001b[0m\n\u001b[0m\u001b[0;32m     96\u001b[0m \u001b[1;33m\u001b[0m\u001b[0m\n\u001b[0;32m     97\u001b[0m   \u001b[1;32mdef\u001b[0m \u001b[0mencode\u001b[0m\u001b[1;33m(\u001b[0m\u001b[0mself\u001b[0m\u001b[1;33m,\u001b[0m \u001b[0mencoder\u001b[0m\u001b[1;33m)\u001b[0m\u001b[1;33m:\u001b[0m\u001b[1;33m\u001b[0m\u001b[1;33m\u001b[0m\u001b[0m\n",
      "\u001b[1;32m~\\Anaconda3\\envs\\ee_py3\\lib\\site-packages\\ee\\data.py\u001b[0m in \u001b[0;36mcomputeValue\u001b[1;34m(obj)\u001b[0m\n\u001b[0;32m    701\u001b[0m         \u001b[0mbody\u001b[0m\u001b[1;33m=\u001b[0m\u001b[1;33m{\u001b[0m\u001b[1;34m'expression'\u001b[0m\u001b[1;33m:\u001b[0m \u001b[0mserializer\u001b[0m\u001b[1;33m.\u001b[0m\u001b[0mencode\u001b[0m\u001b[1;33m(\u001b[0m\u001b[0mobj\u001b[0m\u001b[1;33m,\u001b[0m \u001b[0mfor_cloud_api\u001b[0m\u001b[1;33m=\u001b[0m\u001b[1;32mTrue\u001b[0m\u001b[1;33m)\u001b[0m\u001b[1;33m}\u001b[0m\u001b[1;33m,\u001b[0m\u001b[1;33m\u001b[0m\u001b[1;33m\u001b[0m\u001b[0m\n\u001b[0;32m    702\u001b[0m         \u001b[0mproject\u001b[0m\u001b[1;33m=\u001b[0m\u001b[0m_get_projects_path\u001b[0m\u001b[1;33m(\u001b[0m\u001b[1;33m)\u001b[0m\u001b[1;33m,\u001b[0m\u001b[1;33m\u001b[0m\u001b[1;33m\u001b[0m\u001b[0m\n\u001b[1;32m--> 703\u001b[1;33m         prettyPrint=False))['result']\n\u001b[0m\u001b[0;32m    704\u001b[0m   \u001b[1;32mreturn\u001b[0m \u001b[0msend_\u001b[0m\u001b[1;33m(\u001b[0m\u001b[1;34m'/value'\u001b[0m\u001b[1;33m,\u001b[0m \u001b[1;33m(\u001b[0m\u001b[1;33m{\u001b[0m\u001b[1;34m'json'\u001b[0m\u001b[1;33m:\u001b[0m \u001b[0mobj\u001b[0m\u001b[1;33m.\u001b[0m\u001b[0mserialize\u001b[0m\u001b[1;33m(\u001b[0m\u001b[1;33m)\u001b[0m\u001b[1;33m,\u001b[0m \u001b[1;34m'json_format'\u001b[0m\u001b[1;33m:\u001b[0m \u001b[1;34m'v2'\u001b[0m\u001b[1;33m}\u001b[0m\u001b[1;33m)\u001b[0m\u001b[1;33m)\u001b[0m\u001b[1;33m\u001b[0m\u001b[1;33m\u001b[0m\u001b[0m\n\u001b[0;32m    705\u001b[0m \u001b[1;33m\u001b[0m\u001b[0m\n",
      "\u001b[1;32m~\\Anaconda3\\envs\\ee_py3\\lib\\site-packages\\ee\\data.py\u001b[0m in \u001b[0;36m_execute_cloud_call\u001b[1;34m(call, num_retries)\u001b[0m\n\u001b[0;32m    336\u001b[0m   \"\"\"\n\u001b[0;32m    337\u001b[0m   \u001b[1;32mtry\u001b[0m\u001b[1;33m:\u001b[0m\u001b[1;33m\u001b[0m\u001b[1;33m\u001b[0m\u001b[0m\n\u001b[1;32m--> 338\u001b[1;33m     \u001b[1;32mreturn\u001b[0m \u001b[0mcall\u001b[0m\u001b[1;33m.\u001b[0m\u001b[0mexecute\u001b[0m\u001b[1;33m(\u001b[0m\u001b[0mnum_retries\u001b[0m\u001b[1;33m=\u001b[0m\u001b[0mnum_retries\u001b[0m\u001b[1;33m)\u001b[0m\u001b[1;33m\u001b[0m\u001b[1;33m\u001b[0m\u001b[0m\n\u001b[0m\u001b[0;32m    339\u001b[0m   \u001b[1;32mexcept\u001b[0m \u001b[0mapiclient\u001b[0m\u001b[1;33m.\u001b[0m\u001b[0merrors\u001b[0m\u001b[1;33m.\u001b[0m\u001b[0mHttpError\u001b[0m \u001b[1;32mas\u001b[0m \u001b[0me\u001b[0m\u001b[1;33m:\u001b[0m\u001b[1;33m\u001b[0m\u001b[1;33m\u001b[0m\u001b[0m\n\u001b[0;32m    340\u001b[0m     \u001b[1;32mraise\u001b[0m \u001b[0m_translate_cloud_exception\u001b[0m\u001b[1;33m(\u001b[0m\u001b[0me\u001b[0m\u001b[1;33m)\u001b[0m\u001b[1;33m\u001b[0m\u001b[1;33m\u001b[0m\u001b[0m\n",
      "\u001b[1;32m~\\Anaconda3\\envs\\ee_py3\\lib\\site-packages\\googleapiclient\\_helpers.py\u001b[0m in \u001b[0;36mpositional_wrapper\u001b[1;34m(*args, **kwargs)\u001b[0m\n\u001b[0;32m    128\u001b[0m                 \u001b[1;32melif\u001b[0m \u001b[0mpositional_parameters_enforcement\u001b[0m \u001b[1;33m==\u001b[0m \u001b[0mPOSITIONAL_WARNING\u001b[0m\u001b[1;33m:\u001b[0m\u001b[1;33m\u001b[0m\u001b[1;33m\u001b[0m\u001b[0m\n\u001b[0;32m    129\u001b[0m                     \u001b[0mlogger\u001b[0m\u001b[1;33m.\u001b[0m\u001b[0mwarning\u001b[0m\u001b[1;33m(\u001b[0m\u001b[0mmessage\u001b[0m\u001b[1;33m)\u001b[0m\u001b[1;33m\u001b[0m\u001b[1;33m\u001b[0m\u001b[0m\n\u001b[1;32m--> 130\u001b[1;33m             \u001b[1;32mreturn\u001b[0m \u001b[0mwrapped\u001b[0m\u001b[1;33m(\u001b[0m\u001b[1;33m*\u001b[0m\u001b[0margs\u001b[0m\u001b[1;33m,\u001b[0m \u001b[1;33m**\u001b[0m\u001b[0mkwargs\u001b[0m\u001b[1;33m)\u001b[0m\u001b[1;33m\u001b[0m\u001b[1;33m\u001b[0m\u001b[0m\n\u001b[0m\u001b[0;32m    131\u001b[0m         \u001b[1;32mreturn\u001b[0m \u001b[0mpositional_wrapper\u001b[0m\u001b[1;33m\u001b[0m\u001b[1;33m\u001b[0m\u001b[0m\n\u001b[0;32m    132\u001b[0m \u001b[1;33m\u001b[0m\u001b[0m\n",
      "\u001b[1;32m~\\Anaconda3\\envs\\ee_py3\\lib\\site-packages\\googleapiclient\\http.py\u001b[0m in \u001b[0;36mexecute\u001b[1;34m(self, http, num_retries)\u001b[0m\n\u001b[0;32m    849\u001b[0m     resp, content = _retry_request(\n\u001b[0;32m    850\u001b[0m           \u001b[0mhttp\u001b[0m\u001b[1;33m,\u001b[0m \u001b[0mnum_retries\u001b[0m\u001b[1;33m,\u001b[0m \u001b[1;34m'request'\u001b[0m\u001b[1;33m,\u001b[0m \u001b[0mself\u001b[0m\u001b[1;33m.\u001b[0m\u001b[0m_sleep\u001b[0m\u001b[1;33m,\u001b[0m \u001b[0mself\u001b[0m\u001b[1;33m.\u001b[0m\u001b[0m_rand\u001b[0m\u001b[1;33m,\u001b[0m \u001b[0mstr\u001b[0m\u001b[1;33m(\u001b[0m\u001b[0mself\u001b[0m\u001b[1;33m.\u001b[0m\u001b[0muri\u001b[0m\u001b[1;33m)\u001b[0m\u001b[1;33m,\u001b[0m\u001b[1;33m\u001b[0m\u001b[1;33m\u001b[0m\u001b[0m\n\u001b[1;32m--> 851\u001b[1;33m           method=str(self.method), body=self.body, headers=self.headers)\n\u001b[0m\u001b[0;32m    852\u001b[0m \u001b[1;33m\u001b[0m\u001b[0m\n\u001b[0;32m    853\u001b[0m     \u001b[1;32mfor\u001b[0m \u001b[0mcallback\u001b[0m \u001b[1;32min\u001b[0m \u001b[0mself\u001b[0m\u001b[1;33m.\u001b[0m\u001b[0mresponse_callbacks\u001b[0m\u001b[1;33m:\u001b[0m\u001b[1;33m\u001b[0m\u001b[1;33m\u001b[0m\u001b[0m\n",
      "\u001b[1;32m~\\Anaconda3\\envs\\ee_py3\\lib\\site-packages\\googleapiclient\\http.py\u001b[0m in \u001b[0;36m_retry_request\u001b[1;34m(http, num_retries, req_type, sleep, rand, uri, method, *args, **kwargs)\u001b[0m\n\u001b[0;32m    163\u001b[0m     \u001b[1;32mtry\u001b[0m\u001b[1;33m:\u001b[0m\u001b[1;33m\u001b[0m\u001b[1;33m\u001b[0m\u001b[0m\n\u001b[0;32m    164\u001b[0m       \u001b[0mexception\u001b[0m \u001b[1;33m=\u001b[0m \u001b[1;32mNone\u001b[0m\u001b[1;33m\u001b[0m\u001b[1;33m\u001b[0m\u001b[0m\n\u001b[1;32m--> 165\u001b[1;33m       \u001b[0mresp\u001b[0m\u001b[1;33m,\u001b[0m \u001b[0mcontent\u001b[0m \u001b[1;33m=\u001b[0m \u001b[0mhttp\u001b[0m\u001b[1;33m.\u001b[0m\u001b[0mrequest\u001b[0m\u001b[1;33m(\u001b[0m\u001b[0muri\u001b[0m\u001b[1;33m,\u001b[0m \u001b[0mmethod\u001b[0m\u001b[1;33m,\u001b[0m \u001b[1;33m*\u001b[0m\u001b[0margs\u001b[0m\u001b[1;33m,\u001b[0m \u001b[1;33m**\u001b[0m\u001b[0mkwargs\u001b[0m\u001b[1;33m)\u001b[0m\u001b[1;33m\u001b[0m\u001b[1;33m\u001b[0m\u001b[0m\n\u001b[0m\u001b[0;32m    166\u001b[0m     \u001b[1;31m# Retry on SSL errors and socket timeout errors.\u001b[0m\u001b[1;33m\u001b[0m\u001b[1;33m\u001b[0m\u001b[1;33m\u001b[0m\u001b[0m\n\u001b[0;32m    167\u001b[0m     \u001b[1;32mexcept\u001b[0m \u001b[0m_ssl_SSLError\u001b[0m \u001b[1;32mas\u001b[0m \u001b[0mssl_error\u001b[0m\u001b[1;33m:\u001b[0m\u001b[1;33m\u001b[0m\u001b[1;33m\u001b[0m\u001b[0m\n",
      "\u001b[1;32m~\\Anaconda3\\envs\\ee_py3\\lib\\site-packages\\google_auth_httplib2.py\u001b[0m in \u001b[0;36mrequest\u001b[1;34m(self, uri, method, body, headers, **kwargs)\u001b[0m\n\u001b[0;32m    196\u001b[0m         \u001b[1;31m# Make the request.\u001b[0m\u001b[1;33m\u001b[0m\u001b[1;33m\u001b[0m\u001b[1;33m\u001b[0m\u001b[0m\n\u001b[0;32m    197\u001b[0m         response, content = self.http.request(\n\u001b[1;32m--> 198\u001b[1;33m             uri, method, body=body, headers=request_headers, **kwargs)\n\u001b[0m\u001b[0;32m    199\u001b[0m \u001b[1;33m\u001b[0m\u001b[0m\n\u001b[0;32m    200\u001b[0m         \u001b[1;31m# If the response indicated that the credentials needed to be\u001b[0m\u001b[1;33m\u001b[0m\u001b[1;33m\u001b[0m\u001b[1;33m\u001b[0m\u001b[0m\n",
      "\u001b[1;32m~\\Anaconda3\\envs\\ee_py3\\lib\\site-packages\\httplib2\\__init__.py\u001b[0m in \u001b[0;36mrequest\u001b[1;34m(self, uri, method, body, headers, redirections, connection_type)\u001b[0m\n\u001b[0;32m   1955\u001b[0m                         \u001b[0mheaders\u001b[0m\u001b[1;33m,\u001b[0m\u001b[1;33m\u001b[0m\u001b[1;33m\u001b[0m\u001b[0m\n\u001b[0;32m   1956\u001b[0m                         \u001b[0mredirections\u001b[0m\u001b[1;33m,\u001b[0m\u001b[1;33m\u001b[0m\u001b[1;33m\u001b[0m\u001b[0m\n\u001b[1;32m-> 1957\u001b[1;33m                         \u001b[0mcachekey\u001b[0m\u001b[1;33m,\u001b[0m\u001b[1;33m\u001b[0m\u001b[1;33m\u001b[0m\u001b[0m\n\u001b[0m\u001b[0;32m   1958\u001b[0m                     )\n\u001b[0;32m   1959\u001b[0m         \u001b[1;32mexcept\u001b[0m \u001b[0mException\u001b[0m \u001b[1;32mas\u001b[0m \u001b[0me\u001b[0m\u001b[1;33m:\u001b[0m\u001b[1;33m\u001b[0m\u001b[1;33m\u001b[0m\u001b[0m\n",
      "\u001b[1;32m~\\Anaconda3\\envs\\ee_py3\\lib\\site-packages\\httplib2\\__init__.py\u001b[0m in \u001b[0;36m_request\u001b[1;34m(self, conn, host, absolute_uri, request_uri, method, body, headers, redirections, cachekey)\u001b[0m\n\u001b[0;32m   1620\u001b[0m \u001b[1;33m\u001b[0m\u001b[0m\n\u001b[0;32m   1621\u001b[0m         (response, content) = self._conn_request(\n\u001b[1;32m-> 1622\u001b[1;33m             \u001b[0mconn\u001b[0m\u001b[1;33m,\u001b[0m \u001b[0mrequest_uri\u001b[0m\u001b[1;33m,\u001b[0m \u001b[0mmethod\u001b[0m\u001b[1;33m,\u001b[0m \u001b[0mbody\u001b[0m\u001b[1;33m,\u001b[0m \u001b[0mheaders\u001b[0m\u001b[1;33m\u001b[0m\u001b[1;33m\u001b[0m\u001b[0m\n\u001b[0m\u001b[0;32m   1623\u001b[0m         )\n\u001b[0;32m   1624\u001b[0m \u001b[1;33m\u001b[0m\u001b[0m\n",
      "\u001b[1;32m~\\Anaconda3\\envs\\ee_py3\\lib\\site-packages\\httplib2shim\\__init__.py\u001b[0m in \u001b[0;36m_conn_request\u001b[1;34m(self, conn, request_uri, method, body, headers)\u001b[0m\n\u001b[0;32m    146\u001b[0m                 \u001b[0mretries\u001b[0m\u001b[1;33m=\u001b[0m\u001b[0murllib3\u001b[0m\u001b[1;33m.\u001b[0m\u001b[0mRetry\u001b[0m\u001b[1;33m(\u001b[0m\u001b[0mtotal\u001b[0m\u001b[1;33m=\u001b[0m\u001b[1;32mFalse\u001b[0m\u001b[1;33m,\u001b[0m \u001b[0mredirect\u001b[0m\u001b[1;33m=\u001b[0m\u001b[1;36m0\u001b[0m\u001b[1;33m)\u001b[0m\u001b[1;33m,\u001b[0m\u001b[1;33m\u001b[0m\u001b[1;33m\u001b[0m\u001b[0m\n\u001b[0;32m    147\u001b[0m                 \u001b[0mtimeout\u001b[0m\u001b[1;33m=\u001b[0m\u001b[0murllib3\u001b[0m\u001b[1;33m.\u001b[0m\u001b[0mTimeout\u001b[0m\u001b[1;33m(\u001b[0m\u001b[0mtotal\u001b[0m\u001b[1;33m=\u001b[0m\u001b[0mself\u001b[0m\u001b[1;33m.\u001b[0m\u001b[0mtimeout\u001b[0m\u001b[1;33m)\u001b[0m\u001b[1;33m,\u001b[0m\u001b[1;33m\u001b[0m\u001b[1;33m\u001b[0m\u001b[0m\n\u001b[1;32m--> 148\u001b[1;33m                 decode_content=decode)\n\u001b[0m\u001b[0;32m    149\u001b[0m \u001b[1;33m\u001b[0m\u001b[0m\n\u001b[0;32m    150\u001b[0m             \u001b[0mresponse\u001b[0m \u001b[1;33m=\u001b[0m \u001b[0m_map_response\u001b[0m\u001b[1;33m(\u001b[0m\u001b[0murllib3_response\u001b[0m\u001b[1;33m,\u001b[0m \u001b[0mdecode\u001b[0m\u001b[1;33m=\u001b[0m\u001b[0mdecode\u001b[0m\u001b[1;33m)\u001b[0m\u001b[1;33m\u001b[0m\u001b[1;33m\u001b[0m\u001b[0m\n",
      "\u001b[1;32m~\\Anaconda3\\envs\\ee_py3\\lib\\site-packages\\urllib3\\request.py\u001b[0m in \u001b[0;36mrequest\u001b[1;34m(self, method, url, fields, headers, **urlopen_kw)\u001b[0m\n\u001b[0;32m     78\u001b[0m         \u001b[1;32melse\u001b[0m\u001b[1;33m:\u001b[0m\u001b[1;33m\u001b[0m\u001b[1;33m\u001b[0m\u001b[0m\n\u001b[0;32m     79\u001b[0m             return self.request_encode_body(\n\u001b[1;32m---> 80\u001b[1;33m                 \u001b[0mmethod\u001b[0m\u001b[1;33m,\u001b[0m \u001b[0murl\u001b[0m\u001b[1;33m,\u001b[0m \u001b[0mfields\u001b[0m\u001b[1;33m=\u001b[0m\u001b[0mfields\u001b[0m\u001b[1;33m,\u001b[0m \u001b[0mheaders\u001b[0m\u001b[1;33m=\u001b[0m\u001b[0mheaders\u001b[0m\u001b[1;33m,\u001b[0m \u001b[1;33m**\u001b[0m\u001b[0murlopen_kw\u001b[0m\u001b[1;33m\u001b[0m\u001b[1;33m\u001b[0m\u001b[0m\n\u001b[0m\u001b[0;32m     81\u001b[0m             )\n\u001b[0;32m     82\u001b[0m \u001b[1;33m\u001b[0m\u001b[0m\n",
      "\u001b[1;32m~\\Anaconda3\\envs\\ee_py3\\lib\\site-packages\\urllib3\\request.py\u001b[0m in \u001b[0;36mrequest_encode_body\u001b[1;34m(self, method, url, fields, headers, encode_multipart, multipart_boundary, **urlopen_kw)\u001b[0m\n\u001b[0;32m    169\u001b[0m         \u001b[0mextra_kw\u001b[0m\u001b[1;33m.\u001b[0m\u001b[0mupdate\u001b[0m\u001b[1;33m(\u001b[0m\u001b[0murlopen_kw\u001b[0m\u001b[1;33m)\u001b[0m\u001b[1;33m\u001b[0m\u001b[1;33m\u001b[0m\u001b[0m\n\u001b[0;32m    170\u001b[0m \u001b[1;33m\u001b[0m\u001b[0m\n\u001b[1;32m--> 171\u001b[1;33m         \u001b[1;32mreturn\u001b[0m \u001b[0mself\u001b[0m\u001b[1;33m.\u001b[0m\u001b[0murlopen\u001b[0m\u001b[1;33m(\u001b[0m\u001b[0mmethod\u001b[0m\u001b[1;33m,\u001b[0m \u001b[0murl\u001b[0m\u001b[1;33m,\u001b[0m \u001b[1;33m**\u001b[0m\u001b[0mextra_kw\u001b[0m\u001b[1;33m)\u001b[0m\u001b[1;33m\u001b[0m\u001b[1;33m\u001b[0m\u001b[0m\n\u001b[0m",
      "\u001b[1;32m~\\Anaconda3\\envs\\ee_py3\\lib\\site-packages\\urllib3\\poolmanager.py\u001b[0m in \u001b[0;36murlopen\u001b[1;34m(self, method, url, redirect, **kw)\u001b[0m\n\u001b[0;32m    328\u001b[0m             \u001b[0mresponse\u001b[0m \u001b[1;33m=\u001b[0m \u001b[0mconn\u001b[0m\u001b[1;33m.\u001b[0m\u001b[0murlopen\u001b[0m\u001b[1;33m(\u001b[0m\u001b[0mmethod\u001b[0m\u001b[1;33m,\u001b[0m \u001b[0murl\u001b[0m\u001b[1;33m,\u001b[0m \u001b[1;33m**\u001b[0m\u001b[0mkw\u001b[0m\u001b[1;33m)\u001b[0m\u001b[1;33m\u001b[0m\u001b[1;33m\u001b[0m\u001b[0m\n\u001b[0;32m    329\u001b[0m         \u001b[1;32melse\u001b[0m\u001b[1;33m:\u001b[0m\u001b[1;33m\u001b[0m\u001b[1;33m\u001b[0m\u001b[0m\n\u001b[1;32m--> 330\u001b[1;33m             \u001b[0mresponse\u001b[0m \u001b[1;33m=\u001b[0m \u001b[0mconn\u001b[0m\u001b[1;33m.\u001b[0m\u001b[0murlopen\u001b[0m\u001b[1;33m(\u001b[0m\u001b[0mmethod\u001b[0m\u001b[1;33m,\u001b[0m \u001b[0mu\u001b[0m\u001b[1;33m.\u001b[0m\u001b[0mrequest_uri\u001b[0m\u001b[1;33m,\u001b[0m \u001b[1;33m**\u001b[0m\u001b[0mkw\u001b[0m\u001b[1;33m)\u001b[0m\u001b[1;33m\u001b[0m\u001b[1;33m\u001b[0m\u001b[0m\n\u001b[0m\u001b[0;32m    331\u001b[0m \u001b[1;33m\u001b[0m\u001b[0m\n\u001b[0;32m    332\u001b[0m         \u001b[0mredirect_location\u001b[0m \u001b[1;33m=\u001b[0m \u001b[0mredirect\u001b[0m \u001b[1;32mand\u001b[0m \u001b[0mresponse\u001b[0m\u001b[1;33m.\u001b[0m\u001b[0mget_redirect_location\u001b[0m\u001b[1;33m(\u001b[0m\u001b[1;33m)\u001b[0m\u001b[1;33m\u001b[0m\u001b[1;33m\u001b[0m\u001b[0m\n",
      "\u001b[1;32m~\\Anaconda3\\envs\\ee_py3\\lib\\site-packages\\urllib3\\connectionpool.py\u001b[0m in \u001b[0;36murlopen\u001b[1;34m(self, method, url, body, headers, retries, redirect, assert_same_host, timeout, pool_timeout, release_conn, chunked, body_pos, **response_kw)\u001b[0m\n\u001b[0;32m    670\u001b[0m                 \u001b[0mbody\u001b[0m\u001b[1;33m=\u001b[0m\u001b[0mbody\u001b[0m\u001b[1;33m,\u001b[0m\u001b[1;33m\u001b[0m\u001b[1;33m\u001b[0m\u001b[0m\n\u001b[0;32m    671\u001b[0m                 \u001b[0mheaders\u001b[0m\u001b[1;33m=\u001b[0m\u001b[0mheaders\u001b[0m\u001b[1;33m,\u001b[0m\u001b[1;33m\u001b[0m\u001b[1;33m\u001b[0m\u001b[0m\n\u001b[1;32m--> 672\u001b[1;33m                 \u001b[0mchunked\u001b[0m\u001b[1;33m=\u001b[0m\u001b[0mchunked\u001b[0m\u001b[1;33m,\u001b[0m\u001b[1;33m\u001b[0m\u001b[1;33m\u001b[0m\u001b[0m\n\u001b[0m\u001b[0;32m    673\u001b[0m             )\n\u001b[0;32m    674\u001b[0m \u001b[1;33m\u001b[0m\u001b[0m\n",
      "\u001b[1;32m~\\Anaconda3\\envs\\ee_py3\\lib\\site-packages\\urllib3\\connectionpool.py\u001b[0m in \u001b[0;36m_make_request\u001b[1;34m(self, conn, method, url, timeout, chunked, **httplib_request_kw)\u001b[0m\n\u001b[0;32m    419\u001b[0m                     \u001b[1;31m# Python 3 (including for exceptions like SystemExit).\u001b[0m\u001b[1;33m\u001b[0m\u001b[1;33m\u001b[0m\u001b[1;33m\u001b[0m\u001b[0m\n\u001b[0;32m    420\u001b[0m                     \u001b[1;31m# Otherwise it looks like a bug in the code.\u001b[0m\u001b[1;33m\u001b[0m\u001b[1;33m\u001b[0m\u001b[1;33m\u001b[0m\u001b[0m\n\u001b[1;32m--> 421\u001b[1;33m                     \u001b[0msix\u001b[0m\u001b[1;33m.\u001b[0m\u001b[0mraise_from\u001b[0m\u001b[1;33m(\u001b[0m\u001b[0me\u001b[0m\u001b[1;33m,\u001b[0m \u001b[1;32mNone\u001b[0m\u001b[1;33m)\u001b[0m\u001b[1;33m\u001b[0m\u001b[1;33m\u001b[0m\u001b[0m\n\u001b[0m\u001b[0;32m    422\u001b[0m         \u001b[1;32mexcept\u001b[0m \u001b[1;33m(\u001b[0m\u001b[0mSocketTimeout\u001b[0m\u001b[1;33m,\u001b[0m \u001b[0mBaseSSLError\u001b[0m\u001b[1;33m,\u001b[0m \u001b[0mSocketError\u001b[0m\u001b[1;33m)\u001b[0m \u001b[1;32mas\u001b[0m \u001b[0me\u001b[0m\u001b[1;33m:\u001b[0m\u001b[1;33m\u001b[0m\u001b[1;33m\u001b[0m\u001b[0m\n\u001b[0;32m    423\u001b[0m             \u001b[0mself\u001b[0m\u001b[1;33m.\u001b[0m\u001b[0m_raise_timeout\u001b[0m\u001b[1;33m(\u001b[0m\u001b[0merr\u001b[0m\u001b[1;33m=\u001b[0m\u001b[0me\u001b[0m\u001b[1;33m,\u001b[0m \u001b[0murl\u001b[0m\u001b[1;33m=\u001b[0m\u001b[0murl\u001b[0m\u001b[1;33m,\u001b[0m \u001b[0mtimeout_value\u001b[0m\u001b[1;33m=\u001b[0m\u001b[0mread_timeout\u001b[0m\u001b[1;33m)\u001b[0m\u001b[1;33m\u001b[0m\u001b[1;33m\u001b[0m\u001b[0m\n",
      "\u001b[1;32m~\\Anaconda3\\envs\\ee_py3\\lib\\site-packages\\urllib3\\packages\\six.py\u001b[0m in \u001b[0;36mraise_from\u001b[1;34m(value, from_value)\u001b[0m\n",
      "\u001b[1;32m~\\Anaconda3\\envs\\ee_py3\\lib\\site-packages\\urllib3\\connectionpool.py\u001b[0m in \u001b[0;36m_make_request\u001b[1;34m(self, conn, method, url, timeout, chunked, **httplib_request_kw)\u001b[0m\n\u001b[0;32m    414\u001b[0m                 \u001b[1;31m# Python 3\u001b[0m\u001b[1;33m\u001b[0m\u001b[1;33m\u001b[0m\u001b[1;33m\u001b[0m\u001b[0m\n\u001b[0;32m    415\u001b[0m                 \u001b[1;32mtry\u001b[0m\u001b[1;33m:\u001b[0m\u001b[1;33m\u001b[0m\u001b[1;33m\u001b[0m\u001b[0m\n\u001b[1;32m--> 416\u001b[1;33m                     \u001b[0mhttplib_response\u001b[0m \u001b[1;33m=\u001b[0m \u001b[0mconn\u001b[0m\u001b[1;33m.\u001b[0m\u001b[0mgetresponse\u001b[0m\u001b[1;33m(\u001b[0m\u001b[1;33m)\u001b[0m\u001b[1;33m\u001b[0m\u001b[1;33m\u001b[0m\u001b[0m\n\u001b[0m\u001b[0;32m    417\u001b[0m                 \u001b[1;32mexcept\u001b[0m \u001b[0mBaseException\u001b[0m \u001b[1;32mas\u001b[0m \u001b[0me\u001b[0m\u001b[1;33m:\u001b[0m\u001b[1;33m\u001b[0m\u001b[1;33m\u001b[0m\u001b[0m\n\u001b[0;32m    418\u001b[0m                     \u001b[1;31m# Remove the TypeError from the exception chain in\u001b[0m\u001b[1;33m\u001b[0m\u001b[1;33m\u001b[0m\u001b[1;33m\u001b[0m\u001b[0m\n",
      "\u001b[1;32m~\\Anaconda3\\envs\\ee_py3\\lib\\http\\client.py\u001b[0m in \u001b[0;36mgetresponse\u001b[1;34m(self)\u001b[0m\n\u001b[0;32m   1319\u001b[0m         \u001b[1;32mtry\u001b[0m\u001b[1;33m:\u001b[0m\u001b[1;33m\u001b[0m\u001b[1;33m\u001b[0m\u001b[0m\n\u001b[0;32m   1320\u001b[0m             \u001b[1;32mtry\u001b[0m\u001b[1;33m:\u001b[0m\u001b[1;33m\u001b[0m\u001b[1;33m\u001b[0m\u001b[0m\n\u001b[1;32m-> 1321\u001b[1;33m                 \u001b[0mresponse\u001b[0m\u001b[1;33m.\u001b[0m\u001b[0mbegin\u001b[0m\u001b[1;33m(\u001b[0m\u001b[1;33m)\u001b[0m\u001b[1;33m\u001b[0m\u001b[1;33m\u001b[0m\u001b[0m\n\u001b[0m\u001b[0;32m   1322\u001b[0m             \u001b[1;32mexcept\u001b[0m \u001b[0mConnectionError\u001b[0m\u001b[1;33m:\u001b[0m\u001b[1;33m\u001b[0m\u001b[1;33m\u001b[0m\u001b[0m\n\u001b[0;32m   1323\u001b[0m                 \u001b[0mself\u001b[0m\u001b[1;33m.\u001b[0m\u001b[0mclose\u001b[0m\u001b[1;33m(\u001b[0m\u001b[1;33m)\u001b[0m\u001b[1;33m\u001b[0m\u001b[1;33m\u001b[0m\u001b[0m\n",
      "\u001b[1;32m~\\Anaconda3\\envs\\ee_py3\\lib\\http\\client.py\u001b[0m in \u001b[0;36mbegin\u001b[1;34m(self)\u001b[0m\n\u001b[0;32m    294\u001b[0m         \u001b[1;31m# read until we get a non-100 response\u001b[0m\u001b[1;33m\u001b[0m\u001b[1;33m\u001b[0m\u001b[1;33m\u001b[0m\u001b[0m\n\u001b[0;32m    295\u001b[0m         \u001b[1;32mwhile\u001b[0m \u001b[1;32mTrue\u001b[0m\u001b[1;33m:\u001b[0m\u001b[1;33m\u001b[0m\u001b[1;33m\u001b[0m\u001b[0m\n\u001b[1;32m--> 296\u001b[1;33m             \u001b[0mversion\u001b[0m\u001b[1;33m,\u001b[0m \u001b[0mstatus\u001b[0m\u001b[1;33m,\u001b[0m \u001b[0mreason\u001b[0m \u001b[1;33m=\u001b[0m \u001b[0mself\u001b[0m\u001b[1;33m.\u001b[0m\u001b[0m_read_status\u001b[0m\u001b[1;33m(\u001b[0m\u001b[1;33m)\u001b[0m\u001b[1;33m\u001b[0m\u001b[1;33m\u001b[0m\u001b[0m\n\u001b[0m\u001b[0;32m    297\u001b[0m             \u001b[1;32mif\u001b[0m \u001b[0mstatus\u001b[0m \u001b[1;33m!=\u001b[0m \u001b[0mCONTINUE\u001b[0m\u001b[1;33m:\u001b[0m\u001b[1;33m\u001b[0m\u001b[1;33m\u001b[0m\u001b[0m\n\u001b[0;32m    298\u001b[0m                 \u001b[1;32mbreak\u001b[0m\u001b[1;33m\u001b[0m\u001b[1;33m\u001b[0m\u001b[0m\n",
      "\u001b[1;32m~\\Anaconda3\\envs\\ee_py3\\lib\\http\\client.py\u001b[0m in \u001b[0;36m_read_status\u001b[1;34m(self)\u001b[0m\n\u001b[0;32m    255\u001b[0m \u001b[1;33m\u001b[0m\u001b[0m\n\u001b[0;32m    256\u001b[0m     \u001b[1;32mdef\u001b[0m \u001b[0m_read_status\u001b[0m\u001b[1;33m(\u001b[0m\u001b[0mself\u001b[0m\u001b[1;33m)\u001b[0m\u001b[1;33m:\u001b[0m\u001b[1;33m\u001b[0m\u001b[1;33m\u001b[0m\u001b[0m\n\u001b[1;32m--> 257\u001b[1;33m         \u001b[0mline\u001b[0m \u001b[1;33m=\u001b[0m \u001b[0mstr\u001b[0m\u001b[1;33m(\u001b[0m\u001b[0mself\u001b[0m\u001b[1;33m.\u001b[0m\u001b[0mfp\u001b[0m\u001b[1;33m.\u001b[0m\u001b[0mreadline\u001b[0m\u001b[1;33m(\u001b[0m\u001b[0m_MAXLINE\u001b[0m \u001b[1;33m+\u001b[0m \u001b[1;36m1\u001b[0m\u001b[1;33m)\u001b[0m\u001b[1;33m,\u001b[0m \u001b[1;34m\"iso-8859-1\"\u001b[0m\u001b[1;33m)\u001b[0m\u001b[1;33m\u001b[0m\u001b[1;33m\u001b[0m\u001b[0m\n\u001b[0m\u001b[0;32m    258\u001b[0m         \u001b[1;32mif\u001b[0m \u001b[0mlen\u001b[0m\u001b[1;33m(\u001b[0m\u001b[0mline\u001b[0m\u001b[1;33m)\u001b[0m \u001b[1;33m>\u001b[0m \u001b[0m_MAXLINE\u001b[0m\u001b[1;33m:\u001b[0m\u001b[1;33m\u001b[0m\u001b[1;33m\u001b[0m\u001b[0m\n\u001b[0;32m    259\u001b[0m             \u001b[1;32mraise\u001b[0m \u001b[0mLineTooLong\u001b[0m\u001b[1;33m(\u001b[0m\u001b[1;34m\"status line\"\u001b[0m\u001b[1;33m)\u001b[0m\u001b[1;33m\u001b[0m\u001b[1;33m\u001b[0m\u001b[0m\n",
      "\u001b[1;32m~\\Anaconda3\\envs\\ee_py3\\lib\\socket.py\u001b[0m in \u001b[0;36mreadinto\u001b[1;34m(self, b)\u001b[0m\n\u001b[0;32m    587\u001b[0m         \u001b[1;32mwhile\u001b[0m \u001b[1;32mTrue\u001b[0m\u001b[1;33m:\u001b[0m\u001b[1;33m\u001b[0m\u001b[1;33m\u001b[0m\u001b[0m\n\u001b[0;32m    588\u001b[0m             \u001b[1;32mtry\u001b[0m\u001b[1;33m:\u001b[0m\u001b[1;33m\u001b[0m\u001b[1;33m\u001b[0m\u001b[0m\n\u001b[1;32m--> 589\u001b[1;33m                 \u001b[1;32mreturn\u001b[0m \u001b[0mself\u001b[0m\u001b[1;33m.\u001b[0m\u001b[0m_sock\u001b[0m\u001b[1;33m.\u001b[0m\u001b[0mrecv_into\u001b[0m\u001b[1;33m(\u001b[0m\u001b[0mb\u001b[0m\u001b[1;33m)\u001b[0m\u001b[1;33m\u001b[0m\u001b[1;33m\u001b[0m\u001b[0m\n\u001b[0m\u001b[0;32m    590\u001b[0m             \u001b[1;32mexcept\u001b[0m \u001b[0mtimeout\u001b[0m\u001b[1;33m:\u001b[0m\u001b[1;33m\u001b[0m\u001b[1;33m\u001b[0m\u001b[0m\n\u001b[0;32m    591\u001b[0m                 \u001b[0mself\u001b[0m\u001b[1;33m.\u001b[0m\u001b[0m_timeout_occurred\u001b[0m \u001b[1;33m=\u001b[0m \u001b[1;32mTrue\u001b[0m\u001b[1;33m\u001b[0m\u001b[1;33m\u001b[0m\u001b[0m\n",
      "\u001b[1;32m~\\Anaconda3\\envs\\ee_py3\\lib\\site-packages\\urllib3\\contrib\\pyopenssl.py\u001b[0m in \u001b[0;36mrecv_into\u001b[1;34m(self, *args, **kwargs)\u001b[0m\n\u001b[0;32m    311\u001b[0m     \u001b[1;32mdef\u001b[0m \u001b[0mrecv_into\u001b[0m\u001b[1;33m(\u001b[0m\u001b[0mself\u001b[0m\u001b[1;33m,\u001b[0m \u001b[1;33m*\u001b[0m\u001b[0margs\u001b[0m\u001b[1;33m,\u001b[0m \u001b[1;33m**\u001b[0m\u001b[0mkwargs\u001b[0m\u001b[1;33m)\u001b[0m\u001b[1;33m:\u001b[0m\u001b[1;33m\u001b[0m\u001b[1;33m\u001b[0m\u001b[0m\n\u001b[0;32m    312\u001b[0m         \u001b[1;32mtry\u001b[0m\u001b[1;33m:\u001b[0m\u001b[1;33m\u001b[0m\u001b[1;33m\u001b[0m\u001b[0m\n\u001b[1;32m--> 313\u001b[1;33m             \u001b[1;32mreturn\u001b[0m \u001b[0mself\u001b[0m\u001b[1;33m.\u001b[0m\u001b[0mconnection\u001b[0m\u001b[1;33m.\u001b[0m\u001b[0mrecv_into\u001b[0m\u001b[1;33m(\u001b[0m\u001b[1;33m*\u001b[0m\u001b[0margs\u001b[0m\u001b[1;33m,\u001b[0m \u001b[1;33m**\u001b[0m\u001b[0mkwargs\u001b[0m\u001b[1;33m)\u001b[0m\u001b[1;33m\u001b[0m\u001b[1;33m\u001b[0m\u001b[0m\n\u001b[0m\u001b[0;32m    314\u001b[0m         \u001b[1;32mexcept\u001b[0m \u001b[0mOpenSSL\u001b[0m\u001b[1;33m.\u001b[0m\u001b[0mSSL\u001b[0m\u001b[1;33m.\u001b[0m\u001b[0mSysCallError\u001b[0m \u001b[1;32mas\u001b[0m \u001b[0me\u001b[0m\u001b[1;33m:\u001b[0m\u001b[1;33m\u001b[0m\u001b[1;33m\u001b[0m\u001b[0m\n\u001b[0;32m    315\u001b[0m             \u001b[1;32mif\u001b[0m \u001b[0mself\u001b[0m\u001b[1;33m.\u001b[0m\u001b[0msuppress_ragged_eofs\u001b[0m \u001b[1;32mand\u001b[0m \u001b[0me\u001b[0m\u001b[1;33m.\u001b[0m\u001b[0margs\u001b[0m \u001b[1;33m==\u001b[0m \u001b[1;33m(\u001b[0m\u001b[1;33m-\u001b[0m\u001b[1;36m1\u001b[0m\u001b[1;33m,\u001b[0m \u001b[1;34m\"Unexpected EOF\"\u001b[0m\u001b[1;33m)\u001b[0m\u001b[1;33m:\u001b[0m\u001b[1;33m\u001b[0m\u001b[1;33m\u001b[0m\u001b[0m\n",
      "\u001b[1;32m~\\Anaconda3\\envs\\ee_py3\\lib\\site-packages\\OpenSSL\\SSL.py\u001b[0m in \u001b[0;36mrecv_into\u001b[1;34m(self, buffer, nbytes, flags)\u001b[0m\n\u001b[0;32m   1819\u001b[0m             \u001b[0mresult\u001b[0m \u001b[1;33m=\u001b[0m \u001b[0m_lib\u001b[0m\u001b[1;33m.\u001b[0m\u001b[0mSSL_peek\u001b[0m\u001b[1;33m(\u001b[0m\u001b[0mself\u001b[0m\u001b[1;33m.\u001b[0m\u001b[0m_ssl\u001b[0m\u001b[1;33m,\u001b[0m \u001b[0mbuf\u001b[0m\u001b[1;33m,\u001b[0m \u001b[0mnbytes\u001b[0m\u001b[1;33m)\u001b[0m\u001b[1;33m\u001b[0m\u001b[1;33m\u001b[0m\u001b[0m\n\u001b[0;32m   1820\u001b[0m         \u001b[1;32melse\u001b[0m\u001b[1;33m:\u001b[0m\u001b[1;33m\u001b[0m\u001b[1;33m\u001b[0m\u001b[0m\n\u001b[1;32m-> 1821\u001b[1;33m             \u001b[0mresult\u001b[0m \u001b[1;33m=\u001b[0m \u001b[0m_lib\u001b[0m\u001b[1;33m.\u001b[0m\u001b[0mSSL_read\u001b[0m\u001b[1;33m(\u001b[0m\u001b[0mself\u001b[0m\u001b[1;33m.\u001b[0m\u001b[0m_ssl\u001b[0m\u001b[1;33m,\u001b[0m \u001b[0mbuf\u001b[0m\u001b[1;33m,\u001b[0m \u001b[0mnbytes\u001b[0m\u001b[1;33m)\u001b[0m\u001b[1;33m\u001b[0m\u001b[1;33m\u001b[0m\u001b[0m\n\u001b[0m\u001b[0;32m   1822\u001b[0m         \u001b[0mself\u001b[0m\u001b[1;33m.\u001b[0m\u001b[0m_raise_ssl_error\u001b[0m\u001b[1;33m(\u001b[0m\u001b[0mself\u001b[0m\u001b[1;33m.\u001b[0m\u001b[0m_ssl\u001b[0m\u001b[1;33m,\u001b[0m \u001b[0mresult\u001b[0m\u001b[1;33m)\u001b[0m\u001b[1;33m\u001b[0m\u001b[1;33m\u001b[0m\u001b[0m\n\u001b[0;32m   1823\u001b[0m \u001b[1;33m\u001b[0m\u001b[0m\n",
      "\u001b[1;31mKeyboardInterrupt\u001b[0m: "
     ]
    }
   ],
   "source": [
    "# triple-loop to create instances, so we can calculate the accuracy in each img/random/threshold\n",
    "\n",
    "Acc_threshold = {}\n",
    "\n",
    "flag = 0\n",
    "total_ops = len(classified_imgs)*len(test_sample)*10\n",
    "\n",
    "for name,img in classified_imgs.items():\n",
    "    for i,sample in enumerate(test_sample):\n",
    "        for threshold in range(1,11):\n",
    "            \n",
    "            # update the flag\n",
    "            flag = flag + 1\n",
    "            \n",
    "            # apply the threshold to the sum of 10 classifications,rename so we can use Accuracyassement module\n",
    "            img_threshold = img.gte(threshold).rename('classification')\n",
    "            \n",
    "            # extract reclassified GAIA pixel value to test_sample\n",
    "            sample_with_value = img_threshold.sampleRegions(collection = sample, \n",
    "                                                            properties = ['Built'], \n",
    "                                                            scale      = 30)\n",
    "            \n",
    "            # compute the accuracy \n",
    "            Acc_threshold[(name,threshold,i)] = Accuracy_assesment(sample_with_value).Stp_1_Calculate_Accuracy()\n",
    "            \n",
    "            # print out the process\n",
    "            print(f'Accuracy computation of {name}-{threshold}-{i} complete!  ==> {flag}/{total_ops}')\n",
    "            \n",
    "            "
   ]
  },
  {
   "cell_type": "code",
   "execution_count": null,
   "metadata": {},
   "outputs": [],
   "source": []
  },
  {
   "cell_type": "code",
   "execution_count": 74,
   "metadata": {},
   "outputs": [],
   "source": [
    "df = pd.DataFrame(Acc_threshold).T"
   ]
  },
  {
   "cell_type": "code",
   "execution_count": 76,
   "metadata": {},
   "outputs": [],
   "source": [
    "df = df.reset_index()"
   ]
  },
  {
   "cell_type": "code",
   "execution_count": 78,
   "metadata": {},
   "outputs": [],
   "source": [
    "test = df[df['level_0'] == 'Landsat_1990_1992']"
   ]
  },
  {
   "cell_type": "code",
   "execution_count": 79,
   "metadata": {},
   "outputs": [
    {
     "data": {
      "text/html": [
       "<div>\n",
       "<style scoped>\n",
       "    .dataframe tbody tr th:only-of-type {\n",
       "        vertical-align: middle;\n",
       "    }\n",
       "\n",
       "    .dataframe tbody tr th {\n",
       "        vertical-align: top;\n",
       "    }\n",
       "\n",
       "    .dataframe thead th {\n",
       "        text-align: right;\n",
       "    }\n",
       "</style>\n",
       "<table border=\"1\" class=\"dataframe\">\n",
       "  <thead>\n",
       "    <tr style=\"text-align: right;\">\n",
       "      <th></th>\n",
       "      <th>level_0</th>\n",
       "      <th>level_1</th>\n",
       "      <th>level_2</th>\n",
       "      <th>Overall_ACC</th>\n",
       "      <th>Precisioin_non_built</th>\n",
       "      <th>Precisioin_built</th>\n",
       "      <th>Recall_non_built</th>\n",
       "      <th>Recall_built</th>\n",
       "    </tr>\n",
       "  </thead>\n",
       "  <tbody>\n",
       "    <tr>\n",
       "      <th>0</th>\n",
       "      <td>Landsat_1990_1992</td>\n",
       "      <td>1</td>\n",
       "      <td>0</td>\n",
       "      <td>2.34</td>\n",
       "      <td>4.39</td>\n",
       "      <td>0.00</td>\n",
       "      <td>4.76</td>\n",
       "      <td>0.00</td>\n",
       "    </tr>\n",
       "    <tr>\n",
       "      <th>1</th>\n",
       "      <td>Landsat_1990_1992</td>\n",
       "      <td>2</td>\n",
       "      <td>0</td>\n",
       "      <td>1.64</td>\n",
       "      <td>3.12</td>\n",
       "      <td>0.00</td>\n",
       "      <td>3.34</td>\n",
       "      <td>0.00</td>\n",
       "    </tr>\n",
       "    <tr>\n",
       "      <th>2</th>\n",
       "      <td>Landsat_1990_1992</td>\n",
       "      <td>3</td>\n",
       "      <td>0</td>\n",
       "      <td>1.03</td>\n",
       "      <td>1.82</td>\n",
       "      <td>0.17</td>\n",
       "      <td>1.92</td>\n",
       "      <td>0.16</td>\n",
       "    </tr>\n",
       "    <tr>\n",
       "      <th>3</th>\n",
       "      <td>Landsat_1990_1992</td>\n",
       "      <td>4</td>\n",
       "      <td>0</td>\n",
       "      <td>0.70</td>\n",
       "      <td>0.96</td>\n",
       "      <td>0.42</td>\n",
       "      <td>1.00</td>\n",
       "      <td>0.40</td>\n",
       "    </tr>\n",
       "    <tr>\n",
       "      <th>4</th>\n",
       "      <td>Landsat_1990_1992</td>\n",
       "      <td>5</td>\n",
       "      <td>0</td>\n",
       "      <td>0.82</td>\n",
       "      <td>0.57</td>\n",
       "      <td>1.08</td>\n",
       "      <td>0.58</td>\n",
       "      <td>1.05</td>\n",
       "    </tr>\n",
       "    <tr>\n",
       "      <th>...</th>\n",
       "      <td>...</td>\n",
       "      <td>...</td>\n",
       "      <td>...</td>\n",
       "      <td>...</td>\n",
       "      <td>...</td>\n",
       "      <td>...</td>\n",
       "      <td>...</td>\n",
       "      <td>...</td>\n",
       "    </tr>\n",
       "    <tr>\n",
       "      <th>95</th>\n",
       "      <td>Landsat_1990_1992</td>\n",
       "      <td>6</td>\n",
       "      <td>9</td>\n",
       "      <td>0.68</td>\n",
       "      <td>0.09</td>\n",
       "      <td>1.25</td>\n",
       "      <td>0.08</td>\n",
       "      <td>1.30</td>\n",
       "    </tr>\n",
       "    <tr>\n",
       "      <th>96</th>\n",
       "      <td>Landsat_1990_1992</td>\n",
       "      <td>7</td>\n",
       "      <td>9</td>\n",
       "      <td>1.16</td>\n",
       "      <td>0.00</td>\n",
       "      <td>2.23</td>\n",
       "      <td>0.00</td>\n",
       "      <td>2.34</td>\n",
       "    </tr>\n",
       "    <tr>\n",
       "      <th>97</th>\n",
       "      <td>Landsat_1990_1992</td>\n",
       "      <td>8</td>\n",
       "      <td>9</td>\n",
       "      <td>1.97</td>\n",
       "      <td>0.00</td>\n",
       "      <td>3.75</td>\n",
       "      <td>0.00</td>\n",
       "      <td>3.98</td>\n",
       "    </tr>\n",
       "    <tr>\n",
       "      <th>98</th>\n",
       "      <td>Landsat_1990_1992</td>\n",
       "      <td>9</td>\n",
       "      <td>9</td>\n",
       "      <td>2.95</td>\n",
       "      <td>0.00</td>\n",
       "      <td>5.52</td>\n",
       "      <td>0.00</td>\n",
       "      <td>5.97</td>\n",
       "    </tr>\n",
       "    <tr>\n",
       "      <th>99</th>\n",
       "      <td>Landsat_1990_1992</td>\n",
       "      <td>10</td>\n",
       "      <td>9</td>\n",
       "      <td>49.42</td>\n",
       "      <td>NaN</td>\n",
       "      <td>49.42</td>\n",
       "      <td>0.00</td>\n",
       "      <td>100.00</td>\n",
       "    </tr>\n",
       "  </tbody>\n",
       "</table>\n",
       "<p>100 rows × 8 columns</p>\n",
       "</div>"
      ],
      "text/plain": [
       "              level_0  level_1  level_2  Overall_ACC  Precisioin_non_built  \\\n",
       "0   Landsat_1990_1992        1        0         2.34                  4.39   \n",
       "1   Landsat_1990_1992        2        0         1.64                  3.12   \n",
       "2   Landsat_1990_1992        3        0         1.03                  1.82   \n",
       "3   Landsat_1990_1992        4        0         0.70                  0.96   \n",
       "4   Landsat_1990_1992        5        0         0.82                  0.57   \n",
       "..                ...      ...      ...          ...                   ...   \n",
       "95  Landsat_1990_1992        6        9         0.68                  0.09   \n",
       "96  Landsat_1990_1992        7        9         1.16                  0.00   \n",
       "97  Landsat_1990_1992        8        9         1.97                  0.00   \n",
       "98  Landsat_1990_1992        9        9         2.95                  0.00   \n",
       "99  Landsat_1990_1992       10        9        49.42                   NaN   \n",
       "\n",
       "    Precisioin_built  Recall_non_built  Recall_built  \n",
       "0               0.00              4.76          0.00  \n",
       "1               0.00              3.34          0.00  \n",
       "2               0.17              1.92          0.16  \n",
       "3               0.42              1.00          0.40  \n",
       "4               1.08              0.58          1.05  \n",
       "..               ...               ...           ...  \n",
       "95              1.25              0.08          1.30  \n",
       "96              2.23              0.00          2.34  \n",
       "97              3.75              0.00          3.98  \n",
       "98              5.52              0.00          5.97  \n",
       "99             49.42              0.00        100.00  \n",
       "\n",
       "[100 rows x 8 columns]"
      ]
     },
     "execution_count": 79,
     "metadata": {},
     "output_type": "execute_result"
    }
   ],
   "source": [
    "test"
   ]
  },
  {
   "cell_type": "code",
   "execution_count": 80,
   "metadata": {},
   "outputs": [
    {
     "data": {
      "text/plain": [
       "<matplotlib.axes._subplots.AxesSubplot at 0x2acfadcefd0>"
      ]
     },
     "execution_count": 80,
     "metadata": {},
     "output_type": "execute_result"
    },
    {
     "data": {
      "image/png": "[encoded data removed]",
      "text/plain": [
       "<Figure size 432x288 with 1 Axes>"
      ]
     },
     "metadata": {
      "needs_background": "light"
     },
     "output_type": "display_data"
    }
   ],
   "source": [
    "sns.lineplot(data = test,x='level_1',y='Overall_ACC')"
   ]
  },
  {
   "cell_type": "code",
   "execution_count": null,
   "metadata": {},
   "outputs": [],
   "source": []
  },
  {
   "cell_type": "code",
   "execution_count": null,
   "metadata": {},
   "outputs": [],
   "source": []
  },
  {
   "cell_type": "code",
   "execution_count": 83,
   "metadata": {},
   "outputs": [
    {
     "data": {
      "text/plain": [
       "2439"
      ]
     },
     "execution_count": 83,
     "metadata": {},
     "output_type": "execute_result"
    }
   ],
   "source": [
    "sample_with_value.size().getInfo()"
   ]
  },
  {
   "cell_type": "code",
   "execution_count": null,
   "metadata": {},
   "outputs": [],
   "source": []
  },
  {
   "cell_type": "code",
   "execution_count": null,
   "metadata": {},
   "outputs": [],
   "source": []
  },
  {
   "cell_type": "code",
   "execution_count": null,
   "metadata": {},
   "outputs": [],
   "source": []
  },
  {
   "cell_type": "code",
   "execution_count": null,
   "metadata": {},
   "outputs": [],
   "source": []
  },
  {
   "cell_type": "code",
   "execution_count": null,
   "metadata": {},
   "outputs": [],
   "source": []
  },
  {
   "cell_type": "code",
   "execution_count": null,
   "metadata": {},
   "outputs": [],
   "source": []
  },
  {
   "cell_type": "code",
   "execution_count": null,
   "metadata": {},
   "outputs": [],
   "source": []
  },
  {
   "cell_type": "code",
   "execution_count": null,
   "metadata": {},
   "outputs": [],
   "source": []
  },
  {
   "cell_type": "code",
   "execution_count": null,
   "metadata": {},
   "outputs": [],
   "source": []
  },
  {
   "cell_type": "code",
   "execution_count": null,
   "metadata": {},
   "outputs": [],
   "source": []
  },
  {
   "cell_type": "code",
   "execution_count": null,
   "metadata": {},
   "outputs": [],
   "source": []
  },
  {
   "cell_type": "code",
   "execution_count": null,
   "metadata": {},
   "outputs": [],
   "source": []
  },
  {
   "cell_type": "code",
   "execution_count": null,
   "metadata": {},
   "outputs": [],
   "source": []
  }
 ],
 "metadata": {
  "kernelspec": {
   "display_name": "Python 3",
   "language": "python",
   "name": "python3"
  },
  "language_info": {
   "codemirror_mode": {
    "name": "ipython",
    "version": 3
   },
   "file_extension": ".py",
   "mimetype": "text/x-python",
   "name": "python",
   "nbconvert_exporter": "python",
   "pygments_lexer": "ipython3",
   "version": "3.7.3"
  }
 },
 "nbformat": 4,
 "nbformat_minor": 2
}
