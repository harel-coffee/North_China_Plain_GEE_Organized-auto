{
 "cells": [
  {
   "cell_type": "code",
   "execution_count": 1,
   "metadata": {},
   "outputs": [],
   "source": [
    "import ee\n",
    "import pandas as pd\n",
    "import seaborn as sns\n",
    "import matplotlib.pyplot as plt\n",
    "\n",
    "import json\n",
    "import random"
   ]
  },
  {
   "cell_type": "code",
   "execution_count": 2,
   "metadata": {},
   "outputs": [],
   "source": [
    "ee.Initialize()"
   ]
  },
  {
   "cell_type": "code",
   "execution_count": null,
   "metadata": {},
   "outputs": [],
   "source": []
  },
  {
   "cell_type": "markdown",
   "metadata": {},
   "source": [
    "### Define basic parameters"
   ]
  },
  {
   "cell_type": "code",
   "execution_count": null,
   "metadata": {},
   "outputs": [],
   "source": []
  },
  {
   "cell_type": "code",
   "execution_count": 3,
   "metadata": {},
   "outputs": [],
   "source": [
    "# define the year range\n",
    "year_span  = [f'{i}_{i+2}' for i in range(1990,2020,3)]\n",
    "\n",
    "# define the number of non-built control points\n",
    "num_non_built = 5000\n",
    "\n",
    "# import some spatial constrains\n",
    "North_china_plain_boundary = ee.FeatureCollection(\"users/wangjinzhulala/North_China_Plain_Python/Boundary_shp/North_China_Plain_Boundary\")"
   ]
  },
  {
   "cell_type": "code",
   "execution_count": 4,
   "metadata": {},
   "outputs": [
    {
     "data": {
      "text/plain": [
       "['1990_1992',\n",
       " '1993_1995',\n",
       " '1996_1998',\n",
       " '1999_2001',\n",
       " '2002_2004',\n",
       " '2005_2007',\n",
       " '2008_2010',\n",
       " '2011_2013',\n",
       " '2014_2016',\n",
       " '2017_2019']"
      ]
     },
     "execution_count": 4,
     "metadata": {},
     "output_type": "execute_result"
    }
   ],
   "source": [
    "year_span"
   ]
  },
  {
   "cell_type": "code",
   "execution_count": null,
   "metadata": {},
   "outputs": [],
   "source": []
  },
  {
   "cell_type": "markdown",
   "metadata": {},
   "source": [
    "### Calculate the sample_point_num for each NDVI value"
   ]
  },
  {
   "cell_type": "code",
   "execution_count": null,
   "metadata": {},
   "outputs": [],
   "source": []
  },
  {
   "cell_type": "markdown",
   "metadata": {},
   "source": [
    "##### Step_1: Compute the histogram of NDVI for each Landsat image"
   ]
  },
  {
   "cell_type": "code",
   "execution_count": 5,
   "metadata": {},
   "outputs": [
    {
     "name": "stdout",
     "output_type": "stream",
     "text": [
      "Histogram calculation of Year_1990_1992_Mean_NDVI completed!\n",
      "Histogram calculation of Year_1993_1995_Mean_NDVI completed!\n",
      "Histogram calculation of Year_1996_1998_Mean_NDVI completed!\n",
      "Histogram calculation of Year_1999_2001_Mean_NDVI completed!\n",
      "Histogram calculation of Year_2002_2004_Mean_NDVI completed!\n",
      "Histogram calculation of Year_2005_2007_Mean_NDVI completed!\n",
      "Histogram calculation of Year_2008_2010_Mean_NDVI completed!\n",
      "Histogram calculation of Year_2011_2013_Mean_NDVI completed!\n",
      "Histogram calculation of Year_2014_2016_Mean_NDVI completed!\n",
      "Histogram calculation of Year_2017_2019_Mean_NDVI completed!\n"
     ]
    }
   ],
   "source": [
    "NDVI_hist = {}\n",
    "\n",
    "# loop through each year_range \n",
    "for span in year_span:\n",
    "    \n",
    "      \n",
    "    # Fetch the NDVI value \n",
    "    NDVI = ee.Image(f'users/wensomone666/Jinzhu/Mean_NDVI/Year_{span}_Mean_NDVI').clip(North_china_plain_boundary)\n",
    "    \n",
    "    # Calculate the area percentage of each NDVI value \n",
    "    NDVI_frequency = NDVI.reduceRegion(reducer   = ee.Reducer.histogram(200),\n",
    "                                       geometry  = North_china_plain_boundary.geometry().bounds(), \n",
    "                                       scale     = 30, \n",
    "                                       maxPixels = int(1e13)).getInfo()\n",
    "    \n",
    "    # unpack the value from histogram\n",
    "    count    = [round(i) for i in NDVI_frequency['nd']['histogram']]\n",
    "    nd_value = [round(i) for i in NDVI_frequency['nd']['bucketMeans']]\n",
    "    \n",
    "    # put the hist value into the hist dictionary\n",
    "    NDVI_hist[span] = list(zip(nd_value,count))\n",
    "    \n",
    "    # print out the process\n",
    "    print(f'Histogram calculation of Year_{span}_Mean_NDVI completed!')\n",
    "    "
   ]
  },
  {
   "cell_type": "code",
   "execution_count": null,
   "metadata": {},
   "outputs": [],
   "source": []
  },
  {
   "cell_type": "code",
   "execution_count": null,
   "metadata": {},
   "outputs": [],
   "source": []
  },
  {
   "cell_type": "code",
   "execution_count": 7,
   "metadata": {},
   "outputs": [],
   "source": [
    "# innitilize an empyty datafram\n",
    "NDVI_hist_df = pd.DataFrame()\n",
    "\n",
    "# loop through each year, put the histogram of the nd into a dataframe, \n",
    "# and concate the dataframe into one dataframe\n",
    "for year_name, nd_freq in NDVI_hist.items():\n",
    "    \n",
    "    # Create a datafram to hold the histogram of this year_name\n",
    "    tmp_df = pd.DataFrame(data=nd_freq,\n",
    "                          index=[year_name]*len(nd_freq),\n",
    "                          columns=['NDVI','Freq'])\n",
    "    \n",
    "    # Calculate the Select_num by multiply num_non_built with the proportion of each NDVI frequency\n",
    "    tmp_df['Select_num'] = tmp_df['Freq'].apply(lambda x: round(x*num_non_built/(tmp_df['Freq'].sum())))\n",
    "    \n",
    "    # concate the tmp_df to \n",
    "    NDVI_hist_df = pd.concat([NDVI_hist_df,tmp_df])\n",
    "    "
   ]
  },
  {
   "cell_type": "code",
   "execution_count": null,
   "metadata": {},
   "outputs": [],
   "source": []
  },
  {
   "cell_type": "code",
   "execution_count": null,
   "metadata": {},
   "outputs": [],
   "source": []
  },
  {
   "cell_type": "code",
   "execution_count": 8,
   "metadata": {},
   "outputs": [
    {
     "data": {
      "text/html": [
       "<div>\n",
       "<style scoped>\n",
       "    .dataframe tbody tr th:only-of-type {\n",
       "        vertical-align: middle;\n",
       "    }\n",
       "\n",
       "    .dataframe tbody tr th {\n",
       "        vertical-align: top;\n",
       "    }\n",
       "\n",
       "    .dataframe thead th {\n",
       "        text-align: right;\n",
       "    }\n",
       "</style>\n",
       "<table border=\"1\" class=\"dataframe\">\n",
       "  <thead>\n",
       "    <tr style=\"text-align: right;\">\n",
       "      <th></th>\n",
       "      <th>Year_range</th>\n",
       "      <th>NDVI</th>\n",
       "      <th>Freq</th>\n",
       "      <th>Select_num</th>\n",
       "    </tr>\n",
       "  </thead>\n",
       "  <tbody>\n",
       "    <tr>\n",
       "      <th>0</th>\n",
       "      <td>1990_1992</td>\n",
       "      <td>-34</td>\n",
       "      <td>2</td>\n",
       "      <td>0.0</td>\n",
       "    </tr>\n",
       "    <tr>\n",
       "      <th>1</th>\n",
       "      <td>1990_1992</td>\n",
       "      <td>-33</td>\n",
       "      <td>13</td>\n",
       "      <td>0.0</td>\n",
       "    </tr>\n",
       "    <tr>\n",
       "      <th>2</th>\n",
       "      <td>1990_1992</td>\n",
       "      <td>-32</td>\n",
       "      <td>34</td>\n",
       "      <td>0.0</td>\n",
       "    </tr>\n",
       "    <tr>\n",
       "      <th>3</th>\n",
       "      <td>1990_1992</td>\n",
       "      <td>-31</td>\n",
       "      <td>75</td>\n",
       "      <td>0.0</td>\n",
       "    </tr>\n",
       "    <tr>\n",
       "      <th>4</th>\n",
       "      <td>1990_1992</td>\n",
       "      <td>-30</td>\n",
       "      <td>174</td>\n",
       "      <td>0.0</td>\n",
       "    </tr>\n",
       "    <tr>\n",
       "      <th>...</th>\n",
       "      <td>...</td>\n",
       "      <td>...</td>\n",
       "      <td>...</td>\n",
       "      <td>...</td>\n",
       "    </tr>\n",
       "    <tr>\n",
       "      <th>737</th>\n",
       "      <td>2017_2019</td>\n",
       "      <td>36</td>\n",
       "      <td>623</td>\n",
       "      <td>0.0</td>\n",
       "    </tr>\n",
       "    <tr>\n",
       "      <th>738</th>\n",
       "      <td>2017_2019</td>\n",
       "      <td>37</td>\n",
       "      <td>162</td>\n",
       "      <td>0.0</td>\n",
       "    </tr>\n",
       "    <tr>\n",
       "      <th>739</th>\n",
       "      <td>2017_2019</td>\n",
       "      <td>38</td>\n",
       "      <td>28</td>\n",
       "      <td>0.0</td>\n",
       "    </tr>\n",
       "    <tr>\n",
       "      <th>740</th>\n",
       "      <td>2017_2019</td>\n",
       "      <td>39</td>\n",
       "      <td>3</td>\n",
       "      <td>0.0</td>\n",
       "    </tr>\n",
       "    <tr>\n",
       "      <th>741</th>\n",
       "      <td>2017_2019</td>\n",
       "      <td>40</td>\n",
       "      <td>1</td>\n",
       "      <td>0.0</td>\n",
       "    </tr>\n",
       "  </tbody>\n",
       "</table>\n",
       "<p>742 rows × 4 columns</p>\n",
       "</div>"
      ],
      "text/plain": [
       "    Year_range  NDVI  Freq  Select_num\n",
       "0    1990_1992   -34     2         0.0\n",
       "1    1990_1992   -33    13         0.0\n",
       "2    1990_1992   -32    34         0.0\n",
       "3    1990_1992   -31    75         0.0\n",
       "4    1990_1992   -30   174         0.0\n",
       "..         ...   ...   ...         ...\n",
       "737  2017_2019    36   623         0.0\n",
       "738  2017_2019    37   162         0.0\n",
       "739  2017_2019    38    28         0.0\n",
       "740  2017_2019    39     3         0.0\n",
       "741  2017_2019    40     1         0.0\n",
       "\n",
       "[742 rows x 4 columns]"
      ]
     },
     "execution_count": 8,
     "metadata": {},
     "output_type": "execute_result"
    }
   ],
   "source": [
    "# save the NDVI_hist_df to local disk\n",
    "NDVI_hist_df.index.name = 'Year_range'\n",
    "NDVI_hist_df.to_csv('./Result_df/NDVI_area_propotion.csv')\n",
    "\n",
    "# load the NDVI_hist_df from locak disk\n",
    "NDVI_hist_df = pd.read_csv('./Result_df/NDVI_area_propotion.csv')\n",
    "NDVI_hist_df"
   ]
  },
  {
   "cell_type": "code",
   "execution_count": null,
   "metadata": {},
   "outputs": [],
   "source": []
  },
  {
   "cell_type": "markdown",
   "metadata": {},
   "source": [
    "##### Step_2: Create 50K random sample point and extract NDVI value to it"
   ]
  },
  {
   "cell_type": "code",
   "execution_count": null,
   "metadata": {},
   "outputs": [],
   "source": []
  },
  {
   "cell_type": "code",
   "execution_count": 10,
   "metadata": {},
   "outputs": [
    {
     "name": "stdout",
     "output_type": "stream",
     "text": [
      "Sample_50K_year_1990_1992 exprted sucessfully\n",
      "Sample_50K_year_1993_1995 exprted sucessfully\n",
      "Sample_50K_year_1996_1998 exprted sucessfully\n",
      "Sample_50K_year_1999_2001 exprted sucessfully\n",
      "Sample_50K_year_2002_2004 exprted sucessfully\n",
      "Sample_50K_year_2005_2007 exprted sucessfully\n",
      "Sample_50K_year_2008_2010 exprted sucessfully\n",
      "Sample_50K_year_2011_2013 exprted sucessfully\n",
      "Sample_50K_year_2014_2016 exprted sucessfully\n",
      "Sample_50K_year_2017_2019 exprted sucessfully\n"
     ]
    }
   ],
   "source": [
    "Path = 'users/wangjinzhulala/North_China_Plain_Python/Sample_50K'\n",
    "\n",
    "for year in year_span:\n",
    "    \n",
    "    # create name variables from span\n",
    "    asset_name = f'Sample_50K_year_{year}'\n",
    "    \n",
    "    # fetch the NDVI img\n",
    "    NDVI_img = ee.Image(f'users/wensomone666/Jinzhu/Mean_NDVI/Year_{year}_Mean_NDVI').clip(North_china_plain_boundary)\n",
    "    \n",
    "    # create 50K sample point\n",
    "    Sample_50k = NDVI_img.sample(region = North_china_plain_boundary.geometry(),\n",
    "                                 scale = 30,\n",
    "                                 numPixels=50000,\n",
    "                                 geometries = True)\n",
    "    \n",
    "    # export \n",
    "#     task = ee.batch.Export.table.toAsset(   collection  = Sample_50k,\n",
    "#                                             description = f'Exporting {asset_name}',\n",
    "#                                             assetId     = f'{Path}/{asset_name}')\n",
    "#     task.start()\n",
    "    \n",
    "    # print out the process\n",
    "    print(f'{asset_name} exprted sucessfully')"
   ]
  },
  {
   "cell_type": "code",
   "execution_count": null,
   "metadata": {},
   "outputs": [],
   "source": []
  },
  {
   "cell_type": "code",
   "execution_count": null,
   "metadata": {},
   "outputs": [],
   "source": []
  },
  {
   "cell_type": "markdown",
   "metadata": {},
   "source": [
    "##### Step_3_Random select sample from the 50K points"
   ]
  },
  {
   "cell_type": "code",
   "execution_count": null,
   "metadata": {},
   "outputs": [],
   "source": []
  },
  {
   "cell_type": "code",
   "execution_count": 11,
   "metadata": {},
   "outputs": [],
   "source": [
    "# create a function for ramdom sampling\n",
    "\n",
    "def sample_list(x):\n",
    "    \n",
    "    L = x['.geo']\n",
    "    n = int(x['Select_num'])\n",
    "    \n",
    "    select = random.sample(L,n)\n",
    "    \n",
    "    return select"
   ]
  },
  {
   "cell_type": "code",
   "execution_count": null,
   "metadata": {},
   "outputs": [],
   "source": []
  },
  {
   "cell_type": "code",
   "execution_count": 12,
   "metadata": {},
   "outputs": [],
   "source": [
    "sample_df_list = []\n",
    "\n",
    "for year in year_span:\n",
    "    \n",
    "    #________________________Step_1: Preprocessing for 50K sample_______________________\n",
    "    \n",
    "    # read the 50K random points\n",
    "    df = pd.read_csv(f'./Random_50K/Sample_50K_{year}.csv')\n",
    "    \n",
    "    # transform .geo to json\n",
    "    df.drop('system:index',1,inplace=True)\n",
    "    df['.geo'] = df['.geo'].apply(lambda x: json.loads(x))\n",
    "    \n",
    "    # collapse all json points with the same NDVI value into one list\n",
    "    # and store in the df_50K dataframe\n",
    "    df_50K = pd.DataFrame(df.groupby('nd')['.geo'].apply(lambda x: list(x)))\n",
    "    \n",
    "    #_________________________Step_2: Join df_histgrame with df_50K______________________\n",
    "    \n",
    "    # Select the df_hist that are in the same year with df_50K\n",
    "    df_hist = NDVI_hist_df[NDVI_hist_df['Year_range'] == year]\n",
    "    \n",
    "    # Join df_hist and df_50K, remove the rows with a 0 select_num\n",
    "    df_join = df_hist.join(df_50K, on='NDVI',how='inner')\n",
    "    df_join = df_join[df_join['Select_num'] > 0]\n",
    "    \n",
    "    \n",
    "    #_________________________Step_3: Perform the random sampling\n",
    "    \n",
    "    # Apply the function to collapse all json points of the same nd value into one list\n",
    "    df_join['Sample'] = df_join.apply(sample_list,1)\n",
    "    \n",
    "    # Extract only necessay data\n",
    "    df_join_sample = df_join[['Year_range','NDVI','Sample']]\n",
    "    \n",
    "    # Explode the sample column, so we get the random point at each row\n",
    "    df_join_sample = df_join_sample.explode('Sample')\n",
    "    \n",
    "    # add the result to sample_df\n",
    "    sample_df_list.append(df_join_sample)"
   ]
  },
  {
   "cell_type": "code",
   "execution_count": null,
   "metadata": {},
   "outputs": [],
   "source": []
  },
  {
   "cell_type": "code",
   "execution_count": 13,
   "metadata": {},
   "outputs": [],
   "source": [
    "# # concat all random-stratified sample into one datafram\n",
    "# sample_df = pd.concat(sample_df_list).reset_index(drop=True)\n",
    "\n",
    "# # unravel the sample to get lon/lat\n",
    "# sample_df['lon'] = sample_df['Sample'].apply(lambda x: x['coordinates'][0])\n",
    "# sample_df['lat'] = sample_df['Sample'].apply(lambda x: x['coordinates'][1])\n",
    "# sample_df.drop('Sample',1,inplace=True)\n",
    "\n",
    "# # Save the sample_df to disk\n",
    "# sample_df.to_csv('./Result_df/Sample_point.csv',index=False)\n",
    "\n",
    "# Load the sample_df\n",
    "sample_df = pd.read_csv('./Result_df/Sample_point.csv')"
   ]
  },
  {
   "cell_type": "code",
   "execution_count": null,
   "metadata": {},
   "outputs": [],
   "source": []
  },
  {
   "cell_type": "code",
   "execution_count": 14,
   "metadata": {},
   "outputs": [
    {
     "data": {
      "text/html": [
       "<div>\n",
       "<style scoped>\n",
       "    .dataframe tbody tr th:only-of-type {\n",
       "        vertical-align: middle;\n",
       "    }\n",
       "\n",
       "    .dataframe tbody tr th {\n",
       "        vertical-align: top;\n",
       "    }\n",
       "\n",
       "    .dataframe thead th {\n",
       "        text-align: right;\n",
       "    }\n",
       "</style>\n",
       "<table border=\"1\" class=\"dataframe\">\n",
       "  <thead>\n",
       "    <tr style=\"text-align: right;\">\n",
       "      <th></th>\n",
       "      <th>Year_range</th>\n",
       "      <th>NDVI</th>\n",
       "      <th>lon</th>\n",
       "      <th>lat</th>\n",
       "    </tr>\n",
       "  </thead>\n",
       "  <tbody>\n",
       "    <tr>\n",
       "      <th>0</th>\n",
       "      <td>1990_1992</td>\n",
       "      <td>-27</td>\n",
       "      <td>120.053909</td>\n",
       "      <td>31.255406</td>\n",
       "    </tr>\n",
       "    <tr>\n",
       "      <th>1</th>\n",
       "      <td>1990_1992</td>\n",
       "      <td>-26</td>\n",
       "      <td>120.094264</td>\n",
       "      <td>31.383617</td>\n",
       "    </tr>\n",
       "    <tr>\n",
       "      <th>2</th>\n",
       "      <td>1990_1992</td>\n",
       "      <td>-26</td>\n",
       "      <td>120.139539</td>\n",
       "      <td>31.381661</td>\n",
       "    </tr>\n",
       "    <tr>\n",
       "      <th>3</th>\n",
       "      <td>1990_1992</td>\n",
       "      <td>-25</td>\n",
       "      <td>120.008927</td>\n",
       "      <td>31.236220</td>\n",
       "    </tr>\n",
       "    <tr>\n",
       "      <th>4</th>\n",
       "      <td>1990_1992</td>\n",
       "      <td>-24</td>\n",
       "      <td>119.975689</td>\n",
       "      <td>31.223462</td>\n",
       "    </tr>\n",
       "    <tr>\n",
       "      <th>...</th>\n",
       "      <td>...</td>\n",
       "      <td>...</td>\n",
       "      <td>...</td>\n",
       "      <td>...</td>\n",
       "    </tr>\n",
       "    <tr>\n",
       "      <th>49977</th>\n",
       "      <td>2017_2019</td>\n",
       "      <td>28</td>\n",
       "      <td>118.155237</td>\n",
       "      <td>29.995881</td>\n",
       "    </tr>\n",
       "    <tr>\n",
       "      <th>49978</th>\n",
       "      <td>2017_2019</td>\n",
       "      <td>29</td>\n",
       "      <td>117.612038</td>\n",
       "      <td>29.674390</td>\n",
       "    </tr>\n",
       "    <tr>\n",
       "      <th>49979</th>\n",
       "      <td>2017_2019</td>\n",
       "      <td>29</td>\n",
       "      <td>118.401913</td>\n",
       "      <td>29.692320</td>\n",
       "    </tr>\n",
       "    <tr>\n",
       "      <th>49980</th>\n",
       "      <td>2017_2019</td>\n",
       "      <td>30</td>\n",
       "      <td>118.474074</td>\n",
       "      <td>30.210384</td>\n",
       "    </tr>\n",
       "    <tr>\n",
       "      <th>49981</th>\n",
       "      <td>2017_2019</td>\n",
       "      <td>31</td>\n",
       "      <td>118.545031</td>\n",
       "      <td>30.275704</td>\n",
       "    </tr>\n",
       "  </tbody>\n",
       "</table>\n",
       "<p>49982 rows × 4 columns</p>\n",
       "</div>"
      ],
      "text/plain": [
       "      Year_range  NDVI         lon        lat\n",
       "0      1990_1992   -27  120.053909  31.255406\n",
       "1      1990_1992   -26  120.094264  31.383617\n",
       "2      1990_1992   -26  120.139539  31.381661\n",
       "3      1990_1992   -25  120.008927  31.236220\n",
       "4      1990_1992   -24  119.975689  31.223462\n",
       "...          ...   ...         ...        ...\n",
       "49977  2017_2019    28  118.155237  29.995881\n",
       "49978  2017_2019    29  117.612038  29.674390\n",
       "49979  2017_2019    29  118.401913  29.692320\n",
       "49980  2017_2019    30  118.474074  30.210384\n",
       "49981  2017_2019    31  118.545031  30.275704\n",
       "\n",
       "[49982 rows x 4 columns]"
      ]
     },
     "execution_count": 14,
     "metadata": {},
     "output_type": "execute_result"
    }
   ],
   "source": [
    "sample_df"
   ]
  },
  {
   "cell_type": "code",
   "execution_count": null,
   "metadata": {},
   "outputs": [],
   "source": []
  },
  {
   "cell_type": "code",
   "execution_count": null,
   "metadata": {},
   "outputs": [],
   "source": []
  },
  {
   "cell_type": "code",
   "execution_count": null,
   "metadata": {},
   "outputs": [],
   "source": []
  },
  {
   "cell_type": "code",
   "execution_count": null,
   "metadata": {},
   "outputs": [],
   "source": []
  },
  {
   "cell_type": "code",
   "execution_count": null,
   "metadata": {},
   "outputs": [],
   "source": []
  },
  {
   "cell_type": "code",
   "execution_count": null,
   "metadata": {},
   "outputs": [],
   "source": []
  },
  {
   "cell_type": "code",
   "execution_count": null,
   "metadata": {},
   "outputs": [],
   "source": []
  },
  {
   "cell_type": "code",
   "execution_count": null,
   "metadata": {},
   "outputs": [],
   "source": []
  }
 ],
 "metadata": {
  "kernelspec": {
   "display_name": "Python 3",
   "language": "python",
   "name": "python3"
  },
  "language_info": {
   "codemirror_mode": {
    "name": "ipython",
    "version": 3
   },
   "file_extension": ".py",
   "mimetype": "text/x-python",
   "name": "python",
   "nbconvert_exporter": "python",
   "pygments_lexer": "ipython3",
   "version": "3.7.3"
  }
 },
 "nbformat": 4,
 "nbformat_minor": 2
}
