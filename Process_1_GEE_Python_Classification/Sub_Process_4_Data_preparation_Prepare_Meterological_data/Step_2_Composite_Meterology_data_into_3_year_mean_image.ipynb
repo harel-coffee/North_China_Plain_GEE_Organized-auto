{
 "cells": [
  {
   "cell_type": "code",
   "execution_count": null,
   "metadata": {},
   "outputs": [],
   "source": []
  },
  {
   "cell_type": "markdown",
   "metadata": {},
   "source": [
    "This Notebook is to compute the mean image of meteorology data. \n",
    "\n",
    "Specifically, we:<br>\n",
    "1) stack 3-years of meteorology data;<br>\n",
    "2) create the mean image;<br>\n",
    "3) export the mean image to Assest"
   ]
  },
  {
   "cell_type": "code",
   "execution_count": null,
   "metadata": {},
   "outputs": [],
   "source": []
  },
  {
   "cell_type": "code",
   "execution_count": null,
   "metadata": {},
   "outputs": [],
   "source": []
  },
  {
   "cell_type": "code",
   "execution_count": null,
   "metadata": {},
   "outputs": [],
   "source": []
  },
  {
   "cell_type": "code",
   "execution_count": 1,
   "metadata": {},
   "outputs": [],
   "source": [
    "import ee\n",
    "import datetime\n",
    "import os\n",
    "import itertools\n",
    "import sys\n",
    "import re\n",
    "\n",
    "import pandas as pd\n",
    "import numpy as np\n",
    "import seaborn as sns\n",
    "import matplotlib.pyplot as plt\n",
    "\n",
    "import geemap\n",
    "\n",
    "import subprocess\n",
    "from subprocess import PIPE"
   ]
  },
  {
   "cell_type": "code",
   "execution_count": 2,
   "metadata": {},
   "outputs": [],
   "source": [
    "ee.Initialize()"
   ]
  },
  {
   "cell_type": "code",
   "execution_count": null,
   "metadata": {},
   "outputs": [],
   "source": []
  },
  {
   "cell_type": "markdown",
   "metadata": {},
   "source": [
    "##### Define basic parameters"
   ]
  },
  {
   "cell_type": "code",
   "execution_count": 6,
   "metadata": {},
   "outputs": [],
   "source": [
    "# define the years to be classified\n",
    "year_name  = [f'{i}_{i+2}' for i in range(1990,2020,3)]\n",
    "\n",
    "# import the research area boundary\n",
    "North_China_Plain = ee.FeatureCollection(\"users/wangjinzhulala/North_China_Plain/0_1_North_China_Plain_Full\")"
   ]
  },
  {
   "cell_type": "code",
   "execution_count": null,
   "metadata": {},
   "outputs": [],
   "source": []
  },
  {
   "cell_type": "markdown",
   "metadata": {},
   "source": [
    "##### Stack meterology img of each 3-year, compute the mean value and export the mean_img"
   ]
  },
  {
   "cell_type": "code",
   "execution_count": 18,
   "metadata": {},
   "outputs": [
    {
     "name": "stdout",
     "output_type": "stream",
     "text": [
      "Exporting Mean_1990_1992 successful!\n",
      "Exporting Mean_1993_1995 successful!\n",
      "Exporting Mean_1996_1998 successful!\n",
      "Exporting Mean_1999_2001 successful!\n",
      "Exporting Mean_2002_2004 successful!\n",
      "Exporting Mean_2005_2007 successful!\n",
      "Exporting Mean_2008_2010 successful!\n",
      "Exporting Mean_2011_2013 successful!\n",
      "Exporting Mean_2014_2016 successful!\n",
      "Exporting Mean_2017_2019 successful!\n"
     ]
    }
   ],
   "source": [
    "# prepare the climate data\n",
    "Climate_type = ['lrad','prec','pres','shum','srad','temp','wind']\n",
    "\n",
    "for year in range(1990,2019,3):   \n",
    "    \n",
    "    # define the three years according to year-variable\n",
    "    year_start = year\n",
    "    year_mid   = year + 1\n",
    "    year_end   = year + 2\n",
    "    \n",
    "    # Initiate an empty list to hold the climate-tifs-mean from year_start to year_end\n",
    "    climate_tifs_mean = []\n",
    "    \n",
    "    # compute the mean-tif of each climate-type\n",
    "    for i in Climate_type:\n",
    "\n",
    "        # Because cliate_data doesn't include data of 2019, so \n",
    "        # use if-else judgement to exclede the data of year 2019\n",
    "        if year < 2017:\n",
    "            climate_tifs = [ee.Image(f\"users/wangjinzhulala/North_China_Plain_Python/Climate_data/{i}/{i}_{t}\")                        \n",
    "                            for t in [year_start,year_mid,year_end]]\n",
    "            tifs_mean    = ee.ImageCollection(climate_tifs).mean().toFloat().rename(i)\n",
    "\n",
    "        else:\n",
    "            climate_tifs = [ee.Image(f\"users/wangjinzhulala/North_China_Plain_Python/Climate_data/{i}/{i}_{t}\")                        \n",
    "                            for t in [year_start,year_mid]]\n",
    "\n",
    "            tifs_mean    = ee.ImageCollection(climate_tifs).mean().toFloat().rename(i)\n",
    "\n",
    "        # add all climate_tifs_mean of year_start to year_end to list\n",
    "        climate_tifs_mean.append(tifs_mean)\n",
    "        climate_tifs_mean_img = ee.Image(climate_tifs_mean)\n",
    "        \n",
    "\n",
    "    # export the mean_img to GEE asset\n",
    "    asset_path  = f'users/wangjinzhulala/North_China_Plain_Python/Climate_data'\n",
    "    export_name = f'Mean_{year}_{year + 2}'\n",
    "    \n",
    "    # create the export task\n",
    "    task = ee.batch.Export.image.toAsset(   image          = climate_tifs_mean_img,\n",
    "                                            description    = export_name,\n",
    "                                            assetId        = f'{asset_path}/{export_name}',\n",
    "                                            region         = North_China_Plain.geometry().bounds(),\n",
    "                                            scale          = 10000,\n",
    "                                            maxPixels      = int(1e13)) \n",
    "    # start the task\n",
    "    task.start()\n",
    "    \n",
    "    # print out the process\n",
    "    print(f'Exporting {export_name} successful!')"
   ]
  },
  {
   "cell_type": "code",
   "execution_count": null,
   "metadata": {},
   "outputs": [],
   "source": []
  },
  {
   "cell_type": "code",
   "execution_count": null,
   "metadata": {},
   "outputs": [],
   "source": []
  },
  {
   "cell_type": "code",
   "execution_count": null,
   "metadata": {},
   "outputs": [],
   "source": []
  },
  {
   "cell_type": "code",
   "execution_count": null,
   "metadata": {},
   "outputs": [],
   "source": []
  },
  {
   "cell_type": "code",
   "execution_count": null,
   "metadata": {},
   "outputs": [],
   "source": []
  },
  {
   "cell_type": "code",
   "execution_count": null,
   "metadata": {},
   "outputs": [],
   "source": []
  },
  {
   "cell_type": "code",
   "execution_count": null,
   "metadata": {},
   "outputs": [],
   "source": []
  }
 ],
 "metadata": {
  "kernelspec": {
   "display_name": "Python 3",
   "language": "python",
   "name": "python3"
  },
  "language_info": {
   "codemirror_mode": {
    "name": "ipython",
    "version": 3
   },
   "file_extension": ".py",
   "mimetype": "text/x-python",
   "name": "python",
   "nbconvert_exporter": "python",
   "pygments_lexer": "ipython3",
   "version": "3.7.3"
  }
 },
 "nbformat": 4,
 "nbformat_minor": 2
}
