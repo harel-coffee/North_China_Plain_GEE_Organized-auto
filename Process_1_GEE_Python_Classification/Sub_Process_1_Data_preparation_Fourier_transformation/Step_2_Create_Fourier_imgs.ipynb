{
 "cells": [
  {
   "cell_type": "code",
   "execution_count": null,
   "metadata": {},
   "outputs": [],
   "source": []
  },
  {
   "cell_type": "markdown",
   "metadata": {},
   "source": [
    "This Notebook is to export the Fourier images to GEE_assest. \n",
    "\n",
    "Specifically, we:<br>\n",
    "1) Loop through 1990-2019 by 3-year intervales;<br>\n",
    "2) Create the Fourier image using 3-year stack of NDVI/EVI/NDBI, respectively;<br>\n",
    "3) Export the Fourier image to Assest with name \"Amplitude_Phase_{year}\""
   ]
  },
  {
   "cell_type": "code",
   "execution_count": null,
   "metadata": {},
   "outputs": [],
   "source": []
  },
  {
   "cell_type": "code",
   "execution_count": null,
   "metadata": {},
   "outputs": [],
   "source": []
  },
  {
   "cell_type": "code",
   "execution_count": null,
   "metadata": {},
   "outputs": [],
   "source": []
  },
  {
   "cell_type": "code",
   "execution_count": 2,
   "metadata": {},
   "outputs": [],
   "source": [
    "import ee\n",
    "import datetime\n",
    "import os\n",
    "import itertools\n",
    "import sys\n",
    "import collections\n",
    "\n",
    "from pprint import pprint\n",
    "import pandas as pd\n",
    "import numpy as np\n",
    "import seaborn as sns\n",
    "import matplotlib.pyplot as plt\n",
    "\n",
    "import geemap\n",
    "\n",
    "import subprocess\n",
    "from subprocess import PIPE"
   ]
  },
  {
   "cell_type": "code",
   "execution_count": 3,
   "metadata": {},
   "outputs": [],
   "source": [
    "ee.Initialize()\n",
    "\n",
    "# append the parent path into sys-path so wen can import necessary modules\n",
    "sys.path.append('../')"
   ]
  },
  {
   "cell_type": "code",
   "execution_count": null,
   "metadata": {},
   "outputs": [],
   "source": []
  },
  {
   "cell_type": "code",
   "execution_count": 4,
   "metadata": {},
   "outputs": [],
   "source": [
    "from BackGround_modules.Class_1_Make_fourier_imgs import Make_Fourier"
   ]
  },
  {
   "cell_type": "code",
   "execution_count": null,
   "metadata": {},
   "outputs": [],
   "source": []
  },
  {
   "cell_type": "markdown",
   "metadata": {},
   "source": [
    "#### Step_0_Define_Basic_Parameters"
   ]
  },
  {
   "cell_type": "code",
   "execution_count": 5,
   "metadata": {},
   "outputs": [],
   "source": [
    "# imprt North_China_Plain boundary\n",
    "North_China_Plain = ee.FeatureCollection(\"users/wangjinzhulala/North_China_Plain_Python/Boundary_shp/North_China_Plain_Boundary\")"
   ]
  },
  {
   "cell_type": "code",
   "execution_count": null,
   "metadata": {},
   "outputs": [],
   "source": []
  },
  {
   "cell_type": "code",
   "execution_count": 6,
   "metadata": {},
   "outputs": [],
   "source": [
    "# Define the time-range\n",
    "# just get one_range from every different sensors\n",
    "year_range = [(f'{i}-01-01',f'{i+2}-12-31') for i in range(1990,2018,3)]"
   ]
  },
  {
   "cell_type": "code",
   "execution_count": 7,
   "metadata": {},
   "outputs": [
    {
     "data": {
      "text/plain": [
       "[('1990-01-01', '1992-12-31'),\n",
       " ('1993-01-01', '1995-12-31'),\n",
       " ('1996-01-01', '1998-12-31'),\n",
       " ('1999-01-01', '2001-12-31'),\n",
       " ('2002-01-01', '2004-12-31'),\n",
       " ('2005-01-01', '2007-12-31'),\n",
       " ('2008-01-01', '2010-12-31'),\n",
       " ('2011-01-01', '2013-12-31'),\n",
       " ('2014-01-01', '2016-12-31'),\n",
       " ('2017-01-01', '2019-12-31')]"
      ]
     },
     "execution_count": 7,
     "metadata": {},
     "output_type": "execute_result"
    }
   ],
   "source": [
    "year_range"
   ]
  },
  {
   "cell_type": "code",
   "execution_count": null,
   "metadata": {},
   "outputs": [],
   "source": []
  },
  {
   "cell_type": "markdown",
   "metadata": {},
   "source": [
    "#### Step_1_Loop through each year_range to create the harmonic imgs"
   ]
  },
  {
   "cell_type": "code",
   "execution_count": null,
   "metadata": {},
   "outputs": [],
   "source": []
  },
  {
   "cell_type": "code",
   "execution_count": 7,
   "metadata": {},
   "outputs": [
    {
     "name": "stdout",
     "output_type": "stream",
     "text": [
      "Analyzing the images of 1990_1992\n",
      "Analyzing the images of 1993_1995\n",
      "Analyzing the images of 1996_1998\n",
      "Analyzing the images of 1999_2001\n",
      "Analyzing the images of 2002_2004\n",
      "Analyzing the images of 2005_2007\n",
      "Analyzing the images of 2008_2010\n",
      "Analyzing the images of 2011_2013\n",
      "Analyzing the images of 2014_2016\n",
      "Analyzing the images of 2017_2019\n"
     ]
    }
   ],
   "source": [
    "Fourier_imgs = {}\n",
    "Amplitude_Phase_imgs = {}\n",
    "\n",
    "for start,end in year_range:\n",
    "    \n",
    "    # define the year_name\n",
    "    year_name = f'{start[:4]}_{end[:4]}'\n",
    "    \n",
    "    # instatiate the instance\n",
    "    Fourier_instance = Make_Fourier(start_date=start,end_date=end,\n",
    "                                   area=North_China_Plain)\n",
    "    \n",
    "    # make result imgs\n",
    "    Fourier_instance.Stp_1_Create_hamonic_names()\n",
    "    Fourier_instance.Stp_2_Add_harmonics()\n",
    "    Fourier_instance.Stp_3_Harmonic_fit()\n",
    "    \n",
    "    # Fourier img\n",
    "    Fourier_imgs[year_name] = Fourier_instance.harmonicTrendCoefficients\n",
    "    \n",
    "    # amplitude_phase img\n",
    "    Amplitude_Phase_imgs[year_name] = Fourier_instance.Amplitude_Phase_img"
   ]
  },
  {
   "cell_type": "code",
   "execution_count": null,
   "metadata": {},
   "outputs": [],
   "source": []
  },
  {
   "cell_type": "markdown",
   "metadata": {},
   "source": [
    "##### Step_2_Export the imgs"
   ]
  },
  {
   "cell_type": "code",
   "execution_count": null,
   "metadata": {},
   "outputs": [],
   "source": []
  },
  {
   "cell_type": "code",
   "execution_count": null,
   "metadata": {},
   "outputs": [],
   "source": []
  },
  {
   "cell_type": "code",
   "execution_count": 18,
   "metadata": {},
   "outputs": [
    {
     "name": "stdout",
     "output_type": "stream",
     "text": [
      "Amplitude_Phase_2008_2010\n"
     ]
    }
   ],
   "source": [
    "for year,img in Fourier_imgs.items():\n",
    "\n",
    "    # construct the export name    \n",
    "    export_name = f'Amplitude_Phase_{year}'\n",
    "    \n",
    "    # here only export the year of 2008-2010, change to full years for fully analysis\n",
    "    if year == '2008_2010':\n",
    "        \n",
    "        target_img = img.clip(North_China_Plain)\n",
    "        \n",
    "        # construct the export task\n",
    "#         task = ee.batch.Export.image.toCloudStorage(image = target_img,\n",
    "#                                                     description=export_name,\n",
    "#                                                     bucket='north_china_plain',\n",
    "#                                                     fileNamePrefix=export_name,\n",
    "#                                                     region= clip,\n",
    "#                                                     scale=30,\n",
    "#                                                     maxPixels=int(1e13),\n",
    "#                                                     skipEmptyTiles=True)\n",
    "#         task.start()\n",
    "\n",
    "        # print out the process\n",
    "        print(export_name)"
   ]
  },
  {
   "cell_type": "code",
   "execution_count": null,
   "metadata": {},
   "outputs": [],
   "source": []
  },
  {
   "cell_type": "code",
   "execution_count": null,
   "metadata": {},
   "outputs": [],
   "source": []
  },
  {
   "cell_type": "code",
   "execution_count": null,
   "metadata": {},
   "outputs": [],
   "source": []
  },
  {
   "cell_type": "markdown",
   "metadata": {},
   "source": [
    "##### Export existing img; "
   ]
  },
  {
   "cell_type": "markdown",
   "metadata": {},
   "source": [
    "##### Below is NOT used for analysis of the research!"
   ]
  },
  {
   "cell_type": "code",
   "execution_count": 11,
   "metadata": {},
   "outputs": [],
   "source": [
    "year = f'2008_2010'"
   ]
  },
  {
   "cell_type": "code",
   "execution_count": 12,
   "metadata": {},
   "outputs": [],
   "source": [
    "# Fourier img\n",
    "Fourier = ee.Image(f\"users/wang8052664/North_China_Plain/Fourier_imgs/Fourier_img_{year}_harmonic_3\")\\\n",
    "                      .select([\"NDBI_cos_1\",\"EVI_sin_2\",\"NDVI_sin_2\"])\n",
    "\n",
    "# Landsat_flase_color\n",
    "False_color = ee.Image(f\"users/wang8052664/Cloud_Free_Img/Landsat_cloud_free_{year}\").select(['B4','B3','B2'])\n",
    "\n",
    "#get normalized imgs\n",
    "NDVI = ee.Image(f'users/wensomone666/Jinzhu/Mean_NDVI/Year_{year}_Mean_NDVI').rename('NDVI')\n",
    "NDBI = ee.Image(f'users/wensomone666/Jinzhu/Mean_NDVI/Year_{year}_Mean_NDBI').rename('NDBI')\n",
    "EVI =  ee.Image(f'users/wensomone666/Jinzhu/Mean_NDVI/Year_{year}_Mean_EVI').rename('EVI')\n",
    "Normalized_img = ee.Image([NDVI,NDBI,EVI])"
   ]
  },
  {
   "cell_type": "code",
   "execution_count": null,
   "metadata": {},
   "outputs": [],
   "source": []
  },
  {
   "cell_type": "code",
   "execution_count": 15,
   "metadata": {},
   "outputs": [],
   "source": [
    "# set the visulization parameters\n",
    "Landsat_1990_2010 = {\"opacity\":1,\"bands\":[\"B3\",\"B2\",\"B1\"],\"min\":10,\"max\":39.4,\"gamma\":1},\n",
    "Landsat_2011_2019 = {\"opacity\":1,\"bands\":[\"B4\",\"B3\",\"B2\"],\"min\":10,\"max\":44.8,\"gamma\":1},\n",
    "Normalized_1990_2010 = {\"opacity\":1,\"bands\":[\"NDVI\",\"NDBI\",\"EVI\"],\"min\":-15,\"max\":25,\"gamma\":1},\n",
    "Normalized_2011_2013 = {\"opacity\":1,\"bands\":[\"NDBI\",\"NDVI\",\"EVI\"],\"min\":-18.6,\"max\":40.6,\"gamma\":1},\n",
    "Normalized_2014_2019 = {\"opacity\":1,\"bands\":[\"NDVI\",\"NDBI\",\"EVI\"],\"min\":-15,\"max\":50,\"gamma\":1},\n",
    "Fourier_VIS = {\"opacity\":1,\"bands\":[\"NDBI_cos_1\",\"EVI_sin_2\",\"NDVI_sin_2\"],\"min\":-106,\"max\":158,\"gamma\":1}"
   ]
  },
  {
   "cell_type": "code",
   "execution_count": null,
   "metadata": {},
   "outputs": [],
   "source": []
  },
  {
   "cell_type": "code",
   "execution_count": 20,
   "metadata": {},
   "outputs": [
    {
     "name": "stdout",
     "output_type": "stream",
     "text": [
      "Fourier_2008_2010\n",
      "False_color_2008_2010\n",
      "Normalized_img_2008_2010\n"
     ]
    }
   ],
   "source": [
    "for name,img in zip(['Fourier','False_color','Normalized_img'],\n",
    "                     [Fourier,False_color,Normalized_img]):\n",
    "    \n",
    "    # define the export name\n",
    "    export_name = f'{name}_{year}'\n",
    "    \n",
    "    # export\n",
    "    task = ee.batch.Export.image.toCloudStorage(image = Normalized_img,\n",
    "                                                description=export_name,\n",
    "                                                bucket='north_china_plain',\n",
    "                                                fileNamePrefix=export_name,\n",
    "                                                region= North_China_Plain.geometry().bounds(),\n",
    "                                                scale=30,\n",
    "                                                maxPixels=int(1e13),\n",
    "                                                skipEmptyTiles=True)\n",
    "    task.start()\n",
    "\n",
    "    # print the process\n",
    "    print(export_name)"
   ]
  },
  {
   "cell_type": "code",
   "execution_count": null,
   "metadata": {},
   "outputs": [],
   "source": []
  },
  {
   "cell_type": "code",
   "execution_count": null,
   "metadata": {},
   "outputs": [],
   "source": []
  },
  {
   "cell_type": "code",
   "execution_count": null,
   "metadata": {},
   "outputs": [],
   "source": []
  },
  {
   "cell_type": "code",
   "execution_count": null,
   "metadata": {},
   "outputs": [],
   "source": []
  },
  {
   "cell_type": "code",
   "execution_count": null,
   "metadata": {},
   "outputs": [],
   "source": []
  },
  {
   "cell_type": "code",
   "execution_count": null,
   "metadata": {},
   "outputs": [],
   "source": []
  }
 ],
 "metadata": {
  "kernelspec": {
   "display_name": "Python 3",
   "language": "python",
   "name": "python3"
  },
  "language_info": {
   "codemirror_mode": {
    "name": "ipython",
    "version": 3
   },
   "file_extension": ".py",
   "mimetype": "text/x-python",
   "name": "python",
   "nbconvert_exporter": "python",
   "pygments_lexer": "ipython3",
   "version": "3.7.3"
  }
 },
 "nbformat": 4,
 "nbformat_minor": 2
}
