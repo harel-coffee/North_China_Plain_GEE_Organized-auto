{
 "cells": [
  {
   "cell_type": "code",
   "execution_count": 1,
   "metadata": {},
   "outputs": [],
   "source": [
    "import ee\n",
    "import datetime\n",
    "import os\n",
    "import itertools\n",
    "import sys\n",
    "import collections\n",
    "\n",
    "from pprint import pprint\n",
    "import pandas as pd\n",
    "import numpy as np\n",
    "import seaborn as sns\n",
    "import matplotlib.pyplot as plt\n",
    "\n",
    "import geemap\n",
    "\n",
    "import subprocess\n",
    "from subprocess import PIPE"
   ]
  },
  {
   "cell_type": "code",
   "execution_count": 2,
   "metadata": {},
   "outputs": [],
   "source": [
    "ee.Initialize()\n",
    "\n",
    "# append the parent path into sys-path so wen can import necessary modules\n",
    "sys.path.append('../')"
   ]
  },
  {
   "cell_type": "code",
   "execution_count": null,
   "metadata": {},
   "outputs": [],
   "source": []
  },
  {
   "cell_type": "code",
   "execution_count": 3,
   "metadata": {},
   "outputs": [],
   "source": [
    "from BackGround_modules.Class_1_Make_fourier_imgs import Make_Fourier"
   ]
  },
  {
   "cell_type": "code",
   "execution_count": null,
   "metadata": {},
   "outputs": [],
   "source": []
  },
  {
   "cell_type": "markdown",
   "metadata": {},
   "source": [
    "#### Step_0_Define_Basic_Parameters"
   ]
  },
  {
   "cell_type": "code",
   "execution_count": 4,
   "metadata": {},
   "outputs": [],
   "source": [
    "# imprt North_China_Plain boundary\n",
    "North_China_Plain = ee.FeatureCollection(\"users/wangjinzhulala/North_China_Plain_Python/Boundary_shp/North_China_Plain_Boundary\")"
   ]
  },
  {
   "cell_type": "code",
   "execution_count": null,
   "metadata": {},
   "outputs": [],
   "source": []
  },
  {
   "cell_type": "code",
   "execution_count": 5,
   "metadata": {},
   "outputs": [],
   "source": [
    "# Define the time-range\n",
    "# just get one_range from every different sensors\n",
    "year_range = [(f'{i}-01-01',f'{i+2}-12-31') for i in range(1990,2018,3)]"
   ]
  },
  {
   "cell_type": "code",
   "execution_count": 6,
   "metadata": {},
   "outputs": [
    {
     "data": {
      "text/plain": [
       "[('1990-01-01', '1992-12-31'),\n",
       " ('1993-01-01', '1995-12-31'),\n",
       " ('1996-01-01', '1998-12-31'),\n",
       " ('1999-01-01', '2001-12-31'),\n",
       " ('2002-01-01', '2004-12-31'),\n",
       " ('2005-01-01', '2007-12-31'),\n",
       " ('2008-01-01', '2010-12-31'),\n",
       " ('2011-01-01', '2013-12-31'),\n",
       " ('2014-01-01', '2016-12-31'),\n",
       " ('2017-01-01', '2019-12-31')]"
      ]
     },
     "execution_count": 6,
     "metadata": {},
     "output_type": "execute_result"
    }
   ],
   "source": [
    "year_range"
   ]
  },
  {
   "cell_type": "code",
   "execution_count": null,
   "metadata": {},
   "outputs": [],
   "source": []
  },
  {
   "cell_type": "markdown",
   "metadata": {},
   "source": [
    "#### Step_1_Loop through each year_range to create the harmonic imgs"
   ]
  },
  {
   "cell_type": "code",
   "execution_count": null,
   "metadata": {},
   "outputs": [],
   "source": []
  },
  {
   "cell_type": "code",
   "execution_count": 9,
   "metadata": {},
   "outputs": [
    {
     "name": "stdout",
     "output_type": "stream",
     "text": [
      "Analyzing the images of 1990_1992\n",
      "Analyzing the images of 1993_1995\n",
      "Analyzing the images of 1996_1998\n",
      "Analyzing the images of 1999_2001\n",
      "Analyzing the images of 2002_2004\n",
      "Analyzing the images of 2005_2007\n",
      "Analyzing the images of 2008_2010\n",
      "Analyzing the images of 2011_2013\n",
      "Analyzing the images of 2014_2016\n",
      "Analyzing the images of 2017_2019\n"
     ]
    }
   ],
   "source": [
    "Fourier_imgs = {}\n",
    "Amplitude_Phase_imgs = {}\n",
    "\n",
    "for start,end in year_range:\n",
    "    \n",
    "    # define the year_name\n",
    "    year_name = f'{start[:4]}_{end[:4]}'\n",
    "    \n",
    "    # instatiate the instance\n",
    "    Fourier_instance = Make_Fourier(start_date=start,end_date=end,\n",
    "                                   area=North_China_Plain)\n",
    "    \n",
    "    # make result imgs\n",
    "    Fourier_instance.Stp_1_Create_hamonic_names()\n",
    "    Fourier_instance.Stp_2_Add_harmonics()\n",
    "    Fourier_instance.Stp_3_Harmonic_fit()\n",
    "    \n",
    "    # Fourier img\n",
    "    Fourier_imgs[year_name] = Fourier_instance.harmonicTrendCoefficients\n",
    "    \n",
    "    # amplitude_phase img\n",
    "    Amplitude_Phase_imgs[year_name] = Fourier_instance.Amplitude_Phase_img"
   ]
  },
  {
   "cell_type": "code",
   "execution_count": null,
   "metadata": {},
   "outputs": [],
   "source": []
  },
  {
   "cell_type": "markdown",
   "metadata": {},
   "source": [
    "##### Step_2_Export the imgs"
   ]
  },
  {
   "cell_type": "code",
   "execution_count": null,
   "metadata": {},
   "outputs": [],
   "source": []
  },
  {
   "cell_type": "code",
   "execution_count": 24,
   "metadata": {},
   "outputs": [],
   "source": [
    "# here use the clip to export part of the reserach area, change to full area if was for whole area analysis\n",
    "clip = ee.Geometry.MultiPolygon(\n",
    "        [[[[116.39831522048985, 39.46687647601767],\n",
    "           [116.39831522048985, 38.80005028254205],\n",
    "           [117.23876932205235, 38.80005028254205],\n",
    "           [117.23876932205235, 39.46687647601767]]],\n",
    "         [[[113.62521238026795, 35.51176132219713],\n",
    "           [113.62521238026795, 35.11731413601196],\n",
    "           [114.14294309315858, 35.11731413601196],\n",
    "           [114.14294309315858, 35.51176132219713]]],\n",
    "         [[[120.34909146470943, 36.97156109000749],\n",
    "           [120.34909146470943, 36.74080712198658],\n",
    "           [120.6992806736938, 36.74080712198658],\n",
    "           [120.6992806736938, 36.97156109000749]]],\n",
    "         [[[116.84493735483619, 30.925303237941304],\n",
    "           [116.84493735483619, 30.925303237941304],\n",
    "           [116.84493735483619, 30.925303237941304],\n",
    "           [116.84493735483619, 30.925303237941304]]],\n",
    "         [[[116.79961875132057, 30.93708312491555],\n",
    "           [116.79961875132057, 30.73308670996162],\n",
    "           [117.07977011850807, 30.73308670996162],\n",
    "           [117.07977011850807, 30.93708312491555]]]])"
   ]
  },
  {
   "cell_type": "code",
   "execution_count": null,
   "metadata": {},
   "outputs": [],
   "source": []
  },
  {
   "cell_type": "code",
   "execution_count": 27,
   "metadata": {},
   "outputs": [
    {
     "name": "stdout",
     "output_type": "stream",
     "text": [
      "Amplitude_Phase_2008_2010\n"
     ]
    }
   ],
   "source": [
    "for year,img in Amplitude_Phase_imgs.items():\n",
    "\n",
    "    # construct the export name    \n",
    "    export_name = f'Amplitude_Phase_{year}'\n",
    "    \n",
    "    # here only export the year of 2008-2010, change to full years for fully analysis\n",
    "    if year == '2008_2010':\n",
    "        # construct the export task\n",
    "        task = ee.batch.Export.image.toCloudStorage(image = img,\n",
    "                                                    description=export_name,\n",
    "                                                    bucket='north_china_plain',\n",
    "                                                    fileNamePrefix=export_name,\n",
    "                                                    region= clip,\n",
    "                                                    scale=30,\n",
    "                                                    maxPixels=int(1e13),\n",
    "                                                    skipEmptyTiles=True)\n",
    "        task.start()\n",
    "\n",
    "        # print out the process\n",
    "        print(export_name)"
   ]
  },
  {
   "cell_type": "code",
   "execution_count": null,
   "metadata": {},
   "outputs": [],
   "source": []
  },
  {
   "cell_type": "code",
   "execution_count": null,
   "metadata": {},
   "outputs": [],
   "source": []
  },
  {
   "cell_type": "code",
   "execution_count": null,
   "metadata": {},
   "outputs": [],
   "source": []
  },
  {
   "cell_type": "code",
   "execution_count": null,
   "metadata": {},
   "outputs": [],
   "source": []
  },
  {
   "cell_type": "code",
   "execution_count": null,
   "metadata": {},
   "outputs": [],
   "source": []
  }
 ],
 "metadata": {
  "kernelspec": {
   "display_name": "Python 3",
   "language": "python",
   "name": "python3"
  },
  "language_info": {
   "codemirror_mode": {
    "name": "ipython",
    "version": 3
   },
   "file_extension": ".py",
   "mimetype": "text/x-python",
   "name": "python",
   "nbconvert_exporter": "python",
   "pygments_lexer": "ipython3",
   "version": "3.7.3"
  }
 },
 "nbformat": 4,
 "nbformat_minor": 2
}
