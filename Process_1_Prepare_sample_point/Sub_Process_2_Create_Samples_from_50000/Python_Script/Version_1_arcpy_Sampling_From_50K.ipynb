{
 "cells": [
  {
   "cell_type": "code",
   "execution_count": 82,
   "metadata": {},
   "outputs": [],
   "source": [
    "import numpy as np\n",
    "import pandas as pd\n",
    "\n",
    "import matplotlib.pyplot as plt\n",
    "from simpledbf import Dbf5\n",
    "\n",
    "import collections\n",
    "import random\n",
    "\n",
    "import arcpy"
   ]
  },
  {
   "cell_type": "code",
   "execution_count": null,
   "metadata": {},
   "outputs": [],
   "source": []
  },
  {
   "cell_type": "markdown",
   "metadata": {},
   "source": [
    "### First access the points that have extracted NDVI value with"
   ]
  },
  {
   "cell_type": "code",
   "execution_count": 2,
   "metadata": {},
   "outputs": [
    {
     "data": {
      "text/plain": [
       "['Extract_value_2005_2007_50K.shp',\n",
       " 'Extract_value_2008_2010_50K.shp',\n",
       " 'Extract_value_2011_2013_50K.shp',\n",
       " 'Extract_value_2014_2016_50K.shp',\n",
       " 'Extract_value_2017_2019_50K.shp']"
      ]
     },
     "execution_count": 2,
     "metadata": {},
     "output_type": "execute_result"
    }
   ],
   "source": [
    "# Determine the path to point_with_NDVI_value\n",
    "\n",
    "arcpy.env.workspace = '../Step_2_Extract_NDVI_to_point/'\n",
    "\n",
    "Point_with_NDVI = arcpy.ListFeatureClasses(wild_card= '*.shp')\n",
    "Point_with_NDVI"
   ]
  },
  {
   "cell_type": "code",
   "execution_count": null,
   "metadata": {},
   "outputs": [],
   "source": []
  },
  {
   "cell_type": "code",
   "execution_count": 12,
   "metadata": {},
   "outputs": [],
   "source": [
    "# read the attribute table of each point_shp and \n",
    "# put the record into a dict, here just need to \n",
    "# use [CID] and [RASTERVALU]\n",
    "\n",
    "Point_att = {}\n",
    "\n",
    "for name,point in zip(Point_with_NDVI,Point_with_NDVI):\n",
    "   \n",
    "    # use SearchCursor to read the point attibutetable\n",
    "    Point_att[name] = [(row[0],row[1]) for row in arcpy.da.SearchCursor(point,['CID','RASTERVALU'])]"
   ]
  },
  {
   "cell_type": "code",
   "execution_count": null,
   "metadata": {},
   "outputs": [],
   "source": []
  },
  {
   "cell_type": "markdown",
   "metadata": {},
   "source": [
    "### Calculate the frequency of the NDVI value in each 50K_point shp"
   ]
  },
  {
   "cell_type": "code",
   "execution_count": 52,
   "metadata": {},
   "outputs": [],
   "source": [
    "NDVI_frequency = {}\n",
    "\n",
    "for point in Point_with_NDVI:\n",
    "    \n",
    "    # extarct the NDVI value\n",
    "    NDVI_value = [val[1] for val in Point_att[point]]\n",
    "    \n",
    "    # compute the occurency of each NDVI vlaue\n",
    "    NDVI_hist  = collections.Counter(NDVI_value)\n",
    "    # sort the dict \n",
    "    NDVI_hist  = collections.OrderedDict(sorted(NDVI_hist.items()))\n",
    "    \n",
    "    # Put the frequency into the dict.\n",
    "    NDVI_frequency[point] = NDVI_hist"
   ]
  },
  {
   "cell_type": "code",
   "execution_count": null,
   "metadata": {},
   "outputs": [],
   "source": []
  },
  {
   "cell_type": "markdown",
   "metadata": {},
   "source": [
    "### Compute how many points should be selected according to NDVI frequency"
   ]
  },
  {
   "cell_type": "code",
   "execution_count": 60,
   "metadata": {},
   "outputs": [],
   "source": [
    "# put the frequency into a dftaframe\n",
    "NDVI_frequency_df = pd.DataFrame.from_dict(NDVI_frequency)\n",
    "\n",
    "# fill 0 to Nan values to avoid computation error.\n",
    "NDVI_frequency_df = NDVI_frequency_df.fillna(0)\n",
    "\n",
    "\n",
    "\n",
    "# compute how many point should be selected according\n",
    "# to NDVI frequency\n",
    "\n",
    "for name in  Point_with_NDVI:  \n",
    "    \n",
    "    # for each NDVI frequency, select 1/5 of them.\n",
    "    NDVI_frequency_df[f'{name}_ratio'] = NDVI_frequency_df[name].apply(lambda x: int(x/50000*10000))\n",
    "    "
   ]
  },
  {
   "cell_type": "code",
   "execution_count": null,
   "metadata": {},
   "outputs": [],
   "source": []
  },
  {
   "cell_type": "markdown",
   "metadata": {},
   "source": [
    "### Random select sample from NDVI_point"
   ]
  },
  {
   "cell_type": "code",
   "execution_count": 85,
   "metadata": {},
   "outputs": [],
   "source": [
    "# set the workspace\n",
    "arcpy.env.workspace = '../Step_2_Extract_NDVI_to_point/'\n",
    "\n",
    "# innitiate an empty dict to hold the selected CIDs.\n",
    "sample_CID = {}\n",
    "\n",
    "for col,point in  zip([f'{name}_ratio' for name in Point_with_NDVI],\n",
    "                       Point_with_NDVI): \n",
    "    \n",
    "    # get the ndvi and its corespoded frequency\n",
    "    NDVI_select_num      = zip(NDVI_frequency_df[col].index,NDVI_frequency_df[col].values)\n",
    "    \n",
    "    \n",
    "    \n",
    "    # temporary list that holds the selected CIDs.\n",
    "    CID_list = []\n",
    "    \n",
    "    # ramdom select from the point_shp according to NDVI_ration\n",
    "    for NDVI,num in NDVI_select_num:\n",
    "        \n",
    "        # get the CID from Point_att if its NDVI euals NDVI here \n",
    "        CID = [cid for cid,ndvi in Point_att[point] if ndvi == NDVI]\n",
    "        # ramdomly\n",
    "        CID_select = random.sample(CID,num)\n",
    "        CID_list.extend(CID_select)\n",
    "    \n",
    "    \n",
    "    # updata the smaple dictionary\n",
    "    sample_CID[point] = CID_list\n",
    "        "
   ]
  },
  {
   "cell_type": "code",
   "execution_count": null,
   "metadata": {},
   "outputs": [],
   "source": []
  },
  {
   "cell_type": "code",
   "execution_count": null,
   "metadata": {},
   "outputs": [],
   "source": []
  },
  {
   "cell_type": "code",
   "execution_count": 106,
   "metadata": {},
   "outputs": [
    {
     "name": "stdout",
     "output_type": "stream",
     "text": [
      "Exporting Test_2005_2007_10K.shp\n",
      "Exporting Test_2008_2010_10K.shp\n",
      "Exporting Test_2011_2013_10K.shp\n",
      "Exporting Test_2014_2016_10K.shp\n",
      "Exporting Test_2017_2019_10K.shp\n"
     ]
    }
   ],
   "source": [
    "# set the workspace\n",
    "arcpy.env.workspace = '../Step_2_Extract_NDVI_to_point/'\n",
    "arcpy.env.overwriteOutput = True\n",
    "\n",
    "\n",
    "# using the ample_CID as filter to select from each Point_shp and \n",
    "# export the result\n",
    "\n",
    "for point in Point_with_NDVI:\n",
    "    \n",
    "    spl = '_'\n",
    "    out_name = f'Test_{point.split(spl)[2]}_{point.split(spl)[3]}_10K.shp'\n",
    "    \n",
    "    # get the CIDs\n",
    "    CID_select  = tuple(sample_CID[point])\n",
    "    # Using CIDs to select from point shp\n",
    "    select_lry = arcpy.MakeFeatureLayer_management(in_features  = point,\n",
    "                                                   out_layer    = 'select_point_lry',\n",
    "                                                   where_clause = f''' \"CID\" IN {CID_select} ''')\n",
    "    \n",
    "    arcpy.CopyFeatures_management(select_lry,f'../Step_3_Select_10K_from_50K/{out_name}')\n",
    "    \n",
    "    # print out the process\n",
    "    print(f'Exporting {out_name}')"
   ]
  },
  {
   "cell_type": "code",
   "execution_count": null,
   "metadata": {},
   "outputs": [],
   "source": []
  },
  {
   "cell_type": "code",
   "execution_count": null,
   "metadata": {},
   "outputs": [],
   "source": []
  },
  {
   "cell_type": "code",
   "execution_count": null,
   "metadata": {},
   "outputs": [],
   "source": []
  },
  {
   "cell_type": "code",
   "execution_count": null,
   "metadata": {},
   "outputs": [],
   "source": []
  },
  {
   "cell_type": "code",
   "execution_count": null,
   "metadata": {},
   "outputs": [],
   "source": []
  },
  {
   "cell_type": "code",
   "execution_count": null,
   "metadata": {},
   "outputs": [],
   "source": []
  },
  {
   "cell_type": "code",
   "execution_count": null,
   "metadata": {},
   "outputs": [],
   "source": []
  },
  {
   "cell_type": "code",
   "execution_count": null,
   "metadata": {},
   "outputs": [],
   "source": []
  },
  {
   "cell_type": "code",
   "execution_count": null,
   "metadata": {},
   "outputs": [],
   "source": []
  },
  {
   "cell_type": "code",
   "execution_count": null,
   "metadata": {},
   "outputs": [],
   "source": []
  }
 ],
 "metadata": {
  "kernelspec": {
   "display_name": "Python 3",
   "language": "python",
   "name": "python3"
  },
  "language_info": {
   "codemirror_mode": {
    "name": "ipython",
    "version": 3
   },
   "file_extension": ".py",
   "mimetype": "text/x-python",
   "name": "python",
   "nbconvert_exporter": "python",
   "pygments_lexer": "ipython3",
   "version": "3.7.3"
  }
 },
 "nbformat": 4,
 "nbformat_minor": 2
}
