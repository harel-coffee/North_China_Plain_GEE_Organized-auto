{
 "cells": [
  {
   "cell_type": "code",
   "execution_count": 1,
   "metadata": {},
   "outputs": [],
   "source": [
    "import ee\n",
    "import random"
   ]
  },
  {
   "cell_type": "code",
   "execution_count": 2,
   "metadata": {},
   "outputs": [],
   "source": [
    "ee.Initialize()"
   ]
  },
  {
   "cell_type": "code",
   "execution_count": null,
   "metadata": {},
   "outputs": [],
   "source": []
  },
  {
   "cell_type": "markdown",
   "metadata": {},
   "source": [
    "### Import necessary data"
   ]
  },
  {
   "cell_type": "code",
   "execution_count": 5,
   "metadata": {},
   "outputs": [],
   "source": [
    "# define the year range\n",
    "year_start = '2017-01-01'\n",
    "year_end   = '2019-12-31'\n",
    "\n",
    "year_name = f'{year_start[:4]}_{year_end[:4]}'\n",
    "\n",
    "# import the research area boundary\n",
    "North_China_Plain = ee.FeatureCollection(\"users/wangjinzhulala/North_China_Plain/0_1_North_China_Plain_Full\")"
   ]
  },
  {
   "cell_type": "code",
   "execution_count": null,
   "metadata": {},
   "outputs": [],
   "source": []
  },
  {
   "cell_type": "code",
   "execution_count": 6,
   "metadata": {
    "scrolled": true
   },
   "outputs": [],
   "source": [
    "# use if condition to find out the right Landsat img formulation\n",
    "# here use Landsat Raw data\n",
    "\n",
    "end_year = int(year_name.split('_')[1])\n",
    "\n",
    "if  end_year  <= 2010:\n",
    "    Landsat_img = ee.ImageCollection(\"LANDSAT/LT05/C01/T1\").select(['B4','B3'])\n",
    "\n",
    "elif end_year <= 2013:\n",
    "    Landsat_img = ee.ImageCollection(\"LANDSAT/LE07/C01/T1_SR\").select(['B4','B3'])\n",
    "\n",
    "else:\n",
    "    Landsat_img = ee.ImageCollection(\"LANDSAT/LC08/C01/T1\").select(['B5','B4'])"
   ]
  },
  {
   "cell_type": "code",
   "execution_count": null,
   "metadata": {},
   "outputs": [],
   "source": []
  },
  {
   "cell_type": "markdown",
   "metadata": {},
   "source": [
    "### Create 50k random sample and extract the NDVI value to it"
   ]
  },
  {
   "cell_type": "code",
   "execution_count": null,
   "metadata": {},
   "outputs": [],
   "source": []
  },
  {
   "cell_type": "code",
   "execution_count": 9,
   "metadata": {},
   "outputs": [],
   "source": [
    "# calculate the NDVI\n",
    "NDVI = Landsat_img.filterDate(year_start,year_end)\\\n",
    "                   .filterBounds(North_China_Plain)\\\n",
    "                   .mean()\\\n",
    "                   .normalizedDifference()\\\n",
    "                   .clip(North_China_Plain)\n",
    "                   .multiply(100)\n",
    "                   .toInt8()"
   ]
  },
  {
   "cell_type": "code",
   "execution_count": 10,
   "metadata": {},
   "outputs": [],
   "source": [
    "# Create 50k random points\n",
    "random_50k_pt = ee.FeatureCollection.randomPoints(region = North_China_Plain, \n",
    "                                                  points = 50000, \n",
    "                                                  seed = 101)"
   ]
  },
  {
   "cell_type": "code",
   "execution_count": 14,
   "metadata": {},
   "outputs": [],
   "source": [
    "# Extract NDVI value to the random points\n",
    "\n",
    "NDVI_pt = NDVI.sampleRegions(collection = random_50k_pt, \n",
    "                             properties = ['id'], \n",
    "                             scale = 30, \n",
    "                             geometries = True)"
   ]
  },
  {
   "cell_type": "code",
   "execution_count": null,
   "metadata": {},
   "outputs": [],
   "source": []
  },
  {
   "cell_type": "code",
   "execution_count": 16,
   "metadata": {},
   "outputs": [],
   "source": [
    "# Export the NDVI_pt to Google Storage\n",
    "\n",
    "task = ee.batch.Export.table.toCloudStorage(collection     = NDVI_pt,\n",
    "                                            description    = 'myExportTableTask',\n",
    "                                            bucket         = 'fourier_pixels',\n",
    "                                            fileNamePrefix = 'Year_2017_2019_NDVI_pt_50K')\n",
    "\n",
    "task.start()"
   ]
  },
  {
   "cell_type": "code",
   "execution_count": null,
   "metadata": {},
   "outputs": [],
   "source": []
  },
  {
   "cell_type": "code",
   "execution_count": null,
   "metadata": {},
   "outputs": [],
   "source": []
  },
  {
   "cell_type": "code",
   "execution_count": null,
   "metadata": {},
   "outputs": [],
   "source": []
  },
  {
   "cell_type": "code",
   "execution_count": null,
   "metadata": {},
   "outputs": [],
   "source": []
  },
  {
   "cell_type": "code",
   "execution_count": null,
   "metadata": {},
   "outputs": [],
   "source": []
  },
  {
   "cell_type": "code",
   "execution_count": null,
   "metadata": {},
   "outputs": [],
   "source": []
  },
  {
   "cell_type": "code",
   "execution_count": null,
   "metadata": {},
   "outputs": [],
   "source": []
  },
  {
   "cell_type": "code",
   "execution_count": null,
   "metadata": {},
   "outputs": [],
   "source": []
  },
  {
   "cell_type": "code",
   "execution_count": null,
   "metadata": {},
   "outputs": [],
   "source": []
  },
  {
   "cell_type": "code",
   "execution_count": null,
   "metadata": {},
   "outputs": [],
   "source": []
  },
  {
   "cell_type": "code",
   "execution_count": null,
   "metadata": {},
   "outputs": [],
   "source": []
  },
  {
   "cell_type": "code",
   "execution_count": null,
   "metadata": {},
   "outputs": [],
   "source": []
  },
  {
   "cell_type": "code",
   "execution_count": null,
   "metadata": {},
   "outputs": [],
   "source": []
  },
  {
   "cell_type": "code",
   "execution_count": null,
   "metadata": {},
   "outputs": [],
   "source": []
  }
 ],
 "metadata": {
  "kernelspec": {
   "display_name": "Python 3",
   "language": "python",
   "name": "python3"
  },
  "language_info": {
   "codemirror_mode": {
    "name": "ipython",
    "version": 3
   },
   "file_extension": ".py",
   "mimetype": "text/x-python",
   "name": "python",
   "nbconvert_exporter": "python",
   "pygments_lexer": "ipython3",
   "version": "3.8.2"
  }
 },
 "nbformat": 4,
 "nbformat_minor": 2
}
