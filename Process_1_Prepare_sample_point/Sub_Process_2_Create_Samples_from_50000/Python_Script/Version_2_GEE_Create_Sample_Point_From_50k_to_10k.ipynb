{
 "cells": [
  {
   "cell_type": "code",
   "execution_count": 1,
   "metadata": {},
   "outputs": [],
   "source": [
    "import ee\n",
    "import pandas as pd"
   ]
  },
  {
   "cell_type": "code",
   "execution_count": 2,
   "metadata": {},
   "outputs": [],
   "source": [
    "ee.Initialize()"
   ]
  },
  {
   "cell_type": "markdown",
   "metadata": {},
   "source": [
    "### Create naming parameters"
   ]
  },
  {
   "cell_type": "code",
   "execution_count": 3,
   "metadata": {},
   "outputs": [],
   "source": [
    "# define the year range\n",
    "year_start = [f'{i}-01-01' for i in range(1987,2020,3)]\n",
    "year_end   = [f'{i}-12-31' for i in range(1989,2020,3)]\n",
    "\n",
    "year_range = list(zip(year_start,year_end))\n",
    "\n",
    "# import some spatial constrains\n",
    "North_china_plain_boundary = ee.FeatureCollection(\"users/wangjinzhulala/North_China_Plain_Python/Boundary_shp/North_China_Plain_Boundary\")"
   ]
  },
  {
   "cell_type": "code",
   "execution_count": null,
   "metadata": {},
   "outputs": [],
   "source": []
  },
  {
   "cell_type": "markdown",
   "metadata": {},
   "source": [
    "### Calculate the samplt_point_num for each NDVI value"
   ]
  },
  {
   "cell_type": "code",
   "execution_count": null,
   "metadata": {},
   "outputs": [],
   "source": []
  },
  {
   "cell_type": "code",
   "execution_count": 4,
   "metadata": {},
   "outputs": [
    {
     "name": "stdout",
     "output_type": "stream",
     "text": [
      "Histogram calculation of Year_2017_2019_Mean_NDVI completed!\n",
      "Histogram calculation of Year_2014_2016_Mean_NDVI completed!\n",
      "Histogram calculation of Year_2011_2013_Mean_NDVI completed!\n",
      "Histogram calculation of Year_2008_2010_Mean_NDVI completed!\n",
      "Histogram calculation of Year_2005_2007_Mean_NDVI completed!\n",
      "Histogram calculation of Year_2002_2004_Mean_NDVI completed!\n",
      "Histogram calculation of Year_1999_2001_Mean_NDVI completed!\n",
      "Histogram calculation of Year_1996_1998_Mean_NDVI completed!\n",
      "Histogram calculation of Year_1993_1995_Mean_NDVI completed!\n",
      "Histogram calculation of Year_1990_1992_Mean_NDVI completed!\n",
      "Histogram calculation of Year_1987_1989_Mean_NDVI completed!\n"
     ]
    }
   ],
   "source": [
    "NDVI_hist = {}\n",
    "\n",
    "for span in year_range[::-1]:\n",
    "    \n",
    "    # create name variables from span\n",
    "    start = span[0]\n",
    "    end   = span[1]\n",
    "    \n",
    "    split = '-'\n",
    "    span_name = f'{start.split(split)[0]}_{end.split(split)[0]}'\n",
    "        \n",
    "#     # Fetch the NDVI value \n",
    "#     NDVI = ee.Image(f'users/wensomone666/Jinzhu/Mean_NDVI/Year_{span_name}_Mean_NDVI').clip(North_china_plain_boundary)\n",
    "    \n",
    "#     # Calculate the area percentage of each NDVI value \n",
    "#     NDVI_frequency = NDVI.reduceRegion(reducer   = ee.Reducer.histogram(200),\n",
    "#                                        geometry  = North_china_plain_boundary.geometry(), \n",
    "#                                        scale     = 30, \n",
    "#                                        maxPixels = int(1e13)).getInfo()\n",
    "    \n",
    "#     # unpack the value from histogram\n",
    "#     count    = [round(i) for i in NDVI_frequency['nd']['histogram']]\n",
    "#     nd_value = [round(i) for i in NDVI_frequency['nd']['bucketMeans']]\n",
    "    \n",
    "#     # put the hist value into the hist dictionary\n",
    "#     NDVI_hist[span_name] = list(zip(nd_value,count))\n",
    "    \n",
    "    # print out the process\n",
    "    print(f'Histogram calculation of Year_{span_name}_Mean_NDVI completed!')\n",
    "    "
   ]
  },
  {
   "cell_type": "code",
   "execution_count": 5,
   "metadata": {},
   "outputs": [],
   "source": [
    "# innitilize an empyty datafram\n",
    "NDVI_hist_df = pd.DataFrame()\n",
    "\n",
    "for year_name, nd_freq in NDVI_hist.items():\n",
    "    \n",
    "    # Create a datafram to hold the histogram of this year_name\n",
    "    tmp_df = pd.DataFrame(data=nd_freq,\n",
    "                          index=[year_name]*len(nd_freq),\n",
    "                          columns=['NDVI','Freq'])\n",
    "    \n",
    "    tmp_df['Select_num'] = tmp_df['Freq'].apply(lambda x: round(x*10000/(tmp_df['Freq'].sum())))\n",
    "    \n",
    "    # concate the tmp_df to \n",
    "    NDVI_hist_df = pd.concat([NDVI_hist_df,tmp_df])\n",
    "    "
   ]
  },
  {
   "cell_type": "code",
   "execution_count": 6,
   "metadata": {},
   "outputs": [
    {
     "data": {
      "text/html": [
       "<div>\n",
       "<style scoped>\n",
       "    .dataframe tbody tr th:only-of-type {\n",
       "        vertical-align: middle;\n",
       "    }\n",
       "\n",
       "    .dataframe tbody tr th {\n",
       "        vertical-align: top;\n",
       "    }\n",
       "\n",
       "    .dataframe thead th {\n",
       "        text-align: right;\n",
       "    }\n",
       "</style>\n",
       "<table border=\"1\" class=\"dataframe\">\n",
       "  <thead>\n",
       "    <tr style=\"text-align: right;\">\n",
       "      <th></th>\n",
       "      <th>Year_range</th>\n",
       "      <th>NDVI</th>\n",
       "      <th>Freq</th>\n",
       "      <th>Select_num</th>\n",
       "    </tr>\n",
       "  </thead>\n",
       "  <tbody>\n",
       "    <tr>\n",
       "      <th>0</th>\n",
       "      <td>2017_2019</td>\n",
       "      <td>-16</td>\n",
       "      <td>29</td>\n",
       "      <td>0.0</td>\n",
       "    </tr>\n",
       "    <tr>\n",
       "      <th>1</th>\n",
       "      <td>2017_2019</td>\n",
       "      <td>-15</td>\n",
       "      <td>141</td>\n",
       "      <td>0.0</td>\n",
       "    </tr>\n",
       "    <tr>\n",
       "      <th>2</th>\n",
       "      <td>2017_2019</td>\n",
       "      <td>-14</td>\n",
       "      <td>611</td>\n",
       "      <td>0.0</td>\n",
       "    </tr>\n",
       "    <tr>\n",
       "      <th>3</th>\n",
       "      <td>2017_2019</td>\n",
       "      <td>-13</td>\n",
       "      <td>2265</td>\n",
       "      <td>0.0</td>\n",
       "    </tr>\n",
       "    <tr>\n",
       "      <th>4</th>\n",
       "      <td>2017_2019</td>\n",
       "      <td>-12</td>\n",
       "      <td>4875</td>\n",
       "      <td>0.0</td>\n",
       "    </tr>\n",
       "    <tr>\n",
       "      <th>...</th>\n",
       "      <td>...</td>\n",
       "      <td>...</td>\n",
       "      <td>...</td>\n",
       "      <td>...</td>\n",
       "    </tr>\n",
       "    <tr>\n",
       "      <th>812</th>\n",
       "      <td>1987_1989</td>\n",
       "      <td>38</td>\n",
       "      <td>722</td>\n",
       "      <td>0.0</td>\n",
       "    </tr>\n",
       "    <tr>\n",
       "      <th>813</th>\n",
       "      <td>1987_1989</td>\n",
       "      <td>39</td>\n",
       "      <td>212</td>\n",
       "      <td>0.0</td>\n",
       "    </tr>\n",
       "    <tr>\n",
       "      <th>814</th>\n",
       "      <td>1987_1989</td>\n",
       "      <td>40</td>\n",
       "      <td>81</td>\n",
       "      <td>0.0</td>\n",
       "    </tr>\n",
       "    <tr>\n",
       "      <th>815</th>\n",
       "      <td>1987_1989</td>\n",
       "      <td>41</td>\n",
       "      <td>32</td>\n",
       "      <td>0.0</td>\n",
       "    </tr>\n",
       "    <tr>\n",
       "      <th>816</th>\n",
       "      <td>1987_1989</td>\n",
       "      <td>42</td>\n",
       "      <td>2</td>\n",
       "      <td>0.0</td>\n",
       "    </tr>\n",
       "  </tbody>\n",
       "</table>\n",
       "<p>817 rows × 4 columns</p>\n",
       "</div>"
      ],
      "text/plain": [
       "    Year_range  NDVI  Freq  Select_num\n",
       "0    2017_2019   -16    29         0.0\n",
       "1    2017_2019   -15   141         0.0\n",
       "2    2017_2019   -14   611         0.0\n",
       "3    2017_2019   -13  2265         0.0\n",
       "4    2017_2019   -12  4875         0.0\n",
       "..         ...   ...   ...         ...\n",
       "812  1987_1989    38   722         0.0\n",
       "813  1987_1989    39   212         0.0\n",
       "814  1987_1989    40    81         0.0\n",
       "815  1987_1989    41    32         0.0\n",
       "816  1987_1989    42     2         0.0\n",
       "\n",
       "[817 rows x 4 columns]"
      ]
     },
     "execution_count": 6,
     "metadata": {},
     "output_type": "execute_result"
    }
   ],
   "source": [
    "# save the NDVI_hist_df to local disk\n",
    "# NDVI_hist_df.index.name = 'Year_range'\n",
    "# NDVI_hist_df.to_csv('../GEE_sample_point/NDVI_area_propotion.csv')\n",
    "\n",
    "# load the NDVI_hist_df from locak disk\n",
    "NDVI_hist_df = pd.read_csv('../GEE_sample_point/NDVI_area_propotion.csv')\n",
    "NDVI_hist_df"
   ]
  },
  {
   "cell_type": "code",
   "execution_count": null,
   "metadata": {},
   "outputs": [],
   "source": []
  },
  {
   "cell_type": "markdown",
   "metadata": {},
   "source": [
    "### Create 50K random sample point and extract NDVI value to it"
   ]
  },
  {
   "cell_type": "code",
   "execution_count": 7,
   "metadata": {},
   "outputs": [],
   "source": [
    "# get each year_range and put them into list\n",
    "date_range = NDVI_hist_df['Year_range'].unique()\n",
    "\n",
    "# get each nd-freq tuple from each year_range\n",
    "nd_freq = [list(zip(NDVI_hist_df[NDVI_hist_df['Year_range'] == idx]['NDVI'],\n",
    "                    NDVI_hist_df[NDVI_hist_df['Year_range'] == idx]['Select_num'])) for idx in date_range]\n",
    "\n",
    "# put year_range and corespoded nd-freq into a list\n",
    "NDVI_select_num = list(zip(date_range,nd_freq))"
   ]
  },
  {
   "cell_type": "code",
   "execution_count": null,
   "metadata": {},
   "outputs": [],
   "source": []
  },
  {
   "cell_type": "code",
   "execution_count": 20,
   "metadata": {},
   "outputs": [
    {
     "name": "stdout",
     "output_type": "stream",
     "text": [
      "Sample_50K_year_1987_1989 exprted sucessfully\n",
      "Sample_50K_year_1990_1992 exprted sucessfully\n",
      "Sample_50K_year_1993_1995 exprted sucessfully\n",
      "Sample_50K_year_1996_1998 exprted sucessfully\n",
      "Sample_50K_year_1999_2001 exprted sucessfully\n",
      "Sample_50K_year_2002_2004 exprted sucessfully\n",
      "Sample_50K_year_2005_2007 exprted sucessfully\n",
      "Sample_50K_year_2008_2010 exprted sucessfully\n",
      "Sample_50K_year_2011_2013 exprted sucessfully\n",
      "Sample_50K_year_2014_2016 exprted sucessfully\n",
      "Sample_50K_year_2017_2019 exprted sucessfully\n"
     ]
    }
   ],
   "source": [
    "Path = 'users/wangjinzhulala/North_China_Plain_Python/Sample_50K'\n",
    "\n",
    "for year_name in year_range:\n",
    "    \n",
    "    # create name variables from span\n",
    "    start = year_name[0]\n",
    "    end   = year_name[1]\n",
    "    \n",
    "    split = '-'\n",
    "    span_name = f'{start.split(split)[0]}_{end.split(split)[0]}'\n",
    "    \n",
    "    asset_name = f'Sample_50K_year_{span_name}'\n",
    "    \n",
    "    # fetch the NDVI img\n",
    "    NDVI_img = ee.Image(f'users/wensomone666/Jinzhu/Mean_NDVI/Year_{span_name}_Mean_NDVI').clip(North_china_plain_boundary)\n",
    "    \n",
    "    # create 50K sample point\n",
    "    Sample_50k = NDVI_img.sample(region = North_china_plain_boundary.geometry(),\n",
    "                                 scale = 30,\n",
    "                                 numPixels=50000,\n",
    "                                 geometries = True)\n",
    "    \n",
    "    # export \n",
    "    task = ee.batch.Export.table.toAsset(   collection  = Sample_50k,\n",
    "                                            description = f'Exporting {asset_name}',\n",
    "                                            assetId     = f'{Path}/{asset_name}')\n",
    "    task.start()\n",
    "    \n",
    "    # print out the process\n",
    "    print(f'{asset_name} exprted sucessfully')"
   ]
  },
  {
   "cell_type": "code",
   "execution_count": null,
   "metadata": {},
   "outputs": [],
   "source": []
  },
  {
   "cell_type": "markdown",
   "metadata": {},
   "source": [
    "##### Compute the sample_select "
   ]
  },
  {
   "cell_type": "code",
   "execution_count": null,
   "metadata": {},
   "outputs": [],
   "source": []
  },
  {
   "cell_type": "code",
   "execution_count": null,
   "metadata": {},
   "outputs": [],
   "source": []
  },
  {
   "cell_type": "code",
   "execution_count": null,
   "metadata": {},
   "outputs": [],
   "source": []
  },
  {
   "cell_type": "code",
   "execution_count": null,
   "metadata": {},
   "outputs": [],
   "source": []
  },
  {
   "cell_type": "code",
   "execution_count": null,
   "metadata": {},
   "outputs": [],
   "source": []
  },
  {
   "cell_type": "code",
   "execution_count": null,
   "metadata": {},
   "outputs": [],
   "source": []
  }
 ],
 "metadata": {
  "kernelspec": {
   "display_name": "Python 3",
   "language": "python",
   "name": "python3"
  },
  "language_info": {
   "codemirror_mode": {
    "name": "ipython",
    "version": 3
   },
   "file_extension": ".py",
   "mimetype": "text/x-python",
   "name": "python",
   "nbconvert_exporter": "python",
   "pygments_lexer": "ipython3",
   "version": "3.7.3"
  }
 },
 "nbformat": 4,
 "nbformat_minor": 2
}
