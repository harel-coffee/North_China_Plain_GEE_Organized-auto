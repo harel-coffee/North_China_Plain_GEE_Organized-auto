{
 "cells": [
  {
   "cell_type": "code",
   "execution_count": 1,
   "metadata": {},
   "outputs": [],
   "source": [
    "import ee"
   ]
  },
  {
   "cell_type": "code",
   "execution_count": 2,
   "metadata": {},
   "outputs": [],
   "source": [
    "ee.Initialize()"
   ]
  },
  {
   "cell_type": "markdown",
   "metadata": {},
   "source": [
    "### Define premise parameter"
   ]
  },
  {
   "cell_type": "code",
   "execution_count": 3,
   "metadata": {},
   "outputs": [],
   "source": [
    "# define the year range\n",
    "year_start = [f'{i}-01-01' for i in range(1987,2020,3)]\n",
    "year_end   = [f'{i}-12-31' for i in range(1989,2020,3)]\n",
    "\n",
    "year_range = list(zip(year_start,year_end))\n",
    "\n",
    "# import the research area boundary\n",
    "North_China_Plain = ee.FeatureCollection(\"users/wangjinzhulala/North_China_Plain/0_1_North_China_Plain_Full\")"
   ]
  },
  {
   "cell_type": "code",
   "execution_count": 4,
   "metadata": {},
   "outputs": [
    {
     "data": {
      "text/plain": [
       "[('1987-01-01', '1989-12-31'),\n",
       " ('1990-01-01', '1992-12-31'),\n",
       " ('1993-01-01', '1995-12-31'),\n",
       " ('1996-01-01', '1998-12-31'),\n",
       " ('1999-01-01', '2001-12-31'),\n",
       " ('2002-01-01', '2004-12-31'),\n",
       " ('2005-01-01', '2007-12-31'),\n",
       " ('2008-01-01', '2010-12-31'),\n",
       " ('2011-01-01', '2013-12-31'),\n",
       " ('2014-01-01', '2016-12-31'),\n",
       " ('2017-01-01', '2019-12-31')]"
      ]
     },
     "execution_count": 4,
     "metadata": {},
     "output_type": "execute_result"
    }
   ],
   "source": [
    "year_range"
   ]
  },
  {
   "cell_type": "markdown",
   "metadata": {},
   "source": [
    "### Select Correct Landsat img and Compute the Mean-NDVI according to year_range"
   ]
  },
  {
   "cell_type": "code",
   "execution_count": 5,
   "metadata": {},
   "outputs": [],
   "source": [
    "# use if condition to find out the right Landsat img formulation\n",
    "# here use Landsat Raw data\n",
    "\n",
    "Mean_img = []\n",
    "\n",
    "for span in year_range:\n",
    "    \n",
    "    # find the end year to determine the \n",
    "    start_year = int(span[0].split('-')[0])\n",
    "    end_year   = int(span[1].split('-')[0])\n",
    "    range_name = f'{start_year}_{end_year}'\n",
    "\n",
    "    if  end_year  <= 2010:\n",
    "        NDVI_img = ee.ImageCollection(\"LANDSAT/LT05/C01/T1\").select(['B4','B3'])\\\n",
    "                        .filterBounds(North_China_Plain).filterDate(span[0],span[1])\\\n",
    "                        .mean()\\\n",
    "                        .normalizedDifference()\\\n",
    "                        .clip(North_China_Plain)\n",
    "\n",
    "    elif end_year <= 2013:\n",
    "        NDVI_img = ee.ImageCollection(\"LANDSAT/LE07/C01/T1\").select(['B4','B3'])\\\n",
    "                        .filterBounds(North_China_Plain).filterDate(span[0],span[1])\\\n",
    "                        .mean()\\\n",
    "                        .normalizedDifference()\\\n",
    "                        .clip(North_China_Plain)\n",
    "\n",
    "    else:\n",
    "        NDVI_img = ee.ImageCollection(\"LANDSAT/LC08/C01/T1\").select(['B5','B4'])\\\n",
    "                        .filterBounds(North_China_Plain).filterDate(span[0],span[1])\\\n",
    "                        .mean()\\\n",
    "                        .normalizedDifference()\\\n",
    "                        .clip(North_China_Plain)\n",
    "    \n",
    "    # add the range_name and landsat img to the list\n",
    "    Mean_img.append((range_name,NDVI_img))"
   ]
  },
  {
   "cell_type": "code",
   "execution_count": null,
   "metadata": {},
   "outputs": [],
   "source": []
  },
  {
   "cell_type": "markdown",
   "metadata": {},
   "source": [
    "### Export the mean-NDVI img"
   ]
  },
  {
   "cell_type": "code",
   "execution_count": null,
   "metadata": {},
   "outputs": [],
   "source": []
  },
  {
   "cell_type": "code",
   "execution_count": 7,
   "metadata": {},
   "outputs": [
    {
     "name": "stdout",
     "output_type": "stream",
     "text": [
      "Exporting mean-NDVI of Year_1987_1989_Mean_NDVI\n",
      "Exporting mean-NDVI of Year_1990_1992_Mean_NDVI\n",
      "Exporting mean-NDVI of Year_1993_1995_Mean_NDVI\n",
      "Exporting mean-NDVI of Year_1996_1998_Mean_NDVI\n",
      "Exporting mean-NDVI of Year_1999_2001_Mean_NDVI\n",
      "Exporting mean-NDVI of Year_2002_2004_Mean_NDVI\n",
      "Exporting mean-NDVI of Year_2005_2007_Mean_NDVI\n",
      "Exporting mean-NDVI of Year_2008_2010_Mean_NDVI\n",
      "Exporting mean-NDVI of Year_2011_2013_Mean_NDVI\n",
      "Exporting mean-NDVI of Year_2014_2016_Mean_NDVI\n",
      "Exporting mean-NDVI of Year_2017_2019_Mean_NDVI\n"
     ]
    }
   ],
   "source": [
    "for span_range,ndvi in Mean_img:\n",
    "    \n",
    "    # define the GEE_asset path\n",
    "    path = 'users/wensomone666/Jinzhu/Mean_NDVI'\n",
    "    # define the name\n",
    "    name = f'Year_{span_range}_Mean_NDVI'\n",
    "\n",
    "    # multiply the NDVI with 100 and change it \n",
    "    # into a int-img to reduce space\n",
    "    img = ndvi.multiply(100).toInt8()\n",
    "\n",
    "    # export\n",
    "#     task = ee.batch.Export.image.toAsset(   image           = img,\n",
    "#                                             description     = name,\n",
    "#                                             assetId         = f'{path}/{name}',\n",
    "#                                             region          = North_China_Plain.geometry().bounds(),\n",
    "#                                             scale           = 30,\n",
    "#                                             maxPixels       = int(1e13)\n",
    "#                                         )\n",
    "\n",
    "#     task.start()\n",
    "\n",
    "    # print out the process\n",
    "    print(f'Exporting mean-NDVI of {name}')"
   ]
  },
  {
   "cell_type": "code",
   "execution_count": null,
   "metadata": {},
   "outputs": [],
   "source": []
  },
  {
   "cell_type": "code",
   "execution_count": null,
   "metadata": {},
   "outputs": [],
   "source": []
  },
  {
   "cell_type": "code",
   "execution_count": null,
   "metadata": {},
   "outputs": [],
   "source": []
  },
  {
   "cell_type": "code",
   "execution_count": null,
   "metadata": {},
   "outputs": [],
   "source": []
  },
  {
   "cell_type": "code",
   "execution_count": null,
   "metadata": {},
   "outputs": [],
   "source": []
  },
  {
   "cell_type": "code",
   "execution_count": null,
   "metadata": {},
   "outputs": [],
   "source": []
  }
 ],
 "metadata": {
  "kernelspec": {
   "display_name": "Python 3",
   "language": "python",
   "name": "python3"
  },
  "language_info": {
   "codemirror_mode": {
    "name": "ipython",
    "version": 3
   },
   "file_extension": ".py",
   "mimetype": "text/x-python",
   "name": "python",
   "nbconvert_exporter": "python",
   "pygments_lexer": "ipython3",
   "version": "3.8.2"
  }
 },
 "nbformat": 4,
 "nbformat_minor": 2
}
