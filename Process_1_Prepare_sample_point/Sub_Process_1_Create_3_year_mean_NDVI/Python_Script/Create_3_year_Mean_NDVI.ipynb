{
 "cells": [
  {
   "cell_type": "code",
   "execution_count": 1,
   "metadata": {},
   "outputs": [],
   "source": [
    "import ee"
   ]
  },
  {
   "cell_type": "code",
   "execution_count": 2,
   "metadata": {},
   "outputs": [],
   "source": [
    "ee.Initialize()"
   ]
  },
  {
   "cell_type": "markdown",
   "metadata": {},
   "source": [
    "### Define premise parameter"
   ]
  },
  {
   "cell_type": "code",
   "execution_count": 3,
   "metadata": {},
   "outputs": [],
   "source": [
    "# define the year range\n",
    "year_start = '2017-01-01'\n",
    "year_end   = '2019-12-31'\n",
    "\n",
    "year_name = f'{year_start[:4]}_{year_end[:4]}'\n",
    "\n",
    "# import the research area boundary\n",
    "North_China_Plain = ee.FeatureCollection(\"users/wangjinzhulala/North_China_Plain/0_1_North_China_Plain_Full\")"
   ]
  },
  {
   "cell_type": "code",
   "execution_count": null,
   "metadata": {},
   "outputs": [],
   "source": []
  },
  {
   "cell_type": "code",
   "execution_count": 4,
   "metadata": {},
   "outputs": [],
   "source": [
    "# use if condition to find out the right Landsat img formulation\n",
    "# here use Landsat Raw data\n",
    "\n",
    "end_year = int(year_name.split('_')[1])\n",
    "\n",
    "if  end_year  <= 2010:\n",
    "    Landsat_img = ee.ImageCollection(\"LANDSAT/LT05/C01/T1\").select(['B4','B3'])\n",
    "\n",
    "elif end_year <= 2013:\n",
    "    Landsat_img = ee.ImageCollection(\"LANDSAT/LE07/C01/T1_SR\").select(['B4','B3'])\n",
    "\n",
    "else:\n",
    "    Landsat_img = ee.ImageCollection(\"LANDSAT/LC08/C01/T1\").select(['B5','B4'])\n",
    "    "
   ]
  },
  {
   "cell_type": "code",
   "execution_count": null,
   "metadata": {},
   "outputs": [],
   "source": []
  },
  {
   "cell_type": "markdown",
   "metadata": {},
   "source": [
    "### Filter the landsat imgs and calculate the NDVI"
   ]
  },
  {
   "cell_type": "code",
   "execution_count": 5,
   "metadata": {},
   "outputs": [],
   "source": [
    "# Calculate the Mean-value NDVI\n",
    "\n",
    "NDVI = Landsat_img.filterDate(year_start,year_end)\\\n",
    "                  .filterBounds(North_China_Plain)\\\n",
    "                  .mean()\\\n",
    "                  .normalizedDifference()\\\n",
    "                  .clip(North_China_Plain)"
   ]
  },
  {
   "cell_type": "code",
   "execution_count": null,
   "metadata": {},
   "outputs": [],
   "source": []
  },
  {
   "cell_type": "code",
   "execution_count": 6,
   "metadata": {},
   "outputs": [],
   "source": [
    "# Export the NDVI-img to google storage bucket\n",
    "\n",
    "# define the name\n",
    "name = f'Year_{year_name}_Mean_NDVI'\n",
    "\n",
    "# multiply the NDVI with 100 and change it \n",
    "# into a int-img to reduce space\n",
    "img = NDVI.multiply(100).toInt8()\n",
    "\n",
    "task = ee.batch.Export.image.toCloudStorage(image           = img,\n",
    "                                            description     = name,\n",
    "                                            bucket          = 'fourier_pixels',\n",
    "                                            fileNamePrefix  = name,\n",
    "                                            \n",
    "                                            region          = North_China_Plain.geometry().bounds().getInfo()['coordinates'],\n",
    "                                            scale           = 30,\n",
    "                                            \n",
    "                                            maxPixels       = int(1e13),\n",
    "                                           \n",
    "                                            skipEmptyTiles  = True )\n",
    "\n",
    "task.start()"
   ]
  },
  {
   "cell_type": "code",
   "execution_count": null,
   "metadata": {},
   "outputs": [],
   "source": []
  },
  {
   "cell_type": "code",
   "execution_count": null,
   "metadata": {},
   "outputs": [],
   "source": []
  },
  {
   "cell_type": "code",
   "execution_count": null,
   "metadata": {},
   "outputs": [],
   "source": []
  },
  {
   "cell_type": "code",
   "execution_count": null,
   "metadata": {},
   "outputs": [],
   "source": []
  },
  {
   "cell_type": "code",
   "execution_count": null,
   "metadata": {},
   "outputs": [],
   "source": []
  },
  {
   "cell_type": "code",
   "execution_count": null,
   "metadata": {},
   "outputs": [],
   "source": []
  }
 ],
 "metadata": {
  "kernelspec": {
   "display_name": "Python 3",
   "language": "python",
   "name": "python3"
  },
  "language_info": {
   "codemirror_mode": {
    "name": "ipython",
    "version": 3
   },
   "file_extension": ".py",
   "mimetype": "text/x-python",
   "name": "python",
   "nbconvert_exporter": "python",
   "pygments_lexer": "ipython3",
   "version": "3.7.3"
  }
 },
 "nbformat": 4,
 "nbformat_minor": 2
}
