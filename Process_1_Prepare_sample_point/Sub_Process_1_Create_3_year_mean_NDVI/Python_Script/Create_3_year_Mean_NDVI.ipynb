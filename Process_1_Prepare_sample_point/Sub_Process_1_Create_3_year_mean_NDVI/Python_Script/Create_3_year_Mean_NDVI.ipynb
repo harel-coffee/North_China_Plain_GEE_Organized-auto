{
 "cells": [
  {
   "cell_type": "code",
   "execution_count": 1,
   "metadata": {},
   "outputs": [],
   "source": [
    "import ee"
   ]
  },
  {
   "cell_type": "code",
   "execution_count": 2,
   "metadata": {},
   "outputs": [],
   "source": [
    "ee.Initialize()"
   ]
  },
  {
   "cell_type": "markdown",
   "metadata": {},
   "source": [
    "### Define premise parameter"
   ]
  },
  {
   "cell_type": "code",
   "execution_count": 3,
   "metadata": {},
   "outputs": [],
   "source": [
    "# define the year range\n",
    "year_start = [f'{i}-01-01' for i in range(1987,2020,3)]\n",
    "year_end   = [f'{i}-12-31' for i in range(1989,2020,3)]\n",
    "\n",
    "year_range = list(zip(year_start,year_end))\n",
    "\n",
    "# import the research area boundary\n",
    "North_China_Plain = ee.FeatureCollection(\"users/wangjinzhulala/North_China_Plain/0_1_North_China_Plain_Full\")"
   ]
  },
  {
   "cell_type": "code",
   "execution_count": 4,
   "metadata": {},
   "outputs": [
    {
     "data": {
      "text/plain": [
       "[('1987-01-01', '1989-12-31'),\n",
       " ('1990-01-01', '1992-12-31'),\n",
       " ('1993-01-01', '1995-12-31'),\n",
       " ('1996-01-01', '1998-12-31'),\n",
       " ('1999-01-01', '2001-12-31'),\n",
       " ('2002-01-01', '2004-12-31'),\n",
       " ('2005-01-01', '2007-12-31'),\n",
       " ('2008-01-01', '2010-12-31'),\n",
       " ('2011-01-01', '2013-12-31'),\n",
       " ('2014-01-01', '2016-12-31'),\n",
       " ('2017-01-01', '2019-12-31')]"
      ]
     },
     "execution_count": 4,
     "metadata": {},
     "output_type": "execute_result"
    }
   ],
   "source": [
    "year_range"
   ]
  },
  {
   "cell_type": "markdown",
   "metadata": {},
   "source": [
    "### [Mean_NDVI, Mean_NDBI, Mean_EVI] calcualtion according to year_range"
   ]
  },
  {
   "cell_type": "code",
   "execution_count": 17,
   "metadata": {},
   "outputs": [],
   "source": [
    "# use if condition to find out the right Landsat img formulation\n",
    "# here use Landsat Raw data\n",
    "\n",
    "Normalized_img = []\n",
    "            \n",
    "            # reverse the list so we can export the recenty img first\n",
    "for span in year_range[::-1]:\n",
    "    \n",
    "    # find the end year to determine the \n",
    "    start_year = int(span[0].split('-')[0])\n",
    "    end_year   = int(span[1].split('-')[0])\n",
    "    range_name = f'{start_year}_{end_year}'\n",
    "\n",
    "    if end_year <= 2010:\n",
    "        Landsat_img = ee.ImageCollection(\"LANDSAT/LT05/C01/T1_TOA\")\n",
    "        ND_formula = {'NDVI':['B4','B3'],\n",
    "                          'NDBI':['B5','B4'],\n",
    "                          'EVI':\"2.5 * ((b('B4')-b('B3'))*1.0 / (b('B4')*1.0 + 6.0 * b('B3') - 7.5 * b('B1') + 1.0))\"}\n",
    "\n",
    "    elif end_year <= 2013:\n",
    "        Landsat_img = ee.ImageCollection(\"LANDSAT/LE07/C01/T1_TOA\")\n",
    "        ND_formula = {'NDVI':['B4','B3'],\n",
    "                      'NDBI':['B5','B4'],\n",
    "                      'EVI':\"2.5 * ((b('B4')-b('B3'))*1.0 / (b('B4')*1.0 + 6.0 * b('B3') - 7.5 * b('B1') + 1.0))\"}\n",
    "\n",
    "    else:\n",
    "        Landsat_img = ee.ImageCollection(\"LANDSAT/LC08/C01/T1_TOA\")\n",
    "        ND_formula = {'NDVI':['B5','B4'],\n",
    "                          'NDBI':['B6','B5'],\n",
    "                          'EVI':\"2.5 * ((b('B5')-b('B4'))*1.0 / (b('B5')*1.0 + 6.0 * b('B4') - 7.5 * b('B2') + 1.0))\"}\n",
    "    \n",
    "    # compute the normalized difference imgs\n",
    "    # multiply the NDVI with 100 and change it \n",
    "    # into a int-img to reduce space\n",
    "    NDVI_mean = Landsat_img\\\n",
    "                            .filterBounds(North_China_Plain)\\\n",
    "                            .filterDate(span[0],span[1])\\\n",
    "                            .mean()\\\n",
    "                            .normalizedDifference(ND_formula['NDVI'])\\\n",
    "                            .multiply(100).toInt8()\n",
    "    \n",
    "    NDBI_mean = Landsat_img\\\n",
    "                            .filterBounds(North_China_Plain)\\\n",
    "                            .filterDate(span[0],span[1])\\\n",
    "                            .mean()\\\n",
    "                            .normalizedDifference(ND_formula['NDBI'])\\\n",
    "                            .multiply(100).toInt8()\n",
    "    \n",
    "    EVI_mean  = Landsat_img\\\n",
    "                            .filterBounds(North_China_Plain)\\\n",
    "                            .filterDate(span[0],span[1])\\\n",
    "                            .mean()\\\n",
    "                            .expression(ND_formula['EVI'])\\\n",
    "                            .multiply(100).toInt8()\n",
    "    \n",
    "    \n",
    "    # add the range_name and landsat img to the list\n",
    "    Normalized_img.append((range_name,(NDVI_mean,NDBI_mean,EVI_mean)))"
   ]
  },
  {
   "cell_type": "code",
   "execution_count": null,
   "metadata": {},
   "outputs": [],
   "source": []
  },
  {
   "cell_type": "markdown",
   "metadata": {},
   "source": [
    "### Export the NDVI img"
   ]
  },
  {
   "cell_type": "code",
   "execution_count": 20,
   "metadata": {},
   "outputs": [
    {
     "name": "stdout",
     "output_type": "stream",
     "text": [
      "Exporting Mean-Normalized-img of Year_2017_2019_Mean_NDVI\n",
      "Exporting Mean-Normalized-img of Year_2017_2019_Mean_NDBI\n",
      "Exporting Mean-Normalized-img of Year_2017_2019_Mean_EVI\n",
      "__________________\n",
      "Exporting Mean-Normalized-img of Year_2014_2016_Mean_NDVI\n",
      "Exporting Mean-Normalized-img of Year_2014_2016_Mean_NDBI\n",
      "Exporting Mean-Normalized-img of Year_2014_2016_Mean_EVI\n",
      "__________________\n",
      "Exporting Mean-Normalized-img of Year_2011_2013_Mean_NDVI\n",
      "Exporting Mean-Normalized-img of Year_2011_2013_Mean_NDBI\n",
      "Exporting Mean-Normalized-img of Year_2011_2013_Mean_EVI\n",
      "__________________\n",
      "Exporting Mean-Normalized-img of Year_2008_2010_Mean_NDVI\n",
      "Exporting Mean-Normalized-img of Year_2008_2010_Mean_NDBI\n",
      "Exporting Mean-Normalized-img of Year_2008_2010_Mean_EVI\n",
      "__________________\n",
      "Exporting Mean-Normalized-img of Year_2005_2007_Mean_NDVI\n",
      "Exporting Mean-Normalized-img of Year_2005_2007_Mean_NDBI\n",
      "Exporting Mean-Normalized-img of Year_2005_2007_Mean_EVI\n",
      "__________________\n",
      "Exporting Mean-Normalized-img of Year_2002_2004_Mean_NDVI\n",
      "Exporting Mean-Normalized-img of Year_2002_2004_Mean_NDBI\n",
      "Exporting Mean-Normalized-img of Year_2002_2004_Mean_EVI\n",
      "__________________\n",
      "Exporting Mean-Normalized-img of Year_1999_2001_Mean_NDVI\n",
      "Exporting Mean-Normalized-img of Year_1999_2001_Mean_NDBI\n",
      "Exporting Mean-Normalized-img of Year_1999_2001_Mean_EVI\n",
      "__________________\n",
      "Exporting Mean-Normalized-img of Year_1996_1998_Mean_NDVI\n",
      "Exporting Mean-Normalized-img of Year_1996_1998_Mean_NDBI\n",
      "Exporting Mean-Normalized-img of Year_1996_1998_Mean_EVI\n",
      "__________________\n",
      "Exporting Mean-Normalized-img of Year_1993_1995_Mean_NDVI\n",
      "Exporting Mean-Normalized-img of Year_1993_1995_Mean_NDBI\n",
      "Exporting Mean-Normalized-img of Year_1993_1995_Mean_EVI\n",
      "__________________\n",
      "Exporting Mean-Normalized-img of Year_1990_1992_Mean_NDVI\n",
      "Exporting Mean-Normalized-img of Year_1990_1992_Mean_NDBI\n",
      "Exporting Mean-Normalized-img of Year_1990_1992_Mean_EVI\n",
      "__________________\n",
      "Exporting Mean-Normalized-img of Year_1987_1989_Mean_NDVI\n",
      "Exporting Mean-Normalized-img of Year_1987_1989_Mean_NDBI\n",
      "Exporting Mean-Normalized-img of Year_1987_1989_Mean_EVI\n",
      "__________________\n"
     ]
    }
   ],
   "source": [
    "for span_range,imgs in Normalized_img:\n",
    "    \n",
    "    # define the GEE_asset path\n",
    "    path = 'users/wensomone666/Jinzhu/Mean_NDVI'\n",
    "    \n",
    "    # define the name              \n",
    "    names = [f'Year_{span_range}_Mean_NDVI',\n",
    "             f'Year_{span_range}_Mean_NDBI',\n",
    "             f'Year_{span_range}_Mean_EVI']\n",
    "\n",
    "    \n",
    "    # export\n",
    "    for name,img in zip(names,imgs):\n",
    "        \n",
    "        task = ee.batch.Export.image.toAsset(   image           = img,\n",
    "                                                description     = name,\n",
    "                                                assetId         = f'{path}/{name}',\n",
    "                                                region          = North_China_Plain.geometry().bounds(),\n",
    "                                                scale           = 30,\n",
    "                                                maxPixels       = int(1e13)\n",
    "                                            )\n",
    "\n",
    "        task.start()\n",
    "\n",
    "        # print out the process\n",
    "        print(f'Exporting Mean-Normalized-img of {name}')\n",
    "        \n",
    "    print('__________________')"
   ]
  },
  {
   "cell_type": "code",
   "execution_count": null,
   "metadata": {},
   "outputs": [],
   "source": []
  },
  {
   "cell_type": "code",
   "execution_count": null,
   "metadata": {},
   "outputs": [],
   "source": []
  },
  {
   "cell_type": "code",
   "execution_count": null,
   "metadata": {},
   "outputs": [],
   "source": []
  }
 ],
 "metadata": {
  "kernelspec": {
   "display_name": "Python 3",
   "language": "python",
   "name": "python3"
  },
  "language_info": {
   "codemirror_mode": {
    "name": "ipython",
    "version": 3
   },
   "file_extension": ".py",
   "mimetype": "text/x-python",
   "name": "python",
   "nbconvert_exporter": "python",
   "pygments_lexer": "ipython3",
<<<<<<< HEAD
   "version": "3.6.5"
=======
<<<<<<< HEAD
   "version": "3.6.10"
=======
   "version": "3.8.2"
>>>>>>> 8557b263f7514c244c6bdaba2b9794c13f1030f3
>>>>>>> ee6fe327d5f689f448861ca6a79f9b80e24912c6
  }
 },
 "nbformat": 4,
 "nbformat_minor": 2
}
