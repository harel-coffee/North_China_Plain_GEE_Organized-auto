{
 "cells": [
  {
   "cell_type": "code",
   "execution_count": null,
   "metadata": {},
   "outputs": [],
   "source": []
  },
  {
   "cell_type": "markdown",
   "metadata": {},
   "source": [
    "### This Notebook is not included in the manuscript!"
   ]
  },
  {
   "cell_type": "code",
   "execution_count": null,
   "metadata": {},
   "outputs": [],
   "source": []
  },
  {
   "cell_type": "code",
   "execution_count": null,
   "metadata": {},
   "outputs": [],
   "source": []
  },
  {
   "cell_type": "code",
   "execution_count": 1,
   "metadata": {},
   "outputs": [],
   "source": [
    "import ee\n",
    "import geemap\n",
    "import os"
   ]
  },
  {
   "cell_type": "code",
   "execution_count": 5,
   "metadata": {},
   "outputs": [],
   "source": [
    "ee.Initialize()"
   ]
  },
  {
   "cell_type": "code",
   "execution_count": 6,
   "metadata": {},
   "outputs": [],
   "source": [
    "# Inport the Landsat cloud-free composite\n",
    "Landsat_col = ee.ImageCollection([\n",
    "                                    ee.Image(\"users/wang8052664/Cloud_Free_Img/Landsat_cloud_free_2017_2019\"),\n",
    "                                    ee.Image(\"users/wang8052664/Cloud_Free_Img/Landsat_cloud_free_2014_2016\"),\n",
    "                                    ee.Image(\"users/wang8052664/Cloud_Free_Img/Landsat_cloud_free_2011_2013\"),\n",
    "                                    ee.Image(\"users/wang8052664/Cloud_Free_Img/Landsat_cloud_free_2008_2010\"),\n",
    "                                    ee.Image(\"users/wang8052664/Cloud_Free_Img/Landsat_cloud_free_2005_2007\"),\n",
    "                                    ee.Image(\"users/wang8052664/Cloud_Free_Img/Landsat_cloud_free_2002_2004\"),\n",
    "                                    ee.Image(\"users/wang8052664/Cloud_Free_Img/Landsat_cloud_free_1999_2001\"),\n",
    "                                    ee.Image(\"users/wang8052664/Cloud_Free_Img/Landsat_cloud_free_1996_1998\"),\n",
    "                                    ee.Image(\"users/wang8052664/Cloud_Free_Img/Landsat_cloud_free_1993_1995\"),\n",
    "                                    ee.Image(\"users/wang8052664/Cloud_Free_Img/Landsat_cloud_free_1990_1992\")][-1:0:-1]\n",
    "                                )\n",
    "\n",
    "# Import the Fourier imgs\n",
    "Fourier_col = ee.ImageCollection([\n",
    "                                    ee.Image(\"users/wang8052664/North_China_Plain/Fourier_imgs/Fourier_img_2017_2019_harmonic_3\"),\n",
    "                                    ee.Image(\"users/wang8052664/North_China_Plain/Fourier_imgs/Fourier_img_2014_2016_harmonic_3\"),\n",
    "                                    ee.Image(\"users/wang8052664/North_China_Plain/Fourier_imgs/Fourier_img_2011_2013_harmonic_3\"),\n",
    "                                    ee.Image(\"users/wang8052664/North_China_Plain/Fourier_imgs/Fourier_img_2008_2010_harmonic_3\"),\n",
    "                                    ee.Image(\"users/wang8052664/North_China_Plain/Fourier_imgs/Fourier_img_2005_2007_harmonic_3\"),\n",
    "                                    ee.Image(\"users/Jinzhu_Deakin/North_China_Plain/Fourier_img_harmonic_3/Fourier_img_2002_2004_harmonic_3\"),\n",
    "                                    ee.Image(\"users/Jinzhu_Deakin/North_China_Plain/Fourier_img_harmonic_3/Fourier_img_1999_2001_harmonic_3\"),\n",
    "                                    ee.Image(\"users/Jinzhu_Deakin/North_China_Plain/Fourier_img_harmonic_3/Fourier_img_1996_1998_harmonic_3\"),\n",
    "                                    ee.Image(\"users/Jinzhu_Deakin/North_China_Plain/Fourier_img_harmonic_3/Fourier_img_1993_1995_harmonic_3\"),\n",
    "                                    ee.Image(\"users/Jinzhu_Deakin/North_China_Plain/Fourier_img_harmonic_3/Fourier_img_1990_1992_harmonic_3\")][-1:0:-1]\n",
    "                                )\n",
    "\n",
    "# Define a rectangle near SHANGQIU city\n",
    "Shangqiu = ee.Geometry.Polygon(\n",
    "        [[[115.3439643510784, 34.633218262614314],\n",
    "          [115.3439643510784, 34.1663737938839],\n",
    "          [115.98254467334402, 34.1663737938839],\n",
    "          [115.98254467334402, 34.633218262614314]]])"
   ]
  },
  {
   "cell_type": "code",
   "execution_count": null,
   "metadata": {},
   "outputs": [],
   "source": []
  },
  {
   "cell_type": "code",
   "execution_count": 7,
   "metadata": {},
   "outputs": [],
   "source": [
    "# Define arguments for animation function parameters.\n",
    "Fourier_videoArgs = {\n",
    "  'dimensions': 768,\n",
    "  'region': Shangqiu,\n",
    "  'framesPerSecond': int(1),\n",
    "  'crs': 'EPSG:3857',\n",
    "  \"bands\":[\"NDVI_cos_3\",\"EVI_cos_3\",\"NDBI_cos_2\"],\n",
    "  \"min\":-140,\n",
    "  \"max\":138\n",
    "}"
   ]
  },
  {
   "cell_type": "code",
   "execution_count": null,
   "metadata": {},
   "outputs": [],
   "source": []
  },
  {
   "cell_type": "code",
   "execution_count": 17,
   "metadata": {},
   "outputs": [
    {
     "name": "stdout",
     "output_type": "stream",
     "text": [
      "https://earthengine.googleapis.com/v1alpha/projects/earthengine-legacy/videoThumbnails/edf2e8682718dffb38c2f37ad9c8b3b4-2510f2bcbaf5e098bc6db4cb26a698be:getPixels\n"
     ]
    }
   ],
   "source": [
    "print(Fourier_col.getVideoThumbURL(Fourier_videoArgs))"
   ]
  },
  {
   "cell_type": "code",
   "execution_count": null,
   "metadata": {},
   "outputs": [],
   "source": []
  },
  {
   "cell_type": "code",
   "execution_count": 10,
   "metadata": {},
   "outputs": [],
   "source": [
    "Fourier_gif = './Fourier.gif'\n",
    "Landsat_gif = './Landsat.gif'\n",
    "\n",
    "Fourier_txt_gif = './Fourier_txt.gif'\n",
    "Fourier_txt_gif = './Landsat_txt.gif'"
   ]
  },
  {
   "cell_type": "code",
   "execution_count": 11,
   "metadata": {},
   "outputs": [
    {
     "data": {
      "application/vnd.jupyter.widget-view+json": {
       "model_id": "646a5a93676346ecb6c76d3bc20c6668",
       "version_major": 2,
       "version_minor": 0
      },
      "text/plain": [
       "Output()"
      ]
     },
     "metadata": {},
     "output_type": "display_data"
    }
   ],
   "source": [
    "geemap.show_image(Fourier_gif)"
   ]
  },
  {
   "cell_type": "code",
   "execution_count": null,
   "metadata": {},
   "outputs": [],
   "source": []
  },
  {
   "cell_type": "code",
   "execution_count": 24,
   "metadata": {},
   "outputs": [
    {
     "data": {
      "text/plain": [
       "['1990_1992',\n",
       " '1993_1995',\n",
       " '1996_1998',\n",
       " '1999_2001',\n",
       " '2002_2004',\n",
       " '2005_2007',\n",
       " '2008_2010',\n",
       " '2011_2013',\n",
       " '2014_2016',\n",
       " '2017_2019']"
      ]
     },
     "execution_count": 24,
     "metadata": {},
     "output_type": "execute_result"
    }
   ],
   "source": [
    "Year_seq = [f'{i}_{i+2}' for i in range(1990,2018,3)]\n",
    "Year_seq"
   ]
  },
  {
   "cell_type": "code",
   "execution_count": 22,
   "metadata": {},
   "outputs": [],
   "source": [
    "geemap.add_text_to_gif(Fourier_gif, Fourier_txt_gif, xy=('10%', '10%'), text_sequence=Year_seq, \n",
    "                       font_color='black',font_size=40,duration=500,\n",
    "                      progress_bar_color='blue',)"
   ]
  },
  {
   "cell_type": "code",
   "execution_count": 23,
   "metadata": {},
   "outputs": [
    {
     "data": {
      "application/vnd.jupyter.widget-view+json": {
       "model_id": "2f555b5a29244bbf87e1292fedc32011",
       "version_major": 2,
       "version_minor": 0
      },
      "text/plain": [
       "Output()"
      ]
     },
     "metadata": {},
     "output_type": "display_data"
    }
   ],
   "source": [
    "geemap.show_image(Fourier_txt_gif)"
   ]
  },
  {
   "cell_type": "code",
   "execution_count": null,
   "metadata": {},
   "outputs": [],
   "source": []
  },
  {
   "cell_type": "code",
   "execution_count": null,
   "metadata": {},
   "outputs": [],
   "source": []
  },
  {
   "cell_type": "code",
   "execution_count": null,
   "metadata": {},
   "outputs": [],
   "source": []
  },
  {
   "cell_type": "code",
   "execution_count": null,
   "metadata": {},
   "outputs": [],
   "source": []
  },
  {
   "cell_type": "code",
   "execution_count": null,
   "metadata": {},
   "outputs": [],
   "source": []
  },
  {
   "cell_type": "code",
   "execution_count": null,
   "metadata": {},
   "outputs": [],
   "source": []
  },
  {
   "cell_type": "code",
   "execution_count": null,
   "metadata": {},
   "outputs": [],
   "source": []
  },
  {
   "cell_type": "code",
   "execution_count": null,
   "metadata": {},
   "outputs": [],
   "source": []
  },
  {
   "cell_type": "code",
   "execution_count": null,
   "metadata": {},
   "outputs": [],
   "source": []
  }
 ],
 "metadata": {
  "kernelspec": {
   "display_name": "Python 3",
   "language": "python",
   "name": "python3"
  },
  "language_info": {
   "codemirror_mode": {
    "name": "ipython",
    "version": 3
   },
   "file_extension": ".py",
   "mimetype": "text/x-python",
   "name": "python",
   "nbconvert_exporter": "python",
   "pygments_lexer": "ipython3",
   "version": "3.7.3"
  }
 },
 "nbformat": 4,
 "nbformat_minor": 2
}
