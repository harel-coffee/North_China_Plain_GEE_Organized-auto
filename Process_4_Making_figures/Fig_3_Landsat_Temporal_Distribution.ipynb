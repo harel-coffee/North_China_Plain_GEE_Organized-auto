{
 "cells": [
  {
   "cell_type": "code",
   "execution_count": 1,
   "metadata": {},
   "outputs": [],
   "source": [
    "import ee\n",
    "import pandas as pd\n",
    "import numpy as np\n",
    "import seaborn as sns\n",
    "from matplotlib import pyplot as plt"
   ]
  },
  {
   "cell_type": "code",
   "execution_count": null,
   "metadata": {},
   "outputs": [],
   "source": []
  },
  {
   "cell_type": "code",
   "execution_count": 2,
   "metadata": {},
   "outputs": [],
   "source": [
    "ee.Initialize()"
   ]
  },
  {
   "cell_type": "code",
   "execution_count": null,
   "metadata": {},
   "outputs": [],
   "source": []
  },
  {
   "cell_type": "code",
   "execution_count": 3,
   "metadata": {},
   "outputs": [],
   "source": [
    "North_China_Plain_Boundary = ee.FeatureCollection(\"users/wangjinzhulala/North_China_Plain_Python/Boundary_shp/North_China_Plain_Boundary\")"
   ]
  },
  {
   "cell_type": "code",
   "execution_count": null,
   "metadata": {},
   "outputs": [],
   "source": []
  },
  {
   "cell_type": "code",
   "execution_count": null,
   "metadata": {},
   "outputs": [],
   "source": []
  },
  {
   "cell_type": "markdown",
   "metadata": {},
   "source": [
    "### Fig_3_1_A heat map of Landsat data"
   ]
  },
  {
   "cell_type": "code",
   "execution_count": null,
   "metadata": {},
   "outputs": [],
   "source": []
  },
  {
   "cell_type": "code",
   "execution_count": 8,
   "metadata": {},
   "outputs": [],
   "source": [
    "# get the Landsat TOA data\n",
    "Landsat_5 = ee.ImageCollection(\"LANDSAT/LT05/C01/T1_TOA\").filterDate('1990-01-01','2010-12-31').filterBounds(North_China_Plain_Boundary)\n",
    "Landsat_7 = ee.ImageCollection(\"LANDSAT/LE07/C01/T1_TOA\").filterDate('2011-01-01','2013-12-31').filterBounds(North_China_Plain_Boundary)\n",
    "Landsat_8 = ee.ImageCollection(\"LANDSAT/LC08/C01/T1_TOA\").filterDate('2014-01-01','2019-12-31').filterBounds(North_China_Plain_Boundary)"
   ]
  },
  {
   "cell_type": "code",
   "execution_count": null,
   "metadata": {},
   "outputs": [],
   "source": []
  },
  {
   "cell_type": "code",
   "execution_count": 82,
   "metadata": {},
   "outputs": [],
   "source": [
    "# Calculate how many Landsat images are included\n",
    "\n",
    "# ID = []\n",
    "\n",
    "# for year in range(1990,2020):   \n",
    "        \n",
    "#     year_start = f'{year}-01-01'\n",
    "#     year_end   = f'{year}-12-31'\n",
    "\n",
    "#     if   year <= 2010:            \n",
    "#         year_Landsat = Landsat_5.filterDate(year_start,year_end)\n",
    "\n",
    "#     elif year <= 2013:\n",
    "#         year_Landsat = Landsat_7.filterDate(year_start,year_end)\n",
    "\n",
    "#     elif year <= 2019:\n",
    "#         year_Landsat = Landsat_8.filterDate(year_start,year_end)\n",
    "    \n",
    "    \n",
    "#     # get the \"id\"\n",
    "#     Info_fe_col = year_Landsat.map(lambda x : ee.Feature(ee.Geometry.Point(0,0),{'id':x.id()}))\n",
    "#     Info_list   = Info_fe_col.getInfo()['features']\n",
    "#     Info        = [d['id'] for d in Info_list]\n",
    "    \n",
    "#     # add the info into ID\n",
    "#     ID.extend(Info)\n",
    "    \n",
    "#     # print out the process\n",
    "#     print(f'Retrive info of year {year} complete!')"
   ]
  },
  {
   "cell_type": "code",
   "execution_count": null,
   "metadata": {},
   "outputs": [],
   "source": []
  },
  {
   "cell_type": "code",
   "execution_count": 45,
   "metadata": {},
   "outputs": [],
   "source": [
    "# # get the Sensor,Path,Date information\n",
    "# Sensor = [s.split('_')[0] for s in ID]\n",
    "# Path   = [s.split('_')[1] for s in ID]\n",
    "# Date   = [s.split('_')[2] for s in ID]\n",
    "\n",
    "# # create a df from Sensor, Path, Date\n",
    "# ID_df = pd.DataFrame([Sensor,Path,Date]).T\n",
    "# ID_df.columns = ['Sensor','Path','Date']\n",
    "\n",
    "# # create Year and Month column\n",
    "# ID_df['Year'] = ID_df['Date'].apply(lambda x:x[:4])\n",
    "# ID_df['Month'] = ID_df['Date'].apply(lambda x:x[4:6])\n",
    "\n",
    "# # save the df to csv\n",
    "# ID_df.to_csv('./Calculationg_result/Fig_3_Landsat_distribution.csv',index =False)\n",
    "\n",
    "# load the df \n",
    "ID_df = pd.read_csv('./Calculationg_result/Fig_3_Landsat_distribution.csv')"
   ]
  },
  {
   "cell_type": "code",
   "execution_count": null,
   "metadata": {},
   "outputs": [],
   "source": []
  },
  {
   "cell_type": "code",
   "execution_count": null,
   "metadata": {},
   "outputs": [],
   "source": []
  },
  {
   "cell_type": "code",
   "execution_count": null,
   "metadata": {},
   "outputs": [],
   "source": []
  },
  {
   "cell_type": "code",
   "execution_count": 107,
   "metadata": {},
   "outputs": [
    {
     "name": "stderr",
     "output_type": "stream",
     "text": [
      "C:\\Users\\wangj\\Anaconda3\\envs\\ee_py3\\lib\\site-packages\\ipykernel_launcher.py:2: SettingWithCopyWarning: \n",
      "A value is trying to be set on a copy of a slice from a DataFrame.\n",
      "Try using .loc[row_indexer,col_indexer] = value instead\n",
      "\n",
      "See the caveats in the documentation: https://pandas.pydata.org/pandas-docs/stable/user_guide/indexing.html#returning-a-view-versus-a-copy\n",
      "  \n"
     ]
    }
   ],
   "source": [
    "tmp = ID_df[['Year','Month']]\n",
    "tmp['One'] = 1\n",
    "tt = tmp.groupby(['Year','Month']).sum().unstack(0)\n",
    "tt.columns = range(1990,2020)\n",
    "\n",
    "tt.sort_index(ascending=False,inplace=True)"
   ]
  },
  {
   "cell_type": "code",
   "execution_count": null,
   "metadata": {},
   "outputs": [],
   "source": []
  },
  {
   "cell_type": "code",
   "execution_count": 108,
   "metadata": {},
   "outputs": [
    {
     "data": {
      "text/plain": [
       "<matplotlib.axes._subplots.AxesSubplot at 0x2acbea1c0f0>"
      ]
     },
     "execution_count": 108,
     "metadata": {},
     "output_type": "execute_result"
    },
    {
     "data": {
      "image/png": "[encoded data removed]",
      "text/plain": [
       "<Figure size 1152x720 with 2 Axes>"
      ]
     },
     "metadata": {
      "needs_background": "light"
     },
     "output_type": "display_data"
    }
   ],
   "source": [
    "plt.figure(figsize=(16,10))\n",
    "sns.heatmap(tt,linecolor='white',linewidths=1,cmap='coolwarm')"
   ]
  },
  {
   "cell_type": "code",
   "execution_count": null,
   "metadata": {},
   "outputs": [],
   "source": []
  },
  {
   "cell_type": "code",
   "execution_count": null,
   "metadata": {},
   "outputs": [],
   "source": []
  },
  {
   "cell_type": "code",
   "execution_count": null,
   "metadata": {},
   "outputs": [],
   "source": []
  },
  {
   "cell_type": "markdown",
   "metadata": {},
   "source": [
    "### Fig_3_2_The landsat overlay map"
   ]
  },
  {
   "cell_type": "code",
   "execution_count": null,
   "metadata": {},
   "outputs": [],
   "source": []
  },
  {
   "cell_type": "code",
   "execution_count": 118,
   "metadata": {},
   "outputs": [],
   "source": [
    "# get the mask img, which indicate the footprint the landsat img, where 1 \n",
    "# mean valid pixel and 0 indicate invalid pixel\n",
    "\n",
    "Landsat_5_sum = Landsat_5.map(lambda img: img.mask().reduce('min')).sum()\n",
    "Landsat_7_sum = Landsat_7.map(lambda img: img.mask().reduce('min')).sum()\n",
    "Landsat_8_sum = Landsat_8.map(lambda img: img.mask().reduce('min')).sum()\n",
    "\n",
    "\n",
    "# define a geometry for export\n",
    "landsat_8_raw = ee.ImageCollection(\"LANDSAT/LC08/C01/T1\")\\\n",
    "                  .filterDate('2019-01-01','2019-12-31')\\\n",
    "                  .filterBounds(North_China_Plain_Boundary)\n",
    "\n",
    "export_region = landsat_8_raw.geometry().bounds()"
   ]
  },
  {
   "cell_type": "code",
   "execution_count": null,
   "metadata": {},
   "outputs": [],
   "source": []
  },
  {
   "cell_type": "code",
   "execution_count": 119,
   "metadata": {},
   "outputs": [
    {
     "name": "stdout",
     "output_type": "stream",
     "text": [
      "Exporting Landsat_5_sum successful!\n",
      "Exporting Landsat_7_sum successful!\n",
      "Exporting Landsat_8_sum successful!\n"
     ]
    }
   ],
   "source": [
    "for img,name in zip([Landsat_5_sum,Landsat_7_sum,Landsat_8_sum],\n",
    "                  ['Landsat_5_sum','Landsat_7_sum','Landsat_8_sum']):\n",
    "    \n",
    "    # export to Google Storage\n",
    "    task = ee.batch.Export.image.toCloudStorage(image          = img.toUint16(),\n",
    "                                                description    = name,\n",
    "                                                bucket         = 'north_china_plain',\n",
    "                                                fileNamePrefix = name,\n",
    "                                                region         = export_region,\n",
    "                                                scale          = 30,\n",
    "                                                maxPixels      = int(1e13),\n",
    "                                                skipEmptyTiles = True)\n",
    "    task.start()\n",
    "    \n",
    "    print(f'Exporting {name} successful!')\n",
    "    "
   ]
  },
  {
   "cell_type": "code",
   "execution_count": null,
   "metadata": {},
   "outputs": [],
   "source": []
  },
  {
   "cell_type": "code",
   "execution_count": null,
   "metadata": {},
   "outputs": [],
   "source": []
  },
  {
   "cell_type": "code",
   "execution_count": null,
   "metadata": {},
   "outputs": [],
   "source": []
  },
  {
   "cell_type": "code",
   "execution_count": null,
   "metadata": {},
   "outputs": [],
   "source": []
  },
  {
   "cell_type": "code",
   "execution_count": null,
   "metadata": {},
   "outputs": [],
   "source": []
  },
  {
   "cell_type": "code",
   "execution_count": null,
   "metadata": {},
   "outputs": [],
   "source": []
  },
  {
   "cell_type": "code",
   "execution_count": null,
   "metadata": {},
   "outputs": [],
   "source": []
  },
  {
   "cell_type": "code",
   "execution_count": null,
   "metadata": {},
   "outputs": [],
   "source": []
  }
 ],
 "metadata": {
  "kernelspec": {
   "display_name": "Python 3",
   "language": "python",
   "name": "python3"
  },
  "language_info": {
   "codemirror_mode": {
    "name": "ipython",
    "version": 3
   },
   "file_extension": ".py",
   "mimetype": "text/x-python",
   "name": "python",
   "nbconvert_exporter": "python",
   "pygments_lexer": "ipython3",
   "version": "3.7.3"
  }
 },
 "nbformat": 4,
 "nbformat_minor": 2
}
